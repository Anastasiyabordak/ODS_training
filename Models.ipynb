{
 "cells": [
  {
   "cell_type": "markdown",
   "metadata": {},
   "source": [
    "#### Для корректной работы нужно\n",
    "* переместить файлы test.csv & train.csv в директорию data/\n",
    "* скачать [graphviz](http://www.graphviz.org/download)  \n",
    "* вылетает ошибка [“dot.exe” not found in path](https://stackoverflow.com/questions/40632486/dot-exe-not-found-in-path-pydot-on-python-windows-7)"
   ]
  },
  {
   "cell_type": "code",
   "execution_count": 1,
   "metadata": {},
   "outputs": [],
   "source": [
    "import pandas as pd\n",
    "import sys\n",
    "import numpy as np\n",
    "from sklearn.model_selection import train_test_split\n",
    "from sklearn.metrics import mean_squared_error, r2_score\n",
    "from sklearn.preprocessing import StandardScaler  \n",
    "from sklearn.model_selection import cross_validate\n",
    "from sklearn.metrics import recall_score, roc_auc_score,precision_score,accuracy_score,roc_curve,make_scorer\n",
    "import matplotlib.pyplot as plt\n",
    "pd.options.mode.chained_assignment = None "
   ]
  },
  {
   "cell_type": "code",
   "execution_count": 2,
   "metadata": {
    "scrolled": false
   },
   "outputs": [
    {
     "data": {
      "text/html": [
       "<div>\n",
       "<style scoped>\n",
       "    .dataframe tbody tr th:only-of-type {\n",
       "        vertical-align: middle;\n",
       "    }\n",
       "\n",
       "    .dataframe tbody tr th {\n",
       "        vertical-align: top;\n",
       "    }\n",
       "\n",
       "    .dataframe thead th {\n",
       "        text-align: right;\n",
       "    }\n",
       "</style>\n",
       "<table border=\"1\" class=\"dataframe\">\n",
       "  <thead>\n",
       "    <tr style=\"text-align: right;\">\n",
       "      <th></th>\n",
       "      <th>loan_amnt</th>\n",
       "      <th>term</th>\n",
       "      <th>int_rate</th>\n",
       "      <th>installment</th>\n",
       "      <th>grade</th>\n",
       "      <th>sub_grade</th>\n",
       "      <th>emp_title</th>\n",
       "      <th>emp_length</th>\n",
       "      <th>home_ownership</th>\n",
       "      <th>annual_inc</th>\n",
       "      <th>...</th>\n",
       "      <th>total_acc</th>\n",
       "      <th>initial_list_status</th>\n",
       "      <th>collections_12_mths_ex_med</th>\n",
       "      <th>policy_code</th>\n",
       "      <th>application_type</th>\n",
       "      <th>acc_now_delinq</th>\n",
       "      <th>tot_coll_amt</th>\n",
       "      <th>tot_cur_bal</th>\n",
       "      <th>total_rev_hi_lim</th>\n",
       "      <th>record_id</th>\n",
       "    </tr>\n",
       "  </thead>\n",
       "  <tbody>\n",
       "    <tr>\n",
       "      <th>0</th>\n",
       "      <td>15000.0</td>\n",
       "      <td>36 months</td>\n",
       "      <td>11.99</td>\n",
       "      <td>498.15</td>\n",
       "      <td>B</td>\n",
       "      <td>B3</td>\n",
       "      <td>Quality Assurance Specialist</td>\n",
       "      <td>4 years</td>\n",
       "      <td>MORTGAGE</td>\n",
       "      <td>70000.0</td>\n",
       "      <td>...</td>\n",
       "      <td>32.0</td>\n",
       "      <td>f</td>\n",
       "      <td>0.0</td>\n",
       "      <td>1.0</td>\n",
       "      <td>INDIVIDUAL</td>\n",
       "      <td>0.0</td>\n",
       "      <td>0.0</td>\n",
       "      <td>295215.0</td>\n",
       "      <td>20500.0</td>\n",
       "      <td>453246940</td>\n",
       "    </tr>\n",
       "    <tr>\n",
       "      <th>1</th>\n",
       "      <td>3725.0</td>\n",
       "      <td>36 months</td>\n",
       "      <td>6.03</td>\n",
       "      <td>113.38</td>\n",
       "      <td>A</td>\n",
       "      <td>A1</td>\n",
       "      <td>NaN</td>\n",
       "      <td>NaN</td>\n",
       "      <td>MORTGAGE</td>\n",
       "      <td>52260.0</td>\n",
       "      <td>...</td>\n",
       "      <td>9.0</td>\n",
       "      <td>f</td>\n",
       "      <td>0.0</td>\n",
       "      <td>1.0</td>\n",
       "      <td>INDIVIDUAL</td>\n",
       "      <td>0.0</td>\n",
       "      <td>0.0</td>\n",
       "      <td>25130.0</td>\n",
       "      <td>14200.0</td>\n",
       "      <td>453313687</td>\n",
       "    </tr>\n",
       "    <tr>\n",
       "      <th>2</th>\n",
       "      <td>16000.0</td>\n",
       "      <td>36 months</td>\n",
       "      <td>11.14</td>\n",
       "      <td>524.89</td>\n",
       "      <td>B</td>\n",
       "      <td>B2</td>\n",
       "      <td>KIPP NYC</td>\n",
       "      <td>3 years</td>\n",
       "      <td>RENT</td>\n",
       "      <td>67500.0</td>\n",
       "      <td>...</td>\n",
       "      <td>22.0</td>\n",
       "      <td>f</td>\n",
       "      <td>0.0</td>\n",
       "      <td>1.0</td>\n",
       "      <td>INDIVIDUAL</td>\n",
       "      <td>0.0</td>\n",
       "      <td>193.0</td>\n",
       "      <td>41737.0</td>\n",
       "      <td>19448.0</td>\n",
       "      <td>453283543</td>\n",
       "    </tr>\n",
       "    <tr>\n",
       "      <th>3</th>\n",
       "      <td>4200.0</td>\n",
       "      <td>36 months</td>\n",
       "      <td>13.33</td>\n",
       "      <td>142.19</td>\n",
       "      <td>C</td>\n",
       "      <td>C3</td>\n",
       "      <td>Receptionist</td>\n",
       "      <td>&lt; 1 year</td>\n",
       "      <td>MORTGAGE</td>\n",
       "      <td>21600.0</td>\n",
       "      <td>...</td>\n",
       "      <td>19.0</td>\n",
       "      <td>w</td>\n",
       "      <td>0.0</td>\n",
       "      <td>1.0</td>\n",
       "      <td>INDIVIDUAL</td>\n",
       "      <td>0.0</td>\n",
       "      <td>165.0</td>\n",
       "      <td>28187.0</td>\n",
       "      <td>14500.0</td>\n",
       "      <td>453447199</td>\n",
       "    </tr>\n",
       "    <tr>\n",
       "      <th>4</th>\n",
       "      <td>6500.0</td>\n",
       "      <td>36 months</td>\n",
       "      <td>12.69</td>\n",
       "      <td>218.05</td>\n",
       "      <td>B</td>\n",
       "      <td>B5</td>\n",
       "      <td>Medtox Laboratories</td>\n",
       "      <td>10+ years</td>\n",
       "      <td>RENT</td>\n",
       "      <td>41000.0</td>\n",
       "      <td>...</td>\n",
       "      <td>12.0</td>\n",
       "      <td>f</td>\n",
       "      <td>0.0</td>\n",
       "      <td>1.0</td>\n",
       "      <td>INDIVIDUAL</td>\n",
       "      <td>0.0</td>\n",
       "      <td>NaN</td>\n",
       "      <td>NaN</td>\n",
       "      <td>NaN</td>\n",
       "      <td>453350283</td>\n",
       "    </tr>\n",
       "  </tbody>\n",
       "</table>\n",
       "<p>5 rows × 36 columns</p>\n",
       "</div>"
      ],
      "text/plain": [
       "   loan_amnt        term  int_rate  installment grade sub_grade  \\\n",
       "0    15000.0   36 months     11.99       498.15     B        B3   \n",
       "1     3725.0   36 months      6.03       113.38     A        A1   \n",
       "2    16000.0   36 months     11.14       524.89     B        B2   \n",
       "3     4200.0   36 months     13.33       142.19     C        C3   \n",
       "4     6500.0   36 months     12.69       218.05     B        B5   \n",
       "\n",
       "                      emp_title emp_length home_ownership  annual_inc  ...  \\\n",
       "0  Quality Assurance Specialist    4 years       MORTGAGE     70000.0  ...   \n",
       "1                           NaN        NaN       MORTGAGE     52260.0  ...   \n",
       "2                     KIPP NYC     3 years           RENT     67500.0  ...   \n",
       "3                  Receptionist   < 1 year       MORTGAGE     21600.0  ...   \n",
       "4           Medtox Laboratories  10+ years           RENT     41000.0  ...   \n",
       "\n",
       "  total_acc initial_list_status  collections_12_mths_ex_med policy_code  \\\n",
       "0      32.0                   f                         0.0         1.0   \n",
       "1       9.0                   f                         0.0         1.0   \n",
       "2      22.0                   f                         0.0         1.0   \n",
       "3      19.0                   w                         0.0         1.0   \n",
       "4      12.0                   f                         0.0         1.0   \n",
       "\n",
       "  application_type acc_now_delinq tot_coll_amt  tot_cur_bal  total_rev_hi_lim  \\\n",
       "0       INDIVIDUAL            0.0          0.0     295215.0           20500.0   \n",
       "1       INDIVIDUAL            0.0          0.0      25130.0           14200.0   \n",
       "2       INDIVIDUAL            0.0        193.0      41737.0           19448.0   \n",
       "3       INDIVIDUAL            0.0        165.0      28187.0           14500.0   \n",
       "4       INDIVIDUAL            0.0          NaN          NaN               NaN   \n",
       "\n",
       "   record_id  \n",
       "0  453246940  \n",
       "1  453313687  \n",
       "2  453283543  \n",
       "3  453447199  \n",
       "4  453350283  \n",
       "\n",
       "[5 rows x 36 columns]"
      ]
     },
     "execution_count": 2,
     "metadata": {},
     "output_type": "execute_result"
    }
   ],
   "source": [
    "train = pd.read_csv('data/train.csv')\n",
    "train.head()"
   ]
  },
  {
   "cell_type": "code",
   "execution_count": 3,
   "metadata": {},
   "outputs": [
    {
     "name": "stdout",
     "output_type": "stream",
     "text": [
      "<class 'pandas.core.frame.DataFrame'>\n",
      "RangeIndex: 200189 entries, 0 to 200188\n",
      "Data columns (total 36 columns):\n",
      "loan_amnt                     200189 non-null float64\n",
      "term                          200189 non-null object\n",
      "int_rate                      200189 non-null float64\n",
      "installment                   200189 non-null float64\n",
      "grade                         200189 non-null object\n",
      "sub_grade                     200189 non-null object\n",
      "emp_title                     189062 non-null object\n",
      "emp_length                    192135 non-null object\n",
      "home_ownership                200189 non-null object\n",
      "annual_inc                    200189 non-null float64\n",
      "verification_status           200189 non-null object\n",
      "issue_d                       200189 non-null object\n",
      "loan_status                   200189 non-null int64\n",
      "pymnt_plan                    200189 non-null object\n",
      "purpose                       200189 non-null object\n",
      "zip_code                      200189 non-null object\n",
      "addr_state                    200189 non-null object\n",
      "dti                           200189 non-null float64\n",
      "delinq_2yrs                   200189 non-null float64\n",
      "earliest_cr_line              200189 non-null object\n",
      "inq_last_6mths                200189 non-null float64\n",
      "mths_since_last_delinq        89621 non-null float64\n",
      "open_acc                      200189 non-null float64\n",
      "pub_rec                       200189 non-null float64\n",
      "revol_bal                     200189 non-null float64\n",
      "revol_util                    200035 non-null float64\n",
      "total_acc                     200189 non-null float64\n",
      "initial_list_status           200189 non-null object\n",
      "collections_12_mths_ex_med    200145 non-null float64\n",
      "policy_code                   200189 non-null float64\n",
      "application_type              200189 non-null object\n",
      "acc_now_delinq                200189 non-null float64\n",
      "tot_coll_amt                  152232 non-null float64\n",
      "tot_cur_bal                   152232 non-null float64\n",
      "total_rev_hi_lim              152232 non-null float64\n",
      "record_id                     200189 non-null int64\n",
      "dtypes: float64(19), int64(2), object(15)\n",
      "memory usage: 55.0+ MB\n"
     ]
    }
   ],
   "source": [
    "train.info()"
   ]
  },
  {
   "cell_type": "markdown",
   "metadata": {},
   "source": [
    "* int_rate - Interest Rate on the loan\n",
    "* annual_inc - Theannual income provided by the borrower during registration\n",
    "* inq_last_6mths -The number of inquiries in past 6 months (excluding auto and mortgage inquiries)\n",
    "* mths_since_last_delinq  - Months since most recent personal finance delinquency.\n",
    "* pub_rec  - Number of derogatory public records\n",
    "* revolBal - Total credit revolving balance\n",
    "* revolUtil - Revolving line utilization rate, or the amount of credit the borrower is using relative to all available revolving credit.\n",
    "* loan_amnt  - The listed amount of the loan applied for by the borrower. If at some point in time, the credit department reduces the loan amount, then it will be reflected in this value.\n",
    "* installment - The monthly payment owed by the borrower if the loan originates.\n",
    "* home_ownership    \n",
    "* emp_title                   \n",
    "* annual_inc                  \n",
    "* verification_status  - Indicates if the co-borrowers' joint income was verified by LC, not verified, or if the income source was verified\n",
    "* purpose                 \n",
    "* dti -  A ratio calculated using the borrower’s total monthly debt payments on the total debt obligations, excluding mortgage and the requested LC loan, divided by the borrower’s self-reported monthly income.\n",
    "* open_acc                  \n",
    "* total_acc                    \n",
    "* initial_list_status - The initial listing status of the loan. Possible values are – W, F           \n",
    "* collections_12_mths_ex_med - Number of collections in 12 months excluding medical collections\n",
    "* application_type - Indicates whether the loan is an individual application or a joint application with two co-borrowers\n",
    "* acc_now_delinq - The number of accounts on which the borrower is now delinquent.\n"
   ]
  },
  {
   "cell_type": "markdown",
   "metadata": {},
   "source": [
    "## Начальная обработка данных:"
   ]
  },
  {
   "cell_type": "code",
   "execution_count": 4,
   "metadata": {},
   "outputs": [],
   "source": [
    "def Nan_killer(x):\n",
    "    x['collections_12_mths_ex_med'] = x['collections_12_mths_ex_med'].fillna(0)\n",
    "    x['revol_util'] = x['revol_util'].fillna(0)\n",
    "    x['tot_coll_amt'] = x['tot_coll_amt'].fillna(0)\n"
   ]
  },
  {
   "cell_type": "code",
   "execution_count": 5,
   "metadata": {},
   "outputs": [],
   "source": [
    "def proc(x,y):\n",
    "    x_train, x_test, y_train, y_test = train_test_split(x, y, test_size=0.3, random_state = 42)\n",
    "    x_train['initial_list_status'] = x_train['initial_list_status'].astype('str').map({'f': 1, 'w': 0}) # Label encoder\n",
    "    x_train['application_type'] = x_train['application_type'].astype('str').map(lambda x: 1 if x == 'INDIVIDUAL' else 0)\n",
    "    x_test['initial_list_status'] = x_test['initial_list_status'].astype('str').map({'f': 1, 'w': 0}) # Label encoder\n",
    "    x_test['application_type'] = x_test['application_type'].astype('str').map(lambda x: 1 if x == 'INDIVIDUAL' else 0)\n",
    "    x_train = pd.get_dummies(x_train, columns = ['purpose','grade','home_ownership'])   # OHE (?????)\n",
    "    x_test = pd.get_dummies(x_test, columns = ['purpose','grade','home_ownership'])\n",
    "    for i in list(x_test): # удаление из тестовых данных столбцов, если их не было в тренировочных\n",
    "        if i not in list(x_train):\n",
    "            list(my_dataframe)\n",
    "            x_test.drop(i, axis=1, inplace=True)\n",
    "    for i in list(x_train): # добавление колонки с нулями, если такой нет в тестовой\n",
    "        if i not in list(x_test):\n",
    "            x_test[i] = 0\n",
    "    \n",
    "\n",
    "    x_test = x_test.reindex(sorted(x_test.columns), axis=1)\n",
    "    x_train = x_train.reindex(sorted(x_test.columns), axis=1)\n",
    "    return x_train, x_test, y_train, y_test"
   ]
  },
  {
   "cell_type": "markdown",
   "metadata": {},
   "source": [
    "## Функция для отображения метрик:\n",
    "* ROC-AUC\n",
    "* precision\n",
    "* recall\n",
    "* accuracy"
   ]
  },
  {
   "cell_type": "code",
   "execution_count": 6,
   "metadata": {},
   "outputs": [],
   "source": [
    "\n",
    "def show_scores(model, x_test, y_test):\n",
    "    pred =  model.predict(x_test)\n",
    "    print('Recall: %.2f' % recall_score(y_test,pred))\n",
    "    print('Precision score: %.2f' % precision_score(y_test,pred))\n",
    "    print('Accuracy score: %.2f' % accuracy_score(y_test, pred))\n",
    " "
   ]
  },
  {
   "cell_type": "code",
   "execution_count": 7,
   "metadata": {},
   "outputs": [],
   "source": [
    "def plot_roc(model, x_test, y_test):  \n",
    "    pred = model.predict_proba(x_test)\n",
    "    print(\"ROC-AUC score: \", roc_auc_score(y_test, pred[:, 1]))\n",
    "    fpr, tpr,_=roc_curve(y_test,pred[:, 1],drop_intermediate=True)\n",
    "    plt.figure()\n",
    "    plt.plot(fpr, tpr, color='red',\n",
    "            lw=2, label='ROC curve')\n",
    "    plt.plot([0, 1], [0, 1], color='blue', lw=2, linestyle='--')\n",
    "    plt.xlabel('FPR')\n",
    "    plt.ylabel('TPR')\n",
    "    plt.title('ROC curve')\n",
    "    plt.show()"
   ]
  },
  {
   "cell_type": "markdown",
   "metadata": {},
   "source": [
    "# Регрессия"
   ]
  },
  {
   "cell_type": "code",
   "execution_count": 8,
   "metadata": {},
   "outputs": [],
   "source": [
    "from sklearn import linear_model\n",
    "from sklearn.tree import DecisionTreeRegressor"
   ]
  },
  {
   "cell_type": "code",
   "execution_count": 9,
   "metadata": {},
   "outputs": [
    {
     "name": "stdout",
     "output_type": "stream",
     "text": [
      "<class 'pandas.core.frame.DataFrame'>\n",
      "RangeIndex: 200189 entries, 0 to 200188\n",
      "Data columns (total 19 columns):\n",
      "annual_inc                    200189 non-null float64\n",
      "collections_12_mths_ex_med    200145 non-null float64\n",
      "initial_list_status           200189 non-null object\n",
      "installment                   200189 non-null float64\n",
      "open_acc                      200189 non-null float64\n",
      "total_acc                     200189 non-null float64\n",
      "dti                           200189 non-null float64\n",
      "purpose                       200189 non-null object\n",
      "grade                         200189 non-null object\n",
      "home_ownership                200189 non-null object\n",
      "inq_last_6mths                200189 non-null float64\n",
      "pub_rec                       200189 non-null float64\n",
      "revol_bal                     200189 non-null float64\n",
      "revol_util                    200035 non-null float64\n",
      "loan_status                   200189 non-null int64\n",
      "tot_coll_amt                  152232 non-null float64\n",
      "loan_amnt                     200189 non-null float64\n",
      "application_type              200189 non-null object\n",
      "acc_now_delinq                200189 non-null float64\n",
      "dtypes: float64(13), int64(1), object(5)\n",
      "memory usage: 29.0+ MB\n"
     ]
    }
   ],
   "source": [
    "y = train[train['int_rate'] >= 0]['int_rate'] # целевой признак\n",
    "x = train.loc[:,['annual_inc','collections_12_mths_ex_med','initial_list_status',\n",
    "                 'installment','open_acc','total_acc','dti','purpose',\n",
    "                 'grade','home_ownership','inq_last_6mths','pub_rec','revol_bal','revol_util','loan_status',\n",
    "                 'tot_coll_amt','loan_amnt','application_type','acc_now_delinq' ] ] # параметры\n",
    "x.info()"
   ]
  },
  {
   "cell_type": "code",
   "execution_count": 10,
   "metadata": {},
   "outputs": [
    {
     "name": "stdout",
     "output_type": "stream",
     "text": [
      "<class 'pandas.core.frame.DataFrame'>\n",
      "RangeIndex: 200189 entries, 0 to 200188\n",
      "Data columns (total 19 columns):\n",
      "annual_inc                    200189 non-null float64\n",
      "collections_12_mths_ex_med    200189 non-null float64\n",
      "initial_list_status           200189 non-null object\n",
      "installment                   200189 non-null float64\n",
      "open_acc                      200189 non-null float64\n",
      "total_acc                     200189 non-null float64\n",
      "dti                           200189 non-null float64\n",
      "purpose                       200189 non-null object\n",
      "grade                         200189 non-null object\n",
      "home_ownership                200189 non-null object\n",
      "inq_last_6mths                200189 non-null float64\n",
      "pub_rec                       200189 non-null float64\n",
      "revol_bal                     200189 non-null float64\n",
      "revol_util                    200189 non-null float64\n",
      "loan_status                   200189 non-null int64\n",
      "tot_coll_amt                  200189 non-null float64\n",
      "loan_amnt                     200189 non-null float64\n",
      "application_type              200189 non-null object\n",
      "acc_now_delinq                200189 non-null float64\n",
      "dtypes: float64(13), int64(1), object(5)\n",
      "memory usage: 29.0+ MB\n"
     ]
    }
   ],
   "source": [
    "#NaN killer\n",
    "Nan_killer(x)\n",
    "x.info()"
   ]
  },
  {
   "cell_type": "code",
   "execution_count": 11,
   "metadata": {},
   "outputs": [
    {
     "data": {
      "text/plain": [
       "annual_inc                    16284\n",
       "collections_12_mths_ex_med        7\n",
       "initial_list_status               2\n",
       "installment                   41347\n",
       "open_acc                         58\n",
       "total_acc                       105\n",
       "dti                            3975\n",
       "purpose                          14\n",
       "grade                             7\n",
       "home_ownership                    6\n",
       "inq_last_6mths                    9\n",
       "pub_rec                          13\n",
       "revol_bal                     44045\n",
       "revol_util                     1180\n",
       "loan_status                       2\n",
       "tot_coll_amt                   3646\n",
       "loan_amnt                      1317\n",
       "application_type                  2\n",
       "acc_now_delinq                    6\n",
       "dtype: int64"
      ]
     },
     "execution_count": 11,
     "metadata": {},
     "output_type": "execute_result"
    }
   ],
   "source": [
    "x.nunique()"
   ]
  },
  {
   "cell_type": "code",
   "execution_count": 12,
   "metadata": {},
   "outputs": [],
   "source": [
    "x_train, x_test, y_train, y_test = proc(x,y)"
   ]
  },
  {
   "cell_type": "code",
   "execution_count": 13,
   "metadata": {},
   "outputs": [
    {
     "name": "stdout",
     "output_type": "stream",
     "text": [
      "<class 'pandas.core.frame.DataFrame'>\n",
      "Int64Index: 140132 entries, 193136 to 121958\n",
      "Data columns (total 43 columns):\n",
      "acc_now_delinq                140132 non-null float64\n",
      "annual_inc                    140132 non-null float64\n",
      "application_type              140132 non-null int64\n",
      "collections_12_mths_ex_med    140132 non-null float64\n",
      "dti                           140132 non-null float64\n",
      "grade_A                       140132 non-null uint8\n",
      "grade_B                       140132 non-null uint8\n",
      "grade_C                       140132 non-null uint8\n",
      "grade_D                       140132 non-null uint8\n",
      "grade_E                       140132 non-null uint8\n",
      "grade_F                       140132 non-null uint8\n",
      "grade_G                       140132 non-null uint8\n",
      "home_ownership_ANY            140132 non-null uint8\n",
      "home_ownership_MORTGAGE       140132 non-null uint8\n",
      "home_ownership_NONE           140132 non-null uint8\n",
      "home_ownership_OTHER          140132 non-null uint8\n",
      "home_ownership_OWN            140132 non-null uint8\n",
      "home_ownership_RENT           140132 non-null uint8\n",
      "initial_list_status           140132 non-null int64\n",
      "inq_last_6mths                140132 non-null float64\n",
      "installment                   140132 non-null float64\n",
      "loan_amnt                     140132 non-null float64\n",
      "loan_status                   140132 non-null int64\n",
      "open_acc                      140132 non-null float64\n",
      "pub_rec                       140132 non-null float64\n",
      "purpose_car                   140132 non-null uint8\n",
      "purpose_credit_card           140132 non-null uint8\n",
      "purpose_debt_consolidation    140132 non-null uint8\n",
      "purpose_educational           140132 non-null uint8\n",
      "purpose_home_improvement      140132 non-null uint8\n",
      "purpose_house                 140132 non-null uint8\n",
      "purpose_major_purchase        140132 non-null uint8\n",
      "purpose_medical               140132 non-null uint8\n",
      "purpose_moving                140132 non-null uint8\n",
      "purpose_other                 140132 non-null uint8\n",
      "purpose_renewable_energy      140132 non-null uint8\n",
      "purpose_small_business        140132 non-null uint8\n",
      "purpose_vacation              140132 non-null uint8\n",
      "purpose_wedding               140132 non-null uint8\n",
      "revol_bal                     140132 non-null float64\n",
      "revol_util                    140132 non-null float64\n",
      "tot_coll_amt                  140132 non-null float64\n",
      "total_acc                     140132 non-null float64\n",
      "dtypes: float64(13), int64(3), uint8(27)\n",
      "memory usage: 21.8 MB\n"
     ]
    }
   ],
   "source": [
    "x_train.info()"
   ]
  },
  {
   "cell_type": "code",
   "execution_count": 14,
   "metadata": {},
   "outputs": [
    {
     "name": "stdout",
     "output_type": "stream",
     "text": [
      "<class 'pandas.core.frame.DataFrame'>\n",
      "Int64Index: 60057 entries, 8644 to 191094\n",
      "Data columns (total 43 columns):\n",
      "acc_now_delinq                60057 non-null float64\n",
      "annual_inc                    60057 non-null float64\n",
      "application_type              60057 non-null int64\n",
      "collections_12_mths_ex_med    60057 non-null float64\n",
      "dti                           60057 non-null float64\n",
      "grade_A                       60057 non-null uint8\n",
      "grade_B                       60057 non-null uint8\n",
      "grade_C                       60057 non-null uint8\n",
      "grade_D                       60057 non-null uint8\n",
      "grade_E                       60057 non-null uint8\n",
      "grade_F                       60057 non-null uint8\n",
      "grade_G                       60057 non-null uint8\n",
      "home_ownership_ANY            60057 non-null int64\n",
      "home_ownership_MORTGAGE       60057 non-null uint8\n",
      "home_ownership_NONE           60057 non-null uint8\n",
      "home_ownership_OTHER          60057 non-null uint8\n",
      "home_ownership_OWN            60057 non-null uint8\n",
      "home_ownership_RENT           60057 non-null uint8\n",
      "initial_list_status           60057 non-null int64\n",
      "inq_last_6mths                60057 non-null float64\n",
      "installment                   60057 non-null float64\n",
      "loan_amnt                     60057 non-null float64\n",
      "loan_status                   60057 non-null int64\n",
      "open_acc                      60057 non-null float64\n",
      "pub_rec                       60057 non-null float64\n",
      "purpose_car                   60057 non-null uint8\n",
      "purpose_credit_card           60057 non-null uint8\n",
      "purpose_debt_consolidation    60057 non-null uint8\n",
      "purpose_educational           60057 non-null uint8\n",
      "purpose_home_improvement      60057 non-null uint8\n",
      "purpose_house                 60057 non-null uint8\n",
      "purpose_major_purchase        60057 non-null uint8\n",
      "purpose_medical               60057 non-null uint8\n",
      "purpose_moving                60057 non-null uint8\n",
      "purpose_other                 60057 non-null uint8\n",
      "purpose_renewable_energy      60057 non-null uint8\n",
      "purpose_small_business        60057 non-null uint8\n",
      "purpose_vacation              60057 non-null uint8\n",
      "purpose_wedding               60057 non-null uint8\n",
      "revol_bal                     60057 non-null float64\n",
      "revol_util                    60057 non-null float64\n",
      "tot_coll_amt                  60057 non-null float64\n",
      "total_acc                     60057 non-null float64\n",
      "dtypes: float64(13), int64(4), uint8(26)\n",
      "memory usage: 9.7 MB\n"
     ]
    }
   ],
   "source": [
    "x_test.info()"
   ]
  },
  {
   "cell_type": "markdown",
   "metadata": {},
   "source": [
    "## Линейная регрессия  + Дерево решений (регрессия)"
   ]
  },
  {
   "cell_type": "code",
   "execution_count": 15,
   "metadata": {},
   "outputs": [],
   "source": [
    "lm = linear_model.Lasso(alpha=0.01,random_state = 42).fit(x_train,y_train)\n",
    "dec_reg = DecisionTreeRegressor(criterion='mse',max_depth=10, random_state=42, min_samples_leaf = 3).fit(x_train,y_train)"
   ]
  },
  {
   "cell_type": "code",
   "execution_count": 16,
   "metadata": {},
   "outputs": [],
   "source": [
    "from sklearn.metrics import r2_score"
   ]
  },
  {
   "cell_type": "code",
   "execution_count": 17,
   "metadata": {},
   "outputs": [
    {
     "data": {
      "text/plain": [
       "0.9146765103292894"
      ]
     },
     "execution_count": 17,
     "metadata": {},
     "output_type": "execute_result"
    }
   ],
   "source": [
    "r2_score(y_test, lm.predict(x_test))"
   ]
  },
  {
   "cell_type": "code",
   "execution_count": 18,
   "metadata": {},
   "outputs": [
    {
     "data": {
      "text/plain": [
       "0.9280174951473175"
      ]
     },
     "execution_count": 18,
     "metadata": {},
     "output_type": "execute_result"
    }
   ],
   "source": [
    "r2_score(y_test, dec_reg.predict(x_test))"
   ]
  },
  {
   "cell_type": "markdown",
   "metadata": {},
   "source": [
    "# Бинарная классификация"
   ]
  },
  {
   "cell_type": "code",
   "execution_count": 19,
   "metadata": {},
   "outputs": [
    {
     "name": "stdout",
     "output_type": "stream",
     "text": [
      "<class 'pandas.core.frame.DataFrame'>\n",
      "RangeIndex: 200189 entries, 0 to 200188\n",
      "Data columns (total 19 columns):\n",
      "annual_inc                    200189 non-null float64\n",
      "int_rate                      200189 non-null float64\n",
      "collections_12_mths_ex_med    200145 non-null float64\n",
      "initial_list_status           200189 non-null object\n",
      "installment                   200189 non-null float64\n",
      "open_acc                      200189 non-null float64\n",
      "total_acc                     200189 non-null float64\n",
      "dti                           200189 non-null float64\n",
      "purpose                       200189 non-null object\n",
      "grade                         200189 non-null object\n",
      "home_ownership                200189 non-null object\n",
      "inq_last_6mths                200189 non-null float64\n",
      "pub_rec                       200189 non-null float64\n",
      "revol_bal                     200189 non-null float64\n",
      "revol_util                    200035 non-null float64\n",
      "tot_coll_amt                  152232 non-null float64\n",
      "loan_amnt                     200189 non-null float64\n",
      "application_type              200189 non-null object\n",
      "acc_now_delinq                200189 non-null float64\n",
      "dtypes: float64(14), object(5)\n",
      "memory usage: 29.0+ MB\n"
     ]
    }
   ],
   "source": [
    "y = train['loan_status'] # целевой признак\n",
    "x = train.loc[:,['annual_inc','int_rate','collections_12_mths_ex_med','initial_list_status',\n",
    "                 'installment','open_acc','total_acc','dti','purpose',\n",
    "                 'grade','home_ownership','inq_last_6mths',\n",
    "                 'pub_rec','revol_bal','revol_util',\n",
    "                 'tot_coll_amt','loan_amnt','application_type','acc_now_delinq' ] ] # параметры\n",
    "x.info()"
   ]
  },
  {
   "cell_type": "code",
   "execution_count": 20,
   "metadata": {},
   "outputs": [
    {
     "name": "stdout",
     "output_type": "stream",
     "text": [
      "<class 'pandas.core.frame.DataFrame'>\n",
      "RangeIndex: 200189 entries, 0 to 200188\n",
      "Data columns (total 19 columns):\n",
      "annual_inc                    200189 non-null float64\n",
      "int_rate                      200189 non-null float64\n",
      "collections_12_mths_ex_med    200189 non-null float64\n",
      "initial_list_status           200189 non-null object\n",
      "installment                   200189 non-null float64\n",
      "open_acc                      200189 non-null float64\n",
      "total_acc                     200189 non-null float64\n",
      "dti                           200189 non-null float64\n",
      "purpose                       200189 non-null object\n",
      "grade                         200189 non-null object\n",
      "home_ownership                200189 non-null object\n",
      "inq_last_6mths                200189 non-null float64\n",
      "pub_rec                       200189 non-null float64\n",
      "revol_bal                     200189 non-null float64\n",
      "revol_util                    200189 non-null float64\n",
      "tot_coll_amt                  200189 non-null float64\n",
      "loan_amnt                     200189 non-null float64\n",
      "application_type              200189 non-null object\n",
      "acc_now_delinq                200189 non-null float64\n",
      "dtypes: float64(14), object(5)\n",
      "memory usage: 29.0+ MB\n"
     ]
    }
   ],
   "source": [
    "#NaN killer\n",
    "Nan_killer(x)\n",
    "x.info()"
   ]
  },
  {
   "cell_type": "code",
   "execution_count": 21,
   "metadata": {},
   "outputs": [],
   "source": [
    "x_train, x_test, y_train, y_test = proc(x,y)"
   ]
  },
  {
   "cell_type": "code",
   "execution_count": 22,
   "metadata": {},
   "outputs": [
    {
     "name": "stdout",
     "output_type": "stream",
     "text": [
      "<class 'pandas.core.frame.DataFrame'>\n",
      "Int64Index: 140132 entries, 193136 to 121958\n",
      "Data columns (total 43 columns):\n",
      "acc_now_delinq                140132 non-null float64\n",
      "annual_inc                    140132 non-null float64\n",
      "application_type              140132 non-null int64\n",
      "collections_12_mths_ex_med    140132 non-null float64\n",
      "dti                           140132 non-null float64\n",
      "grade_A                       140132 non-null uint8\n",
      "grade_B                       140132 non-null uint8\n",
      "grade_C                       140132 non-null uint8\n",
      "grade_D                       140132 non-null uint8\n",
      "grade_E                       140132 non-null uint8\n",
      "grade_F                       140132 non-null uint8\n",
      "grade_G                       140132 non-null uint8\n",
      "home_ownership_ANY            140132 non-null uint8\n",
      "home_ownership_MORTGAGE       140132 non-null uint8\n",
      "home_ownership_NONE           140132 non-null uint8\n",
      "home_ownership_OTHER          140132 non-null uint8\n",
      "home_ownership_OWN            140132 non-null uint8\n",
      "home_ownership_RENT           140132 non-null uint8\n",
      "initial_list_status           140132 non-null int64\n",
      "inq_last_6mths                140132 non-null float64\n",
      "installment                   140132 non-null float64\n",
      "int_rate                      140132 non-null float64\n",
      "loan_amnt                     140132 non-null float64\n",
      "open_acc                      140132 non-null float64\n",
      "pub_rec                       140132 non-null float64\n",
      "purpose_car                   140132 non-null uint8\n",
      "purpose_credit_card           140132 non-null uint8\n",
      "purpose_debt_consolidation    140132 non-null uint8\n",
      "purpose_educational           140132 non-null uint8\n",
      "purpose_home_improvement      140132 non-null uint8\n",
      "purpose_house                 140132 non-null uint8\n",
      "purpose_major_purchase        140132 non-null uint8\n",
      "purpose_medical               140132 non-null uint8\n",
      "purpose_moving                140132 non-null uint8\n",
      "purpose_other                 140132 non-null uint8\n",
      "purpose_renewable_energy      140132 non-null uint8\n",
      "purpose_small_business        140132 non-null uint8\n",
      "purpose_vacation              140132 non-null uint8\n",
      "purpose_wedding               140132 non-null uint8\n",
      "revol_bal                     140132 non-null float64\n",
      "revol_util                    140132 non-null float64\n",
      "tot_coll_amt                  140132 non-null float64\n",
      "total_acc                     140132 non-null float64\n",
      "dtypes: float64(14), int64(2), uint8(27)\n",
      "memory usage: 21.8 MB\n"
     ]
    }
   ],
   "source": [
    "x_train.info()"
   ]
  },
  {
   "cell_type": "code",
   "execution_count": 23,
   "metadata": {},
   "outputs": [
    {
     "name": "stdout",
     "output_type": "stream",
     "text": [
      "<class 'pandas.core.frame.DataFrame'>\n",
      "Int64Index: 140132 entries, 193136 to 121958\n",
      "Data columns (total 43 columns):\n",
      "acc_now_delinq                140132 non-null float64\n",
      "annual_inc                    140132 non-null float64\n",
      "application_type              140132 non-null int64\n",
      "collections_12_mths_ex_med    140132 non-null float64\n",
      "dti                           140132 non-null float64\n",
      "grade_A                       140132 non-null uint8\n",
      "grade_B                       140132 non-null uint8\n",
      "grade_C                       140132 non-null uint8\n",
      "grade_D                       140132 non-null uint8\n",
      "grade_E                       140132 non-null uint8\n",
      "grade_F                       140132 non-null uint8\n",
      "grade_G                       140132 non-null uint8\n",
      "home_ownership_ANY            140132 non-null uint8\n",
      "home_ownership_MORTGAGE       140132 non-null uint8\n",
      "home_ownership_NONE           140132 non-null uint8\n",
      "home_ownership_OTHER          140132 non-null uint8\n",
      "home_ownership_OWN            140132 non-null uint8\n",
      "home_ownership_RENT           140132 non-null uint8\n",
      "initial_list_status           140132 non-null int64\n",
      "inq_last_6mths                140132 non-null float64\n",
      "installment                   140132 non-null float64\n",
      "int_rate                      140132 non-null float64\n",
      "loan_amnt                     140132 non-null float64\n",
      "open_acc                      140132 non-null float64\n",
      "pub_rec                       140132 non-null float64\n",
      "purpose_car                   140132 non-null uint8\n",
      "purpose_credit_card           140132 non-null uint8\n",
      "purpose_debt_consolidation    140132 non-null uint8\n",
      "purpose_educational           140132 non-null uint8\n",
      "purpose_home_improvement      140132 non-null uint8\n",
      "purpose_house                 140132 non-null uint8\n",
      "purpose_major_purchase        140132 non-null uint8\n",
      "purpose_medical               140132 non-null uint8\n",
      "purpose_moving                140132 non-null uint8\n",
      "purpose_other                 140132 non-null uint8\n",
      "purpose_renewable_energy      140132 non-null uint8\n",
      "purpose_small_business        140132 non-null uint8\n",
      "purpose_vacation              140132 non-null uint8\n",
      "purpose_wedding               140132 non-null uint8\n",
      "revol_bal                     140132 non-null float64\n",
      "revol_util                    140132 non-null float64\n",
      "tot_coll_amt                  140132 non-null float64\n",
      "total_acc                     140132 non-null float64\n",
      "dtypes: float64(14), int64(2), uint8(27)\n",
      "memory usage: 21.8 MB\n"
     ]
    }
   ],
   "source": [
    "x_train.info()"
   ]
  },
  {
   "cell_type": "markdown",
   "metadata": {},
   "source": [
    "## Логистическая регрессия"
   ]
  },
  {
   "cell_type": "code",
   "execution_count": 24,
   "metadata": {},
   "outputs": [],
   "source": [
    "from sklearn import linear_model"
   ]
  },
  {
   "cell_type": "code",
   "execution_count": 25,
   "metadata": {},
   "outputs": [
    {
     "name": "stdout",
     "output_type": "stream",
     "text": [
      "Recall: 1.00\n",
      "Precision score: 0.78\n",
      "Accuracy score: 0.78\n"
     ]
    }
   ],
   "source": [
    "lr = linear_model.LogisticRegression(solver='liblinear',random_state=42).fit(x_train, y_train)\n",
    "lr.predict(x_test)\n",
    "show_scores(lr, x_test, y_test)"
   ]
  },
  {
   "cell_type": "code",
   "execution_count": 26,
   "metadata": {},
   "outputs": [
    {
     "name": "stdout",
     "output_type": "stream",
     "text": [
      "ROC-AUC score:  0.5877202844814491\n"
     ]
    },
    {
     "data": {
      "image/png": "[encoded data removed]",
      "text/plain": [
       "<Figure size 432x288 with 1 Axes>"
      ]
     },
     "metadata": {
      "needs_background": "light"
     },
     "output_type": "display_data"
    }
   ],
   "source": [
    "plot_roc(lr, x_test, y_test)"
   ]
  },
  {
   "cell_type": "markdown",
   "metadata": {},
   "source": [
    "## Дерево решений (классификация)"
   ]
  },
  {
   "cell_type": "code",
   "execution_count": 27,
   "metadata": {},
   "outputs": [],
   "source": [
    "from sklearn.tree import DecisionTreeClassifier"
   ]
  },
  {
   "cell_type": "code",
   "execution_count": 28,
   "metadata": {},
   "outputs": [
    {
     "data": {
      "text/plain": [
       "DecisionTreeClassifier(class_weight=None, criterion='entropy', max_depth=12,\n",
       "            max_features=None, max_leaf_nodes=None,\n",
       "            min_impurity_decrease=0.0, min_impurity_split=None,\n",
       "            min_samples_leaf=3, min_samples_split=2,\n",
       "            min_weight_fraction_leaf=0.0, presort=False, random_state=42,\n",
       "            splitter='random')"
      ]
     },
     "execution_count": 28,
     "metadata": {},
     "output_type": "execute_result"
    }
   ],
   "source": [
    "clf_tree = DecisionTreeClassifier(criterion='entropy',splitter = 'random', max_depth=12, random_state=42, min_samples_leaf = 3)\n",
    "clf_tree.fit(x_train, y_train)"
   ]
  },
  {
   "cell_type": "code",
   "execution_count": 29,
   "metadata": {},
   "outputs": [
    {
     "name": "stdout",
     "output_type": "stream",
     "text": [
      "Recall: 0.97\n",
      "Precision score: 0.79\n",
      "Accuracy score: 0.77\n"
     ]
    }
   ],
   "source": [
    "show_scores(clf_tree, x_test, y_test)"
   ]
  },
  {
   "cell_type": "code",
   "execution_count": 30,
   "metadata": {
    "scrolled": true
   },
   "outputs": [
    {
     "name": "stdout",
     "output_type": "stream",
     "text": [
      "ROC-AUC score:  0.6742598095246735\n"
     ]
    },
    {
     "data": {
      "image/png": "[encoded data removed]",
      "text/plain": [
       "<Figure size 432x288 with 1 Axes>"
      ]
     },
     "metadata": {
      "needs_background": "light"
     },
     "output_type": "display_data"
    }
   ],
   "source": [
    "plot_roc(clf_tree, x_test, y_test)"
   ]
  },
  {
   "cell_type": "markdown",
   "metadata": {},
   "source": [
    "## Случайный лес"
   ]
  },
  {
   "cell_type": "code",
   "execution_count": 31,
   "metadata": {},
   "outputs": [],
   "source": [
    "from sklearn.ensemble import RandomForestClassifier\n",
    "from sklearn.model_selection import GridSearchCV\n",
    "from sklearn.preprocessing import LabelEncoder"
   ]
  },
  {
   "cell_type": "code",
   "execution_count": 32,
   "metadata": {},
   "outputs": [],
   "source": [
    "#param_grid = {\n",
    "#    'bootstrap': [True],\n",
    "#    'max_depth': [12,10,8],\n",
    "#    'min_samples_leaf': [1,3,5,7],\n",
    "#    'n_estimators': [80,100,200,500],\n",
    "#    'criterion' : ['entropy','gini'],\n",
    "#}\n",
    "#score = make_scorer(roc_auc_score)\n",
    "#rf =  RandomForestClassifier(random_state = 42)\n",
    "#grid_search = GridSearchCV(estimator = rf, param_grid = param_grid, \n",
    "#                          cv = 5, n_jobs = -1, verbose = 2, scoring=score)\n",
    "#grid_search.fit(x_train,  y_train)\n",
    "#grid_search.best_params_\n",
    "# best_grid = grid_search.best_estimator_"
   ]
  },
  {
   "cell_type": "code",
   "execution_count": 33,
   "metadata": {},
   "outputs": [
    {
     "data": {
      "text/plain": [
       "RandomForestClassifier(bootstrap=True, class_weight=None, criterion='entropy',\n",
       "            max_depth=12, max_features='auto', max_leaf_nodes=None,\n",
       "            min_impurity_decrease=0.0, min_impurity_split=None,\n",
       "            min_samples_leaf=1, min_samples_split=2,\n",
       "            min_weight_fraction_leaf=0.0, n_estimators=80, n_jobs=None,\n",
       "            oob_score=False, random_state=42, verbose=0, warm_start=False)"
      ]
     },
     "execution_count": 33,
     "metadata": {},
     "output_type": "execute_result"
    }
   ],
   "source": [
    "best_grid = RandomForestClassifier(random_state = 42, bootstrap = True, \n",
    "                                   max_depth = 12, min_samples_leaf = 1,\n",
    "                                   n_estimators = 80, criterion = 'entropy')\n",
    "best_grid.fit(x_train,  y_train)"
   ]
  },
  {
   "cell_type": "code",
   "execution_count": 34,
   "metadata": {},
   "outputs": [
    {
     "name": "stdout",
     "output_type": "stream",
     "text": [
      "Recall: 0.99\n",
      "Precision score: 0.79\n",
      "Accuracy score: 0.78\n"
     ]
    }
   ],
   "source": [
    "best_grid.predict(x_test)\n",
    "show_scores(best_grid, x_test, y_test)"
   ]
  },
  {
   "cell_type": "code",
   "execution_count": 35,
   "metadata": {},
   "outputs": [
    {
     "name": "stdout",
     "output_type": "stream",
     "text": [
      "ROC-AUC score:  0.7019092486975207\n"
     ]
    },
    {
     "data": {
      "image/png": "[encoded data removed]",
      "text/plain": [
       "<Figure size 432x288 with 1 Axes>"
      ]
     },
     "metadata": {
      "needs_background": "light"
     },
     "output_type": "display_data"
    }
   ],
   "source": [
    "plot_roc(best_grid, x_test, y_test)"
   ]
  },
  {
   "cell_type": "markdown",
   "metadata": {},
   "source": [
    "## VotingClassifier"
   ]
  },
  {
   "cell_type": "code",
   "execution_count": 36,
   "metadata": {},
   "outputs": [],
   "source": [
    "from sklearn.ensemble import VotingClassifier"
   ]
  },
  {
   "cell_type": "code",
   "execution_count": 37,
   "metadata": {},
   "outputs": [
    {
     "data": {
      "text/plain": [
       "VotingClassifier(estimators=[('lr', LogisticRegression(C=1.0, class_weight=None, dual=False, fit_intercept=True,\n",
       "          intercept_scaling=1, max_iter=100, multi_class='warn',\n",
       "          n_jobs=None, penalty='l2', random_state=42, solver='liblinear',\n",
       "          tol=0.0001, verbose=0, warm_start=False)), ('rf', Rando...mators=80, n_jobs=None,\n",
       "            oob_score=False, random_state=42, verbose=0, warm_start=False))],\n",
       "         flatten_transform=None, n_jobs=None, voting='soft', weights=None)"
      ]
     },
     "execution_count": 37,
     "metadata": {},
     "output_type": "execute_result"
    }
   ],
   "source": [
    "voting_clf = VotingClassifier(estimators=[('lr', lr), ('rf', best_grid)],voting='soft')\n",
    "voting_clf.fit(x_train, y_train)"
   ]
  },
  {
   "cell_type": "code",
   "execution_count": 38,
   "metadata": {},
   "outputs": [
    {
     "name": "stdout",
     "output_type": "stream",
     "text": [
      "Recall: 1.00\n",
      "Precision score: 0.78\n",
      "Accuracy score: 0.78\n"
     ]
    }
   ],
   "source": [
    "show_scores(voting_clf, x_test, y_test)"
   ]
  },
  {
   "cell_type": "code",
   "execution_count": 39,
   "metadata": {},
   "outputs": [
    {
     "name": "stdout",
     "output_type": "stream",
     "text": [
      "ROC-AUC score:  0.6850833952966429\n"
     ]
    },
    {
     "data": {
      "image/png": "[encoded data removed]",
      "text/plain": [
       "<Figure size 432x288 with 1 Axes>"
      ]
     },
     "metadata": {
      "needs_background": "light"
     },
     "output_type": "display_data"
    }
   ],
   "source": [
    "plot_roc(voting_clf, x_test, y_test)"
   ]
  },
  {
   "cell_type": "markdown",
   "metadata": {},
   "source": [
    "## Xgboost"
   ]
  },
  {
   "cell_type": "code",
   "execution_count": 40,
   "metadata": {},
   "outputs": [],
   "source": [
    "import xgboost as xgb"
   ]
  },
  {
   "cell_type": "code",
   "execution_count": 41,
   "metadata": {},
   "outputs": [],
   "source": [
    "xgbst = xgb.XGBClassifier(\n",
    "                           max_depth=3,\n",
    "                           min_child_weight=3, #Defines the minimum sum of weights of all observations required in a child\n",
    "                           learning_rate=0.1,\n",
    "                           n_estimators=220,\n",
    "                           objective='binary:logistic',\n",
    "                           eval_metric='auc',\n",
    "                           gamma=0.25, \n",
    "                                    #A node is split only when the resulting split gives a positive \n",
    "                                    #reduction in the loss function. Gamma specifies the minimum loss \n",
    "                                    #reduction required to make a split.\n",
    "                        #   subsample=0.5,\n",
    "                                    #Denotes the fraction of observations to be randomly sampled for each tree\n",
    "                        #   colsample_bytree=0.8, #The number of features to consider while searching for the best split\n",
    "                           verbosity  = 2, # Valid values are 0 (silent), 1 (warning), 2 (info), 3 (debug). \n",
    "                           reg_alpha= 1,# L1 regularization term on weights\n",
    "                           reg_lambda=0,# L2 regularization term on weights.\n",
    "                           scale_pos_weight=1,\n",
    "                           seed=20,\n",
    "                           random_state= 42,\n",
    "                           missing=None)"
   ]
  },
  {
   "cell_type": "code",
   "execution_count": 49,
   "metadata": {},
   "outputs": [],
   "source": [
    "param_test1 = {\n",
    " 'subsample':[i/100.0 for i in range(50,70)],\n",
    " 'colsample_bytree':[i/100.0 for i in range(80,100,5)]\n",
    "}"
   ]
  },
  {
   "cell_type": "code",
   "execution_count": 50,
   "metadata": {},
   "outputs": [],
   "source": [
    "grid_search = GridSearchCV(estimator = xgbst, \n",
    "param_grid = param_test1, scoring='roc_auc', cv=5, n_jobs = -1, verbose = 2)"
   ]
  },
  {
   "cell_type": "code",
   "execution_count": 51,
   "metadata": {},
   "outputs": [
    {
     "name": "stdout",
     "output_type": "stream",
     "text": [
      "Fitting 5 folds for each of 80 candidates, totalling 400 fits\n"
     ]
    },
    {
     "name": "stderr",
     "output_type": "stream",
     "text": [
      "[Parallel(n_jobs=-1)]: Using backend LokyBackend with 8 concurrent workers.\n",
      "[Parallel(n_jobs=-1)]: Done  25 tasks      | elapsed:  5.0min\n",
      "[Parallel(n_jobs=-1)]: Done 146 tasks      | elapsed: 24.0min\n",
      "[Parallel(n_jobs=-1)]: Done 349 tasks      | elapsed: 58.5min\n",
      "[Parallel(n_jobs=-1)]: Done 400 out of 400 | elapsed: 66.9min finished\n"
     ]
    }
   ],
   "source": [
    "grid_search.fit(x_train, y_train)\n",
    "best_grid = grid_search.best_estimator_"
   ]
  },
  {
   "cell_type": "code",
   "execution_count": 52,
   "metadata": {},
   "outputs": [
    {
     "data": {
      "text/plain": [
       "{'colsample_bytree': 0.95, 'subsample': 0.52}"
      ]
     },
     "execution_count": 52,
     "metadata": {},
     "output_type": "execute_result"
    }
   ],
   "source": [
    "grid_search.best_params_"
   ]
  },
  {
   "cell_type": "code",
   "execution_count": 53,
   "metadata": {},
   "outputs": [
    {
     "name": "stdout",
     "output_type": "stream",
     "text": [
      "Recall: 0.98\n",
      "Precision score: 0.79\n",
      "Accuracy score: 0.78\n"
     ]
    }
   ],
   "source": [
    "show_scores(best_grid , x_test, y_test)"
   ]
  },
  {
   "cell_type": "code",
   "execution_count": 54,
   "metadata": {},
   "outputs": [
    {
     "name": "stdout",
     "output_type": "stream",
     "text": [
      "ROC-AUC score:  0.7089005982418927\n"
     ]
    },
    {
     "data": {
      "image/png": "[encoded data removed]",
      "text/plain": [
       "<Figure size 432x288 with 1 Axes>"
      ]
     },
     "metadata": {
      "needs_background": "light"
     },
     "output_type": "display_data"
    }
   ],
   "source": [
    "plot_roc(best_grid, x_test, y_test)"
   ]
  },
  {
   "cell_type": "code",
   "execution_count": 55,
   "metadata": {},
   "outputs": [
    {
     "data": {
      "image/png": "[encoded data removed]",
      "text/plain": [
       "<Figure size 432x288 with 1 Axes>"
      ]
     },
     "metadata": {
      "needs_background": "light"
     },
     "output_type": "display_data"
    }
   ],
   "source": [
    "from xgboost import plot_importance\n",
    "plot_importance(best_grid)\n",
    "plt.show()"
   ]
  }
 ],
 "metadata": {
  "kernelspec": {
   "display_name": "Python 3",
   "language": "python",
   "name": "python3"
  },
  "language_info": {
   "codemirror_mode": {
    "name": "ipython",
    "version": 3
   },
   "file_extension": ".py",
   "mimetype": "text/x-python",
   "name": "python",
   "nbconvert_exporter": "python",
   "pygments_lexer": "ipython3",
   "version": "3.7.2"
  }
 },
 "nbformat": 4,
 "nbformat_minor": 2
}
