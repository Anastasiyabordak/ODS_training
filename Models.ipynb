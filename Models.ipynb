{
 "cells": [
  {
   "cell_type": "markdown",
   "metadata": {},
   "source": [
    "#### Для корректной работы нужно\n",
    "* переместить файлы test.csv & train.csv в директорию data/\n",
    "* скачать [graphviz](http://www.graphviz.org/download)  \n",
    "* вылетает ошибка [“dot.exe” not found in path](https://stackoverflow.com/questions/40632486/dot-exe-not-found-in-path-pydot-on-python-windows-7)"
   ]
  },
  {
   "cell_type": "code",
   "execution_count": 1,
   "metadata": {},
   "outputs": [],
   "source": [
    "import pandas as pd\n",
    "import sys\n",
    "import seaborn as sns\n",
    "import numpy as np\n",
    "from sklearn.model_selection import train_test_split\n",
    "from sklearn.metrics import mean_squared_error, r2_score\n",
    "from sklearn.preprocessing import StandardScaler  \n",
    "from sklearn.model_selection import cross_validate\n",
    "from sklearn.metrics import recall_score, roc_auc_score,precision_score,accuracy_score,roc_curve,make_scorer\n",
    "import matplotlib.pyplot as plt\n",
    "pd.options.mode.chained_assignment = None "
   ]
  },
  {
   "cell_type": "code",
   "execution_count": 2,
   "metadata": {
    "scrolled": false
   },
   "outputs": [
    {
     "data": {
      "text/html": [
       "<div>\n",
       "<style scoped>\n",
       "    .dataframe tbody tr th:only-of-type {\n",
       "        vertical-align: middle;\n",
       "    }\n",
       "\n",
       "    .dataframe tbody tr th {\n",
       "        vertical-align: top;\n",
       "    }\n",
       "\n",
       "    .dataframe thead th {\n",
       "        text-align: right;\n",
       "    }\n",
       "</style>\n",
       "<table border=\"1\" class=\"dataframe\">\n",
       "  <thead>\n",
       "    <tr style=\"text-align: right;\">\n",
       "      <th></th>\n",
       "      <th>loan_amnt</th>\n",
       "      <th>term</th>\n",
       "      <th>int_rate</th>\n",
       "      <th>installment</th>\n",
       "      <th>grade</th>\n",
       "      <th>sub_grade</th>\n",
       "      <th>emp_title</th>\n",
       "      <th>emp_length</th>\n",
       "      <th>home_ownership</th>\n",
       "      <th>annual_inc</th>\n",
       "      <th>...</th>\n",
       "      <th>total_acc</th>\n",
       "      <th>initial_list_status</th>\n",
       "      <th>collections_12_mths_ex_med</th>\n",
       "      <th>policy_code</th>\n",
       "      <th>application_type</th>\n",
       "      <th>acc_now_delinq</th>\n",
       "      <th>tot_coll_amt</th>\n",
       "      <th>tot_cur_bal</th>\n",
       "      <th>total_rev_hi_lim</th>\n",
       "      <th>record_id</th>\n",
       "    </tr>\n",
       "  </thead>\n",
       "  <tbody>\n",
       "    <tr>\n",
       "      <th>0</th>\n",
       "      <td>15000.0</td>\n",
       "      <td>36 months</td>\n",
       "      <td>11.99</td>\n",
       "      <td>498.15</td>\n",
       "      <td>B</td>\n",
       "      <td>B3</td>\n",
       "      <td>Quality Assurance Specialist</td>\n",
       "      <td>4 years</td>\n",
       "      <td>MORTGAGE</td>\n",
       "      <td>70000.0</td>\n",
       "      <td>...</td>\n",
       "      <td>32.0</td>\n",
       "      <td>f</td>\n",
       "      <td>0.0</td>\n",
       "      <td>1.0</td>\n",
       "      <td>INDIVIDUAL</td>\n",
       "      <td>0.0</td>\n",
       "      <td>0.0</td>\n",
       "      <td>295215.0</td>\n",
       "      <td>20500.0</td>\n",
       "      <td>453246940</td>\n",
       "    </tr>\n",
       "    <tr>\n",
       "      <th>1</th>\n",
       "      <td>3725.0</td>\n",
       "      <td>36 months</td>\n",
       "      <td>6.03</td>\n",
       "      <td>113.38</td>\n",
       "      <td>A</td>\n",
       "      <td>A1</td>\n",
       "      <td>NaN</td>\n",
       "      <td>NaN</td>\n",
       "      <td>MORTGAGE</td>\n",
       "      <td>52260.0</td>\n",
       "      <td>...</td>\n",
       "      <td>9.0</td>\n",
       "      <td>f</td>\n",
       "      <td>0.0</td>\n",
       "      <td>1.0</td>\n",
       "      <td>INDIVIDUAL</td>\n",
       "      <td>0.0</td>\n",
       "      <td>0.0</td>\n",
       "      <td>25130.0</td>\n",
       "      <td>14200.0</td>\n",
       "      <td>453313687</td>\n",
       "    </tr>\n",
       "    <tr>\n",
       "      <th>2</th>\n",
       "      <td>16000.0</td>\n",
       "      <td>36 months</td>\n",
       "      <td>11.14</td>\n",
       "      <td>524.89</td>\n",
       "      <td>B</td>\n",
       "      <td>B2</td>\n",
       "      <td>KIPP NYC</td>\n",
       "      <td>3 years</td>\n",
       "      <td>RENT</td>\n",
       "      <td>67500.0</td>\n",
       "      <td>...</td>\n",
       "      <td>22.0</td>\n",
       "      <td>f</td>\n",
       "      <td>0.0</td>\n",
       "      <td>1.0</td>\n",
       "      <td>INDIVIDUAL</td>\n",
       "      <td>0.0</td>\n",
       "      <td>193.0</td>\n",
       "      <td>41737.0</td>\n",
       "      <td>19448.0</td>\n",
       "      <td>453283543</td>\n",
       "    </tr>\n",
       "    <tr>\n",
       "      <th>3</th>\n",
       "      <td>4200.0</td>\n",
       "      <td>36 months</td>\n",
       "      <td>13.33</td>\n",
       "      <td>142.19</td>\n",
       "      <td>C</td>\n",
       "      <td>C3</td>\n",
       "      <td>Receptionist</td>\n",
       "      <td>&lt; 1 year</td>\n",
       "      <td>MORTGAGE</td>\n",
       "      <td>21600.0</td>\n",
       "      <td>...</td>\n",
       "      <td>19.0</td>\n",
       "      <td>w</td>\n",
       "      <td>0.0</td>\n",
       "      <td>1.0</td>\n",
       "      <td>INDIVIDUAL</td>\n",
       "      <td>0.0</td>\n",
       "      <td>165.0</td>\n",
       "      <td>28187.0</td>\n",
       "      <td>14500.0</td>\n",
       "      <td>453447199</td>\n",
       "    </tr>\n",
       "    <tr>\n",
       "      <th>4</th>\n",
       "      <td>6500.0</td>\n",
       "      <td>36 months</td>\n",
       "      <td>12.69</td>\n",
       "      <td>218.05</td>\n",
       "      <td>B</td>\n",
       "      <td>B5</td>\n",
       "      <td>Medtox Laboratories</td>\n",
       "      <td>10+ years</td>\n",
       "      <td>RENT</td>\n",
       "      <td>41000.0</td>\n",
       "      <td>...</td>\n",
       "      <td>12.0</td>\n",
       "      <td>f</td>\n",
       "      <td>0.0</td>\n",
       "      <td>1.0</td>\n",
       "      <td>INDIVIDUAL</td>\n",
       "      <td>0.0</td>\n",
       "      <td>NaN</td>\n",
       "      <td>NaN</td>\n",
       "      <td>NaN</td>\n",
       "      <td>453350283</td>\n",
       "    </tr>\n",
       "  </tbody>\n",
       "</table>\n",
       "<p>5 rows × 36 columns</p>\n",
       "</div>"
      ],
      "text/plain": [
       "   loan_amnt        term  int_rate  installment grade sub_grade  \\\n",
       "0    15000.0   36 months     11.99       498.15     B        B3   \n",
       "1     3725.0   36 months      6.03       113.38     A        A1   \n",
       "2    16000.0   36 months     11.14       524.89     B        B2   \n",
       "3     4200.0   36 months     13.33       142.19     C        C3   \n",
       "4     6500.0   36 months     12.69       218.05     B        B5   \n",
       "\n",
       "                      emp_title emp_length home_ownership  annual_inc  ...  \\\n",
       "0  Quality Assurance Specialist    4 years       MORTGAGE     70000.0  ...   \n",
       "1                           NaN        NaN       MORTGAGE     52260.0  ...   \n",
       "2                     KIPP NYC     3 years           RENT     67500.0  ...   \n",
       "3                  Receptionist   < 1 year       MORTGAGE     21600.0  ...   \n",
       "4           Medtox Laboratories  10+ years           RENT     41000.0  ...   \n",
       "\n",
       "  total_acc initial_list_status  collections_12_mths_ex_med policy_code  \\\n",
       "0      32.0                   f                         0.0         1.0   \n",
       "1       9.0                   f                         0.0         1.0   \n",
       "2      22.0                   f                         0.0         1.0   \n",
       "3      19.0                   w                         0.0         1.0   \n",
       "4      12.0                   f                         0.0         1.0   \n",
       "\n",
       "  application_type acc_now_delinq tot_coll_amt  tot_cur_bal  total_rev_hi_lim  \\\n",
       "0       INDIVIDUAL            0.0          0.0     295215.0           20500.0   \n",
       "1       INDIVIDUAL            0.0          0.0      25130.0           14200.0   \n",
       "2       INDIVIDUAL            0.0        193.0      41737.0           19448.0   \n",
       "3       INDIVIDUAL            0.0        165.0      28187.0           14500.0   \n",
       "4       INDIVIDUAL            0.0          NaN          NaN               NaN   \n",
       "\n",
       "   record_id  \n",
       "0  453246940  \n",
       "1  453313687  \n",
       "2  453283543  \n",
       "3  453447199  \n",
       "4  453350283  \n",
       "\n",
       "[5 rows x 36 columns]"
      ]
     },
     "execution_count": 2,
     "metadata": {},
     "output_type": "execute_result"
    }
   ],
   "source": [
    "train = pd.read_csv('data/train.csv')\n",
    "train.head()"
   ]
  },
  {
   "cell_type": "code",
   "execution_count": 3,
   "metadata": {},
   "outputs": [
    {
     "name": "stdout",
     "output_type": "stream",
     "text": [
      "<class 'pandas.core.frame.DataFrame'>\n",
      "RangeIndex: 200189 entries, 0 to 200188\n",
      "Data columns (total 36 columns):\n",
      "loan_amnt                     200189 non-null float64\n",
      "term                          200189 non-null object\n",
      "int_rate                      200189 non-null float64\n",
      "installment                   200189 non-null float64\n",
      "grade                         200189 non-null object\n",
      "sub_grade                     200189 non-null object\n",
      "emp_title                     189062 non-null object\n",
      "emp_length                    192135 non-null object\n",
      "home_ownership                200189 non-null object\n",
      "annual_inc                    200189 non-null float64\n",
      "verification_status           200189 non-null object\n",
      "issue_d                       200189 non-null object\n",
      "loan_status                   200189 non-null int64\n",
      "pymnt_plan                    200189 non-null object\n",
      "purpose                       200189 non-null object\n",
      "zip_code                      200189 non-null object\n",
      "addr_state                    200189 non-null object\n",
      "dti                           200189 non-null float64\n",
      "delinq_2yrs                   200189 non-null float64\n",
      "earliest_cr_line              200189 non-null object\n",
      "inq_last_6mths                200189 non-null float64\n",
      "mths_since_last_delinq        89621 non-null float64\n",
      "open_acc                      200189 non-null float64\n",
      "pub_rec                       200189 non-null float64\n",
      "revol_bal                     200189 non-null float64\n",
      "revol_util                    200035 non-null float64\n",
      "total_acc                     200189 non-null float64\n",
      "initial_list_status           200189 non-null object\n",
      "collections_12_mths_ex_med    200145 non-null float64\n",
      "policy_code                   200189 non-null float64\n",
      "application_type              200189 non-null object\n",
      "acc_now_delinq                200189 non-null float64\n",
      "tot_coll_amt                  152232 non-null float64\n",
      "tot_cur_bal                   152232 non-null float64\n",
      "total_rev_hi_lim              152232 non-null float64\n",
      "record_id                     200189 non-null int64\n",
      "dtypes: float64(19), int64(2), object(15)\n",
      "memory usage: 55.0+ MB\n"
     ]
    }
   ],
   "source": [
    "train.info()"
   ]
  },
  {
   "cell_type": "markdown",
   "metadata": {},
   "source": [
    "* int_rate - Interest Rate on the loan\n",
    "* annual_inc - Theannual income provided by the borrower during registration\n",
    "* inq_last_6mths -The number of inquiries in past 6 months (excluding auto and mortgage inquiries)\n",
    "* mths_since_last_delinq  - Months since most recent personal finance delinquency.\n",
    "* pub_rec  - Number of derogatory public records\n",
    "* revolBal - Total credit revolving balance\n",
    "* revolUtil - Revolving line utilization rate, or the amount of credit the borrower is using relative to all available revolving credit.\n",
    "* loan_amnt  - The listed amount of the loan applied for by the borrower. If at some point in time, the credit department reduces the loan amount, then it will be reflected in this value.\n",
    "* installment - The monthly payment owed by the borrower if the loan originates.\n",
    "* home_ownership    \n",
    "* emp_title                   \n",
    "* annual_inc                  \n",
    "* verification_status  - Indicates if the co-borrowers' joint income was verified by LC, not verified, or if the income source was verified\n",
    "* purpose                 \n",
    "* dti -  A ratio calculated using the borrower’s total monthly debt payments on the total debt obligations, excluding mortgage and the requested LC loan, divided by the borrower’s self-reported monthly income.\n",
    "* open_acc                  \n",
    "* total_acc                    \n",
    "* initial_list_status - The initial listing status of the loan. Possible values are – W, F           \n",
    "* collections_12_mths_ex_med - Number of collections in 12 months excluding medical collections\n",
    "* application_type - Indicates whether the loan is an individual application or a joint application with two co-borrowers\n",
    "* acc_now_delinq - The number of accounts on which the borrower is now delinquent.\n"
   ]
  },
  {
   "cell_type": "markdown",
   "metadata": {},
   "source": [
    "## Анализ и визуализация данных"
   ]
  },
  {
   "cell_type": "code",
   "execution_count": 4,
   "metadata": {},
   "outputs": [],
   "source": [
    "aim = train['loan_status'] # целевой признак\n",
    "others = train.loc[:,['annual_inc','verification_status','int_rate','initial_list_status','term',\n",
    "                 'installment','open_acc','total_acc','dti','purpose','tot_cur_bal',\n",
    "                 'sub_grade','home_ownership','inq_last_6mths','total_rev_hi_lim',\n",
    "                 'revol_bal','revol_util',\n",
    "                 'tot_coll_amt','loan_amnt'] ]# параметры"
   ]
  },
  {
   "cell_type": "code",
   "execution_count": 10,
   "metadata": {},
   "outputs": [
    {
     "name": "stdout",
     "output_type": "stream",
     "text": [
      "<class 'pandas.core.frame.DataFrame'>\n",
      "RangeIndex: 200189 entries, 0 to 200188\n",
      "Data columns (total 19 columns):\n",
      "annual_inc             200189 non-null float64\n",
      "verification_status    200189 non-null object\n",
      "int_rate               200189 non-null float64\n",
      "initial_list_status    200189 non-null object\n",
      "term                   200189 non-null object\n",
      "installment            200189 non-null float64\n",
      "open_acc               200189 non-null float64\n",
      "total_acc              200189 non-null float64\n",
      "dti                    200189 non-null float64\n",
      "purpose                200189 non-null object\n",
      "tot_cur_bal            152232 non-null float64\n",
      "sub_grade              200189 non-null object\n",
      "home_ownership         200189 non-null object\n",
      "inq_last_6mths         200189 non-null float64\n",
      "total_rev_hi_lim       152232 non-null float64\n",
      "revol_bal              200189 non-null float64\n",
      "revol_util             200035 non-null float64\n",
      "tot_coll_amt           152232 non-null float64\n",
      "loan_amnt              200189 non-null float64\n",
      "dtypes: float64(13), object(6)\n",
      "memory usage: 29.0+ MB\n"
     ]
    }
   ],
   "source": [
    "others.info()"
   ]
  },
  {
   "cell_type": "code",
   "execution_count": 7,
   "metadata": {},
   "outputs": [],
   "source": [
    "Nan_killer(others, num = 0)"
   ]
  },
  {
   "cell_type": "code",
   "execution_count": 8,
   "metadata": {},
   "outputs": [
    {
     "name": "stdout",
     "output_type": "stream",
     "text": [
      "<class 'pandas.core.frame.DataFrame'>\n",
      "RangeIndex: 200189 entries, 0 to 200188\n",
      "Data columns (total 19 columns):\n",
      "annual_inc             200189 non-null float64\n",
      "verification_status    200189 non-null object\n",
      "int_rate               200189 non-null float64\n",
      "initial_list_status    200189 non-null object\n",
      "term                   200189 non-null object\n",
      "installment            200189 non-null float64\n",
      "open_acc               200189 non-null float64\n",
      "total_acc              200189 non-null float64\n",
      "dti                    200189 non-null float64\n",
      "purpose                200189 non-null object\n",
      "tot_cur_bal            200189 non-null float64\n",
      "sub_grade              200189 non-null object\n",
      "home_ownership         200189 non-null object\n",
      "inq_last_6mths         200189 non-null float64\n",
      "total_rev_hi_lim       152232 non-null float64\n",
      "revol_bal              200189 non-null float64\n",
      "revol_util             200189 non-null float64\n",
      "tot_coll_amt           152232 non-null float64\n",
      "loan_amnt              200189 non-null float64\n",
      "dtypes: float64(13), object(6)\n",
      "memory usage: 29.0+ MB\n"
     ]
    }
   ],
   "source": [
    "others.info(0)"
   ]
  },
  {
   "cell_type": "code",
   "execution_count": 9,
   "metadata": {},
   "outputs": [
    {
     "data": {
      "image/png": "[encoded data removed]",
      "text/plain": [
       "<Figure size 720x720 with 20 Axes>"
      ]
     },
     "metadata": {
      "needs_background": "light"
     },
     "output_type": "display_data"
    }
   ],
   "source": [
    "cols = ['loan_amnt',  'open_acc', 'total_acc', 'dti']\n",
    "sns_plot = sns.pairplot(others[cols])"
   ]
  },
  {
   "cell_type": "code",
   "execution_count": 10,
   "metadata": {},
   "outputs": [],
   "source": [
    "corr_matrix = others.drop(list(others.columns[others.dtypes == 'object']), axis=1).corr()"
   ]
  },
  {
   "cell_type": "code",
   "execution_count": 11,
   "metadata": {},
   "outputs": [
    {
     "data": {
      "image/png": "[encoded data removed]",
      "text/plain": [
       "<Figure size 432x288 with 2 Axes>"
      ]
     },
     "metadata": {
      "needs_background": "light"
     },
     "output_type": "display_data"
    }
   ],
   "source": [
    "sns.heatmap(corr_matrix,cmap=\"YlGnBu\");"
   ]
  },
  {
   "cell_type": "code",
   "execution_count": 12,
   "metadata": {},
   "outputs": [
    {
     "data": {
      "image/png": "[encoded data removed]",
      "text/plain": [
       "<Figure size 1440x864 with 16 Axes>"
      ]
     },
     "metadata": {
      "needs_background": "light"
     },
     "output_type": "display_data"
    }
   ],
   "source": [
    "features = others.drop(list(others.columns[others.dtypes == 'object']), axis=1).corr()\n",
    "features.drop('installment')\n",
    "features.drop('open_acc')\n",
    "\n",
    "features.hist(figsize=(20,12));"
   ]
  },
  {
   "cell_type": "code",
   "execution_count": 13,
   "metadata": {},
   "outputs": [
    {
     "data": {
      "text/plain": [
       "<matplotlib.axes._subplots.AxesSubplot at 0x2afc2d05b00>"
      ]
     },
     "execution_count": 13,
     "metadata": {},
     "output_type": "execute_result"
    },
    {
     "data": {
      "image/png": "[encoded data removed]",
      "text/plain": [
       "<Figure size 432x288 with 1 Axes>"
      ]
     },
     "metadata": {
      "needs_background": "light"
     },
     "output_type": "display_data"
    }
   ],
   "source": [
    "aim.value_counts().plot(kind='bar', label='loan_status')"
   ]
  },
  {
   "cell_type": "code",
   "execution_count": 14,
   "metadata": {},
   "outputs": [
    {
     "name": "stdout",
     "output_type": "stream",
     "text": [
      "<class 'pandas.core.frame.DataFrame'>\n",
      "RangeIndex: 200189 entries, 0 to 200188\n",
      "Data columns (total 19 columns):\n",
      "annual_inc             200189 non-null float64\n",
      "verification_status    200189 non-null object\n",
      "int_rate               200189 non-null float64\n",
      "initial_list_status    200189 non-null object\n",
      "term                   200189 non-null object\n",
      "installment            200189 non-null float64\n",
      "open_acc               200189 non-null float64\n",
      "total_acc              200189 non-null float64\n",
      "dti                    200189 non-null float64\n",
      "purpose                200189 non-null object\n",
      "tot_cur_bal            200189 non-null float64\n",
      "sub_grade              200189 non-null object\n",
      "home_ownership         200189 non-null object\n",
      "inq_last_6mths         200189 non-null float64\n",
      "total_rev_hi_lim       152232 non-null float64\n",
      "revol_bal              200189 non-null float64\n",
      "revol_util             200189 non-null float64\n",
      "tot_coll_amt           152232 non-null float64\n",
      "loan_amnt              200189 non-null float64\n",
      "dtypes: float64(13), object(6)\n",
      "memory usage: 29.0+ MB\n"
     ]
    }
   ],
   "source": [
    "others.info()"
   ]
  },
  {
   "cell_type": "code",
   "execution_count": 50,
   "metadata": {},
   "outputs": [
    {
     "data": {
      "text/plain": [
       "<matplotlib.axes._subplots.AxesSubplot at 0x23957e75550>"
      ]
     },
     "execution_count": 50,
     "metadata": {},
     "output_type": "execute_result"
    },
    {
     "data": {
      "image/png": "[encoded data removed]",
      "text/plain": [
       "<Figure size 432x288 with 1 Axes>"
      ]
     },
     "metadata": {
      "needs_background": "light"
     },
     "output_type": "display_data"
    }
   ],
   "source": [
    "others['verification_status'].value_counts().plot(kind='bar', label='verification_status ')"
   ]
  },
  {
   "cell_type": "code",
   "execution_count": 51,
   "metadata": {},
   "outputs": [
    {
     "data": {
      "text/plain": [
       "<matplotlib.axes._subplots.AxesSubplot at 0x23957e75f98>"
      ]
     },
     "execution_count": 51,
     "metadata": {},
     "output_type": "execute_result"
    },
    {
     "data": {
      "image/png": "[encoded data removed]",
      "text/plain": [
       "<Figure size 432x288 with 1 Axes>"
      ]
     },
     "metadata": {
      "needs_background": "light"
     },
     "output_type": "display_data"
    }
   ],
   "source": [
    "others['initial_list_status'].value_counts().plot(kind='bar', label='initial_list_status')"
   ]
  },
  {
   "cell_type": "code",
   "execution_count": 52,
   "metadata": {},
   "outputs": [
    {
     "data": {
      "text/plain": [
       "<matplotlib.axes._subplots.AxesSubplot at 0x23957ec7198>"
      ]
     },
     "execution_count": 52,
     "metadata": {},
     "output_type": "execute_result"
    },
    {
     "data": {
      "image/png": "[encoded data removed]",
      "text/plain": [
       "<Figure size 432x288 with 1 Axes>"
      ]
     },
     "metadata": {
      "needs_background": "light"
     },
     "output_type": "display_data"
    }
   ],
   "source": [
    "others['purpose'].value_counts().plot(kind='bar', label='purpose')"
   ]
  },
  {
   "cell_type": "code",
   "execution_count": 16,
   "metadata": {},
   "outputs": [
    {
     "data": {
      "text/plain": [
       "<matplotlib.axes._subplots.AxesSubplot at 0x1bf5f66bc88>"
      ]
     },
     "execution_count": 16,
     "metadata": {},
     "output_type": "execute_result"
    },
    {
     "data": {
      "image/png": "[encoded data removed]",
      "text/plain": [
       "<Figure size 432x288 with 1 Axes>"
      ]
     },
     "metadata": {
      "needs_background": "light"
     },
     "output_type": "display_data"
    }
   ],
   "source": [
    "train['collections_12_mths_ex_med'].value_counts().plot(kind='bar', label='purpose')\n",
    "# skip feature"
   ]
  },
  {
   "cell_type": "code",
   "execution_count": 17,
   "metadata": {},
   "outputs": [
    {
     "data": {
      "text/plain": [
       "<matplotlib.axes._subplots.AxesSubplot at 0x1bf5f7bf390>"
      ]
     },
     "execution_count": 17,
     "metadata": {},
     "output_type": "execute_result"
    },
    {
     "data": {
      "image/png": "[encoded data removed]",
      "text/plain": [
       "<Figure size 432x288 with 1 Axes>"
      ]
     },
     "metadata": {
      "needs_background": "light"
     },
     "output_type": "display_data"
    }
   ],
   "source": [
    "train['dti'].value_counts().plot(kind='bar', label='purpose')\n"
   ]
  },
  {
   "cell_type": "code",
   "execution_count": 18,
   "metadata": {},
   "outputs": [
    {
     "data": {
      "text/plain": [
       "<matplotlib.axes._subplots.AxesSubplot at 0x1bf5f7bf550>"
      ]
     },
     "execution_count": 18,
     "metadata": {},
     "output_type": "execute_result"
    },
    {
     "data": {
      "image/png": "[encoded data removed]",
      "text/plain": [
       "<Figure size 432x288 with 1 Axes>"
      ]
     },
     "metadata": {
      "needs_background": "light"
     },
     "output_type": "display_data"
    }
   ],
   "source": [
    "train['pub_rec'].value_counts().plot(kind='bar', label='purpose')\n",
    "#skip featur"
   ]
  },
  {
   "cell_type": "code",
   "execution_count": 15,
   "metadata": {},
   "outputs": [
    {
     "data": {
      "text/plain": [
       "<matplotlib.axes._subplots.AxesSubplot at 0x2afc2d7be48>"
      ]
     },
     "execution_count": 15,
     "metadata": {},
     "output_type": "execute_result"
    },
    {
     "data": {
      "image/png": "[encoded data removed]",
      "text/plain": [
       "<Figure size 432x288 with 1 Axes>"
      ]
     },
     "metadata": {
      "needs_background": "light"
     },
     "output_type": "display_data"
    }
   ],
   "source": [
    "train['sub_grade'].value_counts().plot(kind='bar', label='purpose')\n"
   ]
  },
  {
   "cell_type": "code",
   "execution_count": 16,
   "metadata": {},
   "outputs": [
    {
     "data": {
      "text/plain": [
       "<matplotlib.axes._subplots.AxesSubplot at 0x2afc3131c50>"
      ]
     },
     "execution_count": 16,
     "metadata": {},
     "output_type": "execute_result"
    },
    {
     "data": {
      "image/png": "[encoded data removed]",
      "text/plain": [
       "<Figure size 432x288 with 1 Axes>"
      ]
     },
     "metadata": {
      "needs_background": "light"
     },
     "output_type": "display_data"
    }
   ],
   "source": [
    "train['home_ownership'].value_counts().plot(kind='bar', label='purpose')"
   ]
  },
  {
   "cell_type": "code",
   "execution_count": 22,
   "metadata": {},
   "outputs": [
    {
     "name": "stdout",
     "output_type": "stream",
     "text": [
      "<class 'pandas.core.frame.DataFrame'>\n",
      "RangeIndex: 200189 entries, 0 to 200188\n",
      "Data columns (total 19 columns):\n",
      "annual_inc             200189 non-null float64\n",
      "verification_status    200189 non-null object\n",
      "int_rate               200189 non-null float64\n",
      "initial_list_status    200189 non-null object\n",
      "term                   200189 non-null object\n",
      "installment            200189 non-null float64\n",
      "open_acc               200189 non-null float64\n",
      "total_acc              200189 non-null float64\n",
      "dti                    200189 non-null float64\n",
      "purpose                200189 non-null object\n",
      "tot_cur_bal            200189 non-null float64\n",
      "sub_grade              200189 non-null object\n",
      "home_ownership         200189 non-null object\n",
      "inq_last_6mths         200189 non-null float64\n",
      "total_rev_hi_lim       152232 non-null float64\n",
      "revol_bal              200189 non-null float64\n",
      "revol_util             200189 non-null float64\n",
      "tot_coll_amt           152232 non-null float64\n",
      "loan_amnt              200189 non-null float64\n",
      "dtypes: float64(13), object(6)\n",
      "memory usage: 29.0+ MB\n"
     ]
    }
   ],
   "source": [
    "others.info()"
   ]
  },
  {
   "cell_type": "code",
   "execution_count": 30,
   "metadata": {},
   "outputs": [
    {
     "data": {
      "text/plain": [
       "<matplotlib.axes._subplots.AxesSubplot at 0x2afc3530c88>"
      ]
     },
     "execution_count": 30,
     "metadata": {},
     "output_type": "execute_result"
    },
    {
     "data": {
      "image/png": "[encoded data removed]",
      "text/plain": [
       "<Figure size 432x288 with 1 Axes>"
      ]
     },
     "metadata": {
      "needs_background": "light"
     },
     "output_type": "display_data"
    }
   ],
   "source": [
    "sns.countplot(x='verification_status', hue='loan_status', data=train)\n",
    "#skip feature"
   ]
  },
  {
   "cell_type": "code",
   "execution_count": 27,
   "metadata": {},
   "outputs": [
    {
     "data": {
      "text/plain": [
       "<matplotlib.axes._subplots.AxesSubplot at 0x2afc34ca470>"
      ]
     },
     "execution_count": 27,
     "metadata": {},
     "output_type": "execute_result"
    },
    {
     "data": {
      "image/png": "[encoded data removed]",
      "text/plain": [
       "<Figure size 432x288 with 1 Axes>"
      ]
     },
     "metadata": {
      "needs_background": "light"
     },
     "output_type": "display_data"
    }
   ],
   "source": [
    "sns.countplot(x='initial_list_status', hue='loan_status', data=train)"
   ]
  },
  {
   "cell_type": "code",
   "execution_count": 28,
   "metadata": {},
   "outputs": [
    {
     "data": {
      "text/plain": [
       "<matplotlib.axes._subplots.AxesSubplot at 0x2afc3530160>"
      ]
     },
     "execution_count": 28,
     "metadata": {},
     "output_type": "execute_result"
    },
    {
     "data": {
      "image/png": "[encoded data removed]",
      "text/plain": [
       "<Figure size 432x288 with 1 Axes>"
      ]
     },
     "metadata": {
      "needs_background": "light"
     },
     "output_type": "display_data"
    }
   ],
   "source": [
    "sns.countplot(x='term', hue='loan_status', data=train)"
   ]
  },
  {
   "cell_type": "code",
   "execution_count": 29,
   "metadata": {},
   "outputs": [
    {
     "data": {
      "text/plain": [
       "<matplotlib.axes._subplots.AxesSubplot at 0x2afc2c63710>"
      ]
     },
     "execution_count": 29,
     "metadata": {},
     "output_type": "execute_result"
    },
    {
     "data": {
      "image/png": "[encoded data removed]",
      "text/plain": [
       "<Figure size 432x288 with 1 Axes>"
      ]
     },
     "metadata": {
      "needs_background": "light"
     },
     "output_type": "display_data"
    }
   ],
   "source": [
    "sns.countplot(x='purpose', hue='loan_status', data=train)"
   ]
  },
  {
   "cell_type": "code",
   "execution_count": 47,
   "metadata": {},
   "outputs": [
    {
     "data": {
      "text/plain": [
       "<matplotlib.axes._subplots.AxesSubplot at 0x2afc32416d8>"
      ]
     },
     "execution_count": 47,
     "metadata": {},
     "output_type": "execute_result"
    },
    {
     "data": {
      "image/png": "[encoded data removed]",
      "text/plain": [
       "<Figure size 432x288 with 1 Axes>"
      ]
     },
     "metadata": {
      "needs_background": "light"
     },
     "output_type": "display_data"
    }
   ],
   "source": [
    "sns.countplot(x='sub_grade', hue='loan_status', data=train)"
   ]
  },
  {
   "cell_type": "markdown",
   "metadata": {},
   "source": [
    "## PREPROC"
   ]
  },
  {
   "cell_type": "code",
   "execution_count": null,
   "metadata": {},
   "outputs": [],
   "source": []
  },
  {
   "cell_type": "code",
   "execution_count": 35,
   "metadata": {},
   "outputs": [],
   "source": [
    "def Nan_killer(x, num = -999):\n",
    "    x['revol_util'] = x['revol_util'].fillna(num)\n",
    "  #  x['tot_coll_amt'] = x['tot_coll_amt'].fillna(num)\n",
    "    x['tot_cur_bal'] =  x['tot_cur_bal'].fillna(num)\n",
    "    # x['total_rev_hi_lim'] =  x['total_rev_hi_lim'].fillna(num)\n",
    "    "
   ]
  },
  {
   "cell_type": "code",
   "execution_count": 34,
   "metadata": {},
   "outputs": [],
   "source": [
    "def proc(x,y):\n",
    "    x['home_ownership'] = x['home_ownership'].astype(str).map(lambda x: 'OTHER' if x in ['NONE', 'ANY'] else x)\n",
    "    x['purpose'] = x['purpose'].astype(str).map(lambda x: 'other' if x in ['home_improvement','educational', 'renewable_energy','vacation','house','wedding','moving','medical','car','small_business','major_purchase'] else x)\n",
    "    x_train, x_test, y_train, y_test = train_test_split(x, y, test_size=0.3, random_state = 42)\n",
    "    x_test['sub_grade'] = x_test['sub_grade'].astype('str').map(lambda x: ord(x[0])*10 + int(x[1]))\n",
    "    x_train['sub_grade'] = x_train['sub_grade'].astype('str').map(lambda x: ord(x[0])*10 + int(x[1]))\n",
    "    x_train = pd.get_dummies(x_train, columns = ['purpose','home_ownership','term'])   # OHE (?????)\n",
    "    x_test = pd.get_dummies(x_test, columns = ['purpose','home_ownership','term'])\n",
    "    for i in list(x_test): # удаление из тестовых данных столбцов, если их не было в тренировочных\n",
    "        if i not in list(x_train):\n",
    "            list(my_dataframe)\n",
    "            x_test.drop(i, axis=1, inplace=True)\n",
    "    for i in list(x_train): # добавление колонки с нулями, если такой нет в тестовой\n",
    "        if i not in list(x_test):\n",
    "            x_test[i] = 0\n",
    "    \n",
    "\n",
    "    x_test = x_test.reindex(sorted(x_test.columns), axis=1)\n",
    "    x_train = x_train.reindex(sorted(x_test.columns), axis=1)\n",
    "    return x_train, x_test, y_train, y_test"
   ]
  },
  {
   "cell_type": "markdown",
   "metadata": {},
   "source": [
    "## Функция для отображения метрик:\n",
    "* ROC-AUC\n",
    "* precision\n",
    "* recall\n",
    "* accuracy"
   ]
  },
  {
   "cell_type": "code",
   "execution_count": 48,
   "metadata": {},
   "outputs": [],
   "source": [
    "\n",
    "def show_scores(model, x_test, y_test):\n",
    "    pred =  model.predict(x_test)\n",
    "    print('Recall: %.2f' % recall_score(y_test,pred))\n",
    "    print('Precision score: %.2f' % precision_score(y_test,pred))\n",
    "    print('Accuracy score: %.2f' % accuracy_score(y_test, pred))\n",
    " "
   ]
  },
  {
   "cell_type": "code",
   "execution_count": 49,
   "metadata": {},
   "outputs": [],
   "source": [
    "def plot_roc(model, x_test, y_test):  \n",
    "    pred = model.predict_proba(x_test)\n",
    "    print(\"ROC-AUC score: \", roc_auc_score(y_test, pred[:, 1]))\n",
    "    fpr, tpr,_=roc_curve(y_test,pred[:, 1],drop_intermediate=True)\n",
    "    plt.figure()\n",
    "    plt.plot(fpr, tpr, color='red',\n",
    "            lw=2, label='ROC curve')\n",
    "    plt.plot([0, 1], [0, 1], color='blue', lw=2, linestyle='--')\n",
    "    plt.xlabel('FPR')\n",
    "    plt.ylabel('TPR')\n",
    "    plt.title('ROC curve')\n",
    "    plt.show()"
   ]
  },
  {
   "cell_type": "markdown",
   "metadata": {},
   "source": [
    "# Регрессия"
   ]
  },
  {
   "cell_type": "code",
   "execution_count": 38,
   "metadata": {},
   "outputs": [],
   "source": [
    "from sklearn import linear_model\n",
    "from sklearn.tree import DecisionTreeRegressor"
   ]
  },
  {
   "cell_type": "code",
   "execution_count": 191,
   "metadata": {},
   "outputs": [],
   "source": [
    "y = train[train['int_rate'] >= 0]['int_rate'] # целевой признак\n",
    "x = train.loc[:,['annual_inc','collections_12_mths_ex_med','initial_list_status',\n",
    "                 'installment','open_acc','total_acc','dti','purpose',\n",
    "                 'grade','home_ownership','inq_last_6mths','pub_rec','revol_bal','revol_util','loan_status',\n",
    "                 'tot_coll_amt','loan_amnt','application_type','acc_now_delinq' ] ] # параметры\n",
    "x.info()"
   ]
  },
  {
   "cell_type": "code",
   "execution_count": 195,
   "metadata": {},
   "outputs": [
    {
     "name": "stdout",
     "output_type": "stream",
     "text": [
      "<class 'pandas.core.frame.DataFrame'>\n",
      "RangeIndex: 200189 entries, 0 to 200188\n",
      "Data columns (total 15 columns):\n",
      "annual_inc             200189 non-null float64\n",
      "initial_list_status    200189 non-null object\n",
      "installment            200189 non-null float64\n",
      "open_acc               200189 non-null float64\n",
      "total_acc              200189 non-null float64\n",
      "dti                    200189 non-null float64\n",
      "purpose                200189 non-null object\n",
      "grade                  200189 non-null object\n",
      "home_ownership         200189 non-null object\n",
      "inq_last_6mths         200189 non-null float64\n",
      "revol_bal              200189 non-null float64\n",
      "revol_util             200189 non-null float64\n",
      "loan_status            200189 non-null int64\n",
      "tot_coll_amt           200189 non-null float64\n",
      "loan_amnt              200189 non-null float64\n",
      "dtypes: float64(10), int64(1), object(4)\n",
      "memory usage: 22.9+ MB\n"
     ]
    }
   ],
   "source": [
    "#NaN killer\n",
    "Nan_killer(x)\n",
    "x.info()"
   ]
  },
  {
   "cell_type": "code",
   "execution_count": 196,
   "metadata": {},
   "outputs": [
    {
     "data": {
      "text/plain": [
       "annual_inc             16284\n",
       "initial_list_status        2\n",
       "installment            41347\n",
       "open_acc                  58\n",
       "total_acc                105\n",
       "dti                     3975\n",
       "purpose                   14\n",
       "grade                      7\n",
       "home_ownership             6\n",
       "inq_last_6mths             9\n",
       "revol_bal              44045\n",
       "revol_util              1180\n",
       "loan_status                2\n",
       "tot_coll_amt            3646\n",
       "loan_amnt               1317\n",
       "dtype: int64"
      ]
     },
     "execution_count": 196,
     "metadata": {},
     "output_type": "execute_result"
    }
   ],
   "source": [
    "x.nunique()"
   ]
  },
  {
   "cell_type": "code",
   "execution_count": 42,
   "metadata": {},
   "outputs": [],
   "source": [
    "x_train, x_test, y_train, y_test = proc(x,y)"
   ]
  },
  {
   "cell_type": "code",
   "execution_count": 43,
   "metadata": {},
   "outputs": [
    {
     "name": "stdout",
     "output_type": "stream",
     "text": [
      "<class 'pandas.core.frame.DataFrame'>\n",
      "Int64Index: 140132 entries, 193136 to 121958\n",
      "Data columns (total 43 columns):\n",
      "acc_now_delinq                140132 non-null float64\n",
      "annual_inc                    140132 non-null float64\n",
      "application_type              140132 non-null int64\n",
      "collections_12_mths_ex_med    140132 non-null float64\n",
      "dti                           140132 non-null float64\n",
      "grade_A                       140132 non-null uint8\n",
      "grade_B                       140132 non-null uint8\n",
      "grade_C                       140132 non-null uint8\n",
      "grade_D                       140132 non-null uint8\n",
      "grade_E                       140132 non-null uint8\n",
      "grade_F                       140132 non-null uint8\n",
      "grade_G                       140132 non-null uint8\n",
      "home_ownership_ANY            140132 non-null uint8\n",
      "home_ownership_MORTGAGE       140132 non-null uint8\n",
      "home_ownership_NONE           140132 non-null uint8\n",
      "home_ownership_OTHER          140132 non-null uint8\n",
      "home_ownership_OWN            140132 non-null uint8\n",
      "home_ownership_RENT           140132 non-null uint8\n",
      "initial_list_status           140132 non-null int64\n",
      "inq_last_6mths                140132 non-null float64\n",
      "installment                   140132 non-null float64\n",
      "loan_amnt                     140132 non-null float64\n",
      "loan_status                   140132 non-null int64\n",
      "open_acc                      140132 non-null float64\n",
      "pub_rec                       140132 non-null float64\n",
      "purpose_car                   140132 non-null uint8\n",
      "purpose_credit_card           140132 non-null uint8\n",
      "purpose_debt_consolidation    140132 non-null uint8\n",
      "purpose_educational           140132 non-null uint8\n",
      "purpose_home_improvement      140132 non-null uint8\n",
      "purpose_house                 140132 non-null uint8\n",
      "purpose_major_purchase        140132 non-null uint8\n",
      "purpose_medical               140132 non-null uint8\n",
      "purpose_moving                140132 non-null uint8\n",
      "purpose_other                 140132 non-null uint8\n",
      "purpose_renewable_energy      140132 non-null uint8\n",
      "purpose_small_business        140132 non-null uint8\n",
      "purpose_vacation              140132 non-null uint8\n",
      "purpose_wedding               140132 non-null uint8\n",
      "revol_bal                     140132 non-null float64\n",
      "revol_util                    140132 non-null float64\n",
      "tot_coll_amt                  140132 non-null float64\n",
      "total_acc                     140132 non-null float64\n",
      "dtypes: float64(13), int64(3), uint8(27)\n",
      "memory usage: 21.8 MB\n"
     ]
    }
   ],
   "source": [
    "x_train.info()"
   ]
  },
  {
   "cell_type": "code",
   "execution_count": 44,
   "metadata": {},
   "outputs": [
    {
     "name": "stdout",
     "output_type": "stream",
     "text": [
      "<class 'pandas.core.frame.DataFrame'>\n",
      "Int64Index: 60057 entries, 8644 to 191094\n",
      "Data columns (total 43 columns):\n",
      "acc_now_delinq                60057 non-null float64\n",
      "annual_inc                    60057 non-null float64\n",
      "application_type              60057 non-null int64\n",
      "collections_12_mths_ex_med    60057 non-null float64\n",
      "dti                           60057 non-null float64\n",
      "grade_A                       60057 non-null uint8\n",
      "grade_B                       60057 non-null uint8\n",
      "grade_C                       60057 non-null uint8\n",
      "grade_D                       60057 non-null uint8\n",
      "grade_E                       60057 non-null uint8\n",
      "grade_F                       60057 non-null uint8\n",
      "grade_G                       60057 non-null uint8\n",
      "home_ownership_ANY            60057 non-null int64\n",
      "home_ownership_MORTGAGE       60057 non-null uint8\n",
      "home_ownership_NONE           60057 non-null uint8\n",
      "home_ownership_OTHER          60057 non-null uint8\n",
      "home_ownership_OWN            60057 non-null uint8\n",
      "home_ownership_RENT           60057 non-null uint8\n",
      "initial_list_status           60057 non-null int64\n",
      "inq_last_6mths                60057 non-null float64\n",
      "installment                   60057 non-null float64\n",
      "loan_amnt                     60057 non-null float64\n",
      "loan_status                   60057 non-null int64\n",
      "open_acc                      60057 non-null float64\n",
      "pub_rec                       60057 non-null float64\n",
      "purpose_car                   60057 non-null uint8\n",
      "purpose_credit_card           60057 non-null uint8\n",
      "purpose_debt_consolidation    60057 non-null uint8\n",
      "purpose_educational           60057 non-null uint8\n",
      "purpose_home_improvement      60057 non-null uint8\n",
      "purpose_house                 60057 non-null uint8\n",
      "purpose_major_purchase        60057 non-null uint8\n",
      "purpose_medical               60057 non-null uint8\n",
      "purpose_moving                60057 non-null uint8\n",
      "purpose_other                 60057 non-null uint8\n",
      "purpose_renewable_energy      60057 non-null uint8\n",
      "purpose_small_business        60057 non-null uint8\n",
      "purpose_vacation              60057 non-null uint8\n",
      "purpose_wedding               60057 non-null uint8\n",
      "revol_bal                     60057 non-null float64\n",
      "revol_util                    60057 non-null float64\n",
      "tot_coll_amt                  60057 non-null float64\n",
      "total_acc                     60057 non-null float64\n",
      "dtypes: float64(13), int64(4), uint8(26)\n",
      "memory usage: 9.7 MB\n"
     ]
    }
   ],
   "source": [
    "x_test.info()"
   ]
  },
  {
   "cell_type": "markdown",
   "metadata": {},
   "source": [
    "## Линейная регрессия  + Дерево решений (регрессия)"
   ]
  },
  {
   "cell_type": "code",
   "execution_count": 15,
   "metadata": {},
   "outputs": [],
   "source": [
    "lm = linear_model.Lasso(alpha=0.01,random_state = 42).fit(x_train,y_train)\n",
    "dec_reg = DecisionTreeRegressor(criterion='mse',max_depth=10, random_state=42, min_samples_leaf = 3).fit(x_train,y_train)"
   ]
  },
  {
   "cell_type": "code",
   "execution_count": 16,
   "metadata": {},
   "outputs": [],
   "source": [
    "from sklearn.metrics import r2_score"
   ]
  },
  {
   "cell_type": "code",
   "execution_count": 17,
   "metadata": {},
   "outputs": [
    {
     "data": {
      "text/plain": [
       "0.9146765103292894"
      ]
     },
     "execution_count": 17,
     "metadata": {},
     "output_type": "execute_result"
    }
   ],
   "source": [
    "r2_score(y_test, lm.predict(x_test))"
   ]
  },
  {
   "cell_type": "code",
   "execution_count": 18,
   "metadata": {},
   "outputs": [
    {
     "data": {
      "text/plain": [
       "0.9280174951473175"
      ]
     },
     "execution_count": 18,
     "metadata": {},
     "output_type": "execute_result"
    }
   ],
   "source": [
    "r2_score(y_test, dec_reg.predict(x_test))"
   ]
  },
  {
   "cell_type": "markdown",
   "metadata": {},
   "source": [
    "# Бинарная классификация"
   ]
  },
  {
   "cell_type": "code",
   "execution_count": 31,
   "metadata": {},
   "outputs": [],
   "source": [
    "y = train['loan_status'] # целевой признак\n",
    "x = train.loc[:,['annual_inc','int_rate','term',\n",
    "                'total_acc','dti','purpose','tot_cur_bal',\n",
    "                 'sub_grade','home_ownership','inq_last_6mths',\n",
    "                 'revol_bal','revol_util','loan_amnt']] \n",
    " # параметры"
   ]
  },
  {
   "cell_type": "code",
   "execution_count": 32,
   "metadata": {},
   "outputs": [
    {
     "name": "stdout",
     "output_type": "stream",
     "text": [
      "<class 'pandas.core.frame.DataFrame'>\n",
      "RangeIndex: 200189 entries, 0 to 200188\n",
      "Data columns (total 13 columns):\n",
      "annual_inc        200189 non-null float64\n",
      "int_rate          200189 non-null float64\n",
      "term              200189 non-null object\n",
      "total_acc         200189 non-null float64\n",
      "dti               200189 non-null float64\n",
      "purpose           200189 non-null object\n",
      "tot_cur_bal       200189 non-null float64\n",
      "sub_grade         200189 non-null object\n",
      "home_ownership    200189 non-null object\n",
      "inq_last_6mths    200189 non-null float64\n",
      "revol_bal         200189 non-null float64\n",
      "revol_util        200189 non-null float64\n",
      "loan_amnt         200189 non-null float64\n",
      "dtypes: float64(9), object(4)\n",
      "memory usage: 19.9+ MB\n"
     ]
    }
   ],
   "source": [
    "#NaN killer\n",
    "Nan_killer(x)\n",
    "x.info()"
   ]
  },
  {
   "cell_type": "code",
   "execution_count": 36,
   "metadata": {},
   "outputs": [],
   "source": [
    "x_train, x_test, y_train, y_test = proc(x,y)"
   ]
  },
  {
   "cell_type": "code",
   "execution_count": 37,
   "metadata": {},
   "outputs": [
    {
     "name": "stdout",
     "output_type": "stream",
     "text": [
      "<class 'pandas.core.frame.DataFrame'>\n",
      "Int64Index: 140132 entries, 193136 to 121958\n",
      "Data columns (total 19 columns):\n",
      "annual_inc                    140132 non-null float64\n",
      "dti                           140132 non-null float64\n",
      "home_ownership_MORTGAGE       140132 non-null uint8\n",
      "home_ownership_OTHER          140132 non-null uint8\n",
      "home_ownership_OWN            140132 non-null uint8\n",
      "home_ownership_RENT           140132 non-null uint8\n",
      "inq_last_6mths                140132 non-null float64\n",
      "int_rate                      140132 non-null float64\n",
      "loan_amnt                     140132 non-null float64\n",
      "purpose_credit_card           140132 non-null uint8\n",
      "purpose_debt_consolidation    140132 non-null uint8\n",
      "purpose_other                 140132 non-null uint8\n",
      "revol_bal                     140132 non-null float64\n",
      "revol_util                    140132 non-null float64\n",
      "sub_grade                     140132 non-null int64\n",
      "term_ 36 months               140132 non-null uint8\n",
      "term_ 60 months               140132 non-null uint8\n",
      "tot_cur_bal                   140132 non-null float64\n",
      "total_acc                     140132 non-null float64\n",
      "dtypes: float64(9), int64(1), uint8(9)\n",
      "memory usage: 13.0 MB\n"
     ]
    }
   ],
   "source": [
    "x_train.info()"
   ]
  },
  {
   "cell_type": "code",
   "execution_count": 38,
   "metadata": {},
   "outputs": [
    {
     "name": "stdout",
     "output_type": "stream",
     "text": [
      "<class 'pandas.core.frame.DataFrame'>\n",
      "Int64Index: 140132 entries, 193136 to 121958\n",
      "Data columns (total 19 columns):\n",
      "annual_inc                    140132 non-null float64\n",
      "dti                           140132 non-null float64\n",
      "home_ownership_MORTGAGE       140132 non-null uint8\n",
      "home_ownership_OTHER          140132 non-null uint8\n",
      "home_ownership_OWN            140132 non-null uint8\n",
      "home_ownership_RENT           140132 non-null uint8\n",
      "inq_last_6mths                140132 non-null float64\n",
      "int_rate                      140132 non-null float64\n",
      "loan_amnt                     140132 non-null float64\n",
      "purpose_credit_card           140132 non-null uint8\n",
      "purpose_debt_consolidation    140132 non-null uint8\n",
      "purpose_other                 140132 non-null uint8\n",
      "revol_bal                     140132 non-null float64\n",
      "revol_util                    140132 non-null float64\n",
      "sub_grade                     140132 non-null int64\n",
      "term_ 36 months               140132 non-null uint8\n",
      "term_ 60 months               140132 non-null uint8\n",
      "tot_cur_bal                   140132 non-null float64\n",
      "total_acc                     140132 non-null float64\n",
      "dtypes: float64(9), int64(1), uint8(9)\n",
      "memory usage: 13.0 MB\n"
     ]
    }
   ],
   "source": [
    "x_train.info()"
   ]
  },
  {
   "cell_type": "markdown",
   "metadata": {},
   "source": [
    "## Логистическая регрессия"
   ]
  },
  {
   "cell_type": "code",
   "execution_count": 270,
   "metadata": {},
   "outputs": [],
   "source": [
    "from sklearn import linear_model"
   ]
  },
  {
   "cell_type": "code",
   "execution_count": 271,
   "metadata": {},
   "outputs": [
    {
     "name": "stdout",
     "output_type": "stream",
     "text": [
      "Recall: 0.99\n",
      "Precision score: 0.79\n",
      "Accuracy score: 0.78\n"
     ]
    }
   ],
   "source": [
    "lr = linear_model.LogisticRegression(solver='liblinear',random_state=42).fit(x_train, y_train)\n",
    "lr.predict(x_test)\n",
    "show_scores(lr, x_test, y_test)"
   ]
  },
  {
   "cell_type": "code",
   "execution_count": 272,
   "metadata": {},
   "outputs": [
    {
     "name": "stdout",
     "output_type": "stream",
     "text": [
      "ROC-AUC score:  0.6926848879023262\n"
     ]
    },
    {
     "data": {
      "image/png": "[encoded data removed]",
      "text/plain": [
       "<Figure size 432x288 with 1 Axes>"
      ]
     },
     "metadata": {
      "needs_background": "light"
     },
     "output_type": "display_data"
    }
   ],
   "source": [
    "plot_roc(lr, x_test, y_test)"
   ]
  },
  {
   "cell_type": "markdown",
   "metadata": {},
   "source": [
    "## Дерево решений (классификация)"
   ]
  },
  {
   "cell_type": "code",
   "execution_count": 273,
   "metadata": {},
   "outputs": [],
   "source": [
    "from sklearn.tree import DecisionTreeClassifier"
   ]
  },
  {
   "cell_type": "code",
   "execution_count": 274,
   "metadata": {},
   "outputs": [
    {
     "data": {
      "text/plain": [
       "DecisionTreeClassifier(class_weight=None, criterion='entropy', max_depth=12,\n",
       "            max_features=None, max_leaf_nodes=None,\n",
       "            min_impurity_decrease=0.0, min_impurity_split=None,\n",
       "            min_samples_leaf=3, min_samples_split=2,\n",
       "            min_weight_fraction_leaf=0.0, presort=False, random_state=42,\n",
       "            splitter='random')"
      ]
     },
     "execution_count": 274,
     "metadata": {},
     "output_type": "execute_result"
    }
   ],
   "source": [
    "clf_tree = DecisionTreeClassifier(criterion='entropy',splitter = 'random', max_depth=12, random_state=42, min_samples_leaf = 3)\n",
    "clf_tree.fit(x_train, y_train)"
   ]
  },
  {
   "cell_type": "code",
   "execution_count": 275,
   "metadata": {},
   "outputs": [
    {
     "name": "stdout",
     "output_type": "stream",
     "text": [
      "Recall: 0.96\n",
      "Precision score: 0.79\n",
      "Accuracy score: 0.77\n"
     ]
    }
   ],
   "source": [
    "show_scores(clf_tree, x_test, y_test)"
   ]
  },
  {
   "cell_type": "code",
   "execution_count": 276,
   "metadata": {
    "scrolled": true
   },
   "outputs": [
    {
     "name": "stdout",
     "output_type": "stream",
     "text": [
      "ROC-AUC score:  0.6754340131251977\n"
     ]
    },
    {
     "data": {
      "image/png": "[encoded data removed]",
      "text/plain": [
       "<Figure size 432x288 with 1 Axes>"
      ]
     },
     "metadata": {
      "needs_background": "light"
     },
     "output_type": "display_data"
    }
   ],
   "source": [
    "plot_roc(clf_tree, x_test, y_test)"
   ]
  },
  {
   "cell_type": "markdown",
   "metadata": {},
   "source": [
    "## Случайный лес"
   ]
  },
  {
   "cell_type": "code",
   "execution_count": 277,
   "metadata": {},
   "outputs": [],
   "source": [
    "from sklearn.ensemble import RandomForestClassifier\n",
    "from sklearn.model_selection import GridSearchCV\n",
    "from sklearn.preprocessing import LabelEncoder"
   ]
  },
  {
   "cell_type": "code",
   "execution_count": 278,
   "metadata": {},
   "outputs": [],
   "source": [
    "#param_grid = {\n",
    "#    'bootstrap': [True],\n",
    "#    'max_depth': [12,10,8],\n",
    "#    'min_samples_leaf': [1,3,5,7],\n",
    "#    'n_estimators': [80,100,200,500],\n",
    "#    'criterion' : ['entropy','gini'],\n",
    "#}\n",
    "#score = make_scorer(roc_auc_score)\n",
    "#rf =  RandomForestClassifier(random_state = 42)\n",
    "#grid_search = GridSearchCV(estimator = rf, param_grid = param_grid, \n",
    "#                          cv = 5, n_jobs = -1, verbose = 2, scoring=score)\n",
    "#grid_search.fit(x_train,  y_train)\n",
    "#grid_search.best_params_\n",
    "# best_grid = grid_search.best_estimator_"
   ]
  },
  {
   "cell_type": "code",
   "execution_count": 279,
   "metadata": {},
   "outputs": [
    {
     "data": {
      "text/plain": [
       "RandomForestClassifier(bootstrap=True, class_weight=None, criterion='entropy',\n",
       "            max_depth=12, max_features='auto', max_leaf_nodes=None,\n",
       "            min_impurity_decrease=0.0, min_impurity_split=None,\n",
       "            min_samples_leaf=1, min_samples_split=2,\n",
       "            min_weight_fraction_leaf=0.0, n_estimators=80, n_jobs=None,\n",
       "            oob_score=False, random_state=42, verbose=0, warm_start=False)"
      ]
     },
     "execution_count": 279,
     "metadata": {},
     "output_type": "execute_result"
    }
   ],
   "source": [
    "best_grid = RandomForestClassifier(random_state = 42, bootstrap = True, \n",
    "                                   max_depth = 12, min_samples_leaf = 1,\n",
    "                                   n_estimators = 80, criterion = 'entropy')\n",
    "best_grid.fit(x_train,  y_train)"
   ]
  },
  {
   "cell_type": "code",
   "execution_count": 280,
   "metadata": {},
   "outputs": [
    {
     "name": "stdout",
     "output_type": "stream",
     "text": [
      "Recall: 0.99\n",
      "Precision score: 0.79\n",
      "Accuracy score: 0.78\n"
     ]
    }
   ],
   "source": [
    "best_grid.predict(x_test)\n",
    "show_scores(best_grid, x_test, y_test)"
   ]
  },
  {
   "cell_type": "code",
   "execution_count": 281,
   "metadata": {},
   "outputs": [
    {
     "name": "stdout",
     "output_type": "stream",
     "text": [
      "ROC-AUC score:  0.7088091643978713\n"
     ]
    },
    {
     "data": {
      "image/png": "[encoded data removed]",
      "text/plain": [
       "<Figure size 432x288 with 1 Axes>"
      ]
     },
     "metadata": {
      "needs_background": "light"
     },
     "output_type": "display_data"
    }
   ],
   "source": [
    "plot_roc(best_grid, x_test, y_test)"
   ]
  },
  {
   "cell_type": "markdown",
   "metadata": {},
   "source": [
    "## VotingClassifier"
   ]
  },
  {
   "cell_type": "code",
   "execution_count": 282,
   "metadata": {},
   "outputs": [],
   "source": [
    "from sklearn.ensemble import VotingClassifier"
   ]
  },
  {
   "cell_type": "code",
   "execution_count": 283,
   "metadata": {},
   "outputs": [
    {
     "data": {
      "text/plain": [
       "VotingClassifier(estimators=[('lr', LogisticRegression(C=1.0, class_weight=None, dual=False, fit_intercept=True,\n",
       "          intercept_scaling=1, max_iter=100, multi_class='warn',\n",
       "          n_jobs=None, penalty='l2', random_state=42, solver='liblinear',\n",
       "          tol=0.0001, verbose=0, warm_start=False)), ('rf', Rando...mators=80, n_jobs=None,\n",
       "            oob_score=False, random_state=42, verbose=0, warm_start=False))],\n",
       "         flatten_transform=None, n_jobs=None, voting='soft', weights=None)"
      ]
     },
     "execution_count": 283,
     "metadata": {},
     "output_type": "execute_result"
    }
   ],
   "source": [
    "voting_clf = VotingClassifier(estimators=[('lr', lr), ('rf', best_grid)],voting='soft')\n",
    "voting_clf.fit(x_train, y_train)"
   ]
  },
  {
   "cell_type": "code",
   "execution_count": 284,
   "metadata": {},
   "outputs": [
    {
     "name": "stdout",
     "output_type": "stream",
     "text": [
      "Recall: 0.99\n",
      "Precision score: 0.79\n",
      "Accuracy score: 0.78\n"
     ]
    }
   ],
   "source": [
    "show_scores(voting_clf, x_test, y_test)"
   ]
  },
  {
   "cell_type": "code",
   "execution_count": 285,
   "metadata": {},
   "outputs": [
    {
     "name": "stdout",
     "output_type": "stream",
     "text": [
      "ROC-AUC score:  0.7062283982087683\n"
     ]
    },
    {
     "data": {
      "image/png": "[encoded data removed]",
      "text/plain": [
       "<Figure size 432x288 with 1 Axes>"
      ]
     },
     "metadata": {
      "needs_background": "light"
     },
     "output_type": "display_data"
    }
   ],
   "source": [
    "plot_roc(voting_clf, x_test, y_test)"
   ]
  },
  {
   "cell_type": "markdown",
   "metadata": {},
   "source": [
    "## Xgboost (Grid search)"
   ]
  },
  {
   "cell_type": "markdown",
   "metadata": {},
   "source": [
    "[Параметры XGBClassifier](https://xgboost.readthedocs.io/en/latest/parameter.html)"
   ]
  },
  {
   "cell_type": "code",
   "execution_count": 39,
   "metadata": {},
   "outputs": [],
   "source": [
    "import xgboost as xgb"
   ]
  },
  {
   "cell_type": "code",
   "execution_count": 40,
   "metadata": {},
   "outputs": [
    {
     "name": "stdout",
     "output_type": "stream",
     "text": [
      "<class 'pandas.core.frame.DataFrame'>\n",
      "Int64Index: 140132 entries, 193136 to 121958\n",
      "Data columns (total 19 columns):\n",
      "annual_inc                    140132 non-null float64\n",
      "dti                           140132 non-null float64\n",
      "home_ownership_MORTGAGE       140132 non-null uint8\n",
      "home_ownership_OTHER          140132 non-null uint8\n",
      "home_ownership_OWN            140132 non-null uint8\n",
      "home_ownership_RENT           140132 non-null uint8\n",
      "inq_last_6mths                140132 non-null float64\n",
      "int_rate                      140132 non-null float64\n",
      "loan_amnt                     140132 non-null float64\n",
      "purpose_credit_card           140132 non-null uint8\n",
      "purpose_debt_consolidation    140132 non-null uint8\n",
      "purpose_other                 140132 non-null uint8\n",
      "revol_bal                     140132 non-null float64\n",
      "revol_util                    140132 non-null float64\n",
      "sub_grade                     140132 non-null int64\n",
      "term_ 36 months               140132 non-null uint8\n",
      "term_ 60 months               140132 non-null uint8\n",
      "tot_cur_bal                   140132 non-null float64\n",
      "total_acc                     140132 non-null float64\n",
      "dtypes: float64(9), int64(1), uint8(9)\n",
      "memory usage: 13.0 MB\n"
     ]
    }
   ],
   "source": [
    "x_train.info()"
   ]
  },
  {
   "cell_type": "code",
   "execution_count": 41,
   "metadata": {},
   "outputs": [],
   "source": [
    "xgbst = xgb.XGBClassifier(\n",
    "                           max_depth=3,\n",
    "                           min_child_weight=3, #Defines the minimum sum of weights of all observations required\n",
    "                           gamma = 0.25, \n",
    "                                    #A node is split only when the resulting split gives a positive \n",
    "                                    #reduction in the loss function. Gamma specifies the minimum loss \n",
    "                                    #reduction required to make a split.in a child\n",
    "                           eval_metric = 'auc',                         \n",
    "                           subsample= 0.52,\n",
    "                                    #Denotes the fraction of observations to be randomly sampled for each tree\n",
    "                           colsample_bytree=0.95, #The number of features to consider while searching for the best split\n",
    "                           reg_alpha= 5,# L1 regularization term on weights\n",
    "                           reg_lambda=0,# L2 regularization term on weights.\n",
    "                           learning_rate = 0.01,\n",
    "                           n_estimators =4000,\n",
    "                           objective='binary:logistic',\n",
    "                           \n",
    "                           verbosity  = 2, # Valid values are 0 (silent), 1 (warning), 2 (info), 3 (debug). \n",
    "                          \n",
    "                           scale_pos_weight=1, #Control the balance of positive and negative weights, useful for unbalanced classes\n",
    "                           seed=20,\n",
    "                           random_state= 42,\n",
    "                           missing=None)"
   ]
  },
  {
   "cell_type": "code",
   "execution_count": 42,
   "metadata": {},
   "outputs": [
    {
     "data": {
      "text/plain": [
       "XGBClassifier(base_score=0.5, booster='gbtree', colsample_bylevel=1,\n",
       "       colsample_bytree=0.95, eval_metric='auc', gamma=0.25,\n",
       "       learning_rate=0.01, max_delta_step=0, max_depth=3,\n",
       "       min_child_weight=3, missing=None, n_estimators=4000, n_jobs=1,\n",
       "       nthread=None, objective='binary:logistic', random_state=42,\n",
       "       reg_alpha=5, reg_lambda=0, scale_pos_weight=1, seed=20, silent=True,\n",
       "       subsample=0.52, verbosity=2)"
      ]
     },
     "execution_count": 42,
     "metadata": {},
     "output_type": "execute_result"
    }
   ],
   "source": [
    "xgbst.fit(x_train, y_train)"
   ]
  },
  {
   "cell_type": "code",
   "execution_count": 51,
   "metadata": {
    "scrolled": true
   },
   "outputs": [
    {
     "name": "stdout",
     "output_type": "stream",
     "text": [
      "Recall: 0.98\n",
      "Precision score: 0.79\n",
      "Accuracy score: 0.78\n"
     ]
    }
   ],
   "source": [
    "show_scores(xgbst, x_test, y_test)"
   ]
  },
  {
   "cell_type": "code",
   "execution_count": 53,
   "metadata": {},
   "outputs": [
    {
     "name": "stdout",
     "output_type": "stream",
     "text": [
      "ROC-AUC score:  0.7120131184849037\n"
     ]
    },
    {
     "data": {
      "image/png": "[encoded data removed]",
      "text/plain": [
       "<Figure size 432x288 with 1 Axes>"
      ]
     },
     "metadata": {
      "needs_background": "light"
     },
     "output_type": "display_data"
    }
   ],
   "source": [
    "plot_roc(xgbst, x_test, y_test)"
   ]
  },
  {
   "cell_type": "markdown",
   "metadata": {},
   "source": [
    "## Xgboost (Hypetopt)"
   ]
  },
  {
   "cell_type": "code",
   "execution_count": 71,
   "metadata": {},
   "outputs": [],
   "source": [
    "from sklearn.metrics import r2_score\n",
    "from hyperopt import tpe, hp, fmin\n",
    "import xgboost as xgb\n",
    "from hyperopt.mongoexp import MongoTrials"
   ]
  },
  {
   "cell_type": "code",
   "execution_count": 72,
   "metadata": {},
   "outputs": [],
   "source": [
    "def func(args):\n",
    "    loss = 0\n",
    "    if args['model'] == xgb.XGBClassifier:\n",
    "        max_depth = args['param']['max_depth']\n",
    "        min_child_weight = args['param']['min_child_weight']\n",
    "        gamma = args['param']['gamma']\n",
    "        subsample = args['param']['subsample']\n",
    "        colsample_bytree = args['param']['colsample_bytree']\n",
    "        reg_alpha = args['param']['reg_alpha']\n",
    "        clf = xgb.XGBClassifier(eval_metric = 'auc',\n",
    "                               objective='binary:logistic',\n",
    "                               verbosity  = 2,\n",
    "                               random_state= 42,\n",
    "                               learning_rate = 0.1,\n",
    "                               n_estimators=1000,    \n",
    "                               reg_lambda=0,\n",
    "                               max_depth = max_depth,\n",
    "                               min_child_weight =min_child_weight,\n",
    "                               gamma =  gamma,\n",
    "                               subsample = subsample,\n",
    "                               colsample_bytree = colsample_bytree,\n",
    "                               reg_alpha = reg_alpha)\n",
    "        clf.fit(x_train,y_train)\n",
    "        y_pred_train = clf.predict_proba(x_train)\n",
    "        loss =  roc_auc_score(y_train, y_pred_train[:, 1])\n",
    "        print(\"Test Score:\",clf.score(x_test,y_test))\n",
    "        print(\"Train Score:\",clf.score(x_train,y_train))\n",
    "        print(\"\\n=================\")\n",
    "    return -loss\n"
   ]
  },
  {
   "cell_type": "code",
   "execution_count": 73,
   "metadata": {},
   "outputs": [
    {
     "data": {
      "text/plain": [
       "<hyperopt.pyll.base.Apply at 0x2395f1b5f60>"
      ]
     },
     "execution_count": 73,
     "metadata": {},
     "output_type": "execute_result"
    }
   ],
   "source": [
    "space = hp.choice('classifier',[\n",
    "        {\n",
    "        'model': xgb.XGBClassifier,\n",
    "        'param': {\n",
    "        'max_depth' : hp.choice('max_depth',range(3,10,2)),\n",
    "        'min_child_weight' : hp.choice('min_child_weight', range(1,6,2)),\n",
    "        'gamma' : hp.choice('gamma', [i/10.0 for i in range(0,5)]),\n",
    "        'subsample' : hp.choice('subsample', [i/10.0 for i in range(6,10)]),\n",
    "        'colsample_bytree'  : hp.choice('colsample_bytree', [i/10.0 for i in range(6,10)]),\n",
    "        'reg_alpha' : hp.choice('reg_alpha', [1e-5, 1e-2, 0.1, 1, 100])  \n",
    "        }}\n",
    "        ])\n",
    "space"
   ]
  },
  {
   "cell_type": "code",
   "execution_count": 76,
   "metadata": {},
   "outputs": [],
   "source": [
    "# trials = MongoTrials('mongo://localhost:27017/foo_db/jobs',exp_key='exp1')"
   ]
  },
  {
   "cell_type": "code",
   "execution_count": 78,
   "metadata": {},
   "outputs": [],
   "source": [
    "# best = fmin(func,space,algo=tpe.suggest,max_evals=100)\n",
    "best = {'classifier': 0,\n",
    " 'colsample_bytree': 1,\n",
    " 'gamma': 1,\n",
    " 'max_depth': 3,\n",
    " 'min_child_weight': 0,\n",
    " 'reg_alpha': 3,\n",
    " 'subsample': 0}"
   ]
  },
  {
   "cell_type": "code",
   "execution_count": 79,
   "metadata": {},
   "outputs": [
    {
     "data": {
      "text/plain": [
       "{'classifier': 0,\n",
       " 'colsample_bytree': 1,\n",
       " 'gamma': 1,\n",
       " 'max_depth': 3,\n",
       " 'min_child_weight': 0,\n",
       " 'reg_alpha': 3,\n",
       " 'subsample': 0}"
      ]
     },
     "execution_count": 79,
     "metadata": {},
     "output_type": "execute_result"
    }
   ],
   "source": [
    "best"
   ]
  },
  {
   "cell_type": "code",
   "execution_count": 80,
   "metadata": {},
   "outputs": [],
   "source": [
    "bst = xgb.XGBClassifier(     eval_metric = 'auc',\n",
    "                               objective='binary:logistic',\n",
    "                               verbosity  = 2,\n",
    "                               random_state= 42,\n",
    "                               learning_rate = 0.01,\n",
    "                               n_estimators=4000,    \n",
    "                               reg_lambda=0,\n",
    "                               seed = 20,\n",
    "                               max_depth = best['max_depth'],\n",
    "                               min_child_weight = best['min_child_weight'],\n",
    "                               gamma =  best['gamma'],\n",
    "                               subsample = 0.52,\n",
    "                               colsample_bytree = best['colsample_bytree'],\n",
    "                               reg_alpha = best['reg_alpha'])"
   ]
  },
  {
   "cell_type": "code",
   "execution_count": 81,
   "metadata": {},
   "outputs": [
    {
     "ename": "KeyboardInterrupt",
     "evalue": "",
     "output_type": "error",
     "traceback": [
      "\u001b[1;31m---------------------------------------------------------------------------\u001b[0m",
      "\u001b[1;31mKeyboardInterrupt\u001b[0m                         Traceback (most recent call last)",
      "\u001b[1;32m<ipython-input-81-25a05c8e20ec>\u001b[0m in \u001b[0;36m<module>\u001b[1;34m\u001b[0m\n\u001b[1;32m----> 1\u001b[1;33m \u001b[0mbst\u001b[0m\u001b[1;33m.\u001b[0m\u001b[0mfit\u001b[0m\u001b[1;33m(\u001b[0m\u001b[0mx_train\u001b[0m\u001b[1;33m,\u001b[0m \u001b[0my_train\u001b[0m\u001b[1;33m)\u001b[0m\u001b[1;33m\u001b[0m\u001b[1;33m\u001b[0m\u001b[0m\n\u001b[0m",
      "\u001b[1;32mc:\\users\\bordaka\\appdata\\local\\programs\\python\\python37\\lib\\site-packages\\xgboost\\sklearn.py\u001b[0m in \u001b[0;36mfit\u001b[1;34m(self, X, y, sample_weight, eval_set, eval_metric, early_stopping_rounds, verbose, xgb_model, sample_weight_eval_set, callbacks)\u001b[0m\n\u001b[0;32m    711\u001b[0m                               \u001b[0mevals_result\u001b[0m\u001b[1;33m=\u001b[0m\u001b[0mevals_result\u001b[0m\u001b[1;33m,\u001b[0m \u001b[0mobj\u001b[0m\u001b[1;33m=\u001b[0m\u001b[0mobj\u001b[0m\u001b[1;33m,\u001b[0m \u001b[0mfeval\u001b[0m\u001b[1;33m=\u001b[0m\u001b[0mfeval\u001b[0m\u001b[1;33m,\u001b[0m\u001b[1;33m\u001b[0m\u001b[1;33m\u001b[0m\u001b[0m\n\u001b[0;32m    712\u001b[0m                               \u001b[0mverbose_eval\u001b[0m\u001b[1;33m=\u001b[0m\u001b[0mverbose\u001b[0m\u001b[1;33m,\u001b[0m \u001b[0mxgb_model\u001b[0m\u001b[1;33m=\u001b[0m\u001b[0mxgb_model\u001b[0m\u001b[1;33m,\u001b[0m\u001b[1;33m\u001b[0m\u001b[1;33m\u001b[0m\u001b[0m\n\u001b[1;32m--> 713\u001b[1;33m                               callbacks=callbacks)\n\u001b[0m\u001b[0;32m    714\u001b[0m \u001b[1;33m\u001b[0m\u001b[0m\n\u001b[0;32m    715\u001b[0m         \u001b[0mself\u001b[0m\u001b[1;33m.\u001b[0m\u001b[0mobjective\u001b[0m \u001b[1;33m=\u001b[0m \u001b[0mxgb_options\u001b[0m\u001b[1;33m[\u001b[0m\u001b[1;34m\"objective\"\u001b[0m\u001b[1;33m]\u001b[0m\u001b[1;33m\u001b[0m\u001b[1;33m\u001b[0m\u001b[0m\n",
      "\u001b[1;32mc:\\users\\bordaka\\appdata\\local\\programs\\python\\python37\\lib\\site-packages\\xgboost\\training.py\u001b[0m in \u001b[0;36mtrain\u001b[1;34m(params, dtrain, num_boost_round, evals, obj, feval, maximize, early_stopping_rounds, evals_result, verbose_eval, xgb_model, callbacks, learning_rates)\u001b[0m\n\u001b[0;32m    214\u001b[0m                            \u001b[0mevals\u001b[0m\u001b[1;33m=\u001b[0m\u001b[0mevals\u001b[0m\u001b[1;33m,\u001b[0m\u001b[1;33m\u001b[0m\u001b[1;33m\u001b[0m\u001b[0m\n\u001b[0;32m    215\u001b[0m                            \u001b[0mobj\u001b[0m\u001b[1;33m=\u001b[0m\u001b[0mobj\u001b[0m\u001b[1;33m,\u001b[0m \u001b[0mfeval\u001b[0m\u001b[1;33m=\u001b[0m\u001b[0mfeval\u001b[0m\u001b[1;33m,\u001b[0m\u001b[1;33m\u001b[0m\u001b[1;33m\u001b[0m\u001b[0m\n\u001b[1;32m--> 216\u001b[1;33m                            xgb_model=xgb_model, callbacks=callbacks)\n\u001b[0m\u001b[0;32m    217\u001b[0m \u001b[1;33m\u001b[0m\u001b[0m\n\u001b[0;32m    218\u001b[0m \u001b[1;33m\u001b[0m\u001b[0m\n",
      "\u001b[1;32mc:\\users\\bordaka\\appdata\\local\\programs\\python\\python37\\lib\\site-packages\\xgboost\\training.py\u001b[0m in \u001b[0;36m_train_internal\u001b[1;34m(params, dtrain, num_boost_round, evals, obj, feval, xgb_model, callbacks)\u001b[0m\n\u001b[0;32m     72\u001b[0m         \u001b[1;31m# Skip the first update if it is a recovery step.\u001b[0m\u001b[1;33m\u001b[0m\u001b[1;33m\u001b[0m\u001b[1;33m\u001b[0m\u001b[0m\n\u001b[0;32m     73\u001b[0m         \u001b[1;32mif\u001b[0m \u001b[0mversion\u001b[0m \u001b[1;33m%\u001b[0m \u001b[1;36m2\u001b[0m \u001b[1;33m==\u001b[0m \u001b[1;36m0\u001b[0m\u001b[1;33m:\u001b[0m\u001b[1;33m\u001b[0m\u001b[1;33m\u001b[0m\u001b[0m\n\u001b[1;32m---> 74\u001b[1;33m             \u001b[0mbst\u001b[0m\u001b[1;33m.\u001b[0m\u001b[0mupdate\u001b[0m\u001b[1;33m(\u001b[0m\u001b[0mdtrain\u001b[0m\u001b[1;33m,\u001b[0m \u001b[0mi\u001b[0m\u001b[1;33m,\u001b[0m \u001b[0mobj\u001b[0m\u001b[1;33m)\u001b[0m\u001b[1;33m\u001b[0m\u001b[1;33m\u001b[0m\u001b[0m\n\u001b[0m\u001b[0;32m     75\u001b[0m             \u001b[0mbst\u001b[0m\u001b[1;33m.\u001b[0m\u001b[0msave_rabit_checkpoint\u001b[0m\u001b[1;33m(\u001b[0m\u001b[1;33m)\u001b[0m\u001b[1;33m\u001b[0m\u001b[1;33m\u001b[0m\u001b[0m\n\u001b[0;32m     76\u001b[0m             \u001b[0mversion\u001b[0m \u001b[1;33m+=\u001b[0m \u001b[1;36m1\u001b[0m\u001b[1;33m\u001b[0m\u001b[1;33m\u001b[0m\u001b[0m\n",
      "\u001b[1;32mc:\\users\\bordaka\\appdata\\local\\programs\\python\\python37\\lib\\site-packages\\xgboost\\core.py\u001b[0m in \u001b[0;36mupdate\u001b[1;34m(self, dtrain, iteration, fobj)\u001b[0m\n\u001b[0;32m   1108\u001b[0m         \u001b[1;32mif\u001b[0m \u001b[0mfobj\u001b[0m \u001b[1;32mis\u001b[0m \u001b[1;32mNone\u001b[0m\u001b[1;33m:\u001b[0m\u001b[1;33m\u001b[0m\u001b[1;33m\u001b[0m\u001b[0m\n\u001b[0;32m   1109\u001b[0m             _check_call(_LIB.XGBoosterUpdateOneIter(self.handle, ctypes.c_int(iteration),\n\u001b[1;32m-> 1110\u001b[1;33m                                                     dtrain.handle))\n\u001b[0m\u001b[0;32m   1111\u001b[0m         \u001b[1;32melse\u001b[0m\u001b[1;33m:\u001b[0m\u001b[1;33m\u001b[0m\u001b[1;33m\u001b[0m\u001b[0m\n\u001b[0;32m   1112\u001b[0m             \u001b[0mpred\u001b[0m \u001b[1;33m=\u001b[0m \u001b[0mself\u001b[0m\u001b[1;33m.\u001b[0m\u001b[0mpredict\u001b[0m\u001b[1;33m(\u001b[0m\u001b[0mdtrain\u001b[0m\u001b[1;33m)\u001b[0m\u001b[1;33m\u001b[0m\u001b[1;33m\u001b[0m\u001b[0m\n",
      "\u001b[1;31mKeyboardInterrupt\u001b[0m: "
     ]
    }
   ],
   "source": [
    "bst.fit(x_train, y_train)"
   ]
  },
  {
   "cell_type": "code",
   "execution_count": null,
   "metadata": {},
   "outputs": [],
   "source": [
    "show_scores(bst, x_test, y_test)"
   ]
  },
  {
   "cell_type": "code",
   "execution_count": null,
   "metadata": {},
   "outputs": [],
   "source": [
    "plot_roc(bst, x_test, y_test)"
   ]
  },
  {
   "cell_type": "markdown",
   "metadata": {},
   "source": [
    "## Catboost"
   ]
  },
  {
   "cell_type": "code",
   "execution_count": 54,
   "metadata": {},
   "outputs": [],
   "source": [
    "from hyperopt import tpe, hp, fmin\n",
    "import hyperopt "
   ]
  },
  {
   "cell_type": "code",
   "execution_count": 55,
   "metadata": {},
   "outputs": [
    {
     "data": {
      "text/plain": [
       "debt_consolidation    117953\n",
       "other                  42899\n",
       "credit_card            39337\n",
       "Name: purpose, dtype: int64"
      ]
     },
     "execution_count": 55,
     "metadata": {},
     "output_type": "execute_result"
    }
   ],
   "source": [
    "x['purpose'].value_counts()"
   ]
  },
  {
   "cell_type": "code",
   "execution_count": 56,
   "metadata": {},
   "outputs": [],
   "source": [
    "x['purpose'] = x['purpose'].astype(str).map(lambda x: 'other' if x in ['educational', 'renewable_energy','vacation','house','wedding','moving','medical','car','small_business','major_purchase'] else x)"
   ]
  },
  {
   "cell_type": "code",
   "execution_count": 57,
   "metadata": {},
   "outputs": [
    {
     "data": {
      "text/plain": [
       "debt_consolidation    117953\n",
       "other                  42899\n",
       "credit_card            39337\n",
       "Name: purpose, dtype: int64"
      ]
     },
     "execution_count": 57,
     "metadata": {},
     "output_type": "execute_result"
    }
   ],
   "source": [
    "x['purpose'].value_counts()"
   ]
  },
  {
   "cell_type": "code",
   "execution_count": 58,
   "metadata": {},
   "outputs": [
    {
     "data": {
      "text/plain": [
       "MORTGAGE    98279\n",
       "RENT        84233\n",
       "OWN         17542\n",
       "OTHER         135\n",
       "Name: home_ownership, dtype: int64"
      ]
     },
     "execution_count": 58,
     "metadata": {},
     "output_type": "execute_result"
    }
   ],
   "source": [
    "x['home_ownership'].value_counts()"
   ]
  },
  {
   "cell_type": "code",
   "execution_count": 59,
   "metadata": {},
   "outputs": [],
   "source": [
    "x['home_ownership'] = x['home_ownership'].astype(str).map(lambda x: 'OTHER' if x in ['NONE', 'ANY'] else x)"
   ]
  },
  {
   "cell_type": "code",
   "execution_count": 60,
   "metadata": {},
   "outputs": [
    {
     "data": {
      "text/plain": [
       "MORTGAGE    98279\n",
       "RENT        84233\n",
       "OWN         17542\n",
       "OTHER         135\n",
       "Name: home_ownership, dtype: int64"
      ]
     },
     "execution_count": 60,
     "metadata": {},
     "output_type": "execute_result"
    }
   ],
   "source": [
    "x['home_ownership'].value_counts()"
   ]
  },
  {
   "cell_type": "code",
   "execution_count": 61,
   "metadata": {},
   "outputs": [],
   "source": [
    "x_train, x_test, y_train, y_test = train_test_split(x, y, test_size=0.3, random_state = 42)\n",
    "# x_train['initial_list_status'] = x_train['initial_list_status'].astype('str').map({'f': bool(1), 'w': bool(0)}) # Label encoder\n",
    "# x_test['initial_list_status'] = x_test['initial_list_status'].astype('str').map({'f': bool(1), 'w': bool(0)}) # Label encoder\n",
    "x_test['sub_grade'] = x_test['sub_grade'].astype('str').map(lambda x: ord(x[0])*10 + int(x[1]))\n",
    "x_train['sub_grade'] = x_train['sub_grade'].astype('str').map(lambda x: ord(x[0])*10 + int(x[1]))\n",
    "# x_train = pd.get_dummies(x_train, columns = ['purpose','home_ownership'])   # OHE (?????)\n",
    "# x_test = pd.get_dummies(x_test, columns = ['purpose','home_ownership'])\n",
    "#for i in list(x_test): # удаление из тестовых данных столбцов, если их не было в тренировочных\n",
    "#    if i not in list(x_train):\n",
    "#        list(my_dataframe)\n",
    "#        x_test.drop(i, axis=1, inplace=True)\n",
    "#for i in list(x_train): # добавление колонки с нулями, если такой нет в тестовой\n",
    "#    if i not in list(x_test):\n",
    "#         x_test[i] = 0   \n",
    "\n",
    "#x_test = x_test.reindex(sorted(x_test.columns), axis=1)\n",
    "#x_train = x_train.reindex(sorted(x_test.columns), axis=1)"
   ]
  },
  {
   "cell_type": "code",
   "execution_count": 62,
   "metadata": {},
   "outputs": [
    {
     "name": "stdout",
     "output_type": "stream",
     "text": [
      "<class 'pandas.core.frame.DataFrame'>\n",
      "Int64Index: 140132 entries, 193136 to 121958\n",
      "Data columns (total 13 columns):\n",
      "annual_inc        140132 non-null float64\n",
      "int_rate          140132 non-null float64\n",
      "term              140132 non-null object\n",
      "total_acc         140132 non-null float64\n",
      "dti               140132 non-null float64\n",
      "purpose           140132 non-null object\n",
      "tot_cur_bal       140132 non-null float64\n",
      "sub_grade         140132 non-null int64\n",
      "home_ownership    140132 non-null object\n",
      "inq_last_6mths    140132 non-null float64\n",
      "revol_bal         140132 non-null float64\n",
      "revol_util        140132 non-null float64\n",
      "loan_amnt         140132 non-null float64\n",
      "dtypes: float64(9), int64(1), object(3)\n",
      "memory usage: 15.0+ MB\n"
     ]
    }
   ],
   "source": [
    "x_train.info()"
   ]
  },
  {
   "cell_type": "code",
   "execution_count": 63,
   "metadata": {},
   "outputs": [
    {
     "data": {
      "text/html": [
       "<div>\n",
       "<style scoped>\n",
       "    .dataframe tbody tr th:only-of-type {\n",
       "        vertical-align: middle;\n",
       "    }\n",
       "\n",
       "    .dataframe tbody tr th {\n",
       "        vertical-align: top;\n",
       "    }\n",
       "\n",
       "    .dataframe thead th {\n",
       "        text-align: right;\n",
       "    }\n",
       "</style>\n",
       "<table border=\"1\" class=\"dataframe\">\n",
       "  <thead>\n",
       "    <tr style=\"text-align: right;\">\n",
       "      <th></th>\n",
       "      <th>annual_inc</th>\n",
       "      <th>int_rate</th>\n",
       "      <th>term</th>\n",
       "      <th>total_acc</th>\n",
       "      <th>dti</th>\n",
       "      <th>purpose</th>\n",
       "      <th>tot_cur_bal</th>\n",
       "      <th>sub_grade</th>\n",
       "      <th>home_ownership</th>\n",
       "      <th>inq_last_6mths</th>\n",
       "      <th>revol_bal</th>\n",
       "      <th>revol_util</th>\n",
       "      <th>loan_amnt</th>\n",
       "    </tr>\n",
       "  </thead>\n",
       "  <tbody>\n",
       "    <tr>\n",
       "      <th>193136</th>\n",
       "      <td>75000.0</td>\n",
       "      <td>13.11</td>\n",
       "      <td>36 months</td>\n",
       "      <td>42.0</td>\n",
       "      <td>26.85</td>\n",
       "      <td>credit_card</td>\n",
       "      <td>223010.0</td>\n",
       "      <td>664</td>\n",
       "      <td>MORTGAGE</td>\n",
       "      <td>2.0</td>\n",
       "      <td>38230.0</td>\n",
       "      <td>87.7</td>\n",
       "      <td>20475.0</td>\n",
       "    </tr>\n",
       "    <tr>\n",
       "      <th>27784</th>\n",
       "      <td>73000.0</td>\n",
       "      <td>15.99</td>\n",
       "      <td>36 months</td>\n",
       "      <td>38.0</td>\n",
       "      <td>16.47</td>\n",
       "      <td>debt_consolidation</td>\n",
       "      <td>230520.0</td>\n",
       "      <td>682</td>\n",
       "      <td>MORTGAGE</td>\n",
       "      <td>2.0</td>\n",
       "      <td>9874.0</td>\n",
       "      <td>41.0</td>\n",
       "      <td>12000.0</td>\n",
       "    </tr>\n",
       "    <tr>\n",
       "      <th>157132</th>\n",
       "      <td>200000.0</td>\n",
       "      <td>8.90</td>\n",
       "      <td>36 months</td>\n",
       "      <td>37.0</td>\n",
       "      <td>13.50</td>\n",
       "      <td>debt_consolidation</td>\n",
       "      <td>488248.0</td>\n",
       "      <td>655</td>\n",
       "      <td>MORTGAGE</td>\n",
       "      <td>2.0</td>\n",
       "      <td>34550.0</td>\n",
       "      <td>63.0</td>\n",
       "      <td>16000.0</td>\n",
       "    </tr>\n",
       "    <tr>\n",
       "      <th>81962</th>\n",
       "      <td>100000.0</td>\n",
       "      <td>15.33</td>\n",
       "      <td>36 months</td>\n",
       "      <td>36.0</td>\n",
       "      <td>20.48</td>\n",
       "      <td>debt_consolidation</td>\n",
       "      <td>-999.0</td>\n",
       "      <td>683</td>\n",
       "      <td>MORTGAGE</td>\n",
       "      <td>3.0</td>\n",
       "      <td>88599.0</td>\n",
       "      <td>60.9</td>\n",
       "      <td>12000.0</td>\n",
       "    </tr>\n",
       "    <tr>\n",
       "      <th>161</th>\n",
       "      <td>65000.0</td>\n",
       "      <td>14.16</td>\n",
       "      <td>36 months</td>\n",
       "      <td>19.0</td>\n",
       "      <td>14.00</td>\n",
       "      <td>debt_consolidation</td>\n",
       "      <td>18270.0</td>\n",
       "      <td>672</td>\n",
       "      <td>RENT</td>\n",
       "      <td>2.0</td>\n",
       "      <td>10948.0</td>\n",
       "      <td>43.6</td>\n",
       "      <td>10000.0</td>\n",
       "    </tr>\n",
       "  </tbody>\n",
       "</table>\n",
       "</div>"
      ],
      "text/plain": [
       "        annual_inc  int_rate        term  total_acc    dti  \\\n",
       "193136     75000.0     13.11   36 months       42.0  26.85   \n",
       "27784      73000.0     15.99   36 months       38.0  16.47   \n",
       "157132    200000.0      8.90   36 months       37.0  13.50   \n",
       "81962     100000.0     15.33   36 months       36.0  20.48   \n",
       "161        65000.0     14.16   36 months       19.0  14.00   \n",
       "\n",
       "                   purpose  tot_cur_bal  sub_grade home_ownership  \\\n",
       "193136         credit_card     223010.0        664       MORTGAGE   \n",
       "27784   debt_consolidation     230520.0        682       MORTGAGE   \n",
       "157132  debt_consolidation     488248.0        655       MORTGAGE   \n",
       "81962   debt_consolidation       -999.0        683       MORTGAGE   \n",
       "161     debt_consolidation      18270.0        672           RENT   \n",
       "\n",
       "        inq_last_6mths  revol_bal  revol_util  loan_amnt  \n",
       "193136             2.0    38230.0        87.7    20475.0  \n",
       "27784              2.0     9874.0        41.0    12000.0  \n",
       "157132             2.0    34550.0        63.0    16000.0  \n",
       "81962              3.0    88599.0        60.9    12000.0  \n",
       "161                2.0    10948.0        43.6    10000.0  "
      ]
     },
     "execution_count": 63,
     "metadata": {},
     "output_type": "execute_result"
    }
   ],
   "source": [
    "x_train.head()"
   ]
  },
  {
   "cell_type": "code",
   "execution_count": 64,
   "metadata": {},
   "outputs": [
    {
     "data": {
      "text/plain": [
       "Index(['term', 'purpose', 'home_ownership'], dtype='object')"
      ]
     },
     "execution_count": 64,
     "metadata": {},
     "output_type": "execute_result"
    }
   ],
   "source": [
    "categorical_features_names = x_train.columns[x_train.dtypes == 'object']\n",
    "categorical_features_names"
   ]
  },
  {
   "cell_type": "code",
   "execution_count": 65,
   "metadata": {},
   "outputs": [
    {
     "data": {
      "text/plain": [
       "[2, 5, 8]"
      ]
     },
     "execution_count": 65,
     "metadata": {},
     "output_type": "execute_result"
    }
   ],
   "source": [
    "categorical_features_indices = [x_train.columns.get_loc(i) for i in categorical_features_names]\n",
    "categorical_features_indices"
   ]
  },
  {
   "cell_type": "code",
   "execution_count": 66,
   "metadata": {},
   "outputs": [],
   "source": [
    "from catboost import CatBoostClassifier, Pool, cv\n",
    "import catboost as cb\n",
    "import frozendict\n",
    "# roc_auc_score"
   ]
  },
  {
   "cell_type": "code",
   "execution_count": 67,
   "metadata": {},
   "outputs": [],
   "source": [
    "params = {'learning_rate': 0.01,\n",
    "          'depth': 8.0,\n",
    "       #   'rsm': 0.8789580279825991,\n",
    "          'l2_leaf_reg': 29.083288170330242,\n",
    "          'task_type': 'CPU',\n",
    "          'loss_function': 'Logloss',\n",
    "          'eval_metric': 'AUC', 'od_type': 'Iter',\n",
    "          'od_wait': 40,\n",
    "          'custom_metric': ['AUC'],\n",
    "          'iterations': 4000,\n",
    "          'random_seed': 42}\n",
    "train_pool = Pool(x_train, y_train, cat_features=categorical_features_indices)\n",
    "validate_pool = Pool(x_test, y_test, cat_features=categorical_features_indices)\n"
   ]
  },
  {
   "cell_type": "code",
   "execution_count": 68,
   "metadata": {},
   "outputs": [
    {
     "name": "stdout",
     "output_type": "stream",
     "text": [
      "0:\ttest: 0.6803790\tbest: 0.6803790 (0)\ttotal: 235ms\tremaining: 15m 40s\n",
      "1:\ttest: 0.6910790\tbest: 0.6910790 (1)\ttotal: 418ms\tremaining: 13m 56s\n",
      "2:\ttest: 0.6931592\tbest: 0.6931592 (2)\ttotal: 602ms\tremaining: 13m 21s\n",
      "3:\ttest: 0.6938296\tbest: 0.6938296 (3)\ttotal: 788ms\tremaining: 13m 6s\n",
      "4:\ttest: 0.6936204\tbest: 0.6938296 (3)\ttotal: 980ms\tremaining: 13m 3s\n",
      "5:\ttest: 0.6941532\tbest: 0.6941532 (5)\ttotal: 1.17s\tremaining: 12m 57s\n",
      "6:\ttest: 0.6950643\tbest: 0.6950643 (6)\ttotal: 1.35s\tremaining: 12m 50s\n",
      "7:\ttest: 0.6956408\tbest: 0.6956408 (7)\ttotal: 1.53s\tremaining: 12m 43s\n",
      "8:\ttest: 0.6956057\tbest: 0.6956408 (7)\ttotal: 1.72s\tremaining: 12m 40s\n",
      "9:\ttest: 0.6958433\tbest: 0.6958433 (9)\ttotal: 1.89s\tremaining: 12m 34s\n",
      "10:\ttest: 0.6963877\tbest: 0.6963877 (10)\ttotal: 2.08s\tremaining: 12m 32s\n",
      "11:\ttest: 0.6962129\tbest: 0.6963877 (10)\ttotal: 2.26s\tremaining: 12m 31s\n",
      "12:\ttest: 0.6962799\tbest: 0.6963877 (10)\ttotal: 2.43s\tremaining: 12m 25s\n",
      "13:\ttest: 0.6965248\tbest: 0.6965248 (13)\ttotal: 2.6s\tremaining: 12m 18s\n",
      "14:\ttest: 0.6969503\tbest: 0.6969503 (14)\ttotal: 2.76s\tremaining: 12m 13s\n",
      "15:\ttest: 0.6969470\tbest: 0.6969503 (14)\ttotal: 2.93s\tremaining: 12m 8s\n",
      "16:\ttest: 0.6969490\tbest: 0.6969503 (14)\ttotal: 3.1s\tremaining: 12m 6s\n",
      "17:\ttest: 0.6968508\tbest: 0.6969503 (14)\ttotal: 3.25s\tremaining: 11m 59s\n",
      "18:\ttest: 0.6966283\tbest: 0.6969503 (14)\ttotal: 3.38s\tremaining: 11m 48s\n",
      "19:\ttest: 0.6966199\tbest: 0.6969503 (14)\ttotal: 3.56s\tremaining: 11m 48s\n",
      "20:\ttest: 0.6965457\tbest: 0.6969503 (14)\ttotal: 3.74s\tremaining: 11m 48s\n",
      "21:\ttest: 0.6967903\tbest: 0.6969503 (14)\ttotal: 3.91s\tremaining: 11m 47s\n",
      "22:\ttest: 0.6969980\tbest: 0.6969980 (22)\ttotal: 4.09s\tremaining: 11m 46s\n",
      "23:\ttest: 0.6969506\tbest: 0.6969980 (22)\ttotal: 4.27s\tremaining: 11m 47s\n",
      "24:\ttest: 0.6969560\tbest: 0.6969980 (22)\ttotal: 4.44s\tremaining: 11m 45s\n",
      "25:\ttest: 0.6969874\tbest: 0.6969980 (22)\ttotal: 4.61s\tremaining: 11m 45s\n",
      "26:\ttest: 0.6970474\tbest: 0.6970474 (26)\ttotal: 4.78s\tremaining: 11m 43s\n",
      "27:\ttest: 0.6971932\tbest: 0.6971932 (27)\ttotal: 4.95s\tremaining: 11m 42s\n",
      "28:\ttest: 0.6973645\tbest: 0.6973645 (28)\ttotal: 5.13s\tremaining: 11m 41s\n",
      "29:\ttest: 0.6976191\tbest: 0.6976191 (29)\ttotal: 5.29s\tremaining: 11m 40s\n",
      "30:\ttest: 0.6976209\tbest: 0.6976209 (30)\ttotal: 5.46s\tremaining: 11m 38s\n",
      "31:\ttest: 0.6975926\tbest: 0.6976209 (30)\ttotal: 5.63s\tremaining: 11m 38s\n",
      "32:\ttest: 0.6978160\tbest: 0.6978160 (32)\ttotal: 5.8s\tremaining: 11m 37s\n",
      "33:\ttest: 0.6977895\tbest: 0.6978160 (32)\ttotal: 5.97s\tremaining: 11m 37s\n",
      "34:\ttest: 0.6978737\tbest: 0.6978737 (34)\ttotal: 6.14s\tremaining: 11m 36s\n",
      "35:\ttest: 0.6979092\tbest: 0.6979092 (35)\ttotal: 6.32s\tremaining: 11m 35s\n",
      "36:\ttest: 0.6980119\tbest: 0.6980119 (36)\ttotal: 6.5s\tremaining: 11m 35s\n",
      "37:\ttest: 0.6981781\tbest: 0.6981781 (37)\ttotal: 6.67s\tremaining: 11m 35s\n",
      "38:\ttest: 0.6982358\tbest: 0.6982358 (38)\ttotal: 6.83s\tremaining: 11m 33s\n",
      "39:\ttest: 0.6985282\tbest: 0.6985282 (39)\ttotal: 7.03s\tremaining: 11m 35s\n",
      "40:\ttest: 0.6985993\tbest: 0.6985993 (40)\ttotal: 7.26s\tremaining: 11m 41s\n",
      "41:\ttest: 0.6987143\tbest: 0.6987143 (41)\ttotal: 7.44s\tremaining: 11m 41s\n",
      "42:\ttest: 0.6987042\tbest: 0.6987143 (41)\ttotal: 7.65s\tremaining: 11m 44s\n",
      "43:\ttest: 0.6986904\tbest: 0.6987143 (41)\ttotal: 7.83s\tremaining: 11m 43s\n",
      "44:\ttest: 0.6986452\tbest: 0.6987143 (41)\ttotal: 7.94s\tremaining: 11m 38s\n",
      "45:\ttest: 0.6987623\tbest: 0.6987623 (45)\ttotal: 8.11s\tremaining: 11m 36s\n",
      "46:\ttest: 0.6986890\tbest: 0.6987623 (45)\ttotal: 8.23s\tremaining: 11m 32s\n",
      "47:\ttest: 0.6986823\tbest: 0.6987623 (45)\ttotal: 8.39s\tremaining: 11m 31s\n",
      "48:\ttest: 0.6986523\tbest: 0.6987623 (45)\ttotal: 8.6s\tremaining: 11m 33s\n",
      "49:\ttest: 0.6987928\tbest: 0.6987928 (49)\ttotal: 8.78s\tremaining: 11m 33s\n",
      "50:\ttest: 0.6988278\tbest: 0.6988278 (50)\ttotal: 8.94s\tremaining: 11m 32s\n",
      "51:\ttest: 0.6988985\tbest: 0.6988985 (51)\ttotal: 9.11s\tremaining: 11m 31s\n",
      "52:\ttest: 0.6988219\tbest: 0.6988985 (51)\ttotal: 9.21s\tremaining: 11m 25s\n",
      "53:\ttest: 0.6987212\tbest: 0.6988985 (51)\ttotal: 9.32s\tremaining: 11m 21s\n",
      "54:\ttest: 0.6987694\tbest: 0.6988985 (51)\ttotal: 9.52s\tremaining: 11m 22s\n",
      "55:\ttest: 0.6987960\tbest: 0.6988985 (51)\ttotal: 9.71s\tremaining: 11m 23s\n",
      "56:\ttest: 0.6988870\tbest: 0.6988985 (51)\ttotal: 9.89s\tremaining: 11m 24s\n",
      "57:\ttest: 0.6990179\tbest: 0.6990179 (57)\ttotal: 10.1s\tremaining: 11m 25s\n",
      "58:\ttest: 0.6991706\tbest: 0.6991706 (58)\ttotal: 10.3s\tremaining: 11m 24s\n",
      "59:\ttest: 0.6992044\tbest: 0.6992044 (59)\ttotal: 10.4s\tremaining: 11m 24s\n",
      "60:\ttest: 0.6992042\tbest: 0.6992044 (59)\ttotal: 10.6s\tremaining: 11m 25s\n",
      "61:\ttest: 0.6992555\tbest: 0.6992555 (61)\ttotal: 10.8s\tremaining: 11m 25s\n",
      "62:\ttest: 0.6992906\tbest: 0.6992906 (62)\ttotal: 11s\tremaining: 11m 24s\n",
      "63:\ttest: 0.6994314\tbest: 0.6994314 (63)\ttotal: 11.2s\tremaining: 11m 25s\n",
      "64:\ttest: 0.6993423\tbest: 0.6994314 (63)\ttotal: 11.3s\tremaining: 11m 24s\n",
      "65:\ttest: 0.6993778\tbest: 0.6994314 (63)\ttotal: 11.5s\tremaining: 11m 24s\n",
      "66:\ttest: 0.6993720\tbest: 0.6994314 (63)\ttotal: 11.6s\tremaining: 11m 23s\n",
      "67:\ttest: 0.6994492\tbest: 0.6994492 (67)\ttotal: 11.8s\tremaining: 11m 23s\n",
      "68:\ttest: 0.6994630\tbest: 0.6994630 (68)\ttotal: 12s\tremaining: 11m 23s\n",
      "69:\ttest: 0.6995325\tbest: 0.6995325 (69)\ttotal: 12.2s\tremaining: 11m 24s\n",
      "70:\ttest: 0.6995503\tbest: 0.6995503 (70)\ttotal: 12.4s\tremaining: 11m 24s\n",
      "71:\ttest: 0.6995931\tbest: 0.6995931 (71)\ttotal: 12.5s\tremaining: 11m 24s\n",
      "72:\ttest: 0.6995728\tbest: 0.6995931 (71)\ttotal: 12.7s\tremaining: 11m 24s\n",
      "73:\ttest: 0.6996824\tbest: 0.6996824 (73)\ttotal: 12.9s\tremaining: 11m 26s\n",
      "74:\ttest: 0.6997668\tbest: 0.6997668 (74)\ttotal: 13.1s\tremaining: 11m 26s\n",
      "75:\ttest: 0.6998097\tbest: 0.6998097 (75)\ttotal: 13.3s\tremaining: 11m 26s\n",
      "76:\ttest: 0.6998161\tbest: 0.6998161 (76)\ttotal: 13.5s\tremaining: 11m 25s\n",
      "77:\ttest: 0.6998277\tbest: 0.6998277 (77)\ttotal: 13.6s\tremaining: 11m 25s\n",
      "78:\ttest: 0.6999018\tbest: 0.6999018 (78)\ttotal: 13.8s\tremaining: 11m 26s\n",
      "79:\ttest: 0.7000263\tbest: 0.7000263 (79)\ttotal: 14s\tremaining: 11m 26s\n",
      "80:\ttest: 0.7001484\tbest: 0.7001484 (80)\ttotal: 14.2s\tremaining: 11m 26s\n",
      "81:\ttest: 0.7001417\tbest: 0.7001484 (80)\ttotal: 14.3s\tremaining: 11m 23s\n",
      "82:\ttest: 0.7001508\tbest: 0.7001508 (82)\ttotal: 14.5s\tremaining: 11m 23s\n",
      "83:\ttest: 0.7001310\tbest: 0.7001508 (82)\ttotal: 14.6s\tremaining: 11m 22s\n",
      "84:\ttest: 0.7001466\tbest: 0.7001508 (82)\ttotal: 14.8s\tremaining: 11m 22s\n",
      "85:\ttest: 0.7001796\tbest: 0.7001796 (85)\ttotal: 15s\tremaining: 11m 20s\n",
      "86:\ttest: 0.7002199\tbest: 0.7002199 (86)\ttotal: 15.1s\tremaining: 11m 20s\n",
      "87:\ttest: 0.7003120\tbest: 0.7003120 (87)\ttotal: 15.3s\tremaining: 11m 20s\n",
      "88:\ttest: 0.7003334\tbest: 0.7003334 (88)\ttotal: 15.5s\tremaining: 11m 21s\n",
      "89:\ttest: 0.7003572\tbest: 0.7003572 (89)\ttotal: 15.7s\tremaining: 11m 20s\n",
      "90:\ttest: 0.7004994\tbest: 0.7004994 (90)\ttotal: 15.8s\tremaining: 11m 20s\n",
      "91:\ttest: 0.7005283\tbest: 0.7005283 (91)\ttotal: 16s\tremaining: 11m 20s\n",
      "92:\ttest: 0.7004990\tbest: 0.7005283 (91)\ttotal: 16.2s\tremaining: 11m 19s\n",
      "93:\ttest: 0.7005739\tbest: 0.7005739 (93)\ttotal: 16.3s\tremaining: 11m 19s\n",
      "94:\ttest: 0.7005847\tbest: 0.7005847 (94)\ttotal: 16.5s\tremaining: 11m 20s\n",
      "95:\ttest: 0.7006544\tbest: 0.7006544 (95)\ttotal: 16.7s\tremaining: 11m 20s\n",
      "96:\ttest: 0.7007357\tbest: 0.7007357 (96)\ttotal: 16.9s\tremaining: 11m 20s\n",
      "97:\ttest: 0.7008052\tbest: 0.7008052 (97)\ttotal: 17.1s\tremaining: 11m 20s\n",
      "98:\ttest: 0.7008524\tbest: 0.7008524 (98)\ttotal: 17.3s\tremaining: 11m 19s\n",
      "99:\ttest: 0.7009070\tbest: 0.7009070 (99)\ttotal: 17.4s\tremaining: 11m 19s\n",
      "100:\ttest: 0.7009750\tbest: 0.7009750 (100)\ttotal: 17.6s\tremaining: 11m 19s\n",
      "101:\ttest: 0.7010252\tbest: 0.7010252 (101)\ttotal: 17.8s\tremaining: 11m 19s\n",
      "102:\ttest: 0.7010321\tbest: 0.7010321 (102)\ttotal: 17.9s\tremaining: 11m 18s\n",
      "103:\ttest: 0.7010333\tbest: 0.7010333 (103)\ttotal: 18.1s\tremaining: 11m 17s\n",
      "104:\ttest: 0.7010971\tbest: 0.7010971 (104)\ttotal: 18.2s\tremaining: 11m 15s\n",
      "105:\ttest: 0.7011760\tbest: 0.7011760 (105)\ttotal: 18.4s\tremaining: 11m 15s\n",
      "106:\ttest: 0.7012135\tbest: 0.7012135 (106)\ttotal: 18.6s\tremaining: 11m 15s\n",
      "107:\ttest: 0.7013345\tbest: 0.7013345 (107)\ttotal: 18.7s\tremaining: 11m 13s\n",
      "108:\ttest: 0.7013819\tbest: 0.7013819 (108)\ttotal: 18.9s\tremaining: 11m 13s\n",
      "109:\ttest: 0.7014636\tbest: 0.7014636 (109)\ttotal: 19s\tremaining: 11m 12s\n",
      "110:\ttest: 0.7015288\tbest: 0.7015288 (110)\ttotal: 19.2s\tremaining: 11m 12s\n",
      "111:\ttest: 0.7015655\tbest: 0.7015655 (111)\ttotal: 19.4s\tremaining: 11m 11s\n",
      "112:\ttest: 0.7015627\tbest: 0.7015655 (111)\ttotal: 19.5s\tremaining: 11m 10s\n"
     ]
    },
    {
     "name": "stdout",
     "output_type": "stream",
     "text": [
      "113:\ttest: 0.7015716\tbest: 0.7015716 (113)\ttotal: 19.6s\tremaining: 11m 8s\n",
      "114:\ttest: 0.7016208\tbest: 0.7016208 (114)\ttotal: 19.8s\tremaining: 11m 8s\n",
      "115:\ttest: 0.7016688\tbest: 0.7016688 (115)\ttotal: 20s\tremaining: 11m 8s\n",
      "116:\ttest: 0.7016594\tbest: 0.7016688 (115)\ttotal: 20.1s\tremaining: 11m 7s\n",
      "117:\ttest: 0.7016838\tbest: 0.7016838 (117)\ttotal: 20.3s\tremaining: 11m 6s\n",
      "118:\ttest: 0.7017589\tbest: 0.7017589 (118)\ttotal: 20.4s\tremaining: 11m 5s\n",
      "119:\ttest: 0.7017361\tbest: 0.7017589 (118)\ttotal: 20.6s\tremaining: 11m 4s\n",
      "120:\ttest: 0.7017687\tbest: 0.7017687 (120)\ttotal: 20.7s\tremaining: 11m 4s\n",
      "121:\ttest: 0.7018409\tbest: 0.7018409 (121)\ttotal: 20.9s\tremaining: 11m 4s\n",
      "122:\ttest: 0.7018292\tbest: 0.7018409 (121)\ttotal: 21s\tremaining: 11m 2s\n",
      "123:\ttest: 0.7018002\tbest: 0.7018409 (121)\ttotal: 21.1s\tremaining: 10m 59s\n",
      "124:\ttest: 0.7019176\tbest: 0.7019176 (124)\ttotal: 21.3s\tremaining: 10m 58s\n",
      "125:\ttest: 0.7018811\tbest: 0.7019176 (124)\ttotal: 21.4s\tremaining: 10m 56s\n",
      "126:\ttest: 0.7019081\tbest: 0.7019176 (124)\ttotal: 21.5s\tremaining: 10m 54s\n",
      "127:\ttest: 0.7019441\tbest: 0.7019441 (127)\ttotal: 21.6s\tremaining: 10m 54s\n",
      "128:\ttest: 0.7019386\tbest: 0.7019441 (127)\ttotal: 21.7s\tremaining: 10m 51s\n",
      "129:\ttest: 0.7019917\tbest: 0.7019917 (129)\ttotal: 21.9s\tremaining: 10m 51s\n",
      "130:\ttest: 0.7020465\tbest: 0.7020465 (130)\ttotal: 22s\tremaining: 10m 50s\n",
      "131:\ttest: 0.7021036\tbest: 0.7021036 (131)\ttotal: 22.2s\tremaining: 10m 51s\n",
      "132:\ttest: 0.7020968\tbest: 0.7021036 (131)\ttotal: 22.4s\tremaining: 10m 50s\n",
      "133:\ttest: 0.7021437\tbest: 0.7021437 (133)\ttotal: 22.5s\tremaining: 10m 49s\n",
      "134:\ttest: 0.7021852\tbest: 0.7021852 (134)\ttotal: 22.7s\tremaining: 10m 49s\n",
      "135:\ttest: 0.7022426\tbest: 0.7022426 (135)\ttotal: 22.8s\tremaining: 10m 48s\n",
      "136:\ttest: 0.7022902\tbest: 0.7022902 (136)\ttotal: 23s\tremaining: 10m 48s\n",
      "137:\ttest: 0.7023620\tbest: 0.7023620 (137)\ttotal: 23.2s\tremaining: 10m 48s\n",
      "138:\ttest: 0.7024133\tbest: 0.7024133 (138)\ttotal: 23.3s\tremaining: 10m 48s\n",
      "139:\ttest: 0.7023914\tbest: 0.7024133 (138)\ttotal: 23.4s\tremaining: 10m 45s\n",
      "140:\ttest: 0.7024630\tbest: 0.7024630 (140)\ttotal: 23.6s\tremaining: 10m 45s\n",
      "141:\ttest: 0.7025509\tbest: 0.7025509 (141)\ttotal: 23.8s\tremaining: 10m 45s\n",
      "142:\ttest: 0.7025765\tbest: 0.7025765 (142)\ttotal: 23.9s\tremaining: 10m 45s\n",
      "143:\ttest: 0.7026242\tbest: 0.7026242 (143)\ttotal: 24.1s\tremaining: 10m 45s\n",
      "144:\ttest: 0.7026146\tbest: 0.7026242 (143)\ttotal: 24.2s\tremaining: 10m 43s\n",
      "145:\ttest: 0.7026439\tbest: 0.7026439 (145)\ttotal: 24.4s\tremaining: 10m 43s\n",
      "146:\ttest: 0.7026738\tbest: 0.7026738 (146)\ttotal: 24.5s\tremaining: 10m 43s\n",
      "147:\ttest: 0.7027215\tbest: 0.7027215 (147)\ttotal: 24.7s\tremaining: 10m 43s\n",
      "148:\ttest: 0.7027459\tbest: 0.7027459 (148)\ttotal: 24.9s\tremaining: 10m 43s\n",
      "149:\ttest: 0.7027979\tbest: 0.7027979 (149)\ttotal: 25.1s\tremaining: 10m 43s\n",
      "150:\ttest: 0.7028013\tbest: 0.7028013 (150)\ttotal: 25.3s\tremaining: 10m 43s\n",
      "151:\ttest: 0.7028211\tbest: 0.7028211 (151)\ttotal: 25.4s\tremaining: 10m 42s\n",
      "152:\ttest: 0.7028745\tbest: 0.7028745 (152)\ttotal: 25.6s\tremaining: 10m 42s\n",
      "153:\ttest: 0.7029015\tbest: 0.7029015 (153)\ttotal: 25.7s\tremaining: 10m 41s\n",
      "154:\ttest: 0.7029718\tbest: 0.7029718 (154)\ttotal: 25.9s\tremaining: 10m 41s\n",
      "155:\ttest: 0.7030287\tbest: 0.7030287 (155)\ttotal: 26s\tremaining: 10m 41s\n",
      "156:\ttest: 0.7030525\tbest: 0.7030525 (156)\ttotal: 26.2s\tremaining: 10m 41s\n",
      "157:\ttest: 0.7030445\tbest: 0.7030525 (156)\ttotal: 26.3s\tremaining: 10m 38s\n",
      "158:\ttest: 0.7031090\tbest: 0.7031090 (158)\ttotal: 26.4s\tremaining: 10m 38s\n",
      "159:\ttest: 0.7031173\tbest: 0.7031173 (159)\ttotal: 26.6s\tremaining: 10m 38s\n",
      "160:\ttest: 0.7031291\tbest: 0.7031291 (160)\ttotal: 26.8s\tremaining: 10m 37s\n",
      "161:\ttest: 0.7031917\tbest: 0.7031917 (161)\ttotal: 26.9s\tremaining: 10m 37s\n",
      "162:\ttest: 0.7032400\tbest: 0.7032400 (162)\ttotal: 27.1s\tremaining: 10m 37s\n",
      "163:\ttest: 0.7032400\tbest: 0.7032400 (162)\ttotal: 27.2s\tremaining: 10m 35s\n",
      "164:\ttest: 0.7032659\tbest: 0.7032659 (164)\ttotal: 27.3s\tremaining: 10m 34s\n",
      "165:\ttest: 0.7032647\tbest: 0.7032659 (164)\ttotal: 27.5s\tremaining: 10m 34s\n",
      "166:\ttest: 0.7032956\tbest: 0.7032956 (166)\ttotal: 27.7s\tremaining: 10m 34s\n",
      "167:\ttest: 0.7033321\tbest: 0.7033321 (167)\ttotal: 27.8s\tremaining: 10m 35s\n",
      "168:\ttest: 0.7033382\tbest: 0.7033382 (168)\ttotal: 28s\tremaining: 10m 34s\n",
      "169:\ttest: 0.7033684\tbest: 0.7033684 (169)\ttotal: 28.2s\tremaining: 10m 34s\n",
      "170:\ttest: 0.7034103\tbest: 0.7034103 (170)\ttotal: 28.4s\tremaining: 10m 34s\n",
      "171:\ttest: 0.7034225\tbest: 0.7034225 (171)\ttotal: 28.5s\tremaining: 10m 33s\n",
      "172:\ttest: 0.7034317\tbest: 0.7034317 (172)\ttotal: 28.7s\tremaining: 10m 34s\n",
      "173:\ttest: 0.7034903\tbest: 0.7034903 (173)\ttotal: 28.8s\tremaining: 10m 33s\n",
      "174:\ttest: 0.7035336\tbest: 0.7035336 (174)\ttotal: 29s\tremaining: 10m 34s\n",
      "175:\ttest: 0.7035806\tbest: 0.7035806 (175)\ttotal: 29.2s\tremaining: 10m 34s\n",
      "176:\ttest: 0.7036065\tbest: 0.7036065 (176)\ttotal: 29.4s\tremaining: 10m 34s\n",
      "177:\ttest: 0.7036298\tbest: 0.7036298 (177)\ttotal: 29.6s\tremaining: 10m 34s\n",
      "178:\ttest: 0.7036850\tbest: 0.7036850 (178)\ttotal: 29.7s\tremaining: 10m 35s\n",
      "179:\ttest: 0.7037270\tbest: 0.7037270 (179)\ttotal: 29.9s\tremaining: 10m 34s\n",
      "180:\ttest: 0.7037578\tbest: 0.7037578 (180)\ttotal: 30.1s\tremaining: 10m 34s\n",
      "181:\ttest: 0.7038030\tbest: 0.7038030 (181)\ttotal: 30.2s\tremaining: 10m 34s\n",
      "182:\ttest: 0.7038459\tbest: 0.7038459 (182)\ttotal: 30.4s\tremaining: 10m 35s\n",
      "183:\ttest: 0.7038783\tbest: 0.7038783 (183)\ttotal: 30.7s\tremaining: 10m 36s\n",
      "184:\ttest: 0.7038697\tbest: 0.7038783 (183)\ttotal: 30.8s\tremaining: 10m 36s\n",
      "185:\ttest: 0.7039100\tbest: 0.7039100 (185)\ttotal: 31.1s\tremaining: 10m 37s\n",
      "186:\ttest: 0.7039346\tbest: 0.7039346 (186)\ttotal: 31.3s\tremaining: 10m 38s\n",
      "187:\ttest: 0.7039761\tbest: 0.7039761 (187)\ttotal: 31.6s\tremaining: 10m 40s\n",
      "188:\ttest: 0.7040117\tbest: 0.7040117 (188)\ttotal: 31.8s\tremaining: 10m 41s\n",
      "189:\ttest: 0.7040362\tbest: 0.7040362 (189)\ttotal: 32s\tremaining: 10m 42s\n",
      "190:\ttest: 0.7040663\tbest: 0.7040663 (190)\ttotal: 32.3s\tremaining: 10m 43s\n",
      "191:\ttest: 0.7040849\tbest: 0.7040849 (191)\ttotal: 32.4s\tremaining: 10m 43s\n",
      "192:\ttest: 0.7041114\tbest: 0.7041114 (192)\ttotal: 32.6s\tremaining: 10m 43s\n",
      "193:\ttest: 0.7041272\tbest: 0.7041272 (193)\ttotal: 32.8s\tremaining: 10m 44s\n",
      "194:\ttest: 0.7041628\tbest: 0.7041628 (194)\ttotal: 33s\tremaining: 10m 44s\n",
      "195:\ttest: 0.7042086\tbest: 0.7042086 (195)\ttotal: 33.2s\tremaining: 10m 44s\n",
      "196:\ttest: 0.7042121\tbest: 0.7042121 (196)\ttotal: 33.3s\tremaining: 10m 43s\n",
      "197:\ttest: 0.7042367\tbest: 0.7042367 (197)\ttotal: 33.5s\tremaining: 10m 43s\n",
      "198:\ttest: 0.7042759\tbest: 0.7042759 (198)\ttotal: 33.7s\tremaining: 10m 43s\n",
      "199:\ttest: 0.7043137\tbest: 0.7043137 (199)\ttotal: 33.9s\tremaining: 10m 43s\n",
      "200:\ttest: 0.7043373\tbest: 0.7043373 (200)\ttotal: 34.1s\tremaining: 10m 43s\n",
      "201:\ttest: 0.7043378\tbest: 0.7043378 (201)\ttotal: 34.3s\tremaining: 10m 44s\n",
      "202:\ttest: 0.7043594\tbest: 0.7043594 (202)\ttotal: 34.4s\tremaining: 10m 44s\n",
      "203:\ttest: 0.7043756\tbest: 0.7043756 (203)\ttotal: 34.6s\tremaining: 10m 44s\n",
      "204:\ttest: 0.7043700\tbest: 0.7043756 (203)\ttotal: 34.8s\tremaining: 10m 43s\n",
      "205:\ttest: 0.7044218\tbest: 0.7044218 (205)\ttotal: 35s\tremaining: 10m 43s\n",
      "206:\ttest: 0.7044489\tbest: 0.7044489 (206)\ttotal: 35.2s\tremaining: 10m 44s\n",
      "207:\ttest: 0.7044757\tbest: 0.7044757 (207)\ttotal: 35.4s\tremaining: 10m 44s\n",
      "208:\ttest: 0.7045195\tbest: 0.7045195 (208)\ttotal: 35.5s\tremaining: 10m 44s\n",
      "209:\ttest: 0.7045441\tbest: 0.7045441 (209)\ttotal: 35.7s\tremaining: 10m 44s\n",
      "210:\ttest: 0.7045527\tbest: 0.7045527 (210)\ttotal: 35.9s\tremaining: 10m 44s\n",
      "211:\ttest: 0.7045526\tbest: 0.7045527 (210)\ttotal: 36.1s\tremaining: 10m 45s\n",
      "212:\ttest: 0.7045800\tbest: 0.7045800 (212)\ttotal: 36.3s\tremaining: 10m 46s\n",
      "213:\ttest: 0.7046194\tbest: 0.7046194 (213)\ttotal: 36.6s\tremaining: 10m 46s\n",
      "214:\ttest: 0.7046499\tbest: 0.7046499 (214)\ttotal: 36.7s\tremaining: 10m 46s\n",
      "215:\ttest: 0.7046821\tbest: 0.7046821 (215)\ttotal: 36.9s\tremaining: 10m 46s\n",
      "216:\ttest: 0.7047154\tbest: 0.7047154 (216)\ttotal: 37.1s\tremaining: 10m 46s\n",
      "217:\ttest: 0.7047276\tbest: 0.7047276 (217)\ttotal: 37.2s\tremaining: 10m 45s\n",
      "218:\ttest: 0.7047296\tbest: 0.7047296 (218)\ttotal: 37.3s\tremaining: 10m 44s\n",
      "219:\ttest: 0.7047422\tbest: 0.7047422 (219)\ttotal: 37.5s\tremaining: 10m 43s\n",
      "220:\ttest: 0.7047559\tbest: 0.7047559 (220)\ttotal: 37.7s\tremaining: 10m 44s\n",
      "221:\ttest: 0.7047647\tbest: 0.7047647 (221)\ttotal: 37.8s\tremaining: 10m 43s\n",
      "222:\ttest: 0.7048003\tbest: 0.7048003 (222)\ttotal: 38s\tremaining: 10m 43s\n"
     ]
    },
    {
     "name": "stdout",
     "output_type": "stream",
     "text": [
      "223:\ttest: 0.7048247\tbest: 0.7048247 (223)\ttotal: 38.2s\tremaining: 10m 43s\n",
      "224:\ttest: 0.7048199\tbest: 0.7048247 (223)\ttotal: 38.2s\tremaining: 10m 41s\n",
      "225:\ttest: 0.7048520\tbest: 0.7048520 (225)\ttotal: 38.4s\tremaining: 10m 41s\n",
      "226:\ttest: 0.7048874\tbest: 0.7048874 (226)\ttotal: 38.5s\tremaining: 10m 40s\n",
      "227:\ttest: 0.7049078\tbest: 0.7049078 (227)\ttotal: 38.7s\tremaining: 10m 39s\n",
      "228:\ttest: 0.7049170\tbest: 0.7049170 (228)\ttotal: 38.8s\tremaining: 10m 39s\n",
      "229:\ttest: 0.7049581\tbest: 0.7049581 (229)\ttotal: 39s\tremaining: 10m 39s\n",
      "230:\ttest: 0.7049873\tbest: 0.7049873 (230)\ttotal: 39.2s\tremaining: 10m 38s\n",
      "231:\ttest: 0.7050063\tbest: 0.7050063 (231)\ttotal: 39.3s\tremaining: 10m 38s\n",
      "232:\ttest: 0.7050376\tbest: 0.7050376 (232)\ttotal: 39.5s\tremaining: 10m 38s\n",
      "233:\ttest: 0.7050608\tbest: 0.7050608 (233)\ttotal: 39.7s\tremaining: 10m 38s\n",
      "234:\ttest: 0.7050691\tbest: 0.7050691 (234)\ttotal: 39.8s\tremaining: 10m 38s\n",
      "235:\ttest: 0.7050784\tbest: 0.7050784 (235)\ttotal: 40s\tremaining: 10m 37s\n",
      "236:\ttest: 0.7051085\tbest: 0.7051085 (236)\ttotal: 40.2s\tremaining: 10m 37s\n",
      "237:\ttest: 0.7051128\tbest: 0.7051128 (237)\ttotal: 40.4s\tremaining: 10m 37s\n",
      "238:\ttest: 0.7051198\tbest: 0.7051198 (238)\ttotal: 40.5s\tremaining: 10m 38s\n",
      "239:\ttest: 0.7051575\tbest: 0.7051575 (239)\ttotal: 40.7s\tremaining: 10m 37s\n",
      "240:\ttest: 0.7051722\tbest: 0.7051722 (240)\ttotal: 40.9s\tremaining: 10m 37s\n",
      "241:\ttest: 0.7051830\tbest: 0.7051830 (241)\ttotal: 41.1s\tremaining: 10m 37s\n",
      "242:\ttest: 0.7052193\tbest: 0.7052193 (242)\ttotal: 41.2s\tremaining: 10m 37s\n",
      "243:\ttest: 0.7052468\tbest: 0.7052468 (243)\ttotal: 41.4s\tremaining: 10m 37s\n",
      "244:\ttest: 0.7052733\tbest: 0.7052733 (244)\ttotal: 41.5s\tremaining: 10m 36s\n",
      "245:\ttest: 0.7053144\tbest: 0.7053144 (245)\ttotal: 41.7s\tremaining: 10m 36s\n",
      "246:\ttest: 0.7053445\tbest: 0.7053445 (246)\ttotal: 41.9s\tremaining: 10m 36s\n",
      "247:\ttest: 0.7053745\tbest: 0.7053745 (247)\ttotal: 42.1s\tremaining: 10m 37s\n",
      "248:\ttest: 0.7054105\tbest: 0.7054105 (248)\ttotal: 42.3s\tremaining: 10m 37s\n",
      "249:\ttest: 0.7054398\tbest: 0.7054398 (249)\ttotal: 42.6s\tremaining: 10m 38s\n",
      "250:\ttest: 0.7054417\tbest: 0.7054417 (250)\ttotal: 42.9s\tremaining: 10m 40s\n",
      "251:\ttest: 0.7054914\tbest: 0.7054914 (251)\ttotal: 43.1s\tremaining: 10m 41s\n",
      "252:\ttest: 0.7055247\tbest: 0.7055247 (252)\ttotal: 43.3s\tremaining: 10m 41s\n",
      "253:\ttest: 0.7055497\tbest: 0.7055497 (253)\ttotal: 43.5s\tremaining: 10m 41s\n",
      "254:\ttest: 0.7055757\tbest: 0.7055757 (254)\ttotal: 43.7s\tremaining: 10m 42s\n",
      "255:\ttest: 0.7055978\tbest: 0.7055978 (255)\ttotal: 43.9s\tremaining: 10m 42s\n",
      "256:\ttest: 0.7056371\tbest: 0.7056371 (256)\ttotal: 44.1s\tremaining: 10m 41s\n",
      "257:\ttest: 0.7056692\tbest: 0.7056692 (257)\ttotal: 44.2s\tremaining: 10m 41s\n",
      "258:\ttest: 0.7056929\tbest: 0.7056929 (258)\ttotal: 44.4s\tremaining: 10m 41s\n",
      "259:\ttest: 0.7057274\tbest: 0.7057274 (259)\ttotal: 44.6s\tremaining: 10m 41s\n",
      "260:\ttest: 0.7057456\tbest: 0.7057456 (260)\ttotal: 44.8s\tremaining: 10m 41s\n",
      "261:\ttest: 0.7057651\tbest: 0.7057651 (261)\ttotal: 45s\tremaining: 10m 41s\n",
      "262:\ttest: 0.7057713\tbest: 0.7057713 (262)\ttotal: 45.1s\tremaining: 10m 40s\n",
      "263:\ttest: 0.7057874\tbest: 0.7057874 (263)\ttotal: 45.3s\tremaining: 10m 40s\n",
      "264:\ttest: 0.7058040\tbest: 0.7058040 (264)\ttotal: 45.5s\tremaining: 10m 40s\n",
      "265:\ttest: 0.7058360\tbest: 0.7058360 (265)\ttotal: 45.6s\tremaining: 10m 40s\n",
      "266:\ttest: 0.7058355\tbest: 0.7058360 (265)\ttotal: 45.7s\tremaining: 10m 39s\n",
      "267:\ttest: 0.7058613\tbest: 0.7058613 (267)\ttotal: 45.9s\tremaining: 10m 39s\n",
      "268:\ttest: 0.7058934\tbest: 0.7058934 (268)\ttotal: 46.1s\tremaining: 10m 39s\n",
      "269:\ttest: 0.7059250\tbest: 0.7059250 (269)\ttotal: 46.3s\tremaining: 10m 39s\n",
      "270:\ttest: 0.7059418\tbest: 0.7059418 (270)\ttotal: 46.5s\tremaining: 10m 39s\n",
      "271:\ttest: 0.7059721\tbest: 0.7059721 (271)\ttotal: 46.7s\tremaining: 10m 39s\n",
      "272:\ttest: 0.7060040\tbest: 0.7060040 (272)\ttotal: 46.8s\tremaining: 10m 39s\n",
      "273:\ttest: 0.7060220\tbest: 0.7060220 (273)\ttotal: 47s\tremaining: 10m 39s\n",
      "274:\ttest: 0.7060552\tbest: 0.7060552 (274)\ttotal: 47.2s\tremaining: 10m 39s\n",
      "275:\ttest: 0.7060818\tbest: 0.7060818 (275)\ttotal: 47.4s\tremaining: 10m 38s\n",
      "276:\ttest: 0.7060982\tbest: 0.7060982 (276)\ttotal: 47.5s\tremaining: 10m 38s\n",
      "277:\ttest: 0.7061143\tbest: 0.7061143 (277)\ttotal: 47.7s\tremaining: 10m 38s\n",
      "278:\ttest: 0.7061333\tbest: 0.7061333 (278)\ttotal: 47.9s\tremaining: 10m 38s\n",
      "279:\ttest: 0.7061370\tbest: 0.7061370 (279)\ttotal: 48.1s\tremaining: 10m 38s\n",
      "280:\ttest: 0.7061661\tbest: 0.7061661 (280)\ttotal: 48.3s\tremaining: 10m 38s\n",
      "281:\ttest: 0.7061953\tbest: 0.7061953 (281)\ttotal: 48.5s\tremaining: 10m 39s\n",
      "282:\ttest: 0.7062065\tbest: 0.7062065 (282)\ttotal: 48.7s\tremaining: 10m 39s\n",
      "283:\ttest: 0.7062218\tbest: 0.7062218 (283)\ttotal: 48.9s\tremaining: 10m 39s\n",
      "284:\ttest: 0.7062482\tbest: 0.7062482 (284)\ttotal: 49s\tremaining: 10m 39s\n",
      "285:\ttest: 0.7062662\tbest: 0.7062662 (285)\ttotal: 49.2s\tremaining: 10m 38s\n",
      "286:\ttest: 0.7062696\tbest: 0.7062696 (286)\ttotal: 49.3s\tremaining: 10m 37s\n",
      "287:\ttest: 0.7062833\tbest: 0.7062833 (287)\ttotal: 49.5s\tremaining: 10m 38s\n",
      "288:\ttest: 0.7062987\tbest: 0.7062987 (288)\ttotal: 49.7s\tremaining: 10m 37s\n",
      "289:\ttest: 0.7063111\tbest: 0.7063111 (289)\ttotal: 49.8s\tremaining: 10m 37s\n",
      "290:\ttest: 0.7063307\tbest: 0.7063307 (290)\ttotal: 50s\tremaining: 10m 37s\n",
      "291:\ttest: 0.7063619\tbest: 0.7063619 (291)\ttotal: 50.2s\tremaining: 10m 37s\n",
      "292:\ttest: 0.7063926\tbest: 0.7063926 (292)\ttotal: 50.4s\tremaining: 10m 37s\n",
      "293:\ttest: 0.7064105\tbest: 0.7064105 (293)\ttotal: 50.6s\tremaining: 10m 37s\n",
      "294:\ttest: 0.7064365\tbest: 0.7064365 (294)\ttotal: 50.7s\tremaining: 10m 37s\n",
      "295:\ttest: 0.7064537\tbest: 0.7064537 (295)\ttotal: 50.9s\tremaining: 10m 36s\n",
      "296:\ttest: 0.7064513\tbest: 0.7064537 (295)\ttotal: 51s\tremaining: 10m 35s\n",
      "297:\ttest: 0.7064890\tbest: 0.7064890 (297)\ttotal: 51.2s\tremaining: 10m 35s\n",
      "298:\ttest: 0.7065019\tbest: 0.7065019 (298)\ttotal: 51.3s\tremaining: 10m 35s\n",
      "299:\ttest: 0.7065201\tbest: 0.7065201 (299)\ttotal: 51.5s\tremaining: 10m 35s\n",
      "300:\ttest: 0.7065376\tbest: 0.7065376 (300)\ttotal: 51.7s\tremaining: 10m 34s\n",
      "301:\ttest: 0.7065572\tbest: 0.7065572 (301)\ttotal: 51.8s\tremaining: 10m 34s\n",
      "302:\ttest: 0.7065681\tbest: 0.7065681 (302)\ttotal: 52s\tremaining: 10m 34s\n",
      "303:\ttest: 0.7065677\tbest: 0.7065681 (302)\ttotal: 52.2s\tremaining: 10m 34s\n",
      "304:\ttest: 0.7065872\tbest: 0.7065872 (304)\ttotal: 52.4s\tremaining: 10m 34s\n",
      "305:\ttest: 0.7066018\tbest: 0.7066018 (305)\ttotal: 52.5s\tremaining: 10m 34s\n",
      "306:\ttest: 0.7066269\tbest: 0.7066269 (306)\ttotal: 52.7s\tremaining: 10m 33s\n",
      "307:\ttest: 0.7066500\tbest: 0.7066500 (307)\ttotal: 52.9s\tremaining: 10m 33s\n",
      "308:\ttest: 0.7066576\tbest: 0.7066576 (308)\ttotal: 53s\tremaining: 10m 33s\n",
      "309:\ttest: 0.7066810\tbest: 0.7066810 (309)\ttotal: 53.2s\tremaining: 10m 33s\n",
      "310:\ttest: 0.7066992\tbest: 0.7066992 (310)\ttotal: 53.4s\tremaining: 10m 32s\n",
      "311:\ttest: 0.7067127\tbest: 0.7067127 (311)\ttotal: 53.5s\tremaining: 10m 32s\n",
      "312:\ttest: 0.7067217\tbest: 0.7067217 (312)\ttotal: 53.7s\tremaining: 10m 32s\n",
      "313:\ttest: 0.7067475\tbest: 0.7067475 (313)\ttotal: 53.9s\tremaining: 10m 32s\n",
      "314:\ttest: 0.7067561\tbest: 0.7067561 (314)\ttotal: 54s\tremaining: 10m 31s\n",
      "315:\ttest: 0.7067681\tbest: 0.7067681 (315)\ttotal: 54.2s\tremaining: 10m 31s\n",
      "316:\ttest: 0.7067687\tbest: 0.7067687 (316)\ttotal: 54.3s\tremaining: 10m 30s\n",
      "317:\ttest: 0.7067864\tbest: 0.7067864 (317)\ttotal: 54.4s\tremaining: 10m 30s\n",
      "318:\ttest: 0.7068013\tbest: 0.7068013 (318)\ttotal: 54.6s\tremaining: 10m 30s\n",
      "319:\ttest: 0.7068242\tbest: 0.7068242 (319)\ttotal: 54.8s\tremaining: 10m 29s\n",
      "320:\ttest: 0.7068489\tbest: 0.7068489 (320)\ttotal: 54.9s\tremaining: 10m 29s\n",
      "321:\ttest: 0.7068669\tbest: 0.7068669 (321)\ttotal: 55.1s\tremaining: 10m 29s\n",
      "322:\ttest: 0.7068773\tbest: 0.7068773 (322)\ttotal: 55.3s\tremaining: 10m 29s\n",
      "323:\ttest: 0.7068928\tbest: 0.7068928 (323)\ttotal: 55.4s\tremaining: 10m 28s\n",
      "324:\ttest: 0.7069061\tbest: 0.7069061 (324)\ttotal: 55.6s\tremaining: 10m 28s\n",
      "325:\ttest: 0.7069187\tbest: 0.7069187 (325)\ttotal: 55.7s\tremaining: 10m 28s\n",
      "326:\ttest: 0.7069339\tbest: 0.7069339 (326)\ttotal: 55.9s\tremaining: 10m 27s\n",
      "327:\ttest: 0.7069384\tbest: 0.7069384 (327)\ttotal: 56.1s\tremaining: 10m 27s\n",
      "328:\ttest: 0.7069641\tbest: 0.7069641 (328)\ttotal: 56.2s\tremaining: 10m 27s\n",
      "329:\ttest: 0.7069740\tbest: 0.7069740 (329)\ttotal: 56.4s\tremaining: 10m 27s\n",
      "330:\ttest: 0.7069871\tbest: 0.7069871 (330)\ttotal: 56.5s\tremaining: 10m 26s\n",
      "331:\ttest: 0.7070090\tbest: 0.7070090 (331)\ttotal: 56.7s\tremaining: 10m 26s\n",
      "332:\ttest: 0.7070206\tbest: 0.7070206 (332)\ttotal: 56.9s\tremaining: 10m 26s\n"
     ]
    },
    {
     "name": "stdout",
     "output_type": "stream",
     "text": [
      "333:\ttest: 0.7070246\tbest: 0.7070246 (333)\ttotal: 57s\tremaining: 10m 25s\n",
      "334:\ttest: 0.7070358\tbest: 0.7070358 (334)\ttotal: 57.2s\tremaining: 10m 25s\n",
      "335:\ttest: 0.7070338\tbest: 0.7070358 (334)\ttotal: 57.3s\tremaining: 10m 24s\n",
      "336:\ttest: 0.7070422\tbest: 0.7070422 (336)\ttotal: 57.4s\tremaining: 10m 24s\n",
      "337:\ttest: 0.7070574\tbest: 0.7070574 (337)\ttotal: 57.6s\tremaining: 10m 23s\n",
      "338:\ttest: 0.7070706\tbest: 0.7070706 (338)\ttotal: 57.7s\tremaining: 10m 23s\n",
      "339:\ttest: 0.7070936\tbest: 0.7070936 (339)\ttotal: 57.9s\tremaining: 10m 23s\n",
      "340:\ttest: 0.7070979\tbest: 0.7070979 (340)\ttotal: 58s\tremaining: 10m 22s\n",
      "341:\ttest: 0.7071118\tbest: 0.7071118 (341)\ttotal: 58.2s\tremaining: 10m 22s\n",
      "342:\ttest: 0.7071272\tbest: 0.7071272 (342)\ttotal: 58.3s\tremaining: 10m 21s\n",
      "343:\ttest: 0.7071530\tbest: 0.7071530 (343)\ttotal: 58.5s\tremaining: 10m 21s\n",
      "344:\ttest: 0.7071652\tbest: 0.7071652 (344)\ttotal: 58.6s\tremaining: 10m 21s\n",
      "345:\ttest: 0.7071844\tbest: 0.7071844 (345)\ttotal: 58.8s\tremaining: 10m 21s\n",
      "346:\ttest: 0.7071968\tbest: 0.7071968 (346)\ttotal: 59s\tremaining: 10m 20s\n",
      "347:\ttest: 0.7072020\tbest: 0.7072020 (347)\ttotal: 59.1s\tremaining: 10m 20s\n",
      "348:\ttest: 0.7072101\tbest: 0.7072101 (348)\ttotal: 59.3s\tremaining: 10m 20s\n",
      "349:\ttest: 0.7072317\tbest: 0.7072317 (349)\ttotal: 59.5s\tremaining: 10m 20s\n",
      "350:\ttest: 0.7072384\tbest: 0.7072384 (350)\ttotal: 59.6s\tremaining: 10m 19s\n",
      "351:\ttest: 0.7072516\tbest: 0.7072516 (351)\ttotal: 59.8s\tremaining: 10m 19s\n",
      "352:\ttest: 0.7072608\tbest: 0.7072608 (352)\ttotal: 60s\tremaining: 10m 19s\n",
      "353:\ttest: 0.7072674\tbest: 0.7072674 (353)\ttotal: 1m\tremaining: 10m 19s\n",
      "354:\ttest: 0.7072782\tbest: 0.7072782 (354)\ttotal: 1m\tremaining: 10m 18s\n",
      "355:\ttest: 0.7072996\tbest: 0.7072996 (355)\ttotal: 1m\tremaining: 10m 18s\n",
      "356:\ttest: 0.7073148\tbest: 0.7073148 (356)\ttotal: 1m\tremaining: 10m 18s\n",
      "357:\ttest: 0.7073251\tbest: 0.7073251 (357)\ttotal: 1m\tremaining: 10m 18s\n",
      "358:\ttest: 0.7073368\tbest: 0.7073368 (358)\ttotal: 1m\tremaining: 10m 18s\n",
      "359:\ttest: 0.7073477\tbest: 0.7073477 (359)\ttotal: 1m 1s\tremaining: 10m 17s\n",
      "360:\ttest: 0.7073497\tbest: 0.7073497 (360)\ttotal: 1m 1s\tremaining: 10m 17s\n",
      "361:\ttest: 0.7073606\tbest: 0.7073606 (361)\ttotal: 1m 1s\tremaining: 10m 17s\n",
      "362:\ttest: 0.7073750\tbest: 0.7073750 (362)\ttotal: 1m 1s\tremaining: 10m 17s\n",
      "363:\ttest: 0.7073984\tbest: 0.7073984 (363)\ttotal: 1m 1s\tremaining: 10m 17s\n",
      "364:\ttest: 0.7074124\tbest: 0.7074124 (364)\ttotal: 1m 1s\tremaining: 10m 16s\n",
      "365:\ttest: 0.7074123\tbest: 0.7074124 (364)\ttotal: 1m 2s\tremaining: 10m 15s\n",
      "366:\ttest: 0.7074231\tbest: 0.7074231 (366)\ttotal: 1m 2s\tremaining: 10m 15s\n",
      "367:\ttest: 0.7074286\tbest: 0.7074286 (367)\ttotal: 1m 2s\tremaining: 10m 15s\n",
      "368:\ttest: 0.7074461\tbest: 0.7074461 (368)\ttotal: 1m 2s\tremaining: 10m 15s\n",
      "369:\ttest: 0.7074571\tbest: 0.7074571 (369)\ttotal: 1m 2s\tremaining: 10m 15s\n",
      "370:\ttest: 0.7074759\tbest: 0.7074759 (370)\ttotal: 1m 2s\tremaining: 10m 14s\n",
      "371:\ttest: 0.7074875\tbest: 0.7074875 (371)\ttotal: 1m 3s\tremaining: 10m 14s\n",
      "372:\ttest: 0.7074944\tbest: 0.7074944 (372)\ttotal: 1m 3s\tremaining: 10m 14s\n",
      "373:\ttest: 0.7075105\tbest: 0.7075105 (373)\ttotal: 1m 3s\tremaining: 10m 14s\n",
      "374:\ttest: 0.7075229\tbest: 0.7075229 (374)\ttotal: 1m 3s\tremaining: 10m 14s\n",
      "375:\ttest: 0.7075439\tbest: 0.7075439 (375)\ttotal: 1m 3s\tremaining: 10m 14s\n",
      "376:\ttest: 0.7075501\tbest: 0.7075501 (376)\ttotal: 1m 3s\tremaining: 10m 13s\n",
      "377:\ttest: 0.7075591\tbest: 0.7075591 (377)\ttotal: 1m 4s\tremaining: 10m 13s\n",
      "378:\ttest: 0.7075797\tbest: 0.7075797 (378)\ttotal: 1m 4s\tremaining: 10m 13s\n",
      "379:\ttest: 0.7075862\tbest: 0.7075862 (379)\ttotal: 1m 4s\tremaining: 10m 12s\n",
      "380:\ttest: 0.7075903\tbest: 0.7075903 (380)\ttotal: 1m 4s\tremaining: 10m 12s\n",
      "381:\ttest: 0.7075989\tbest: 0.7075989 (381)\ttotal: 1m 4s\tremaining: 10m 12s\n",
      "382:\ttest: 0.7076192\tbest: 0.7076192 (382)\ttotal: 1m 4s\tremaining: 10m 12s\n",
      "383:\ttest: 0.7076243\tbest: 0.7076243 (383)\ttotal: 1m 4s\tremaining: 10m 12s\n",
      "384:\ttest: 0.7076330\tbest: 0.7076330 (384)\ttotal: 1m 5s\tremaining: 10m 11s\n",
      "385:\ttest: 0.7076344\tbest: 0.7076344 (385)\ttotal: 1m 5s\tremaining: 10m 11s\n",
      "386:\ttest: 0.7076444\tbest: 0.7076444 (386)\ttotal: 1m 5s\tremaining: 10m 11s\n",
      "387:\ttest: 0.7076562\tbest: 0.7076562 (387)\ttotal: 1m 5s\tremaining: 10m 11s\n",
      "388:\ttest: 0.7076588\tbest: 0.7076588 (388)\ttotal: 1m 5s\tremaining: 10m 10s\n",
      "389:\ttest: 0.7076672\tbest: 0.7076672 (389)\ttotal: 1m 5s\tremaining: 10m 10s\n",
      "390:\ttest: 0.7076750\tbest: 0.7076750 (390)\ttotal: 1m 6s\tremaining: 10m 9s\n",
      "391:\ttest: 0.7076958\tbest: 0.7076958 (391)\ttotal: 1m 6s\tremaining: 10m 9s\n",
      "392:\ttest: 0.7076929\tbest: 0.7076958 (391)\ttotal: 1m 6s\tremaining: 10m 9s\n",
      "393:\ttest: 0.7077086\tbest: 0.7077086 (393)\ttotal: 1m 6s\tremaining: 10m 9s\n",
      "394:\ttest: 0.7077185\tbest: 0.7077185 (394)\ttotal: 1m 6s\tremaining: 10m 9s\n",
      "395:\ttest: 0.7077307\tbest: 0.7077307 (395)\ttotal: 1m 6s\tremaining: 10m 8s\n",
      "396:\ttest: 0.7077437\tbest: 0.7077437 (396)\ttotal: 1m 7s\tremaining: 10m 8s\n",
      "397:\ttest: 0.7077528\tbest: 0.7077528 (397)\ttotal: 1m 7s\tremaining: 10m 8s\n",
      "398:\ttest: 0.7077573\tbest: 0.7077573 (398)\ttotal: 1m 7s\tremaining: 10m 8s\n",
      "399:\ttest: 0.7077667\tbest: 0.7077667 (399)\ttotal: 1m 7s\tremaining: 10m 8s\n",
      "400:\ttest: 0.7077844\tbest: 0.7077844 (400)\ttotal: 1m 7s\tremaining: 10m 7s\n",
      "401:\ttest: 0.7078014\tbest: 0.7078014 (401)\ttotal: 1m 7s\tremaining: 10m 7s\n",
      "402:\ttest: 0.7078096\tbest: 0.7078096 (402)\ttotal: 1m 8s\tremaining: 10m 7s\n",
      "403:\ttest: 0.7078166\tbest: 0.7078166 (403)\ttotal: 1m 8s\tremaining: 10m 7s\n",
      "404:\ttest: 0.7078343\tbest: 0.7078343 (404)\ttotal: 1m 8s\tremaining: 10m 6s\n",
      "405:\ttest: 0.7078473\tbest: 0.7078473 (405)\ttotal: 1m 8s\tremaining: 10m 6s\n",
      "406:\ttest: 0.7078537\tbest: 0.7078537 (406)\ttotal: 1m 8s\tremaining: 10m 6s\n",
      "407:\ttest: 0.7078693\tbest: 0.7078693 (407)\ttotal: 1m 8s\tremaining: 10m 6s\n",
      "408:\ttest: 0.7078765\tbest: 0.7078765 (408)\ttotal: 1m 9s\tremaining: 10m 6s\n",
      "409:\ttest: 0.7078973\tbest: 0.7078973 (409)\ttotal: 1m 9s\tremaining: 10m 5s\n",
      "410:\ttest: 0.7079018\tbest: 0.7079018 (410)\ttotal: 1m 9s\tremaining: 10m 5s\n",
      "411:\ttest: 0.7079057\tbest: 0.7079057 (411)\ttotal: 1m 9s\tremaining: 10m 4s\n",
      "412:\ttest: 0.7079179\tbest: 0.7079179 (412)\ttotal: 1m 9s\tremaining: 10m 4s\n",
      "413:\ttest: 0.7079253\tbest: 0.7079253 (413)\ttotal: 1m 9s\tremaining: 10m 4s\n",
      "414:\ttest: 0.7079344\tbest: 0.7079344 (414)\ttotal: 1m 9s\tremaining: 10m 4s\n",
      "415:\ttest: 0.7079485\tbest: 0.7079485 (415)\ttotal: 1m 10s\tremaining: 10m 4s\n",
      "416:\ttest: 0.7079599\tbest: 0.7079599 (416)\ttotal: 1m 10s\tremaining: 10m 4s\n",
      "417:\ttest: 0.7079636\tbest: 0.7079636 (417)\ttotal: 1m 10s\tremaining: 10m 3s\n",
      "418:\ttest: 0.7079735\tbest: 0.7079735 (418)\ttotal: 1m 10s\tremaining: 10m 3s\n",
      "419:\ttest: 0.7079816\tbest: 0.7079816 (419)\ttotal: 1m 10s\tremaining: 10m 3s\n",
      "420:\ttest: 0.7079934\tbest: 0.7079934 (420)\ttotal: 1m 10s\tremaining: 10m 3s\n",
      "421:\ttest: 0.7080052\tbest: 0.7080052 (421)\ttotal: 1m 11s\tremaining: 10m 3s\n",
      "422:\ttest: 0.7080232\tbest: 0.7080232 (422)\ttotal: 1m 11s\tremaining: 10m 3s\n",
      "423:\ttest: 0.7080303\tbest: 0.7080303 (423)\ttotal: 1m 11s\tremaining: 10m 2s\n",
      "424:\ttest: 0.7080378\tbest: 0.7080378 (424)\ttotal: 1m 11s\tremaining: 10m 2s\n",
      "425:\ttest: 0.7080533\tbest: 0.7080533 (425)\ttotal: 1m 11s\tremaining: 10m 2s\n",
      "426:\ttest: 0.7080595\tbest: 0.7080595 (426)\ttotal: 1m 11s\tremaining: 10m 2s\n",
      "427:\ttest: 0.7080719\tbest: 0.7080719 (427)\ttotal: 1m 12s\tremaining: 10m 2s\n",
      "428:\ttest: 0.7080817\tbest: 0.7080817 (428)\ttotal: 1m 12s\tremaining: 10m 2s\n",
      "429:\ttest: 0.7081020\tbest: 0.7081020 (429)\ttotal: 1m 12s\tremaining: 10m 1s\n",
      "430:\ttest: 0.7081183\tbest: 0.7081183 (430)\ttotal: 1m 12s\tremaining: 10m 1s\n",
      "431:\ttest: 0.7081335\tbest: 0.7081335 (431)\ttotal: 1m 12s\tremaining: 10m 1s\n",
      "432:\ttest: 0.7081405\tbest: 0.7081405 (432)\ttotal: 1m 12s\tremaining: 10m 1s\n",
      "433:\ttest: 0.7081567\tbest: 0.7081567 (433)\ttotal: 1m 13s\tremaining: 10m\n",
      "434:\ttest: 0.7081717\tbest: 0.7081717 (434)\ttotal: 1m 13s\tremaining: 10m\n",
      "435:\ttest: 0.7081714\tbest: 0.7081717 (434)\ttotal: 1m 13s\tremaining: 9m 59s\n",
      "436:\ttest: 0.7081845\tbest: 0.7081845 (436)\ttotal: 1m 13s\tremaining: 9m 59s\n",
      "437:\ttest: 0.7081871\tbest: 0.7081871 (437)\ttotal: 1m 13s\tremaining: 9m 59s\n",
      "438:\ttest: 0.7081953\tbest: 0.7081953 (438)\ttotal: 1m 13s\tremaining: 9m 59s\n",
      "439:\ttest: 0.7082047\tbest: 0.7082047 (439)\ttotal: 1m 14s\tremaining: 9m 58s\n",
      "440:\ttest: 0.7082150\tbest: 0.7082150 (440)\ttotal: 1m 14s\tremaining: 9m 58s\n",
      "441:\ttest: 0.7082269\tbest: 0.7082269 (441)\ttotal: 1m 14s\tremaining: 9m 58s\n",
      "442:\ttest: 0.7082368\tbest: 0.7082368 (442)\ttotal: 1m 14s\tremaining: 9m 58s\n"
     ]
    },
    {
     "name": "stdout",
     "output_type": "stream",
     "text": [
      "443:\ttest: 0.7082463\tbest: 0.7082463 (443)\ttotal: 1m 14s\tremaining: 9m 58s\n",
      "444:\ttest: 0.7082583\tbest: 0.7082583 (444)\ttotal: 1m 14s\tremaining: 9m 57s\n",
      "445:\ttest: 0.7082680\tbest: 0.7082680 (445)\ttotal: 1m 14s\tremaining: 9m 57s\n",
      "446:\ttest: 0.7082762\tbest: 0.7082762 (446)\ttotal: 1m 15s\tremaining: 9m 57s\n",
      "447:\ttest: 0.7082802\tbest: 0.7082802 (447)\ttotal: 1m 15s\tremaining: 9m 57s\n",
      "448:\ttest: 0.7082835\tbest: 0.7082835 (448)\ttotal: 1m 15s\tremaining: 9m 56s\n",
      "449:\ttest: 0.7082984\tbest: 0.7082984 (449)\ttotal: 1m 15s\tremaining: 9m 56s\n",
      "450:\ttest: 0.7083043\tbest: 0.7083043 (450)\ttotal: 1m 15s\tremaining: 9m 56s\n",
      "451:\ttest: 0.7083207\tbest: 0.7083207 (451)\ttotal: 1m 15s\tremaining: 9m 56s\n",
      "452:\ttest: 0.7083288\tbest: 0.7083288 (452)\ttotal: 1m 16s\tremaining: 9m 55s\n",
      "453:\ttest: 0.7083377\tbest: 0.7083377 (453)\ttotal: 1m 16s\tremaining: 9m 55s\n",
      "454:\ttest: 0.7083430\tbest: 0.7083430 (454)\ttotal: 1m 16s\tremaining: 9m 55s\n",
      "455:\ttest: 0.7083481\tbest: 0.7083481 (455)\ttotal: 1m 16s\tremaining: 9m 55s\n",
      "456:\ttest: 0.7083608\tbest: 0.7083608 (456)\ttotal: 1m 16s\tremaining: 9m 55s\n",
      "457:\ttest: 0.7083702\tbest: 0.7083702 (457)\ttotal: 1m 16s\tremaining: 9m 55s\n",
      "458:\ttest: 0.7083823\tbest: 0.7083823 (458)\ttotal: 1m 17s\tremaining: 9m 54s\n",
      "459:\ttest: 0.7083890\tbest: 0.7083890 (459)\ttotal: 1m 17s\tremaining: 9m 54s\n",
      "460:\ttest: 0.7084031\tbest: 0.7084031 (460)\ttotal: 1m 17s\tremaining: 9m 54s\n",
      "461:\ttest: 0.7084144\tbest: 0.7084144 (461)\ttotal: 1m 17s\tremaining: 9m 54s\n",
      "462:\ttest: 0.7084264\tbest: 0.7084264 (462)\ttotal: 1m 17s\tremaining: 9m 54s\n",
      "463:\ttest: 0.7084381\tbest: 0.7084381 (463)\ttotal: 1m 17s\tremaining: 9m 53s\n",
      "464:\ttest: 0.7084489\tbest: 0.7084489 (464)\ttotal: 1m 18s\tremaining: 9m 53s\n",
      "465:\ttest: 0.7084549\tbest: 0.7084549 (465)\ttotal: 1m 18s\tremaining: 9m 53s\n",
      "466:\ttest: 0.7084667\tbest: 0.7084667 (466)\ttotal: 1m 18s\tremaining: 9m 53s\n",
      "467:\ttest: 0.7084786\tbest: 0.7084786 (467)\ttotal: 1m 18s\tremaining: 9m 53s\n",
      "468:\ttest: 0.7084838\tbest: 0.7084838 (468)\ttotal: 1m 18s\tremaining: 9m 53s\n",
      "469:\ttest: 0.7084942\tbest: 0.7084942 (469)\ttotal: 1m 18s\tremaining: 9m 52s\n",
      "470:\ttest: 0.7085066\tbest: 0.7085066 (470)\ttotal: 1m 19s\tremaining: 9m 52s\n",
      "471:\ttest: 0.7085186\tbest: 0.7085186 (471)\ttotal: 1m 19s\tremaining: 9m 52s\n",
      "472:\ttest: 0.7085293\tbest: 0.7085293 (472)\ttotal: 1m 19s\tremaining: 9m 52s\n",
      "473:\ttest: 0.7085409\tbest: 0.7085409 (473)\ttotal: 1m 19s\tremaining: 9m 52s\n",
      "474:\ttest: 0.7085531\tbest: 0.7085531 (474)\ttotal: 1m 19s\tremaining: 9m 51s\n",
      "475:\ttest: 0.7085610\tbest: 0.7085610 (475)\ttotal: 1m 19s\tremaining: 9m 51s\n",
      "476:\ttest: 0.7085704\tbest: 0.7085704 (476)\ttotal: 1m 20s\tremaining: 9m 51s\n",
      "477:\ttest: 0.7085795\tbest: 0.7085795 (477)\ttotal: 1m 20s\tremaining: 9m 51s\n",
      "478:\ttest: 0.7085871\tbest: 0.7085871 (478)\ttotal: 1m 20s\tremaining: 9m 50s\n",
      "479:\ttest: 0.7085966\tbest: 0.7085966 (479)\ttotal: 1m 20s\tremaining: 9m 50s\n",
      "480:\ttest: 0.7086088\tbest: 0.7086088 (480)\ttotal: 1m 20s\tremaining: 9m 50s\n",
      "481:\ttest: 0.7086115\tbest: 0.7086115 (481)\ttotal: 1m 20s\tremaining: 9m 49s\n",
      "482:\ttest: 0.7086184\tbest: 0.7086184 (482)\ttotal: 1m 20s\tremaining: 9m 49s\n",
      "483:\ttest: 0.7086239\tbest: 0.7086239 (483)\ttotal: 1m 21s\tremaining: 9m 49s\n",
      "484:\ttest: 0.7086369\tbest: 0.7086369 (484)\ttotal: 1m 21s\tremaining: 9m 49s\n",
      "485:\ttest: 0.7086434\tbest: 0.7086434 (485)\ttotal: 1m 21s\tremaining: 9m 48s\n",
      "486:\ttest: 0.7086486\tbest: 0.7086486 (486)\ttotal: 1m 21s\tremaining: 9m 48s\n",
      "487:\ttest: 0.7086597\tbest: 0.7086597 (487)\ttotal: 1m 21s\tremaining: 9m 48s\n",
      "488:\ttest: 0.7086596\tbest: 0.7086597 (487)\ttotal: 1m 21s\tremaining: 9m 48s\n",
      "489:\ttest: 0.7086691\tbest: 0.7086691 (489)\ttotal: 1m 22s\tremaining: 9m 48s\n",
      "490:\ttest: 0.7086773\tbest: 0.7086773 (490)\ttotal: 1m 22s\tremaining: 9m 48s\n",
      "491:\ttest: 0.7086811\tbest: 0.7086811 (491)\ttotal: 1m 22s\tremaining: 9m 47s\n",
      "492:\ttest: 0.7086820\tbest: 0.7086820 (492)\ttotal: 1m 22s\tremaining: 9m 46s\n",
      "493:\ttest: 0.7086893\tbest: 0.7086893 (493)\ttotal: 1m 22s\tremaining: 9m 46s\n",
      "494:\ttest: 0.7087004\tbest: 0.7087004 (494)\ttotal: 1m 22s\tremaining: 9m 46s\n",
      "495:\ttest: 0.7087036\tbest: 0.7087036 (495)\ttotal: 1m 22s\tremaining: 9m 46s\n",
      "496:\ttest: 0.7087064\tbest: 0.7087064 (496)\ttotal: 1m 23s\tremaining: 9m 45s\n",
      "497:\ttest: 0.7087140\tbest: 0.7087140 (497)\ttotal: 1m 23s\tremaining: 9m 45s\n",
      "498:\ttest: 0.7087289\tbest: 0.7087289 (498)\ttotal: 1m 23s\tremaining: 9m 45s\n",
      "499:\ttest: 0.7087320\tbest: 0.7087320 (499)\ttotal: 1m 23s\tremaining: 9m 45s\n",
      "500:\ttest: 0.7087362\tbest: 0.7087362 (500)\ttotal: 1m 23s\tremaining: 9m 45s\n",
      "501:\ttest: 0.7087432\tbest: 0.7087432 (501)\ttotal: 1m 23s\tremaining: 9m 45s\n",
      "502:\ttest: 0.7087531\tbest: 0.7087531 (502)\ttotal: 1m 24s\tremaining: 9m 44s\n",
      "503:\ttest: 0.7087587\tbest: 0.7087587 (503)\ttotal: 1m 24s\tremaining: 9m 44s\n",
      "504:\ttest: 0.7087673\tbest: 0.7087673 (504)\ttotal: 1m 24s\tremaining: 9m 44s\n",
      "505:\ttest: 0.7087719\tbest: 0.7087719 (505)\ttotal: 1m 24s\tremaining: 9m 44s\n",
      "506:\ttest: 0.7087778\tbest: 0.7087778 (506)\ttotal: 1m 24s\tremaining: 9m 44s\n",
      "507:\ttest: 0.7087879\tbest: 0.7087879 (507)\ttotal: 1m 24s\tremaining: 9m 43s\n",
      "508:\ttest: 0.7087957\tbest: 0.7087957 (508)\ttotal: 1m 25s\tremaining: 9m 43s\n",
      "509:\ttest: 0.7087959\tbest: 0.7087959 (509)\ttotal: 1m 25s\tremaining: 9m 42s\n",
      "510:\ttest: 0.7088040\tbest: 0.7088040 (510)\ttotal: 1m 25s\tremaining: 9m 42s\n",
      "511:\ttest: 0.7088051\tbest: 0.7088051 (511)\ttotal: 1m 25s\tremaining: 9m 42s\n",
      "512:\ttest: 0.7088089\tbest: 0.7088089 (512)\ttotal: 1m 25s\tremaining: 9m 42s\n",
      "513:\ttest: 0.7088161\tbest: 0.7088161 (513)\ttotal: 1m 25s\tremaining: 9m 41s\n",
      "514:\ttest: 0.7088162\tbest: 0.7088162 (514)\ttotal: 1m 25s\tremaining: 9m 41s\n",
      "515:\ttest: 0.7088257\tbest: 0.7088257 (515)\ttotal: 1m 26s\tremaining: 9m 40s\n",
      "516:\ttest: 0.7088369\tbest: 0.7088369 (516)\ttotal: 1m 26s\tremaining: 9m 40s\n",
      "517:\ttest: 0.7088420\tbest: 0.7088420 (517)\ttotal: 1m 26s\tremaining: 9m 40s\n",
      "518:\ttest: 0.7088485\tbest: 0.7088485 (518)\ttotal: 1m 26s\tremaining: 9m 40s\n",
      "519:\ttest: 0.7088492\tbest: 0.7088492 (519)\ttotal: 1m 26s\tremaining: 9m 39s\n",
      "520:\ttest: 0.7088476\tbest: 0.7088492 (519)\ttotal: 1m 26s\tremaining: 9m 39s\n",
      "521:\ttest: 0.7088491\tbest: 0.7088492 (519)\ttotal: 1m 26s\tremaining: 9m 39s\n",
      "522:\ttest: 0.7088556\tbest: 0.7088556 (522)\ttotal: 1m 27s\tremaining: 9m 39s\n",
      "523:\ttest: 0.7088633\tbest: 0.7088633 (523)\ttotal: 1m 27s\tremaining: 9m 39s\n",
      "524:\ttest: 0.7088702\tbest: 0.7088702 (524)\ttotal: 1m 27s\tremaining: 9m 38s\n",
      "525:\ttest: 0.7088774\tbest: 0.7088774 (525)\ttotal: 1m 27s\tremaining: 9m 38s\n",
      "526:\ttest: 0.7088884\tbest: 0.7088884 (526)\ttotal: 1m 27s\tremaining: 9m 38s\n",
      "527:\ttest: 0.7088931\tbest: 0.7088931 (527)\ttotal: 1m 27s\tremaining: 9m 38s\n",
      "528:\ttest: 0.7088932\tbest: 0.7088932 (528)\ttotal: 1m 28s\tremaining: 9m 37s\n",
      "529:\ttest: 0.7088972\tbest: 0.7088972 (529)\ttotal: 1m 28s\tremaining: 9m 37s\n",
      "530:\ttest: 0.7089053\tbest: 0.7089053 (530)\ttotal: 1m 28s\tremaining: 9m 37s\n",
      "531:\ttest: 0.7089085\tbest: 0.7089085 (531)\ttotal: 1m 28s\tremaining: 9m 37s\n",
      "532:\ttest: 0.7089160\tbest: 0.7089160 (532)\ttotal: 1m 28s\tremaining: 9m 36s\n",
      "533:\ttest: 0.7089222\tbest: 0.7089222 (533)\ttotal: 1m 28s\tremaining: 9m 36s\n",
      "534:\ttest: 0.7089309\tbest: 0.7089309 (534)\ttotal: 1m 29s\tremaining: 9m 36s\n",
      "535:\ttest: 0.7089409\tbest: 0.7089409 (535)\ttotal: 1m 29s\tremaining: 9m 36s\n",
      "536:\ttest: 0.7089556\tbest: 0.7089556 (536)\ttotal: 1m 29s\tremaining: 9m 36s\n",
      "537:\ttest: 0.7089623\tbest: 0.7089623 (537)\ttotal: 1m 29s\tremaining: 9m 36s\n",
      "538:\ttest: 0.7089795\tbest: 0.7089795 (538)\ttotal: 1m 29s\tremaining: 9m 36s\n",
      "539:\ttest: 0.7089780\tbest: 0.7089795 (538)\ttotal: 1m 29s\tremaining: 9m 35s\n",
      "540:\ttest: 0.7089787\tbest: 0.7089795 (538)\ttotal: 1m 29s\tremaining: 9m 35s\n",
      "541:\ttest: 0.7089964\tbest: 0.7089964 (541)\ttotal: 1m 30s\tremaining: 9m 34s\n",
      "542:\ttest: 0.7090048\tbest: 0.7090048 (542)\ttotal: 1m 30s\tremaining: 9m 34s\n",
      "543:\ttest: 0.7090060\tbest: 0.7090060 (543)\ttotal: 1m 30s\tremaining: 9m 34s\n",
      "544:\ttest: 0.7090118\tbest: 0.7090118 (544)\ttotal: 1m 30s\tremaining: 9m 34s\n",
      "545:\ttest: 0.7090136\tbest: 0.7090136 (545)\ttotal: 1m 30s\tremaining: 9m 34s\n",
      "546:\ttest: 0.7090136\tbest: 0.7090136 (545)\ttotal: 1m 30s\tremaining: 9m 33s\n",
      "547:\ttest: 0.7090203\tbest: 0.7090203 (547)\ttotal: 1m 31s\tremaining: 9m 33s\n",
      "548:\ttest: 0.7090232\tbest: 0.7090232 (548)\ttotal: 1m 31s\tremaining: 9m 33s\n",
      "549:\ttest: 0.7090326\tbest: 0.7090326 (549)\ttotal: 1m 31s\tremaining: 9m 33s\n",
      "550:\ttest: 0.7090363\tbest: 0.7090363 (550)\ttotal: 1m 31s\tremaining: 9m 33s\n",
      "551:\ttest: 0.7090524\tbest: 0.7090524 (551)\ttotal: 1m 31s\tremaining: 9m 32s\n",
      "552:\ttest: 0.7090640\tbest: 0.7090640 (552)\ttotal: 1m 31s\tremaining: 9m 32s\n"
     ]
    },
    {
     "name": "stdout",
     "output_type": "stream",
     "text": [
      "553:\ttest: 0.7090701\tbest: 0.7090701 (553)\ttotal: 1m 32s\tremaining: 9m 32s\n",
      "554:\ttest: 0.7090780\tbest: 0.7090780 (554)\ttotal: 1m 32s\tremaining: 9m 32s\n",
      "555:\ttest: 0.7090866\tbest: 0.7090866 (555)\ttotal: 1m 32s\tremaining: 9m 31s\n",
      "556:\ttest: 0.7090964\tbest: 0.7090964 (556)\ttotal: 1m 32s\tremaining: 9m 31s\n",
      "557:\ttest: 0.7091066\tbest: 0.7091066 (557)\ttotal: 1m 32s\tremaining: 9m 31s\n",
      "558:\ttest: 0.7091125\tbest: 0.7091125 (558)\ttotal: 1m 32s\tremaining: 9m 31s\n",
      "559:\ttest: 0.7091207\tbest: 0.7091207 (559)\ttotal: 1m 33s\tremaining: 9m 31s\n",
      "560:\ttest: 0.7091223\tbest: 0.7091223 (560)\ttotal: 1m 33s\tremaining: 9m 31s\n",
      "561:\ttest: 0.7091294\tbest: 0.7091294 (561)\ttotal: 1m 33s\tremaining: 9m 31s\n",
      "562:\ttest: 0.7091362\tbest: 0.7091362 (562)\ttotal: 1m 33s\tremaining: 9m 30s\n",
      "563:\ttest: 0.7091462\tbest: 0.7091462 (563)\ttotal: 1m 33s\tremaining: 9m 30s\n",
      "564:\ttest: 0.7091511\tbest: 0.7091511 (564)\ttotal: 1m 33s\tremaining: 9m 30s\n",
      "565:\ttest: 0.7091566\tbest: 0.7091566 (565)\ttotal: 1m 33s\tremaining: 9m 30s\n",
      "566:\ttest: 0.7091680\tbest: 0.7091680 (566)\ttotal: 1m 34s\tremaining: 9m 30s\n",
      "567:\ttest: 0.7091782\tbest: 0.7091782 (567)\ttotal: 1m 34s\tremaining: 9m 29s\n",
      "568:\ttest: 0.7091885\tbest: 0.7091885 (568)\ttotal: 1m 34s\tremaining: 9m 29s\n",
      "569:\ttest: 0.7091956\tbest: 0.7091956 (569)\ttotal: 1m 34s\tremaining: 9m 29s\n",
      "570:\ttest: 0.7091973\tbest: 0.7091973 (570)\ttotal: 1m 34s\tremaining: 9m 29s\n",
      "571:\ttest: 0.7092039\tbest: 0.7092039 (571)\ttotal: 1m 35s\tremaining: 9m 29s\n",
      "572:\ttest: 0.7092065\tbest: 0.7092065 (572)\ttotal: 1m 35s\tremaining: 9m 29s\n",
      "573:\ttest: 0.7092153\tbest: 0.7092153 (573)\ttotal: 1m 35s\tremaining: 9m 28s\n",
      "574:\ttest: 0.7092156\tbest: 0.7092156 (574)\ttotal: 1m 35s\tremaining: 9m 28s\n",
      "575:\ttest: 0.7092216\tbest: 0.7092216 (575)\ttotal: 1m 35s\tremaining: 9m 28s\n",
      "576:\ttest: 0.7092229\tbest: 0.7092229 (576)\ttotal: 1m 35s\tremaining: 9m 28s\n",
      "577:\ttest: 0.7092247\tbest: 0.7092247 (577)\ttotal: 1m 35s\tremaining: 9m 28s\n",
      "578:\ttest: 0.7092331\tbest: 0.7092331 (578)\ttotal: 1m 36s\tremaining: 9m 27s\n",
      "579:\ttest: 0.7092444\tbest: 0.7092444 (579)\ttotal: 1m 36s\tremaining: 9m 27s\n",
      "580:\ttest: 0.7092445\tbest: 0.7092445 (580)\ttotal: 1m 36s\tremaining: 9m 27s\n",
      "581:\ttest: 0.7092503\tbest: 0.7092503 (581)\ttotal: 1m 36s\tremaining: 9m 27s\n",
      "582:\ttest: 0.7092536\tbest: 0.7092536 (582)\ttotal: 1m 36s\tremaining: 9m 27s\n",
      "583:\ttest: 0.7092643\tbest: 0.7092643 (583)\ttotal: 1m 36s\tremaining: 9m 26s\n",
      "584:\ttest: 0.7092662\tbest: 0.7092662 (584)\ttotal: 1m 37s\tremaining: 9m 26s\n",
      "585:\ttest: 0.7092755\tbest: 0.7092755 (585)\ttotal: 1m 37s\tremaining: 9m 26s\n",
      "586:\ttest: 0.7092762\tbest: 0.7092762 (586)\ttotal: 1m 37s\tremaining: 9m 25s\n",
      "587:\ttest: 0.7092757\tbest: 0.7092762 (586)\ttotal: 1m 37s\tremaining: 9m 25s\n",
      "588:\ttest: 0.7092765\tbest: 0.7092765 (588)\ttotal: 1m 37s\tremaining: 9m 25s\n",
      "589:\ttest: 0.7092801\tbest: 0.7092801 (589)\ttotal: 1m 37s\tremaining: 9m 24s\n",
      "590:\ttest: 0.7092809\tbest: 0.7092809 (590)\ttotal: 1m 37s\tremaining: 9m 24s\n",
      "591:\ttest: 0.7092846\tbest: 0.7092846 (591)\ttotal: 1m 38s\tremaining: 9m 24s\n",
      "592:\ttest: 0.7092897\tbest: 0.7092897 (592)\ttotal: 1m 38s\tremaining: 9m 24s\n",
      "593:\ttest: 0.7093011\tbest: 0.7093011 (593)\ttotal: 1m 38s\tremaining: 9m 24s\n",
      "594:\ttest: 0.7093162\tbest: 0.7093162 (594)\ttotal: 1m 38s\tremaining: 9m 23s\n",
      "595:\ttest: 0.7093231\tbest: 0.7093231 (595)\ttotal: 1m 38s\tremaining: 9m 23s\n",
      "596:\ttest: 0.7093328\tbest: 0.7093328 (596)\ttotal: 1m 38s\tremaining: 9m 23s\n",
      "597:\ttest: 0.7093389\tbest: 0.7093389 (597)\ttotal: 1m 39s\tremaining: 9m 23s\n",
      "598:\ttest: 0.7093435\tbest: 0.7093435 (598)\ttotal: 1m 39s\tremaining: 9m 23s\n",
      "599:\ttest: 0.7093496\tbest: 0.7093496 (599)\ttotal: 1m 39s\tremaining: 9m 22s\n",
      "600:\ttest: 0.7093538\tbest: 0.7093538 (600)\ttotal: 1m 39s\tremaining: 9m 22s\n",
      "601:\ttest: 0.7093626\tbest: 0.7093626 (601)\ttotal: 1m 39s\tremaining: 9m 22s\n",
      "602:\ttest: 0.7093686\tbest: 0.7093686 (602)\ttotal: 1m 39s\tremaining: 9m 22s\n",
      "603:\ttest: 0.7093771\tbest: 0.7093771 (603)\ttotal: 1m 39s\tremaining: 9m 21s\n",
      "604:\ttest: 0.7093816\tbest: 0.7093816 (604)\ttotal: 1m 40s\tremaining: 9m 21s\n",
      "605:\ttest: 0.7093872\tbest: 0.7093872 (605)\ttotal: 1m 40s\tremaining: 9m 21s\n",
      "606:\ttest: 0.7093975\tbest: 0.7093975 (606)\ttotal: 1m 40s\tremaining: 9m 21s\n",
      "607:\ttest: 0.7094034\tbest: 0.7094034 (607)\ttotal: 1m 40s\tremaining: 9m 21s\n",
      "608:\ttest: 0.7094073\tbest: 0.7094073 (608)\ttotal: 1m 40s\tremaining: 9m 21s\n",
      "609:\ttest: 0.7094181\tbest: 0.7094181 (609)\ttotal: 1m 40s\tremaining: 9m 20s\n",
      "610:\ttest: 0.7094270\tbest: 0.7094270 (610)\ttotal: 1m 41s\tremaining: 9m 20s\n",
      "611:\ttest: 0.7094356\tbest: 0.7094356 (611)\ttotal: 1m 41s\tremaining: 9m 20s\n",
      "612:\ttest: 0.7094403\tbest: 0.7094403 (612)\ttotal: 1m 41s\tremaining: 9m 20s\n",
      "613:\ttest: 0.7094539\tbest: 0.7094539 (613)\ttotal: 1m 41s\tremaining: 9m 20s\n",
      "614:\ttest: 0.7094596\tbest: 0.7094596 (614)\ttotal: 1m 41s\tremaining: 9m 20s\n",
      "615:\ttest: 0.7094648\tbest: 0.7094648 (615)\ttotal: 1m 41s\tremaining: 9m 20s\n",
      "616:\ttest: 0.7094702\tbest: 0.7094702 (616)\ttotal: 1m 42s\tremaining: 9m 19s\n",
      "617:\ttest: 0.7094795\tbest: 0.7094795 (617)\ttotal: 1m 42s\tremaining: 9m 19s\n",
      "618:\ttest: 0.7094814\tbest: 0.7094814 (618)\ttotal: 1m 42s\tremaining: 9m 19s\n",
      "619:\ttest: 0.7094886\tbest: 0.7094886 (619)\ttotal: 1m 42s\tremaining: 9m 19s\n",
      "620:\ttest: 0.7094922\tbest: 0.7094922 (620)\ttotal: 1m 42s\tremaining: 9m 19s\n",
      "621:\ttest: 0.7094989\tbest: 0.7094989 (621)\ttotal: 1m 42s\tremaining: 9m 19s\n",
      "622:\ttest: 0.7095052\tbest: 0.7095052 (622)\ttotal: 1m 43s\tremaining: 9m 18s\n",
      "623:\ttest: 0.7095123\tbest: 0.7095123 (623)\ttotal: 1m 43s\tremaining: 9m 18s\n",
      "624:\ttest: 0.7095257\tbest: 0.7095257 (624)\ttotal: 1m 43s\tremaining: 9m 18s\n",
      "625:\ttest: 0.7095328\tbest: 0.7095328 (625)\ttotal: 1m 43s\tremaining: 9m 18s\n",
      "626:\ttest: 0.7095377\tbest: 0.7095377 (626)\ttotal: 1m 43s\tremaining: 9m 18s\n",
      "627:\ttest: 0.7095425\tbest: 0.7095425 (627)\ttotal: 1m 43s\tremaining: 9m 17s\n",
      "628:\ttest: 0.7095451\tbest: 0.7095451 (628)\ttotal: 1m 44s\tremaining: 9m 17s\n",
      "629:\ttest: 0.7095539\tbest: 0.7095539 (629)\ttotal: 1m 44s\tremaining: 9m 17s\n",
      "630:\ttest: 0.7095597\tbest: 0.7095597 (630)\ttotal: 1m 44s\tremaining: 9m 17s\n",
      "631:\ttest: 0.7095618\tbest: 0.7095618 (631)\ttotal: 1m 44s\tremaining: 9m 17s\n",
      "632:\ttest: 0.7095621\tbest: 0.7095621 (632)\ttotal: 1m 44s\tremaining: 9m 17s\n",
      "633:\ttest: 0.7095747\tbest: 0.7095747 (633)\ttotal: 1m 44s\tremaining: 9m 16s\n",
      "634:\ttest: 0.7095867\tbest: 0.7095867 (634)\ttotal: 1m 45s\tremaining: 9m 16s\n",
      "635:\ttest: 0.7095894\tbest: 0.7095894 (635)\ttotal: 1m 45s\tremaining: 9m 16s\n",
      "636:\ttest: 0.7095949\tbest: 0.7095949 (636)\ttotal: 1m 45s\tremaining: 9m 16s\n",
      "637:\ttest: 0.7095984\tbest: 0.7095984 (637)\ttotal: 1m 45s\tremaining: 9m 16s\n",
      "638:\ttest: 0.7096006\tbest: 0.7096006 (638)\ttotal: 1m 45s\tremaining: 9m 16s\n",
      "639:\ttest: 0.7096059\tbest: 0.7096059 (639)\ttotal: 1m 45s\tremaining: 9m 15s\n",
      "640:\ttest: 0.7096062\tbest: 0.7096062 (640)\ttotal: 1m 45s\tremaining: 9m 15s\n",
      "641:\ttest: 0.7096128\tbest: 0.7096128 (641)\ttotal: 1m 46s\tremaining: 9m 15s\n",
      "642:\ttest: 0.7096189\tbest: 0.7096189 (642)\ttotal: 1m 46s\tremaining: 9m 14s\n",
      "643:\ttest: 0.7096267\tbest: 0.7096267 (643)\ttotal: 1m 46s\tremaining: 9m 14s\n",
      "644:\ttest: 0.7096277\tbest: 0.7096277 (644)\ttotal: 1m 46s\tremaining: 9m 14s\n",
      "645:\ttest: 0.7096365\tbest: 0.7096365 (645)\ttotal: 1m 46s\tremaining: 9m 14s\n",
      "646:\ttest: 0.7096494\tbest: 0.7096494 (646)\ttotal: 1m 46s\tremaining: 9m 13s\n",
      "647:\ttest: 0.7096534\tbest: 0.7096534 (647)\ttotal: 1m 47s\tremaining: 9m 13s\n",
      "648:\ttest: 0.7096604\tbest: 0.7096604 (648)\ttotal: 1m 47s\tremaining: 9m 13s\n",
      "649:\ttest: 0.7096661\tbest: 0.7096661 (649)\ttotal: 1m 47s\tremaining: 9m 13s\n",
      "650:\ttest: 0.7096771\tbest: 0.7096771 (650)\ttotal: 1m 47s\tremaining: 9m 13s\n",
      "651:\ttest: 0.7096843\tbest: 0.7096843 (651)\ttotal: 1m 47s\tremaining: 9m 13s\n",
      "652:\ttest: 0.7096893\tbest: 0.7096893 (652)\ttotal: 1m 47s\tremaining: 9m 12s\n",
      "653:\ttest: 0.7096894\tbest: 0.7096894 (653)\ttotal: 1m 48s\tremaining: 9m 12s\n",
      "654:\ttest: 0.7096960\tbest: 0.7096960 (654)\ttotal: 1m 48s\tremaining: 9m 12s\n",
      "655:\ttest: 0.7096990\tbest: 0.7096990 (655)\ttotal: 1m 48s\tremaining: 9m 12s\n",
      "656:\ttest: 0.7097071\tbest: 0.7097071 (656)\ttotal: 1m 48s\tremaining: 9m 12s\n",
      "657:\ttest: 0.7097140\tbest: 0.7097140 (657)\ttotal: 1m 48s\tremaining: 9m 12s\n",
      "658:\ttest: 0.7097161\tbest: 0.7097161 (658)\ttotal: 1m 48s\tremaining: 9m 11s\n",
      "659:\ttest: 0.7097204\tbest: 0.7097204 (659)\ttotal: 1m 49s\tremaining: 9m 11s\n",
      "660:\ttest: 0.7097271\tbest: 0.7097271 (660)\ttotal: 1m 49s\tremaining: 9m 11s\n",
      "661:\ttest: 0.7097323\tbest: 0.7097323 (661)\ttotal: 1m 49s\tremaining: 9m 11s\n",
      "662:\ttest: 0.7097339\tbest: 0.7097339 (662)\ttotal: 1m 49s\tremaining: 9m 10s\n"
     ]
    },
    {
     "name": "stdout",
     "output_type": "stream",
     "text": [
      "663:\ttest: 0.7097397\tbest: 0.7097397 (663)\ttotal: 1m 49s\tremaining: 9m 10s\n",
      "664:\ttest: 0.7097460\tbest: 0.7097460 (664)\ttotal: 1m 49s\tremaining: 9m 10s\n",
      "665:\ttest: 0.7097530\tbest: 0.7097530 (665)\ttotal: 1m 49s\tremaining: 9m 10s\n",
      "666:\ttest: 0.7097546\tbest: 0.7097546 (666)\ttotal: 1m 50s\tremaining: 9m 10s\n",
      "667:\ttest: 0.7097576\tbest: 0.7097576 (667)\ttotal: 1m 50s\tremaining: 9m 10s\n",
      "668:\ttest: 0.7097617\tbest: 0.7097617 (668)\ttotal: 1m 50s\tremaining: 9m 9s\n",
      "669:\ttest: 0.7097702\tbest: 0.7097702 (669)\ttotal: 1m 50s\tremaining: 9m 9s\n",
      "670:\ttest: 0.7097768\tbest: 0.7097768 (670)\ttotal: 1m 50s\tremaining: 9m 9s\n",
      "671:\ttest: 0.7097796\tbest: 0.7097796 (671)\ttotal: 1m 50s\tremaining: 9m 9s\n",
      "672:\ttest: 0.7097799\tbest: 0.7097799 (672)\ttotal: 1m 51s\tremaining: 9m 8s\n",
      "673:\ttest: 0.7097852\tbest: 0.7097852 (673)\ttotal: 1m 51s\tremaining: 9m 8s\n",
      "674:\ttest: 0.7097924\tbest: 0.7097924 (674)\ttotal: 1m 51s\tremaining: 9m 8s\n",
      "675:\ttest: 0.7097961\tbest: 0.7097961 (675)\ttotal: 1m 51s\tremaining: 9m 8s\n",
      "676:\ttest: 0.7098002\tbest: 0.7098002 (676)\ttotal: 1m 51s\tremaining: 9m 8s\n",
      "677:\ttest: 0.7098036\tbest: 0.7098036 (677)\ttotal: 1m 51s\tremaining: 9m 7s\n",
      "678:\ttest: 0.7098163\tbest: 0.7098163 (678)\ttotal: 1m 52s\tremaining: 9m 7s\n",
      "679:\ttest: 0.7098171\tbest: 0.7098171 (679)\ttotal: 1m 52s\tremaining: 9m 7s\n",
      "680:\ttest: 0.7098181\tbest: 0.7098181 (680)\ttotal: 1m 52s\tremaining: 9m 7s\n",
      "681:\ttest: 0.7098270\tbest: 0.7098270 (681)\ttotal: 1m 52s\tremaining: 9m 6s\n",
      "682:\ttest: 0.7098308\tbest: 0.7098308 (682)\ttotal: 1m 52s\tremaining: 9m 6s\n",
      "683:\ttest: 0.7098336\tbest: 0.7098336 (683)\ttotal: 1m 52s\tremaining: 9m 6s\n",
      "684:\ttest: 0.7098373\tbest: 0.7098373 (684)\ttotal: 1m 52s\tremaining: 9m 6s\n",
      "685:\ttest: 0.7098431\tbest: 0.7098431 (685)\ttotal: 1m 52s\tremaining: 9m 5s\n",
      "686:\ttest: 0.7098421\tbest: 0.7098431 (685)\ttotal: 1m 53s\tremaining: 9m 5s\n",
      "687:\ttest: 0.7098481\tbest: 0.7098481 (687)\ttotal: 1m 53s\tremaining: 9m 5s\n",
      "688:\ttest: 0.7098550\tbest: 0.7098550 (688)\ttotal: 1m 53s\tremaining: 9m 5s\n",
      "689:\ttest: 0.7098690\tbest: 0.7098690 (689)\ttotal: 1m 53s\tremaining: 9m 5s\n",
      "690:\ttest: 0.7098724\tbest: 0.7098724 (690)\ttotal: 1m 53s\tremaining: 9m 4s\n",
      "691:\ttest: 0.7098800\tbest: 0.7098800 (691)\ttotal: 1m 53s\tremaining: 9m 4s\n",
      "692:\ttest: 0.7098877\tbest: 0.7098877 (692)\ttotal: 1m 54s\tremaining: 9m 4s\n",
      "693:\ttest: 0.7098882\tbest: 0.7098882 (693)\ttotal: 1m 54s\tremaining: 9m 4s\n",
      "694:\ttest: 0.7098934\tbest: 0.7098934 (694)\ttotal: 1m 54s\tremaining: 9m 4s\n",
      "695:\ttest: 0.7098933\tbest: 0.7098934 (694)\ttotal: 1m 54s\tremaining: 9m 4s\n",
      "696:\ttest: 0.7099043\tbest: 0.7099043 (696)\ttotal: 1m 54s\tremaining: 9m 3s\n",
      "697:\ttest: 0.7099131\tbest: 0.7099131 (697)\ttotal: 1m 54s\tremaining: 9m 3s\n",
      "698:\ttest: 0.7099194\tbest: 0.7099194 (698)\ttotal: 1m 55s\tremaining: 9m 3s\n",
      "699:\ttest: 0.7099226\tbest: 0.7099226 (699)\ttotal: 1m 55s\tremaining: 9m 3s\n",
      "700:\ttest: 0.7099212\tbest: 0.7099226 (699)\ttotal: 1m 55s\tremaining: 9m 3s\n",
      "701:\ttest: 0.7099264\tbest: 0.7099264 (701)\ttotal: 1m 55s\tremaining: 9m 2s\n",
      "702:\ttest: 0.7099357\tbest: 0.7099357 (702)\ttotal: 1m 55s\tremaining: 9m 2s\n",
      "703:\ttest: 0.7099432\tbest: 0.7099432 (703)\ttotal: 1m 55s\tremaining: 9m 2s\n",
      "704:\ttest: 0.7099443\tbest: 0.7099443 (704)\ttotal: 1m 56s\tremaining: 9m 2s\n",
      "705:\ttest: 0.7099520\tbest: 0.7099520 (705)\ttotal: 1m 56s\tremaining: 9m 2s\n",
      "706:\ttest: 0.7099563\tbest: 0.7099563 (706)\ttotal: 1m 56s\tremaining: 9m 1s\n",
      "707:\ttest: 0.7099591\tbest: 0.7099591 (707)\ttotal: 1m 56s\tremaining: 9m 1s\n",
      "708:\ttest: 0.7099645\tbest: 0.7099645 (708)\ttotal: 1m 56s\tremaining: 9m 1s\n",
      "709:\ttest: 0.7099751\tbest: 0.7099751 (709)\ttotal: 1m 56s\tremaining: 9m 1s\n",
      "710:\ttest: 0.7099762\tbest: 0.7099762 (710)\ttotal: 1m 57s\tremaining: 9m 1s\n",
      "711:\ttest: 0.7099858\tbest: 0.7099858 (711)\ttotal: 1m 57s\tremaining: 9m 1s\n",
      "712:\ttest: 0.7099905\tbest: 0.7099905 (712)\ttotal: 1m 57s\tremaining: 9m\n",
      "713:\ttest: 0.7099943\tbest: 0.7099943 (713)\ttotal: 1m 57s\tremaining: 9m\n",
      "714:\ttest: 0.7099954\tbest: 0.7099954 (714)\ttotal: 1m 57s\tremaining: 9m\n",
      "715:\ttest: 0.7099979\tbest: 0.7099979 (715)\ttotal: 1m 57s\tremaining: 9m\n",
      "716:\ttest: 0.7100064\tbest: 0.7100064 (716)\ttotal: 1m 57s\tremaining: 9m\n",
      "717:\ttest: 0.7100165\tbest: 0.7100165 (717)\ttotal: 1m 58s\tremaining: 9m\n",
      "718:\ttest: 0.7100221\tbest: 0.7100221 (718)\ttotal: 1m 58s\tremaining: 8m 59s\n",
      "719:\ttest: 0.7100231\tbest: 0.7100231 (719)\ttotal: 1m 58s\tremaining: 8m 59s\n",
      "720:\ttest: 0.7100268\tbest: 0.7100268 (720)\ttotal: 1m 58s\tremaining: 8m 59s\n",
      "721:\ttest: 0.7100289\tbest: 0.7100289 (721)\ttotal: 1m 58s\tremaining: 8m 59s\n",
      "722:\ttest: 0.7100315\tbest: 0.7100315 (722)\ttotal: 1m 58s\tremaining: 8m 59s\n",
      "723:\ttest: 0.7100310\tbest: 0.7100315 (722)\ttotal: 1m 59s\tremaining: 8m 58s\n",
      "724:\ttest: 0.7100348\tbest: 0.7100348 (724)\ttotal: 1m 59s\tremaining: 8m 58s\n",
      "725:\ttest: 0.7100407\tbest: 0.7100407 (725)\ttotal: 1m 59s\tremaining: 8m 58s\n",
      "726:\ttest: 0.7100450\tbest: 0.7100450 (726)\ttotal: 1m 59s\tremaining: 8m 58s\n",
      "727:\ttest: 0.7100472\tbest: 0.7100472 (727)\ttotal: 1m 59s\tremaining: 8m 57s\n",
      "728:\ttest: 0.7100499\tbest: 0.7100499 (728)\ttotal: 1m 59s\tremaining: 8m 57s\n",
      "729:\ttest: 0.7100546\tbest: 0.7100546 (729)\ttotal: 2m\tremaining: 8m 57s\n",
      "730:\ttest: 0.7100633\tbest: 0.7100633 (730)\ttotal: 2m\tremaining: 8m 57s\n",
      "731:\ttest: 0.7100714\tbest: 0.7100714 (731)\ttotal: 2m\tremaining: 8m 57s\n",
      "732:\ttest: 0.7100742\tbest: 0.7100742 (732)\ttotal: 2m\tremaining: 8m 57s\n",
      "733:\ttest: 0.7100812\tbest: 0.7100812 (733)\ttotal: 2m\tremaining: 8m 56s\n",
      "734:\ttest: 0.7100852\tbest: 0.7100852 (734)\ttotal: 2m\tremaining: 8m 56s\n",
      "735:\ttest: 0.7100845\tbest: 0.7100852 (734)\ttotal: 2m\tremaining: 8m 56s\n",
      "736:\ttest: 0.7100938\tbest: 0.7100938 (736)\ttotal: 2m 1s\tremaining: 8m 56s\n",
      "737:\ttest: 0.7100952\tbest: 0.7100952 (737)\ttotal: 2m 1s\tremaining: 8m 56s\n",
      "738:\ttest: 0.7100970\tbest: 0.7100970 (738)\ttotal: 2m 1s\tremaining: 8m 55s\n",
      "739:\ttest: 0.7101078\tbest: 0.7101078 (739)\ttotal: 2m 1s\tremaining: 8m 55s\n",
      "740:\ttest: 0.7101133\tbest: 0.7101133 (740)\ttotal: 2m 1s\tremaining: 8m 55s\n",
      "741:\ttest: 0.7101160\tbest: 0.7101160 (741)\ttotal: 2m 1s\tremaining: 8m 55s\n",
      "742:\ttest: 0.7101161\tbest: 0.7101161 (742)\ttotal: 2m 2s\tremaining: 8m 55s\n",
      "743:\ttest: 0.7101191\tbest: 0.7101191 (743)\ttotal: 2m 2s\tremaining: 8m 55s\n",
      "744:\ttest: 0.7101221\tbest: 0.7101221 (744)\ttotal: 2m 2s\tremaining: 8m 54s\n",
      "745:\ttest: 0.7101267\tbest: 0.7101267 (745)\ttotal: 2m 2s\tremaining: 8m 54s\n",
      "746:\ttest: 0.7101318\tbest: 0.7101318 (746)\ttotal: 2m 2s\tremaining: 8m 54s\n",
      "747:\ttest: 0.7101361\tbest: 0.7101361 (747)\ttotal: 2m 2s\tremaining: 8m 54s\n",
      "748:\ttest: 0.7101387\tbest: 0.7101387 (748)\ttotal: 2m 3s\tremaining: 8m 54s\n",
      "749:\ttest: 0.7101395\tbest: 0.7101395 (749)\ttotal: 2m 3s\tremaining: 8m 53s\n",
      "750:\ttest: 0.7101410\tbest: 0.7101410 (750)\ttotal: 2m 3s\tremaining: 8m 53s\n",
      "751:\ttest: 0.7101440\tbest: 0.7101440 (751)\ttotal: 2m 3s\tremaining: 8m 53s\n",
      "752:\ttest: 0.7101546\tbest: 0.7101546 (752)\ttotal: 2m 3s\tremaining: 8m 53s\n",
      "753:\ttest: 0.7101607\tbest: 0.7101607 (753)\ttotal: 2m 3s\tremaining: 8m 53s\n",
      "754:\ttest: 0.7101627\tbest: 0.7101627 (754)\ttotal: 2m 3s\tremaining: 8m 52s\n",
      "755:\ttest: 0.7101641\tbest: 0.7101641 (755)\ttotal: 2m 4s\tremaining: 8m 52s\n",
      "756:\ttest: 0.7101656\tbest: 0.7101656 (756)\ttotal: 2m 4s\tremaining: 8m 52s\n",
      "757:\ttest: 0.7101744\tbest: 0.7101744 (757)\ttotal: 2m 4s\tremaining: 8m 52s\n",
      "758:\ttest: 0.7101762\tbest: 0.7101762 (758)\ttotal: 2m 4s\tremaining: 8m 52s\n",
      "759:\ttest: 0.7101771\tbest: 0.7101771 (759)\ttotal: 2m 4s\tremaining: 8m 51s\n",
      "760:\ttest: 0.7101785\tbest: 0.7101785 (760)\ttotal: 2m 4s\tremaining: 8m 51s\n",
      "761:\ttest: 0.7101828\tbest: 0.7101828 (761)\ttotal: 2m 5s\tremaining: 8m 51s\n",
      "762:\ttest: 0.7101820\tbest: 0.7101828 (761)\ttotal: 2m 5s\tremaining: 8m 51s\n",
      "763:\ttest: 0.7101830\tbest: 0.7101830 (763)\ttotal: 2m 5s\tremaining: 8m 51s\n",
      "764:\ttest: 0.7101853\tbest: 0.7101853 (764)\ttotal: 2m 5s\tremaining: 8m 50s\n",
      "765:\ttest: 0.7101933\tbest: 0.7101933 (765)\ttotal: 2m 5s\tremaining: 8m 50s\n",
      "766:\ttest: 0.7101962\tbest: 0.7101962 (766)\ttotal: 2m 5s\tremaining: 8m 50s\n",
      "767:\ttest: 0.7102006\tbest: 0.7102006 (767)\ttotal: 2m 6s\tremaining: 8m 50s\n",
      "768:\ttest: 0.7102058\tbest: 0.7102058 (768)\ttotal: 2m 6s\tremaining: 8m 50s\n",
      "769:\ttest: 0.7102075\tbest: 0.7102075 (769)\ttotal: 2m 6s\tremaining: 8m 50s\n",
      "770:\ttest: 0.7102122\tbest: 0.7102122 (770)\ttotal: 2m 6s\tremaining: 8m 49s\n",
      "771:\ttest: 0.7102116\tbest: 0.7102122 (770)\ttotal: 2m 6s\tremaining: 8m 49s\n",
      "772:\ttest: 0.7102176\tbest: 0.7102176 (772)\ttotal: 2m 6s\tremaining: 8m 49s\n",
      "773:\ttest: 0.7102234\tbest: 0.7102234 (773)\ttotal: 2m 7s\tremaining: 8m 49s\n",
      "774:\ttest: 0.7102276\tbest: 0.7102276 (774)\ttotal: 2m 7s\tremaining: 8m 49s\n"
     ]
    },
    {
     "name": "stdout",
     "output_type": "stream",
     "text": [
      "775:\ttest: 0.7102285\tbest: 0.7102285 (775)\ttotal: 2m 7s\tremaining: 8m 48s\n",
      "776:\ttest: 0.7102312\tbest: 0.7102312 (776)\ttotal: 2m 7s\tremaining: 8m 48s\n",
      "777:\ttest: 0.7102375\tbest: 0.7102375 (777)\ttotal: 2m 7s\tremaining: 8m 48s\n",
      "778:\ttest: 0.7102377\tbest: 0.7102377 (778)\ttotal: 2m 7s\tremaining: 8m 47s\n",
      "779:\ttest: 0.7102388\tbest: 0.7102388 (779)\ttotal: 2m 7s\tremaining: 8m 47s\n",
      "780:\ttest: 0.7102433\tbest: 0.7102433 (780)\ttotal: 2m 7s\tremaining: 8m 47s\n",
      "781:\ttest: 0.7102494\tbest: 0.7102494 (781)\ttotal: 2m 8s\tremaining: 8m 47s\n",
      "782:\ttest: 0.7102543\tbest: 0.7102543 (782)\ttotal: 2m 8s\tremaining: 8m 47s\n",
      "783:\ttest: 0.7102572\tbest: 0.7102572 (783)\ttotal: 2m 8s\tremaining: 8m 47s\n",
      "784:\ttest: 0.7102661\tbest: 0.7102661 (784)\ttotal: 2m 8s\tremaining: 8m 46s\n",
      "785:\ttest: 0.7102765\tbest: 0.7102765 (785)\ttotal: 2m 8s\tremaining: 8m 46s\n",
      "786:\ttest: 0.7102769\tbest: 0.7102769 (786)\ttotal: 2m 8s\tremaining: 8m 46s\n",
      "787:\ttest: 0.7102822\tbest: 0.7102822 (787)\ttotal: 2m 9s\tremaining: 8m 45s\n",
      "788:\ttest: 0.7102838\tbest: 0.7102838 (788)\ttotal: 2m 9s\tremaining: 8m 45s\n",
      "789:\ttest: 0.7102885\tbest: 0.7102885 (789)\ttotal: 2m 9s\tremaining: 8m 45s\n",
      "790:\ttest: 0.7102941\tbest: 0.7102941 (790)\ttotal: 2m 9s\tremaining: 8m 45s\n",
      "791:\ttest: 0.7102941\tbest: 0.7102941 (790)\ttotal: 2m 9s\tremaining: 8m 44s\n",
      "792:\ttest: 0.7102939\tbest: 0.7102941 (790)\ttotal: 2m 9s\tremaining: 8m 44s\n",
      "793:\ttest: 0.7103009\tbest: 0.7103009 (793)\ttotal: 2m 9s\tremaining: 8m 44s\n",
      "794:\ttest: 0.7103048\tbest: 0.7103048 (794)\ttotal: 2m 9s\tremaining: 8m 44s\n",
      "795:\ttest: 0.7103076\tbest: 0.7103076 (795)\ttotal: 2m 10s\tremaining: 8m 43s\n",
      "796:\ttest: 0.7103119\tbest: 0.7103119 (796)\ttotal: 2m 10s\tremaining: 8m 43s\n",
      "797:\ttest: 0.7103135\tbest: 0.7103135 (797)\ttotal: 2m 10s\tremaining: 8m 43s\n",
      "798:\ttest: 0.7103145\tbest: 0.7103145 (798)\ttotal: 2m 10s\tremaining: 8m 43s\n",
      "799:\ttest: 0.7103210\tbest: 0.7103210 (799)\ttotal: 2m 10s\tremaining: 8m 42s\n",
      "800:\ttest: 0.7103272\tbest: 0.7103272 (800)\ttotal: 2m 10s\tremaining: 8m 42s\n",
      "801:\ttest: 0.7103265\tbest: 0.7103272 (800)\ttotal: 2m 10s\tremaining: 8m 42s\n",
      "802:\ttest: 0.7103310\tbest: 0.7103310 (802)\ttotal: 2m 11s\tremaining: 8m 42s\n",
      "803:\ttest: 0.7103371\tbest: 0.7103371 (803)\ttotal: 2m 11s\tremaining: 8m 41s\n",
      "804:\ttest: 0.7103415\tbest: 0.7103415 (804)\ttotal: 2m 11s\tremaining: 8m 41s\n",
      "805:\ttest: 0.7103430\tbest: 0.7103430 (805)\ttotal: 2m 11s\tremaining: 8m 41s\n",
      "806:\ttest: 0.7103424\tbest: 0.7103430 (805)\ttotal: 2m 11s\tremaining: 8m 41s\n",
      "807:\ttest: 0.7103476\tbest: 0.7103476 (807)\ttotal: 2m 11s\tremaining: 8m 41s\n",
      "808:\ttest: 0.7103523\tbest: 0.7103523 (808)\ttotal: 2m 12s\tremaining: 8m 40s\n",
      "809:\ttest: 0.7103574\tbest: 0.7103574 (809)\ttotal: 2m 12s\tremaining: 8m 40s\n",
      "810:\ttest: 0.7103574\tbest: 0.7103574 (810)\ttotal: 2m 12s\tremaining: 8m 40s\n",
      "811:\ttest: 0.7103598\tbest: 0.7103598 (811)\ttotal: 2m 12s\tremaining: 8m 40s\n",
      "812:\ttest: 0.7103630\tbest: 0.7103630 (812)\ttotal: 2m 12s\tremaining: 8m 40s\n",
      "813:\ttest: 0.7103666\tbest: 0.7103666 (813)\ttotal: 2m 12s\tremaining: 8m 40s\n",
      "814:\ttest: 0.7103712\tbest: 0.7103712 (814)\ttotal: 2m 13s\tremaining: 8m 39s\n",
      "815:\ttest: 0.7103696\tbest: 0.7103712 (814)\ttotal: 2m 13s\tremaining: 8m 39s\n",
      "816:\ttest: 0.7103682\tbest: 0.7103712 (814)\ttotal: 2m 13s\tremaining: 8m 39s\n",
      "817:\ttest: 0.7103736\tbest: 0.7103736 (817)\ttotal: 2m 13s\tremaining: 8m 39s\n",
      "818:\ttest: 0.7103745\tbest: 0.7103745 (818)\ttotal: 2m 13s\tremaining: 8m 39s\n",
      "819:\ttest: 0.7103788\tbest: 0.7103788 (819)\ttotal: 2m 13s\tremaining: 8m 38s\n",
      "820:\ttest: 0.7103813\tbest: 0.7103813 (820)\ttotal: 2m 13s\tremaining: 8m 38s\n",
      "821:\ttest: 0.7103811\tbest: 0.7103813 (820)\ttotal: 2m 14s\tremaining: 8m 38s\n",
      "822:\ttest: 0.7103849\tbest: 0.7103849 (822)\ttotal: 2m 14s\tremaining: 8m 38s\n",
      "823:\ttest: 0.7103928\tbest: 0.7103928 (823)\ttotal: 2m 14s\tremaining: 8m 37s\n",
      "824:\ttest: 0.7103930\tbest: 0.7103930 (824)\ttotal: 2m 14s\tremaining: 8m 37s\n",
      "825:\ttest: 0.7103926\tbest: 0.7103930 (824)\ttotal: 2m 14s\tremaining: 8m 37s\n",
      "826:\ttest: 0.7103996\tbest: 0.7103996 (826)\ttotal: 2m 14s\tremaining: 8m 37s\n",
      "827:\ttest: 0.7104025\tbest: 0.7104025 (827)\ttotal: 2m 14s\tremaining: 8m 36s\n",
      "828:\ttest: 0.7104044\tbest: 0.7104044 (828)\ttotal: 2m 15s\tremaining: 8m 36s\n",
      "829:\ttest: 0.7104049\tbest: 0.7104049 (829)\ttotal: 2m 15s\tremaining: 8m 36s\n",
      "830:\ttest: 0.7104069\tbest: 0.7104069 (830)\ttotal: 2m 15s\tremaining: 8m 36s\n",
      "831:\ttest: 0.7104128\tbest: 0.7104128 (831)\ttotal: 2m 15s\tremaining: 8m 36s\n",
      "832:\ttest: 0.7104158\tbest: 0.7104158 (832)\ttotal: 2m 15s\tremaining: 8m 36s\n",
      "833:\ttest: 0.7104216\tbest: 0.7104216 (833)\ttotal: 2m 15s\tremaining: 8m 35s\n",
      "834:\ttest: 0.7104230\tbest: 0.7104230 (834)\ttotal: 2m 16s\tremaining: 8m 35s\n",
      "835:\ttest: 0.7104261\tbest: 0.7104261 (835)\ttotal: 2m 16s\tremaining: 8m 35s\n",
      "836:\ttest: 0.7104303\tbest: 0.7104303 (836)\ttotal: 2m 16s\tremaining: 8m 35s\n",
      "837:\ttest: 0.7104328\tbest: 0.7104328 (837)\ttotal: 2m 16s\tremaining: 8m 35s\n",
      "838:\ttest: 0.7104344\tbest: 0.7104344 (838)\ttotal: 2m 16s\tremaining: 8m 34s\n",
      "839:\ttest: 0.7104326\tbest: 0.7104344 (838)\ttotal: 2m 16s\tremaining: 8m 34s\n",
      "840:\ttest: 0.7104340\tbest: 0.7104344 (838)\ttotal: 2m 16s\tremaining: 8m 34s\n",
      "841:\ttest: 0.7104367\tbest: 0.7104367 (841)\ttotal: 2m 17s\tremaining: 8m 34s\n",
      "842:\ttest: 0.7104395\tbest: 0.7104395 (842)\ttotal: 2m 17s\tremaining: 8m 34s\n",
      "843:\ttest: 0.7104427\tbest: 0.7104427 (843)\ttotal: 2m 17s\tremaining: 8m 34s\n",
      "844:\ttest: 0.7104578\tbest: 0.7104578 (844)\ttotal: 2m 17s\tremaining: 8m 33s\n",
      "845:\ttest: 0.7104585\tbest: 0.7104585 (845)\ttotal: 2m 17s\tremaining: 8m 33s\n",
      "846:\ttest: 0.7104672\tbest: 0.7104672 (846)\ttotal: 2m 17s\tremaining: 8m 33s\n",
      "847:\ttest: 0.7104708\tbest: 0.7104708 (847)\ttotal: 2m 18s\tremaining: 8m 33s\n",
      "848:\ttest: 0.7104720\tbest: 0.7104720 (848)\ttotal: 2m 18s\tremaining: 8m 33s\n",
      "849:\ttest: 0.7104751\tbest: 0.7104751 (849)\ttotal: 2m 18s\tremaining: 8m 32s\n",
      "850:\ttest: 0.7104751\tbest: 0.7104751 (850)\ttotal: 2m 18s\tremaining: 8m 32s\n",
      "851:\ttest: 0.7104758\tbest: 0.7104758 (851)\ttotal: 2m 18s\tremaining: 8m 32s\n",
      "852:\ttest: 0.7104773\tbest: 0.7104773 (852)\ttotal: 2m 18s\tremaining: 8m 32s\n",
      "853:\ttest: 0.7104783\tbest: 0.7104783 (853)\ttotal: 2m 18s\tremaining: 8m 31s\n",
      "854:\ttest: 0.7104801\tbest: 0.7104801 (854)\ttotal: 2m 19s\tremaining: 8m 31s\n",
      "855:\ttest: 0.7104818\tbest: 0.7104818 (855)\ttotal: 2m 19s\tremaining: 8m 31s\n",
      "856:\ttest: 0.7104846\tbest: 0.7104846 (856)\ttotal: 2m 19s\tremaining: 8m 31s\n",
      "857:\ttest: 0.7104863\tbest: 0.7104863 (857)\ttotal: 2m 19s\tremaining: 8m 31s\n",
      "858:\ttest: 0.7104907\tbest: 0.7104907 (858)\ttotal: 2m 19s\tremaining: 8m 30s\n",
      "859:\ttest: 0.7104929\tbest: 0.7104929 (859)\ttotal: 2m 19s\tremaining: 8m 30s\n",
      "860:\ttest: 0.7104972\tbest: 0.7104972 (860)\ttotal: 2m 20s\tremaining: 8m 30s\n",
      "861:\ttest: 0.7104986\tbest: 0.7104986 (861)\ttotal: 2m 20s\tremaining: 8m 30s\n",
      "862:\ttest: 0.7105007\tbest: 0.7105007 (862)\ttotal: 2m 20s\tremaining: 8m 30s\n",
      "863:\ttest: 0.7105020\tbest: 0.7105020 (863)\ttotal: 2m 20s\tremaining: 8m 29s\n",
      "864:\ttest: 0.7105050\tbest: 0.7105050 (864)\ttotal: 2m 20s\tremaining: 8m 29s\n",
      "865:\ttest: 0.7105075\tbest: 0.7105075 (865)\ttotal: 2m 20s\tremaining: 8m 29s\n",
      "866:\ttest: 0.7105192\tbest: 0.7105192 (866)\ttotal: 2m 20s\tremaining: 8m 29s\n",
      "867:\ttest: 0.7105218\tbest: 0.7105218 (867)\ttotal: 2m 21s\tremaining: 8m 29s\n",
      "868:\ttest: 0.7105249\tbest: 0.7105249 (868)\ttotal: 2m 21s\tremaining: 8m 29s\n",
      "869:\ttest: 0.7105350\tbest: 0.7105350 (869)\ttotal: 2m 21s\tremaining: 8m 28s\n",
      "870:\ttest: 0.7105400\tbest: 0.7105400 (870)\ttotal: 2m 21s\tremaining: 8m 28s\n",
      "871:\ttest: 0.7105438\tbest: 0.7105438 (871)\ttotal: 2m 21s\tremaining: 8m 28s\n",
      "872:\ttest: 0.7105458\tbest: 0.7105458 (872)\ttotal: 2m 21s\tremaining: 8m 28s\n",
      "873:\ttest: 0.7105463\tbest: 0.7105463 (873)\ttotal: 2m 21s\tremaining: 8m 27s\n",
      "874:\ttest: 0.7105527\tbest: 0.7105527 (874)\ttotal: 2m 22s\tremaining: 8m 27s\n",
      "875:\ttest: 0.7105518\tbest: 0.7105527 (874)\ttotal: 2m 22s\tremaining: 8m 27s\n",
      "876:\ttest: 0.7105557\tbest: 0.7105557 (876)\ttotal: 2m 22s\tremaining: 8m 27s\n",
      "877:\ttest: 0.7105624\tbest: 0.7105624 (877)\ttotal: 2m 22s\tremaining: 8m 27s\n",
      "878:\ttest: 0.7105635\tbest: 0.7105635 (878)\ttotal: 2m 22s\tremaining: 8m 26s\n",
      "879:\ttest: 0.7105638\tbest: 0.7105638 (879)\ttotal: 2m 22s\tremaining: 8m 26s\n",
      "880:\ttest: 0.7105657\tbest: 0.7105657 (880)\ttotal: 2m 23s\tremaining: 8m 26s\n",
      "881:\ttest: 0.7105669\tbest: 0.7105669 (881)\ttotal: 2m 23s\tremaining: 8m 26s\n",
      "882:\ttest: 0.7105709\tbest: 0.7105709 (882)\ttotal: 2m 23s\tremaining: 8m 26s\n",
      "883:\ttest: 0.7105725\tbest: 0.7105725 (883)\ttotal: 2m 23s\tremaining: 8m 25s\n",
      "884:\ttest: 0.7105760\tbest: 0.7105760 (884)\ttotal: 2m 23s\tremaining: 8m 25s\n"
     ]
    },
    {
     "name": "stdout",
     "output_type": "stream",
     "text": [
      "885:\ttest: 0.7105797\tbest: 0.7105797 (885)\ttotal: 2m 23s\tremaining: 8m 25s\n",
      "886:\ttest: 0.7105806\tbest: 0.7105806 (886)\ttotal: 2m 23s\tremaining: 8m 25s\n",
      "887:\ttest: 0.7105803\tbest: 0.7105806 (886)\ttotal: 2m 24s\tremaining: 8m 25s\n",
      "888:\ttest: 0.7105803\tbest: 0.7105806 (886)\ttotal: 2m 24s\tremaining: 8m 24s\n",
      "889:\ttest: 0.7105863\tbest: 0.7105863 (889)\ttotal: 2m 24s\tremaining: 8m 24s\n",
      "890:\ttest: 0.7105867\tbest: 0.7105867 (890)\ttotal: 2m 24s\tremaining: 8m 24s\n",
      "891:\ttest: 0.7105875\tbest: 0.7105875 (891)\ttotal: 2m 24s\tremaining: 8m 24s\n",
      "892:\ttest: 0.7105902\tbest: 0.7105902 (892)\ttotal: 2m 24s\tremaining: 8m 24s\n",
      "893:\ttest: 0.7105902\tbest: 0.7105902 (892)\ttotal: 2m 25s\tremaining: 8m 23s\n",
      "894:\ttest: 0.7105932\tbest: 0.7105932 (894)\ttotal: 2m 25s\tremaining: 8m 23s\n",
      "895:\ttest: 0.7105928\tbest: 0.7105932 (894)\ttotal: 2m 25s\tremaining: 8m 23s\n",
      "896:\ttest: 0.7105980\tbest: 0.7105980 (896)\ttotal: 2m 25s\tremaining: 8m 23s\n",
      "897:\ttest: 0.7106033\tbest: 0.7106033 (897)\ttotal: 2m 25s\tremaining: 8m 23s\n",
      "898:\ttest: 0.7106047\tbest: 0.7106047 (898)\ttotal: 2m 25s\tremaining: 8m 23s\n",
      "899:\ttest: 0.7106063\tbest: 0.7106063 (899)\ttotal: 2m 25s\tremaining: 8m 22s\n",
      "900:\ttest: 0.7106069\tbest: 0.7106069 (900)\ttotal: 2m 26s\tremaining: 8m 22s\n",
      "901:\ttest: 0.7106159\tbest: 0.7106159 (901)\ttotal: 2m 26s\tremaining: 8m 22s\n",
      "902:\ttest: 0.7106217\tbest: 0.7106217 (902)\ttotal: 2m 26s\tremaining: 8m 22s\n",
      "903:\ttest: 0.7106173\tbest: 0.7106217 (902)\ttotal: 2m 26s\tremaining: 8m 22s\n",
      "904:\ttest: 0.7106236\tbest: 0.7106236 (904)\ttotal: 2m 26s\tremaining: 8m 22s\n",
      "905:\ttest: 0.7106282\tbest: 0.7106282 (905)\ttotal: 2m 26s\tremaining: 8m 21s\n",
      "906:\ttest: 0.7106342\tbest: 0.7106342 (906)\ttotal: 2m 27s\tremaining: 8m 21s\n",
      "907:\ttest: 0.7106325\tbest: 0.7106342 (906)\ttotal: 2m 27s\tremaining: 8m 21s\n",
      "908:\ttest: 0.7106328\tbest: 0.7106342 (906)\ttotal: 2m 27s\tremaining: 8m 21s\n",
      "909:\ttest: 0.7106383\tbest: 0.7106383 (909)\ttotal: 2m 27s\tremaining: 8m 21s\n",
      "910:\ttest: 0.7106374\tbest: 0.7106383 (909)\ttotal: 2m 27s\tremaining: 8m 20s\n",
      "911:\ttest: 0.7106385\tbest: 0.7106385 (911)\ttotal: 2m 27s\tremaining: 8m 20s\n",
      "912:\ttest: 0.7106432\tbest: 0.7106432 (912)\ttotal: 2m 28s\tremaining: 8m 20s\n",
      "913:\ttest: 0.7106466\tbest: 0.7106466 (913)\ttotal: 2m 28s\tremaining: 8m 20s\n",
      "914:\ttest: 0.7106467\tbest: 0.7106467 (914)\ttotal: 2m 28s\tremaining: 8m 20s\n",
      "915:\ttest: 0.7106463\tbest: 0.7106467 (914)\ttotal: 2m 28s\tremaining: 8m 20s\n",
      "916:\ttest: 0.7106504\tbest: 0.7106504 (916)\ttotal: 2m 28s\tremaining: 8m 19s\n",
      "917:\ttest: 0.7106524\tbest: 0.7106524 (917)\ttotal: 2m 28s\tremaining: 8m 19s\n",
      "918:\ttest: 0.7106551\tbest: 0.7106551 (918)\ttotal: 2m 29s\tremaining: 8m 19s\n",
      "919:\ttest: 0.7106572\tbest: 0.7106572 (919)\ttotal: 2m 29s\tremaining: 8m 19s\n",
      "920:\ttest: 0.7106584\tbest: 0.7106584 (920)\ttotal: 2m 29s\tremaining: 8m 19s\n",
      "921:\ttest: 0.7106602\tbest: 0.7106602 (921)\ttotal: 2m 29s\tremaining: 8m 19s\n",
      "922:\ttest: 0.7106701\tbest: 0.7106701 (922)\ttotal: 2m 29s\tremaining: 8m 18s\n",
      "923:\ttest: 0.7106738\tbest: 0.7106738 (923)\ttotal: 2m 29s\tremaining: 8m 18s\n",
      "924:\ttest: 0.7106765\tbest: 0.7106765 (924)\ttotal: 2m 29s\tremaining: 8m 18s\n",
      "925:\ttest: 0.7106751\tbest: 0.7106765 (924)\ttotal: 2m 30s\tremaining: 8m 18s\n",
      "926:\ttest: 0.7106808\tbest: 0.7106808 (926)\ttotal: 2m 30s\tremaining: 8m 18s\n",
      "927:\ttest: 0.7106840\tbest: 0.7106840 (927)\ttotal: 2m 30s\tremaining: 8m 17s\n",
      "928:\ttest: 0.7106822\tbest: 0.7106840 (927)\ttotal: 2m 30s\tremaining: 8m 17s\n",
      "929:\ttest: 0.7106878\tbest: 0.7106878 (929)\ttotal: 2m 30s\tremaining: 8m 17s\n",
      "930:\ttest: 0.7106969\tbest: 0.7106969 (930)\ttotal: 2m 30s\tremaining: 8m 17s\n",
      "931:\ttest: 0.7106973\tbest: 0.7106973 (931)\ttotal: 2m 31s\tremaining: 8m 17s\n",
      "932:\ttest: 0.7106978\tbest: 0.7106978 (932)\ttotal: 2m 31s\tremaining: 8m 17s\n",
      "933:\ttest: 0.7107019\tbest: 0.7107019 (933)\ttotal: 2m 31s\tremaining: 8m 16s\n",
      "934:\ttest: 0.7107049\tbest: 0.7107049 (934)\ttotal: 2m 31s\tremaining: 8m 16s\n",
      "935:\ttest: 0.7107085\tbest: 0.7107085 (935)\ttotal: 2m 31s\tremaining: 8m 16s\n",
      "936:\ttest: 0.7107047\tbest: 0.7107085 (935)\ttotal: 2m 31s\tremaining: 8m 16s\n",
      "937:\ttest: 0.7107104\tbest: 0.7107104 (937)\ttotal: 2m 32s\tremaining: 8m 16s\n",
      "938:\ttest: 0.7107121\tbest: 0.7107121 (938)\ttotal: 2m 32s\tremaining: 8m 16s\n",
      "939:\ttest: 0.7107206\tbest: 0.7107206 (939)\ttotal: 2m 32s\tremaining: 8m 15s\n",
      "940:\ttest: 0.7107275\tbest: 0.7107275 (940)\ttotal: 2m 32s\tremaining: 8m 15s\n",
      "941:\ttest: 0.7107310\tbest: 0.7107310 (941)\ttotal: 2m 32s\tremaining: 8m 15s\n",
      "942:\ttest: 0.7107347\tbest: 0.7107347 (942)\ttotal: 2m 32s\tremaining: 8m 15s\n",
      "943:\ttest: 0.7107350\tbest: 0.7107350 (943)\ttotal: 2m 32s\tremaining: 8m 15s\n",
      "944:\ttest: 0.7107366\tbest: 0.7107366 (944)\ttotal: 2m 33s\tremaining: 8m 14s\n",
      "945:\ttest: 0.7107439\tbest: 0.7107439 (945)\ttotal: 2m 33s\tremaining: 8m 14s\n",
      "946:\ttest: 0.7107452\tbest: 0.7107452 (946)\ttotal: 2m 33s\tremaining: 8m 14s\n",
      "947:\ttest: 0.7107415\tbest: 0.7107452 (946)\ttotal: 2m 33s\tremaining: 8m 14s\n",
      "948:\ttest: 0.7107451\tbest: 0.7107452 (946)\ttotal: 2m 33s\tremaining: 8m 14s\n",
      "949:\ttest: 0.7107513\tbest: 0.7107513 (949)\ttotal: 2m 33s\tremaining: 8m 14s\n",
      "950:\ttest: 0.7107538\tbest: 0.7107538 (950)\ttotal: 2m 34s\tremaining: 8m 13s\n",
      "951:\ttest: 0.7107560\tbest: 0.7107560 (951)\ttotal: 2m 34s\tremaining: 8m 13s\n",
      "952:\ttest: 0.7107656\tbest: 0.7107656 (952)\ttotal: 2m 34s\tremaining: 8m 13s\n",
      "953:\ttest: 0.7107729\tbest: 0.7107729 (953)\ttotal: 2m 34s\tremaining: 8m 13s\n",
      "954:\ttest: 0.7107794\tbest: 0.7107794 (954)\ttotal: 2m 34s\tremaining: 8m 13s\n",
      "955:\ttest: 0.7107805\tbest: 0.7107805 (955)\ttotal: 2m 34s\tremaining: 8m 12s\n",
      "956:\ttest: 0.7107829\tbest: 0.7107829 (956)\ttotal: 2m 34s\tremaining: 8m 12s\n",
      "957:\ttest: 0.7107891\tbest: 0.7107891 (957)\ttotal: 2m 35s\tremaining: 8m 12s\n",
      "958:\ttest: 0.7107907\tbest: 0.7107907 (958)\ttotal: 2m 35s\tremaining: 8m 12s\n",
      "959:\ttest: 0.7107960\tbest: 0.7107960 (959)\ttotal: 2m 35s\tremaining: 8m 12s\n",
      "960:\ttest: 0.7107996\tbest: 0.7107996 (960)\ttotal: 2m 35s\tremaining: 8m 12s\n",
      "961:\ttest: 0.7108021\tbest: 0.7108021 (961)\ttotal: 2m 35s\tremaining: 8m 11s\n",
      "962:\ttest: 0.7108045\tbest: 0.7108045 (962)\ttotal: 2m 35s\tremaining: 8m 11s\n",
      "963:\ttest: 0.7108092\tbest: 0.7108092 (963)\ttotal: 2m 36s\tremaining: 8m 11s\n",
      "964:\ttest: 0.7108091\tbest: 0.7108092 (963)\ttotal: 2m 36s\tremaining: 8m 11s\n",
      "965:\ttest: 0.7108122\tbest: 0.7108122 (965)\ttotal: 2m 36s\tremaining: 8m 11s\n",
      "966:\ttest: 0.7108173\tbest: 0.7108173 (966)\ttotal: 2m 36s\tremaining: 8m 11s\n",
      "967:\ttest: 0.7108201\tbest: 0.7108201 (967)\ttotal: 2m 36s\tremaining: 8m 10s\n",
      "968:\ttest: 0.7108236\tbest: 0.7108236 (968)\ttotal: 2m 36s\tremaining: 8m 10s\n",
      "969:\ttest: 0.7108196\tbest: 0.7108236 (968)\ttotal: 2m 37s\tremaining: 8m 10s\n",
      "970:\ttest: 0.7108212\tbest: 0.7108236 (968)\ttotal: 2m 37s\tremaining: 8m 10s\n",
      "971:\ttest: 0.7108227\tbest: 0.7108236 (968)\ttotal: 2m 37s\tremaining: 8m 9s\n",
      "972:\ttest: 0.7108251\tbest: 0.7108251 (972)\ttotal: 2m 37s\tremaining: 8m 9s\n",
      "973:\ttest: 0.7108288\tbest: 0.7108288 (973)\ttotal: 2m 37s\tremaining: 8m 9s\n",
      "974:\ttest: 0.7108293\tbest: 0.7108293 (974)\ttotal: 2m 37s\tremaining: 8m 9s\n",
      "975:\ttest: 0.7108305\tbest: 0.7108305 (975)\ttotal: 2m 37s\tremaining: 8m 9s\n",
      "976:\ttest: 0.7108336\tbest: 0.7108336 (976)\ttotal: 2m 38s\tremaining: 8m 9s\n",
      "977:\ttest: 0.7108334\tbest: 0.7108336 (976)\ttotal: 2m 38s\tremaining: 8m 8s\n",
      "978:\ttest: 0.7108335\tbest: 0.7108336 (976)\ttotal: 2m 38s\tremaining: 8m 8s\n",
      "979:\ttest: 0.7108339\tbest: 0.7108339 (979)\ttotal: 2m 38s\tremaining: 8m 8s\n",
      "980:\ttest: 0.7108415\tbest: 0.7108415 (980)\ttotal: 2m 38s\tremaining: 8m 8s\n",
      "981:\ttest: 0.7108447\tbest: 0.7108447 (981)\ttotal: 2m 38s\tremaining: 8m 7s\n",
      "982:\ttest: 0.7108464\tbest: 0.7108464 (982)\ttotal: 2m 38s\tremaining: 8m 7s\n",
      "983:\ttest: 0.7108473\tbest: 0.7108473 (983)\ttotal: 2m 39s\tremaining: 8m 7s\n",
      "984:\ttest: 0.7108501\tbest: 0.7108501 (984)\ttotal: 2m 39s\tremaining: 8m 7s\n",
      "985:\ttest: 0.7108486\tbest: 0.7108501 (984)\ttotal: 2m 39s\tremaining: 8m 7s\n",
      "986:\ttest: 0.7108482\tbest: 0.7108501 (984)\ttotal: 2m 39s\tremaining: 8m 7s\n",
      "987:\ttest: 0.7108482\tbest: 0.7108501 (984)\ttotal: 2m 39s\tremaining: 8m 6s\n",
      "988:\ttest: 0.7108438\tbest: 0.7108501 (984)\ttotal: 2m 39s\tremaining: 8m 6s\n",
      "989:\ttest: 0.7108458\tbest: 0.7108501 (984)\ttotal: 2m 39s\tremaining: 8m 6s\n",
      "990:\ttest: 0.7108470\tbest: 0.7108501 (984)\ttotal: 2m 40s\tremaining: 8m 6s\n",
      "991:\ttest: 0.7108505\tbest: 0.7108505 (991)\ttotal: 2m 40s\tremaining: 8m 5s\n",
      "992:\ttest: 0.7108508\tbest: 0.7108508 (992)\ttotal: 2m 40s\tremaining: 8m 5s\n",
      "993:\ttest: 0.7108577\tbest: 0.7108577 (993)\ttotal: 2m 40s\tremaining: 8m 5s\n",
      "994:\ttest: 0.7108602\tbest: 0.7108602 (994)\ttotal: 2m 40s\tremaining: 8m 5s\n"
     ]
    },
    {
     "name": "stdout",
     "output_type": "stream",
     "text": [
      "995:\ttest: 0.7108597\tbest: 0.7108602 (994)\ttotal: 2m 40s\tremaining: 8m 5s\n",
      "996:\ttest: 0.7108611\tbest: 0.7108611 (996)\ttotal: 2m 40s\tremaining: 8m 4s\n",
      "997:\ttest: 0.7108661\tbest: 0.7108661 (997)\ttotal: 2m 41s\tremaining: 8m 4s\n",
      "998:\ttest: 0.7108683\tbest: 0.7108683 (998)\ttotal: 2m 41s\tremaining: 8m 4s\n",
      "999:\ttest: 0.7108768\tbest: 0.7108768 (999)\ttotal: 2m 41s\tremaining: 8m 4s\n",
      "1000:\ttest: 0.7108776\tbest: 0.7108776 (1000)\ttotal: 2m 41s\tremaining: 8m 4s\n",
      "1001:\ttest: 0.7108818\tbest: 0.7108818 (1001)\ttotal: 2m 41s\tremaining: 8m 4s\n",
      "1002:\ttest: 0.7108835\tbest: 0.7108835 (1002)\ttotal: 2m 41s\tremaining: 8m 3s\n",
      "1003:\ttest: 0.7108894\tbest: 0.7108894 (1003)\ttotal: 2m 42s\tremaining: 8m 3s\n",
      "1004:\ttest: 0.7108906\tbest: 0.7108906 (1004)\ttotal: 2m 42s\tremaining: 8m 3s\n",
      "1005:\ttest: 0.7108911\tbest: 0.7108911 (1005)\ttotal: 2m 42s\tremaining: 8m 3s\n",
      "1006:\ttest: 0.7108948\tbest: 0.7108948 (1006)\ttotal: 2m 42s\tremaining: 8m 3s\n",
      "1007:\ttest: 0.7108953\tbest: 0.7108953 (1007)\ttotal: 2m 42s\tremaining: 8m 3s\n",
      "1008:\ttest: 0.7108998\tbest: 0.7108998 (1008)\ttotal: 2m 42s\tremaining: 8m 2s\n",
      "1009:\ttest: 0.7108998\tbest: 0.7108998 (1008)\ttotal: 2m 42s\tremaining: 8m 2s\n",
      "1010:\ttest: 0.7109043\tbest: 0.7109043 (1010)\ttotal: 2m 43s\tremaining: 8m 2s\n",
      "1011:\ttest: 0.7109069\tbest: 0.7109069 (1011)\ttotal: 2m 43s\tremaining: 8m 2s\n",
      "1012:\ttest: 0.7109088\tbest: 0.7109088 (1012)\ttotal: 2m 43s\tremaining: 8m 1s\n",
      "1013:\ttest: 0.7109094\tbest: 0.7109094 (1013)\ttotal: 2m 43s\tremaining: 8m 1s\n",
      "1014:\ttest: 0.7109133\tbest: 0.7109133 (1014)\ttotal: 2m 43s\tremaining: 8m 1s\n",
      "1015:\ttest: 0.7109258\tbest: 0.7109258 (1015)\ttotal: 2m 43s\tremaining: 8m 1s\n",
      "1016:\ttest: 0.7109262\tbest: 0.7109262 (1016)\ttotal: 2m 44s\tremaining: 8m 1s\n",
      "1017:\ttest: 0.7109304\tbest: 0.7109304 (1017)\ttotal: 2m 44s\tremaining: 8m\n",
      "1018:\ttest: 0.7109291\tbest: 0.7109304 (1017)\ttotal: 2m 44s\tremaining: 8m\n",
      "1019:\ttest: 0.7109291\tbest: 0.7109304 (1017)\ttotal: 2m 44s\tremaining: 8m\n",
      "1020:\ttest: 0.7109322\tbest: 0.7109322 (1020)\ttotal: 2m 44s\tremaining: 8m\n",
      "1021:\ttest: 0.7109370\tbest: 0.7109370 (1021)\ttotal: 2m 44s\tremaining: 8m\n",
      "1022:\ttest: 0.7109342\tbest: 0.7109370 (1021)\ttotal: 2m 45s\tremaining: 8m\n",
      "1023:\ttest: 0.7109383\tbest: 0.7109383 (1023)\ttotal: 2m 45s\tremaining: 8m\n",
      "1024:\ttest: 0.7109399\tbest: 0.7109399 (1024)\ttotal: 2m 45s\tremaining: 7m 59s\n",
      "1025:\ttest: 0.7109434\tbest: 0.7109434 (1025)\ttotal: 2m 45s\tremaining: 7m 59s\n",
      "1026:\ttest: 0.7109457\tbest: 0.7109457 (1026)\ttotal: 2m 45s\tremaining: 7m 59s\n",
      "1027:\ttest: 0.7109513\tbest: 0.7109513 (1027)\ttotal: 2m 45s\tremaining: 7m 59s\n",
      "1028:\ttest: 0.7109542\tbest: 0.7109542 (1028)\ttotal: 2m 45s\tremaining: 7m 59s\n",
      "1029:\ttest: 0.7109578\tbest: 0.7109578 (1029)\ttotal: 2m 46s\tremaining: 7m 58s\n",
      "1030:\ttest: 0.7109588\tbest: 0.7109588 (1030)\ttotal: 2m 46s\tremaining: 7m 58s\n",
      "1031:\ttest: 0.7109604\tbest: 0.7109604 (1031)\ttotal: 2m 46s\tremaining: 7m 58s\n",
      "1032:\ttest: 0.7109605\tbest: 0.7109605 (1032)\ttotal: 2m 46s\tremaining: 7m 58s\n",
      "1033:\ttest: 0.7109592\tbest: 0.7109605 (1032)\ttotal: 2m 46s\tremaining: 7m 58s\n",
      "1034:\ttest: 0.7109624\tbest: 0.7109624 (1034)\ttotal: 2m 46s\tremaining: 7m 58s\n",
      "1035:\ttest: 0.7109634\tbest: 0.7109634 (1035)\ttotal: 2m 47s\tremaining: 7m 57s\n",
      "1036:\ttest: 0.7109691\tbest: 0.7109691 (1036)\ttotal: 2m 47s\tremaining: 7m 57s\n",
      "1037:\ttest: 0.7109712\tbest: 0.7109712 (1037)\ttotal: 2m 47s\tremaining: 7m 57s\n",
      "1038:\ttest: 0.7109733\tbest: 0.7109733 (1038)\ttotal: 2m 47s\tremaining: 7m 57s\n",
      "1039:\ttest: 0.7109762\tbest: 0.7109762 (1039)\ttotal: 2m 47s\tremaining: 7m 57s\n",
      "1040:\ttest: 0.7109803\tbest: 0.7109803 (1040)\ttotal: 2m 47s\tremaining: 7m 57s\n",
      "1041:\ttest: 0.7109855\tbest: 0.7109855 (1041)\ttotal: 2m 48s\tremaining: 7m 57s\n",
      "1042:\ttest: 0.7109887\tbest: 0.7109887 (1042)\ttotal: 2m 48s\tremaining: 7m 56s\n",
      "1043:\ttest: 0.7109932\tbest: 0.7109932 (1043)\ttotal: 2m 48s\tremaining: 7m 56s\n",
      "1044:\ttest: 0.7109956\tbest: 0.7109956 (1044)\ttotal: 2m 48s\tremaining: 7m 56s\n",
      "1045:\ttest: 0.7109962\tbest: 0.7109962 (1045)\ttotal: 2m 48s\tremaining: 7m 56s\n",
      "1046:\ttest: 0.7110028\tbest: 0.7110028 (1046)\ttotal: 2m 48s\tremaining: 7m 56s\n",
      "1047:\ttest: 0.7110100\tbest: 0.7110100 (1047)\ttotal: 2m 49s\tremaining: 7m 56s\n",
      "1048:\ttest: 0.7110127\tbest: 0.7110127 (1048)\ttotal: 2m 49s\tremaining: 7m 55s\n",
      "1049:\ttest: 0.7110185\tbest: 0.7110185 (1049)\ttotal: 2m 49s\tremaining: 7m 55s\n",
      "1050:\ttest: 0.7110191\tbest: 0.7110191 (1050)\ttotal: 2m 49s\tremaining: 7m 55s\n",
      "1051:\ttest: 0.7110231\tbest: 0.7110231 (1051)\ttotal: 2m 49s\tremaining: 7m 55s\n",
      "1052:\ttest: 0.7110234\tbest: 0.7110234 (1052)\ttotal: 2m 49s\tremaining: 7m 55s\n",
      "1053:\ttest: 0.7110244\tbest: 0.7110244 (1053)\ttotal: 2m 49s\tremaining: 7m 54s\n",
      "1054:\ttest: 0.7110238\tbest: 0.7110244 (1053)\ttotal: 2m 50s\tremaining: 7m 54s\n",
      "1055:\ttest: 0.7110259\tbest: 0.7110259 (1055)\ttotal: 2m 50s\tremaining: 7m 54s\n",
      "1056:\ttest: 0.7110266\tbest: 0.7110266 (1056)\ttotal: 2m 50s\tremaining: 7m 54s\n",
      "1057:\ttest: 0.7110276\tbest: 0.7110276 (1057)\ttotal: 2m 50s\tremaining: 7m 54s\n",
      "1058:\ttest: 0.7110267\tbest: 0.7110276 (1057)\ttotal: 2m 50s\tremaining: 7m 54s\n",
      "1059:\ttest: 0.7110402\tbest: 0.7110402 (1059)\ttotal: 2m 50s\tremaining: 7m 53s\n",
      "1060:\ttest: 0.7110452\tbest: 0.7110452 (1060)\ttotal: 2m 51s\tremaining: 7m 53s\n",
      "1061:\ttest: 0.7110433\tbest: 0.7110452 (1060)\ttotal: 2m 51s\tremaining: 7m 53s\n",
      "1062:\ttest: 0.7110446\tbest: 0.7110452 (1060)\ttotal: 2m 51s\tremaining: 7m 53s\n",
      "1063:\ttest: 0.7110529\tbest: 0.7110529 (1063)\ttotal: 2m 51s\tremaining: 7m 53s\n",
      "1064:\ttest: 0.7110576\tbest: 0.7110576 (1064)\ttotal: 2m 51s\tremaining: 7m 53s\n",
      "1065:\ttest: 0.7110589\tbest: 0.7110589 (1065)\ttotal: 2m 51s\tremaining: 7m 53s\n",
      "1066:\ttest: 0.7110557\tbest: 0.7110589 (1065)\ttotal: 2m 52s\tremaining: 7m 52s\n",
      "1067:\ttest: 0.7110581\tbest: 0.7110589 (1065)\ttotal: 2m 52s\tremaining: 7m 52s\n",
      "1068:\ttest: 0.7110598\tbest: 0.7110598 (1068)\ttotal: 2m 52s\tremaining: 7m 52s\n",
      "1069:\ttest: 0.7110631\tbest: 0.7110631 (1069)\ttotal: 2m 52s\tremaining: 7m 52s\n",
      "1070:\ttest: 0.7110671\tbest: 0.7110671 (1070)\ttotal: 2m 52s\tremaining: 7m 52s\n",
      "1071:\ttest: 0.7110712\tbest: 0.7110712 (1071)\ttotal: 2m 52s\tremaining: 7m 52s\n",
      "1072:\ttest: 0.7110735\tbest: 0.7110735 (1072)\ttotal: 2m 52s\tremaining: 7m 51s\n",
      "1073:\ttest: 0.7110744\tbest: 0.7110744 (1073)\ttotal: 2m 53s\tremaining: 7m 51s\n",
      "1074:\ttest: 0.7110770\tbest: 0.7110770 (1074)\ttotal: 2m 53s\tremaining: 7m 51s\n",
      "1075:\ttest: 0.7110794\tbest: 0.7110794 (1075)\ttotal: 2m 53s\tremaining: 7m 51s\n",
      "1076:\ttest: 0.7110822\tbest: 0.7110822 (1076)\ttotal: 2m 53s\tremaining: 7m 51s\n",
      "1077:\ttest: 0.7110839\tbest: 0.7110839 (1077)\ttotal: 2m 53s\tremaining: 7m 51s\n",
      "1078:\ttest: 0.7110835\tbest: 0.7110839 (1077)\ttotal: 2m 53s\tremaining: 7m 51s\n",
      "1079:\ttest: 0.7110852\tbest: 0.7110852 (1079)\ttotal: 2m 54s\tremaining: 7m 50s\n",
      "1080:\ttest: 0.7110895\tbest: 0.7110895 (1080)\ttotal: 2m 54s\tremaining: 7m 50s\n",
      "1081:\ttest: 0.7110940\tbest: 0.7110940 (1081)\ttotal: 2m 54s\tremaining: 7m 50s\n",
      "1082:\ttest: 0.7110958\tbest: 0.7110958 (1082)\ttotal: 2m 54s\tremaining: 7m 50s\n",
      "1083:\ttest: 0.7110968\tbest: 0.7110968 (1083)\ttotal: 2m 54s\tremaining: 7m 50s\n",
      "1084:\ttest: 0.7111013\tbest: 0.7111013 (1084)\ttotal: 2m 54s\tremaining: 7m 50s\n",
      "1085:\ttest: 0.7111038\tbest: 0.7111038 (1085)\ttotal: 2m 55s\tremaining: 7m 49s\n",
      "1086:\ttest: 0.7111062\tbest: 0.7111062 (1086)\ttotal: 2m 55s\tremaining: 7m 49s\n",
      "1087:\ttest: 0.7111062\tbest: 0.7111062 (1086)\ttotal: 2m 55s\tremaining: 7m 49s\n",
      "1088:\ttest: 0.7111163\tbest: 0.7111163 (1088)\ttotal: 2m 55s\tremaining: 7m 49s\n",
      "1089:\ttest: 0.7111174\tbest: 0.7111174 (1089)\ttotal: 2m 55s\tremaining: 7m 49s\n",
      "1090:\ttest: 0.7111155\tbest: 0.7111174 (1089)\ttotal: 2m 55s\tremaining: 7m 49s\n",
      "1091:\ttest: 0.7111161\tbest: 0.7111174 (1089)\ttotal: 2m 56s\tremaining: 7m 48s\n",
      "1092:\ttest: 0.7111206\tbest: 0.7111206 (1092)\ttotal: 2m 56s\tremaining: 7m 48s\n",
      "1093:\ttest: 0.7111211\tbest: 0.7111211 (1093)\ttotal: 2m 56s\tremaining: 7m 48s\n",
      "1094:\ttest: 0.7111273\tbest: 0.7111273 (1094)\ttotal: 2m 56s\tremaining: 7m 48s\n",
      "1095:\ttest: 0.7111343\tbest: 0.7111343 (1095)\ttotal: 2m 56s\tremaining: 7m 48s\n",
      "1096:\ttest: 0.7111342\tbest: 0.7111343 (1095)\ttotal: 2m 56s\tremaining: 7m 48s\n",
      "1097:\ttest: 0.7111351\tbest: 0.7111351 (1097)\ttotal: 2m 57s\tremaining: 7m 48s\n",
      "1098:\ttest: 0.7111372\tbest: 0.7111372 (1098)\ttotal: 2m 57s\tremaining: 7m 47s\n",
      "1099:\ttest: 0.7111378\tbest: 0.7111378 (1099)\ttotal: 2m 57s\tremaining: 7m 47s\n",
      "1100:\ttest: 0.7111342\tbest: 0.7111378 (1099)\ttotal: 2m 57s\tremaining: 7m 47s\n",
      "1101:\ttest: 0.7111330\tbest: 0.7111378 (1099)\ttotal: 2m 57s\tremaining: 7m 47s\n",
      "1102:\ttest: 0.7111332\tbest: 0.7111378 (1099)\ttotal: 2m 57s\tremaining: 7m 47s\n"
     ]
    },
    {
     "name": "stdout",
     "output_type": "stream",
     "text": [
      "1103:\ttest: 0.7111351\tbest: 0.7111378 (1099)\ttotal: 2m 58s\tremaining: 7m 47s\n",
      "1104:\ttest: 0.7111344\tbest: 0.7111378 (1099)\ttotal: 2m 58s\tremaining: 7m 46s\n",
      "1105:\ttest: 0.7111342\tbest: 0.7111378 (1099)\ttotal: 2m 58s\tremaining: 7m 46s\n",
      "1106:\ttest: 0.7111434\tbest: 0.7111434 (1106)\ttotal: 2m 58s\tremaining: 7m 46s\n",
      "1107:\ttest: 0.7111440\tbest: 0.7111440 (1107)\ttotal: 2m 58s\tremaining: 7m 46s\n",
      "1108:\ttest: 0.7111455\tbest: 0.7111455 (1108)\ttotal: 2m 58s\tremaining: 7m 46s\n",
      "1109:\ttest: 0.7111482\tbest: 0.7111482 (1109)\ttotal: 2m 58s\tremaining: 7m 45s\n",
      "1110:\ttest: 0.7111516\tbest: 0.7111516 (1110)\ttotal: 2m 59s\tremaining: 7m 45s\n",
      "1111:\ttest: 0.7111629\tbest: 0.7111629 (1111)\ttotal: 2m 59s\tremaining: 7m 45s\n",
      "1112:\ttest: 0.7111666\tbest: 0.7111666 (1112)\ttotal: 2m 59s\tremaining: 7m 45s\n",
      "1113:\ttest: 0.7111743\tbest: 0.7111743 (1113)\ttotal: 2m 59s\tremaining: 7m 45s\n",
      "1114:\ttest: 0.7111747\tbest: 0.7111747 (1114)\ttotal: 2m 59s\tremaining: 7m 45s\n",
      "1115:\ttest: 0.7111781\tbest: 0.7111781 (1115)\ttotal: 3m\tremaining: 7m 45s\n",
      "1116:\ttest: 0.7111836\tbest: 0.7111836 (1116)\ttotal: 3m\tremaining: 7m 45s\n",
      "1117:\ttest: 0.7111891\tbest: 0.7111891 (1117)\ttotal: 3m\tremaining: 7m 44s\n",
      "1118:\ttest: 0.7111973\tbest: 0.7111973 (1118)\ttotal: 3m\tremaining: 7m 44s\n",
      "1119:\ttest: 0.7112017\tbest: 0.7112017 (1119)\ttotal: 3m\tremaining: 7m 44s\n",
      "1120:\ttest: 0.7112045\tbest: 0.7112045 (1120)\ttotal: 3m\tremaining: 7m 44s\n",
      "1121:\ttest: 0.7112011\tbest: 0.7112045 (1120)\ttotal: 3m\tremaining: 7m 44s\n",
      "1122:\ttest: 0.7112030\tbest: 0.7112045 (1120)\ttotal: 3m 1s\tremaining: 7m 44s\n",
      "1123:\ttest: 0.7112097\tbest: 0.7112097 (1123)\ttotal: 3m 1s\tremaining: 7m 43s\n",
      "1124:\ttest: 0.7112172\tbest: 0.7112172 (1124)\ttotal: 3m 1s\tremaining: 7m 43s\n",
      "1125:\ttest: 0.7112178\tbest: 0.7112178 (1125)\ttotal: 3m 1s\tremaining: 7m 43s\n",
      "1126:\ttest: 0.7112216\tbest: 0.7112216 (1126)\ttotal: 3m 1s\tremaining: 7m 43s\n",
      "1127:\ttest: 0.7112264\tbest: 0.7112264 (1127)\ttotal: 3m 1s\tremaining: 7m 43s\n",
      "1128:\ttest: 0.7112303\tbest: 0.7112303 (1128)\ttotal: 3m 2s\tremaining: 7m 43s\n",
      "1129:\ttest: 0.7112342\tbest: 0.7112342 (1129)\ttotal: 3m 2s\tremaining: 7m 42s\n",
      "1130:\ttest: 0.7112375\tbest: 0.7112375 (1130)\ttotal: 3m 2s\tremaining: 7m 42s\n",
      "1131:\ttest: 0.7112390\tbest: 0.7112390 (1131)\ttotal: 3m 2s\tremaining: 7m 42s\n",
      "1132:\ttest: 0.7112430\tbest: 0.7112430 (1132)\ttotal: 3m 2s\tremaining: 7m 42s\n",
      "1133:\ttest: 0.7112443\tbest: 0.7112443 (1133)\ttotal: 3m 2s\tremaining: 7m 42s\n",
      "1134:\ttest: 0.7112473\tbest: 0.7112473 (1134)\ttotal: 3m 3s\tremaining: 7m 42s\n",
      "1135:\ttest: 0.7112524\tbest: 0.7112524 (1135)\ttotal: 3m 3s\tremaining: 7m 42s\n",
      "1136:\ttest: 0.7112535\tbest: 0.7112535 (1136)\ttotal: 3m 3s\tremaining: 7m 41s\n",
      "1137:\ttest: 0.7112524\tbest: 0.7112535 (1136)\ttotal: 3m 3s\tremaining: 7m 41s\n",
      "1138:\ttest: 0.7112557\tbest: 0.7112557 (1138)\ttotal: 3m 3s\tremaining: 7m 41s\n",
      "1139:\ttest: 0.7112565\tbest: 0.7112565 (1139)\ttotal: 3m 4s\tremaining: 7m 41s\n",
      "1140:\ttest: 0.7112579\tbest: 0.7112579 (1140)\ttotal: 3m 4s\tremaining: 7m 41s\n",
      "1141:\ttest: 0.7112616\tbest: 0.7112616 (1141)\ttotal: 3m 4s\tremaining: 7m 41s\n",
      "1142:\ttest: 0.7112627\tbest: 0.7112627 (1142)\ttotal: 3m 4s\tremaining: 7m 41s\n",
      "1143:\ttest: 0.7112654\tbest: 0.7112654 (1143)\ttotal: 3m 4s\tremaining: 7m 40s\n",
      "1144:\ttest: 0.7112664\tbest: 0.7112664 (1144)\ttotal: 3m 4s\tremaining: 7m 40s\n",
      "1145:\ttest: 0.7112691\tbest: 0.7112691 (1145)\ttotal: 3m 4s\tremaining: 7m 40s\n",
      "1146:\ttest: 0.7112698\tbest: 0.7112698 (1146)\ttotal: 3m 5s\tremaining: 7m 40s\n",
      "1147:\ttest: 0.7112752\tbest: 0.7112752 (1147)\ttotal: 3m 5s\tremaining: 7m 40s\n",
      "1148:\ttest: 0.7112764\tbest: 0.7112764 (1148)\ttotal: 3m 5s\tremaining: 7m 39s\n",
      "1149:\ttest: 0.7112790\tbest: 0.7112790 (1149)\ttotal: 3m 5s\tremaining: 7m 39s\n",
      "1150:\ttest: 0.7112741\tbest: 0.7112790 (1149)\ttotal: 3m 5s\tremaining: 7m 39s\n",
      "1151:\ttest: 0.7112764\tbest: 0.7112790 (1149)\ttotal: 3m 5s\tremaining: 7m 39s\n",
      "1152:\ttest: 0.7112773\tbest: 0.7112790 (1149)\ttotal: 3m 6s\tremaining: 7m 39s\n",
      "1153:\ttest: 0.7112802\tbest: 0.7112802 (1153)\ttotal: 3m 6s\tremaining: 7m 39s\n",
      "1154:\ttest: 0.7112848\tbest: 0.7112848 (1154)\ttotal: 3m 6s\tremaining: 7m 39s\n",
      "1155:\ttest: 0.7112858\tbest: 0.7112858 (1155)\ttotal: 3m 6s\tremaining: 7m 38s\n",
      "1156:\ttest: 0.7112895\tbest: 0.7112895 (1156)\ttotal: 3m 6s\tremaining: 7m 38s\n",
      "1157:\ttest: 0.7112907\tbest: 0.7112907 (1157)\ttotal: 3m 6s\tremaining: 7m 38s\n",
      "1158:\ttest: 0.7112926\tbest: 0.7112926 (1158)\ttotal: 3m 7s\tremaining: 7m 38s\n",
      "1159:\ttest: 0.7112940\tbest: 0.7112940 (1159)\ttotal: 3m 7s\tremaining: 7m 38s\n",
      "1160:\ttest: 0.7112960\tbest: 0.7112960 (1160)\ttotal: 3m 7s\tremaining: 7m 38s\n",
      "1161:\ttest: 0.7112989\tbest: 0.7112989 (1161)\ttotal: 3m 7s\tremaining: 7m 37s\n",
      "1162:\ttest: 0.7113022\tbest: 0.7113022 (1162)\ttotal: 3m 7s\tremaining: 7m 37s\n",
      "1163:\ttest: 0.7113001\tbest: 0.7113022 (1162)\ttotal: 3m 7s\tremaining: 7m 37s\n",
      "1164:\ttest: 0.7113017\tbest: 0.7113022 (1162)\ttotal: 3m 7s\tremaining: 7m 37s\n",
      "1165:\ttest: 0.7113054\tbest: 0.7113054 (1165)\ttotal: 3m 8s\tremaining: 7m 37s\n",
      "1166:\ttest: 0.7113075\tbest: 0.7113075 (1166)\ttotal: 3m 8s\tremaining: 7m 37s\n",
      "1167:\ttest: 0.7113089\tbest: 0.7113089 (1167)\ttotal: 3m 8s\tremaining: 7m 36s\n",
      "1168:\ttest: 0.7113101\tbest: 0.7113101 (1168)\ttotal: 3m 8s\tremaining: 7m 36s\n",
      "1169:\ttest: 0.7113110\tbest: 0.7113110 (1169)\ttotal: 3m 8s\tremaining: 7m 36s\n",
      "1170:\ttest: 0.7113107\tbest: 0.7113110 (1169)\ttotal: 3m 8s\tremaining: 7m 36s\n",
      "1171:\ttest: 0.7113110\tbest: 0.7113110 (1171)\ttotal: 3m 9s\tremaining: 7m 36s\n",
      "1172:\ttest: 0.7113200\tbest: 0.7113200 (1172)\ttotal: 3m 9s\tremaining: 7m 36s\n",
      "1173:\ttest: 0.7113232\tbest: 0.7113232 (1173)\ttotal: 3m 9s\tremaining: 7m 36s\n",
      "1174:\ttest: 0.7113273\tbest: 0.7113273 (1174)\ttotal: 3m 9s\tremaining: 7m 35s\n",
      "1175:\ttest: 0.7113279\tbest: 0.7113279 (1175)\ttotal: 3m 9s\tremaining: 7m 35s\n",
      "1176:\ttest: 0.7113351\tbest: 0.7113351 (1176)\ttotal: 3m 9s\tremaining: 7m 35s\n",
      "1177:\ttest: 0.7113372\tbest: 0.7113372 (1177)\ttotal: 3m 10s\tremaining: 7m 35s\n",
      "1178:\ttest: 0.7113363\tbest: 0.7113372 (1177)\ttotal: 3m 10s\tremaining: 7m 35s\n",
      "1179:\ttest: 0.7113347\tbest: 0.7113372 (1177)\ttotal: 3m 10s\tremaining: 7m 34s\n",
      "1180:\ttest: 0.7113432\tbest: 0.7113432 (1180)\ttotal: 3m 10s\tremaining: 7m 34s\n",
      "1181:\ttest: 0.7113431\tbest: 0.7113432 (1180)\ttotal: 3m 10s\tremaining: 7m 34s\n",
      "1182:\ttest: 0.7113439\tbest: 0.7113439 (1182)\ttotal: 3m 10s\tremaining: 7m 34s\n",
      "1183:\ttest: 0.7113373\tbest: 0.7113439 (1182)\ttotal: 3m 11s\tremaining: 7m 34s\n",
      "1184:\ttest: 0.7113407\tbest: 0.7113439 (1182)\ttotal: 3m 11s\tremaining: 7m 34s\n",
      "1185:\ttest: 0.7113454\tbest: 0.7113454 (1185)\ttotal: 3m 11s\tremaining: 7m 34s\n",
      "1186:\ttest: 0.7113461\tbest: 0.7113461 (1186)\ttotal: 3m 11s\tremaining: 7m 33s\n",
      "1187:\ttest: 0.7113486\tbest: 0.7113486 (1187)\ttotal: 3m 11s\tremaining: 7m 33s\n",
      "1188:\ttest: 0.7113468\tbest: 0.7113486 (1187)\ttotal: 3m 11s\tremaining: 7m 33s\n",
      "1189:\ttest: 0.7113477\tbest: 0.7113486 (1187)\ttotal: 3m 12s\tremaining: 7m 33s\n",
      "1190:\ttest: 0.7113452\tbest: 0.7113486 (1187)\ttotal: 3m 12s\tremaining: 7m 33s\n",
      "1191:\ttest: 0.7113463\tbest: 0.7113486 (1187)\ttotal: 3m 12s\tremaining: 7m 33s\n",
      "1192:\ttest: 0.7113462\tbest: 0.7113486 (1187)\ttotal: 3m 12s\tremaining: 7m 33s\n",
      "1193:\ttest: 0.7113466\tbest: 0.7113486 (1187)\ttotal: 3m 12s\tremaining: 7m 32s\n",
      "1194:\ttest: 0.7113507\tbest: 0.7113507 (1194)\ttotal: 3m 12s\tremaining: 7m 32s\n",
      "1195:\ttest: 0.7113611\tbest: 0.7113611 (1195)\ttotal: 3m 13s\tremaining: 7m 32s\n",
      "1196:\ttest: 0.7113625\tbest: 0.7113625 (1196)\ttotal: 3m 13s\tremaining: 7m 32s\n",
      "1197:\ttest: 0.7113611\tbest: 0.7113625 (1196)\ttotal: 3m 13s\tremaining: 7m 32s\n",
      "1198:\ttest: 0.7113552\tbest: 0.7113625 (1196)\ttotal: 3m 13s\tremaining: 7m 32s\n",
      "1199:\ttest: 0.7113575\tbest: 0.7113625 (1196)\ttotal: 3m 13s\tremaining: 7m 31s\n",
      "1200:\ttest: 0.7113606\tbest: 0.7113625 (1196)\ttotal: 3m 13s\tremaining: 7m 31s\n",
      "1201:\ttest: 0.7113652\tbest: 0.7113652 (1201)\ttotal: 3m 14s\tremaining: 7m 31s\n",
      "1202:\ttest: 0.7113689\tbest: 0.7113689 (1202)\ttotal: 3m 14s\tremaining: 7m 31s\n",
      "1203:\ttest: 0.7113718\tbest: 0.7113718 (1203)\ttotal: 3m 14s\tremaining: 7m 31s\n",
      "1204:\ttest: 0.7113723\tbest: 0.7113723 (1204)\ttotal: 3m 14s\tremaining: 7m 31s\n",
      "1205:\ttest: 0.7113724\tbest: 0.7113724 (1205)\ttotal: 3m 14s\tremaining: 7m 30s\n",
      "1206:\ttest: 0.7113732\tbest: 0.7113732 (1206)\ttotal: 3m 14s\tremaining: 7m 30s\n",
      "1207:\ttest: 0.7113749\tbest: 0.7113749 (1207)\ttotal: 3m 14s\tremaining: 7m 30s\n",
      "1208:\ttest: 0.7113802\tbest: 0.7113802 (1208)\ttotal: 3m 15s\tremaining: 7m 30s\n",
      "1209:\ttest: 0.7113809\tbest: 0.7113809 (1209)\ttotal: 3m 15s\tremaining: 7m 30s\n",
      "1210:\ttest: 0.7113833\tbest: 0.7113833 (1210)\ttotal: 3m 15s\tremaining: 7m 30s\n"
     ]
    },
    {
     "name": "stdout",
     "output_type": "stream",
     "text": [
      "1211:\ttest: 0.7113847\tbest: 0.7113847 (1211)\ttotal: 3m 15s\tremaining: 7m 29s\n",
      "1212:\ttest: 0.7113847\tbest: 0.7113847 (1211)\ttotal: 3m 15s\tremaining: 7m 29s\n",
      "1213:\ttest: 0.7113870\tbest: 0.7113870 (1213)\ttotal: 3m 15s\tremaining: 7m 29s\n",
      "1214:\ttest: 0.7113893\tbest: 0.7113893 (1214)\ttotal: 3m 16s\tremaining: 7m 29s\n",
      "1215:\ttest: 0.7113901\tbest: 0.7113901 (1215)\ttotal: 3m 16s\tremaining: 7m 29s\n",
      "1216:\ttest: 0.7113928\tbest: 0.7113928 (1216)\ttotal: 3m 16s\tremaining: 7m 29s\n",
      "1217:\ttest: 0.7113954\tbest: 0.7113954 (1217)\ttotal: 3m 16s\tremaining: 7m 28s\n",
      "1218:\ttest: 0.7113975\tbest: 0.7113975 (1218)\ttotal: 3m 16s\tremaining: 7m 28s\n",
      "1219:\ttest: 0.7113960\tbest: 0.7113975 (1218)\ttotal: 3m 16s\tremaining: 7m 28s\n",
      "1220:\ttest: 0.7113990\tbest: 0.7113990 (1220)\ttotal: 3m 17s\tremaining: 7m 28s\n",
      "1221:\ttest: 0.7114015\tbest: 0.7114015 (1221)\ttotal: 3m 17s\tremaining: 7m 28s\n",
      "1222:\ttest: 0.7114018\tbest: 0.7114018 (1222)\ttotal: 3m 17s\tremaining: 7m 28s\n",
      "1223:\ttest: 0.7114049\tbest: 0.7114049 (1223)\ttotal: 3m 17s\tremaining: 7m 27s\n",
      "1224:\ttest: 0.7114073\tbest: 0.7114073 (1224)\ttotal: 3m 17s\tremaining: 7m 27s\n",
      "1225:\ttest: 0.7114095\tbest: 0.7114095 (1225)\ttotal: 3m 17s\tremaining: 7m 27s\n",
      "1226:\ttest: 0.7114090\tbest: 0.7114095 (1225)\ttotal: 3m 17s\tremaining: 7m 27s\n",
      "1227:\ttest: 0.7114100\tbest: 0.7114100 (1227)\ttotal: 3m 18s\tremaining: 7m 27s\n",
      "1228:\ttest: 0.7114163\tbest: 0.7114163 (1228)\ttotal: 3m 18s\tremaining: 7m 27s\n",
      "1229:\ttest: 0.7114148\tbest: 0.7114163 (1228)\ttotal: 3m 18s\tremaining: 7m 26s\n",
      "1230:\ttest: 0.7114159\tbest: 0.7114163 (1228)\ttotal: 3m 18s\tremaining: 7m 26s\n",
      "1231:\ttest: 0.7114157\tbest: 0.7114163 (1228)\ttotal: 3m 18s\tremaining: 7m 26s\n",
      "1232:\ttest: 0.7114181\tbest: 0.7114181 (1232)\ttotal: 3m 18s\tremaining: 7m 26s\n",
      "1233:\ttest: 0.7114174\tbest: 0.7114181 (1232)\ttotal: 3m 19s\tremaining: 7m 26s\n",
      "1234:\ttest: 0.7114170\tbest: 0.7114181 (1232)\ttotal: 3m 19s\tremaining: 7m 26s\n",
      "1235:\ttest: 0.7114132\tbest: 0.7114181 (1232)\ttotal: 3m 19s\tremaining: 7m 26s\n",
      "1236:\ttest: 0.7114153\tbest: 0.7114181 (1232)\ttotal: 3m 19s\tremaining: 7m 25s\n",
      "1237:\ttest: 0.7114165\tbest: 0.7114181 (1232)\ttotal: 3m 19s\tremaining: 7m 25s\n",
      "1238:\ttest: 0.7114170\tbest: 0.7114181 (1232)\ttotal: 3m 19s\tremaining: 7m 25s\n",
      "1239:\ttest: 0.7114158\tbest: 0.7114181 (1232)\ttotal: 3m 20s\tremaining: 7m 25s\n",
      "1240:\ttest: 0.7114171\tbest: 0.7114181 (1232)\ttotal: 3m 20s\tremaining: 7m 25s\n",
      "1241:\ttest: 0.7114180\tbest: 0.7114181 (1232)\ttotal: 3m 20s\tremaining: 7m 25s\n",
      "1242:\ttest: 0.7114219\tbest: 0.7114219 (1242)\ttotal: 3m 20s\tremaining: 7m 25s\n",
      "1243:\ttest: 0.7114182\tbest: 0.7114219 (1242)\ttotal: 3m 20s\tremaining: 7m 24s\n",
      "1244:\ttest: 0.7114181\tbest: 0.7114219 (1242)\ttotal: 3m 20s\tremaining: 7m 24s\n",
      "1245:\ttest: 0.7114182\tbest: 0.7114219 (1242)\ttotal: 3m 21s\tremaining: 7m 24s\n",
      "1246:\ttest: 0.7114189\tbest: 0.7114219 (1242)\ttotal: 3m 21s\tremaining: 7m 24s\n",
      "1247:\ttest: 0.7114206\tbest: 0.7114219 (1242)\ttotal: 3m 21s\tremaining: 7m 24s\n",
      "1248:\ttest: 0.7114231\tbest: 0.7114231 (1248)\ttotal: 3m 21s\tremaining: 7m 24s\n",
      "1249:\ttest: 0.7114216\tbest: 0.7114231 (1248)\ttotal: 3m 21s\tremaining: 7m 24s\n",
      "1250:\ttest: 0.7114235\tbest: 0.7114235 (1250)\ttotal: 3m 21s\tremaining: 7m 23s\n",
      "1251:\ttest: 0.7114251\tbest: 0.7114251 (1251)\ttotal: 3m 22s\tremaining: 7m 23s\n",
      "1252:\ttest: 0.7114294\tbest: 0.7114294 (1252)\ttotal: 3m 22s\tremaining: 7m 23s\n",
      "1253:\ttest: 0.7114307\tbest: 0.7114307 (1253)\ttotal: 3m 22s\tremaining: 7m 23s\n",
      "1254:\ttest: 0.7114338\tbest: 0.7114338 (1254)\ttotal: 3m 22s\tremaining: 7m 23s\n",
      "1255:\ttest: 0.7114312\tbest: 0.7114338 (1254)\ttotal: 3m 22s\tremaining: 7m 23s\n",
      "1256:\ttest: 0.7114307\tbest: 0.7114338 (1254)\ttotal: 3m 22s\tremaining: 7m 22s\n",
      "1257:\ttest: 0.7114334\tbest: 0.7114338 (1254)\ttotal: 3m 23s\tremaining: 7m 22s\n",
      "1258:\ttest: 0.7114334\tbest: 0.7114338 (1254)\ttotal: 3m 23s\tremaining: 7m 22s\n",
      "1259:\ttest: 0.7114333\tbest: 0.7114338 (1254)\ttotal: 3m 23s\tremaining: 7m 22s\n",
      "1260:\ttest: 0.7114349\tbest: 0.7114349 (1260)\ttotal: 3m 23s\tremaining: 7m 22s\n",
      "1261:\ttest: 0.7114398\tbest: 0.7114398 (1261)\ttotal: 3m 23s\tremaining: 7m 22s\n",
      "1262:\ttest: 0.7114373\tbest: 0.7114398 (1261)\ttotal: 3m 23s\tremaining: 7m 21s\n",
      "1263:\ttest: 0.7114371\tbest: 0.7114398 (1261)\ttotal: 3m 24s\tremaining: 7m 21s\n",
      "1264:\ttest: 0.7114406\tbest: 0.7114406 (1264)\ttotal: 3m 24s\tremaining: 7m 21s\n",
      "1265:\ttest: 0.7114401\tbest: 0.7114406 (1264)\ttotal: 3m 24s\tremaining: 7m 21s\n",
      "1266:\ttest: 0.7114410\tbest: 0.7114410 (1266)\ttotal: 3m 24s\tremaining: 7m 21s\n",
      "1267:\ttest: 0.7114457\tbest: 0.7114457 (1267)\ttotal: 3m 24s\tremaining: 7m 21s\n",
      "1268:\ttest: 0.7114415\tbest: 0.7114457 (1267)\ttotal: 3m 24s\tremaining: 7m 21s\n",
      "1269:\ttest: 0.7114398\tbest: 0.7114457 (1267)\ttotal: 3m 25s\tremaining: 7m 20s\n",
      "1270:\ttest: 0.7114432\tbest: 0.7114457 (1267)\ttotal: 3m 25s\tremaining: 7m 20s\n",
      "1271:\ttest: 0.7114443\tbest: 0.7114457 (1267)\ttotal: 3m 25s\tremaining: 7m 20s\n",
      "1272:\ttest: 0.7114464\tbest: 0.7114464 (1272)\ttotal: 3m 25s\tremaining: 7m 20s\n",
      "1273:\ttest: 0.7114484\tbest: 0.7114484 (1273)\ttotal: 3m 25s\tremaining: 7m 20s\n",
      "1274:\ttest: 0.7114515\tbest: 0.7114515 (1274)\ttotal: 3m 25s\tremaining: 7m 20s\n",
      "1275:\ttest: 0.7114572\tbest: 0.7114572 (1275)\ttotal: 3m 26s\tremaining: 7m 19s\n",
      "1276:\ttest: 0.7114556\tbest: 0.7114572 (1275)\ttotal: 3m 26s\tremaining: 7m 19s\n",
      "1277:\ttest: 0.7114567\tbest: 0.7114572 (1275)\ttotal: 3m 26s\tremaining: 7m 19s\n",
      "1278:\ttest: 0.7114594\tbest: 0.7114594 (1278)\ttotal: 3m 26s\tremaining: 7m 19s\n",
      "1279:\ttest: 0.7114576\tbest: 0.7114594 (1278)\ttotal: 3m 26s\tremaining: 7m 19s\n",
      "1280:\ttest: 0.7114605\tbest: 0.7114605 (1280)\ttotal: 3m 26s\tremaining: 7m 19s\n",
      "1281:\ttest: 0.7114621\tbest: 0.7114621 (1281)\ttotal: 3m 27s\tremaining: 7m 19s\n",
      "1282:\ttest: 0.7114662\tbest: 0.7114662 (1282)\ttotal: 3m 27s\tremaining: 7m 18s\n",
      "1283:\ttest: 0.7114677\tbest: 0.7114677 (1283)\ttotal: 3m 27s\tremaining: 7m 18s\n",
      "1284:\ttest: 0.7114680\tbest: 0.7114680 (1284)\ttotal: 3m 27s\tremaining: 7m 18s\n",
      "1285:\ttest: 0.7114695\tbest: 0.7114695 (1285)\ttotal: 3m 27s\tremaining: 7m 18s\n",
      "1286:\ttest: 0.7114736\tbest: 0.7114736 (1286)\ttotal: 3m 27s\tremaining: 7m 18s\n",
      "1287:\ttest: 0.7114808\tbest: 0.7114808 (1287)\ttotal: 3m 28s\tremaining: 7m 18s\n",
      "1288:\ttest: 0.7114832\tbest: 0.7114832 (1288)\ttotal: 3m 28s\tremaining: 7m 18s\n",
      "1289:\ttest: 0.7114852\tbest: 0.7114852 (1289)\ttotal: 3m 28s\tremaining: 7m 17s\n",
      "1290:\ttest: 0.7114853\tbest: 0.7114853 (1290)\ttotal: 3m 28s\tremaining: 7m 17s\n",
      "1291:\ttest: 0.7114866\tbest: 0.7114866 (1291)\ttotal: 3m 28s\tremaining: 7m 17s\n",
      "1292:\ttest: 0.7114898\tbest: 0.7114898 (1292)\ttotal: 3m 28s\tremaining: 7m 17s\n",
      "1293:\ttest: 0.7114954\tbest: 0.7114954 (1293)\ttotal: 3m 29s\tremaining: 7m 17s\n",
      "1294:\ttest: 0.7114972\tbest: 0.7114972 (1294)\ttotal: 3m 29s\tremaining: 7m 17s\n",
      "1295:\ttest: 0.7114976\tbest: 0.7114976 (1295)\ttotal: 3m 29s\tremaining: 7m 16s\n",
      "1296:\ttest: 0.7115002\tbest: 0.7115002 (1296)\ttotal: 3m 29s\tremaining: 7m 16s\n",
      "1297:\ttest: 0.7114996\tbest: 0.7115002 (1296)\ttotal: 3m 29s\tremaining: 7m 16s\n",
      "1298:\ttest: 0.7114999\tbest: 0.7115002 (1296)\ttotal: 3m 29s\tremaining: 7m 16s\n",
      "1299:\ttest: 0.7114984\tbest: 0.7115002 (1296)\ttotal: 3m 30s\tremaining: 7m 16s\n",
      "1300:\ttest: 0.7114966\tbest: 0.7115002 (1296)\ttotal: 3m 30s\tremaining: 7m 16s\n",
      "1301:\ttest: 0.7114933\tbest: 0.7115002 (1296)\ttotal: 3m 30s\tremaining: 7m 15s\n",
      "1302:\ttest: 0.7114947\tbest: 0.7115002 (1296)\ttotal: 3m 30s\tremaining: 7m 15s\n",
      "1303:\ttest: 0.7114972\tbest: 0.7115002 (1296)\ttotal: 3m 30s\tremaining: 7m 15s\n",
      "1304:\ttest: 0.7114971\tbest: 0.7115002 (1296)\ttotal: 3m 30s\tremaining: 7m 15s\n",
      "1305:\ttest: 0.7114963\tbest: 0.7115002 (1296)\ttotal: 3m 30s\tremaining: 7m 15s\n",
      "1306:\ttest: 0.7115057\tbest: 0.7115057 (1306)\ttotal: 3m 31s\tremaining: 7m 14s\n",
      "1307:\ttest: 0.7115088\tbest: 0.7115088 (1307)\ttotal: 3m 31s\tremaining: 7m 14s\n",
      "1308:\ttest: 0.7115104\tbest: 0.7115104 (1308)\ttotal: 3m 31s\tremaining: 7m 14s\n",
      "1309:\ttest: 0.7115110\tbest: 0.7115110 (1309)\ttotal: 3m 31s\tremaining: 7m 14s\n",
      "1310:\ttest: 0.7115132\tbest: 0.7115132 (1310)\ttotal: 3m 31s\tremaining: 7m 14s\n",
      "1311:\ttest: 0.7115144\tbest: 0.7115144 (1311)\ttotal: 3m 31s\tremaining: 7m 14s\n",
      "1312:\ttest: 0.7115225\tbest: 0.7115225 (1312)\ttotal: 3m 32s\tremaining: 7m 13s\n",
      "1313:\ttest: 0.7115210\tbest: 0.7115225 (1312)\ttotal: 3m 32s\tremaining: 7m 13s\n",
      "1314:\ttest: 0.7115198\tbest: 0.7115225 (1312)\ttotal: 3m 32s\tremaining: 7m 13s\n",
      "1315:\ttest: 0.7115253\tbest: 0.7115253 (1315)\ttotal: 3m 32s\tremaining: 7m 13s\n",
      "1316:\ttest: 0.7115288\tbest: 0.7115288 (1316)\ttotal: 3m 32s\tremaining: 7m 13s\n",
      "1317:\ttest: 0.7115338\tbest: 0.7115338 (1317)\ttotal: 3m 32s\tremaining: 7m 13s\n"
     ]
    },
    {
     "name": "stdout",
     "output_type": "stream",
     "text": [
      "1318:\ttest: 0.7115332\tbest: 0.7115338 (1317)\ttotal: 3m 32s\tremaining: 7m 12s\n",
      "1319:\ttest: 0.7115362\tbest: 0.7115362 (1319)\ttotal: 3m 33s\tremaining: 7m 12s\n",
      "1320:\ttest: 0.7115353\tbest: 0.7115362 (1319)\ttotal: 3m 33s\tremaining: 7m 12s\n",
      "1321:\ttest: 0.7115347\tbest: 0.7115362 (1319)\ttotal: 3m 33s\tremaining: 7m 12s\n",
      "1322:\ttest: 0.7115351\tbest: 0.7115362 (1319)\ttotal: 3m 33s\tremaining: 7m 12s\n",
      "1323:\ttest: 0.7115396\tbest: 0.7115396 (1323)\ttotal: 3m 33s\tremaining: 7m 12s\n",
      "1324:\ttest: 0.7115454\tbest: 0.7115454 (1324)\ttotal: 3m 33s\tremaining: 7m 11s\n",
      "1325:\ttest: 0.7115442\tbest: 0.7115454 (1324)\ttotal: 3m 34s\tremaining: 7m 11s\n",
      "1326:\ttest: 0.7115471\tbest: 0.7115471 (1326)\ttotal: 3m 34s\tremaining: 7m 11s\n",
      "1327:\ttest: 0.7115472\tbest: 0.7115472 (1327)\ttotal: 3m 34s\tremaining: 7m 11s\n",
      "1328:\ttest: 0.7115475\tbest: 0.7115475 (1328)\ttotal: 3m 34s\tremaining: 7m 11s\n",
      "1329:\ttest: 0.7115486\tbest: 0.7115486 (1329)\ttotal: 3m 34s\tremaining: 7m 11s\n",
      "1330:\ttest: 0.7115486\tbest: 0.7115486 (1329)\ttotal: 3m 34s\tremaining: 7m 11s\n",
      "1331:\ttest: 0.7115506\tbest: 0.7115506 (1331)\ttotal: 3m 35s\tremaining: 7m 10s\n",
      "1332:\ttest: 0.7115521\tbest: 0.7115521 (1332)\ttotal: 3m 35s\tremaining: 7m 10s\n",
      "1333:\ttest: 0.7115591\tbest: 0.7115591 (1333)\ttotal: 3m 35s\tremaining: 7m 10s\n",
      "1334:\ttest: 0.7115624\tbest: 0.7115624 (1334)\ttotal: 3m 35s\tremaining: 7m 10s\n",
      "1335:\ttest: 0.7115653\tbest: 0.7115653 (1335)\ttotal: 3m 35s\tremaining: 7m 10s\n",
      "1336:\ttest: 0.7115724\tbest: 0.7115724 (1336)\ttotal: 3m 35s\tremaining: 7m 10s\n",
      "1337:\ttest: 0.7115728\tbest: 0.7115728 (1337)\ttotal: 3m 36s\tremaining: 7m 9s\n",
      "1338:\ttest: 0.7115729\tbest: 0.7115729 (1338)\ttotal: 3m 36s\tremaining: 7m 9s\n",
      "1339:\ttest: 0.7115720\tbest: 0.7115729 (1338)\ttotal: 3m 36s\tremaining: 7m 9s\n",
      "1340:\ttest: 0.7115709\tbest: 0.7115729 (1338)\ttotal: 3m 36s\tremaining: 7m 9s\n",
      "1341:\ttest: 0.7115748\tbest: 0.7115748 (1341)\ttotal: 3m 36s\tremaining: 7m 9s\n",
      "1342:\ttest: 0.7115769\tbest: 0.7115769 (1342)\ttotal: 3m 36s\tremaining: 7m 9s\n",
      "1343:\ttest: 0.7115770\tbest: 0.7115770 (1343)\ttotal: 3m 37s\tremaining: 7m 9s\n",
      "1344:\ttest: 0.7115765\tbest: 0.7115770 (1343)\ttotal: 3m 37s\tremaining: 7m 8s\n",
      "1345:\ttest: 0.7115777\tbest: 0.7115777 (1345)\ttotal: 3m 37s\tremaining: 7m 8s\n",
      "1346:\ttest: 0.7115815\tbest: 0.7115815 (1346)\ttotal: 3m 37s\tremaining: 7m 8s\n",
      "1347:\ttest: 0.7115897\tbest: 0.7115897 (1347)\ttotal: 3m 37s\tremaining: 7m 8s\n",
      "1348:\ttest: 0.7115921\tbest: 0.7115921 (1348)\ttotal: 3m 37s\tremaining: 7m 8s\n",
      "1349:\ttest: 0.7115943\tbest: 0.7115943 (1349)\ttotal: 3m 38s\tremaining: 7m 8s\n",
      "1350:\ttest: 0.7115947\tbest: 0.7115947 (1350)\ttotal: 3m 38s\tremaining: 7m 8s\n",
      "1351:\ttest: 0.7115972\tbest: 0.7115972 (1351)\ttotal: 3m 38s\tremaining: 7m 7s\n",
      "1352:\ttest: 0.7116009\tbest: 0.7116009 (1352)\ttotal: 3m 38s\tremaining: 7m 7s\n",
      "1353:\ttest: 0.7116017\tbest: 0.7116017 (1353)\ttotal: 3m 38s\tremaining: 7m 7s\n",
      "1354:\ttest: 0.7116006\tbest: 0.7116017 (1353)\ttotal: 3m 38s\tremaining: 7m 7s\n",
      "1355:\ttest: 0.7115973\tbest: 0.7116017 (1353)\ttotal: 3m 39s\tremaining: 7m 7s\n",
      "1356:\ttest: 0.7115980\tbest: 0.7116017 (1353)\ttotal: 3m 39s\tremaining: 7m 7s\n",
      "1357:\ttest: 0.7115991\tbest: 0.7116017 (1353)\ttotal: 3m 39s\tremaining: 7m 6s\n",
      "1358:\ttest: 0.7116017\tbest: 0.7116017 (1353)\ttotal: 3m 39s\tremaining: 7m 6s\n",
      "1359:\ttest: 0.7116036\tbest: 0.7116036 (1359)\ttotal: 3m 39s\tremaining: 7m 6s\n",
      "1360:\ttest: 0.7116051\tbest: 0.7116051 (1360)\ttotal: 3m 39s\tremaining: 7m 6s\n",
      "1361:\ttest: 0.7116052\tbest: 0.7116052 (1361)\ttotal: 3m 40s\tremaining: 7m 6s\n",
      "1362:\ttest: 0.7116092\tbest: 0.7116092 (1362)\ttotal: 3m 40s\tremaining: 7m 6s\n",
      "1363:\ttest: 0.7116081\tbest: 0.7116092 (1362)\ttotal: 3m 40s\tremaining: 7m 6s\n",
      "1364:\ttest: 0.7116120\tbest: 0.7116120 (1364)\ttotal: 3m 40s\tremaining: 7m 5s\n",
      "1365:\ttest: 0.7116106\tbest: 0.7116120 (1364)\ttotal: 3m 40s\tremaining: 7m 5s\n",
      "1366:\ttest: 0.7116113\tbest: 0.7116120 (1364)\ttotal: 3m 40s\tremaining: 7m 5s\n",
      "1367:\ttest: 0.7116103\tbest: 0.7116120 (1364)\ttotal: 3m 41s\tremaining: 7m 5s\n",
      "1368:\ttest: 0.7116133\tbest: 0.7116133 (1368)\ttotal: 3m 41s\tremaining: 7m 5s\n",
      "1369:\ttest: 0.7116189\tbest: 0.7116189 (1369)\ttotal: 3m 41s\tremaining: 7m 5s\n",
      "1370:\ttest: 0.7116245\tbest: 0.7116245 (1370)\ttotal: 3m 41s\tremaining: 7m 4s\n",
      "1371:\ttest: 0.7116256\tbest: 0.7116256 (1371)\ttotal: 3m 41s\tremaining: 7m 4s\n",
      "1372:\ttest: 0.7116277\tbest: 0.7116277 (1372)\ttotal: 3m 41s\tremaining: 7m 4s\n",
      "1373:\ttest: 0.7116322\tbest: 0.7116322 (1373)\ttotal: 3m 42s\tremaining: 7m 4s\n",
      "1374:\ttest: 0.7116356\tbest: 0.7116356 (1374)\ttotal: 3m 42s\tremaining: 7m 4s\n",
      "1375:\ttest: 0.7116363\tbest: 0.7116363 (1375)\ttotal: 3m 42s\tremaining: 7m 4s\n",
      "1376:\ttest: 0.7116350\tbest: 0.7116363 (1375)\ttotal: 3m 42s\tremaining: 7m 4s\n",
      "1377:\ttest: 0.7116381\tbest: 0.7116381 (1377)\ttotal: 3m 42s\tremaining: 7m 3s\n",
      "1378:\ttest: 0.7116354\tbest: 0.7116381 (1377)\ttotal: 3m 42s\tremaining: 7m 3s\n",
      "1379:\ttest: 0.7116330\tbest: 0.7116381 (1377)\ttotal: 3m 43s\tremaining: 7m 3s\n",
      "1380:\ttest: 0.7116310\tbest: 0.7116381 (1377)\ttotal: 3m 43s\tremaining: 7m 3s\n",
      "1381:\ttest: 0.7116348\tbest: 0.7116381 (1377)\ttotal: 3m 43s\tremaining: 7m 3s\n",
      "1382:\ttest: 0.7116359\tbest: 0.7116381 (1377)\ttotal: 3m 43s\tremaining: 7m 3s\n",
      "1383:\ttest: 0.7116425\tbest: 0.7116425 (1383)\ttotal: 3m 43s\tremaining: 7m 2s\n",
      "1384:\ttest: 0.7116460\tbest: 0.7116460 (1384)\ttotal: 3m 43s\tremaining: 7m 2s\n",
      "1385:\ttest: 0.7116485\tbest: 0.7116485 (1385)\ttotal: 3m 44s\tremaining: 7m 2s\n",
      "1386:\ttest: 0.7116543\tbest: 0.7116543 (1386)\ttotal: 3m 44s\tremaining: 7m 2s\n",
      "1387:\ttest: 0.7116553\tbest: 0.7116553 (1387)\ttotal: 3m 44s\tremaining: 7m 2s\n",
      "1388:\ttest: 0.7116536\tbest: 0.7116553 (1387)\ttotal: 3m 44s\tremaining: 7m 2s\n",
      "1389:\ttest: 0.7116543\tbest: 0.7116553 (1387)\ttotal: 3m 44s\tremaining: 7m 2s\n",
      "1390:\ttest: 0.7116594\tbest: 0.7116594 (1390)\ttotal: 3m 44s\tremaining: 7m 1s\n",
      "1391:\ttest: 0.7116619\tbest: 0.7116619 (1391)\ttotal: 3m 45s\tremaining: 7m 1s\n",
      "1392:\ttest: 0.7116678\tbest: 0.7116678 (1392)\ttotal: 3m 45s\tremaining: 7m 1s\n",
      "1393:\ttest: 0.7116704\tbest: 0.7116704 (1393)\ttotal: 3m 45s\tremaining: 7m 1s\n",
      "1394:\ttest: 0.7116674\tbest: 0.7116704 (1393)\ttotal: 3m 45s\tremaining: 7m 1s\n",
      "1395:\ttest: 0.7116721\tbest: 0.7116721 (1395)\ttotal: 3m 45s\tremaining: 7m 1s\n",
      "1396:\ttest: 0.7116725\tbest: 0.7116725 (1396)\ttotal: 3m 45s\tremaining: 7m\n",
      "1397:\ttest: 0.7116703\tbest: 0.7116725 (1396)\ttotal: 3m 46s\tremaining: 7m\n",
      "1398:\ttest: 0.7116748\tbest: 0.7116748 (1398)\ttotal: 3m 46s\tremaining: 7m\n",
      "1399:\ttest: 0.7116761\tbest: 0.7116761 (1399)\ttotal: 3m 46s\tremaining: 7m\n",
      "1400:\ttest: 0.7116752\tbest: 0.7116761 (1399)\ttotal: 3m 46s\tremaining: 7m\n",
      "1401:\ttest: 0.7116781\tbest: 0.7116781 (1401)\ttotal: 3m 46s\tremaining: 7m\n",
      "1402:\ttest: 0.7116816\tbest: 0.7116816 (1402)\ttotal: 3m 47s\tremaining: 7m\n",
      "1403:\ttest: 0.7116830\tbest: 0.7116830 (1403)\ttotal: 3m 47s\tremaining: 7m\n",
      "1404:\ttest: 0.7116840\tbest: 0.7116840 (1404)\ttotal: 3m 47s\tremaining: 6m 59s\n",
      "1405:\ttest: 0.7116944\tbest: 0.7116944 (1405)\ttotal: 3m 47s\tremaining: 6m 59s\n",
      "1406:\ttest: 0.7116971\tbest: 0.7116971 (1406)\ttotal: 3m 47s\tremaining: 6m 59s\n",
      "1407:\ttest: 0.7116998\tbest: 0.7116998 (1407)\ttotal: 3m 47s\tremaining: 6m 59s\n",
      "1408:\ttest: 0.7116966\tbest: 0.7116998 (1407)\ttotal: 3m 48s\tremaining: 6m 59s\n",
      "1409:\ttest: 0.7116982\tbest: 0.7116998 (1407)\ttotal: 3m 48s\tremaining: 6m 59s\n",
      "1410:\ttest: 0.7117038\tbest: 0.7117038 (1410)\ttotal: 3m 48s\tremaining: 6m 59s\n",
      "1411:\ttest: 0.7117048\tbest: 0.7117048 (1411)\ttotal: 3m 48s\tremaining: 6m 58s\n",
      "1412:\ttest: 0.7117052\tbest: 0.7117052 (1412)\ttotal: 3m 48s\tremaining: 6m 58s\n",
      "1413:\ttest: 0.7117081\tbest: 0.7117081 (1413)\ttotal: 3m 48s\tremaining: 6m 58s\n",
      "1414:\ttest: 0.7117082\tbest: 0.7117082 (1414)\ttotal: 3m 49s\tremaining: 6m 58s\n",
      "1415:\ttest: 0.7117112\tbest: 0.7117112 (1415)\ttotal: 3m 49s\tremaining: 6m 58s\n",
      "1416:\ttest: 0.7117181\tbest: 0.7117181 (1416)\ttotal: 3m 49s\tremaining: 6m 58s\n",
      "1417:\ttest: 0.7117180\tbest: 0.7117181 (1416)\ttotal: 3m 49s\tremaining: 6m 57s\n",
      "1418:\ttest: 0.7117226\tbest: 0.7117226 (1418)\ttotal: 3m 49s\tremaining: 6m 57s\n",
      "1419:\ttest: 0.7117235\tbest: 0.7117235 (1419)\ttotal: 3m 49s\tremaining: 6m 57s\n",
      "1420:\ttest: 0.7117253\tbest: 0.7117253 (1420)\ttotal: 3m 50s\tremaining: 6m 57s\n",
      "1421:\ttest: 0.7117341\tbest: 0.7117341 (1421)\ttotal: 3m 50s\tremaining: 6m 57s\n",
      "1422:\ttest: 0.7117343\tbest: 0.7117343 (1422)\ttotal: 3m 50s\tremaining: 6m 57s\n",
      "1423:\ttest: 0.7117318\tbest: 0.7117343 (1422)\ttotal: 3m 50s\tremaining: 6m 57s\n",
      "1424:\ttest: 0.7117341\tbest: 0.7117343 (1422)\ttotal: 3m 50s\tremaining: 6m 56s\n",
      "1425:\ttest: 0.7117371\tbest: 0.7117371 (1425)\ttotal: 3m 50s\tremaining: 6m 56s\n"
     ]
    },
    {
     "name": "stdout",
     "output_type": "stream",
     "text": [
      "1426:\ttest: 0.7117360\tbest: 0.7117371 (1425)\ttotal: 3m 51s\tremaining: 6m 56s\n",
      "1427:\ttest: 0.7117374\tbest: 0.7117374 (1427)\ttotal: 3m 51s\tremaining: 6m 56s\n",
      "1428:\ttest: 0.7117379\tbest: 0.7117379 (1428)\ttotal: 3m 51s\tremaining: 6m 56s\n",
      "1429:\ttest: 0.7117332\tbest: 0.7117379 (1428)\ttotal: 3m 51s\tremaining: 6m 56s\n",
      "1430:\ttest: 0.7117328\tbest: 0.7117379 (1428)\ttotal: 3m 51s\tremaining: 6m 56s\n",
      "1431:\ttest: 0.7117357\tbest: 0.7117379 (1428)\ttotal: 3m 51s\tremaining: 6m 55s\n",
      "1432:\ttest: 0.7117361\tbest: 0.7117379 (1428)\ttotal: 3m 52s\tremaining: 6m 55s\n",
      "1433:\ttest: 0.7117377\tbest: 0.7117379 (1428)\ttotal: 3m 52s\tremaining: 6m 55s\n",
      "1434:\ttest: 0.7117398\tbest: 0.7117398 (1434)\ttotal: 3m 52s\tremaining: 6m 55s\n",
      "1435:\ttest: 0.7117389\tbest: 0.7117398 (1434)\ttotal: 3m 52s\tremaining: 6m 55s\n",
      "1436:\ttest: 0.7117405\tbest: 0.7117405 (1436)\ttotal: 3m 52s\tremaining: 6m 55s\n",
      "1437:\ttest: 0.7117438\tbest: 0.7117438 (1437)\ttotal: 3m 52s\tremaining: 6m 55s\n",
      "1438:\ttest: 0.7117470\tbest: 0.7117470 (1438)\ttotal: 3m 53s\tremaining: 6m 54s\n",
      "1439:\ttest: 0.7117500\tbest: 0.7117500 (1439)\ttotal: 3m 53s\tremaining: 6m 54s\n",
      "1440:\ttest: 0.7117535\tbest: 0.7117535 (1440)\ttotal: 3m 53s\tremaining: 6m 54s\n",
      "1441:\ttest: 0.7117589\tbest: 0.7117589 (1441)\ttotal: 3m 53s\tremaining: 6m 54s\n",
      "1442:\ttest: 0.7117595\tbest: 0.7117595 (1442)\ttotal: 3m 53s\tremaining: 6m 54s\n",
      "1443:\ttest: 0.7117629\tbest: 0.7117629 (1443)\ttotal: 3m 53s\tremaining: 6m 54s\n",
      "1444:\ttest: 0.7117637\tbest: 0.7117637 (1444)\ttotal: 3m 54s\tremaining: 6m 53s\n",
      "1445:\ttest: 0.7117663\tbest: 0.7117663 (1445)\ttotal: 3m 54s\tremaining: 6m 53s\n",
      "1446:\ttest: 0.7117635\tbest: 0.7117663 (1445)\ttotal: 3m 54s\tremaining: 6m 53s\n",
      "1447:\ttest: 0.7117619\tbest: 0.7117663 (1445)\ttotal: 3m 54s\tremaining: 6m 53s\n",
      "1448:\ttest: 0.7117600\tbest: 0.7117663 (1445)\ttotal: 3m 54s\tremaining: 6m 53s\n",
      "1449:\ttest: 0.7117620\tbest: 0.7117663 (1445)\ttotal: 3m 54s\tremaining: 6m 53s\n",
      "1450:\ttest: 0.7117598\tbest: 0.7117663 (1445)\ttotal: 3m 55s\tremaining: 6m 53s\n",
      "1451:\ttest: 0.7117644\tbest: 0.7117663 (1445)\ttotal: 3m 55s\tremaining: 6m 52s\n",
      "1452:\ttest: 0.7117643\tbest: 0.7117663 (1445)\ttotal: 3m 55s\tremaining: 6m 52s\n",
      "1453:\ttest: 0.7117661\tbest: 0.7117663 (1445)\ttotal: 3m 55s\tremaining: 6m 52s\n",
      "1454:\ttest: 0.7117675\tbest: 0.7117675 (1454)\ttotal: 3m 55s\tremaining: 6m 52s\n",
      "1455:\ttest: 0.7117718\tbest: 0.7117718 (1455)\ttotal: 3m 55s\tremaining: 6m 52s\n",
      "1456:\ttest: 0.7117764\tbest: 0.7117764 (1456)\ttotal: 3m 56s\tremaining: 6m 52s\n",
      "1457:\ttest: 0.7117777\tbest: 0.7117777 (1457)\ttotal: 3m 56s\tremaining: 6m 51s\n",
      "1458:\ttest: 0.7117790\tbest: 0.7117790 (1458)\ttotal: 3m 56s\tremaining: 6m 51s\n",
      "1459:\ttest: 0.7117754\tbest: 0.7117790 (1458)\ttotal: 3m 56s\tremaining: 6m 51s\n",
      "1460:\ttest: 0.7117778\tbest: 0.7117790 (1458)\ttotal: 3m 56s\tremaining: 6m 51s\n",
      "1461:\ttest: 0.7117829\tbest: 0.7117829 (1461)\ttotal: 3m 56s\tremaining: 6m 51s\n",
      "1462:\ttest: 0.7117861\tbest: 0.7117861 (1462)\ttotal: 3m 57s\tremaining: 6m 51s\n",
      "1463:\ttest: 0.7117865\tbest: 0.7117865 (1463)\ttotal: 3m 57s\tremaining: 6m 50s\n",
      "1464:\ttest: 0.7117881\tbest: 0.7117881 (1464)\ttotal: 3m 57s\tremaining: 6m 50s\n",
      "1465:\ttest: 0.7117954\tbest: 0.7117954 (1465)\ttotal: 3m 57s\tremaining: 6m 50s\n",
      "1466:\ttest: 0.7117985\tbest: 0.7117985 (1466)\ttotal: 3m 57s\tremaining: 6m 50s\n",
      "1467:\ttest: 0.7117959\tbest: 0.7117985 (1466)\ttotal: 3m 57s\tremaining: 6m 50s\n",
      "1468:\ttest: 0.7117976\tbest: 0.7117985 (1466)\ttotal: 3m 58s\tremaining: 6m 50s\n",
      "1469:\ttest: 0.7117971\tbest: 0.7117985 (1466)\ttotal: 3m 58s\tremaining: 6m 49s\n",
      "1470:\ttest: 0.7118013\tbest: 0.7118013 (1470)\ttotal: 3m 58s\tremaining: 6m 49s\n",
      "1471:\ttest: 0.7118017\tbest: 0.7118017 (1471)\ttotal: 3m 58s\tremaining: 6m 49s\n",
      "1472:\ttest: 0.7118055\tbest: 0.7118055 (1472)\ttotal: 3m 58s\tremaining: 6m 49s\n",
      "1473:\ttest: 0.7118066\tbest: 0.7118066 (1473)\ttotal: 3m 58s\tremaining: 6m 49s\n",
      "1474:\ttest: 0.7118073\tbest: 0.7118073 (1474)\ttotal: 3m 59s\tremaining: 6m 49s\n",
      "1475:\ttest: 0.7118079\tbest: 0.7118079 (1475)\ttotal: 3m 59s\tremaining: 6m 48s\n",
      "1476:\ttest: 0.7118119\tbest: 0.7118119 (1476)\ttotal: 3m 59s\tremaining: 6m 48s\n",
      "1477:\ttest: 0.7118098\tbest: 0.7118119 (1476)\ttotal: 3m 59s\tremaining: 6m 48s\n",
      "1478:\ttest: 0.7118148\tbest: 0.7118148 (1478)\ttotal: 3m 59s\tremaining: 6m 48s\n",
      "1479:\ttest: 0.7118135\tbest: 0.7118148 (1478)\ttotal: 3m 59s\tremaining: 6m 48s\n",
      "1480:\ttest: 0.7118128\tbest: 0.7118148 (1478)\ttotal: 3m 59s\tremaining: 6m 48s\n",
      "1481:\ttest: 0.7118170\tbest: 0.7118170 (1481)\ttotal: 4m\tremaining: 6m 48s\n",
      "1482:\ttest: 0.7118200\tbest: 0.7118200 (1482)\ttotal: 4m\tremaining: 6m 47s\n",
      "1483:\ttest: 0.7118238\tbest: 0.7118238 (1483)\ttotal: 4m\tremaining: 6m 47s\n",
      "1484:\ttest: 0.7118284\tbest: 0.7118284 (1484)\ttotal: 4m\tremaining: 6m 47s\n",
      "1485:\ttest: 0.7118334\tbest: 0.7118334 (1485)\ttotal: 4m\tremaining: 6m 47s\n",
      "1486:\ttest: 0.7118315\tbest: 0.7118334 (1485)\ttotal: 4m\tremaining: 6m 47s\n",
      "1487:\ttest: 0.7118304\tbest: 0.7118334 (1485)\ttotal: 4m 1s\tremaining: 6m 47s\n",
      "1488:\ttest: 0.7118354\tbest: 0.7118354 (1488)\ttotal: 4m 1s\tremaining: 6m 46s\n",
      "1489:\ttest: 0.7118362\tbest: 0.7118362 (1489)\ttotal: 4m 1s\tremaining: 6m 46s\n",
      "1490:\ttest: 0.7118347\tbest: 0.7118362 (1489)\ttotal: 4m 1s\tremaining: 6m 46s\n",
      "1491:\ttest: 0.7118347\tbest: 0.7118362 (1489)\ttotal: 4m 1s\tremaining: 6m 46s\n",
      "1492:\ttest: 0.7118328\tbest: 0.7118362 (1489)\ttotal: 4m 1s\tremaining: 6m 46s\n",
      "1493:\ttest: 0.7118305\tbest: 0.7118362 (1489)\ttotal: 4m 2s\tremaining: 6m 46s\n",
      "1494:\ttest: 0.7118310\tbest: 0.7118362 (1489)\ttotal: 4m 2s\tremaining: 6m 45s\n",
      "1495:\ttest: 0.7118318\tbest: 0.7118362 (1489)\ttotal: 4m 2s\tremaining: 6m 45s\n",
      "1496:\ttest: 0.7118362\tbest: 0.7118362 (1489)\ttotal: 4m 2s\tremaining: 6m 45s\n",
      "1497:\ttest: 0.7118402\tbest: 0.7118402 (1497)\ttotal: 4m 2s\tremaining: 6m 45s\n",
      "1498:\ttest: 0.7118432\tbest: 0.7118432 (1498)\ttotal: 4m 2s\tremaining: 6m 45s\n",
      "1499:\ttest: 0.7118468\tbest: 0.7118468 (1499)\ttotal: 4m 3s\tremaining: 6m 45s\n",
      "1500:\ttest: 0.7118457\tbest: 0.7118468 (1499)\ttotal: 4m 3s\tremaining: 6m 44s\n",
      "1501:\ttest: 0.7118462\tbest: 0.7118468 (1499)\ttotal: 4m 3s\tremaining: 6m 44s\n",
      "1502:\ttest: 0.7118459\tbest: 0.7118468 (1499)\ttotal: 4m 3s\tremaining: 6m 44s\n",
      "1503:\ttest: 0.7118467\tbest: 0.7118468 (1499)\ttotal: 4m 3s\tremaining: 6m 44s\n",
      "1504:\ttest: 0.7118462\tbest: 0.7118468 (1499)\ttotal: 4m 3s\tremaining: 6m 44s\n",
      "1505:\ttest: 0.7118489\tbest: 0.7118489 (1505)\ttotal: 4m 4s\tremaining: 6m 44s\n",
      "1506:\ttest: 0.7118501\tbest: 0.7118501 (1506)\ttotal: 4m 4s\tremaining: 6m 43s\n",
      "1507:\ttest: 0.7118514\tbest: 0.7118514 (1507)\ttotal: 4m 4s\tremaining: 6m 43s\n",
      "1508:\ttest: 0.7118543\tbest: 0.7118543 (1508)\ttotal: 4m 4s\tremaining: 6m 43s\n",
      "1509:\ttest: 0.7118536\tbest: 0.7118543 (1508)\ttotal: 4m 4s\tremaining: 6m 43s\n",
      "1510:\ttest: 0.7118538\tbest: 0.7118543 (1508)\ttotal: 4m 4s\tremaining: 6m 43s\n",
      "1511:\ttest: 0.7118545\tbest: 0.7118545 (1511)\ttotal: 4m 4s\tremaining: 6m 43s\n",
      "1512:\ttest: 0.7118524\tbest: 0.7118545 (1511)\ttotal: 4m 5s\tremaining: 6m 42s\n",
      "1513:\ttest: 0.7118542\tbest: 0.7118545 (1511)\ttotal: 4m 5s\tremaining: 6m 42s\n",
      "1514:\ttest: 0.7118581\tbest: 0.7118581 (1514)\ttotal: 4m 5s\tremaining: 6m 42s\n",
      "1515:\ttest: 0.7118552\tbest: 0.7118581 (1514)\ttotal: 4m 5s\tremaining: 6m 42s\n",
      "1516:\ttest: 0.7118545\tbest: 0.7118581 (1514)\ttotal: 4m 5s\tremaining: 6m 42s\n",
      "1517:\ttest: 0.7118536\tbest: 0.7118581 (1514)\ttotal: 4m 5s\tremaining: 6m 42s\n",
      "1518:\ttest: 0.7118590\tbest: 0.7118590 (1518)\ttotal: 4m 6s\tremaining: 6m 42s\n",
      "1519:\ttest: 0.7118579\tbest: 0.7118590 (1518)\ttotal: 4m 6s\tremaining: 6m 41s\n",
      "1520:\ttest: 0.7118587\tbest: 0.7118590 (1518)\ttotal: 4m 6s\tremaining: 6m 41s\n",
      "1521:\ttest: 0.7118567\tbest: 0.7118590 (1518)\ttotal: 4m 6s\tremaining: 6m 41s\n",
      "1522:\ttest: 0.7118588\tbest: 0.7118590 (1518)\ttotal: 4m 6s\tremaining: 6m 41s\n",
      "1523:\ttest: 0.7118584\tbest: 0.7118590 (1518)\ttotal: 4m 6s\tremaining: 6m 41s\n",
      "1524:\ttest: 0.7118553\tbest: 0.7118590 (1518)\ttotal: 4m 7s\tremaining: 6m 41s\n",
      "1525:\ttest: 0.7118598\tbest: 0.7118598 (1525)\ttotal: 4m 7s\tremaining: 6m 40s\n",
      "1526:\ttest: 0.7118652\tbest: 0.7118652 (1526)\ttotal: 4m 7s\tremaining: 6m 40s\n",
      "1527:\ttest: 0.7118649\tbest: 0.7118652 (1526)\ttotal: 4m 7s\tremaining: 6m 40s\n",
      "1528:\ttest: 0.7118699\tbest: 0.7118699 (1528)\ttotal: 4m 7s\tremaining: 6m 40s\n",
      "1529:\ttest: 0.7118724\tbest: 0.7118724 (1529)\ttotal: 4m 7s\tremaining: 6m 40s\n",
      "1530:\ttest: 0.7118712\tbest: 0.7118724 (1529)\ttotal: 4m 8s\tremaining: 6m 40s\n",
      "1531:\ttest: 0.7118716\tbest: 0.7118724 (1529)\ttotal: 4m 8s\tremaining: 6m 39s\n",
      "1532:\ttest: 0.7118683\tbest: 0.7118724 (1529)\ttotal: 4m 8s\tremaining: 6m 39s\n",
      "1533:\ttest: 0.7118669\tbest: 0.7118724 (1529)\ttotal: 4m 8s\tremaining: 6m 39s\n"
     ]
    },
    {
     "name": "stdout",
     "output_type": "stream",
     "text": [
      "1534:\ttest: 0.7118692\tbest: 0.7118724 (1529)\ttotal: 4m 8s\tremaining: 6m 39s\n",
      "1535:\ttest: 0.7118712\tbest: 0.7118724 (1529)\ttotal: 4m 8s\tremaining: 6m 39s\n",
      "1536:\ttest: 0.7118719\tbest: 0.7118724 (1529)\ttotal: 4m 9s\tremaining: 6m 39s\n",
      "1537:\ttest: 0.7118775\tbest: 0.7118775 (1537)\ttotal: 4m 9s\tremaining: 6m 39s\n",
      "1538:\ttest: 0.7118814\tbest: 0.7118814 (1538)\ttotal: 4m 9s\tremaining: 6m 38s\n",
      "1539:\ttest: 0.7118813\tbest: 0.7118814 (1538)\ttotal: 4m 9s\tremaining: 6m 38s\n",
      "1540:\ttest: 0.7118812\tbest: 0.7118814 (1538)\ttotal: 4m 9s\tremaining: 6m 38s\n",
      "1541:\ttest: 0.7118876\tbest: 0.7118876 (1541)\ttotal: 4m 9s\tremaining: 6m 38s\n",
      "1542:\ttest: 0.7118914\tbest: 0.7118914 (1542)\ttotal: 4m 10s\tremaining: 6m 38s\n",
      "1543:\ttest: 0.7118937\tbest: 0.7118937 (1543)\ttotal: 4m 10s\tremaining: 6m 38s\n",
      "1544:\ttest: 0.7118947\tbest: 0.7118947 (1544)\ttotal: 4m 10s\tremaining: 6m 37s\n",
      "1545:\ttest: 0.7118931\tbest: 0.7118947 (1544)\ttotal: 4m 10s\tremaining: 6m 37s\n",
      "1546:\ttest: 0.7118934\tbest: 0.7118947 (1544)\ttotal: 4m 10s\tremaining: 6m 37s\n",
      "1547:\ttest: 0.7118966\tbest: 0.7118966 (1547)\ttotal: 4m 10s\tremaining: 6m 37s\n",
      "1548:\ttest: 0.7118962\tbest: 0.7118966 (1547)\ttotal: 4m 11s\tremaining: 6m 37s\n",
      "1549:\ttest: 0.7118964\tbest: 0.7118966 (1547)\ttotal: 4m 11s\tremaining: 6m 37s\n",
      "1550:\ttest: 0.7119043\tbest: 0.7119043 (1550)\ttotal: 4m 11s\tremaining: 6m 37s\n",
      "1551:\ttest: 0.7119075\tbest: 0.7119075 (1551)\ttotal: 4m 11s\tremaining: 6m 36s\n",
      "1552:\ttest: 0.7119099\tbest: 0.7119099 (1552)\ttotal: 4m 11s\tremaining: 6m 36s\n",
      "1553:\ttest: 0.7119114\tbest: 0.7119114 (1553)\ttotal: 4m 11s\tremaining: 6m 36s\n",
      "1554:\ttest: 0.7119126\tbest: 0.7119126 (1554)\ttotal: 4m 12s\tremaining: 6m 36s\n",
      "1555:\ttest: 0.7119131\tbest: 0.7119131 (1555)\ttotal: 4m 12s\tremaining: 6m 36s\n",
      "1556:\ttest: 0.7119160\tbest: 0.7119160 (1556)\ttotal: 4m 12s\tremaining: 6m 36s\n",
      "1557:\ttest: 0.7119213\tbest: 0.7119213 (1557)\ttotal: 4m 12s\tremaining: 6m 35s\n",
      "1558:\ttest: 0.7119217\tbest: 0.7119217 (1558)\ttotal: 4m 12s\tremaining: 6m 35s\n",
      "1559:\ttest: 0.7119228\tbest: 0.7119228 (1559)\ttotal: 4m 12s\tremaining: 6m 35s\n",
      "1560:\ttest: 0.7119249\tbest: 0.7119249 (1560)\ttotal: 4m 13s\tremaining: 6m 35s\n",
      "1561:\ttest: 0.7119264\tbest: 0.7119264 (1561)\ttotal: 4m 13s\tremaining: 6m 35s\n",
      "1562:\ttest: 0.7119303\tbest: 0.7119303 (1562)\ttotal: 4m 13s\tremaining: 6m 35s\n",
      "1563:\ttest: 0.7119339\tbest: 0.7119339 (1563)\ttotal: 4m 13s\tremaining: 6m 35s\n",
      "1564:\ttest: 0.7119340\tbest: 0.7119340 (1564)\ttotal: 4m 13s\tremaining: 6m 34s\n",
      "1565:\ttest: 0.7119340\tbest: 0.7119340 (1564)\ttotal: 4m 13s\tremaining: 6m 34s\n",
      "1566:\ttest: 0.7119361\tbest: 0.7119361 (1566)\ttotal: 4m 14s\tremaining: 6m 34s\n",
      "1567:\ttest: 0.7119382\tbest: 0.7119382 (1567)\ttotal: 4m 14s\tremaining: 6m 34s\n",
      "1568:\ttest: 0.7119413\tbest: 0.7119413 (1568)\ttotal: 4m 14s\tremaining: 6m 34s\n",
      "1569:\ttest: 0.7119432\tbest: 0.7119432 (1569)\ttotal: 4m 14s\tremaining: 6m 34s\n",
      "1570:\ttest: 0.7119467\tbest: 0.7119467 (1570)\ttotal: 4m 14s\tremaining: 6m 33s\n",
      "1571:\ttest: 0.7119450\tbest: 0.7119467 (1570)\ttotal: 4m 14s\tremaining: 6m 33s\n",
      "1572:\ttest: 0.7119462\tbest: 0.7119467 (1570)\ttotal: 4m 15s\tremaining: 6m 33s\n",
      "1573:\ttest: 0.7119470\tbest: 0.7119470 (1573)\ttotal: 4m 15s\tremaining: 6m 33s\n",
      "1574:\ttest: 0.7119458\tbest: 0.7119470 (1573)\ttotal: 4m 15s\tremaining: 6m 33s\n",
      "1575:\ttest: 0.7119464\tbest: 0.7119470 (1573)\ttotal: 4m 15s\tremaining: 6m 33s\n",
      "1576:\ttest: 0.7119447\tbest: 0.7119470 (1573)\ttotal: 4m 15s\tremaining: 6m 32s\n",
      "1577:\ttest: 0.7119467\tbest: 0.7119470 (1573)\ttotal: 4m 15s\tremaining: 6m 32s\n",
      "1578:\ttest: 0.7119477\tbest: 0.7119477 (1578)\ttotal: 4m 16s\tremaining: 6m 32s\n",
      "1579:\ttest: 0.7119507\tbest: 0.7119507 (1579)\ttotal: 4m 16s\tremaining: 6m 32s\n",
      "1580:\ttest: 0.7119510\tbest: 0.7119510 (1580)\ttotal: 4m 16s\tremaining: 6m 32s\n",
      "1581:\ttest: 0.7119501\tbest: 0.7119510 (1580)\ttotal: 4m 16s\tremaining: 6m 32s\n",
      "1582:\ttest: 0.7119504\tbest: 0.7119510 (1580)\ttotal: 4m 16s\tremaining: 6m 31s\n",
      "1583:\ttest: 0.7119556\tbest: 0.7119556 (1583)\ttotal: 4m 16s\tremaining: 6m 31s\n",
      "1584:\ttest: 0.7119639\tbest: 0.7119639 (1584)\ttotal: 4m 17s\tremaining: 6m 31s\n",
      "1585:\ttest: 0.7119642\tbest: 0.7119642 (1585)\ttotal: 4m 17s\tremaining: 6m 31s\n",
      "1586:\ttest: 0.7119657\tbest: 0.7119657 (1586)\ttotal: 4m 17s\tremaining: 6m 31s\n",
      "1587:\ttest: 0.7119673\tbest: 0.7119673 (1587)\ttotal: 4m 17s\tremaining: 6m 31s\n",
      "1588:\ttest: 0.7119654\tbest: 0.7119673 (1587)\ttotal: 4m 17s\tremaining: 6m 30s\n",
      "1589:\ttest: 0.7119640\tbest: 0.7119673 (1587)\ttotal: 4m 17s\tremaining: 6m 30s\n",
      "1590:\ttest: 0.7119695\tbest: 0.7119695 (1590)\ttotal: 4m 17s\tremaining: 6m 30s\n",
      "1591:\ttest: 0.7119689\tbest: 0.7119695 (1590)\ttotal: 4m 18s\tremaining: 6m 30s\n",
      "1592:\ttest: 0.7119667\tbest: 0.7119695 (1590)\ttotal: 4m 18s\tremaining: 6m 30s\n",
      "1593:\ttest: 0.7119704\tbest: 0.7119704 (1593)\ttotal: 4m 18s\tremaining: 6m 30s\n",
      "1594:\ttest: 0.7119725\tbest: 0.7119725 (1594)\ttotal: 4m 18s\tremaining: 6m 29s\n",
      "1595:\ttest: 0.7119716\tbest: 0.7119725 (1594)\ttotal: 4m 18s\tremaining: 6m 29s\n",
      "1596:\ttest: 0.7119730\tbest: 0.7119730 (1596)\ttotal: 4m 18s\tremaining: 6m 29s\n",
      "1597:\ttest: 0.7119742\tbest: 0.7119742 (1597)\ttotal: 4m 19s\tremaining: 6m 29s\n",
      "1598:\ttest: 0.7119756\tbest: 0.7119756 (1598)\ttotal: 4m 19s\tremaining: 6m 29s\n",
      "1599:\ttest: 0.7119766\tbest: 0.7119766 (1599)\ttotal: 4m 19s\tremaining: 6m 29s\n",
      "1600:\ttest: 0.7119763\tbest: 0.7119766 (1599)\ttotal: 4m 19s\tremaining: 6m 29s\n",
      "1601:\ttest: 0.7119807\tbest: 0.7119807 (1601)\ttotal: 4m 19s\tremaining: 6m 28s\n",
      "1602:\ttest: 0.7119830\tbest: 0.7119830 (1602)\ttotal: 4m 19s\tremaining: 6m 28s\n",
      "1603:\ttest: 0.7119879\tbest: 0.7119879 (1603)\ttotal: 4m 20s\tremaining: 6m 28s\n",
      "1604:\ttest: 0.7119859\tbest: 0.7119879 (1603)\ttotal: 4m 20s\tremaining: 6m 28s\n",
      "1605:\ttest: 0.7119799\tbest: 0.7119879 (1603)\ttotal: 4m 20s\tremaining: 6m 28s\n",
      "1606:\ttest: 0.7119793\tbest: 0.7119879 (1603)\ttotal: 4m 20s\tremaining: 6m 28s\n",
      "1607:\ttest: 0.7119854\tbest: 0.7119879 (1603)\ttotal: 4m 20s\tremaining: 6m 27s\n",
      "1608:\ttest: 0.7119847\tbest: 0.7119879 (1603)\ttotal: 4m 21s\tremaining: 6m 27s\n",
      "1609:\ttest: 0.7119834\tbest: 0.7119879 (1603)\ttotal: 4m 21s\tremaining: 6m 27s\n",
      "1610:\ttest: 0.7119799\tbest: 0.7119879 (1603)\ttotal: 4m 21s\tremaining: 6m 27s\n",
      "1611:\ttest: 0.7119797\tbest: 0.7119879 (1603)\ttotal: 4m 21s\tremaining: 6m 27s\n",
      "1612:\ttest: 0.7119797\tbest: 0.7119879 (1603)\ttotal: 4m 21s\tremaining: 6m 27s\n",
      "1613:\ttest: 0.7119802\tbest: 0.7119879 (1603)\ttotal: 4m 21s\tremaining: 6m 27s\n",
      "1614:\ttest: 0.7119795\tbest: 0.7119879 (1603)\ttotal: 4m 22s\tremaining: 6m 27s\n",
      "1615:\ttest: 0.7119819\tbest: 0.7119879 (1603)\ttotal: 4m 22s\tremaining: 6m 26s\n",
      "1616:\ttest: 0.7119806\tbest: 0.7119879 (1603)\ttotal: 4m 22s\tremaining: 6m 26s\n",
      "1617:\ttest: 0.7119822\tbest: 0.7119879 (1603)\ttotal: 4m 22s\tremaining: 6m 26s\n",
      "1618:\ttest: 0.7119812\tbest: 0.7119879 (1603)\ttotal: 4m 22s\tremaining: 6m 26s\n",
      "1619:\ttest: 0.7119799\tbest: 0.7119879 (1603)\ttotal: 4m 22s\tremaining: 6m 26s\n",
      "1620:\ttest: 0.7119834\tbest: 0.7119879 (1603)\ttotal: 4m 23s\tremaining: 6m 26s\n",
      "1621:\ttest: 0.7119836\tbest: 0.7119879 (1603)\ttotal: 4m 23s\tremaining: 6m 25s\n",
      "1622:\ttest: 0.7119830\tbest: 0.7119879 (1603)\ttotal: 4m 23s\tremaining: 6m 25s\n",
      "1623:\ttest: 0.7119869\tbest: 0.7119879 (1603)\ttotal: 4m 23s\tremaining: 6m 25s\n",
      "1624:\ttest: 0.7119842\tbest: 0.7119879 (1603)\ttotal: 4m 23s\tremaining: 6m 25s\n",
      "1625:\ttest: 0.7119878\tbest: 0.7119879 (1603)\ttotal: 4m 23s\tremaining: 6m 25s\n",
      "1626:\ttest: 0.7119927\tbest: 0.7119927 (1626)\ttotal: 4m 24s\tremaining: 6m 25s\n",
      "1627:\ttest: 0.7119968\tbest: 0.7119968 (1627)\ttotal: 4m 24s\tremaining: 6m 25s\n",
      "1628:\ttest: 0.7119992\tbest: 0.7119992 (1628)\ttotal: 4m 24s\tremaining: 6m 24s\n",
      "1629:\ttest: 0.7120020\tbest: 0.7120020 (1629)\ttotal: 4m 24s\tremaining: 6m 24s\n",
      "1630:\ttest: 0.7120007\tbest: 0.7120020 (1629)\ttotal: 4m 24s\tremaining: 6m 24s\n",
      "1631:\ttest: 0.7120036\tbest: 0.7120036 (1631)\ttotal: 4m 24s\tremaining: 6m 24s\n",
      "1632:\ttest: 0.7120072\tbest: 0.7120072 (1632)\ttotal: 4m 25s\tremaining: 6m 24s\n",
      "1633:\ttest: 0.7120061\tbest: 0.7120072 (1632)\ttotal: 4m 25s\tremaining: 6m 24s\n",
      "1634:\ttest: 0.7120082\tbest: 0.7120082 (1634)\ttotal: 4m 25s\tremaining: 6m 23s\n",
      "1635:\ttest: 0.7120069\tbest: 0.7120082 (1634)\ttotal: 4m 25s\tremaining: 6m 23s\n",
      "1636:\ttest: 0.7120120\tbest: 0.7120120 (1636)\ttotal: 4m 25s\tremaining: 6m 23s\n",
      "1637:\ttest: 0.7120123\tbest: 0.7120123 (1637)\ttotal: 4m 25s\tremaining: 6m 23s\n",
      "1638:\ttest: 0.7120146\tbest: 0.7120146 (1638)\ttotal: 4m 26s\tremaining: 6m 23s\n",
      "1639:\ttest: 0.7120150\tbest: 0.7120150 (1639)\ttotal: 4m 26s\tremaining: 6m 23s\n",
      "1640:\ttest: 0.7120169\tbest: 0.7120169 (1640)\ttotal: 4m 26s\tremaining: 6m 22s\n"
     ]
    },
    {
     "name": "stdout",
     "output_type": "stream",
     "text": [
      "1641:\ttest: 0.7120229\tbest: 0.7120229 (1641)\ttotal: 4m 26s\tremaining: 6m 22s\n",
      "1642:\ttest: 0.7120235\tbest: 0.7120235 (1642)\ttotal: 4m 26s\tremaining: 6m 22s\n",
      "1643:\ttest: 0.7120251\tbest: 0.7120251 (1643)\ttotal: 4m 26s\tremaining: 6m 22s\n",
      "1644:\ttest: 0.7120259\tbest: 0.7120259 (1644)\ttotal: 4m 27s\tremaining: 6m 22s\n",
      "1645:\ttest: 0.7120275\tbest: 0.7120275 (1645)\ttotal: 4m 27s\tremaining: 6m 22s\n",
      "1646:\ttest: 0.7120278\tbest: 0.7120278 (1646)\ttotal: 4m 27s\tremaining: 6m 22s\n",
      "1647:\ttest: 0.7120322\tbest: 0.7120322 (1647)\ttotal: 4m 27s\tremaining: 6m 21s\n",
      "1648:\ttest: 0.7120338\tbest: 0.7120338 (1648)\ttotal: 4m 27s\tremaining: 6m 21s\n",
      "1649:\ttest: 0.7120360\tbest: 0.7120360 (1649)\ttotal: 4m 27s\tremaining: 6m 21s\n",
      "1650:\ttest: 0.7120359\tbest: 0.7120360 (1649)\ttotal: 4m 28s\tremaining: 6m 21s\n",
      "1651:\ttest: 0.7120383\tbest: 0.7120383 (1651)\ttotal: 4m 28s\tremaining: 6m 21s\n",
      "1652:\ttest: 0.7120415\tbest: 0.7120415 (1652)\ttotal: 4m 28s\tremaining: 6m 21s\n",
      "1653:\ttest: 0.7120418\tbest: 0.7120418 (1653)\ttotal: 4m 28s\tremaining: 6m 20s\n",
      "1654:\ttest: 0.7120461\tbest: 0.7120461 (1654)\ttotal: 4m 28s\tremaining: 6m 20s\n",
      "1655:\ttest: 0.7120481\tbest: 0.7120481 (1655)\ttotal: 4m 28s\tremaining: 6m 20s\n",
      "1656:\ttest: 0.7120489\tbest: 0.7120489 (1656)\ttotal: 4m 29s\tremaining: 6m 20s\n",
      "1657:\ttest: 0.7120495\tbest: 0.7120495 (1657)\ttotal: 4m 29s\tremaining: 6m 20s\n",
      "1658:\ttest: 0.7120486\tbest: 0.7120495 (1657)\ttotal: 4m 29s\tremaining: 6m 20s\n",
      "1659:\ttest: 0.7120497\tbest: 0.7120497 (1659)\ttotal: 4m 29s\tremaining: 6m 19s\n",
      "1660:\ttest: 0.7120490\tbest: 0.7120497 (1659)\ttotal: 4m 29s\tremaining: 6m 19s\n",
      "1661:\ttest: 0.7120536\tbest: 0.7120536 (1661)\ttotal: 4m 29s\tremaining: 6m 19s\n",
      "1662:\ttest: 0.7120575\tbest: 0.7120575 (1662)\ttotal: 4m 30s\tremaining: 6m 19s\n",
      "1663:\ttest: 0.7120553\tbest: 0.7120575 (1662)\ttotal: 4m 30s\tremaining: 6m 19s\n",
      "1664:\ttest: 0.7120519\tbest: 0.7120575 (1662)\ttotal: 4m 30s\tremaining: 6m 19s\n",
      "1665:\ttest: 0.7120508\tbest: 0.7120575 (1662)\ttotal: 4m 30s\tremaining: 6m 19s\n",
      "1666:\ttest: 0.7120511\tbest: 0.7120575 (1662)\ttotal: 4m 30s\tremaining: 6m 18s\n",
      "1667:\ttest: 0.7120506\tbest: 0.7120575 (1662)\ttotal: 4m 30s\tremaining: 6m 18s\n",
      "1668:\ttest: 0.7120524\tbest: 0.7120575 (1662)\ttotal: 4m 31s\tremaining: 6m 18s\n",
      "1669:\ttest: 0.7120533\tbest: 0.7120575 (1662)\ttotal: 4m 31s\tremaining: 6m 18s\n",
      "1670:\ttest: 0.7120549\tbest: 0.7120575 (1662)\ttotal: 4m 31s\tremaining: 6m 18s\n",
      "1671:\ttest: 0.7120584\tbest: 0.7120584 (1671)\ttotal: 4m 31s\tremaining: 6m 18s\n",
      "1672:\ttest: 0.7120612\tbest: 0.7120612 (1672)\ttotal: 4m 31s\tremaining: 6m 17s\n",
      "1673:\ttest: 0.7120621\tbest: 0.7120621 (1673)\ttotal: 4m 31s\tremaining: 6m 17s\n",
      "1674:\ttest: 0.7120602\tbest: 0.7120621 (1673)\ttotal: 4m 32s\tremaining: 6m 17s\n",
      "1675:\ttest: 0.7120606\tbest: 0.7120621 (1673)\ttotal: 4m 32s\tremaining: 6m 17s\n",
      "1676:\ttest: 0.7120627\tbest: 0.7120627 (1676)\ttotal: 4m 32s\tremaining: 6m 17s\n",
      "1677:\ttest: 0.7120664\tbest: 0.7120664 (1677)\ttotal: 4m 32s\tremaining: 6m 17s\n",
      "1678:\ttest: 0.7120678\tbest: 0.7120678 (1678)\ttotal: 4m 32s\tremaining: 6m 16s\n",
      "1679:\ttest: 0.7120694\tbest: 0.7120694 (1679)\ttotal: 4m 32s\tremaining: 6m 16s\n",
      "1680:\ttest: 0.7120691\tbest: 0.7120694 (1679)\ttotal: 4m 32s\tremaining: 6m 16s\n",
      "1681:\ttest: 0.7120762\tbest: 0.7120762 (1681)\ttotal: 4m 33s\tremaining: 6m 16s\n",
      "1682:\ttest: 0.7120785\tbest: 0.7120785 (1682)\ttotal: 4m 33s\tremaining: 6m 16s\n",
      "1683:\ttest: 0.7120829\tbest: 0.7120829 (1683)\ttotal: 4m 33s\tremaining: 6m 16s\n",
      "1684:\ttest: 0.7120829\tbest: 0.7120829 (1683)\ttotal: 4m 33s\tremaining: 6m 15s\n",
      "1685:\ttest: 0.7120823\tbest: 0.7120829 (1683)\ttotal: 4m 33s\tremaining: 6m 15s\n",
      "1686:\ttest: 0.7120822\tbest: 0.7120829 (1683)\ttotal: 4m 33s\tremaining: 6m 15s\n",
      "1687:\ttest: 0.7120817\tbest: 0.7120829 (1683)\ttotal: 4m 34s\tremaining: 6m 15s\n",
      "1688:\ttest: 0.7120836\tbest: 0.7120836 (1688)\ttotal: 4m 34s\tremaining: 6m 15s\n",
      "1689:\ttest: 0.7120830\tbest: 0.7120836 (1688)\ttotal: 4m 34s\tremaining: 6m 15s\n",
      "1690:\ttest: 0.7120848\tbest: 0.7120848 (1690)\ttotal: 4m 34s\tremaining: 6m 14s\n",
      "1691:\ttest: 0.7120840\tbest: 0.7120848 (1690)\ttotal: 4m 34s\tremaining: 6m 14s\n",
      "1692:\ttest: 0.7120818\tbest: 0.7120848 (1690)\ttotal: 4m 34s\tremaining: 6m 14s\n",
      "1693:\ttest: 0.7120810\tbest: 0.7120848 (1690)\ttotal: 4m 35s\tremaining: 6m 14s\n",
      "1694:\ttest: 0.7120810\tbest: 0.7120848 (1690)\ttotal: 4m 35s\tremaining: 6m 14s\n",
      "1695:\ttest: 0.7120820\tbest: 0.7120848 (1690)\ttotal: 4m 35s\tremaining: 6m 14s\n",
      "1696:\ttest: 0.7120833\tbest: 0.7120848 (1690)\ttotal: 4m 35s\tremaining: 6m 13s\n",
      "1697:\ttest: 0.7120869\tbest: 0.7120869 (1697)\ttotal: 4m 35s\tremaining: 6m 13s\n",
      "1698:\ttest: 0.7120906\tbest: 0.7120906 (1698)\ttotal: 4m 35s\tremaining: 6m 13s\n",
      "1699:\ttest: 0.7120954\tbest: 0.7120954 (1699)\ttotal: 4m 36s\tremaining: 6m 13s\n",
      "1700:\ttest: 0.7120944\tbest: 0.7120954 (1699)\ttotal: 4m 36s\tremaining: 6m 13s\n",
      "1701:\ttest: 0.7120955\tbest: 0.7120955 (1701)\ttotal: 4m 36s\tremaining: 6m 13s\n",
      "1702:\ttest: 0.7120962\tbest: 0.7120962 (1702)\ttotal: 4m 36s\tremaining: 6m 12s\n",
      "1703:\ttest: 0.7120959\tbest: 0.7120962 (1702)\ttotal: 4m 36s\tremaining: 6m 12s\n",
      "1704:\ttest: 0.7120958\tbest: 0.7120962 (1702)\ttotal: 4m 36s\tremaining: 6m 12s\n",
      "1705:\ttest: 0.7120985\tbest: 0.7120985 (1705)\ttotal: 4m 37s\tremaining: 6m 12s\n",
      "1706:\ttest: 0.7120988\tbest: 0.7120988 (1706)\ttotal: 4m 37s\tremaining: 6m 12s\n",
      "1707:\ttest: 0.7120997\tbest: 0.7120997 (1707)\ttotal: 4m 37s\tremaining: 6m 12s\n",
      "1708:\ttest: 0.7121002\tbest: 0.7121002 (1708)\ttotal: 4m 37s\tremaining: 6m 12s\n",
      "1709:\ttest: 0.7120985\tbest: 0.7121002 (1708)\ttotal: 4m 37s\tremaining: 6m 11s\n",
      "1710:\ttest: 0.7120979\tbest: 0.7121002 (1708)\ttotal: 4m 37s\tremaining: 6m 11s\n",
      "1711:\ttest: 0.7121027\tbest: 0.7121027 (1711)\ttotal: 4m 37s\tremaining: 6m 11s\n",
      "1712:\ttest: 0.7121035\tbest: 0.7121035 (1712)\ttotal: 4m 38s\tremaining: 6m 11s\n",
      "1713:\ttest: 0.7121019\tbest: 0.7121035 (1712)\ttotal: 4m 38s\tremaining: 6m 11s\n",
      "1714:\ttest: 0.7121002\tbest: 0.7121035 (1712)\ttotal: 4m 38s\tremaining: 6m 11s\n",
      "1715:\ttest: 0.7120992\tbest: 0.7121035 (1712)\ttotal: 4m 38s\tremaining: 6m 10s\n",
      "1716:\ttest: 0.7120990\tbest: 0.7121035 (1712)\ttotal: 4m 38s\tremaining: 6m 10s\n",
      "1717:\ttest: 0.7120983\tbest: 0.7121035 (1712)\ttotal: 4m 38s\tremaining: 6m 10s\n",
      "1718:\ttest: 0.7120976\tbest: 0.7121035 (1712)\ttotal: 4m 39s\tremaining: 6m 10s\n",
      "1719:\ttest: 0.7120979\tbest: 0.7121035 (1712)\ttotal: 4m 39s\tremaining: 6m 10s\n",
      "1720:\ttest: 0.7121003\tbest: 0.7121035 (1712)\ttotal: 4m 39s\tremaining: 6m 10s\n",
      "1721:\ttest: 0.7120969\tbest: 0.7121035 (1712)\ttotal: 4m 39s\tremaining: 6m 9s\n",
      "1722:\ttest: 0.7120932\tbest: 0.7121035 (1712)\ttotal: 4m 39s\tremaining: 6m 9s\n",
      "1723:\ttest: 0.7120895\tbest: 0.7121035 (1712)\ttotal: 4m 39s\tremaining: 6m 9s\n",
      "1724:\ttest: 0.7120890\tbest: 0.7121035 (1712)\ttotal: 4m 40s\tremaining: 6m 9s\n",
      "1725:\ttest: 0.7120888\tbest: 0.7121035 (1712)\ttotal: 4m 40s\tremaining: 6m 9s\n",
      "1726:\ttest: 0.7120881\tbest: 0.7121035 (1712)\ttotal: 4m 40s\tremaining: 6m 9s\n",
      "1727:\ttest: 0.7120882\tbest: 0.7121035 (1712)\ttotal: 4m 40s\tremaining: 6m 8s\n",
      "1728:\ttest: 0.7120880\tbest: 0.7121035 (1712)\ttotal: 4m 40s\tremaining: 6m 8s\n",
      "1729:\ttest: 0.7120864\tbest: 0.7121035 (1712)\ttotal: 4m 40s\tremaining: 6m 8s\n",
      "1730:\ttest: 0.7120881\tbest: 0.7121035 (1712)\ttotal: 4m 41s\tremaining: 6m 8s\n",
      "1731:\ttest: 0.7120889\tbest: 0.7121035 (1712)\ttotal: 4m 41s\tremaining: 6m 8s\n",
      "1732:\ttest: 0.7120899\tbest: 0.7121035 (1712)\ttotal: 4m 41s\tremaining: 6m 8s\n",
      "1733:\ttest: 0.7120901\tbest: 0.7121035 (1712)\ttotal: 4m 41s\tremaining: 6m 7s\n",
      "1734:\ttest: 0.7120929\tbest: 0.7121035 (1712)\ttotal: 4m 41s\tremaining: 6m 7s\n",
      "1735:\ttest: 0.7120926\tbest: 0.7121035 (1712)\ttotal: 4m 41s\tremaining: 6m 7s\n",
      "1736:\ttest: 0.7120929\tbest: 0.7121035 (1712)\ttotal: 4m 41s\tremaining: 6m 7s\n",
      "1737:\ttest: 0.7120928\tbest: 0.7121035 (1712)\ttotal: 4m 42s\tremaining: 6m 7s\n",
      "1738:\ttest: 0.7120955\tbest: 0.7121035 (1712)\ttotal: 4m 42s\tremaining: 6m 6s\n",
      "1739:\ttest: 0.7120971\tbest: 0.7121035 (1712)\ttotal: 4m 42s\tremaining: 6m 6s\n",
      "1740:\ttest: 0.7121007\tbest: 0.7121035 (1712)\ttotal: 4m 42s\tremaining: 6m 6s\n",
      "1741:\ttest: 0.7121002\tbest: 0.7121035 (1712)\ttotal: 4m 42s\tremaining: 6m 6s\n",
      "1742:\ttest: 0.7121006\tbest: 0.7121035 (1712)\ttotal: 4m 42s\tremaining: 6m 6s\n",
      "1743:\ttest: 0.7121008\tbest: 0.7121035 (1712)\ttotal: 4m 43s\tremaining: 6m 6s\n",
      "1744:\ttest: 0.7121083\tbest: 0.7121083 (1744)\ttotal: 4m 43s\tremaining: 6m 6s\n",
      "1745:\ttest: 0.7121060\tbest: 0.7121083 (1744)\ttotal: 4m 43s\tremaining: 6m 5s\n",
      "1746:\ttest: 0.7121166\tbest: 0.7121166 (1746)\ttotal: 4m 43s\tremaining: 6m 5s\n",
      "1747:\ttest: 0.7121159\tbest: 0.7121166 (1746)\ttotal: 4m 43s\tremaining: 6m 5s\n"
     ]
    },
    {
     "name": "stdout",
     "output_type": "stream",
     "text": [
      "1748:\ttest: 0.7121167\tbest: 0.7121167 (1748)\ttotal: 4m 44s\tremaining: 6m 5s\n",
      "1749:\ttest: 0.7121139\tbest: 0.7121167 (1748)\ttotal: 4m 44s\tremaining: 6m 5s\n",
      "1750:\ttest: 0.7121135\tbest: 0.7121167 (1748)\ttotal: 4m 44s\tremaining: 6m 5s\n",
      "1751:\ttest: 0.7121110\tbest: 0.7121167 (1748)\ttotal: 4m 44s\tremaining: 6m 4s\n",
      "1752:\ttest: 0.7121133\tbest: 0.7121167 (1748)\ttotal: 4m 44s\tremaining: 6m 4s\n",
      "1753:\ttest: 0.7121104\tbest: 0.7121167 (1748)\ttotal: 4m 44s\tremaining: 6m 4s\n",
      "1754:\ttest: 0.7121102\tbest: 0.7121167 (1748)\ttotal: 4m 44s\tremaining: 6m 4s\n",
      "1755:\ttest: 0.7121105\tbest: 0.7121167 (1748)\ttotal: 4m 45s\tremaining: 6m 4s\n",
      "1756:\ttest: 0.7121109\tbest: 0.7121167 (1748)\ttotal: 4m 45s\tremaining: 6m 4s\n",
      "1757:\ttest: 0.7121096\tbest: 0.7121167 (1748)\ttotal: 4m 45s\tremaining: 6m 4s\n",
      "1758:\ttest: 0.7121124\tbest: 0.7121167 (1748)\ttotal: 4m 45s\tremaining: 6m 3s\n",
      "1759:\ttest: 0.7121125\tbest: 0.7121167 (1748)\ttotal: 4m 45s\tremaining: 6m 3s\n",
      "1760:\ttest: 0.7121177\tbest: 0.7121177 (1760)\ttotal: 4m 45s\tremaining: 6m 3s\n",
      "1761:\ttest: 0.7121144\tbest: 0.7121177 (1760)\ttotal: 4m 46s\tremaining: 6m 3s\n",
      "1762:\ttest: 0.7121117\tbest: 0.7121177 (1760)\ttotal: 4m 46s\tremaining: 6m 3s\n",
      "1763:\ttest: 0.7121091\tbest: 0.7121177 (1760)\ttotal: 4m 46s\tremaining: 6m 3s\n",
      "1764:\ttest: 0.7121111\tbest: 0.7121177 (1760)\ttotal: 4m 46s\tremaining: 6m 2s\n",
      "1765:\ttest: 0.7121138\tbest: 0.7121177 (1760)\ttotal: 4m 46s\tremaining: 6m 2s\n",
      "1766:\ttest: 0.7121146\tbest: 0.7121177 (1760)\ttotal: 4m 46s\tremaining: 6m 2s\n",
      "1767:\ttest: 0.7121154\tbest: 0.7121177 (1760)\ttotal: 4m 47s\tremaining: 6m 2s\n",
      "1768:\ttest: 0.7121151\tbest: 0.7121177 (1760)\ttotal: 4m 47s\tremaining: 6m 2s\n",
      "1769:\ttest: 0.7121166\tbest: 0.7121177 (1760)\ttotal: 4m 47s\tremaining: 6m 2s\n",
      "1770:\ttest: 0.7121154\tbest: 0.7121177 (1760)\ttotal: 4m 47s\tremaining: 6m 1s\n",
      "1771:\ttest: 0.7121170\tbest: 0.7121177 (1760)\ttotal: 4m 47s\tremaining: 6m 1s\n",
      "1772:\ttest: 0.7121164\tbest: 0.7121177 (1760)\ttotal: 4m 47s\tremaining: 6m 1s\n",
      "1773:\ttest: 0.7121146\tbest: 0.7121177 (1760)\ttotal: 4m 48s\tremaining: 6m 1s\n",
      "1774:\ttest: 0.7121145\tbest: 0.7121177 (1760)\ttotal: 4m 48s\tremaining: 6m 1s\n",
      "1775:\ttest: 0.7121170\tbest: 0.7121177 (1760)\ttotal: 4m 48s\tremaining: 6m 1s\n",
      "1776:\ttest: 0.7121191\tbest: 0.7121191 (1776)\ttotal: 4m 48s\tremaining: 6m 1s\n",
      "1777:\ttest: 0.7121212\tbest: 0.7121212 (1777)\ttotal: 4m 48s\tremaining: 6m\n",
      "1778:\ttest: 0.7121185\tbest: 0.7121212 (1777)\ttotal: 4m 48s\tremaining: 6m\n",
      "1779:\ttest: 0.7121154\tbest: 0.7121212 (1777)\ttotal: 4m 49s\tremaining: 6m\n",
      "1780:\ttest: 0.7121171\tbest: 0.7121212 (1777)\ttotal: 4m 49s\tremaining: 6m\n",
      "1781:\ttest: 0.7121238\tbest: 0.7121238 (1781)\ttotal: 4m 49s\tremaining: 6m\n",
      "1782:\ttest: 0.7121233\tbest: 0.7121238 (1781)\ttotal: 4m 49s\tremaining: 6m\n",
      "1783:\ttest: 0.7121265\tbest: 0.7121265 (1783)\ttotal: 4m 49s\tremaining: 5m 59s\n",
      "1784:\ttest: 0.7121298\tbest: 0.7121298 (1784)\ttotal: 4m 49s\tremaining: 5m 59s\n",
      "1785:\ttest: 0.7121291\tbest: 0.7121298 (1784)\ttotal: 4m 50s\tremaining: 5m 59s\n",
      "1786:\ttest: 0.7121307\tbest: 0.7121307 (1786)\ttotal: 4m 50s\tremaining: 5m 59s\n",
      "1787:\ttest: 0.7121236\tbest: 0.7121307 (1786)\ttotal: 4m 50s\tremaining: 5m 59s\n",
      "1788:\ttest: 0.7121237\tbest: 0.7121307 (1786)\ttotal: 4m 50s\tremaining: 5m 59s\n",
      "1789:\ttest: 0.7121242\tbest: 0.7121307 (1786)\ttotal: 4m 50s\tremaining: 5m 59s\n",
      "1790:\ttest: 0.7121203\tbest: 0.7121307 (1786)\ttotal: 4m 50s\tremaining: 5m 58s\n",
      "1791:\ttest: 0.7121177\tbest: 0.7121307 (1786)\ttotal: 4m 51s\tremaining: 5m 58s\n",
      "1792:\ttest: 0.7121189\tbest: 0.7121307 (1786)\ttotal: 4m 51s\tremaining: 5m 58s\n",
      "1793:\ttest: 0.7121169\tbest: 0.7121307 (1786)\ttotal: 4m 51s\tremaining: 5m 58s\n",
      "1794:\ttest: 0.7121241\tbest: 0.7121307 (1786)\ttotal: 4m 51s\tremaining: 5m 58s\n",
      "1795:\ttest: 0.7121260\tbest: 0.7121307 (1786)\ttotal: 4m 51s\tremaining: 5m 58s\n",
      "1796:\ttest: 0.7121251\tbest: 0.7121307 (1786)\ttotal: 4m 51s\tremaining: 5m 57s\n",
      "1797:\ttest: 0.7121244\tbest: 0.7121307 (1786)\ttotal: 4m 52s\tremaining: 5m 57s\n",
      "1798:\ttest: 0.7121252\tbest: 0.7121307 (1786)\ttotal: 4m 52s\tremaining: 5m 57s\n",
      "1799:\ttest: 0.7121225\tbest: 0.7121307 (1786)\ttotal: 4m 52s\tremaining: 5m 57s\n",
      "1800:\ttest: 0.7121216\tbest: 0.7121307 (1786)\ttotal: 4m 52s\tremaining: 5m 57s\n",
      "1801:\ttest: 0.7121210\tbest: 0.7121307 (1786)\ttotal: 4m 52s\tremaining: 5m 57s\n",
      "1802:\ttest: 0.7121269\tbest: 0.7121307 (1786)\ttotal: 4m 52s\tremaining: 5m 56s\n",
      "1803:\ttest: 0.7121258\tbest: 0.7121307 (1786)\ttotal: 4m 53s\tremaining: 5m 56s\n",
      "1804:\ttest: 0.7121270\tbest: 0.7121307 (1786)\ttotal: 4m 53s\tremaining: 5m 56s\n",
      "1805:\ttest: 0.7121288\tbest: 0.7121307 (1786)\ttotal: 4m 53s\tremaining: 5m 56s\n",
      "1806:\ttest: 0.7121263\tbest: 0.7121307 (1786)\ttotal: 4m 53s\tremaining: 5m 56s\n",
      "1807:\ttest: 0.7121283\tbest: 0.7121307 (1786)\ttotal: 4m 53s\tremaining: 5m 56s\n",
      "1808:\ttest: 0.7121319\tbest: 0.7121319 (1808)\ttotal: 4m 53s\tremaining: 5m 55s\n",
      "1809:\ttest: 0.7121291\tbest: 0.7121319 (1808)\ttotal: 4m 54s\tremaining: 5m 55s\n",
      "1810:\ttest: 0.7121322\tbest: 0.7121322 (1810)\ttotal: 4m 54s\tremaining: 5m 55s\n",
      "1811:\ttest: 0.7121339\tbest: 0.7121339 (1811)\ttotal: 4m 54s\tremaining: 5m 55s\n",
      "1812:\ttest: 0.7121331\tbest: 0.7121339 (1811)\ttotal: 4m 54s\tremaining: 5m 55s\n",
      "1813:\ttest: 0.7121335\tbest: 0.7121339 (1811)\ttotal: 4m 54s\tremaining: 5m 55s\n",
      "1814:\ttest: 0.7121323\tbest: 0.7121339 (1811)\ttotal: 4m 54s\tremaining: 5m 54s\n",
      "1815:\ttest: 0.7121354\tbest: 0.7121354 (1815)\ttotal: 4m 55s\tremaining: 5m 54s\n",
      "1816:\ttest: 0.7121345\tbest: 0.7121354 (1815)\ttotal: 4m 55s\tremaining: 5m 54s\n",
      "1817:\ttest: 0.7121337\tbest: 0.7121354 (1815)\ttotal: 4m 55s\tremaining: 5m 54s\n",
      "1818:\ttest: 0.7121318\tbest: 0.7121354 (1815)\ttotal: 4m 55s\tremaining: 5m 54s\n",
      "1819:\ttest: 0.7121324\tbest: 0.7121354 (1815)\ttotal: 4m 55s\tremaining: 5m 54s\n",
      "1820:\ttest: 0.7121316\tbest: 0.7121354 (1815)\ttotal: 4m 55s\tremaining: 5m 53s\n",
      "1821:\ttest: 0.7121294\tbest: 0.7121354 (1815)\ttotal: 4m 55s\tremaining: 5m 53s\n",
      "1822:\ttest: 0.7121322\tbest: 0.7121354 (1815)\ttotal: 4m 56s\tremaining: 5m 53s\n",
      "1823:\ttest: 0.7121340\tbest: 0.7121354 (1815)\ttotal: 4m 56s\tremaining: 5m 53s\n",
      "1824:\ttest: 0.7121314\tbest: 0.7121354 (1815)\ttotal: 4m 56s\tremaining: 5m 53s\n",
      "1825:\ttest: 0.7121300\tbest: 0.7121354 (1815)\ttotal: 4m 56s\tremaining: 5m 53s\n",
      "1826:\ttest: 0.7121295\tbest: 0.7121354 (1815)\ttotal: 4m 56s\tremaining: 5m 53s\n",
      "1827:\ttest: 0.7121361\tbest: 0.7121361 (1827)\ttotal: 4m 56s\tremaining: 5m 52s\n",
      "1828:\ttest: 0.7121415\tbest: 0.7121415 (1828)\ttotal: 4m 57s\tremaining: 5m 52s\n",
      "1829:\ttest: 0.7121415\tbest: 0.7121415 (1828)\ttotal: 4m 57s\tremaining: 5m 52s\n",
      "1830:\ttest: 0.7121407\tbest: 0.7121415 (1828)\ttotal: 4m 57s\tremaining: 5m 52s\n",
      "1831:\ttest: 0.7121402\tbest: 0.7121415 (1828)\ttotal: 4m 57s\tremaining: 5m 52s\n",
      "1832:\ttest: 0.7121422\tbest: 0.7121422 (1832)\ttotal: 4m 57s\tremaining: 5m 52s\n",
      "1833:\ttest: 0.7121441\tbest: 0.7121441 (1833)\ttotal: 4m 57s\tremaining: 5m 51s\n",
      "1834:\ttest: 0.7121448\tbest: 0.7121448 (1834)\ttotal: 4m 58s\tremaining: 5m 51s\n",
      "1835:\ttest: 0.7121436\tbest: 0.7121448 (1834)\ttotal: 4m 58s\tremaining: 5m 51s\n",
      "1836:\ttest: 0.7121452\tbest: 0.7121452 (1836)\ttotal: 4m 58s\tremaining: 5m 51s\n",
      "1837:\ttest: 0.7121453\tbest: 0.7121453 (1837)\ttotal: 4m 58s\tremaining: 5m 51s\n",
      "1838:\ttest: 0.7121494\tbest: 0.7121494 (1838)\ttotal: 4m 58s\tremaining: 5m 51s\n",
      "1839:\ttest: 0.7121520\tbest: 0.7121520 (1839)\ttotal: 4m 59s\tremaining: 5m 51s\n",
      "1840:\ttest: 0.7121491\tbest: 0.7121520 (1839)\ttotal: 4m 59s\tremaining: 5m 50s\n",
      "1841:\ttest: 0.7121484\tbest: 0.7121520 (1839)\ttotal: 4m 59s\tremaining: 5m 50s\n",
      "1842:\ttest: 0.7121523\tbest: 0.7121523 (1842)\ttotal: 4m 59s\tremaining: 5m 50s\n",
      "1843:\ttest: 0.7121514\tbest: 0.7121523 (1842)\ttotal: 4m 59s\tremaining: 5m 50s\n",
      "1844:\ttest: 0.7121491\tbest: 0.7121523 (1842)\ttotal: 4m 59s\tremaining: 5m 50s\n",
      "1845:\ttest: 0.7121501\tbest: 0.7121523 (1842)\ttotal: 5m\tremaining: 5m 50s\n",
      "1846:\ttest: 0.7121495\tbest: 0.7121523 (1842)\ttotal: 5m\tremaining: 5m 49s\n",
      "1847:\ttest: 0.7121468\tbest: 0.7121523 (1842)\ttotal: 5m\tremaining: 5m 49s\n",
      "1848:\ttest: 0.7121451\tbest: 0.7121523 (1842)\ttotal: 5m\tremaining: 5m 49s\n",
      "1849:\ttest: 0.7121404\tbest: 0.7121523 (1842)\ttotal: 5m\tremaining: 5m 49s\n",
      "1850:\ttest: 0.7121389\tbest: 0.7121523 (1842)\ttotal: 5m\tremaining: 5m 49s\n",
      "1851:\ttest: 0.7121374\tbest: 0.7121523 (1842)\ttotal: 5m 1s\tremaining: 5m 49s\n",
      "1852:\ttest: 0.7121358\tbest: 0.7121523 (1842)\ttotal: 5m 1s\tremaining: 5m 49s\n",
      "1853:\ttest: 0.7121345\tbest: 0.7121523 (1842)\ttotal: 5m 1s\tremaining: 5m 49s\n",
      "1854:\ttest: 0.7121368\tbest: 0.7121523 (1842)\ttotal: 5m 1s\tremaining: 5m 48s\n",
      "1855:\ttest: 0.7121377\tbest: 0.7121523 (1842)\ttotal: 5m 1s\tremaining: 5m 48s\n"
     ]
    },
    {
     "name": "stdout",
     "output_type": "stream",
     "text": [
      "1856:\ttest: 0.7121409\tbest: 0.7121523 (1842)\ttotal: 5m 2s\tremaining: 5m 48s\n",
      "1857:\ttest: 0.7121405\tbest: 0.7121523 (1842)\ttotal: 5m 2s\tremaining: 5m 48s\n",
      "1858:\ttest: 0.7121454\tbest: 0.7121523 (1842)\ttotal: 5m 2s\tremaining: 5m 48s\n",
      "1859:\ttest: 0.7121423\tbest: 0.7121523 (1842)\ttotal: 5m 2s\tremaining: 5m 48s\n",
      "1860:\ttest: 0.7121401\tbest: 0.7121523 (1842)\ttotal: 5m 2s\tremaining: 5m 48s\n",
      "1861:\ttest: 0.7121404\tbest: 0.7121523 (1842)\ttotal: 5m 2s\tremaining: 5m 47s\n",
      "1862:\ttest: 0.7121429\tbest: 0.7121523 (1842)\ttotal: 5m 3s\tremaining: 5m 47s\n",
      "1863:\ttest: 0.7121429\tbest: 0.7121523 (1842)\ttotal: 5m 3s\tremaining: 5m 47s\n",
      "1864:\ttest: 0.7121466\tbest: 0.7121523 (1842)\ttotal: 5m 3s\tremaining: 5m 47s\n",
      "1865:\ttest: 0.7121473\tbest: 0.7121523 (1842)\ttotal: 5m 3s\tremaining: 5m 47s\n",
      "1866:\ttest: 0.7121481\tbest: 0.7121523 (1842)\ttotal: 5m 3s\tremaining: 5m 47s\n",
      "1867:\ttest: 0.7121442\tbest: 0.7121523 (1842)\ttotal: 5m 4s\tremaining: 5m 47s\n",
      "1868:\ttest: 0.7121456\tbest: 0.7121523 (1842)\ttotal: 5m 4s\tremaining: 5m 46s\n",
      "1869:\ttest: 0.7121436\tbest: 0.7121523 (1842)\ttotal: 5m 4s\tremaining: 5m 46s\n",
      "1870:\ttest: 0.7121458\tbest: 0.7121523 (1842)\ttotal: 5m 4s\tremaining: 5m 46s\n",
      "1871:\ttest: 0.7121474\tbest: 0.7121523 (1842)\ttotal: 5m 4s\tremaining: 5m 46s\n",
      "1872:\ttest: 0.7121504\tbest: 0.7121523 (1842)\ttotal: 5m 4s\tremaining: 5m 46s\n",
      "1873:\ttest: 0.7121485\tbest: 0.7121523 (1842)\ttotal: 5m 5s\tremaining: 5m 46s\n",
      "1874:\ttest: 0.7121540\tbest: 0.7121540 (1874)\ttotal: 5m 5s\tremaining: 5m 46s\n",
      "1875:\ttest: 0.7121538\tbest: 0.7121540 (1874)\ttotal: 5m 5s\tremaining: 5m 45s\n",
      "1876:\ttest: 0.7121542\tbest: 0.7121542 (1876)\ttotal: 5m 5s\tremaining: 5m 45s\n",
      "1877:\ttest: 0.7121522\tbest: 0.7121542 (1876)\ttotal: 5m 5s\tremaining: 5m 45s\n",
      "1878:\ttest: 0.7121515\tbest: 0.7121542 (1876)\ttotal: 5m 5s\tremaining: 5m 45s\n",
      "1879:\ttest: 0.7121505\tbest: 0.7121542 (1876)\ttotal: 5m 6s\tremaining: 5m 45s\n",
      "1880:\ttest: 0.7121519\tbest: 0.7121542 (1876)\ttotal: 5m 6s\tremaining: 5m 45s\n",
      "1881:\ttest: 0.7121508\tbest: 0.7121542 (1876)\ttotal: 5m 6s\tremaining: 5m 44s\n",
      "1882:\ttest: 0.7121538\tbest: 0.7121542 (1876)\ttotal: 5m 6s\tremaining: 5m 44s\n",
      "1883:\ttest: 0.7121511\tbest: 0.7121542 (1876)\ttotal: 5m 6s\tremaining: 5m 44s\n",
      "1884:\ttest: 0.7121529\tbest: 0.7121542 (1876)\ttotal: 5m 7s\tremaining: 5m 44s\n",
      "1885:\ttest: 0.7121552\tbest: 0.7121552 (1885)\ttotal: 5m 7s\tremaining: 5m 44s\n",
      "1886:\ttest: 0.7121558\tbest: 0.7121558 (1886)\ttotal: 5m 7s\tremaining: 5m 44s\n",
      "1887:\ttest: 0.7121591\tbest: 0.7121591 (1887)\ttotal: 5m 7s\tremaining: 5m 44s\n",
      "1888:\ttest: 0.7121599\tbest: 0.7121599 (1888)\ttotal: 5m 7s\tremaining: 5m 43s\n",
      "1889:\ttest: 0.7121612\tbest: 0.7121612 (1889)\ttotal: 5m 7s\tremaining: 5m 43s\n",
      "1890:\ttest: 0.7121643\tbest: 0.7121643 (1890)\ttotal: 5m 8s\tremaining: 5m 43s\n",
      "1891:\ttest: 0.7121618\tbest: 0.7121643 (1890)\ttotal: 5m 8s\tremaining: 5m 43s\n",
      "1892:\ttest: 0.7121646\tbest: 0.7121646 (1892)\ttotal: 5m 8s\tremaining: 5m 43s\n",
      "1893:\ttest: 0.7121616\tbest: 0.7121646 (1892)\ttotal: 5m 8s\tremaining: 5m 43s\n",
      "1894:\ttest: 0.7121588\tbest: 0.7121646 (1892)\ttotal: 5m 8s\tremaining: 5m 43s\n",
      "1895:\ttest: 0.7121574\tbest: 0.7121646 (1892)\ttotal: 5m 8s\tremaining: 5m 42s\n",
      "1896:\ttest: 0.7121568\tbest: 0.7121646 (1892)\ttotal: 5m 9s\tremaining: 5m 42s\n",
      "1897:\ttest: 0.7121548\tbest: 0.7121646 (1892)\ttotal: 5m 9s\tremaining: 5m 42s\n",
      "1898:\ttest: 0.7121564\tbest: 0.7121646 (1892)\ttotal: 5m 9s\tremaining: 5m 42s\n",
      "1899:\ttest: 0.7121572\tbest: 0.7121646 (1892)\ttotal: 5m 9s\tremaining: 5m 42s\n",
      "1900:\ttest: 0.7121559\tbest: 0.7121646 (1892)\ttotal: 5m 9s\tremaining: 5m 42s\n",
      "1901:\ttest: 0.7121564\tbest: 0.7121646 (1892)\ttotal: 5m 9s\tremaining: 5m 41s\n",
      "1902:\ttest: 0.7121576\tbest: 0.7121646 (1892)\ttotal: 5m 10s\tremaining: 5m 41s\n",
      "1903:\ttest: 0.7121581\tbest: 0.7121646 (1892)\ttotal: 5m 10s\tremaining: 5m 41s\n",
      "1904:\ttest: 0.7121627\tbest: 0.7121646 (1892)\ttotal: 5m 10s\tremaining: 5m 41s\n",
      "1905:\ttest: 0.7121612\tbest: 0.7121646 (1892)\ttotal: 5m 10s\tremaining: 5m 41s\n",
      "1906:\ttest: 0.7121610\tbest: 0.7121646 (1892)\ttotal: 5m 10s\tremaining: 5m 41s\n",
      "1907:\ttest: 0.7121601\tbest: 0.7121646 (1892)\ttotal: 5m 10s\tremaining: 5m 40s\n",
      "1908:\ttest: 0.7121588\tbest: 0.7121646 (1892)\ttotal: 5m 11s\tremaining: 5m 40s\n",
      "1909:\ttest: 0.7121521\tbest: 0.7121646 (1892)\ttotal: 5m 11s\tremaining: 5m 40s\n",
      "1910:\ttest: 0.7121510\tbest: 0.7121646 (1892)\ttotal: 5m 11s\tremaining: 5m 40s\n",
      "1911:\ttest: 0.7121513\tbest: 0.7121646 (1892)\ttotal: 5m 11s\tremaining: 5m 40s\n",
      "1912:\ttest: 0.7121526\tbest: 0.7121646 (1892)\ttotal: 5m 11s\tremaining: 5m 40s\n",
      "1913:\ttest: 0.7121576\tbest: 0.7121646 (1892)\ttotal: 5m 11s\tremaining: 5m 40s\n",
      "1914:\ttest: 0.7121597\tbest: 0.7121646 (1892)\ttotal: 5m 12s\tremaining: 5m 39s\n",
      "1915:\ttest: 0.7121620\tbest: 0.7121646 (1892)\ttotal: 5m 12s\tremaining: 5m 39s\n",
      "1916:\ttest: 0.7121585\tbest: 0.7121646 (1892)\ttotal: 5m 12s\tremaining: 5m 39s\n",
      "1917:\ttest: 0.7121568\tbest: 0.7121646 (1892)\ttotal: 5m 12s\tremaining: 5m 39s\n",
      "1918:\ttest: 0.7121593\tbest: 0.7121646 (1892)\ttotal: 5m 12s\tremaining: 5m 39s\n",
      "1919:\ttest: 0.7121595\tbest: 0.7121646 (1892)\ttotal: 5m 13s\tremaining: 5m 39s\n",
      "1920:\ttest: 0.7121589\tbest: 0.7121646 (1892)\ttotal: 5m 13s\tremaining: 5m 38s\n",
      "1921:\ttest: 0.7121575\tbest: 0.7121646 (1892)\ttotal: 5m 13s\tremaining: 5m 38s\n",
      "1922:\ttest: 0.7121579\tbest: 0.7121646 (1892)\ttotal: 5m 13s\tremaining: 5m 38s\n",
      "1923:\ttest: 0.7121571\tbest: 0.7121646 (1892)\ttotal: 5m 13s\tremaining: 5m 38s\n",
      "1924:\ttest: 0.7121602\tbest: 0.7121646 (1892)\ttotal: 5m 13s\tremaining: 5m 38s\n",
      "1925:\ttest: 0.7121606\tbest: 0.7121646 (1892)\ttotal: 5m 14s\tremaining: 5m 38s\n",
      "1926:\ttest: 0.7121619\tbest: 0.7121646 (1892)\ttotal: 5m 14s\tremaining: 5m 38s\n",
      "1927:\ttest: 0.7121609\tbest: 0.7121646 (1892)\ttotal: 5m 14s\tremaining: 5m 37s\n",
      "1928:\ttest: 0.7121620\tbest: 0.7121646 (1892)\ttotal: 5m 14s\tremaining: 5m 37s\n",
      "1929:\ttest: 0.7121633\tbest: 0.7121646 (1892)\ttotal: 5m 14s\tremaining: 5m 37s\n",
      "1930:\ttest: 0.7121672\tbest: 0.7121672 (1930)\ttotal: 5m 14s\tremaining: 5m 37s\n",
      "1931:\ttest: 0.7121726\tbest: 0.7121726 (1931)\ttotal: 5m 15s\tremaining: 5m 37s\n",
      "1932:\ttest: 0.7121736\tbest: 0.7121736 (1932)\ttotal: 5m 15s\tremaining: 5m 37s\n",
      "1933:\ttest: 0.7121780\tbest: 0.7121780 (1933)\ttotal: 5m 15s\tremaining: 5m 37s\n",
      "1934:\ttest: 0.7121748\tbest: 0.7121780 (1933)\ttotal: 5m 15s\tremaining: 5m 36s\n",
      "1935:\ttest: 0.7121743\tbest: 0.7121780 (1933)\ttotal: 5m 15s\tremaining: 5m 36s\n",
      "1936:\ttest: 0.7121738\tbest: 0.7121780 (1933)\ttotal: 5m 15s\tremaining: 5m 36s\n",
      "1937:\ttest: 0.7121727\tbest: 0.7121780 (1933)\ttotal: 5m 16s\tremaining: 5m 36s\n",
      "1938:\ttest: 0.7121746\tbest: 0.7121780 (1933)\ttotal: 5m 16s\tremaining: 5m 36s\n",
      "1939:\ttest: 0.7121772\tbest: 0.7121780 (1933)\ttotal: 5m 16s\tremaining: 5m 36s\n",
      "1940:\ttest: 0.7121800\tbest: 0.7121800 (1940)\ttotal: 5m 16s\tremaining: 5m 35s\n",
      "1941:\ttest: 0.7121790\tbest: 0.7121800 (1940)\ttotal: 5m 16s\tremaining: 5m 35s\n",
      "1942:\ttest: 0.7121803\tbest: 0.7121803 (1942)\ttotal: 5m 17s\tremaining: 5m 35s\n",
      "1943:\ttest: 0.7121777\tbest: 0.7121803 (1942)\ttotal: 5m 17s\tremaining: 5m 35s\n",
      "1944:\ttest: 0.7121771\tbest: 0.7121803 (1942)\ttotal: 5m 17s\tremaining: 5m 35s\n",
      "1945:\ttest: 0.7121795\tbest: 0.7121803 (1942)\ttotal: 5m 17s\tremaining: 5m 35s\n",
      "1946:\ttest: 0.7121781\tbest: 0.7121803 (1942)\ttotal: 5m 17s\tremaining: 5m 35s\n",
      "1947:\ttest: 0.7121779\tbest: 0.7121803 (1942)\ttotal: 5m 17s\tremaining: 5m 34s\n",
      "1948:\ttest: 0.7121786\tbest: 0.7121803 (1942)\ttotal: 5m 18s\tremaining: 5m 34s\n",
      "1949:\ttest: 0.7121786\tbest: 0.7121803 (1942)\ttotal: 5m 18s\tremaining: 5m 34s\n",
      "1950:\ttest: 0.7121809\tbest: 0.7121809 (1950)\ttotal: 5m 18s\tremaining: 5m 34s\n",
      "1951:\ttest: 0.7121860\tbest: 0.7121860 (1951)\ttotal: 5m 18s\tremaining: 5m 34s\n",
      "1952:\ttest: 0.7121858\tbest: 0.7121860 (1951)\ttotal: 5m 18s\tremaining: 5m 34s\n",
      "1953:\ttest: 0.7121847\tbest: 0.7121860 (1951)\ttotal: 5m 18s\tremaining: 5m 33s\n",
      "1954:\ttest: 0.7121837\tbest: 0.7121860 (1951)\ttotal: 5m 19s\tremaining: 5m 33s\n",
      "1955:\ttest: 0.7121866\tbest: 0.7121866 (1955)\ttotal: 5m 19s\tremaining: 5m 33s\n",
      "1956:\ttest: 0.7121866\tbest: 0.7121866 (1956)\ttotal: 5m 19s\tremaining: 5m 33s\n",
      "1957:\ttest: 0.7121892\tbest: 0.7121892 (1957)\ttotal: 5m 19s\tremaining: 5m 33s\n",
      "1958:\ttest: 0.7121887\tbest: 0.7121892 (1957)\ttotal: 5m 19s\tremaining: 5m 33s\n",
      "1959:\ttest: 0.7121928\tbest: 0.7121928 (1959)\ttotal: 5m 19s\tremaining: 5m 32s\n",
      "1960:\ttest: 0.7121925\tbest: 0.7121928 (1959)\ttotal: 5m 20s\tremaining: 5m 32s\n",
      "1961:\ttest: 0.7121938\tbest: 0.7121938 (1961)\ttotal: 5m 20s\tremaining: 5m 32s\n",
      "1962:\ttest: 0.7121938\tbest: 0.7121938 (1962)\ttotal: 5m 20s\tremaining: 5m 32s\n"
     ]
    },
    {
     "name": "stdout",
     "output_type": "stream",
     "text": [
      "1963:\ttest: 0.7121966\tbest: 0.7121966 (1963)\ttotal: 5m 20s\tremaining: 5m 32s\n",
      "1964:\ttest: 0.7121976\tbest: 0.7121976 (1964)\ttotal: 5m 20s\tremaining: 5m 32s\n",
      "1965:\ttest: 0.7121988\tbest: 0.7121988 (1965)\ttotal: 5m 20s\tremaining: 5m 32s\n",
      "1966:\ttest: 0.7122049\tbest: 0.7122049 (1966)\ttotal: 5m 21s\tremaining: 5m 31s\n",
      "1967:\ttest: 0.7122022\tbest: 0.7122049 (1966)\ttotal: 5m 21s\tremaining: 5m 31s\n",
      "1968:\ttest: 0.7122017\tbest: 0.7122049 (1966)\ttotal: 5m 21s\tremaining: 5m 31s\n",
      "1969:\ttest: 0.7122012\tbest: 0.7122049 (1966)\ttotal: 5m 21s\tremaining: 5m 31s\n",
      "1970:\ttest: 0.7122004\tbest: 0.7122049 (1966)\ttotal: 5m 21s\tremaining: 5m 31s\n",
      "1971:\ttest: 0.7122017\tbest: 0.7122049 (1966)\ttotal: 5m 21s\tremaining: 5m 31s\n",
      "1972:\ttest: 0.7121993\tbest: 0.7122049 (1966)\ttotal: 5m 22s\tremaining: 5m 30s\n",
      "1973:\ttest: 0.7122036\tbest: 0.7122049 (1966)\ttotal: 5m 22s\tremaining: 5m 30s\n",
      "1974:\ttest: 0.7122049\tbest: 0.7122049 (1974)\ttotal: 5m 22s\tremaining: 5m 30s\n",
      "1975:\ttest: 0.7122068\tbest: 0.7122068 (1975)\ttotal: 5m 22s\tremaining: 5m 30s\n",
      "1976:\ttest: 0.7122069\tbest: 0.7122069 (1976)\ttotal: 5m 22s\tremaining: 5m 30s\n",
      "1977:\ttest: 0.7122090\tbest: 0.7122090 (1977)\ttotal: 5m 22s\tremaining: 5m 30s\n",
      "1978:\ttest: 0.7122064\tbest: 0.7122090 (1977)\ttotal: 5m 23s\tremaining: 5m 29s\n",
      "1979:\ttest: 0.7122093\tbest: 0.7122093 (1979)\ttotal: 5m 23s\tremaining: 5m 29s\n",
      "1980:\ttest: 0.7122074\tbest: 0.7122093 (1979)\ttotal: 5m 23s\tremaining: 5m 29s\n",
      "1981:\ttest: 0.7122103\tbest: 0.7122103 (1981)\ttotal: 5m 23s\tremaining: 5m 29s\n",
      "1982:\ttest: 0.7122111\tbest: 0.7122111 (1982)\ttotal: 5m 23s\tremaining: 5m 29s\n",
      "1983:\ttest: 0.7122126\tbest: 0.7122126 (1983)\ttotal: 5m 23s\tremaining: 5m 29s\n",
      "1984:\ttest: 0.7122125\tbest: 0.7122126 (1983)\ttotal: 5m 23s\tremaining: 5m 28s\n",
      "1985:\ttest: 0.7122143\tbest: 0.7122143 (1985)\ttotal: 5m 24s\tremaining: 5m 28s\n",
      "1986:\ttest: 0.7122150\tbest: 0.7122150 (1986)\ttotal: 5m 24s\tremaining: 5m 28s\n",
      "1987:\ttest: 0.7122126\tbest: 0.7122150 (1986)\ttotal: 5m 24s\tremaining: 5m 28s\n",
      "1988:\ttest: 0.7122129\tbest: 0.7122150 (1986)\ttotal: 5m 24s\tremaining: 5m 28s\n",
      "1989:\ttest: 0.7122108\tbest: 0.7122150 (1986)\ttotal: 5m 24s\tremaining: 5m 28s\n",
      "1990:\ttest: 0.7122079\tbest: 0.7122150 (1986)\ttotal: 5m 24s\tremaining: 5m 27s\n",
      "1991:\ttest: 0.7122074\tbest: 0.7122150 (1986)\ttotal: 5m 25s\tremaining: 5m 27s\n",
      "1992:\ttest: 0.7122097\tbest: 0.7122150 (1986)\ttotal: 5m 25s\tremaining: 5m 27s\n",
      "1993:\ttest: 0.7122113\tbest: 0.7122150 (1986)\ttotal: 5m 25s\tremaining: 5m 27s\n",
      "1994:\ttest: 0.7122158\tbest: 0.7122158 (1994)\ttotal: 5m 25s\tremaining: 5m 27s\n",
      "1995:\ttest: 0.7122175\tbest: 0.7122175 (1995)\ttotal: 5m 25s\tremaining: 5m 27s\n",
      "1996:\ttest: 0.7122162\tbest: 0.7122175 (1995)\ttotal: 5m 25s\tremaining: 5m 26s\n",
      "1997:\ttest: 0.7122220\tbest: 0.7122220 (1997)\ttotal: 5m 26s\tremaining: 5m 26s\n",
      "1998:\ttest: 0.7122224\tbest: 0.7122224 (1998)\ttotal: 5m 26s\tremaining: 5m 26s\n",
      "1999:\ttest: 0.7122226\tbest: 0.7122226 (1999)\ttotal: 5m 26s\tremaining: 5m 26s\n",
      "2000:\ttest: 0.7122168\tbest: 0.7122226 (1999)\ttotal: 5m 26s\tremaining: 5m 26s\n",
      "2001:\ttest: 0.7122178\tbest: 0.7122226 (1999)\ttotal: 5m 26s\tremaining: 5m 26s\n",
      "2002:\ttest: 0.7122190\tbest: 0.7122226 (1999)\ttotal: 5m 26s\tremaining: 5m 25s\n",
      "2003:\ttest: 0.7122166\tbest: 0.7122226 (1999)\ttotal: 5m 27s\tremaining: 5m 25s\n",
      "2004:\ttest: 0.7122231\tbest: 0.7122231 (2004)\ttotal: 5m 27s\tremaining: 5m 25s\n",
      "2005:\ttest: 0.7122265\tbest: 0.7122265 (2005)\ttotal: 5m 27s\tremaining: 5m 25s\n",
      "2006:\ttest: 0.7122267\tbest: 0.7122267 (2006)\ttotal: 5m 27s\tremaining: 5m 25s\n",
      "2007:\ttest: 0.7122270\tbest: 0.7122270 (2007)\ttotal: 5m 27s\tremaining: 5m 25s\n",
      "2008:\ttest: 0.7122292\tbest: 0.7122292 (2008)\ttotal: 5m 27s\tremaining: 5m 25s\n",
      "2009:\ttest: 0.7122255\tbest: 0.7122292 (2008)\ttotal: 5m 28s\tremaining: 5m 24s\n",
      "2010:\ttest: 0.7122270\tbest: 0.7122292 (2008)\ttotal: 5m 28s\tremaining: 5m 24s\n",
      "2011:\ttest: 0.7122309\tbest: 0.7122309 (2011)\ttotal: 5m 28s\tremaining: 5m 24s\n",
      "2012:\ttest: 0.7122293\tbest: 0.7122309 (2011)\ttotal: 5m 28s\tremaining: 5m 24s\n",
      "2013:\ttest: 0.7122317\tbest: 0.7122317 (2013)\ttotal: 5m 28s\tremaining: 5m 24s\n",
      "2014:\ttest: 0.7122310\tbest: 0.7122317 (2013)\ttotal: 5m 28s\tremaining: 5m 24s\n",
      "2015:\ttest: 0.7122359\tbest: 0.7122359 (2015)\ttotal: 5m 29s\tremaining: 5m 23s\n",
      "2016:\ttest: 0.7122331\tbest: 0.7122359 (2015)\ttotal: 5m 29s\tremaining: 5m 23s\n",
      "2017:\ttest: 0.7122333\tbest: 0.7122359 (2015)\ttotal: 5m 29s\tremaining: 5m 23s\n",
      "2018:\ttest: 0.7122371\tbest: 0.7122371 (2018)\ttotal: 5m 29s\tremaining: 5m 23s\n",
      "2019:\ttest: 0.7122363\tbest: 0.7122371 (2018)\ttotal: 5m 29s\tremaining: 5m 23s\n",
      "2020:\ttest: 0.7122388\tbest: 0.7122388 (2020)\ttotal: 5m 29s\tremaining: 5m 23s\n",
      "2021:\ttest: 0.7122367\tbest: 0.7122388 (2020)\ttotal: 5m 30s\tremaining: 5m 22s\n",
      "2022:\ttest: 0.7122372\tbest: 0.7122388 (2020)\ttotal: 5m 30s\tremaining: 5m 22s\n",
      "2023:\ttest: 0.7122341\tbest: 0.7122388 (2020)\ttotal: 5m 30s\tremaining: 5m 22s\n",
      "2024:\ttest: 0.7122394\tbest: 0.7122394 (2024)\ttotal: 5m 30s\tremaining: 5m 22s\n",
      "2025:\ttest: 0.7122449\tbest: 0.7122449 (2025)\ttotal: 5m 30s\tremaining: 5m 22s\n",
      "2026:\ttest: 0.7122575\tbest: 0.7122575 (2026)\ttotal: 5m 30s\tremaining: 5m 22s\n",
      "2027:\ttest: 0.7122612\tbest: 0.7122612 (2027)\ttotal: 5m 31s\tremaining: 5m 21s\n",
      "2028:\ttest: 0.7122653\tbest: 0.7122653 (2028)\ttotal: 5m 31s\tremaining: 5m 21s\n",
      "2029:\ttest: 0.7122644\tbest: 0.7122653 (2028)\ttotal: 5m 31s\tremaining: 5m 21s\n",
      "2030:\ttest: 0.7122652\tbest: 0.7122653 (2028)\ttotal: 5m 31s\tremaining: 5m 21s\n",
      "2031:\ttest: 0.7122612\tbest: 0.7122653 (2028)\ttotal: 5m 31s\tremaining: 5m 21s\n",
      "2032:\ttest: 0.7122611\tbest: 0.7122653 (2028)\ttotal: 5m 31s\tremaining: 5m 21s\n",
      "2033:\ttest: 0.7122600\tbest: 0.7122653 (2028)\ttotal: 5m 32s\tremaining: 5m 21s\n",
      "2034:\ttest: 0.7122586\tbest: 0.7122653 (2028)\ttotal: 5m 32s\tremaining: 5m 20s\n",
      "2035:\ttest: 0.7122584\tbest: 0.7122653 (2028)\ttotal: 5m 32s\tremaining: 5m 20s\n",
      "2036:\ttest: 0.7122577\tbest: 0.7122653 (2028)\ttotal: 5m 32s\tremaining: 5m 20s\n",
      "2037:\ttest: 0.7122560\tbest: 0.7122653 (2028)\ttotal: 5m 32s\tremaining: 5m 20s\n",
      "2038:\ttest: 0.7122545\tbest: 0.7122653 (2028)\ttotal: 5m 33s\tremaining: 5m 20s\n",
      "2039:\ttest: 0.7122563\tbest: 0.7122653 (2028)\ttotal: 5m 33s\tremaining: 5m 20s\n",
      "2040:\ttest: 0.7122540\tbest: 0.7122653 (2028)\ttotal: 5m 33s\tremaining: 5m 19s\n",
      "2041:\ttest: 0.7122581\tbest: 0.7122653 (2028)\ttotal: 5m 33s\tremaining: 5m 19s\n",
      "2042:\ttest: 0.7122576\tbest: 0.7122653 (2028)\ttotal: 5m 33s\tremaining: 5m 19s\n",
      "2043:\ttest: 0.7122588\tbest: 0.7122653 (2028)\ttotal: 5m 33s\tremaining: 5m 19s\n",
      "2044:\ttest: 0.7122577\tbest: 0.7122653 (2028)\ttotal: 5m 34s\tremaining: 5m 19s\n",
      "2045:\ttest: 0.7122596\tbest: 0.7122653 (2028)\ttotal: 5m 34s\tremaining: 5m 19s\n",
      "2046:\ttest: 0.7122602\tbest: 0.7122653 (2028)\ttotal: 5m 34s\tremaining: 5m 19s\n",
      "2047:\ttest: 0.7122641\tbest: 0.7122653 (2028)\ttotal: 5m 34s\tremaining: 5m 18s\n",
      "2048:\ttest: 0.7122605\tbest: 0.7122653 (2028)\ttotal: 5m 34s\tremaining: 5m 18s\n",
      "2049:\ttest: 0.7122631\tbest: 0.7122653 (2028)\ttotal: 5m 34s\tremaining: 5m 18s\n",
      "2050:\ttest: 0.7122647\tbest: 0.7122653 (2028)\ttotal: 5m 35s\tremaining: 5m 18s\n",
      "2051:\ttest: 0.7122654\tbest: 0.7122654 (2051)\ttotal: 5m 35s\tremaining: 5m 18s\n",
      "2052:\ttest: 0.7122652\tbest: 0.7122654 (2051)\ttotal: 5m 35s\tremaining: 5m 18s\n",
      "2053:\ttest: 0.7122645\tbest: 0.7122654 (2051)\ttotal: 5m 35s\tremaining: 5m 17s\n",
      "2054:\ttest: 0.7122681\tbest: 0.7122681 (2054)\ttotal: 5m 35s\tremaining: 5m 17s\n",
      "2055:\ttest: 0.7122695\tbest: 0.7122695 (2055)\ttotal: 5m 35s\tremaining: 5m 17s\n",
      "2056:\ttest: 0.7122730\tbest: 0.7122730 (2056)\ttotal: 5m 36s\tremaining: 5m 17s\n",
      "2057:\ttest: 0.7122725\tbest: 0.7122730 (2056)\ttotal: 5m 36s\tremaining: 5m 17s\n",
      "2058:\ttest: 0.7122703\tbest: 0.7122730 (2056)\ttotal: 5m 36s\tremaining: 5m 17s\n",
      "2059:\ttest: 0.7122716\tbest: 0.7122730 (2056)\ttotal: 5m 36s\tremaining: 5m 17s\n",
      "2060:\ttest: 0.7122712\tbest: 0.7122730 (2056)\ttotal: 5m 36s\tremaining: 5m 16s\n",
      "2061:\ttest: 0.7122719\tbest: 0.7122730 (2056)\ttotal: 5m 36s\tremaining: 5m 16s\n",
      "2062:\ttest: 0.7122717\tbest: 0.7122730 (2056)\ttotal: 5m 37s\tremaining: 5m 16s\n",
      "2063:\ttest: 0.7122695\tbest: 0.7122730 (2056)\ttotal: 5m 37s\tremaining: 5m 16s\n",
      "2064:\ttest: 0.7122679\tbest: 0.7122730 (2056)\ttotal: 5m 37s\tremaining: 5m 16s\n",
      "2065:\ttest: 0.7122713\tbest: 0.7122730 (2056)\ttotal: 5m 37s\tremaining: 5m 16s\n",
      "2066:\ttest: 0.7122728\tbest: 0.7122730 (2056)\ttotal: 5m 37s\tremaining: 5m 15s\n",
      "2067:\ttest: 0.7122662\tbest: 0.7122730 (2056)\ttotal: 5m 38s\tremaining: 5m 15s\n",
      "2068:\ttest: 0.7122691\tbest: 0.7122730 (2056)\ttotal: 5m 38s\tremaining: 5m 15s\n",
      "2069:\ttest: 0.7122703\tbest: 0.7122730 (2056)\ttotal: 5m 38s\tremaining: 5m 15s\n"
     ]
    },
    {
     "name": "stdout",
     "output_type": "stream",
     "text": [
      "2070:\ttest: 0.7122690\tbest: 0.7122730 (2056)\ttotal: 5m 38s\tremaining: 5m 15s\n",
      "2071:\ttest: 0.7122702\tbest: 0.7122730 (2056)\ttotal: 5m 38s\tremaining: 5m 15s\n",
      "2072:\ttest: 0.7122738\tbest: 0.7122738 (2072)\ttotal: 5m 38s\tremaining: 5m 15s\n",
      "2073:\ttest: 0.7122759\tbest: 0.7122759 (2073)\ttotal: 5m 39s\tremaining: 5m 14s\n",
      "2074:\ttest: 0.7122754\tbest: 0.7122759 (2073)\ttotal: 5m 39s\tremaining: 5m 14s\n",
      "2075:\ttest: 0.7122751\tbest: 0.7122759 (2073)\ttotal: 5m 39s\tremaining: 5m 14s\n",
      "2076:\ttest: 0.7122770\tbest: 0.7122770 (2076)\ttotal: 5m 39s\tremaining: 5m 14s\n",
      "2077:\ttest: 0.7122784\tbest: 0.7122784 (2077)\ttotal: 5m 39s\tremaining: 5m 14s\n",
      "2078:\ttest: 0.7122777\tbest: 0.7122784 (2077)\ttotal: 5m 39s\tremaining: 5m 14s\n",
      "2079:\ttest: 0.7122785\tbest: 0.7122785 (2079)\ttotal: 5m 40s\tremaining: 5m 13s\n",
      "2080:\ttest: 0.7122786\tbest: 0.7122786 (2080)\ttotal: 5m 40s\tremaining: 5m 13s\n",
      "2081:\ttest: 0.7122804\tbest: 0.7122804 (2081)\ttotal: 5m 40s\tremaining: 5m 13s\n",
      "2082:\ttest: 0.7122808\tbest: 0.7122808 (2082)\ttotal: 5m 40s\tremaining: 5m 13s\n",
      "2083:\ttest: 0.7122810\tbest: 0.7122810 (2083)\ttotal: 5m 40s\tremaining: 5m 13s\n",
      "2084:\ttest: 0.7122826\tbest: 0.7122826 (2084)\ttotal: 5m 40s\tremaining: 5m 13s\n",
      "2085:\ttest: 0.7122812\tbest: 0.7122826 (2084)\ttotal: 5m 41s\tremaining: 5m 12s\n",
      "2086:\ttest: 0.7122829\tbest: 0.7122829 (2086)\ttotal: 5m 41s\tremaining: 5m 12s\n",
      "2087:\ttest: 0.7122811\tbest: 0.7122829 (2086)\ttotal: 5m 41s\tremaining: 5m 12s\n",
      "2088:\ttest: 0.7122777\tbest: 0.7122829 (2086)\ttotal: 5m 41s\tremaining: 5m 12s\n",
      "2089:\ttest: 0.7122776\tbest: 0.7122829 (2086)\ttotal: 5m 41s\tremaining: 5m 12s\n",
      "2090:\ttest: 0.7122794\tbest: 0.7122829 (2086)\ttotal: 5m 41s\tremaining: 5m 12s\n",
      "2091:\ttest: 0.7122774\tbest: 0.7122829 (2086)\ttotal: 5m 42s\tremaining: 5m 11s\n",
      "2092:\ttest: 0.7122791\tbest: 0.7122829 (2086)\ttotal: 5m 42s\tremaining: 5m 11s\n",
      "2093:\ttest: 0.7122790\tbest: 0.7122829 (2086)\ttotal: 5m 42s\tremaining: 5m 11s\n",
      "2094:\ttest: 0.7122773\tbest: 0.7122829 (2086)\ttotal: 5m 42s\tremaining: 5m 11s\n",
      "2095:\ttest: 0.7122826\tbest: 0.7122829 (2086)\ttotal: 5m 42s\tremaining: 5m 11s\n",
      "2096:\ttest: 0.7122852\tbest: 0.7122852 (2096)\ttotal: 5m 42s\tremaining: 5m 11s\n",
      "2097:\ttest: 0.7122843\tbest: 0.7122852 (2096)\ttotal: 5m 43s\tremaining: 5m 10s\n",
      "2098:\ttest: 0.7122846\tbest: 0.7122852 (2096)\ttotal: 5m 43s\tremaining: 5m 10s\n",
      "2099:\ttest: 0.7122804\tbest: 0.7122852 (2096)\ttotal: 5m 43s\tremaining: 5m 10s\n",
      "2100:\ttest: 0.7122801\tbest: 0.7122852 (2096)\ttotal: 5m 43s\tremaining: 5m 10s\n",
      "2101:\ttest: 0.7122844\tbest: 0.7122852 (2096)\ttotal: 5m 43s\tremaining: 5m 10s\n",
      "2102:\ttest: 0.7122858\tbest: 0.7122858 (2102)\ttotal: 5m 43s\tremaining: 5m 10s\n",
      "2103:\ttest: 0.7122909\tbest: 0.7122909 (2103)\ttotal: 5m 44s\tremaining: 5m 10s\n",
      "2104:\ttest: 0.7122942\tbest: 0.7122942 (2104)\ttotal: 5m 44s\tremaining: 5m 9s\n",
      "2105:\ttest: 0.7122942\tbest: 0.7122942 (2105)\ttotal: 5m 44s\tremaining: 5m 9s\n",
      "2106:\ttest: 0.7122961\tbest: 0.7122961 (2106)\ttotal: 5m 44s\tremaining: 5m 9s\n",
      "2107:\ttest: 0.7122950\tbest: 0.7122961 (2106)\ttotal: 5m 44s\tremaining: 5m 9s\n",
      "2108:\ttest: 0.7122950\tbest: 0.7122961 (2106)\ttotal: 5m 44s\tremaining: 5m 9s\n",
      "2109:\ttest: 0.7122988\tbest: 0.7122988 (2109)\ttotal: 5m 45s\tremaining: 5m 9s\n",
      "2110:\ttest: 0.7122988\tbest: 0.7122988 (2110)\ttotal: 5m 45s\tremaining: 5m 9s\n",
      "2111:\ttest: 0.7122994\tbest: 0.7122994 (2111)\ttotal: 5m 45s\tremaining: 5m 8s\n",
      "2112:\ttest: 0.7122970\tbest: 0.7122994 (2111)\ttotal: 5m 45s\tremaining: 5m 8s\n",
      "2113:\ttest: 0.7122927\tbest: 0.7122994 (2111)\ttotal: 5m 45s\tremaining: 5m 8s\n",
      "2114:\ttest: 0.7122944\tbest: 0.7122994 (2111)\ttotal: 5m 46s\tremaining: 5m 8s\n",
      "2115:\ttest: 0.7122907\tbest: 0.7122994 (2111)\ttotal: 5m 46s\tremaining: 5m 8s\n",
      "2116:\ttest: 0.7122938\tbest: 0.7122994 (2111)\ttotal: 5m 46s\tremaining: 5m 8s\n",
      "2117:\ttest: 0.7122932\tbest: 0.7122994 (2111)\ttotal: 5m 46s\tremaining: 5m 7s\n",
      "2118:\ttest: 0.7122946\tbest: 0.7122994 (2111)\ttotal: 5m 46s\tremaining: 5m 7s\n",
      "2119:\ttest: 0.7122924\tbest: 0.7122994 (2111)\ttotal: 5m 46s\tremaining: 5m 7s\n",
      "2120:\ttest: 0.7122948\tbest: 0.7122994 (2111)\ttotal: 5m 47s\tremaining: 5m 7s\n",
      "2121:\ttest: 0.7122949\tbest: 0.7122994 (2111)\ttotal: 5m 47s\tremaining: 5m 7s\n",
      "2122:\ttest: 0.7122984\tbest: 0.7122994 (2111)\ttotal: 5m 47s\tremaining: 5m 7s\n",
      "2123:\ttest: 0.7122998\tbest: 0.7122998 (2123)\ttotal: 5m 47s\tremaining: 5m 6s\n",
      "2124:\ttest: 0.7123004\tbest: 0.7123004 (2124)\ttotal: 5m 47s\tremaining: 5m 6s\n",
      "2125:\ttest: 0.7122987\tbest: 0.7123004 (2124)\ttotal: 5m 47s\tremaining: 5m 6s\n",
      "2126:\ttest: 0.7122980\tbest: 0.7123004 (2124)\ttotal: 5m 47s\tremaining: 5m 6s\n",
      "2127:\ttest: 0.7122972\tbest: 0.7123004 (2124)\ttotal: 5m 48s\tremaining: 5m 6s\n",
      "2128:\ttest: 0.7122954\tbest: 0.7123004 (2124)\ttotal: 5m 48s\tremaining: 5m 6s\n",
      "2129:\ttest: 0.7122956\tbest: 0.7123004 (2124)\ttotal: 5m 48s\tremaining: 5m 5s\n",
      "2130:\ttest: 0.7122960\tbest: 0.7123004 (2124)\ttotal: 5m 48s\tremaining: 5m 5s\n",
      "2131:\ttest: 0.7122951\tbest: 0.7123004 (2124)\ttotal: 5m 48s\tremaining: 5m 5s\n",
      "2132:\ttest: 0.7122938\tbest: 0.7123004 (2124)\ttotal: 5m 48s\tremaining: 5m 5s\n",
      "2133:\ttest: 0.7122951\tbest: 0.7123004 (2124)\ttotal: 5m 49s\tremaining: 5m 5s\n",
      "2134:\ttest: 0.7122950\tbest: 0.7123004 (2124)\ttotal: 5m 49s\tremaining: 5m 5s\n",
      "2135:\ttest: 0.7122969\tbest: 0.7123004 (2124)\ttotal: 5m 49s\tremaining: 5m 4s\n",
      "2136:\ttest: 0.7122952\tbest: 0.7123004 (2124)\ttotal: 5m 49s\tremaining: 5m 4s\n",
      "2137:\ttest: 0.7122951\tbest: 0.7123004 (2124)\ttotal: 5m 49s\tremaining: 5m 4s\n",
      "2138:\ttest: 0.7122982\tbest: 0.7123004 (2124)\ttotal: 5m 49s\tremaining: 5m 4s\n",
      "2139:\ttest: 0.7122975\tbest: 0.7123004 (2124)\ttotal: 5m 50s\tremaining: 5m 4s\n",
      "2140:\ttest: 0.7122991\tbest: 0.7123004 (2124)\ttotal: 5m 50s\tremaining: 5m 4s\n",
      "2141:\ttest: 0.7122996\tbest: 0.7123004 (2124)\ttotal: 5m 50s\tremaining: 5m 3s\n",
      "2142:\ttest: 0.7122980\tbest: 0.7123004 (2124)\ttotal: 5m 50s\tremaining: 5m 3s\n",
      "2143:\ttest: 0.7123013\tbest: 0.7123013 (2143)\ttotal: 5m 50s\tremaining: 5m 3s\n",
      "2144:\ttest: 0.7123022\tbest: 0.7123022 (2144)\ttotal: 5m 50s\tremaining: 5m 3s\n",
      "2145:\ttest: 0.7123031\tbest: 0.7123031 (2145)\ttotal: 5m 51s\tremaining: 5m 3s\n",
      "2146:\ttest: 0.7123055\tbest: 0.7123055 (2146)\ttotal: 5m 51s\tremaining: 5m 3s\n",
      "2147:\ttest: 0.7123069\tbest: 0.7123069 (2147)\ttotal: 5m 51s\tremaining: 5m 2s\n",
      "2148:\ttest: 0.7123067\tbest: 0.7123069 (2147)\ttotal: 5m 51s\tremaining: 5m 2s\n",
      "2149:\ttest: 0.7123049\tbest: 0.7123069 (2147)\ttotal: 5m 51s\tremaining: 5m 2s\n",
      "2150:\ttest: 0.7123029\tbest: 0.7123069 (2147)\ttotal: 5m 51s\tremaining: 5m 2s\n",
      "2151:\ttest: 0.7123059\tbest: 0.7123069 (2147)\ttotal: 5m 52s\tremaining: 5m 2s\n",
      "2152:\ttest: 0.7123069\tbest: 0.7123069 (2147)\ttotal: 5m 52s\tremaining: 5m 2s\n",
      "2153:\ttest: 0.7123092\tbest: 0.7123092 (2153)\ttotal: 5m 52s\tremaining: 5m 1s\n",
      "2154:\ttest: 0.7123103\tbest: 0.7123103 (2154)\ttotal: 5m 52s\tremaining: 5m 1s\n",
      "2155:\ttest: 0.7123099\tbest: 0.7123103 (2154)\ttotal: 5m 52s\tremaining: 5m 1s\n",
      "2156:\ttest: 0.7123146\tbest: 0.7123146 (2156)\ttotal: 5m 52s\tremaining: 5m 1s\n",
      "2157:\ttest: 0.7123132\tbest: 0.7123146 (2156)\ttotal: 5m 53s\tremaining: 5m 1s\n",
      "2158:\ttest: 0.7123207\tbest: 0.7123207 (2158)\ttotal: 5m 53s\tremaining: 5m 1s\n",
      "2159:\ttest: 0.7123212\tbest: 0.7123212 (2159)\ttotal: 5m 53s\tremaining: 5m 1s\n",
      "2160:\ttest: 0.7123207\tbest: 0.7123212 (2159)\ttotal: 5m 53s\tremaining: 5m\n",
      "2161:\ttest: 0.7123202\tbest: 0.7123212 (2159)\ttotal: 5m 53s\tremaining: 5m\n",
      "2162:\ttest: 0.7123268\tbest: 0.7123268 (2162)\ttotal: 5m 53s\tremaining: 5m\n",
      "2163:\ttest: 0.7123256\tbest: 0.7123268 (2162)\ttotal: 5m 54s\tremaining: 5m\n",
      "2164:\ttest: 0.7123258\tbest: 0.7123268 (2162)\ttotal: 5m 54s\tremaining: 5m\n",
      "2165:\ttest: 0.7123272\tbest: 0.7123272 (2165)\ttotal: 5m 54s\tremaining: 5m\n",
      "2166:\ttest: 0.7123294\tbest: 0.7123294 (2166)\ttotal: 5m 54s\tremaining: 4m 59s\n",
      "2167:\ttest: 0.7123309\tbest: 0.7123309 (2167)\ttotal: 5m 54s\tremaining: 4m 59s\n",
      "2168:\ttest: 0.7123269\tbest: 0.7123309 (2167)\ttotal: 5m 54s\tremaining: 4m 59s\n",
      "2169:\ttest: 0.7123284\tbest: 0.7123309 (2167)\ttotal: 5m 54s\tremaining: 4m 59s\n",
      "2170:\ttest: 0.7123266\tbest: 0.7123309 (2167)\ttotal: 5m 55s\tremaining: 4m 59s\n",
      "2171:\ttest: 0.7123223\tbest: 0.7123309 (2167)\ttotal: 5m 55s\tremaining: 4m 59s\n",
      "2172:\ttest: 0.7123262\tbest: 0.7123309 (2167)\ttotal: 5m 55s\tremaining: 4m 58s\n",
      "2173:\ttest: 0.7123230\tbest: 0.7123309 (2167)\ttotal: 5m 55s\tremaining: 4m 58s\n",
      "2174:\ttest: 0.7123200\tbest: 0.7123309 (2167)\ttotal: 5m 55s\tremaining: 4m 58s\n",
      "2175:\ttest: 0.7123207\tbest: 0.7123309 (2167)\ttotal: 5m 55s\tremaining: 4m 58s\n",
      "2176:\ttest: 0.7123207\tbest: 0.7123309 (2167)\ttotal: 5m 56s\tremaining: 4m 58s\n",
      "2177:\ttest: 0.7123222\tbest: 0.7123309 (2167)\ttotal: 5m 56s\tremaining: 4m 58s\n"
     ]
    },
    {
     "name": "stdout",
     "output_type": "stream",
     "text": [
      "2178:\ttest: 0.7123195\tbest: 0.7123309 (2167)\ttotal: 5m 56s\tremaining: 4m 57s\n",
      "2179:\ttest: 0.7123216\tbest: 0.7123309 (2167)\ttotal: 5m 56s\tremaining: 4m 57s\n",
      "2180:\ttest: 0.7123202\tbest: 0.7123309 (2167)\ttotal: 5m 56s\tremaining: 4m 57s\n",
      "2181:\ttest: 0.7123176\tbest: 0.7123309 (2167)\ttotal: 5m 56s\tremaining: 4m 57s\n",
      "2182:\ttest: 0.7123161\tbest: 0.7123309 (2167)\ttotal: 5m 57s\tremaining: 4m 57s\n",
      "2183:\ttest: 0.7123158\tbest: 0.7123309 (2167)\ttotal: 5m 57s\tremaining: 4m 57s\n",
      "2184:\ttest: 0.7123170\tbest: 0.7123309 (2167)\ttotal: 5m 57s\tremaining: 4m 56s\n",
      "2185:\ttest: 0.7123217\tbest: 0.7123309 (2167)\ttotal: 5m 57s\tremaining: 4m 56s\n",
      "2186:\ttest: 0.7123231\tbest: 0.7123309 (2167)\ttotal: 5m 57s\tremaining: 4m 56s\n",
      "2187:\ttest: 0.7123232\tbest: 0.7123309 (2167)\ttotal: 5m 57s\tremaining: 4m 56s\n",
      "2188:\ttest: 0.7123220\tbest: 0.7123309 (2167)\ttotal: 5m 58s\tremaining: 4m 56s\n",
      "2189:\ttest: 0.7123232\tbest: 0.7123309 (2167)\ttotal: 5m 58s\tremaining: 4m 56s\n",
      "2190:\ttest: 0.7123236\tbest: 0.7123309 (2167)\ttotal: 5m 58s\tremaining: 4m 55s\n",
      "2191:\ttest: 0.7123262\tbest: 0.7123309 (2167)\ttotal: 5m 58s\tremaining: 4m 55s\n",
      "2192:\ttest: 0.7123244\tbest: 0.7123309 (2167)\ttotal: 5m 58s\tremaining: 4m 55s\n",
      "2193:\ttest: 0.7123219\tbest: 0.7123309 (2167)\ttotal: 5m 58s\tremaining: 4m 55s\n",
      "2194:\ttest: 0.7123205\tbest: 0.7123309 (2167)\ttotal: 5m 58s\tremaining: 4m 55s\n",
      "2195:\ttest: 0.7123226\tbest: 0.7123309 (2167)\ttotal: 5m 59s\tremaining: 4m 54s\n",
      "2196:\ttest: 0.7123227\tbest: 0.7123309 (2167)\ttotal: 5m 59s\tremaining: 4m 54s\n",
      "2197:\ttest: 0.7123227\tbest: 0.7123309 (2167)\ttotal: 5m 59s\tremaining: 4m 54s\n",
      "2198:\ttest: 0.7123252\tbest: 0.7123309 (2167)\ttotal: 5m 59s\tremaining: 4m 54s\n",
      "2199:\ttest: 0.7123218\tbest: 0.7123309 (2167)\ttotal: 5m 59s\tremaining: 4m 54s\n",
      "2200:\ttest: 0.7123221\tbest: 0.7123309 (2167)\ttotal: 5m 59s\tremaining: 4m 54s\n",
      "2201:\ttest: 0.7123205\tbest: 0.7123309 (2167)\ttotal: 6m\tremaining: 4m 53s\n",
      "2202:\ttest: 0.7123203\tbest: 0.7123309 (2167)\ttotal: 6m\tremaining: 4m 53s\n",
      "2203:\ttest: 0.7123261\tbest: 0.7123309 (2167)\ttotal: 6m\tremaining: 4m 53s\n",
      "2204:\ttest: 0.7123250\tbest: 0.7123309 (2167)\ttotal: 6m\tremaining: 4m 53s\n",
      "2205:\ttest: 0.7123245\tbest: 0.7123309 (2167)\ttotal: 6m\tremaining: 4m 53s\n",
      "2206:\ttest: 0.7123287\tbest: 0.7123309 (2167)\ttotal: 6m\tremaining: 4m 53s\n",
      "2207:\ttest: 0.7123328\tbest: 0.7123328 (2207)\ttotal: 6m\tremaining: 4m 52s\n",
      "2208:\ttest: 0.7123340\tbest: 0.7123340 (2208)\ttotal: 6m 1s\tremaining: 4m 52s\n",
      "2209:\ttest: 0.7123330\tbest: 0.7123340 (2208)\ttotal: 6m 1s\tremaining: 4m 52s\n",
      "2210:\ttest: 0.7123300\tbest: 0.7123340 (2208)\ttotal: 6m 1s\tremaining: 4m 52s\n",
      "2211:\ttest: 0.7123296\tbest: 0.7123340 (2208)\ttotal: 6m 1s\tremaining: 4m 52s\n",
      "2212:\ttest: 0.7123274\tbest: 0.7123340 (2208)\ttotal: 6m 1s\tremaining: 4m 52s\n",
      "2213:\ttest: 0.7123272\tbest: 0.7123340 (2208)\ttotal: 6m 2s\tremaining: 4m 52s\n",
      "2214:\ttest: 0.7123250\tbest: 0.7123340 (2208)\ttotal: 6m 2s\tremaining: 4m 51s\n",
      "2215:\ttest: 0.7123250\tbest: 0.7123340 (2208)\ttotal: 6m 2s\tremaining: 4m 51s\n",
      "2216:\ttest: 0.7123264\tbest: 0.7123340 (2208)\ttotal: 6m 2s\tremaining: 4m 51s\n",
      "2217:\ttest: 0.7123268\tbest: 0.7123340 (2208)\ttotal: 6m 2s\tremaining: 4m 51s\n",
      "2218:\ttest: 0.7123264\tbest: 0.7123340 (2208)\ttotal: 6m 2s\tremaining: 4m 51s\n",
      "2219:\ttest: 0.7123273\tbest: 0.7123340 (2208)\ttotal: 6m 3s\tremaining: 4m 51s\n",
      "2220:\ttest: 0.7123281\tbest: 0.7123340 (2208)\ttotal: 6m 3s\tremaining: 4m 50s\n",
      "2221:\ttest: 0.7123265\tbest: 0.7123340 (2208)\ttotal: 6m 3s\tremaining: 4m 50s\n",
      "2222:\ttest: 0.7123278\tbest: 0.7123340 (2208)\ttotal: 6m 3s\tremaining: 4m 50s\n",
      "2223:\ttest: 0.7123285\tbest: 0.7123340 (2208)\ttotal: 6m 3s\tremaining: 4m 50s\n",
      "2224:\ttest: 0.7123301\tbest: 0.7123340 (2208)\ttotal: 6m 3s\tremaining: 4m 50s\n",
      "2225:\ttest: 0.7123293\tbest: 0.7123340 (2208)\ttotal: 6m 3s\tremaining: 4m 50s\n",
      "2226:\ttest: 0.7123298\tbest: 0.7123340 (2208)\ttotal: 6m 4s\tremaining: 4m 49s\n",
      "2227:\ttest: 0.7123304\tbest: 0.7123340 (2208)\ttotal: 6m 4s\tremaining: 4m 49s\n",
      "2228:\ttest: 0.7123314\tbest: 0.7123340 (2208)\ttotal: 6m 4s\tremaining: 4m 49s\n",
      "2229:\ttest: 0.7123329\tbest: 0.7123340 (2208)\ttotal: 6m 4s\tremaining: 4m 49s\n",
      "2230:\ttest: 0.7123329\tbest: 0.7123340 (2208)\ttotal: 6m 4s\tremaining: 4m 49s\n",
      "2231:\ttest: 0.7123357\tbest: 0.7123357 (2231)\ttotal: 6m 4s\tremaining: 4m 49s\n",
      "2232:\ttest: 0.7123382\tbest: 0.7123382 (2232)\ttotal: 6m 5s\tremaining: 4m 48s\n",
      "2233:\ttest: 0.7123372\tbest: 0.7123382 (2232)\ttotal: 6m 5s\tremaining: 4m 48s\n",
      "2234:\ttest: 0.7123331\tbest: 0.7123382 (2232)\ttotal: 6m 5s\tremaining: 4m 48s\n",
      "2235:\ttest: 0.7123369\tbest: 0.7123382 (2232)\ttotal: 6m 5s\tremaining: 4m 48s\n",
      "2236:\ttest: 0.7123371\tbest: 0.7123382 (2232)\ttotal: 6m 5s\tremaining: 4m 48s\n",
      "2237:\ttest: 0.7123385\tbest: 0.7123385 (2237)\ttotal: 6m 5s\tremaining: 4m 48s\n",
      "2238:\ttest: 0.7123339\tbest: 0.7123385 (2237)\ttotal: 6m 6s\tremaining: 4m 47s\n",
      "2239:\ttest: 0.7123361\tbest: 0.7123385 (2237)\ttotal: 6m 6s\tremaining: 4m 47s\n",
      "2240:\ttest: 0.7123368\tbest: 0.7123385 (2237)\ttotal: 6m 6s\tremaining: 4m 47s\n",
      "2241:\ttest: 0.7123375\tbest: 0.7123385 (2237)\ttotal: 6m 6s\tremaining: 4m 47s\n",
      "2242:\ttest: 0.7123416\tbest: 0.7123416 (2242)\ttotal: 6m 6s\tremaining: 4m 47s\n",
      "2243:\ttest: 0.7123381\tbest: 0.7123416 (2242)\ttotal: 6m 6s\tremaining: 4m 47s\n",
      "2244:\ttest: 0.7123354\tbest: 0.7123416 (2242)\ttotal: 6m 7s\tremaining: 4m 46s\n",
      "2245:\ttest: 0.7123323\tbest: 0.7123416 (2242)\ttotal: 6m 7s\tremaining: 4m 46s\n",
      "2246:\ttest: 0.7123345\tbest: 0.7123416 (2242)\ttotal: 6m 7s\tremaining: 4m 46s\n",
      "2247:\ttest: 0.7123340\tbest: 0.7123416 (2242)\ttotal: 6m 7s\tremaining: 4m 46s\n",
      "2248:\ttest: 0.7123344\tbest: 0.7123416 (2242)\ttotal: 6m 7s\tremaining: 4m 46s\n",
      "2249:\ttest: 0.7123341\tbest: 0.7123416 (2242)\ttotal: 6m 7s\tremaining: 4m 46s\n",
      "2250:\ttest: 0.7123365\tbest: 0.7123416 (2242)\ttotal: 6m 8s\tremaining: 4m 45s\n",
      "2251:\ttest: 0.7123369\tbest: 0.7123416 (2242)\ttotal: 6m 8s\tremaining: 4m 45s\n",
      "2252:\ttest: 0.7123384\tbest: 0.7123416 (2242)\ttotal: 6m 8s\tremaining: 4m 45s\n",
      "2253:\ttest: 0.7123411\tbest: 0.7123416 (2242)\ttotal: 6m 8s\tremaining: 4m 45s\n",
      "2254:\ttest: 0.7123383\tbest: 0.7123416 (2242)\ttotal: 6m 8s\tremaining: 4m 45s\n",
      "2255:\ttest: 0.7123389\tbest: 0.7123416 (2242)\ttotal: 6m 8s\tremaining: 4m 45s\n",
      "2256:\ttest: 0.7123386\tbest: 0.7123416 (2242)\ttotal: 6m 9s\tremaining: 4m 44s\n",
      "2257:\ttest: 0.7123343\tbest: 0.7123416 (2242)\ttotal: 6m 9s\tremaining: 4m 44s\n",
      "2258:\ttest: 0.7123374\tbest: 0.7123416 (2242)\ttotal: 6m 9s\tremaining: 4m 44s\n",
      "2259:\ttest: 0.7123346\tbest: 0.7123416 (2242)\ttotal: 6m 9s\tremaining: 4m 44s\n",
      "2260:\ttest: 0.7123345\tbest: 0.7123416 (2242)\ttotal: 6m 9s\tremaining: 4m 44s\n",
      "2261:\ttest: 0.7123344\tbest: 0.7123416 (2242)\ttotal: 6m 9s\tremaining: 4m 44s\n",
      "2262:\ttest: 0.7123352\tbest: 0.7123416 (2242)\ttotal: 6m 9s\tremaining: 4m 43s\n",
      "2263:\ttest: 0.7123331\tbest: 0.7123416 (2242)\ttotal: 6m 10s\tremaining: 4m 43s\n",
      "2264:\ttest: 0.7123341\tbest: 0.7123416 (2242)\ttotal: 6m 10s\tremaining: 4m 43s\n",
      "2265:\ttest: 0.7123352\tbest: 0.7123416 (2242)\ttotal: 6m 10s\tremaining: 4m 43s\n",
      "2266:\ttest: 0.7123390\tbest: 0.7123416 (2242)\ttotal: 6m 10s\tremaining: 4m 43s\n",
      "2267:\ttest: 0.7123413\tbest: 0.7123416 (2242)\ttotal: 6m 10s\tremaining: 4m 43s\n",
      "2268:\ttest: 0.7123459\tbest: 0.7123459 (2268)\ttotal: 6m 10s\tremaining: 4m 43s\n",
      "2269:\ttest: 0.7123401\tbest: 0.7123459 (2268)\ttotal: 6m 11s\tremaining: 4m 42s\n",
      "2270:\ttest: 0.7123428\tbest: 0.7123459 (2268)\ttotal: 6m 11s\tremaining: 4m 42s\n",
      "2271:\ttest: 0.7123437\tbest: 0.7123459 (2268)\ttotal: 6m 11s\tremaining: 4m 42s\n",
      "2272:\ttest: 0.7123473\tbest: 0.7123473 (2272)\ttotal: 6m 11s\tremaining: 4m 42s\n",
      "2273:\ttest: 0.7123466\tbest: 0.7123473 (2272)\ttotal: 6m 11s\tremaining: 4m 42s\n",
      "2274:\ttest: 0.7123506\tbest: 0.7123506 (2274)\ttotal: 6m 11s\tremaining: 4m 42s\n",
      "2275:\ttest: 0.7123513\tbest: 0.7123513 (2275)\ttotal: 6m 12s\tremaining: 4m 41s\n",
      "2276:\ttest: 0.7123520\tbest: 0.7123520 (2276)\ttotal: 6m 12s\tremaining: 4m 41s\n",
      "2277:\ttest: 0.7123531\tbest: 0.7123531 (2277)\ttotal: 6m 12s\tremaining: 4m 41s\n",
      "2278:\ttest: 0.7123488\tbest: 0.7123531 (2277)\ttotal: 6m 12s\tremaining: 4m 41s\n",
      "2279:\ttest: 0.7123473\tbest: 0.7123531 (2277)\ttotal: 6m 12s\tremaining: 4m 41s\n",
      "2280:\ttest: 0.7123469\tbest: 0.7123531 (2277)\ttotal: 6m 12s\tremaining: 4m 41s\n",
      "2281:\ttest: 0.7123460\tbest: 0.7123531 (2277)\ttotal: 6m 13s\tremaining: 4m 40s\n",
      "2282:\ttest: 0.7123456\tbest: 0.7123531 (2277)\ttotal: 6m 13s\tremaining: 4m 40s\n",
      "2283:\ttest: 0.7123457\tbest: 0.7123531 (2277)\ttotal: 6m 13s\tremaining: 4m 40s\n",
      "2284:\ttest: 0.7123439\tbest: 0.7123531 (2277)\ttotal: 6m 13s\tremaining: 4m 40s\n",
      "2285:\ttest: 0.7123506\tbest: 0.7123531 (2277)\ttotal: 6m 13s\tremaining: 4m 40s\n"
     ]
    },
    {
     "name": "stdout",
     "output_type": "stream",
     "text": [
      "2286:\ttest: 0.7123507\tbest: 0.7123531 (2277)\ttotal: 6m 13s\tremaining: 4m 40s\n",
      "2287:\ttest: 0.7123529\tbest: 0.7123531 (2277)\ttotal: 6m 14s\tremaining: 4m 39s\n",
      "2288:\ttest: 0.7123549\tbest: 0.7123549 (2288)\ttotal: 6m 14s\tremaining: 4m 39s\n",
      "2289:\ttest: 0.7123552\tbest: 0.7123552 (2289)\ttotal: 6m 14s\tremaining: 4m 39s\n",
      "2290:\ttest: 0.7123555\tbest: 0.7123555 (2290)\ttotal: 6m 14s\tremaining: 4m 39s\n",
      "2291:\ttest: 0.7123549\tbest: 0.7123555 (2290)\ttotal: 6m 14s\tremaining: 4m 39s\n",
      "2292:\ttest: 0.7123563\tbest: 0.7123563 (2292)\ttotal: 6m 14s\tremaining: 4m 39s\n",
      "2293:\ttest: 0.7123560\tbest: 0.7123563 (2292)\ttotal: 6m 15s\tremaining: 4m 38s\n",
      "2294:\ttest: 0.7123531\tbest: 0.7123563 (2292)\ttotal: 6m 15s\tremaining: 4m 38s\n",
      "2295:\ttest: 0.7123537\tbest: 0.7123563 (2292)\ttotal: 6m 15s\tremaining: 4m 38s\n",
      "2296:\ttest: 0.7123553\tbest: 0.7123563 (2292)\ttotal: 6m 15s\tremaining: 4m 38s\n",
      "2297:\ttest: 0.7123565\tbest: 0.7123565 (2297)\ttotal: 6m 15s\tremaining: 4m 38s\n",
      "2298:\ttest: 0.7123559\tbest: 0.7123565 (2297)\ttotal: 6m 15s\tremaining: 4m 38s\n",
      "2299:\ttest: 0.7123569\tbest: 0.7123569 (2299)\ttotal: 6m 16s\tremaining: 4m 37s\n",
      "2300:\ttest: 0.7123574\tbest: 0.7123574 (2300)\ttotal: 6m 16s\tremaining: 4m 37s\n",
      "2301:\ttest: 0.7123563\tbest: 0.7123574 (2300)\ttotal: 6m 16s\tremaining: 4m 37s\n",
      "2302:\ttest: 0.7123552\tbest: 0.7123574 (2300)\ttotal: 6m 16s\tremaining: 4m 37s\n",
      "2303:\ttest: 0.7123537\tbest: 0.7123574 (2300)\ttotal: 6m 16s\tremaining: 4m 37s\n",
      "2304:\ttest: 0.7123553\tbest: 0.7123574 (2300)\ttotal: 6m 16s\tremaining: 4m 37s\n",
      "2305:\ttest: 0.7123517\tbest: 0.7123574 (2300)\ttotal: 6m 17s\tremaining: 4m 37s\n",
      "2306:\ttest: 0.7123538\tbest: 0.7123574 (2300)\ttotal: 6m 17s\tremaining: 4m 36s\n",
      "2307:\ttest: 0.7123525\tbest: 0.7123574 (2300)\ttotal: 6m 17s\tremaining: 4m 36s\n",
      "2308:\ttest: 0.7123523\tbest: 0.7123574 (2300)\ttotal: 6m 17s\tremaining: 4m 36s\n",
      "2309:\ttest: 0.7123543\tbest: 0.7123574 (2300)\ttotal: 6m 17s\tremaining: 4m 36s\n",
      "2310:\ttest: 0.7123542\tbest: 0.7123574 (2300)\ttotal: 6m 17s\tremaining: 4m 36s\n",
      "2311:\ttest: 0.7123572\tbest: 0.7123574 (2300)\ttotal: 6m 18s\tremaining: 4m 36s\n",
      "2312:\ttest: 0.7123587\tbest: 0.7123587 (2312)\ttotal: 6m 18s\tremaining: 4m 35s\n",
      "2313:\ttest: 0.7123593\tbest: 0.7123593 (2313)\ttotal: 6m 18s\tremaining: 4m 35s\n",
      "2314:\ttest: 0.7123609\tbest: 0.7123609 (2314)\ttotal: 6m 18s\tremaining: 4m 35s\n",
      "2315:\ttest: 0.7123634\tbest: 0.7123634 (2315)\ttotal: 6m 18s\tremaining: 4m 35s\n",
      "2316:\ttest: 0.7123598\tbest: 0.7123634 (2315)\ttotal: 6m 18s\tremaining: 4m 35s\n",
      "2317:\ttest: 0.7123595\tbest: 0.7123634 (2315)\ttotal: 6m 19s\tremaining: 4m 35s\n",
      "2318:\ttest: 0.7123648\tbest: 0.7123648 (2318)\ttotal: 6m 19s\tremaining: 4m 34s\n",
      "2319:\ttest: 0.7123664\tbest: 0.7123664 (2319)\ttotal: 6m 19s\tremaining: 4m 34s\n",
      "2320:\ttest: 0.7123654\tbest: 0.7123664 (2319)\ttotal: 6m 19s\tremaining: 4m 34s\n",
      "2321:\ttest: 0.7123665\tbest: 0.7123665 (2321)\ttotal: 6m 19s\tremaining: 4m 34s\n",
      "2322:\ttest: 0.7123689\tbest: 0.7123689 (2322)\ttotal: 6m 19s\tremaining: 4m 34s\n",
      "2323:\ttest: 0.7123713\tbest: 0.7123713 (2323)\ttotal: 6m 20s\tremaining: 4m 34s\n",
      "2324:\ttest: 0.7123755\tbest: 0.7123755 (2324)\ttotal: 6m 20s\tremaining: 4m 33s\n",
      "2325:\ttest: 0.7123737\tbest: 0.7123755 (2324)\ttotal: 6m 20s\tremaining: 4m 33s\n",
      "2326:\ttest: 0.7123750\tbest: 0.7123755 (2324)\ttotal: 6m 20s\tremaining: 4m 33s\n",
      "2327:\ttest: 0.7123744\tbest: 0.7123755 (2324)\ttotal: 6m 20s\tremaining: 4m 33s\n",
      "2328:\ttest: 0.7123775\tbest: 0.7123775 (2328)\ttotal: 6m 20s\tremaining: 4m 33s\n",
      "2329:\ttest: 0.7123811\tbest: 0.7123811 (2329)\ttotal: 6m 21s\tremaining: 4m 33s\n",
      "2330:\ttest: 0.7123766\tbest: 0.7123811 (2329)\ttotal: 6m 21s\tremaining: 4m 32s\n",
      "2331:\ttest: 0.7123767\tbest: 0.7123811 (2329)\ttotal: 6m 21s\tremaining: 4m 32s\n",
      "2332:\ttest: 0.7123770\tbest: 0.7123811 (2329)\ttotal: 6m 21s\tremaining: 4m 32s\n",
      "2333:\ttest: 0.7123901\tbest: 0.7123901 (2333)\ttotal: 6m 21s\tremaining: 4m 32s\n",
      "2334:\ttest: 0.7123913\tbest: 0.7123913 (2334)\ttotal: 6m 21s\tremaining: 4m 32s\n",
      "2335:\ttest: 0.7123948\tbest: 0.7123948 (2335)\ttotal: 6m 21s\tremaining: 4m 32s\n",
      "2336:\ttest: 0.7123936\tbest: 0.7123948 (2335)\ttotal: 6m 22s\tremaining: 4m 31s\n",
      "2337:\ttest: 0.7123854\tbest: 0.7123948 (2335)\ttotal: 6m 22s\tremaining: 4m 31s\n",
      "2338:\ttest: 0.7123828\tbest: 0.7123948 (2335)\ttotal: 6m 22s\tremaining: 4m 31s\n",
      "2339:\ttest: 0.7123816\tbest: 0.7123948 (2335)\ttotal: 6m 22s\tremaining: 4m 31s\n",
      "2340:\ttest: 0.7123804\tbest: 0.7123948 (2335)\ttotal: 6m 22s\tremaining: 4m 31s\n",
      "2341:\ttest: 0.7123820\tbest: 0.7123948 (2335)\ttotal: 6m 22s\tremaining: 4m 31s\n",
      "2342:\ttest: 0.7123896\tbest: 0.7123948 (2335)\ttotal: 6m 23s\tremaining: 4m 30s\n",
      "2343:\ttest: 0.7123893\tbest: 0.7123948 (2335)\ttotal: 6m 23s\tremaining: 4m 30s\n",
      "2344:\ttest: 0.7123915\tbest: 0.7123948 (2335)\ttotal: 6m 23s\tremaining: 4m 30s\n",
      "2345:\ttest: 0.7123932\tbest: 0.7123948 (2335)\ttotal: 6m 23s\tremaining: 4m 30s\n",
      "2346:\ttest: 0.7123906\tbest: 0.7123948 (2335)\ttotal: 6m 23s\tremaining: 4m 30s\n",
      "2347:\ttest: 0.7123934\tbest: 0.7123948 (2335)\ttotal: 6m 23s\tremaining: 4m 30s\n",
      "2348:\ttest: 0.7123941\tbest: 0.7123948 (2335)\ttotal: 6m 24s\tremaining: 4m 29s\n",
      "2349:\ttest: 0.7123968\tbest: 0.7123968 (2349)\ttotal: 6m 24s\tremaining: 4m 29s\n",
      "2350:\ttest: 0.7123973\tbest: 0.7123973 (2350)\ttotal: 6m 24s\tremaining: 4m 29s\n",
      "2351:\ttest: 0.7123937\tbest: 0.7123973 (2350)\ttotal: 6m 24s\tremaining: 4m 29s\n",
      "2352:\ttest: 0.7123925\tbest: 0.7123973 (2350)\ttotal: 6m 24s\tremaining: 4m 29s\n",
      "2353:\ttest: 0.7123932\tbest: 0.7123973 (2350)\ttotal: 6m 24s\tremaining: 4m 29s\n",
      "2354:\ttest: 0.7123940\tbest: 0.7123973 (2350)\ttotal: 6m 25s\tremaining: 4m 29s\n",
      "2355:\ttest: 0.7123929\tbest: 0.7123973 (2350)\ttotal: 6m 25s\tremaining: 4m 28s\n",
      "2356:\ttest: 0.7123913\tbest: 0.7123973 (2350)\ttotal: 6m 25s\tremaining: 4m 28s\n",
      "2357:\ttest: 0.7123897\tbest: 0.7123973 (2350)\ttotal: 6m 25s\tremaining: 4m 28s\n",
      "2358:\ttest: 0.7123924\tbest: 0.7123973 (2350)\ttotal: 6m 25s\tremaining: 4m 28s\n",
      "2359:\ttest: 0.7123908\tbest: 0.7123973 (2350)\ttotal: 6m 25s\tremaining: 4m 28s\n",
      "2360:\ttest: 0.7123933\tbest: 0.7123973 (2350)\ttotal: 6m 26s\tremaining: 4m 28s\n",
      "2361:\ttest: 0.7123949\tbest: 0.7123973 (2350)\ttotal: 6m 26s\tremaining: 4m 27s\n",
      "2362:\ttest: 0.7123966\tbest: 0.7123973 (2350)\ttotal: 6m 26s\tremaining: 4m 27s\n",
      "2363:\ttest: 0.7123968\tbest: 0.7123973 (2350)\ttotal: 6m 26s\tremaining: 4m 27s\n",
      "2364:\ttest: 0.7123993\tbest: 0.7123993 (2364)\ttotal: 6m 26s\tremaining: 4m 27s\n",
      "2365:\ttest: 0.7123979\tbest: 0.7123993 (2364)\ttotal: 6m 26s\tremaining: 4m 27s\n",
      "2366:\ttest: 0.7124002\tbest: 0.7124002 (2366)\ttotal: 6m 27s\tremaining: 4m 27s\n",
      "2367:\ttest: 0.7124011\tbest: 0.7124011 (2367)\ttotal: 6m 27s\tremaining: 4m 26s\n",
      "2368:\ttest: 0.7124011\tbest: 0.7124011 (2368)\ttotal: 6m 27s\tremaining: 4m 26s\n",
      "2369:\ttest: 0.7124040\tbest: 0.7124040 (2369)\ttotal: 6m 27s\tremaining: 4m 26s\n",
      "2370:\ttest: 0.7124010\tbest: 0.7124040 (2369)\ttotal: 6m 27s\tremaining: 4m 26s\n",
      "2371:\ttest: 0.7124012\tbest: 0.7124040 (2369)\ttotal: 6m 27s\tremaining: 4m 26s\n",
      "2372:\ttest: 0.7124007\tbest: 0.7124040 (2369)\ttotal: 6m 28s\tremaining: 4m 26s\n",
      "2373:\ttest: 0.7124007\tbest: 0.7124040 (2369)\ttotal: 6m 28s\tremaining: 4m 25s\n",
      "2374:\ttest: 0.7123990\tbest: 0.7124040 (2369)\ttotal: 6m 28s\tremaining: 4m 25s\n",
      "2375:\ttest: 0.7123975\tbest: 0.7124040 (2369)\ttotal: 6m 28s\tremaining: 4m 25s\n",
      "2376:\ttest: 0.7123988\tbest: 0.7124040 (2369)\ttotal: 6m 28s\tremaining: 4m 25s\n",
      "2377:\ttest: 0.7123984\tbest: 0.7124040 (2369)\ttotal: 6m 28s\tremaining: 4m 25s\n",
      "2378:\ttest: 0.7123978\tbest: 0.7124040 (2369)\ttotal: 6m 29s\tremaining: 4m 25s\n",
      "2379:\ttest: 0.7124023\tbest: 0.7124040 (2369)\ttotal: 6m 29s\tremaining: 4m 24s\n",
      "2380:\ttest: 0.7124043\tbest: 0.7124043 (2380)\ttotal: 6m 29s\tremaining: 4m 24s\n",
      "2381:\ttest: 0.7124062\tbest: 0.7124062 (2381)\ttotal: 6m 29s\tremaining: 4m 24s\n",
      "2382:\ttest: 0.7124016\tbest: 0.7124062 (2381)\ttotal: 6m 29s\tremaining: 4m 24s\n",
      "2383:\ttest: 0.7124026\tbest: 0.7124062 (2381)\ttotal: 6m 29s\tremaining: 4m 24s\n",
      "2384:\ttest: 0.7124001\tbest: 0.7124062 (2381)\ttotal: 6m 30s\tremaining: 4m 24s\n",
      "2385:\ttest: 0.7124009\tbest: 0.7124062 (2381)\ttotal: 6m 30s\tremaining: 4m 23s\n",
      "2386:\ttest: 0.7124008\tbest: 0.7124062 (2381)\ttotal: 6m 30s\tremaining: 4m 23s\n",
      "2387:\ttest: 0.7124030\tbest: 0.7124062 (2381)\ttotal: 6m 30s\tremaining: 4m 23s\n",
      "2388:\ttest: 0.7124025\tbest: 0.7124062 (2381)\ttotal: 6m 30s\tremaining: 4m 23s\n",
      "2389:\ttest: 0.7124019\tbest: 0.7124062 (2381)\ttotal: 6m 30s\tremaining: 4m 23s\n",
      "2390:\ttest: 0.7124017\tbest: 0.7124062 (2381)\ttotal: 6m 31s\tremaining: 4m 23s\n",
      "2391:\ttest: 0.7124013\tbest: 0.7124062 (2381)\ttotal: 6m 31s\tremaining: 4m 22s\n",
      "2392:\ttest: 0.7124007\tbest: 0.7124062 (2381)\ttotal: 6m 31s\tremaining: 4m 22s\n"
     ]
    },
    {
     "name": "stdout",
     "output_type": "stream",
     "text": [
      "2393:\ttest: 0.7124006\tbest: 0.7124062 (2381)\ttotal: 6m 31s\tremaining: 4m 22s\n",
      "2394:\ttest: 0.7124006\tbest: 0.7124062 (2381)\ttotal: 6m 31s\tremaining: 4m 22s\n",
      "2395:\ttest: 0.7123995\tbest: 0.7124062 (2381)\ttotal: 6m 31s\tremaining: 4m 22s\n",
      "2396:\ttest: 0.7123985\tbest: 0.7124062 (2381)\ttotal: 6m 32s\tremaining: 4m 22s\n",
      "2397:\ttest: 0.7124003\tbest: 0.7124062 (2381)\ttotal: 6m 32s\tremaining: 4m 22s\n",
      "2398:\ttest: 0.7124028\tbest: 0.7124062 (2381)\ttotal: 6m 32s\tremaining: 4m 21s\n",
      "2399:\ttest: 0.7123999\tbest: 0.7124062 (2381)\ttotal: 6m 32s\tremaining: 4m 21s\n",
      "2400:\ttest: 0.7124014\tbest: 0.7124062 (2381)\ttotal: 6m 32s\tremaining: 4m 21s\n",
      "2401:\ttest: 0.7124024\tbest: 0.7124062 (2381)\ttotal: 6m 32s\tremaining: 4m 21s\n",
      "2402:\ttest: 0.7124007\tbest: 0.7124062 (2381)\ttotal: 6m 32s\tremaining: 4m 21s\n",
      "2403:\ttest: 0.7123983\tbest: 0.7124062 (2381)\ttotal: 6m 33s\tremaining: 4m 21s\n",
      "2404:\ttest: 0.7124015\tbest: 0.7124062 (2381)\ttotal: 6m 33s\tremaining: 4m 20s\n",
      "2405:\ttest: 0.7124018\tbest: 0.7124062 (2381)\ttotal: 6m 33s\tremaining: 4m 20s\n",
      "2406:\ttest: 0.7124006\tbest: 0.7124062 (2381)\ttotal: 6m 33s\tremaining: 4m 20s\n",
      "2407:\ttest: 0.7123989\tbest: 0.7124062 (2381)\ttotal: 6m 33s\tremaining: 4m 20s\n",
      "2408:\ttest: 0.7123977\tbest: 0.7124062 (2381)\ttotal: 6m 33s\tremaining: 4m 20s\n",
      "2409:\ttest: 0.7124000\tbest: 0.7124062 (2381)\ttotal: 6m 34s\tremaining: 4m 20s\n",
      "2410:\ttest: 0.7124061\tbest: 0.7124062 (2381)\ttotal: 6m 34s\tremaining: 4m 19s\n",
      "2411:\ttest: 0.7124157\tbest: 0.7124157 (2411)\ttotal: 6m 34s\tremaining: 4m 19s\n",
      "2412:\ttest: 0.7124121\tbest: 0.7124157 (2411)\ttotal: 6m 34s\tremaining: 4m 19s\n",
      "2413:\ttest: 0.7124077\tbest: 0.7124157 (2411)\ttotal: 6m 34s\tremaining: 4m 19s\n",
      "2414:\ttest: 0.7124081\tbest: 0.7124157 (2411)\ttotal: 6m 34s\tremaining: 4m 19s\n",
      "2415:\ttest: 0.7124078\tbest: 0.7124157 (2411)\ttotal: 6m 35s\tremaining: 4m 19s\n",
      "2416:\ttest: 0.7124075\tbest: 0.7124157 (2411)\ttotal: 6m 35s\tremaining: 4m 18s\n",
      "2417:\ttest: 0.7124078\tbest: 0.7124157 (2411)\ttotal: 6m 35s\tremaining: 4m 18s\n",
      "2418:\ttest: 0.7124091\tbest: 0.7124157 (2411)\ttotal: 6m 35s\tremaining: 4m 18s\n",
      "2419:\ttest: 0.7124067\tbest: 0.7124157 (2411)\ttotal: 6m 35s\tremaining: 4m 18s\n",
      "2420:\ttest: 0.7124078\tbest: 0.7124157 (2411)\ttotal: 6m 35s\tremaining: 4m 18s\n",
      "2421:\ttest: 0.7124050\tbest: 0.7124157 (2411)\ttotal: 6m 36s\tremaining: 4m 18s\n",
      "2422:\ttest: 0.7124035\tbest: 0.7124157 (2411)\ttotal: 6m 36s\tremaining: 4m 17s\n",
      "2423:\ttest: 0.7124024\tbest: 0.7124157 (2411)\ttotal: 6m 36s\tremaining: 4m 17s\n",
      "2424:\ttest: 0.7124005\tbest: 0.7124157 (2411)\ttotal: 6m 36s\tremaining: 4m 17s\n",
      "2425:\ttest: 0.7123988\tbest: 0.7124157 (2411)\ttotal: 6m 36s\tremaining: 4m 17s\n",
      "2426:\ttest: 0.7123997\tbest: 0.7124157 (2411)\ttotal: 6m 36s\tremaining: 4m 17s\n",
      "2427:\ttest: 0.7124036\tbest: 0.7124157 (2411)\ttotal: 6m 37s\tremaining: 4m 17s\n",
      "2428:\ttest: 0.7124035\tbest: 0.7124157 (2411)\ttotal: 6m 37s\tremaining: 4m 16s\n",
      "2429:\ttest: 0.7124027\tbest: 0.7124157 (2411)\ttotal: 6m 37s\tremaining: 4m 16s\n",
      "2430:\ttest: 0.7124030\tbest: 0.7124157 (2411)\ttotal: 6m 37s\tremaining: 4m 16s\n",
      "2431:\ttest: 0.7124021\tbest: 0.7124157 (2411)\ttotal: 6m 37s\tremaining: 4m 16s\n",
      "2432:\ttest: 0.7123978\tbest: 0.7124157 (2411)\ttotal: 6m 37s\tremaining: 4m 16s\n",
      "2433:\ttest: 0.7123938\tbest: 0.7124157 (2411)\ttotal: 6m 38s\tremaining: 4m 16s\n",
      "2434:\ttest: 0.7123950\tbest: 0.7124157 (2411)\ttotal: 6m 38s\tremaining: 4m 15s\n",
      "2435:\ttest: 0.7123958\tbest: 0.7124157 (2411)\ttotal: 6m 38s\tremaining: 4m 15s\n",
      "2436:\ttest: 0.7123966\tbest: 0.7124157 (2411)\ttotal: 6m 38s\tremaining: 4m 15s\n",
      "2437:\ttest: 0.7123989\tbest: 0.7124157 (2411)\ttotal: 6m 38s\tremaining: 4m 15s\n",
      "2438:\ttest: 0.7123963\tbest: 0.7124157 (2411)\ttotal: 6m 38s\tremaining: 4m 15s\n",
      "2439:\ttest: 0.7123957\tbest: 0.7124157 (2411)\ttotal: 6m 39s\tremaining: 4m 15s\n",
      "2440:\ttest: 0.7123958\tbest: 0.7124157 (2411)\ttotal: 6m 39s\tremaining: 4m 14s\n",
      "2441:\ttest: 0.7123948\tbest: 0.7124157 (2411)\ttotal: 6m 39s\tremaining: 4m 14s\n",
      "2442:\ttest: 0.7123929\tbest: 0.7124157 (2411)\ttotal: 6m 39s\tremaining: 4m 14s\n",
      "2443:\ttest: 0.7123996\tbest: 0.7124157 (2411)\ttotal: 6m 39s\tremaining: 4m 14s\n",
      "2444:\ttest: 0.7123990\tbest: 0.7124157 (2411)\ttotal: 6m 39s\tremaining: 4m 14s\n",
      "2445:\ttest: 0.7123908\tbest: 0.7124157 (2411)\ttotal: 6m 40s\tremaining: 4m 14s\n",
      "2446:\ttest: 0.7123911\tbest: 0.7124157 (2411)\ttotal: 6m 40s\tremaining: 4m 13s\n",
      "2447:\ttest: 0.7123920\tbest: 0.7124157 (2411)\ttotal: 6m 40s\tremaining: 4m 13s\n",
      "2448:\ttest: 0.7123931\tbest: 0.7124157 (2411)\ttotal: 6m 40s\tremaining: 4m 13s\n",
      "2449:\ttest: 0.7123912\tbest: 0.7124157 (2411)\ttotal: 6m 40s\tremaining: 4m 13s\n",
      "2450:\ttest: 0.7123915\tbest: 0.7124157 (2411)\ttotal: 6m 40s\tremaining: 4m 13s\n",
      "2451:\ttest: 0.7123941\tbest: 0.7124157 (2411)\ttotal: 6m 41s\tremaining: 4m 13s\n",
      "Stopped by overfitting detector  (40 iterations wait)\n",
      "\n",
      "bestTest = 0.7124156643\n",
      "bestIteration = 2411\n",
      "\n",
      "Shrink model to first 2412 iterations.\n"
     ]
    }
   ],
   "source": [
    "best_model_params = params.copy()\n",
    "best_model = CatBoostClassifier(**best_model_params)\n",
    "best_model.fit(train_pool, eval_set=validate_pool);"
   ]
  },
  {
   "cell_type": "code",
   "execution_count": 69,
   "metadata": {},
   "outputs": [
    {
     "name": "stdout",
     "output_type": "stream",
     "text": [
      "Recall: 0.98\n",
      "Precision score: 0.79\n",
      "Accuracy score: 0.78\n"
     ]
    }
   ],
   "source": [
    "show_scores(best_model, x_test, y_test)"
   ]
  },
  {
   "cell_type": "code",
   "execution_count": 70,
   "metadata": {},
   "outputs": [
    {
     "name": "stdout",
     "output_type": "stream",
     "text": [
      "ROC-AUC score:  0.7124156643138975\n"
     ]
    },
    {
     "data": {
      "image/png": "[encoded data removed]",
      "text/plain": [
       "<Figure size 432x288 with 1 Axes>"
      ]
     },
     "metadata": {
      "needs_background": "light"
     },
     "output_type": "display_data"
    }
   ],
   "source": [
    "plot_roc(best_model, x_test, y_test)"
   ]
  },
  {
   "cell_type": "code",
   "execution_count": 71,
   "metadata": {
    "scrolled": true
   },
   "outputs": [
    {
     "name": "stdout",
     "output_type": "stream",
     "text": [
      "int_rate: 12.498241102001167\n",
      "sub_grade: 12.102954746680242\n",
      "annual_inc: 11.76001523433429\n",
      "tot_cur_bal: 9.68309766647899\n",
      "dti: 9.230189463053092\n",
      "loan_amnt: 9.105722604022958\n",
      "revol_util: 7.7378536421712525\n",
      "revol_bal: 6.96286331945209\n",
      "total_acc: 5.761766809305769\n",
      "term: 4.905275803738784\n",
      "purpose: 3.6421169752404894\n",
      "home_ownership: 3.3469234258517067\n",
      "inq_last_6mths: 3.2629792076691717\n"
     ]
    }
   ],
   "source": [
    "feature_importances = best_model.get_feature_importance(train_pool)\n",
    "feature_names = x_train.columns\n",
    "for score, name in sorted(zip(feature_importances, feature_names), reverse=True):\n",
    "    print('{}: {}'.format(name, score))"
   ]
  },
  {
   "cell_type": "code",
   "execution_count": 72,
   "metadata": {},
   "outputs": [],
   "source": [
    "# make it True if your want to use GPU for training\n",
    "have_gpu = False\n",
    "# skip hyper-parameter optimization and just use provided optimal parameters\n",
    "use_optimal_pretrained_params = False\n",
    "# number of iterations of hyper-parameter search\n",
    "hyperopt_iterations = 50"
   ]
  },
  {
   "cell_type": "code",
   "execution_count": 73,
   "metadata": {},
   "outputs": [],
   "source": [
    "const_params = frozendict.frozendict({\n",
    "    'task_type': 'GPU' if have_gpu else 'CPU',\n",
    "    'loss_function': 'Logloss',\n",
    "    'eval_metric': 'AUC', \n",
    "    'od_type': 'Iter',\n",
    "    'od_wait': 40,\n",
    "    'custom_metric': ['AUC'],\n",
    "    'iterations': 400,\n",
    "    'random_seed':42})"
   ]
  },
  {
   "cell_type": "code",
   "execution_count": 74,
   "metadata": {},
   "outputs": [],
   "source": [
    "class UciAdultClassifierObjective(object):\n",
    "    def __init__(self, dataset, const_params, fold_count):\n",
    "        self._dataset = dataset\n",
    "        self._const_params = const_params.copy()\n",
    "        self._fold_count = fold_count\n",
    "        self._evaluated_count = 0\n",
    "        \n",
    "    def _to_catboost_params(self, hyper_params):\n",
    "        return {\n",
    "            'learning_rate': hyper_params['learning_rate'],\n",
    "            'depth': hyper_params['depth'],\n",
    "            'rsm' :  hyper_params['rsm'],\n",
    "            'l2_leaf_reg': hyper_params['l2_leaf_reg']}\n",
    "\n",
    "    def __call__(self, hyper_params):\n",
    "        params = self._to_catboost_params(hyper_params)\n",
    "        params.update(self._const_params)\n",
    "        \n",
    "        print('evaluating params={}'.format(params), file=sys.stdout)\n",
    "        sys.stdout.flush()        \n",
    "        scores = cb.cv(\n",
    "            pool=self._dataset,\n",
    "            params=params,\n",
    "            fold_count=self._fold_count,\n",
    "            partition_random_seed=42,\n",
    "            verbose=False)\n",
    "        min_mean_auc = np.min(scores['test-AUC-mean'])\n",
    "        print('evaluated score={}'.format(min_mean_auc), file=sys.stdout)\n",
    "        \n",
    "        self._evaluated_count += 1\n",
    "        print('evaluated {} times'.format(self._evaluated_count), file=sys.stdout)\n",
    "        \n",
    "        # negate because hyperopt minimizes the objective\n",
    "        return {'loss': -min_mean_auc, 'status': hyperopt.STATUS_OK}"
   ]
  },
  {
   "cell_type": "code",
   "execution_count": 75,
   "metadata": {},
   "outputs": [],
   "source": [
    "\n",
    "def find_best_hyper_params(dataset, const_params, max_evals=100):    \n",
    "    # we are going to optimize these three parameters, though there are a lot more of them (see CatBoost docs)\n",
    "    parameter_space = {\n",
    "        'depth': hp.quniform(\"depth\", 4, 10, 1),\n",
    "        'rsm': hp.uniform ('rsm', 0.75, 1.0),\n",
    "        'learning_rate': hyperopt.hp.uniform('learning_rate', 0.2, 1.0),\n",
    "        'l2_leaf_reg': hp.uniform('l2_leaf_reg', 0.01, 100)}\n",
    " \n",
    "    objective = UciAdultClassifierObjective(dataset=dataset, const_params=const_params, fold_count=6)\n",
    "    trials = hyperopt.Trials()\n",
    "    best = hyperopt.fmin(\n",
    "        fn=objective,\n",
    "        space=parameter_space,\n",
    "        algo=hyperopt.rand.suggest,\n",
    "        max_evals=max_evals,\n",
    "        rstate=np.random.RandomState(seed=42))\n",
    "    return best\n",
    "\n",
    "def train_best_model(dataset, const_params, max_evals=100, use_default=False):\n",
    "    # convert pandas.DataFrame to catboost.Pool to avoid converting it on each \n",
    "    # iteration of hyper-parameters optimization  \n",
    "    if use_default:\n",
    "        # pretrained optimal parameters\n",
    "        best = {\n",
    "            'learning_rate': 0.4234185321620083, \n",
    "            'depth': 5, \n",
    "            'l2_leaf_reg': 9.464266235679002}\n",
    "    else:\n",
    "        best = find_best_hyper_params(dataset, const_params, max_evals=max_evals)\n",
    "    \n",
    "    # merge subset of hyper-parameters provided by hyperopt with hyper-parameters \n",
    "    # provided by the user\n",
    "    hyper_params = best.copy()\n",
    "    hyper_params.update(const_params)\n",
    "    \n",
    "    # drop `use_best_model` because we are going to use entire dataset for \n",
    "    # training of the final model\n",
    "    hyper_params.pop('use_best_model', None)\n",
    "    \n",
    "    model = cb.CatBoostClassifier(**hyper_params)\n",
    "    model.fit(dataset, verbose=False)\n",
    "    \n",
    "    return model, hyper_params\n",
    "\n"
   ]
  },
  {
   "cell_type": "code",
   "execution_count": null,
   "metadata": {},
   "outputs": [
    {
     "name": "stdout",
     "output_type": "stream",
     "text": [
      "evaluating params={'learning_rate': 0.8661056258519679, 'depth': 6.0, 'rsm': 0.863675263055343, 'l2_leaf_reg': 6.914443573951684, 'task_type': 'CPU', 'loss_function': 'Logloss', 'eval_metric': 'AUC', 'od_type': 'Iter', 'od_wait': 40, 'custom_metric': ['AUC'], 'iterations': 400, 'random_seed': 42}\n",
      "  0%|                                                                             | 0/50 [00:00<?, ?it/s, best loss: ?]"
     ]
    }
   ],
   "source": [
    "model, params = train_best_model(\n",
    "    train_pool, \n",
    "    const_params, \n",
    "    max_evals=hyperopt_iterations, \n",
    "    use_default=use_optimal_pretrained_params)"
   ]
  },
  {
   "cell_type": "code",
   "execution_count": null,
   "metadata": {},
   "outputs": [],
   "source": [
    "params"
   ]
  },
  {
   "cell_type": "code",
   "execution_count": null,
   "metadata": {},
   "outputs": [],
   "source": [
    "plot_roc(model, x_test, y_test)"
   ]
  },
  {
   "cell_type": "code",
   "execution_count": null,
   "metadata": {
    "scrolled": true
   },
   "outputs": [],
   "source": [
    "show_scores(model, x_test, y_test)"
   ]
  },
  {
   "cell_type": "markdown",
   "metadata": {},
   "source": [
    "## LightGBM"
   ]
  },
  {
   "cell_type": "code",
   "execution_count": 33,
   "metadata": {},
   "outputs": [],
   "source": [
    "import lightgbm as lgb"
   ]
  },
  {
   "cell_type": "code",
   "execution_count": 149,
   "metadata": {},
   "outputs": [
    {
     "data": {
      "text/plain": [
       "Index(['initial_list_status', 'purpose', 'grade', 'home_ownership',\n",
       "       'application_type'],\n",
       "      dtype='object')"
      ]
     },
     "execution_count": 149,
     "metadata": {},
     "output_type": "execute_result"
    }
   ],
   "source": [
    "x_train, x_test, y_train, y_test = train_test_split(x, y, test_size=0.3, random_state = 42)\n",
    "categorical_columns = x.columns[x.dtypes == 'object']\n",
    "categorical_columns"
   ]
  },
  {
   "cell_type": "code",
   "execution_count": 154,
   "metadata": {},
   "outputs": [
    {
     "data": {
      "text/plain": [
       "debt_consolidation    82494\n",
       "credit_card           27517\n",
       "home_improvement       8322\n",
       "other                  7876\n",
       "major_purchase         3443\n",
       "small_business         2665\n",
       "car                    1964\n",
       "medical                1589\n",
       "moving                 1163\n",
       "wedding                1028\n",
       "house                   895\n",
       "vacation                856\n",
       "educational             182\n",
       "renewable_energy        138\n",
       "Name: purpose, dtype: int64"
      ]
     },
     "execution_count": 154,
     "metadata": {},
     "output_type": "execute_result"
    }
   ],
   "source": [
    "x_train['purpose'].value_counts()"
   ]
  },
  {
   "cell_type": "code",
   "execution_count": 140,
   "metadata": {},
   "outputs": [
    {
     "name": "stdout",
     "output_type": "stream",
     "text": [
      "<class 'pandas.core.frame.DataFrame'>\n",
      "Int64Index: 140132 entries, 193136 to 121958\n",
      "Data columns (total 19 columns):\n",
      "annual_inc                    140132 non-null float64\n",
      "int_rate                      140132 non-null float64\n",
      "collections_12_mths_ex_med    140132 non-null float64\n",
      "initial_list_status           140132 non-null bool\n",
      "installment                   140132 non-null float64\n",
      "open_acc                      140132 non-null float64\n",
      "total_acc                     140132 non-null float64\n",
      "dti                           140132 non-null float64\n",
      "purpose                       140132 non-null object\n",
      "grade                         140132 non-null object\n",
      "home_ownership                140132 non-null object\n",
      "inq_last_6mths                140132 non-null float64\n",
      "pub_rec                       140132 non-null float64\n",
      "revol_bal                     140132 non-null float64\n",
      "revol_util                    140132 non-null float64\n",
      "tot_coll_amt                  140132 non-null float64\n",
      "loan_amnt                     140132 non-null float64\n",
      "application_type              140132 non-null bool\n",
      "acc_now_delinq                140132 non-null float64\n",
      "dtypes: bool(2), float64(14), object(3)\n",
      "memory usage: 19.5+ MB\n"
     ]
    }
   ],
   "source": [
    "x_train['initial_list_status'] = x_train['initial_list_status'].astype('str').map({'f': bool(1), 'w': bool(0)}) # Label encoder\n",
    "x_train['application_type'] = x_train['application_type'].astype('str').map(lambda x: bool(1) if x == 'INDIVIDUAL' else bool(0))\n",
    "x_test['initial_list_status'] = x_test['initial_list_status'].astype('str').map({'f': bool(1), 'w': bool(0)}) # Label encoder\n",
    "x_test['application_type'] = x_test['application_type'].astype('str').map(lambda x: bool(1) if x == 'INDIVIDUAL' else bool(0))\n",
    "categorical_columns = x.columns[x.dtypes == 'object']\n"
   ]
  },
  {
   "cell_type": "code",
   "execution_count": 127,
   "metadata": {},
   "outputs": [],
   "source": [
    "params = {\n",
    "    'boosting_type': 'dart',\n",
    "    'objective': 'binary',\n",
    "    'metric': {'auc'},\n",
    "    'num_leaves': 20,\n",
    "    'max_depth' : 6,\n",
    "    'max_bin':100,\n",
    "    'learning_rate':  0.35,\n",
    "    'feature_fraction': 0.7,\n",
    "    'bagging_fraction': 0.8,\n",
    "    'bagging_freq': 5,\n",
    "    'lambda_l1' : 32,\n",
    "    'verbose': 0}"
   ]
  },
  {
   "cell_type": "code",
   "execution_count": 128,
   "metadata": {},
   "outputs": [
    {
     "data": {
      "text/plain": [
       "{'boosting_type': 'dart',\n",
       " 'objective': 'binary',\n",
       " 'metric': {'auc'},\n",
       " 'num_leaves': 20,\n",
       " 'max_depth': 6,\n",
       " 'max_bin': 100,\n",
       " 'learning_rate': 0.35,\n",
       " 'feature_fraction': 0.7,\n",
       " 'bagging_fraction': 0.8,\n",
       " 'bagging_freq': 5,\n",
       " 'lambda_l1': 32,\n",
       " 'verbose': 0}"
      ]
     },
     "execution_count": 128,
     "metadata": {},
     "output_type": "execute_result"
    }
   ],
   "source": [
    "params"
   ]
  },
  {
   "cell_type": "code",
   "execution_count": 129,
   "metadata": {},
   "outputs": [
    {
     "data": {
      "text/html": [
       "<div>\n",
       "<style scoped>\n",
       "    .dataframe tbody tr th:only-of-type {\n",
       "        vertical-align: middle;\n",
       "    }\n",
       "\n",
       "    .dataframe tbody tr th {\n",
       "        vertical-align: top;\n",
       "    }\n",
       "\n",
       "    .dataframe thead th {\n",
       "        text-align: right;\n",
       "    }\n",
       "</style>\n",
       "<table border=\"1\" class=\"dataframe\">\n",
       "  <thead>\n",
       "    <tr style=\"text-align: right;\">\n",
       "      <th></th>\n",
       "      <th>acc_now_delinq</th>\n",
       "      <th>annual_inc</th>\n",
       "      <th>application_type</th>\n",
       "      <th>collections_12_mths_ex_med</th>\n",
       "      <th>dti</th>\n",
       "      <th>grade_A</th>\n",
       "      <th>grade_B</th>\n",
       "      <th>grade_C</th>\n",
       "      <th>grade_D</th>\n",
       "      <th>grade_E</th>\n",
       "      <th>...</th>\n",
       "      <th>purpose_moving</th>\n",
       "      <th>purpose_other</th>\n",
       "      <th>purpose_renewable_energy</th>\n",
       "      <th>purpose_small_business</th>\n",
       "      <th>purpose_vacation</th>\n",
       "      <th>purpose_wedding</th>\n",
       "      <th>revol_bal</th>\n",
       "      <th>revol_util</th>\n",
       "      <th>tot_coll_amt</th>\n",
       "      <th>total_acc</th>\n",
       "    </tr>\n",
       "  </thead>\n",
       "  <tbody>\n",
       "    <tr>\n",
       "      <th>193136</th>\n",
       "      <td>0.0</td>\n",
       "      <td>75000.0</td>\n",
       "      <td>True</td>\n",
       "      <td>0.0</td>\n",
       "      <td>26.85</td>\n",
       "      <td>0</td>\n",
       "      <td>1</td>\n",
       "      <td>0</td>\n",
       "      <td>0</td>\n",
       "      <td>0</td>\n",
       "      <td>...</td>\n",
       "      <td>0</td>\n",
       "      <td>0</td>\n",
       "      <td>0</td>\n",
       "      <td>0</td>\n",
       "      <td>0</td>\n",
       "      <td>0</td>\n",
       "      <td>38230.0</td>\n",
       "      <td>87.7</td>\n",
       "      <td>0.0</td>\n",
       "      <td>42.0</td>\n",
       "    </tr>\n",
       "    <tr>\n",
       "      <th>27784</th>\n",
       "      <td>0.0</td>\n",
       "      <td>73000.0</td>\n",
       "      <td>True</td>\n",
       "      <td>0.0</td>\n",
       "      <td>16.47</td>\n",
       "      <td>0</td>\n",
       "      <td>0</td>\n",
       "      <td>0</td>\n",
       "      <td>1</td>\n",
       "      <td>0</td>\n",
       "      <td>...</td>\n",
       "      <td>0</td>\n",
       "      <td>0</td>\n",
       "      <td>0</td>\n",
       "      <td>0</td>\n",
       "      <td>0</td>\n",
       "      <td>0</td>\n",
       "      <td>9874.0</td>\n",
       "      <td>41.0</td>\n",
       "      <td>0.0</td>\n",
       "      <td>38.0</td>\n",
       "    </tr>\n",
       "    <tr>\n",
       "      <th>157132</th>\n",
       "      <td>0.0</td>\n",
       "      <td>200000.0</td>\n",
       "      <td>True</td>\n",
       "      <td>0.0</td>\n",
       "      <td>13.50</td>\n",
       "      <td>1</td>\n",
       "      <td>0</td>\n",
       "      <td>0</td>\n",
       "      <td>0</td>\n",
       "      <td>0</td>\n",
       "      <td>...</td>\n",
       "      <td>0</td>\n",
       "      <td>0</td>\n",
       "      <td>0</td>\n",
       "      <td>0</td>\n",
       "      <td>0</td>\n",
       "      <td>0</td>\n",
       "      <td>34550.0</td>\n",
       "      <td>63.0</td>\n",
       "      <td>0.0</td>\n",
       "      <td>37.0</td>\n",
       "    </tr>\n",
       "    <tr>\n",
       "      <th>81962</th>\n",
       "      <td>0.0</td>\n",
       "      <td>100000.0</td>\n",
       "      <td>True</td>\n",
       "      <td>0.0</td>\n",
       "      <td>20.48</td>\n",
       "      <td>0</td>\n",
       "      <td>0</td>\n",
       "      <td>0</td>\n",
       "      <td>1</td>\n",
       "      <td>0</td>\n",
       "      <td>...</td>\n",
       "      <td>0</td>\n",
       "      <td>0</td>\n",
       "      <td>0</td>\n",
       "      <td>0</td>\n",
       "      <td>0</td>\n",
       "      <td>0</td>\n",
       "      <td>88599.0</td>\n",
       "      <td>60.9</td>\n",
       "      <td>0.0</td>\n",
       "      <td>36.0</td>\n",
       "    </tr>\n",
       "    <tr>\n",
       "      <th>161</th>\n",
       "      <td>0.0</td>\n",
       "      <td>65000.0</td>\n",
       "      <td>True</td>\n",
       "      <td>0.0</td>\n",
       "      <td>14.00</td>\n",
       "      <td>0</td>\n",
       "      <td>0</td>\n",
       "      <td>1</td>\n",
       "      <td>0</td>\n",
       "      <td>0</td>\n",
       "      <td>...</td>\n",
       "      <td>0</td>\n",
       "      <td>0</td>\n",
       "      <td>0</td>\n",
       "      <td>0</td>\n",
       "      <td>0</td>\n",
       "      <td>0</td>\n",
       "      <td>10948.0</td>\n",
       "      <td>43.6</td>\n",
       "      <td>0.0</td>\n",
       "      <td>19.0</td>\n",
       "    </tr>\n",
       "  </tbody>\n",
       "</table>\n",
       "<p>5 rows × 43 columns</p>\n",
       "</div>"
      ],
      "text/plain": [
       "        acc_now_delinq  annual_inc  application_type  \\\n",
       "193136             0.0     75000.0              True   \n",
       "27784              0.0     73000.0              True   \n",
       "157132             0.0    200000.0              True   \n",
       "81962              0.0    100000.0              True   \n",
       "161                0.0     65000.0              True   \n",
       "\n",
       "        collections_12_mths_ex_med    dti  grade_A  grade_B  grade_C  grade_D  \\\n",
       "193136                         0.0  26.85        0        1        0        0   \n",
       "27784                          0.0  16.47        0        0        0        1   \n",
       "157132                         0.0  13.50        1        0        0        0   \n",
       "81962                          0.0  20.48        0        0        0        1   \n",
       "161                            0.0  14.00        0        0        1        0   \n",
       "\n",
       "        grade_E  ...  purpose_moving  purpose_other  purpose_renewable_energy  \\\n",
       "193136        0  ...               0              0                         0   \n",
       "27784         0  ...               0              0                         0   \n",
       "157132        0  ...               0              0                         0   \n",
       "81962         0  ...               0              0                         0   \n",
       "161           0  ...               0              0                         0   \n",
       "\n",
       "        purpose_small_business  purpose_vacation  purpose_wedding  revol_bal  \\\n",
       "193136                       0                 0                0    38230.0   \n",
       "27784                        0                 0                0     9874.0   \n",
       "157132                       0                 0                0    34550.0   \n",
       "81962                        0                 0                0    88599.0   \n",
       "161                          0                 0                0    10948.0   \n",
       "\n",
       "        revol_util  tot_coll_amt  total_acc  \n",
       "193136        87.7           0.0       42.0  \n",
       "27784         41.0           0.0       38.0  \n",
       "157132        63.0           0.0       37.0  \n",
       "81962         60.9           0.0       36.0  \n",
       "161           43.6           0.0       19.0  \n",
       "\n",
       "[5 rows x 43 columns]"
      ]
     },
     "execution_count": 129,
     "metadata": {},
     "output_type": "execute_result"
    }
   ],
   "source": [
    "x_train.head()"
   ]
  },
  {
   "cell_type": "code",
   "execution_count": 130,
   "metadata": {},
   "outputs": [],
   "source": [
    "lgb_train = lgb.Dataset(x_train, y_train, free_raw_data=False)\n",
    "lgb_eval = lgb.Dataset(x_test, y_test, reference=lgb_train, free_raw_data=False)"
   ]
  },
  {
   "cell_type": "code",
   "execution_count": 131,
   "metadata": {},
   "outputs": [],
   "source": [
    "evals_result = {}"
   ]
  },
  {
   "cell_type": "code",
   "execution_count": 132,
   "metadata": {},
   "outputs": [],
   "source": [
    "num_train, num_feature = x_train.shape\n",
    "feature_name = ['feature_' + str(col) for col in range(num_feature)]"
   ]
  },
  {
   "cell_type": "code",
   "execution_count": null,
   "metadata": {},
   "outputs": [],
   "source": []
  },
  {
   "cell_type": "code",
   "execution_count": 133,
   "metadata": {
    "scrolled": false
   },
   "outputs": [
    {
     "name": "stdout",
     "output_type": "stream",
     "text": [
      "[100]\ttraining's auc: 0.720699\tvalid_1's auc: 0.708299\n",
      "[200]\ttraining's auc: 0.726036\tvalid_1's auc: 0.709584\n",
      "[300]\ttraining's auc: 0.730732\tvalid_1's auc: 0.710076\n",
      "[400]\ttraining's auc: 0.734714\tvalid_1's auc: 0.71066\n",
      "[500]\ttraining's auc: 0.738471\tvalid_1's auc: 0.710405\n",
      "[600]\ttraining's auc: 0.739775\tvalid_1's auc: 0.710752\n",
      "[700]\ttraining's auc: 0.742352\tvalid_1's auc: 0.711178\n",
      "[800]\ttraining's auc: 0.744439\tvalid_1's auc: 0.710858\n",
      "[900]\ttraining's auc: 0.746693\tvalid_1's auc: 0.710874\n",
      "[1000]\ttraining's auc: 0.748546\tvalid_1's auc: 0.710658\n",
      "[1100]\ttraining's auc: 0.750315\tvalid_1's auc: 0.709928\n",
      "[1200]\ttraining's auc: 0.751638\tvalid_1's auc: 0.709708\n",
      "[1300]\ttraining's auc: 0.75301\tvalid_1's auc: 0.709218\n",
      "[1400]\ttraining's auc: 0.755273\tvalid_1's auc: 0.708481\n",
      "[1500]\ttraining's auc: 0.756091\tvalid_1's auc: 0.708636\n",
      "[1600]\ttraining's auc: 0.757775\tvalid_1's auc: 0.708289\n",
      "[1700]\ttraining's auc: 0.759684\tvalid_1's auc: 0.708028\n",
      "[1800]\ttraining's auc: 0.761302\tvalid_1's auc: 0.707554\n",
      "[1900]\ttraining's auc: 0.7632\tvalid_1's auc: 0.707521\n",
      "[2000]\ttraining's auc: 0.764286\tvalid_1's auc: 0.707136\n",
      "[2100]\ttraining's auc: 0.766443\tvalid_1's auc: 0.706836\n",
      "[2200]\ttraining's auc: 0.768052\tvalid_1's auc: 0.706818\n",
      "[2300]\ttraining's auc: 0.769818\tvalid_1's auc: 0.70626\n",
      "[2400]\ttraining's auc: 0.771822\tvalid_1's auc: 0.705925\n",
      "[2500]\ttraining's auc: 0.773159\tvalid_1's auc: 0.705659\n",
      "[2600]\ttraining's auc: 0.774375\tvalid_1's auc: 0.705493\n",
      "[2700]\ttraining's auc: 0.775843\tvalid_1's auc: 0.705314\n",
      "[2800]\ttraining's auc: 0.776783\tvalid_1's auc: 0.704982\n",
      "[2900]\ttraining's auc: 0.777949\tvalid_1's auc: 0.704872\n",
      "[3000]\ttraining's auc: 0.779499\tvalid_1's auc: 0.704486\n",
      "[3100]\ttraining's auc: 0.780948\tvalid_1's auc: 0.704135\n",
      "[3200]\ttraining's auc: 0.78203\tvalid_1's auc: 0.703963\n",
      "[3300]\ttraining's auc: 0.783242\tvalid_1's auc: 0.703805\n",
      "[3400]\ttraining's auc: 0.785096\tvalid_1's auc: 0.703107\n",
      "[3500]\ttraining's auc: 0.786311\tvalid_1's auc: 0.702761\n",
      "[3600]\ttraining's auc: 0.787844\tvalid_1's auc: 0.702264\n",
      "[3700]\ttraining's auc: 0.789103\tvalid_1's auc: 0.702525\n",
      "[3800]\ttraining's auc: 0.790729\tvalid_1's auc: 0.70229\n",
      "[3900]\ttraining's auc: 0.792012\tvalid_1's auc: 0.701814\n",
      "[4000]\ttraining's auc: 0.79301\tvalid_1's auc: 0.701848\n"
     ]
    }
   ],
   "source": [
    "gbm = lgb.train(params,\n",
    "                lgb_train,\n",
    "                num_boost_round=4000,\n",
    "                valid_sets=[lgb_train, lgb_eval],\n",
    "               # feature_name=feature_name,              \n",
    "              #  categorical_feature= categorical_features_indices,\n",
    "             #   learning_rates=lambda iter: 0.05 * (0.99 ** iter),\n",
    "                evals_result=evals_result,\n",
    "                verbose_eval=100)"
   ]
  },
  {
   "cell_type": "code",
   "execution_count": 134,
   "metadata": {},
   "outputs": [
    {
     "data": {
      "image/png": "[encoded data removed]",
      "text/plain": [
       "<Figure size 432x288 with 1 Axes>"
      ]
     },
     "metadata": {
      "needs_background": "light"
     },
     "output_type": "display_data"
    }
   ],
   "source": [
    "lgb.plot_metric(evals_result, metric='auc')\n",
    "plt.show()"
   ]
  },
  {
   "cell_type": "code",
   "execution_count": null,
   "metadata": {},
   "outputs": [],
   "source": []
  },
  {
   "cell_type": "code",
   "execution_count": null,
   "metadata": {},
   "outputs": [],
   "source": []
  }
 ],
 "metadata": {
  "kernelspec": {
   "display_name": "Python 3",
   "language": "python",
   "name": "python3"
  },
  "language_info": {
   "codemirror_mode": {
    "name": "ipython",
    "version": 3
   },
   "file_extension": ".py",
   "mimetype": "text/x-python",
   "name": "python",
   "nbconvert_exporter": "python",
   "pygments_lexer": "ipython3",
   "version": "3.7.2"
  }
 },
 "nbformat": 4,
 "nbformat_minor": 2
}
