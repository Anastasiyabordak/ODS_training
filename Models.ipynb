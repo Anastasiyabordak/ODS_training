{
 "cells": [
  {
   "cell_type": "markdown",
   "metadata": {},
   "source": [
    "#### Для корректной работы нужно\n",
    "* переместить файлы test.csv & train.csv в директорию data/\n",
    "* скачать [graphviz](http://www.graphviz.org/download)  \n",
    "* вылетает ошибка [“dot.exe” not found in path](https://stackoverflow.com/questions/40632486/dot-exe-not-found-in-path-pydot-on-python-windows-7)"
   ]
  },
  {
   "cell_type": "code",
   "execution_count": 1,
   "metadata": {},
   "outputs": [],
   "source": [
    "import pandas as pd\n",
    "import sys\n",
    "import numpy as np\n",
    "from sklearn.model_selection import train_test_split\n",
    "from sklearn.metrics import mean_squared_error, r2_score\n",
    "from sklearn.preprocessing import StandardScaler  \n",
    "from sklearn.model_selection import cross_validate\n",
    "from sklearn.metrics import recall_score, roc_auc_score,precision_score,accuracy_score,roc_curve,make_scorer\n",
    "import matplotlib.pyplot as plt\n",
    "pd.options.mode.chained_assignment = None "
   ]
  },
  {
   "cell_type": "code",
   "execution_count": 2,
   "metadata": {
    "scrolled": false
   },
   "outputs": [
    {
     "data": {
      "text/html": [
       "<div>\n",
       "<style scoped>\n",
       "    .dataframe tbody tr th:only-of-type {\n",
       "        vertical-align: middle;\n",
       "    }\n",
       "\n",
       "    .dataframe tbody tr th {\n",
       "        vertical-align: top;\n",
       "    }\n",
       "\n",
       "    .dataframe thead th {\n",
       "        text-align: right;\n",
       "    }\n",
       "</style>\n",
       "<table border=\"1\" class=\"dataframe\">\n",
       "  <thead>\n",
       "    <tr style=\"text-align: right;\">\n",
       "      <th></th>\n",
       "      <th>loan_amnt</th>\n",
       "      <th>term</th>\n",
       "      <th>int_rate</th>\n",
       "      <th>installment</th>\n",
       "      <th>grade</th>\n",
       "      <th>sub_grade</th>\n",
       "      <th>emp_title</th>\n",
       "      <th>emp_length</th>\n",
       "      <th>home_ownership</th>\n",
       "      <th>annual_inc</th>\n",
       "      <th>...</th>\n",
       "      <th>total_acc</th>\n",
       "      <th>initial_list_status</th>\n",
       "      <th>collections_12_mths_ex_med</th>\n",
       "      <th>policy_code</th>\n",
       "      <th>application_type</th>\n",
       "      <th>acc_now_delinq</th>\n",
       "      <th>tot_coll_amt</th>\n",
       "      <th>tot_cur_bal</th>\n",
       "      <th>total_rev_hi_lim</th>\n",
       "      <th>record_id</th>\n",
       "    </tr>\n",
       "  </thead>\n",
       "  <tbody>\n",
       "    <tr>\n",
       "      <th>0</th>\n",
       "      <td>15000.0</td>\n",
       "      <td>36 months</td>\n",
       "      <td>11.99</td>\n",
       "      <td>498.15</td>\n",
       "      <td>B</td>\n",
       "      <td>B3</td>\n",
       "      <td>Quality Assurance Specialist</td>\n",
       "      <td>4 years</td>\n",
       "      <td>MORTGAGE</td>\n",
       "      <td>70000.0</td>\n",
       "      <td>...</td>\n",
       "      <td>32.0</td>\n",
       "      <td>f</td>\n",
       "      <td>0.0</td>\n",
       "      <td>1.0</td>\n",
       "      <td>INDIVIDUAL</td>\n",
       "      <td>0.0</td>\n",
       "      <td>0.0</td>\n",
       "      <td>295215.0</td>\n",
       "      <td>20500.0</td>\n",
       "      <td>453246940</td>\n",
       "    </tr>\n",
       "    <tr>\n",
       "      <th>1</th>\n",
       "      <td>3725.0</td>\n",
       "      <td>36 months</td>\n",
       "      <td>6.03</td>\n",
       "      <td>113.38</td>\n",
       "      <td>A</td>\n",
       "      <td>A1</td>\n",
       "      <td>NaN</td>\n",
       "      <td>NaN</td>\n",
       "      <td>MORTGAGE</td>\n",
       "      <td>52260.0</td>\n",
       "      <td>...</td>\n",
       "      <td>9.0</td>\n",
       "      <td>f</td>\n",
       "      <td>0.0</td>\n",
       "      <td>1.0</td>\n",
       "      <td>INDIVIDUAL</td>\n",
       "      <td>0.0</td>\n",
       "      <td>0.0</td>\n",
       "      <td>25130.0</td>\n",
       "      <td>14200.0</td>\n",
       "      <td>453313687</td>\n",
       "    </tr>\n",
       "    <tr>\n",
       "      <th>2</th>\n",
       "      <td>16000.0</td>\n",
       "      <td>36 months</td>\n",
       "      <td>11.14</td>\n",
       "      <td>524.89</td>\n",
       "      <td>B</td>\n",
       "      <td>B2</td>\n",
       "      <td>KIPP NYC</td>\n",
       "      <td>3 years</td>\n",
       "      <td>RENT</td>\n",
       "      <td>67500.0</td>\n",
       "      <td>...</td>\n",
       "      <td>22.0</td>\n",
       "      <td>f</td>\n",
       "      <td>0.0</td>\n",
       "      <td>1.0</td>\n",
       "      <td>INDIVIDUAL</td>\n",
       "      <td>0.0</td>\n",
       "      <td>193.0</td>\n",
       "      <td>41737.0</td>\n",
       "      <td>19448.0</td>\n",
       "      <td>453283543</td>\n",
       "    </tr>\n",
       "    <tr>\n",
       "      <th>3</th>\n",
       "      <td>4200.0</td>\n",
       "      <td>36 months</td>\n",
       "      <td>13.33</td>\n",
       "      <td>142.19</td>\n",
       "      <td>C</td>\n",
       "      <td>C3</td>\n",
       "      <td>Receptionist</td>\n",
       "      <td>&lt; 1 year</td>\n",
       "      <td>MORTGAGE</td>\n",
       "      <td>21600.0</td>\n",
       "      <td>...</td>\n",
       "      <td>19.0</td>\n",
       "      <td>w</td>\n",
       "      <td>0.0</td>\n",
       "      <td>1.0</td>\n",
       "      <td>INDIVIDUAL</td>\n",
       "      <td>0.0</td>\n",
       "      <td>165.0</td>\n",
       "      <td>28187.0</td>\n",
       "      <td>14500.0</td>\n",
       "      <td>453447199</td>\n",
       "    </tr>\n",
       "    <tr>\n",
       "      <th>4</th>\n",
       "      <td>6500.0</td>\n",
       "      <td>36 months</td>\n",
       "      <td>12.69</td>\n",
       "      <td>218.05</td>\n",
       "      <td>B</td>\n",
       "      <td>B5</td>\n",
       "      <td>Medtox Laboratories</td>\n",
       "      <td>10+ years</td>\n",
       "      <td>RENT</td>\n",
       "      <td>41000.0</td>\n",
       "      <td>...</td>\n",
       "      <td>12.0</td>\n",
       "      <td>f</td>\n",
       "      <td>0.0</td>\n",
       "      <td>1.0</td>\n",
       "      <td>INDIVIDUAL</td>\n",
       "      <td>0.0</td>\n",
       "      <td>NaN</td>\n",
       "      <td>NaN</td>\n",
       "      <td>NaN</td>\n",
       "      <td>453350283</td>\n",
       "    </tr>\n",
       "  </tbody>\n",
       "</table>\n",
       "<p>5 rows × 36 columns</p>\n",
       "</div>"
      ],
      "text/plain": [
       "   loan_amnt        term  int_rate  installment grade sub_grade  \\\n",
       "0    15000.0   36 months     11.99       498.15     B        B3   \n",
       "1     3725.0   36 months      6.03       113.38     A        A1   \n",
       "2    16000.0   36 months     11.14       524.89     B        B2   \n",
       "3     4200.0   36 months     13.33       142.19     C        C3   \n",
       "4     6500.0   36 months     12.69       218.05     B        B5   \n",
       "\n",
       "                      emp_title emp_length home_ownership  annual_inc  ...  \\\n",
       "0  Quality Assurance Specialist    4 years       MORTGAGE     70000.0  ...   \n",
       "1                           NaN        NaN       MORTGAGE     52260.0  ...   \n",
       "2                     KIPP NYC     3 years           RENT     67500.0  ...   \n",
       "3                  Receptionist   < 1 year       MORTGAGE     21600.0  ...   \n",
       "4           Medtox Laboratories  10+ years           RENT     41000.0  ...   \n",
       "\n",
       "  total_acc initial_list_status  collections_12_mths_ex_med policy_code  \\\n",
       "0      32.0                   f                         0.0         1.0   \n",
       "1       9.0                   f                         0.0         1.0   \n",
       "2      22.0                   f                         0.0         1.0   \n",
       "3      19.0                   w                         0.0         1.0   \n",
       "4      12.0                   f                         0.0         1.0   \n",
       "\n",
       "  application_type acc_now_delinq tot_coll_amt  tot_cur_bal  total_rev_hi_lim  \\\n",
       "0       INDIVIDUAL            0.0          0.0     295215.0           20500.0   \n",
       "1       INDIVIDUAL            0.0          0.0      25130.0           14200.0   \n",
       "2       INDIVIDUAL            0.0        193.0      41737.0           19448.0   \n",
       "3       INDIVIDUAL            0.0        165.0      28187.0           14500.0   \n",
       "4       INDIVIDUAL            0.0          NaN          NaN               NaN   \n",
       "\n",
       "   record_id  \n",
       "0  453246940  \n",
       "1  453313687  \n",
       "2  453283543  \n",
       "3  453447199  \n",
       "4  453350283  \n",
       "\n",
       "[5 rows x 36 columns]"
      ]
     },
     "execution_count": 2,
     "metadata": {},
     "output_type": "execute_result"
    }
   ],
   "source": [
    "train = pd.read_csv('data/train.csv')\n",
    "train.head()"
   ]
  },
  {
   "cell_type": "code",
   "execution_count": 3,
   "metadata": {},
   "outputs": [
    {
     "name": "stdout",
     "output_type": "stream",
     "text": [
      "<class 'pandas.core.frame.DataFrame'>\n",
      "RangeIndex: 200189 entries, 0 to 200188\n",
      "Data columns (total 36 columns):\n",
      "loan_amnt                     200189 non-null float64\n",
      "term                          200189 non-null object\n",
      "int_rate                      200189 non-null float64\n",
      "installment                   200189 non-null float64\n",
      "grade                         200189 non-null object\n",
      "sub_grade                     200189 non-null object\n",
      "emp_title                     189062 non-null object\n",
      "emp_length                    192135 non-null object\n",
      "home_ownership                200189 non-null object\n",
      "annual_inc                    200189 non-null float64\n",
      "verification_status           200189 non-null object\n",
      "issue_d                       200189 non-null object\n",
      "loan_status                   200189 non-null int64\n",
      "pymnt_plan                    200189 non-null object\n",
      "purpose                       200189 non-null object\n",
      "zip_code                      200189 non-null object\n",
      "addr_state                    200189 non-null object\n",
      "dti                           200189 non-null float64\n",
      "delinq_2yrs                   200189 non-null float64\n",
      "earliest_cr_line              200189 non-null object\n",
      "inq_last_6mths                200189 non-null float64\n",
      "mths_since_last_delinq        89621 non-null float64\n",
      "open_acc                      200189 non-null float64\n",
      "pub_rec                       200189 non-null float64\n",
      "revol_bal                     200189 non-null float64\n",
      "revol_util                    200035 non-null float64\n",
      "total_acc                     200189 non-null float64\n",
      "initial_list_status           200189 non-null object\n",
      "collections_12_mths_ex_med    200145 non-null float64\n",
      "policy_code                   200189 non-null float64\n",
      "application_type              200189 non-null object\n",
      "acc_now_delinq                200189 non-null float64\n",
      "tot_coll_amt                  152232 non-null float64\n",
      "tot_cur_bal                   152232 non-null float64\n",
      "total_rev_hi_lim              152232 non-null float64\n",
      "record_id                     200189 non-null int64\n",
      "dtypes: float64(19), int64(2), object(15)\n",
      "memory usage: 55.0+ MB\n"
     ]
    }
   ],
   "source": [
    "train.info()"
   ]
  },
  {
   "cell_type": "markdown",
   "metadata": {},
   "source": [
    "* int_rate - Interest Rate on the loan\n",
    "* annual_inc - Theannual income provided by the borrower during registration\n",
    "* inq_last_6mths -The number of inquiries in past 6 months (excluding auto and mortgage inquiries)\n",
    "* mths_since_last_delinq  - Months since most recent personal finance delinquency.\n",
    "* pub_rec  - Number of derogatory public records\n",
    "* revolBal - Total credit revolving balance\n",
    "* revolUtil - Revolving line utilization rate, or the amount of credit the borrower is using relative to all available revolving credit.\n",
    "* loan_amnt  - The listed amount of the loan applied for by the borrower. If at some point in time, the credit department reduces the loan amount, then it will be reflected in this value.\n",
    "* installment - The monthly payment owed by the borrower if the loan originates.\n",
    "* home_ownership    \n",
    "* emp_title                   \n",
    "* annual_inc                  \n",
    "* verification_status  - Indicates if the co-borrowers' joint income was verified by LC, not verified, or if the income source was verified\n",
    "* purpose                 \n",
    "* dti -  A ratio calculated using the borrower’s total monthly debt payments on the total debt obligations, excluding mortgage and the requested LC loan, divided by the borrower’s self-reported monthly income.\n",
    "* open_acc                  \n",
    "* total_acc                    \n",
    "* initial_list_status - The initial listing status of the loan. Possible values are – W, F           \n",
    "* collections_12_mths_ex_med - Number of collections in 12 months excluding medical collections\n",
    "* application_type - Indicates whether the loan is an individual application or a joint application with two co-borrowers\n",
    "* acc_now_delinq - The number of accounts on which the borrower is now delinquent.\n"
   ]
  },
  {
   "cell_type": "markdown",
   "metadata": {},
   "source": [
    "## Начальная обработка данных:"
   ]
  },
  {
   "cell_type": "code",
   "execution_count": 4,
   "metadata": {},
   "outputs": [],
   "source": [
    "def Nan_killer(x):\n",
    "    x['collections_12_mths_ex_med'] = x['collections_12_mths_ex_med'].fillna(0)\n",
    "    x['revol_util'] = x['revol_util'].fillna(0)\n",
    "    x['tot_coll_amt'] = x['tot_coll_amt'].fillna(0)\n"
   ]
  },
  {
   "cell_type": "code",
   "execution_count": 5,
   "metadata": {},
   "outputs": [],
   "source": [
    "def proc(x,y):\n",
    "    x_train, x_test, y_train, y_test = train_test_split(x, y, test_size=0.3, random_state = 42)\n",
    "    x_train['initial_list_status'] = x_train['initial_list_status'].astype('str').map({'f': bool(1), 'w': bool(0)}) # Label encoder\n",
    "    x_train['application_type'] = x_train['application_type'].astype('str').map(lambda x: bool(1) if x == 'INDIVIDUAL' else bool(0))\n",
    "    x_test['initial_list_status'] = x_test['initial_list_status'].astype('str').map({'f': bool(1), 'w': bool(0)}) # Label encoder\n",
    "    x_test['application_type'] = x_test['application_type'].astype('str').map(lambda x: bool(1) if x == 'INDIVIDUAL' else bool(0))\n",
    "    x_train = pd.get_dummies(x_train, columns = ['purpose','grade','home_ownership'])   # OHE (?????)\n",
    "    x_test = pd.get_dummies(x_test, columns = ['purpose','grade','home_ownership'])\n",
    "    for i in list(x_test): # удаление из тестовых данных столбцов, если их не было в тренировочных\n",
    "        if i not in list(x_train):\n",
    "            list(my_dataframe)\n",
    "            x_test.drop(i, axis=1, inplace=True)\n",
    "    for i in list(x_train): # добавление колонки с нулями, если такой нет в тестовой\n",
    "        if i not in list(x_test):\n",
    "            x_test[i] = 0\n",
    "    \n",
    "\n",
    "    x_test = x_test.reindex(sorted(x_test.columns), axis=1)\n",
    "    x_train = x_train.reindex(sorted(x_test.columns), axis=1)\n",
    "    return x_train, x_test, y_train, y_test"
   ]
  },
  {
   "cell_type": "markdown",
   "metadata": {},
   "source": [
    "## Функция для отображения метрик:\n",
    "* ROC-AUC\n",
    "* precision\n",
    "* recall\n",
    "* accuracy"
   ]
  },
  {
   "cell_type": "code",
   "execution_count": 6,
   "metadata": {},
   "outputs": [],
   "source": [
    "\n",
    "def show_scores(model, x_test, y_test):\n",
    "    pred =  model.predict(x_test)\n",
    "    print('Recall: %.2f' % recall_score(y_test,pred))\n",
    "    print('Precision score: %.2f' % precision_score(y_test,pred))\n",
    "    print('Accuracy score: %.2f' % accuracy_score(y_test, pred))\n",
    " "
   ]
  },
  {
   "cell_type": "code",
   "execution_count": 7,
   "metadata": {},
   "outputs": [],
   "source": [
    "def plot_roc(model, x_test, y_test):  \n",
    "    pred = model.predict_proba(x_test)\n",
    "    print(\"ROC-AUC score: \", roc_auc_score(y_test, pred[:, 1]))\n",
    "    fpr, tpr,_=roc_curve(y_test,pred[:, 1],drop_intermediate=True)\n",
    "    plt.figure()\n",
    "    plt.plot(fpr, tpr, color='red',\n",
    "            lw=2, label='ROC curve')\n",
    "    plt.plot([0, 1], [0, 1], color='blue', lw=2, linestyle='--')\n",
    "    plt.xlabel('FPR')\n",
    "    plt.ylabel('TPR')\n",
    "    plt.title('ROC curve')\n",
    "    plt.show()"
   ]
  },
  {
   "cell_type": "markdown",
   "metadata": {},
   "source": [
    "# Регрессия"
   ]
  },
  {
   "cell_type": "code",
   "execution_count": 38,
   "metadata": {},
   "outputs": [],
   "source": [
    "from sklearn import linear_model\n",
    "from sklearn.tree import DecisionTreeRegressor"
   ]
  },
  {
   "cell_type": "code",
   "execution_count": 39,
   "metadata": {},
   "outputs": [
    {
     "name": "stdout",
     "output_type": "stream",
     "text": [
      "<class 'pandas.core.frame.DataFrame'>\n",
      "RangeIndex: 200189 entries, 0 to 200188\n",
      "Data columns (total 19 columns):\n",
      "annual_inc                    200189 non-null float64\n",
      "collections_12_mths_ex_med    200145 non-null float64\n",
      "initial_list_status           200189 non-null object\n",
      "installment                   200189 non-null float64\n",
      "open_acc                      200189 non-null float64\n",
      "total_acc                     200189 non-null float64\n",
      "dti                           200189 non-null float64\n",
      "purpose                       200189 non-null object\n",
      "grade                         200189 non-null object\n",
      "home_ownership                200189 non-null object\n",
      "inq_last_6mths                200189 non-null float64\n",
      "pub_rec                       200189 non-null float64\n",
      "revol_bal                     200189 non-null float64\n",
      "revol_util                    200035 non-null float64\n",
      "loan_status                   200189 non-null int64\n",
      "tot_coll_amt                  152232 non-null float64\n",
      "loan_amnt                     200189 non-null float64\n",
      "application_type              200189 non-null object\n",
      "acc_now_delinq                200189 non-null float64\n",
      "dtypes: float64(13), int64(1), object(5)\n",
      "memory usage: 29.0+ MB\n"
     ]
    }
   ],
   "source": [
    "y = train[train['int_rate'] >= 0]['int_rate'] # целевой признак\n",
    "x = train.loc[:,['annual_inc','collections_12_mths_ex_med','initial_list_status',\n",
    "                 'installment','open_acc','total_acc','dti','purpose',\n",
    "                 'grade','home_ownership','inq_last_6mths','pub_rec','revol_bal','revol_util','loan_status',\n",
    "                 'tot_coll_amt','loan_amnt','application_type','acc_now_delinq' ] ] # параметры\n",
    "x.info()"
   ]
  },
  {
   "cell_type": "code",
   "execution_count": 40,
   "metadata": {},
   "outputs": [
    {
     "name": "stdout",
     "output_type": "stream",
     "text": [
      "<class 'pandas.core.frame.DataFrame'>\n",
      "RangeIndex: 200189 entries, 0 to 200188\n",
      "Data columns (total 19 columns):\n",
      "annual_inc                    200189 non-null float64\n",
      "collections_12_mths_ex_med    200189 non-null float64\n",
      "initial_list_status           200189 non-null object\n",
      "installment                   200189 non-null float64\n",
      "open_acc                      200189 non-null float64\n",
      "total_acc                     200189 non-null float64\n",
      "dti                           200189 non-null float64\n",
      "purpose                       200189 non-null object\n",
      "grade                         200189 non-null object\n",
      "home_ownership                200189 non-null object\n",
      "inq_last_6mths                200189 non-null float64\n",
      "pub_rec                       200189 non-null float64\n",
      "revol_bal                     200189 non-null float64\n",
      "revol_util                    200189 non-null float64\n",
      "loan_status                   200189 non-null int64\n",
      "tot_coll_amt                  200189 non-null float64\n",
      "loan_amnt                     200189 non-null float64\n",
      "application_type              200189 non-null object\n",
      "acc_now_delinq                200189 non-null float64\n",
      "dtypes: float64(13), int64(1), object(5)\n",
      "memory usage: 29.0+ MB\n"
     ]
    }
   ],
   "source": [
    "#NaN killer\n",
    "Nan_killer(x)\n",
    "x.info()"
   ]
  },
  {
   "cell_type": "code",
   "execution_count": 41,
   "metadata": {},
   "outputs": [
    {
     "data": {
      "text/plain": [
       "annual_inc                    16284\n",
       "collections_12_mths_ex_med        7\n",
       "initial_list_status               2\n",
       "installment                   41347\n",
       "open_acc                         58\n",
       "total_acc                       105\n",
       "dti                            3975\n",
       "purpose                          14\n",
       "grade                             7\n",
       "home_ownership                    6\n",
       "inq_last_6mths                    9\n",
       "pub_rec                          13\n",
       "revol_bal                     44045\n",
       "revol_util                     1180\n",
       "loan_status                       2\n",
       "tot_coll_amt                   3646\n",
       "loan_amnt                      1317\n",
       "application_type                  2\n",
       "acc_now_delinq                    6\n",
       "dtype: int64"
      ]
     },
     "execution_count": 41,
     "metadata": {},
     "output_type": "execute_result"
    }
   ],
   "source": [
    "x.nunique()"
   ]
  },
  {
   "cell_type": "code",
   "execution_count": 42,
   "metadata": {},
   "outputs": [],
   "source": [
    "x_train, x_test, y_train, y_test = proc(x,y)"
   ]
  },
  {
   "cell_type": "code",
   "execution_count": 43,
   "metadata": {},
   "outputs": [
    {
     "name": "stdout",
     "output_type": "stream",
     "text": [
      "<class 'pandas.core.frame.DataFrame'>\n",
      "Int64Index: 140132 entries, 193136 to 121958\n",
      "Data columns (total 43 columns):\n",
      "acc_now_delinq                140132 non-null float64\n",
      "annual_inc                    140132 non-null float64\n",
      "application_type              140132 non-null int64\n",
      "collections_12_mths_ex_med    140132 non-null float64\n",
      "dti                           140132 non-null float64\n",
      "grade_A                       140132 non-null uint8\n",
      "grade_B                       140132 non-null uint8\n",
      "grade_C                       140132 non-null uint8\n",
      "grade_D                       140132 non-null uint8\n",
      "grade_E                       140132 non-null uint8\n",
      "grade_F                       140132 non-null uint8\n",
      "grade_G                       140132 non-null uint8\n",
      "home_ownership_ANY            140132 non-null uint8\n",
      "home_ownership_MORTGAGE       140132 non-null uint8\n",
      "home_ownership_NONE           140132 non-null uint8\n",
      "home_ownership_OTHER          140132 non-null uint8\n",
      "home_ownership_OWN            140132 non-null uint8\n",
      "home_ownership_RENT           140132 non-null uint8\n",
      "initial_list_status           140132 non-null int64\n",
      "inq_last_6mths                140132 non-null float64\n",
      "installment                   140132 non-null float64\n",
      "loan_amnt                     140132 non-null float64\n",
      "loan_status                   140132 non-null int64\n",
      "open_acc                      140132 non-null float64\n",
      "pub_rec                       140132 non-null float64\n",
      "purpose_car                   140132 non-null uint8\n",
      "purpose_credit_card           140132 non-null uint8\n",
      "purpose_debt_consolidation    140132 non-null uint8\n",
      "purpose_educational           140132 non-null uint8\n",
      "purpose_home_improvement      140132 non-null uint8\n",
      "purpose_house                 140132 non-null uint8\n",
      "purpose_major_purchase        140132 non-null uint8\n",
      "purpose_medical               140132 non-null uint8\n",
      "purpose_moving                140132 non-null uint8\n",
      "purpose_other                 140132 non-null uint8\n",
      "purpose_renewable_energy      140132 non-null uint8\n",
      "purpose_small_business        140132 non-null uint8\n",
      "purpose_vacation              140132 non-null uint8\n",
      "purpose_wedding               140132 non-null uint8\n",
      "revol_bal                     140132 non-null float64\n",
      "revol_util                    140132 non-null float64\n",
      "tot_coll_amt                  140132 non-null float64\n",
      "total_acc                     140132 non-null float64\n",
      "dtypes: float64(13), int64(3), uint8(27)\n",
      "memory usage: 21.8 MB\n"
     ]
    }
   ],
   "source": [
    "x_train.info()"
   ]
  },
  {
   "cell_type": "code",
   "execution_count": 44,
   "metadata": {},
   "outputs": [
    {
     "name": "stdout",
     "output_type": "stream",
     "text": [
      "<class 'pandas.core.frame.DataFrame'>\n",
      "Int64Index: 60057 entries, 8644 to 191094\n",
      "Data columns (total 43 columns):\n",
      "acc_now_delinq                60057 non-null float64\n",
      "annual_inc                    60057 non-null float64\n",
      "application_type              60057 non-null int64\n",
      "collections_12_mths_ex_med    60057 non-null float64\n",
      "dti                           60057 non-null float64\n",
      "grade_A                       60057 non-null uint8\n",
      "grade_B                       60057 non-null uint8\n",
      "grade_C                       60057 non-null uint8\n",
      "grade_D                       60057 non-null uint8\n",
      "grade_E                       60057 non-null uint8\n",
      "grade_F                       60057 non-null uint8\n",
      "grade_G                       60057 non-null uint8\n",
      "home_ownership_ANY            60057 non-null int64\n",
      "home_ownership_MORTGAGE       60057 non-null uint8\n",
      "home_ownership_NONE           60057 non-null uint8\n",
      "home_ownership_OTHER          60057 non-null uint8\n",
      "home_ownership_OWN            60057 non-null uint8\n",
      "home_ownership_RENT           60057 non-null uint8\n",
      "initial_list_status           60057 non-null int64\n",
      "inq_last_6mths                60057 non-null float64\n",
      "installment                   60057 non-null float64\n",
      "loan_amnt                     60057 non-null float64\n",
      "loan_status                   60057 non-null int64\n",
      "open_acc                      60057 non-null float64\n",
      "pub_rec                       60057 non-null float64\n",
      "purpose_car                   60057 non-null uint8\n",
      "purpose_credit_card           60057 non-null uint8\n",
      "purpose_debt_consolidation    60057 non-null uint8\n",
      "purpose_educational           60057 non-null uint8\n",
      "purpose_home_improvement      60057 non-null uint8\n",
      "purpose_house                 60057 non-null uint8\n",
      "purpose_major_purchase        60057 non-null uint8\n",
      "purpose_medical               60057 non-null uint8\n",
      "purpose_moving                60057 non-null uint8\n",
      "purpose_other                 60057 non-null uint8\n",
      "purpose_renewable_energy      60057 non-null uint8\n",
      "purpose_small_business        60057 non-null uint8\n",
      "purpose_vacation              60057 non-null uint8\n",
      "purpose_wedding               60057 non-null uint8\n",
      "revol_bal                     60057 non-null float64\n",
      "revol_util                    60057 non-null float64\n",
      "tot_coll_amt                  60057 non-null float64\n",
      "total_acc                     60057 non-null float64\n",
      "dtypes: float64(13), int64(4), uint8(26)\n",
      "memory usage: 9.7 MB\n"
     ]
    }
   ],
   "source": [
    "x_test.info()"
   ]
  },
  {
   "cell_type": "markdown",
   "metadata": {},
   "source": [
    "## Линейная регрессия  + Дерево решений (регрессия)"
   ]
  },
  {
   "cell_type": "code",
   "execution_count": 15,
   "metadata": {},
   "outputs": [],
   "source": [
    "lm = linear_model.Lasso(alpha=0.01,random_state = 42).fit(x_train,y_train)\n",
    "dec_reg = DecisionTreeRegressor(criterion='mse',max_depth=10, random_state=42, min_samples_leaf = 3).fit(x_train,y_train)"
   ]
  },
  {
   "cell_type": "code",
   "execution_count": 16,
   "metadata": {},
   "outputs": [],
   "source": [
    "from sklearn.metrics import r2_score"
   ]
  },
  {
   "cell_type": "code",
   "execution_count": 17,
   "metadata": {},
   "outputs": [
    {
     "data": {
      "text/plain": [
       "0.9146765103292894"
      ]
     },
     "execution_count": 17,
     "metadata": {},
     "output_type": "execute_result"
    }
   ],
   "source": [
    "r2_score(y_test, lm.predict(x_test))"
   ]
  },
  {
   "cell_type": "code",
   "execution_count": 18,
   "metadata": {},
   "outputs": [
    {
     "data": {
      "text/plain": [
       "0.9280174951473175"
      ]
     },
     "execution_count": 18,
     "metadata": {},
     "output_type": "execute_result"
    }
   ],
   "source": [
    "r2_score(y_test, dec_reg.predict(x_test))"
   ]
  },
  {
   "cell_type": "markdown",
   "metadata": {},
   "source": [
    "# Бинарная классификация"
   ]
  },
  {
   "cell_type": "code",
   "execution_count": 8,
   "metadata": {},
   "outputs": [
    {
     "name": "stdout",
     "output_type": "stream",
     "text": [
      "<class 'pandas.core.frame.DataFrame'>\n",
      "RangeIndex: 200189 entries, 0 to 200188\n",
      "Data columns (total 19 columns):\n",
      "annual_inc                    200189 non-null float64\n",
      "int_rate                      200189 non-null float64\n",
      "collections_12_mths_ex_med    200145 non-null float64\n",
      "initial_list_status           200189 non-null object\n",
      "installment                   200189 non-null float64\n",
      "open_acc                      200189 non-null float64\n",
      "total_acc                     200189 non-null float64\n",
      "dti                           200189 non-null float64\n",
      "purpose                       200189 non-null object\n",
      "grade                         200189 non-null object\n",
      "home_ownership                200189 non-null object\n",
      "inq_last_6mths                200189 non-null float64\n",
      "pub_rec                       200189 non-null float64\n",
      "revol_bal                     200189 non-null float64\n",
      "revol_util                    200035 non-null float64\n",
      "tot_coll_amt                  152232 non-null float64\n",
      "loan_amnt                     200189 non-null float64\n",
      "application_type              200189 non-null object\n",
      "acc_now_delinq                200189 non-null float64\n",
      "dtypes: float64(14), object(5)\n",
      "memory usage: 29.0+ MB\n"
     ]
    }
   ],
   "source": [
    "y = train['loan_status'] # целевой признак\n",
    "x = train.loc[:,['annual_inc','int_rate','collections_12_mths_ex_med','initial_list_status',\n",
    "                 'installment','open_acc','total_acc','dti','purpose',\n",
    "                 'grade','home_ownership','inq_last_6mths',\n",
    "                 'pub_rec','revol_bal','revol_util',\n",
    "                 'tot_coll_amt','loan_amnt','application_type','acc_now_delinq' ] ] # параметры\n",
    "x.info()"
   ]
  },
  {
   "cell_type": "code",
   "execution_count": 9,
   "metadata": {},
   "outputs": [
    {
     "name": "stdout",
     "output_type": "stream",
     "text": [
      "<class 'pandas.core.frame.DataFrame'>\n",
      "RangeIndex: 200189 entries, 0 to 200188\n",
      "Data columns (total 19 columns):\n",
      "annual_inc                    200189 non-null float64\n",
      "int_rate                      200189 non-null float64\n",
      "collections_12_mths_ex_med    200189 non-null float64\n",
      "initial_list_status           200189 non-null object\n",
      "installment                   200189 non-null float64\n",
      "open_acc                      200189 non-null float64\n",
      "total_acc                     200189 non-null float64\n",
      "dti                           200189 non-null float64\n",
      "purpose                       200189 non-null object\n",
      "grade                         200189 non-null object\n",
      "home_ownership                200189 non-null object\n",
      "inq_last_6mths                200189 non-null float64\n",
      "pub_rec                       200189 non-null float64\n",
      "revol_bal                     200189 non-null float64\n",
      "revol_util                    200189 non-null float64\n",
      "tot_coll_amt                  200189 non-null float64\n",
      "loan_amnt                     200189 non-null float64\n",
      "application_type              200189 non-null object\n",
      "acc_now_delinq                200189 non-null float64\n",
      "dtypes: float64(14), object(5)\n",
      "memory usage: 29.0+ MB\n"
     ]
    }
   ],
   "source": [
    "#NaN killer\n",
    "Nan_killer(x)\n",
    "x.info()"
   ]
  },
  {
   "cell_type": "code",
   "execution_count": 10,
   "metadata": {},
   "outputs": [],
   "source": [
    "x_train, x_test, y_train, y_test = proc(x,y)"
   ]
  },
  {
   "cell_type": "code",
   "execution_count": 11,
   "metadata": {},
   "outputs": [
    {
     "name": "stdout",
     "output_type": "stream",
     "text": [
      "<class 'pandas.core.frame.DataFrame'>\n",
      "Int64Index: 140132 entries, 193136 to 121958\n",
      "Data columns (total 43 columns):\n",
      "acc_now_delinq                140132 non-null float64\n",
      "annual_inc                    140132 non-null float64\n",
      "application_type              140132 non-null bool\n",
      "collections_12_mths_ex_med    140132 non-null float64\n",
      "dti                           140132 non-null float64\n",
      "grade_A                       140132 non-null uint8\n",
      "grade_B                       140132 non-null uint8\n",
      "grade_C                       140132 non-null uint8\n",
      "grade_D                       140132 non-null uint8\n",
      "grade_E                       140132 non-null uint8\n",
      "grade_F                       140132 non-null uint8\n",
      "grade_G                       140132 non-null uint8\n",
      "home_ownership_ANY            140132 non-null uint8\n",
      "home_ownership_MORTGAGE       140132 non-null uint8\n",
      "home_ownership_NONE           140132 non-null uint8\n",
      "home_ownership_OTHER          140132 non-null uint8\n",
      "home_ownership_OWN            140132 non-null uint8\n",
      "home_ownership_RENT           140132 non-null uint8\n",
      "initial_list_status           140132 non-null bool\n",
      "inq_last_6mths                140132 non-null float64\n",
      "installment                   140132 non-null float64\n",
      "int_rate                      140132 non-null float64\n",
      "loan_amnt                     140132 non-null float64\n",
      "open_acc                      140132 non-null float64\n",
      "pub_rec                       140132 non-null float64\n",
      "purpose_car                   140132 non-null uint8\n",
      "purpose_credit_card           140132 non-null uint8\n",
      "purpose_debt_consolidation    140132 non-null uint8\n",
      "purpose_educational           140132 non-null uint8\n",
      "purpose_home_improvement      140132 non-null uint8\n",
      "purpose_house                 140132 non-null uint8\n",
      "purpose_major_purchase        140132 non-null uint8\n",
      "purpose_medical               140132 non-null uint8\n",
      "purpose_moving                140132 non-null uint8\n",
      "purpose_other                 140132 non-null uint8\n",
      "purpose_renewable_energy      140132 non-null uint8\n",
      "purpose_small_business        140132 non-null uint8\n",
      "purpose_vacation              140132 non-null uint8\n",
      "purpose_wedding               140132 non-null uint8\n",
      "revol_bal                     140132 non-null float64\n",
      "revol_util                    140132 non-null float64\n",
      "tot_coll_amt                  140132 non-null float64\n",
      "total_acc                     140132 non-null float64\n",
      "dtypes: bool(2), float64(14), uint8(27)\n",
      "memory usage: 19.9 MB\n"
     ]
    }
   ],
   "source": [
    "x_train.info()"
   ]
  },
  {
   "cell_type": "code",
   "execution_count": 12,
   "metadata": {},
   "outputs": [
    {
     "name": "stdout",
     "output_type": "stream",
     "text": [
      "<class 'pandas.core.frame.DataFrame'>\n",
      "Int64Index: 140132 entries, 193136 to 121958\n",
      "Data columns (total 43 columns):\n",
      "acc_now_delinq                140132 non-null float64\n",
      "annual_inc                    140132 non-null float64\n",
      "application_type              140132 non-null bool\n",
      "collections_12_mths_ex_med    140132 non-null float64\n",
      "dti                           140132 non-null float64\n",
      "grade_A                       140132 non-null uint8\n",
      "grade_B                       140132 non-null uint8\n",
      "grade_C                       140132 non-null uint8\n",
      "grade_D                       140132 non-null uint8\n",
      "grade_E                       140132 non-null uint8\n",
      "grade_F                       140132 non-null uint8\n",
      "grade_G                       140132 non-null uint8\n",
      "home_ownership_ANY            140132 non-null uint8\n",
      "home_ownership_MORTGAGE       140132 non-null uint8\n",
      "home_ownership_NONE           140132 non-null uint8\n",
      "home_ownership_OTHER          140132 non-null uint8\n",
      "home_ownership_OWN            140132 non-null uint8\n",
      "home_ownership_RENT           140132 non-null uint8\n",
      "initial_list_status           140132 non-null bool\n",
      "inq_last_6mths                140132 non-null float64\n",
      "installment                   140132 non-null float64\n",
      "int_rate                      140132 non-null float64\n",
      "loan_amnt                     140132 non-null float64\n",
      "open_acc                      140132 non-null float64\n",
      "pub_rec                       140132 non-null float64\n",
      "purpose_car                   140132 non-null uint8\n",
      "purpose_credit_card           140132 non-null uint8\n",
      "purpose_debt_consolidation    140132 non-null uint8\n",
      "purpose_educational           140132 non-null uint8\n",
      "purpose_home_improvement      140132 non-null uint8\n",
      "purpose_house                 140132 non-null uint8\n",
      "purpose_major_purchase        140132 non-null uint8\n",
      "purpose_medical               140132 non-null uint8\n",
      "purpose_moving                140132 non-null uint8\n",
      "purpose_other                 140132 non-null uint8\n",
      "purpose_renewable_energy      140132 non-null uint8\n",
      "purpose_small_business        140132 non-null uint8\n",
      "purpose_vacation              140132 non-null uint8\n",
      "purpose_wedding               140132 non-null uint8\n",
      "revol_bal                     140132 non-null float64\n",
      "revol_util                    140132 non-null float64\n",
      "tot_coll_amt                  140132 non-null float64\n",
      "total_acc                     140132 non-null float64\n",
      "dtypes: bool(2), float64(14), uint8(27)\n",
      "memory usage: 19.9 MB\n"
     ]
    }
   ],
   "source": [
    "x_train.info()"
   ]
  },
  {
   "cell_type": "markdown",
   "metadata": {},
   "source": [
    "## Логистическая регрессия"
   ]
  },
  {
   "cell_type": "code",
   "execution_count": 24,
   "metadata": {},
   "outputs": [],
   "source": [
    "from sklearn import linear_model"
   ]
  },
  {
   "cell_type": "code",
   "execution_count": 25,
   "metadata": {},
   "outputs": [
    {
     "name": "stdout",
     "output_type": "stream",
     "text": [
      "Recall: 1.00\n",
      "Precision score: 0.78\n",
      "Accuracy score: 0.78\n"
     ]
    }
   ],
   "source": [
    "lr = linear_model.LogisticRegression(solver='liblinear',random_state=42).fit(x_train, y_train)\n",
    "lr.predict(x_test)\n",
    "show_scores(lr, x_test, y_test)"
   ]
  },
  {
   "cell_type": "code",
   "execution_count": 26,
   "metadata": {},
   "outputs": [
    {
     "name": "stdout",
     "output_type": "stream",
     "text": [
      "ROC-AUC score:  0.5877202844814491\n"
     ]
    },
    {
     "data": {
      "image/png": "[encoded data removed]",
      "text/plain": [
       "<Figure size 432x288 with 1 Axes>"
      ]
     },
     "metadata": {
      "needs_background": "light"
     },
     "output_type": "display_data"
    }
   ],
   "source": [
    "plot_roc(lr, x_test, y_test)"
   ]
  },
  {
   "cell_type": "markdown",
   "metadata": {},
   "source": [
    "## Дерево решений (классификация)"
   ]
  },
  {
   "cell_type": "code",
   "execution_count": 27,
   "metadata": {},
   "outputs": [],
   "source": [
    "from sklearn.tree import DecisionTreeClassifier"
   ]
  },
  {
   "cell_type": "code",
   "execution_count": 28,
   "metadata": {},
   "outputs": [
    {
     "data": {
      "text/plain": [
       "DecisionTreeClassifier(class_weight=None, criterion='entropy', max_depth=12,\n",
       "            max_features=None, max_leaf_nodes=None,\n",
       "            min_impurity_decrease=0.0, min_impurity_split=None,\n",
       "            min_samples_leaf=3, min_samples_split=2,\n",
       "            min_weight_fraction_leaf=0.0, presort=False, random_state=42,\n",
       "            splitter='random')"
      ]
     },
     "execution_count": 28,
     "metadata": {},
     "output_type": "execute_result"
    }
   ],
   "source": [
    "clf_tree = DecisionTreeClassifier(criterion='entropy',splitter = 'random', max_depth=12, random_state=42, min_samples_leaf = 3)\n",
    "clf_tree.fit(x_train, y_train)"
   ]
  },
  {
   "cell_type": "code",
   "execution_count": 29,
   "metadata": {},
   "outputs": [
    {
     "name": "stdout",
     "output_type": "stream",
     "text": [
      "Recall: 0.97\n",
      "Precision score: 0.79\n",
      "Accuracy score: 0.77\n"
     ]
    }
   ],
   "source": [
    "show_scores(clf_tree, x_test, y_test)"
   ]
  },
  {
   "cell_type": "code",
   "execution_count": 30,
   "metadata": {
    "scrolled": true
   },
   "outputs": [
    {
     "name": "stdout",
     "output_type": "stream",
     "text": [
      "ROC-AUC score:  0.6742598095246735\n"
     ]
    },
    {
     "data": {
      "image/png": "[encoded data removed]",
      "text/plain": [
       "<Figure size 432x288 with 1 Axes>"
      ]
     },
     "metadata": {
      "needs_background": "light"
     },
     "output_type": "display_data"
    }
   ],
   "source": [
    "plot_roc(clf_tree, x_test, y_test)"
   ]
  },
  {
   "cell_type": "markdown",
   "metadata": {},
   "source": [
    "## Случайный лес"
   ]
  },
  {
   "cell_type": "code",
   "execution_count": 31,
   "metadata": {},
   "outputs": [],
   "source": [
    "from sklearn.ensemble import RandomForestClassifier\n",
    "from sklearn.model_selection import GridSearchCV\n",
    "from sklearn.preprocessing import LabelEncoder"
   ]
  },
  {
   "cell_type": "code",
   "execution_count": 32,
   "metadata": {},
   "outputs": [],
   "source": [
    "#param_grid = {\n",
    "#    'bootstrap': [True],\n",
    "#    'max_depth': [12,10,8],\n",
    "#    'min_samples_leaf': [1,3,5,7],\n",
    "#    'n_estimators': [80,100,200,500],\n",
    "#    'criterion' : ['entropy','gini'],\n",
    "#}\n",
    "#score = make_scorer(roc_auc_score)\n",
    "#rf =  RandomForestClassifier(random_state = 42)\n",
    "#grid_search = GridSearchCV(estimator = rf, param_grid = param_grid, \n",
    "#                          cv = 5, n_jobs = -1, verbose = 2, scoring=score)\n",
    "#grid_search.fit(x_train,  y_train)\n",
    "#grid_search.best_params_\n",
    "# best_grid = grid_search.best_estimator_"
   ]
  },
  {
   "cell_type": "code",
   "execution_count": 33,
   "metadata": {},
   "outputs": [
    {
     "data": {
      "text/plain": [
       "RandomForestClassifier(bootstrap=True, class_weight=None, criterion='entropy',\n",
       "            max_depth=12, max_features='auto', max_leaf_nodes=None,\n",
       "            min_impurity_decrease=0.0, min_impurity_split=None,\n",
       "            min_samples_leaf=1, min_samples_split=2,\n",
       "            min_weight_fraction_leaf=0.0, n_estimators=80, n_jobs=None,\n",
       "            oob_score=False, random_state=42, verbose=0, warm_start=False)"
      ]
     },
     "execution_count": 33,
     "metadata": {},
     "output_type": "execute_result"
    }
   ],
   "source": [
    "best_grid = RandomForestClassifier(random_state = 42, bootstrap = True, \n",
    "                                   max_depth = 12, min_samples_leaf = 1,\n",
    "                                   n_estimators = 80, criterion = 'entropy')\n",
    "best_grid.fit(x_train,  y_train)"
   ]
  },
  {
   "cell_type": "code",
   "execution_count": 34,
   "metadata": {},
   "outputs": [
    {
     "name": "stdout",
     "output_type": "stream",
     "text": [
      "Recall: 0.99\n",
      "Precision score: 0.79\n",
      "Accuracy score: 0.78\n"
     ]
    }
   ],
   "source": [
    "best_grid.predict(x_test)\n",
    "show_scores(best_grid, x_test, y_test)"
   ]
  },
  {
   "cell_type": "code",
   "execution_count": 35,
   "metadata": {},
   "outputs": [
    {
     "name": "stdout",
     "output_type": "stream",
     "text": [
      "ROC-AUC score:  0.7019092486975207\n"
     ]
    },
    {
     "data": {
      "image/png": "[encoded data removed]",
      "text/plain": [
       "<Figure size 432x288 with 1 Axes>"
      ]
     },
     "metadata": {
      "needs_background": "light"
     },
     "output_type": "display_data"
    }
   ],
   "source": [
    "plot_roc(best_grid, x_test, y_test)"
   ]
  },
  {
   "cell_type": "markdown",
   "metadata": {},
   "source": [
    "## VotingClassifier"
   ]
  },
  {
   "cell_type": "code",
   "execution_count": 36,
   "metadata": {},
   "outputs": [],
   "source": [
    "from sklearn.ensemble import VotingClassifier"
   ]
  },
  {
   "cell_type": "code",
   "execution_count": 37,
   "metadata": {},
   "outputs": [
    {
     "data": {
      "text/plain": [
       "VotingClassifier(estimators=[('lr', LogisticRegression(C=1.0, class_weight=None, dual=False, fit_intercept=True,\n",
       "          intercept_scaling=1, max_iter=100, multi_class='warn',\n",
       "          n_jobs=None, penalty='l2', random_state=42, solver='liblinear',\n",
       "          tol=0.0001, verbose=0, warm_start=False)), ('rf', Rando...mators=80, n_jobs=None,\n",
       "            oob_score=False, random_state=42, verbose=0, warm_start=False))],\n",
       "         flatten_transform=None, n_jobs=None, voting='soft', weights=None)"
      ]
     },
     "execution_count": 37,
     "metadata": {},
     "output_type": "execute_result"
    }
   ],
   "source": [
    "voting_clf = VotingClassifier(estimators=[('lr', lr), ('rf', best_grid)],voting='soft')\n",
    "voting_clf.fit(x_train, y_train)"
   ]
  },
  {
   "cell_type": "code",
   "execution_count": 38,
   "metadata": {},
   "outputs": [
    {
     "name": "stdout",
     "output_type": "stream",
     "text": [
      "Recall: 1.00\n",
      "Precision score: 0.78\n",
      "Accuracy score: 0.78\n"
     ]
    }
   ],
   "source": [
    "show_scores(voting_clf, x_test, y_test)"
   ]
  },
  {
   "cell_type": "code",
   "execution_count": null,
   "metadata": {},
   "outputs": [
    {
     "name": "stdout",
     "output_type": "stream",
     "text": [
      "ROC-AUC score:  0.6850833952966429\n"
     ]
    },
    {
     "data": {
      "image/png": "[encoded data removed]",
      "text/plain": [
       "<Figure size 432x288 with 1 Axes>"
      ]
     },
     "metadata": {
      "needs_background": "light"
     },
     "output_type": "display_data"
    }
   ],
   "source": [
    "plot_roc(voting_clf, x_test, y_test)"
   ]
  },
  {
   "cell_type": "markdown",
   "metadata": {},
   "source": [
    "## Xgboost (Grid search)"
   ]
  },
  {
   "cell_type": "markdown",
   "metadata": {},
   "source": [
    "[Параметры XGBClassifier](https://xgboost.readthedocs.io/en/latest/parameter.html)"
   ]
  },
  {
   "cell_type": "code",
   "execution_count": 8,
   "metadata": {},
   "outputs": [],
   "source": [
    "import xgboost as xgb"
   ]
  },
  {
   "cell_type": "code",
   "execution_count": 42,
   "metadata": {},
   "outputs": [],
   "source": [
    "xgbst = xgb.XGBClassifier(\n",
    "                           max_depth=3,\n",
    "                           min_child_weight=3, #Defines the minimum sum of weights of all observations required\n",
    "                           gamma = 0.25, \n",
    "                                    #A node is split only when the resulting split gives a positive \n",
    "                                    #reduction in the loss function. Gamma specifies the minimum loss \n",
    "                                    #reduction required to make a split.in a child\n",
    "                           eval_metric = 'auc',                         \n",
    "                           subsample= 0.52,\n",
    "                                    #Denotes the fraction of observations to be randomly sampled for each tree\n",
    "                           colsample_bytree=0.95, #The number of features to consider while searching for the best split\n",
    "                           reg_alpha= 5,# L1 regularization term on weights\n",
    "                           reg_lambda=0,# L2 regularization term on weights.\n",
    "                           learning_rate = 0.01,\n",
    "                           n_estimators =4000,\n",
    "                           objective='binary:logistic',\n",
    "                           \n",
    "                           verbosity  = 2, # Valid values are 0 (silent), 1 (warning), 2 (info), 3 (debug). \n",
    "                          \n",
    "                           scale_pos_weight=1, #Control the balance of positive and negative weights, useful for unbalanced classes\n",
    "                           seed=20,\n",
    "                           random_state= 42,\n",
    "                           missing=None)"
   ]
  },
  {
   "cell_type": "code",
   "execution_count": null,
   "metadata": {},
   "outputs": [],
   "source": [
    "xgbst.fit(x_train, y_train)"
   ]
  },
  {
   "cell_type": "code",
   "execution_count": null,
   "metadata": {},
   "outputs": [],
   "source": [
    "show_scores(xgbst, x_train, y_train)"
   ]
  },
  {
   "cell_type": "code",
   "execution_count": null,
   "metadata": {
    "scrolled": true
   },
   "outputs": [],
   "source": [
    "show_scores(xgbst, x_test, y_test)"
   ]
  },
  {
   "cell_type": "code",
   "execution_count": null,
   "metadata": {},
   "outputs": [],
   "source": [
    "plot_roc(xgbst, x_train, y_train)"
   ]
  },
  {
   "cell_type": "code",
   "execution_count": null,
   "metadata": {},
   "outputs": [],
   "source": [
    "plot_roc(xgbst, x_test, y_test)"
   ]
  },
  {
   "cell_type": "markdown",
   "metadata": {},
   "source": [
    "## Xgboost (Hypetopt)"
   ]
  },
  {
   "cell_type": "code",
   "execution_count": 13,
   "metadata": {},
   "outputs": [],
   "source": [
    "from sklearn.metrics import r2_score\n",
    "from hyperopt import tpe, hp, fmin\n",
    "import xgboost as xgb\n",
    "from hyperopt.mongoexp import MongoTrials"
   ]
  },
  {
   "cell_type": "code",
   "execution_count": 14,
   "metadata": {},
   "outputs": [],
   "source": [
    "def func(args):\n",
    "    loss = 0\n",
    "    if args['model'] == xgb.XGBClassifier:\n",
    "        max_depth = args['param']['max_depth']\n",
    "        min_child_weight = args['param']['min_child_weight']\n",
    "        gamma = args['param']['gamma']\n",
    "        subsample = args['param']['subsample']\n",
    "        colsample_bytree = args['param']['colsample_bytree']\n",
    "        reg_alpha = args['param']['reg_alpha']\n",
    "        clf = xgb.XGBClassifier(eval_metric = 'auc',\n",
    "                               objective='binary:logistic',\n",
    "                               verbosity  = 2,\n",
    "                               random_state= 42,\n",
    "                               learning_rate = 0.1,\n",
    "                               n_estimators=1000,    \n",
    "                               reg_lambda=0,\n",
    "                               max_depth = max_depth,\n",
    "                               min_child_weight =min_child_weight,\n",
    "                               gamma =  gamma,\n",
    "                               subsample = subsample,\n",
    "                               colsample_bytree = colsample_bytree,\n",
    "                               reg_alpha = reg_alpha)\n",
    "        clf.fit(x_train,y_train)\n",
    "        y_pred_train = clf.predict_proba(x_train)\n",
    "        loss =  roc_auc_score(y_train, y_pred_train[:, 1])\n",
    "        print(\"Test Score:\",clf.score(x_test,y_test))\n",
    "        print(\"Train Score:\",clf.score(x_train,y_train))\n",
    "        print(\"\\n=================\")\n",
    "    return -loss\n"
   ]
  },
  {
   "cell_type": "code",
   "execution_count": 14,
   "metadata": {},
   "outputs": [
    {
     "data": {
      "text/plain": [
       "<hyperopt.pyll.base.Apply at 0x1ec3564e128>"
      ]
     },
     "execution_count": 14,
     "metadata": {},
     "output_type": "execute_result"
    }
   ],
   "source": [
    "space = hp.choice('classifier',[\n",
    "        {\n",
    "        'model': xgb.XGBClassifier,\n",
    "        'param': {\n",
    "        'max_depth' : hp.choice('max_depth',range(3,10,2)),\n",
    "        'min_child_weight' : hp.choice('min_child_weight', range(1,6,2)),\n",
    "        'gamma' : hp.choice('gamma', [i/10.0 for i in range(0,5)]),\n",
    "        'subsample' : hp.choice('subsample', [i/10.0 for i in range(6,10)]),\n",
    "        'colsample_bytree'  : hp.choice('colsample_bytree', [i/10.0 for i in range(6,10)]),\n",
    "        'reg_alpha' : hp.choice('reg_alpha', [1e-5, 1e-2, 0.1, 1, 100])  \n",
    "        }}\n",
    "        ])\n",
    "space"
   ]
  },
  {
   "cell_type": "code",
   "execution_count": 16,
   "metadata": {},
   "outputs": [],
   "source": [
    "# trials = MongoTrials('mongo://localhost:27017/foo_db/jobs',exp_key='exp1')"
   ]
  },
  {
   "cell_type": "code",
   "execution_count": 15,
   "metadata": {},
   "outputs": [],
   "source": [
    "# best = fmin(func,space,algo=tpe.suggest,max_evals=100)\n",
    "best = {'classifier': 0,\n",
    " 'colsample_bytree': 1,\n",
    " 'gamma': 1,\n",
    " 'max_depth': 3,\n",
    " 'min_child_weight': 0,\n",
    " 'reg_alpha': 3,\n",
    " 'subsample': 0}"
   ]
  },
  {
   "cell_type": "code",
   "execution_count": 16,
   "metadata": {},
   "outputs": [
    {
     "data": {
      "text/plain": [
       "{'classifier': 0,\n",
       " 'colsample_bytree': 1,\n",
       " 'gamma': 1,\n",
       " 'max_depth': 3,\n",
       " 'min_child_weight': 0,\n",
       " 'reg_alpha': 3,\n",
       " 'subsample': 0}"
      ]
     },
     "execution_count": 16,
     "metadata": {},
     "output_type": "execute_result"
    }
   ],
   "source": [
    "best"
   ]
  },
  {
   "cell_type": "code",
   "execution_count": 25,
   "metadata": {},
   "outputs": [],
   "source": [
    "bst = xgb.XGBClassifier(     eval_metric = 'auc',\n",
    "                               objective='binary:logistic',\n",
    "                               verbosity  = 2,\n",
    "                               random_state= 42,\n",
    "                               learning_rate = 0.01,\n",
    "                               n_estimators=4000,    \n",
    "                               reg_lambda=0,\n",
    "                               seed = 20,\n",
    "                               max_depth = best['max_depth'],\n",
    "                               min_child_weight = best['min_child_weight'],\n",
    "                               gamma =  best['gamma'],\n",
    "                               subsample = 0.52,\n",
    "                               colsample_bytree = best['colsample_bytree'],\n",
    "                               reg_alpha = best['reg_alpha'])"
   ]
  },
  {
   "cell_type": "code",
   "execution_count": 26,
   "metadata": {},
   "outputs": [
    {
     "data": {
      "text/plain": [
       "XGBClassifier(base_score=0.5, booster='gbtree', colsample_bylevel=1,\n",
       "       colsample_bytree=1, eval_metric='auc', gamma=1, learning_rate=0.01,\n",
       "       max_delta_step=0, max_depth=3, min_child_weight=0, missing=None,\n",
       "       n_estimators=4000, n_jobs=1, nthread=None,\n",
       "       objective='binary:logistic', random_state=42, reg_alpha=3,\n",
       "       reg_lambda=0, scale_pos_weight=1, seed=20, silent=True,\n",
       "       subsample=0.52, verbosity=2)"
      ]
     },
     "execution_count": 26,
     "metadata": {},
     "output_type": "execute_result"
    }
   ],
   "source": [
    "bst.fit(x_train, y_train)"
   ]
  },
  {
   "cell_type": "code",
   "execution_count": 34,
   "metadata": {},
   "outputs": [
    {
     "name": "stdout",
     "output_type": "stream",
     "text": [
      "Recall: 0.98\n",
      "Precision score: 0.79\n",
      "Accuracy score: 0.78\n"
     ]
    }
   ],
   "source": [
    "show_scores(bst, x_test, y_test)"
   ]
  },
  {
   "cell_type": "code",
   "execution_count": 35,
   "metadata": {},
   "outputs": [
    {
     "name": "stdout",
     "output_type": "stream",
     "text": [
      "ROC-AUC score:  0.7115789901232025\n"
     ]
    },
    {
     "data": {
      "image/png": "[encoded data removed]",
      "text/plain": [
       "<Figure size 432x288 with 1 Axes>"
      ]
     },
     "metadata": {
      "needs_background": "light"
     },
     "output_type": "display_data"
    }
   ],
   "source": [
    "plot_roc(bst, x_test, y_test)"
   ]
  },
  {
   "cell_type": "markdown",
   "metadata": {},
   "source": [
    "## Catboost"
   ]
  },
  {
   "cell_type": "code",
   "execution_count": 56,
   "metadata": {},
   "outputs": [],
   "source": [
    "from hyperopt import tpe, hp, fmin\n",
    "import hyperopt "
   ]
  },
  {
   "cell_type": "code",
   "execution_count": 57,
   "metadata": {},
   "outputs": [],
   "source": [
    "x_train, x_test, y_train, y_test = train_test_split(x, y, test_size=0.3, random_state = 42)"
   ]
  },
  {
   "cell_type": "code",
   "execution_count": 58,
   "metadata": {},
   "outputs": [
    {
     "name": "stdout",
     "output_type": "stream",
     "text": [
      "<class 'pandas.core.frame.DataFrame'>\n",
      "Int64Index: 140132 entries, 193136 to 121958\n",
      "Data columns (total 19 columns):\n",
      "annual_inc                    140132 non-null float64\n",
      "int_rate                      140132 non-null float64\n",
      "collections_12_mths_ex_med    140132 non-null float64\n",
      "initial_list_status           140132 non-null object\n",
      "installment                   140132 non-null float64\n",
      "open_acc                      140132 non-null float64\n",
      "total_acc                     140132 non-null float64\n",
      "dti                           140132 non-null float64\n",
      "purpose                       140132 non-null object\n",
      "grade                         140132 non-null object\n",
      "home_ownership                140132 non-null object\n",
      "inq_last_6mths                140132 non-null float64\n",
      "pub_rec                       140132 non-null float64\n",
      "revol_bal                     140132 non-null float64\n",
      "revol_util                    140132 non-null float64\n",
      "tot_coll_amt                  140132 non-null float64\n",
      "loan_amnt                     140132 non-null float64\n",
      "application_type              140132 non-null object\n",
      "acc_now_delinq                140132 non-null float64\n",
      "dtypes: float64(14), object(5)\n",
      "memory usage: 21.4+ MB\n"
     ]
    }
   ],
   "source": [
    "x_train.info()"
   ]
  },
  {
   "cell_type": "code",
   "execution_count": 59,
   "metadata": {},
   "outputs": [
    {
     "data": {
      "text/html": [
       "<div>\n",
       "<style scoped>\n",
       "    .dataframe tbody tr th:only-of-type {\n",
       "        vertical-align: middle;\n",
       "    }\n",
       "\n",
       "    .dataframe tbody tr th {\n",
       "        vertical-align: top;\n",
       "    }\n",
       "\n",
       "    .dataframe thead th {\n",
       "        text-align: right;\n",
       "    }\n",
       "</style>\n",
       "<table border=\"1\" class=\"dataframe\">\n",
       "  <thead>\n",
       "    <tr style=\"text-align: right;\">\n",
       "      <th></th>\n",
       "      <th>annual_inc</th>\n",
       "      <th>int_rate</th>\n",
       "      <th>collections_12_mths_ex_med</th>\n",
       "      <th>initial_list_status</th>\n",
       "      <th>installment</th>\n",
       "      <th>open_acc</th>\n",
       "      <th>total_acc</th>\n",
       "      <th>dti</th>\n",
       "      <th>purpose</th>\n",
       "      <th>grade</th>\n",
       "      <th>home_ownership</th>\n",
       "      <th>inq_last_6mths</th>\n",
       "      <th>pub_rec</th>\n",
       "      <th>revol_bal</th>\n",
       "      <th>revol_util</th>\n",
       "      <th>tot_coll_amt</th>\n",
       "      <th>loan_amnt</th>\n",
       "      <th>application_type</th>\n",
       "      <th>acc_now_delinq</th>\n",
       "    </tr>\n",
       "  </thead>\n",
       "  <tbody>\n",
       "    <tr>\n",
       "      <th>193136</th>\n",
       "      <td>75000.0</td>\n",
       "      <td>13.11</td>\n",
       "      <td>0.0</td>\n",
       "      <td>w</td>\n",
       "      <td>690.97</td>\n",
       "      <td>17.0</td>\n",
       "      <td>42.0</td>\n",
       "      <td>26.85</td>\n",
       "      <td>credit_card</td>\n",
       "      <td>B</td>\n",
       "      <td>MORTGAGE</td>\n",
       "      <td>2.0</td>\n",
       "      <td>0.0</td>\n",
       "      <td>38230.0</td>\n",
       "      <td>87.7</td>\n",
       "      <td>0.0</td>\n",
       "      <td>20475.0</td>\n",
       "      <td>INDIVIDUAL</td>\n",
       "      <td>0.0</td>\n",
       "    </tr>\n",
       "    <tr>\n",
       "      <th>27784</th>\n",
       "      <td>73000.0</td>\n",
       "      <td>15.99</td>\n",
       "      <td>0.0</td>\n",
       "      <td>f</td>\n",
       "      <td>421.83</td>\n",
       "      <td>18.0</td>\n",
       "      <td>38.0</td>\n",
       "      <td>16.47</td>\n",
       "      <td>debt_consolidation</td>\n",
       "      <td>D</td>\n",
       "      <td>MORTGAGE</td>\n",
       "      <td>2.0</td>\n",
       "      <td>0.0</td>\n",
       "      <td>9874.0</td>\n",
       "      <td>41.0</td>\n",
       "      <td>0.0</td>\n",
       "      <td>12000.0</td>\n",
       "      <td>INDIVIDUAL</td>\n",
       "      <td>0.0</td>\n",
       "    </tr>\n",
       "    <tr>\n",
       "      <th>157132</th>\n",
       "      <td>200000.0</td>\n",
       "      <td>8.90</td>\n",
       "      <td>0.0</td>\n",
       "      <td>f</td>\n",
       "      <td>508.06</td>\n",
       "      <td>14.0</td>\n",
       "      <td>37.0</td>\n",
       "      <td>13.50</td>\n",
       "      <td>debt_consolidation</td>\n",
       "      <td>A</td>\n",
       "      <td>MORTGAGE</td>\n",
       "      <td>2.0</td>\n",
       "      <td>0.0</td>\n",
       "      <td>34550.0</td>\n",
       "      <td>63.0</td>\n",
       "      <td>0.0</td>\n",
       "      <td>16000.0</td>\n",
       "      <td>INDIVIDUAL</td>\n",
       "      <td>0.0</td>\n",
       "    </tr>\n",
       "    <tr>\n",
       "      <th>81962</th>\n",
       "      <td>100000.0</td>\n",
       "      <td>15.33</td>\n",
       "      <td>0.0</td>\n",
       "      <td>f</td>\n",
       "      <td>417.94</td>\n",
       "      <td>17.0</td>\n",
       "      <td>36.0</td>\n",
       "      <td>20.48</td>\n",
       "      <td>debt_consolidation</td>\n",
       "      <td>D</td>\n",
       "      <td>MORTGAGE</td>\n",
       "      <td>3.0</td>\n",
       "      <td>0.0</td>\n",
       "      <td>88599.0</td>\n",
       "      <td>60.9</td>\n",
       "      <td>0.0</td>\n",
       "      <td>12000.0</td>\n",
       "      <td>INDIVIDUAL</td>\n",
       "      <td>0.0</td>\n",
       "    </tr>\n",
       "    <tr>\n",
       "      <th>161</th>\n",
       "      <td>65000.0</td>\n",
       "      <td>14.16</td>\n",
       "      <td>0.0</td>\n",
       "      <td>w</td>\n",
       "      <td>342.56</td>\n",
       "      <td>14.0</td>\n",
       "      <td>19.0</td>\n",
       "      <td>14.00</td>\n",
       "      <td>debt_consolidation</td>\n",
       "      <td>C</td>\n",
       "      <td>RENT</td>\n",
       "      <td>2.0</td>\n",
       "      <td>0.0</td>\n",
       "      <td>10948.0</td>\n",
       "      <td>43.6</td>\n",
       "      <td>0.0</td>\n",
       "      <td>10000.0</td>\n",
       "      <td>INDIVIDUAL</td>\n",
       "      <td>0.0</td>\n",
       "    </tr>\n",
       "  </tbody>\n",
       "</table>\n",
       "</div>"
      ],
      "text/plain": [
       "        annual_inc  int_rate  collections_12_mths_ex_med initial_list_status  \\\n",
       "193136     75000.0     13.11                         0.0                   w   \n",
       "27784      73000.0     15.99                         0.0                   f   \n",
       "157132    200000.0      8.90                         0.0                   f   \n",
       "81962     100000.0     15.33                         0.0                   f   \n",
       "161        65000.0     14.16                         0.0                   w   \n",
       "\n",
       "        installment  open_acc  total_acc    dti             purpose grade  \\\n",
       "193136       690.97      17.0       42.0  26.85         credit_card     B   \n",
       "27784        421.83      18.0       38.0  16.47  debt_consolidation     D   \n",
       "157132       508.06      14.0       37.0  13.50  debt_consolidation     A   \n",
       "81962        417.94      17.0       36.0  20.48  debt_consolidation     D   \n",
       "161          342.56      14.0       19.0  14.00  debt_consolidation     C   \n",
       "\n",
       "       home_ownership  inq_last_6mths  pub_rec  revol_bal  revol_util  \\\n",
       "193136       MORTGAGE             2.0      0.0    38230.0        87.7   \n",
       "27784        MORTGAGE             2.0      0.0     9874.0        41.0   \n",
       "157132       MORTGAGE             2.0      0.0    34550.0        63.0   \n",
       "81962        MORTGAGE             3.0      0.0    88599.0        60.9   \n",
       "161              RENT             2.0      0.0    10948.0        43.6   \n",
       "\n",
       "        tot_coll_amt  loan_amnt application_type  acc_now_delinq  \n",
       "193136           0.0    20475.0       INDIVIDUAL             0.0  \n",
       "27784            0.0    12000.0       INDIVIDUAL             0.0  \n",
       "157132           0.0    16000.0       INDIVIDUAL             0.0  \n",
       "81962            0.0    12000.0       INDIVIDUAL             0.0  \n",
       "161              0.0    10000.0       INDIVIDUAL             0.0  "
      ]
     },
     "execution_count": 59,
     "metadata": {},
     "output_type": "execute_result"
    }
   ],
   "source": [
    "x_train.head()"
   ]
  },
  {
   "cell_type": "code",
   "execution_count": 60,
   "metadata": {},
   "outputs": [
    {
     "data": {
      "text/plain": [
       "Index(['initial_list_status', 'purpose', 'grade', 'home_ownership',\n",
       "       'application_type'],\n",
       "      dtype='object')"
      ]
     },
     "execution_count": 60,
     "metadata": {},
     "output_type": "execute_result"
    }
   ],
   "source": [
    "categorical_features_indices = x_train.columns[x_train.dtypes == 'object']\n",
    "categorical_features_indices"
   ]
  },
  {
   "cell_type": "code",
   "execution_count": 61,
   "metadata": {},
   "outputs": [],
   "source": [
    "from catboost import CatBoostClassifier, Pool, cv\n",
    "import catboost as cb\n",
    "import frozendict\n",
    "# roc_auc_score"
   ]
  },
  {
   "cell_type": "code",
   "execution_count": 70,
   "metadata": {},
   "outputs": [],
   "source": [
    "params = {\n",
    "    'iterations': 500,\n",
    "    'learning_rate': 0.1,\n",
    "    'eval_metric': 'AUC',\n",
    "    'random_seed': 42,\n",
    "    'logging_level': 'Silent',\n",
    "    'use_best_model': False,\n",
    "    'od_type': 'Iter',\n",
    "    'od_wait': 40\n",
    "}\n",
    "train_pool = Pool(x_train, y_train, cat_features=categorical_features_indices)\n",
    "validate_pool = Pool(x_test, y_test, cat_features=categorical_features_indices)\n"
   ]
  },
  {
   "cell_type": "code",
   "execution_count": 71,
   "metadata": {},
   "outputs": [],
   "source": [
    "best_model_params = params.copy()\n",
    "best_model = CatBoostClassifier(**best_model_params)\n",
    "best_model.fit(train_pool, eval_set=validate_pool);"
   ]
  },
  {
   "cell_type": "code",
   "execution_count": 72,
   "metadata": {},
   "outputs": [
    {
     "name": "stdout",
     "output_type": "stream",
     "text": [
      "Recall: 0.98\n",
      "Precision score: 0.79\n",
      "Accuracy score: 0.78\n"
     ]
    }
   ],
   "source": [
    "show_scores(best_model, x_test, y_test)"
   ]
  },
  {
   "cell_type": "code",
   "execution_count": 73,
   "metadata": {},
   "outputs": [
    {
     "name": "stdout",
     "output_type": "stream",
     "text": [
      "ROC-AUC score:  0.7099626648868074\n"
     ]
    },
    {
     "data": {
      "image/png": "[encoded data removed]",
      "text/plain": [
       "<Figure size 432x288 with 1 Axes>"
      ]
     },
     "metadata": {
      "needs_background": "light"
     },
     "output_type": "display_data"
    }
   ],
   "source": [
    "plot_roc(best_model, x_test, y_test)"
   ]
  },
  {
   "cell_type": "code",
   "execution_count": 28,
   "metadata": {},
   "outputs": [
    {
     "name": "stdout",
     "output_type": "stream",
     "text": [
      "int_rate: 23.19302265276273\n",
      "annual_inc: 10.564059542920795\n",
      "loan_amnt: 9.711976831771299\n",
      "grade: 8.629637974093532\n",
      "dti: 8.158009592265008\n",
      "revol_util: 6.449239897032977\n",
      "installment: 6.11309861424052\n",
      "revol_bal: 5.747466503258803\n",
      "total_acc: 4.802901838186825\n",
      "open_acc: 4.119144631729223\n",
      "purpose: 3.001633986398489\n",
      "home_ownership: 2.2696707232420854\n",
      "inq_last_6mths: 2.1528367280435163\n",
      "tot_coll_amt: 1.975184206310043\n",
      "pub_rec: 1.3365157991190768\n",
      "initial_list_status: 1.300587232443115\n",
      "acc_now_delinq: 0.2416933117293601\n",
      "collections_12_mths_ex_med: 0.23072397825386973\n",
      "application_type: 0.0025959561987512034\n"
     ]
    }
   ],
   "source": [
    "feature_importances = best_model.get_feature_importance(train_pool)\n",
    "feature_names = x_train.columns\n",
    "for score, name in sorted(zip(feature_importances, feature_names), reverse=True):\n",
    "    print('{}: {}'.format(name, score))"
   ]
  },
  {
   "cell_type": "code",
   "execution_count": 48,
   "metadata": {},
   "outputs": [],
   "source": [
    "# make it True if your want to use GPU for training\n",
    "have_gpu = False\n",
    "# skip hyper-parameter optimization and just use provided optimal parameters\n",
    "use_optimal_pretrained_params = False\n",
    "# number of iterations of hyper-parameter search\n",
    "hyperopt_iterations = 50\n"
   ]
  },
  {
   "cell_type": "code",
   "execution_count": 30,
   "metadata": {},
   "outputs": [],
   "source": [
    "const_params = frozendict.frozendict({\n",
    "    'task_type': 'GPU' if have_gpu else 'CPU',\n",
    "    'loss_function': 'Logloss',\n",
    "    'eval_metric': 'AUC', \n",
    "    'custom_metric': ['AUC'],\n",
    "    'iterations': 100,\n",
    "    'random_seed':42})"
   ]
  },
  {
   "cell_type": "code",
   "execution_count": 31,
   "metadata": {},
   "outputs": [],
   "source": [
    "class UciAdultClassifierObjective(object):\n",
    "    def __init__(self, dataset, const_params, fold_count):\n",
    "        self._dataset = dataset\n",
    "        self._const_params = const_params.copy()\n",
    "        self._fold_count = fold_count\n",
    "        self._evaluated_count = 0\n",
    "        \n",
    "    def _to_catboost_params(self, hyper_params):\n",
    "        return {\n",
    "            'learning_rate': hyper_params['learning_rate'],\n",
    "            'depth': hyper_params['depth'],\n",
    "            'l2_leaf_reg': hyper_params['l2_leaf_reg']}\n",
    "    \n",
    "    # hyperopt optimizes an objective using `__call__` method (e.g. by doing \n",
    "    # `foo(hyper_params)`), so we provide one\n",
    "    def __call__(self, hyper_params):\n",
    "        # join hyper-parameters provided by hyperopt with hyper-parameters \n",
    "        # provided by the user\n",
    "        params = self._to_catboost_params(hyper_params)\n",
    "        params.update(self._const_params)\n",
    "        \n",
    "        print('evaluating params={}'.format(params), file=sys.stdout)\n",
    "        sys.stdout.flush()\n",
    "        \n",
    "        # we use cross-validation for objective evaluation, to avoid overfitting\n",
    "        scores = cb.cv(\n",
    "            pool=self._dataset,\n",
    "            params=params,\n",
    "            fold_count=self._fold_count,\n",
    "            partition_random_seed=42,\n",
    "            verbose=False)\n",
    "        \n",
    "        # scores returns a dictionary with mean and std (per-fold) of metric \n",
    "        # value for each cv iteration, we choose minimal value of objective \n",
    "        # mean (though it will be better to choose minimal value among all folds)\n",
    "        # because noise is additive\n",
    "        min_mean_auc = np.min(scores['test-AUC-mean'])\n",
    "        print('evaluated score={}'.format(min_mean_auc), file=sys.stdout)\n",
    "        \n",
    "        self._evaluated_count += 1\n",
    "        print('evaluated {} times'.format(self._evaluated_count), file=sys.stdout)\n",
    "        \n",
    "        # negate because hyperopt minimizes the objective\n",
    "        return {'loss': -min_mean_auc, 'status': hyperopt.STATUS_OK}"
   ]
  },
  {
   "cell_type": "code",
   "execution_count": 50,
   "metadata": {},
   "outputs": [],
   "source": [
    "\n",
    "def find_best_hyper_params(dataset, const_params, max_evals=100):    \n",
    "    # we are going to optimize these three parameters, though there are a lot more of them (see CatBoost docs)\n",
    "    parameter_space = {\n",
    "        'learning_rate': hyperopt.hp.uniform('learning_rate', 0.01, 1.0),\n",
    "        'depth': hyperopt.hp.randint('depth', 7),\n",
    "        'l2_leaf_reg': hyperopt.hp.uniform('l2_leaf_reg', 1, 10)}\n",
    "    objective = UciAdultClassifierObjective(dataset=dataset, const_params=const_params, fold_count=6)\n",
    "    trials = hyperopt.Trials()\n",
    "    best = hyperopt.fmin(\n",
    "        fn=objective,\n",
    "        space=parameter_space,\n",
    "        algo=hyperopt.rand.suggest,\n",
    "        max_evals=max_evals,\n",
    "        rstate=np.random.RandomState(seed=42))\n",
    "    return best\n",
    "\n",
    "def train_best_model(X, y, const_params, max_evals=100, use_default=False):\n",
    "    # convert pandas.DataFrame to catboost.Pool to avoid converting it on each \n",
    "    # iteration of hyper-parameters optimization\n",
    "    dataset = cb.Pool(X, y, cat_features=np.where(X.dtypes != np.float)[0])\n",
    "    \n",
    "    if use_default:\n",
    "        # pretrained optimal parameters\n",
    "        best = {\n",
    "            'learning_rate': 0.4234185321620083, \n",
    "            'depth': 5, \n",
    "            'l2_leaf_reg': 9.464266235679002}\n",
    "    else:\n",
    "        best = find_best_hyper_params(dataset, const_params, max_evals=max_evals)\n",
    "    \n",
    "    # merge subset of hyper-parameters provided by hyperopt with hyper-parameters \n",
    "    # provided by the user\n",
    "    hyper_params = best.copy()\n",
    "    hyper_params.update(const_params)\n",
    "    \n",
    "    # drop `use_best_model` because we are going to use entire dataset for \n",
    "    # training of the final model\n",
    "    hyper_params.pop('use_best_model', None)\n",
    "    \n",
    "    model = cb.CatBoostClassifier(**hyper_params)\n",
    "    model.fit(dataset, verbose=False)\n",
    "    \n",
    "    return model, hyper_params\n",
    "\n"
   ]
  },
  {
   "cell_type": "code",
   "execution_count": 51,
   "metadata": {},
   "outputs": [
    {
     "name": "stdout",
     "output_type": "stream",
     "text": [
      "evaluating params={'learning_rate': 0.4601540416991584, 'depth': 4, 'l2_leaf_reg': 8.493688290834637, 'task_type': 'CPU', 'loss_function': 'Logloss', 'eval_metric': 'AUC', 'custom_metric': ['AUC'], 'iterations': 100, 'random_seed': 42}\n",
      "evaluated score=0.6596485877632808                                                                                     \n",
      "evaluated 1 times                                                                                                      \n",
      "evaluating params={'learning_rate': 0.4160029192647806, 'depth': 3, 'l2_leaf_reg': 7.549531688595925, 'task_type': 'CPU', 'loss_function': 'Logloss', 'eval_metric': 'AUC', 'custom_metric': ['AUC'], 'iterations': 100, 'random_seed': 42}\n",
      "evaluated score=0.6535697362924443                                                                                     \n",
      "evaluated 2 times                                                                                                      \n",
      "evaluating params={'learning_rate': 0.8390144719977514, 'depth': 1, 'l2_leaf_reg': 8.949837496427758, 'task_type': 'CPU', 'loss_function': 'Logloss', 'eval_metric': 'AUC', 'custom_metric': ['AUC'], 'iterations': 100, 'random_seed': 42}\n",
      "evaluated score=0.6244922713087105                                                                                     \n",
      "evaluated 3 times                                                                                                      \n",
      "evaluating params={'learning_rate': 0.4503841871781402, 'depth': 2, 'l2_leaf_reg': 9.268502695024392, 'task_type': 'CPU', 'loss_function': 'Logloss', 'eval_metric': 'AUC', 'custom_metric': ['AUC'], 'iterations': 100, 'random_seed': 42}\n",
      "evaluated score=0.643439326719251                                                                                      \n",
      "evaluated 4 times                                                                                                      \n",
      "evaluating params={'learning_rate': 0.8142720284737895, 'depth': 6, 'l2_leaf_reg': 2.546844052569046, 'task_type': 'CPU', 'loss_function': 'Logloss', 'eval_metric': 'AUC', 'custom_metric': ['AUC'], 'iterations': 100, 'random_seed': 42}\n",
      "evaluated score=0.666530948494397                                                                                      \n",
      "evaluated 5 times                                                                                                      \n",
      "evaluating params={'learning_rate': 0.8015579071911012, 'depth': 1, 'l2_leaf_reg': 4.942262677968309, 'task_type': 'CPU', 'loss_function': 'Logloss', 'eval_metric': 'AUC', 'custom_metric': ['AUC'], 'iterations': 100, 'random_seed': 42}\n",
      "evaluated score=0.6244922713087105                                                                                     \n",
      "evaluated 6 times                                                                                                      \n",
      "evaluating params={'learning_rate': 0.7366877378057126, 'depth': 2, 'l2_leaf_reg': 9.454327638424944, 'task_type': 'CPU', 'loss_function': 'Logloss', 'eval_metric': 'AUC', 'custom_metric': ['AUC'], 'iterations': 100, 'random_seed': 42}\n",
      "evaluated score=0.643439326719251                                                                                      \n",
      "evaluated 7 times                                                                                                      \n",
      "evaluating params={'learning_rate': 0.6209085649172931, 'depth': 0, 'l2_leaf_reg': 7.978279409450941, 'task_type': 'CPU', 'loss_function': 'Logloss', 'eval_metric': 'AUC', 'custom_metric': ['AUC'], 'iterations': 100, 'random_seed': 42}\n",
      "evaluated score=0.5                                                                                                    \n",
      "evaluated 8 times                                                                                                      \n",
      "evaluating params={'learning_rate': 0.5479690370134093, 'depth': 5, 'l2_leaf_reg': 9.280083037935846, 'task_type': 'CPU', 'loss_function': 'Logloss', 'eval_metric': 'AUC', 'custom_metric': ['AUC'], 'iterations': 100, 'random_seed': 42}\n",
      "evaluated score=0.6607494507931647                                                                                     \n",
      "evaluated 9 times                                                                                                      \n",
      "evaluating params={'learning_rate': 0.9559232064468288, 'depth': 6, 'l2_leaf_reg': 7.3055930015922925, 'task_type': 'CPU', 'loss_function': 'Logloss', 'eval_metric': 'AUC', 'custom_metric': ['AUC'], 'iterations': 100, 'random_seed': 42}\n",
      "evaluated score=0.666530948494397                                                                                      \n",
      "evaluated 10 times                                                                                                     \n",
      "evaluating params={'learning_rate': 0.013594004182195793, 'depth': 4, 'l2_leaf_reg': 8.360470176973763, 'task_type': 'CPU', 'loss_function': 'Logloss', 'eval_metric': 'AUC', 'custom_metric': ['AUC'], 'iterations': 100, 'random_seed': 42}\n",
      "evaluated score=0.6596485877632808                                                                                     \n",
      "evaluated 11 times                                                                                                     \n",
      "evaluating params={'learning_rate': 0.8803445283260648, 'depth': 2, 'l2_leaf_reg': 4.226333703160277, 'task_type': 'CPU', 'loss_function': 'Logloss', 'eval_metric': 'AUC', 'custom_metric': ['AUC'], 'iterations': 100, 'random_seed': 42}\n",
      "evaluated score=0.643439326719251                                                                                      \n",
      "evaluated 12 times                                                                                                     \n",
      "evaluating params={'learning_rate': 0.8826636334566117, 'depth': 2, 'l2_leaf_reg': 3.7653234749986546, 'task_type': 'CPU', 'loss_function': 'Logloss', 'eval_metric': 'AUC', 'custom_metric': ['AUC'], 'iterations': 100, 'random_seed': 42}\n",
      "evaluated score=0.643439326719251                                                                                      \n",
      "evaluated 13 times                                                                                                     \n",
      "evaluating params={'learning_rate': 0.531838709669141, 'depth': 6, 'l2_leaf_reg': 1.1186473207406844, 'task_type': 'CPU', 'loss_function': 'Logloss', 'eval_metric': 'AUC', 'custom_metric': ['AUC'], 'iterations': 100, 'random_seed': 42}\n",
      "evaluated score=0.666530948494397                                                                                      \n",
      "evaluated 14 times                                                                                                     \n",
      "evaluating params={'learning_rate': 0.6406636911098853, 'depth': 0, 'l2_leaf_reg': 9.288835555293193, 'task_type': 'CPU', 'loss_function': 'Logloss', 'eval_metric': 'AUC', 'custom_metric': ['AUC'], 'iterations': 100, 'random_seed': 42}\n",
      "evaluated score=0.5                                                                                                    \n",
      "evaluated 15 times                                                                                                     \n",
      "evaluating params={'learning_rate': 0.5875355927854107, 'depth': 0, 'l2_leaf_reg': 6.760090014166223, 'task_type': 'CPU', 'loss_function': 'Logloss', 'eval_metric': 'AUC', 'custom_metric': ['AUC'], 'iterations': 100, 'random_seed': 42}\n",
      "evaluated score=0.5                                                                                                    \n",
      "evaluated 16 times                                                                                                     \n",
      "evaluating params={'learning_rate': 0.5206737908110928, 'depth': 2, 'l2_leaf_reg': 2.122305933450838, 'task_type': 'CPU', 'loss_function': 'Logloss', 'eval_metric': 'AUC', 'custom_metric': ['AUC'], 'iterations': 100, 'random_seed': 42}\n",
      "evaluated score=0.643439326719251                                                                                      \n",
      "evaluated 17 times                                                                                                     \n",
      "evaluating params={'learning_rate': 0.6951893475505562, 'depth': 0, 'l2_leaf_reg': 7.129352121946425, 'task_type': 'CPU', 'loss_function': 'Logloss', 'eval_metric': 'AUC', 'custom_metric': ['AUC'], 'iterations': 100, 'random_seed': 42}\n",
      "evaluated score=0.5                                                                                                    \n",
      "evaluated 18 times                                                                                                     \n",
      "evaluating params={'learning_rate': 0.29525702617866656, 'depth': 0, 'l2_leaf_reg': 7.252206709468439, 'task_type': 'CPU', 'loss_function': 'Logloss', 'eval_metric': 'AUC', 'custom_metric': ['AUC'], 'iterations': 100, 'random_seed': 42}\n",
      "evaluated score=0.5                                                                                                    \n",
      "evaluated 19 times                                                                                                     \n",
      "evaluating params={'learning_rate': 0.40380801063860605, 'depth': 5, 'l2_leaf_reg': 8.87600708641634, 'task_type': 'CPU', 'loss_function': 'Logloss', 'eval_metric': 'AUC', 'custom_metric': ['AUC'], 'iterations': 100, 'random_seed': 42}\n",
      "evaluated score=0.6607494507931647                                                                                     \n",
      "evaluated 20 times                                                                                                     \n",
      "evaluating params={'learning_rate': 0.10685672284291862, 'depth': 3, 'l2_leaf_reg': 7.606937685716839, 'task_type': 'CPU', 'loss_function': 'Logloss', 'eval_metric': 'AUC', 'custom_metric': ['AUC'], 'iterations': 100, 'random_seed': 42}\n",
      "evaluated score=0.6535697362924443                                                                                     \n",
      "evaluated 21 times                                                                                                     \n",
      "evaluating params={'learning_rate': 0.4550879800782998, 'depth': 6, 'l2_leaf_reg': 2.0726141256143755, 'task_type': 'CPU', 'loss_function': 'Logloss', 'eval_metric': 'AUC', 'custom_metric': ['AUC'], 'iterations': 100, 'random_seed': 42}\n",
      "evaluated score=0.666530948494397                                                                                      \n",
      "evaluated 22 times                                                                                                     \n",
      "evaluating params={'learning_rate': 0.33731094496019237, 'depth': 3, 'l2_leaf_reg': 6.339387901117264, 'task_type': 'CPU', 'loss_function': 'Logloss', 'eval_metric': 'AUC', 'custom_metric': ['AUC'], 'iterations': 100, 'random_seed': 42}\n",
      "evaluated score=0.6535697362924443                                                                                     \n",
      "evaluated 23 times                                                                                                     \n",
      "evaluating params={'learning_rate': 0.7914191853798679, 'depth': 6, 'l2_leaf_reg': 2.3992161107439527, 'task_type': 'CPU', 'loss_function': 'Logloss', 'eval_metric': 'AUC', 'custom_metric': ['AUC'], 'iterations': 100, 'random_seed': 42}\n",
      "evaluated score=0.666530948494397                                                                                      \n",
      "evaluated 24 times                                                                                                     \n",
      "evaluating params={'learning_rate': 0.9282970381026845, 'depth': 2, 'l2_leaf_reg': 6.774791231932208, 'task_type': 'CPU', 'loss_function': 'Logloss', 'eval_metric': 'AUC', 'custom_metric': ['AUC'], 'iterations': 100, 'random_seed': 42}\n",
      "evaluated score=0.643439326719251                                                                                      \n",
      "evaluated 25 times                                                                                                     \n",
      "evaluating params={'learning_rate': 0.33712611242188995, 'depth': 3, 'l2_leaf_reg': 3.7415118170244104, 'task_type': 'CPU', 'loss_function': 'Logloss', 'eval_metric': 'AUC', 'custom_metric': ['AUC'], 'iterations': 100, 'random_seed': 42}\n",
      "evaluated score=0.6535697362924443                                                                                     \n",
      "evaluated 26 times                                                                                                     \n",
      "evaluating params={'learning_rate': 0.832029130277241, 'depth': 0, 'l2_leaf_reg': 7.341252418608859, 'task_type': 'CPU', 'loss_function': 'Logloss', 'eval_metric': 'AUC', 'custom_metric': ['AUC'], 'iterations': 100, 'random_seed': 42}\n",
      "evaluated score=0.5                                                                                                    \n",
      "evaluated 27 times                                                                                                     \n",
      "evaluating params={'learning_rate': 0.6651559237291716, 'depth': 5, 'l2_leaf_reg': 1.0626887985889903, 'task_type': 'CPU', 'loss_function': 'Logloss', 'eval_metric': 'AUC', 'custom_metric': ['AUC'], 'iterations': 100, 'random_seed': 42}\n",
      "evaluated score=0.6607494507931647                                                                                     \n",
      "evaluated 28 times                                                                                                     \n",
      "evaluating params={'learning_rate': 0.3607510944731785, 'depth': 4, 'l2_leaf_reg': 6.710418002699299, 'task_type': 'CPU', 'loss_function': 'Logloss', 'eval_metric': 'AUC', 'custom_metric': ['AUC'], 'iterations': 100, 'random_seed': 42}\n",
      "evaluated score=0.6596485877632808                                                                                     \n",
      "evaluated 29 times                                                                                                     \n",
      "evaluating params={'learning_rate': 0.6548070883963159, 'depth': 5, 'l2_leaf_reg': 6.850395695432215, 'task_type': 'CPU', 'loss_function': 'Logloss', 'eval_metric': 'AUC', 'custom_metric': ['AUC'], 'iterations': 100, 'random_seed': 42}\n",
      "evaluated score=0.6607494507931647                                                                                     \n",
      "evaluated 30 times                                                                                                     \n",
      "evaluating params={'learning_rate': 0.4308959290394465, 'depth': 4, 'l2_leaf_reg': 2.184936328120133, 'task_type': 'CPU', 'loss_function': 'Logloss', 'eval_metric': 'AUC', 'custom_metric': ['AUC'], 'iterations': 100, 'random_seed': 42}\n",
      "evaluated score=0.6596485877632808                                                                                     \n",
      "evaluated 31 times                                                                                                     \n",
      "evaluating params={'learning_rate': 0.5431602770389196, 'depth': 0, 'l2_leaf_reg': 3.850918241301665, 'task_type': 'CPU', 'loss_function': 'Logloss', 'eval_metric': 'AUC', 'custom_metric': ['AUC'], 'iterations': 100, 'random_seed': 42}\n",
      "evaluated score=0.5                                                                                                    \n",
      "evaluated 32 times                                                                                                     \n",
      "evaluating params={'learning_rate': 0.1399648199940195, 'depth': 5, 'l2_leaf_reg': 6.181142547861167, 'task_type': 'CPU', 'loss_function': 'Logloss', 'eval_metric': 'AUC', 'custom_metric': ['AUC'], 'iterations': 100, 'random_seed': 42}\n",
      "evaluated score=0.6607494507931647                                                                                     \n",
      "evaluated 33 times                                                                                                     \n",
      "evaluating params={'learning_rate': 0.5411356303728619, 'depth': 4, 'l2_leaf_reg': 6.62131414290977, 'task_type': 'CPU', 'loss_function': 'Logloss', 'eval_metric': 'AUC', 'custom_metric': ['AUC'], 'iterations': 100, 'random_seed': 42}\n",
      "evaluated score=0.6596485877632808                                                                                     \n",
      "evaluated 34 times                                                                                                     \n"
     ]
    },
    {
     "name": "stdout",
     "output_type": "stream",
     "text": [
      "evaluating params={'learning_rate': 0.3330437618473762, 'depth': 2, 'l2_leaf_reg': 6.43044823439896, 'task_type': 'CPU', 'loss_function': 'Logloss', 'eval_metric': 'AUC', 'custom_metric': ['AUC'], 'iterations': 100, 'random_seed': 42}\n",
      "evaluated score=0.643439326719251                                                                                      \n",
      "evaluated 35 times                                                                                                     \n",
      "evaluating params={'learning_rate': 0.5411917180868422, 'depth': 4, 'l2_leaf_reg': 2.6565212671416507, 'task_type': 'CPU', 'loss_function': 'Logloss', 'eval_metric': 'AUC', 'custom_metric': ['AUC'], 'iterations': 100, 'random_seed': 42}\n",
      "evaluated score=0.6596485877632808                                                                                     \n",
      "evaluated 36 times                                                                                                     \n",
      "evaluating params={'learning_rate': 0.43876719377209394, 'depth': 1, 'l2_leaf_reg': 5.469164797061436, 'task_type': 'CPU', 'loss_function': 'Logloss', 'eval_metric': 'AUC', 'custom_metric': ['AUC'], 'iterations': 100, 'random_seed': 42}\n",
      "evaluated score=0.6244922713087105                                                                                     \n",
      "evaluated 37 times                                                                                                     \n",
      "evaluating params={'learning_rate': 0.8534292204742664, 'depth': 3, 'l2_leaf_reg': 7.762603832174364, 'task_type': 'CPU', 'loss_function': 'Logloss', 'eval_metric': 'AUC', 'custom_metric': ['AUC'], 'iterations': 100, 'random_seed': 42}\n",
      "evaluated score=0.6535697362924443                                                                                     \n",
      "evaluated 38 times                                                                                                     \n",
      "evaluating params={'learning_rate': 0.712099081956097, 'depth': 5, 'l2_leaf_reg': 1.3354940643295945, 'task_type': 'CPU', 'loss_function': 'Logloss', 'eval_metric': 'AUC', 'custom_metric': ['AUC'], 'iterations': 100, 'random_seed': 42}\n",
      "evaluated score=0.6607494507931647                                                                                     \n",
      "evaluated 39 times                                                                                                     \n",
      "evaluating params={'learning_rate': 0.9392539170837757, 'depth': 1, 'l2_leaf_reg': 8.157368633221372, 'task_type': 'CPU', 'loss_function': 'Logloss', 'eval_metric': 'AUC', 'custom_metric': ['AUC'], 'iterations': 100, 'random_seed': 42}\n",
      "evaluated score=0.6244922713087105                                                                                     \n",
      "evaluated 40 times                                                                                                     \n",
      "evaluating params={'learning_rate': 0.224627684131321, 'depth': 0, 'l2_leaf_reg': 9.120965626738386, 'task_type': 'CPU', 'loss_function': 'Logloss', 'eval_metric': 'AUC', 'custom_metric': ['AUC'], 'iterations': 100, 'random_seed': 42}\n",
      "evaluated score=0.5                                                                                                    \n",
      "evaluated 41 times                                                                                                     \n",
      "evaluating params={'learning_rate': 0.4833566642618024, 'depth': 4, 'l2_leaf_reg': 7.375442989938085, 'task_type': 'CPU', 'loss_function': 'Logloss', 'eval_metric': 'AUC', 'custom_metric': ['AUC'], 'iterations': 100, 'random_seed': 42}\n",
      "evaluated score=0.6596485877632808                                                                                     \n",
      "evaluated 42 times                                                                                                     \n",
      "evaluating params={'learning_rate': 0.550903838543091, 'depth': 1, 'l2_leaf_reg': 3.310896149885864, 'task_type': 'CPU', 'loss_function': 'Logloss', 'eval_metric': 'AUC', 'custom_metric': ['AUC'], 'iterations': 100, 'random_seed': 42}\n",
      "evaluated score=0.6244922713087105                                                                                     \n",
      "evaluated 43 times                                                                                                     \n",
      "evaluating params={'learning_rate': 0.9632525461996154, 'depth': 3, 'l2_leaf_reg': 4.42644166211115, 'task_type': 'CPU', 'loss_function': 'Logloss', 'eval_metric': 'AUC', 'custom_metric': ['AUC'], 'iterations': 100, 'random_seed': 42}\n",
      "evaluated score=0.6535697362924443                                                                                     \n",
      "evaluated 44 times                                                                                                     \n",
      "evaluating params={'learning_rate': 0.6175695169504769, 'depth': 6, 'l2_leaf_reg': 8.067461444538466, 'task_type': 'CPU', 'loss_function': 'Logloss', 'eval_metric': 'AUC', 'custom_metric': ['AUC'], 'iterations': 100, 'random_seed': 42}\n",
      "evaluated score=0.666530948494397                                                                                      \n",
      "evaluated 45 times                                                                                                     \n",
      "evaluating params={'learning_rate': 0.31647612862600355, 'depth': 4, 'l2_leaf_reg': 9.72685862525973, 'task_type': 'CPU', 'loss_function': 'Logloss', 'eval_metric': 'AUC', 'custom_metric': ['AUC'], 'iterations': 100, 'random_seed': 42}\n",
      "evaluated score=0.6596485877632808                                                                                     \n",
      "evaluated 46 times                                                                                                     \n",
      "evaluating params={'learning_rate': 0.30455872804720113, 'depth': 1, 'l2_leaf_reg': 3.2977280073078528, 'task_type': 'CPU', 'loss_function': 'Logloss', 'eval_metric': 'AUC', 'custom_metric': ['AUC'], 'iterations': 100, 'random_seed': 42}\n",
      "evaluated score=0.6244922713087105                                                                                     \n",
      "evaluated 47 times                                                                                                     \n",
      "evaluating params={'learning_rate': 0.01412144526801152, 'depth': 1, 'l2_leaf_reg': 9.813523901250528, 'task_type': 'CPU', 'loss_function': 'Logloss', 'eval_metric': 'AUC', 'custom_metric': ['AUC'], 'iterations': 100, 'random_seed': 42}\n",
      "evaluated score=0.6244922713087105                                                                                     \n",
      "evaluated 48 times                                                                                                     \n",
      "evaluating params={'learning_rate': 0.9529512922265847, 'depth': 1, 'l2_leaf_reg': 8.88997567856084, 'task_type': 'CPU', 'loss_function': 'Logloss', 'eval_metric': 'AUC', 'custom_metric': ['AUC'], 'iterations': 100, 'random_seed': 42}\n",
      "evaluated score=0.6244922713087105                                                                                     \n",
      "evaluated 49 times                                                                                                     \n",
      "evaluating params={'learning_rate': 0.9879350504381784, 'depth': 0, 'l2_leaf_reg': 4.183924523770489, 'task_type': 'CPU', 'loss_function': 'Logloss', 'eval_metric': 'AUC', 'custom_metric': ['AUC'], 'iterations': 100, 'random_seed': 42}\n",
      "evaluated score=0.5                                                                                                    \n",
      "evaluated 50 times                                                                                                     \n",
      "100%|███████████████████████████████████████████████████| 50/50 [48:20<00:00, 45.61s/it, best loss: -0.666530948494397]\n"
     ]
    },
    {
     "name": "stderr",
     "output_type": "stream",
     "text": [
      "Warning: Custom metrics will not be evaluated because there are no test datasets\n"
     ]
    }
   ],
   "source": [
    "model, params = train_best_model(\n",
    "    x_train, y_train, \n",
    "    const_params, \n",
    "    max_evals=hyperopt_iterations, \n",
    "    use_default=use_optimal_pretrained_params)"
   ]
  },
  {
   "cell_type": "code",
   "execution_count": 53,
   "metadata": {},
   "outputs": [
    {
     "data": {
      "text/plain": [
       "{'depth': 6,\n",
       " 'l2_leaf_reg': 2.546844052569046,\n",
       " 'learning_rate': 0.8142720284737895,\n",
       " 'task_type': 'CPU',\n",
       " 'loss_function': 'Logloss',\n",
       " 'eval_metric': 'AUC',\n",
       " 'custom_metric': ['AUC'],\n",
       " 'iterations': 100,\n",
       " 'random_seed': 42}"
      ]
     },
     "execution_count": 53,
     "metadata": {},
     "output_type": "execute_result"
    }
   ],
   "source": [
    "params"
   ]
  },
  {
   "cell_type": "code",
   "execution_count": 54,
   "metadata": {},
   "outputs": [
    {
     "name": "stdout",
     "output_type": "stream",
     "text": [
      "ROC-AUC score:  0.6951312195568873\n"
     ]
    },
    {
     "data": {
      "image/png": "[encoded data removed]",
      "text/plain": [
       "<Figure size 432x288 with 1 Axes>"
      ]
     },
     "metadata": {
      "needs_background": "light"
     },
     "output_type": "display_data"
    }
   ],
   "source": [
    "plot_roc(model, x_test, y_test)"
   ]
  },
  {
   "cell_type": "code",
   "execution_count": 55,
   "metadata": {
    "scrolled": true
   },
   "outputs": [
    {
     "name": "stdout",
     "output_type": "stream",
     "text": [
      "Recall: 0.96\n",
      "Precision score: 0.80\n",
      "Accuracy score: 0.78\n"
     ]
    }
   ],
   "source": [
    "show_scores(model, x_test, y_test)"
   ]
  },
  {
   "cell_type": "markdown",
   "metadata": {},
   "source": [
    "## LightGBM"
   ]
  },
  {
   "cell_type": "code",
   "execution_count": 13,
   "metadata": {},
   "outputs": [],
   "source": [
    "import lightgbm as lgb"
   ]
  },
  {
   "cell_type": "code",
   "execution_count": 24,
   "metadata": {},
   "outputs": [],
   "source": [
    "params = {\n",
    "    'boosting_type': 'dart',\n",
    "    'objective': 'binary',\n",
    "    'metric': {'auc'},\n",
    "    'num_leaves': 70,\n",
    "     'max_depth' : 7,\n",
    "    'learning_rate': 0.05,\n",
    "    'feature_fraction': 0.9,\n",
    "    'bagging_fraction': 0.8,\n",
    "    'bagging_freq': 5,\n",
    "    'verbose': 0}"
   ]
  },
  {
   "cell_type": "code",
   "execution_count": 25,
   "metadata": {},
   "outputs": [
    {
     "data": {
      "text/html": [
       "<div>\n",
       "<style scoped>\n",
       "    .dataframe tbody tr th:only-of-type {\n",
       "        vertical-align: middle;\n",
       "    }\n",
       "\n",
       "    .dataframe tbody tr th {\n",
       "        vertical-align: top;\n",
       "    }\n",
       "\n",
       "    .dataframe thead th {\n",
       "        text-align: right;\n",
       "    }\n",
       "</style>\n",
       "<table border=\"1\" class=\"dataframe\">\n",
       "  <thead>\n",
       "    <tr style=\"text-align: right;\">\n",
       "      <th></th>\n",
       "      <th>acc_now_delinq</th>\n",
       "      <th>annual_inc</th>\n",
       "      <th>application_type</th>\n",
       "      <th>collections_12_mths_ex_med</th>\n",
       "      <th>dti</th>\n",
       "      <th>grade_A</th>\n",
       "      <th>grade_B</th>\n",
       "      <th>grade_C</th>\n",
       "      <th>grade_D</th>\n",
       "      <th>grade_E</th>\n",
       "      <th>...</th>\n",
       "      <th>purpose_moving</th>\n",
       "      <th>purpose_other</th>\n",
       "      <th>purpose_renewable_energy</th>\n",
       "      <th>purpose_small_business</th>\n",
       "      <th>purpose_vacation</th>\n",
       "      <th>purpose_wedding</th>\n",
       "      <th>revol_bal</th>\n",
       "      <th>revol_util</th>\n",
       "      <th>tot_coll_amt</th>\n",
       "      <th>total_acc</th>\n",
       "    </tr>\n",
       "  </thead>\n",
       "  <tbody>\n",
       "    <tr>\n",
       "      <th>193136</th>\n",
       "      <td>0.0</td>\n",
       "      <td>75000.0</td>\n",
       "      <td>True</td>\n",
       "      <td>0.0</td>\n",
       "      <td>26.85</td>\n",
       "      <td>0</td>\n",
       "      <td>1</td>\n",
       "      <td>0</td>\n",
       "      <td>0</td>\n",
       "      <td>0</td>\n",
       "      <td>...</td>\n",
       "      <td>0</td>\n",
       "      <td>0</td>\n",
       "      <td>0</td>\n",
       "      <td>0</td>\n",
       "      <td>0</td>\n",
       "      <td>0</td>\n",
       "      <td>38230.0</td>\n",
       "      <td>87.7</td>\n",
       "      <td>0.0</td>\n",
       "      <td>42.0</td>\n",
       "    </tr>\n",
       "    <tr>\n",
       "      <th>27784</th>\n",
       "      <td>0.0</td>\n",
       "      <td>73000.0</td>\n",
       "      <td>True</td>\n",
       "      <td>0.0</td>\n",
       "      <td>16.47</td>\n",
       "      <td>0</td>\n",
       "      <td>0</td>\n",
       "      <td>0</td>\n",
       "      <td>1</td>\n",
       "      <td>0</td>\n",
       "      <td>...</td>\n",
       "      <td>0</td>\n",
       "      <td>0</td>\n",
       "      <td>0</td>\n",
       "      <td>0</td>\n",
       "      <td>0</td>\n",
       "      <td>0</td>\n",
       "      <td>9874.0</td>\n",
       "      <td>41.0</td>\n",
       "      <td>0.0</td>\n",
       "      <td>38.0</td>\n",
       "    </tr>\n",
       "    <tr>\n",
       "      <th>157132</th>\n",
       "      <td>0.0</td>\n",
       "      <td>200000.0</td>\n",
       "      <td>True</td>\n",
       "      <td>0.0</td>\n",
       "      <td>13.50</td>\n",
       "      <td>1</td>\n",
       "      <td>0</td>\n",
       "      <td>0</td>\n",
       "      <td>0</td>\n",
       "      <td>0</td>\n",
       "      <td>...</td>\n",
       "      <td>0</td>\n",
       "      <td>0</td>\n",
       "      <td>0</td>\n",
       "      <td>0</td>\n",
       "      <td>0</td>\n",
       "      <td>0</td>\n",
       "      <td>34550.0</td>\n",
       "      <td>63.0</td>\n",
       "      <td>0.0</td>\n",
       "      <td>37.0</td>\n",
       "    </tr>\n",
       "    <tr>\n",
       "      <th>81962</th>\n",
       "      <td>0.0</td>\n",
       "      <td>100000.0</td>\n",
       "      <td>True</td>\n",
       "      <td>0.0</td>\n",
       "      <td>20.48</td>\n",
       "      <td>0</td>\n",
       "      <td>0</td>\n",
       "      <td>0</td>\n",
       "      <td>1</td>\n",
       "      <td>0</td>\n",
       "      <td>...</td>\n",
       "      <td>0</td>\n",
       "      <td>0</td>\n",
       "      <td>0</td>\n",
       "      <td>0</td>\n",
       "      <td>0</td>\n",
       "      <td>0</td>\n",
       "      <td>88599.0</td>\n",
       "      <td>60.9</td>\n",
       "      <td>0.0</td>\n",
       "      <td>36.0</td>\n",
       "    </tr>\n",
       "    <tr>\n",
       "      <th>161</th>\n",
       "      <td>0.0</td>\n",
       "      <td>65000.0</td>\n",
       "      <td>True</td>\n",
       "      <td>0.0</td>\n",
       "      <td>14.00</td>\n",
       "      <td>0</td>\n",
       "      <td>0</td>\n",
       "      <td>1</td>\n",
       "      <td>0</td>\n",
       "      <td>0</td>\n",
       "      <td>...</td>\n",
       "      <td>0</td>\n",
       "      <td>0</td>\n",
       "      <td>0</td>\n",
       "      <td>0</td>\n",
       "      <td>0</td>\n",
       "      <td>0</td>\n",
       "      <td>10948.0</td>\n",
       "      <td>43.6</td>\n",
       "      <td>0.0</td>\n",
       "      <td>19.0</td>\n",
       "    </tr>\n",
       "  </tbody>\n",
       "</table>\n",
       "<p>5 rows × 43 columns</p>\n",
       "</div>"
      ],
      "text/plain": [
       "        acc_now_delinq  annual_inc  application_type  \\\n",
       "193136             0.0     75000.0              True   \n",
       "27784              0.0     73000.0              True   \n",
       "157132             0.0    200000.0              True   \n",
       "81962              0.0    100000.0              True   \n",
       "161                0.0     65000.0              True   \n",
       "\n",
       "        collections_12_mths_ex_med    dti  grade_A  grade_B  grade_C  grade_D  \\\n",
       "193136                         0.0  26.85        0        1        0        0   \n",
       "27784                          0.0  16.47        0        0        0        1   \n",
       "157132                         0.0  13.50        1        0        0        0   \n",
       "81962                          0.0  20.48        0        0        0        1   \n",
       "161                            0.0  14.00        0        0        1        0   \n",
       "\n",
       "        grade_E  ...  purpose_moving  purpose_other  purpose_renewable_energy  \\\n",
       "193136        0  ...               0              0                         0   \n",
       "27784         0  ...               0              0                         0   \n",
       "157132        0  ...               0              0                         0   \n",
       "81962         0  ...               0              0                         0   \n",
       "161           0  ...               0              0                         0   \n",
       "\n",
       "        purpose_small_business  purpose_vacation  purpose_wedding  revol_bal  \\\n",
       "193136                       0                 0                0    38230.0   \n",
       "27784                        0                 0                0     9874.0   \n",
       "157132                       0                 0                0    34550.0   \n",
       "81962                        0                 0                0    88599.0   \n",
       "161                          0                 0                0    10948.0   \n",
       "\n",
       "        revol_util  tot_coll_amt  total_acc  \n",
       "193136        87.7           0.0       42.0  \n",
       "27784         41.0           0.0       38.0  \n",
       "157132        63.0           0.0       37.0  \n",
       "81962         60.9           0.0       36.0  \n",
       "161           43.6           0.0       19.0  \n",
       "\n",
       "[5 rows x 43 columns]"
      ]
     },
     "execution_count": 25,
     "metadata": {},
     "output_type": "execute_result"
    }
   ],
   "source": [
    "x_train.head()"
   ]
  },
  {
   "cell_type": "code",
   "execution_count": 28,
   "metadata": {},
   "outputs": [],
   "source": [
    "lgb_train = lgb.Dataset(x_train, y_train, free_raw_data=False)\n",
    "lgb_eval = lgb.Dataset(x_test, y_test, reference=lgb_train, free_raw_data=False)"
   ]
  },
  {
   "cell_type": "code",
   "execution_count": 32,
   "metadata": {},
   "outputs": [
    {
     "data": {
      "text/plain": [
       "Index([], dtype='object')"
      ]
     },
     "execution_count": 32,
     "metadata": {},
     "output_type": "execute_result"
    }
   ],
   "source": [
    "categorical_features_names = x_train.columns[x_train.dtypes == 'object']\n",
    "categorical_features_names"
   ]
  },
  {
   "cell_type": "code",
   "execution_count": null,
   "metadata": {},
   "outputs": [],
   "source": [
    "for col in categorical_features_names: \n",
    "    x_train[col] = x_train[col].astype('category')\n",
    "    x_test[col] = x_test[col].astype('category')"
   ]
  },
  {
   "cell_type": "code",
   "execution_count": 20,
   "metadata": {},
   "outputs": [],
   "source": [
    "evals_result = {}"
   ]
  },
  {
   "cell_type": "code",
   "execution_count": 21,
   "metadata": {},
   "outputs": [],
   "source": [
    "num_train, num_feature = x_train.shape\n",
    "feature_name = ['feature_' + str(col) for col in range(num_feature)]"
   ]
  },
  {
   "cell_type": "code",
   "execution_count": 30,
   "metadata": {},
   "outputs": [
    {
     "name": "stdout",
     "output_type": "stream",
     "text": [
      "[100]\ttraining's auc: 0.724557\tvalid_1's auc: 0.703983\n",
      "[200]\ttraining's auc: 0.731635\tvalid_1's auc: 0.705662\n",
      "[300]\ttraining's auc: 0.741478\tvalid_1's auc: 0.707498\n",
      "[400]\ttraining's auc: 0.750099\tvalid_1's auc: 0.708546\n",
      "[500]\ttraining's auc: 0.759934\tvalid_1's auc: 0.709186\n",
      "[600]\ttraining's auc: 0.765676\tvalid_1's auc: 0.709535\n",
      "[700]\ttraining's auc: 0.772694\tvalid_1's auc: 0.709889\n",
      "[800]\ttraining's auc: 0.778116\tvalid_1's auc: 0.710141\n",
      "[900]\ttraining's auc: 0.784195\tvalid_1's auc: 0.709909\n",
      "[1000]\ttraining's auc: 0.789573\tvalid_1's auc: 0.710274\n",
      "[1100]\ttraining's auc: 0.794999\tvalid_1's auc: 0.709915\n",
      "[1200]\ttraining's auc: 0.798573\tvalid_1's auc: 0.709863\n",
      "[1300]\ttraining's auc: 0.803335\tvalid_1's auc: 0.709621\n",
      "[1400]\ttraining's auc: 0.808596\tvalid_1's auc: 0.709817\n",
      "[1500]\ttraining's auc: 0.812394\tvalid_1's auc: 0.709646\n",
      "[1600]\ttraining's auc: 0.81673\tvalid_1's auc: 0.70936\n",
      "[1700]\ttraining's auc: 0.821871\tvalid_1's auc: 0.70909\n",
      "[1800]\ttraining's auc: 0.826704\tvalid_1's auc: 0.708901\n",
      "[1900]\ttraining's auc: 0.830915\tvalid_1's auc: 0.708682\n",
      "[2000]\ttraining's auc: 0.83534\tvalid_1's auc: 0.708237\n",
      "[2100]\ttraining's auc: 0.839794\tvalid_1's auc: 0.707901\n",
      "[2200]\ttraining's auc: 0.844109\tvalid_1's auc: 0.707648\n",
      "[2300]\ttraining's auc: 0.848706\tvalid_1's auc: 0.707409\n",
      "[2400]\ttraining's auc: 0.854046\tvalid_1's auc: 0.706967\n",
      "[2500]\ttraining's auc: 0.857486\tvalid_1's auc: 0.706515\n",
      "[2600]\ttraining's auc: 0.86095\tvalid_1's auc: 0.706445\n",
      "[2700]\ttraining's auc: 0.864692\tvalid_1's auc: 0.706134\n",
      "[2800]\ttraining's auc: 0.867512\tvalid_1's auc: 0.705867\n",
      "[2900]\ttraining's auc: 0.870611\tvalid_1's auc: 0.705619\n",
      "[3000]\ttraining's auc: 0.874331\tvalid_1's auc: 0.705141\n",
      "[3100]\ttraining's auc: 0.877676\tvalid_1's auc: 0.704543\n",
      "[3200]\ttraining's auc: 0.881089\tvalid_1's auc: 0.704065\n",
      "[3300]\ttraining's auc: 0.884337\tvalid_1's auc: 0.703609\n",
      "[3400]\ttraining's auc: 0.888476\tvalid_1's auc: 0.703066\n",
      "[3500]\ttraining's auc: 0.891203\tvalid_1's auc: 0.702632\n",
      "[3600]\ttraining's auc: 0.894843\tvalid_1's auc: 0.702225\n",
      "[3700]\ttraining's auc: 0.897643\tvalid_1's auc: 0.702089\n",
      "[3800]\ttraining's auc: 0.900484\tvalid_1's auc: 0.701896\n",
      "[3900]\ttraining's auc: 0.903189\tvalid_1's auc: 0.701293\n",
      "[4000]\ttraining's auc: 0.906045\tvalid_1's auc: 0.700767\n",
      "[4100]\ttraining's auc: 0.908118\tvalid_1's auc: 0.700667\n",
      "[4200]\ttraining's auc: 0.910337\tvalid_1's auc: 0.700409\n",
      "[4300]\ttraining's auc: 0.912681\tvalid_1's auc: 0.699885\n",
      "[4400]\ttraining's auc: 0.914754\tvalid_1's auc: 0.699721\n",
      "[4500]\ttraining's auc: 0.917048\tvalid_1's auc: 0.699395\n",
      "[4600]\ttraining's auc: 0.918868\tvalid_1's auc: 0.699034\n",
      "[4700]\ttraining's auc: 0.920807\tvalid_1's auc: 0.69882\n",
      "[4800]\ttraining's auc: 0.922648\tvalid_1's auc: 0.69848\n",
      "[4900]\ttraining's auc: 0.924603\tvalid_1's auc: 0.698354\n",
      "[5000]\ttraining's auc: 0.926917\tvalid_1's auc: 0.698048\n"
     ]
    }
   ],
   "source": [
    "gbm = lgb.train(params,\n",
    "                lgb_train,\n",
    "                num_boost_round=5000,\n",
    "                valid_sets=[lgb_train, lgb_eval],\n",
    "               # feature_name=feature_name,              \n",
    "                categorical_feature= categorical_features_indices,\n",
    "                evals_result=evals_result,\n",
    "                verbose_eval=100)"
   ]
  },
  {
   "cell_type": "code",
   "execution_count": 31,
   "metadata": {},
   "outputs": [
    {
     "data": {
      "image/png": "[encoded data removed]",
      "text/plain": [
       "<Figure size 432x288 with 1 Axes>"
      ]
     },
     "metadata": {
      "needs_background": "light"
     },
     "output_type": "display_data"
    }
   ],
   "source": [
    "lgb.plot_metric(evals_result, metric='auc')\n",
    "plt.show()"
   ]
  },
  {
   "cell_type": "code",
   "execution_count": null,
   "metadata": {},
   "outputs": [],
   "source": []
  }
 ],
 "metadata": {
  "kernelspec": {
   "display_name": "Python 3",
   "language": "python",
   "name": "python3"
  },
  "language_info": {
   "codemirror_mode": {
    "name": "ipython",
    "version": 3
   },
   "file_extension": ".py",
   "mimetype": "text/x-python",
   "name": "python",
   "nbconvert_exporter": "python",
   "pygments_lexer": "ipython3",
   "version": "3.7.2"
  }
 },
 "nbformat": 4,
 "nbformat_minor": 2
}
