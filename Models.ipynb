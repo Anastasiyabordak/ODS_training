{
 "cells": [
  {
   "cell_type": "markdown",
   "metadata": {},
   "source": [
    "#### Для корректной работы нужно переместить файлы test.csv & train.csv в директорию data/"
   ]
  },
  {
   "cell_type": "code",
   "execution_count": 89,
   "metadata": {},
   "outputs": [],
   "source": [
    "import pandas as pd\n",
    "import sys\n",
    "import matplotlib.pyplot as plt\n",
    "import numpy as np\n",
    "from sklearn import linear_model\n",
    "from sklearn.model_selection import train_test_split\n",
    "from sklearn.metrics import mean_squared_error, r2_score"
   ]
  },
  {
   "cell_type": "code",
   "execution_count": 191,
   "metadata": {
    "scrolled": true
   },
   "outputs": [
    {
     "name": "stdout",
     "output_type": "stream",
     "text": [
      "<class 'pandas.core.frame.DataFrame'>\n",
      "RangeIndex: 200189 entries, 0 to 200188\n",
      "Data columns (total 36 columns):\n",
      "loan_amnt                     200189 non-null float64\n",
      "term                          200189 non-null object\n",
      "int_rate                      200189 non-null float64\n",
      "installment                   200189 non-null float64\n",
      "grade                         200189 non-null object\n",
      "sub_grade                     200189 non-null object\n",
      "emp_title                     189062 non-null object\n",
      "emp_length                    192135 non-null object\n",
      "home_ownership                200189 non-null object\n",
      "annual_inc                    200189 non-null float64\n",
      "verification_status           200189 non-null object\n",
      "issue_d                       200189 non-null object\n",
      "loan_status                   200189 non-null int64\n",
      "pymnt_plan                    200189 non-null object\n",
      "purpose                       200189 non-null object\n",
      "zip_code                      200189 non-null object\n",
      "addr_state                    200189 non-null object\n",
      "dti                           200189 non-null float64\n",
      "delinq_2yrs                   200189 non-null float64\n",
      "earliest_cr_line              200189 non-null object\n",
      "inq_last_6mths                200189 non-null float64\n",
      "mths_since_last_delinq        89621 non-null float64\n",
      "open_acc                      200189 non-null float64\n",
      "pub_rec                       200189 non-null float64\n",
      "revol_bal                     200189 non-null float64\n",
      "revol_util                    200035 non-null float64\n",
      "total_acc                     200189 non-null float64\n",
      "initial_list_status           200189 non-null object\n",
      "collections_12_mths_ex_med    200145 non-null float64\n",
      "policy_code                   200189 non-null float64\n",
      "application_type              200189 non-null object\n",
      "acc_now_delinq                200189 non-null float64\n",
      "tot_coll_amt                  152232 non-null float64\n",
      "tot_cur_bal                   152232 non-null float64\n",
      "total_rev_hi_lim              152232 non-null float64\n",
      "record_id                     200189 non-null int64\n",
      "dtypes: float64(19), int64(2), object(15)\n",
      "memory usage: 55.0+ MB\n"
     ]
    }
   ],
   "source": [
    "train = pd.read_csv('data/train.csv')\n",
    "train.head(50)\n",
    "train.info()"
   ]
  },
  {
   "cell_type": "markdown",
   "metadata": {},
   "source": [
    "## Линейная регрессия"
   ]
  },
  {
   "cell_type": "markdown",
   "metadata": {},
   "source": [
    "* intRate - Interest Rate on the loan\n",
    "* annual_inc - Theannual income provided by the borrower during registration\n",
    "* inq_last_6mths -The number of inquiries in past 6 months (excluding auto and mortgage inquiries)\n",
    "* mths_since_last_delinq  - Months since most recent personal finance delinquency.\n",
    "* pub_rec  - Number of derogatory public records\n",
    "* revolBal - Total credit revolving balance\n",
    "* revolUtil - Revolving line utilization rate, or the amount of credit the borrower is using relative to all available revolving credit.\n"
   ]
  },
  {
   "cell_type": "code",
   "execution_count": 221,
   "metadata": {},
   "outputs": [],
   "source": [
    "y = train[train['int_rate'] >= 0]['int_rate'] # целевой признак\n",
    "x = train.loc[:,['annual_inc','inq_last_6mths','mths_since_last_delinq','pub_rec','revol_bal','revol_util','loan_status'] ] # параметры\n",
    "x['mths_since_last_delinq'] = x['mths_since_last_delinq'].fillna(0)\n",
    "x['revol_util'] = x['revol_util'].fillna(0)"
   ]
  },
  {
   "cell_type": "code",
   "execution_count": 222,
   "metadata": {},
   "outputs": [],
   "source": [
    "X_train, X_test, y_train, y_test = train_test_split(x, y, test_size=0.3, random_state = 42)\n",
    "lm = linear_model.Lasso(alpha=0.1)\n",
    "model = lm.fit(X_train, y_train)\n",
    "pred_test = lm.predict(X_test)"
   ]
  },
  {
   "cell_type": "code",
   "execution_count": 223,
   "metadata": {
    "scrolled": false
   },
   "outputs": [
    {
     "name": "stdout",
     "output_type": "stream",
     "text": [
      "Mean squared error for test sample: 15.22\n",
      "Mean squared error for train sample: 15.20\n"
     ]
    }
   ],
   "source": [
    "print(\"Mean squared error for test sample: %.2f\"\n",
    "      % mean_squared_error(y_test,lm.predict(X_test)))\n",
    "print(\"Mean squared error for train sample: %.2f\"\n",
    "      % mean_squared_error(y_train, lm.predict(X_train)))"
   ]
  }
 ],
 "metadata": {
  "kernelspec": {
   "display_name": "Python 3",
   "language": "python",
   "name": "python3"
  },
  "language_info": {
   "codemirror_mode": {
    "name": "ipython",
    "version": 3
   },
   "file_extension": ".py",
   "mimetype": "text/x-python",
   "name": "python",
   "nbconvert_exporter": "python",
   "pygments_lexer": "ipython3",
   "version": "3.7.2"
  }
 },
 "nbformat": 4,
 "nbformat_minor": 2
}
