{
 "cells": [
  {
   "cell_type": "markdown",
   "metadata": {},
   "source": [
    "#### Для корректной работы нужно\n",
    "* переместить файлы test.csv & train.csv в директорию data/\n",
    "* скачать [graphviz](http://www.graphviz.org/download)  \n",
    "* вылетает ошибка [“dot.exe” not found in path](https://stackoverflow.com/questions/40632486/dot-exe-not-found-in-path-pydot-on-python-windows-7)"
   ]
  },
  {
   "cell_type": "code",
   "execution_count": 1,
   "metadata": {},
   "outputs": [],
   "source": [
    "import pandas as pd\n",
    "import sys\n",
    "import seaborn as sns\n",
    "import numpy as np\n",
    "from sklearn.model_selection import train_test_split\n",
    "from sklearn.metrics import mean_squared_error, r2_score\n",
    "from sklearn.preprocessing import StandardScaler  \n",
    "from sklearn.model_selection import cross_validate\n",
    "from sklearn.metrics import recall_score, roc_auc_score,precision_score,accuracy_score,roc_curve,make_scorer\n",
    "import matplotlib.pyplot as plt\n",
    "pd.options.mode.chained_assignment = None "
   ]
  },
  {
   "cell_type": "code",
   "execution_count": 33,
   "metadata": {
    "scrolled": false
   },
   "outputs": [
    {
     "data": {
      "text/html": [
       "<div>\n",
       "<style scoped>\n",
       "    .dataframe tbody tr th:only-of-type {\n",
       "        vertical-align: middle;\n",
       "    }\n",
       "\n",
       "    .dataframe tbody tr th {\n",
       "        vertical-align: top;\n",
       "    }\n",
       "\n",
       "    .dataframe thead th {\n",
       "        text-align: right;\n",
       "    }\n",
       "</style>\n",
       "<table border=\"1\" class=\"dataframe\">\n",
       "  <thead>\n",
       "    <tr style=\"text-align: right;\">\n",
       "      <th></th>\n",
       "      <th>loan_amnt</th>\n",
       "      <th>term</th>\n",
       "      <th>int_rate</th>\n",
       "      <th>installment</th>\n",
       "      <th>grade</th>\n",
       "      <th>sub_grade</th>\n",
       "      <th>emp_title</th>\n",
       "      <th>emp_length</th>\n",
       "      <th>home_ownership</th>\n",
       "      <th>annual_inc</th>\n",
       "      <th>...</th>\n",
       "      <th>total_acc</th>\n",
       "      <th>initial_list_status</th>\n",
       "      <th>collections_12_mths_ex_med</th>\n",
       "      <th>policy_code</th>\n",
       "      <th>application_type</th>\n",
       "      <th>acc_now_delinq</th>\n",
       "      <th>tot_coll_amt</th>\n",
       "      <th>tot_cur_bal</th>\n",
       "      <th>total_rev_hi_lim</th>\n",
       "      <th>record_id</th>\n",
       "    </tr>\n",
       "  </thead>\n",
       "  <tbody>\n",
       "    <tr>\n",
       "      <th>0</th>\n",
       "      <td>15000.0</td>\n",
       "      <td>36 months</td>\n",
       "      <td>11.99</td>\n",
       "      <td>498.15</td>\n",
       "      <td>B</td>\n",
       "      <td>B3</td>\n",
       "      <td>Quality Assurance Specialist</td>\n",
       "      <td>4 years</td>\n",
       "      <td>MORTGAGE</td>\n",
       "      <td>70000.0</td>\n",
       "      <td>...</td>\n",
       "      <td>32.0</td>\n",
       "      <td>f</td>\n",
       "      <td>0.0</td>\n",
       "      <td>1.0</td>\n",
       "      <td>INDIVIDUAL</td>\n",
       "      <td>0.0</td>\n",
       "      <td>0.0</td>\n",
       "      <td>295215.0</td>\n",
       "      <td>20500.0</td>\n",
       "      <td>453246940</td>\n",
       "    </tr>\n",
       "    <tr>\n",
       "      <th>1</th>\n",
       "      <td>3725.0</td>\n",
       "      <td>36 months</td>\n",
       "      <td>6.03</td>\n",
       "      <td>113.38</td>\n",
       "      <td>A</td>\n",
       "      <td>A1</td>\n",
       "      <td>NaN</td>\n",
       "      <td>NaN</td>\n",
       "      <td>MORTGAGE</td>\n",
       "      <td>52260.0</td>\n",
       "      <td>...</td>\n",
       "      <td>9.0</td>\n",
       "      <td>f</td>\n",
       "      <td>0.0</td>\n",
       "      <td>1.0</td>\n",
       "      <td>INDIVIDUAL</td>\n",
       "      <td>0.0</td>\n",
       "      <td>0.0</td>\n",
       "      <td>25130.0</td>\n",
       "      <td>14200.0</td>\n",
       "      <td>453313687</td>\n",
       "    </tr>\n",
       "    <tr>\n",
       "      <th>2</th>\n",
       "      <td>16000.0</td>\n",
       "      <td>36 months</td>\n",
       "      <td>11.14</td>\n",
       "      <td>524.89</td>\n",
       "      <td>B</td>\n",
       "      <td>B2</td>\n",
       "      <td>KIPP NYC</td>\n",
       "      <td>3 years</td>\n",
       "      <td>RENT</td>\n",
       "      <td>67500.0</td>\n",
       "      <td>...</td>\n",
       "      <td>22.0</td>\n",
       "      <td>f</td>\n",
       "      <td>0.0</td>\n",
       "      <td>1.0</td>\n",
       "      <td>INDIVIDUAL</td>\n",
       "      <td>0.0</td>\n",
       "      <td>193.0</td>\n",
       "      <td>41737.0</td>\n",
       "      <td>19448.0</td>\n",
       "      <td>453283543</td>\n",
       "    </tr>\n",
       "    <tr>\n",
       "      <th>3</th>\n",
       "      <td>4200.0</td>\n",
       "      <td>36 months</td>\n",
       "      <td>13.33</td>\n",
       "      <td>142.19</td>\n",
       "      <td>C</td>\n",
       "      <td>C3</td>\n",
       "      <td>Receptionist</td>\n",
       "      <td>&lt; 1 year</td>\n",
       "      <td>MORTGAGE</td>\n",
       "      <td>21600.0</td>\n",
       "      <td>...</td>\n",
       "      <td>19.0</td>\n",
       "      <td>w</td>\n",
       "      <td>0.0</td>\n",
       "      <td>1.0</td>\n",
       "      <td>INDIVIDUAL</td>\n",
       "      <td>0.0</td>\n",
       "      <td>165.0</td>\n",
       "      <td>28187.0</td>\n",
       "      <td>14500.0</td>\n",
       "      <td>453447199</td>\n",
       "    </tr>\n",
       "    <tr>\n",
       "      <th>4</th>\n",
       "      <td>6500.0</td>\n",
       "      <td>36 months</td>\n",
       "      <td>12.69</td>\n",
       "      <td>218.05</td>\n",
       "      <td>B</td>\n",
       "      <td>B5</td>\n",
       "      <td>Medtox Laboratories</td>\n",
       "      <td>10+ years</td>\n",
       "      <td>RENT</td>\n",
       "      <td>41000.0</td>\n",
       "      <td>...</td>\n",
       "      <td>12.0</td>\n",
       "      <td>f</td>\n",
       "      <td>0.0</td>\n",
       "      <td>1.0</td>\n",
       "      <td>INDIVIDUAL</td>\n",
       "      <td>0.0</td>\n",
       "      <td>NaN</td>\n",
       "      <td>NaN</td>\n",
       "      <td>NaN</td>\n",
       "      <td>453350283</td>\n",
       "    </tr>\n",
       "  </tbody>\n",
       "</table>\n",
       "<p>5 rows × 36 columns</p>\n",
       "</div>"
      ],
      "text/plain": [
       "   loan_amnt        term  int_rate  installment grade sub_grade  \\\n",
       "0    15000.0   36 months     11.99       498.15     B        B3   \n",
       "1     3725.0   36 months      6.03       113.38     A        A1   \n",
       "2    16000.0   36 months     11.14       524.89     B        B2   \n",
       "3     4200.0   36 months     13.33       142.19     C        C3   \n",
       "4     6500.0   36 months     12.69       218.05     B        B5   \n",
       "\n",
       "                      emp_title emp_length home_ownership  annual_inc  ...  \\\n",
       "0  Quality Assurance Specialist    4 years       MORTGAGE     70000.0  ...   \n",
       "1                           NaN        NaN       MORTGAGE     52260.0  ...   \n",
       "2                     KIPP NYC     3 years           RENT     67500.0  ...   \n",
       "3                  Receptionist   < 1 year       MORTGAGE     21600.0  ...   \n",
       "4           Medtox Laboratories  10+ years           RENT     41000.0  ...   \n",
       "\n",
       "  total_acc initial_list_status  collections_12_mths_ex_med policy_code  \\\n",
       "0      32.0                   f                         0.0         1.0   \n",
       "1       9.0                   f                         0.0         1.0   \n",
       "2      22.0                   f                         0.0         1.0   \n",
       "3      19.0                   w                         0.0         1.0   \n",
       "4      12.0                   f                         0.0         1.0   \n",
       "\n",
       "  application_type acc_now_delinq tot_coll_amt  tot_cur_bal  total_rev_hi_lim  \\\n",
       "0       INDIVIDUAL            0.0          0.0     295215.0           20500.0   \n",
       "1       INDIVIDUAL            0.0          0.0      25130.0           14200.0   \n",
       "2       INDIVIDUAL            0.0        193.0      41737.0           19448.0   \n",
       "3       INDIVIDUAL            0.0        165.0      28187.0           14500.0   \n",
       "4       INDIVIDUAL            0.0          NaN          NaN               NaN   \n",
       "\n",
       "   record_id  \n",
       "0  453246940  \n",
       "1  453313687  \n",
       "2  453283543  \n",
       "3  453447199  \n",
       "4  453350283  \n",
       "\n",
       "[5 rows x 36 columns]"
      ]
     },
     "execution_count": 33,
     "metadata": {},
     "output_type": "execute_result"
    }
   ],
   "source": [
    "train = pd.read_csv('data/train.csv')\n",
    "train.head()"
   ]
  },
  {
   "cell_type": "code",
   "execution_count": 34,
   "metadata": {},
   "outputs": [
    {
     "name": "stdout",
     "output_type": "stream",
     "text": [
      "<class 'pandas.core.frame.DataFrame'>\n",
      "RangeIndex: 200189 entries, 0 to 200188\n",
      "Data columns (total 36 columns):\n",
      "loan_amnt                     200189 non-null float64\n",
      "term                          200189 non-null object\n",
      "int_rate                      200189 non-null float64\n",
      "installment                   200189 non-null float64\n",
      "grade                         200189 non-null object\n",
      "sub_grade                     200189 non-null object\n",
      "emp_title                     189062 non-null object\n",
      "emp_length                    192135 non-null object\n",
      "home_ownership                200189 non-null object\n",
      "annual_inc                    200189 non-null float64\n",
      "verification_status           200189 non-null object\n",
      "issue_d                       200189 non-null object\n",
      "loan_status                   200189 non-null int64\n",
      "pymnt_plan                    200189 non-null object\n",
      "purpose                       200189 non-null object\n",
      "zip_code                      200189 non-null object\n",
      "addr_state                    200189 non-null object\n",
      "dti                           200189 non-null float64\n",
      "delinq_2yrs                   200189 non-null float64\n",
      "earliest_cr_line              200189 non-null object\n",
      "inq_last_6mths                200189 non-null float64\n",
      "mths_since_last_delinq        89621 non-null float64\n",
      "open_acc                      200189 non-null float64\n",
      "pub_rec                       200189 non-null float64\n",
      "revol_bal                     200189 non-null float64\n",
      "revol_util                    200035 non-null float64\n",
      "total_acc                     200189 non-null float64\n",
      "initial_list_status           200189 non-null object\n",
      "collections_12_mths_ex_med    200145 non-null float64\n",
      "policy_code                   200189 non-null float64\n",
      "application_type              200189 non-null object\n",
      "acc_now_delinq                200189 non-null float64\n",
      "tot_coll_amt                  152232 non-null float64\n",
      "tot_cur_bal                   152232 non-null float64\n",
      "total_rev_hi_lim              152232 non-null float64\n",
      "record_id                     200189 non-null int64\n",
      "dtypes: float64(19), int64(2), object(15)\n",
      "memory usage: 55.0+ MB\n"
     ]
    }
   ],
   "source": [
    "train.info()"
   ]
  },
  {
   "cell_type": "markdown",
   "metadata": {},
   "source": [
    "* int_rate - Interest Rate on the loan\n",
    "* annual_inc - Theannual income provided by the borrower during registration\n",
    "* inq_last_6mths -The number of inquiries in past 6 months (excluding auto and mortgage inquiries)\n",
    "* mths_since_last_delinq  - Months since most recent personal finance delinquency.\n",
    "* pub_rec  - Number of derogatory public records\n",
    "* revolBal - Total credit revolving balance\n",
    "* revolUtil - Revolving line utilization rate, or the amount of credit the borrower is using relative to all available revolving credit.\n",
    "* loan_amnt  - The listed amount of the loan applied for by the borrower. If at some point in time, the credit department reduces the loan amount, then it will be reflected in this value.\n",
    "* installment - The monthly payment owed by the borrower if the loan originates.\n",
    "* home_ownership    \n",
    "* emp_title                   \n",
    "* annual_inc                  \n",
    "* verification_status  - Indicates if the co-borrowers' joint income was verified by LC, not verified, or if the income source was verified\n",
    "* purpose                 \n",
    "* dti -  A ratio calculated using the borrower’s total monthly debt payments on the total debt obligations, excluding mortgage and the requested LC loan, divided by the borrower’s self-reported monthly income.\n",
    "* open_acc                  \n",
    "* total_acc                    \n",
    "* initial_list_status - The initial listing status of the loan. Possible values are – W, F           \n",
    "* collections_12_mths_ex_med - Number of collections in 12 months excluding medical collections\n",
    "* application_type - Indicates whether the loan is an individual application or a joint application with two co-borrowers\n",
    "* acc_now_delinq - The number of accounts on which the borrower is now delinquent.\n"
   ]
  },
  {
   "cell_type": "markdown",
   "metadata": {},
   "source": [
    "## Анализ и визуализация данных"
   ]
  },
  {
   "cell_type": "code",
   "execution_count": 35,
   "metadata": {},
   "outputs": [],
   "source": [
    "aim = train['loan_status'] # целевой признак\n",
    "others = train.loc[:,['annual_inc','verification_status','int_rate','initial_list_status','term',\n",
    "                 'installment','open_acc','total_acc','dti','purpose','tot_cur_bal',\n",
    "                 'sub_grade','home_ownership','inq_last_6mths','total_rev_hi_lim',\n",
    "                 'revol_bal','revol_util',\n",
    "                 'tot_coll_amt','loan_amnt'] ]# параметры"
   ]
  },
  {
   "cell_type": "code",
   "execution_count": 36,
   "metadata": {},
   "outputs": [
    {
     "name": "stdout",
     "output_type": "stream",
     "text": [
      "<class 'pandas.core.frame.DataFrame'>\n",
      "RangeIndex: 200189 entries, 0 to 200188\n",
      "Data columns (total 19 columns):\n",
      "annual_inc             200189 non-null float64\n",
      "verification_status    200189 non-null object\n",
      "int_rate               200189 non-null float64\n",
      "initial_list_status    200189 non-null object\n",
      "term                   200189 non-null object\n",
      "installment            200189 non-null float64\n",
      "open_acc               200189 non-null float64\n",
      "total_acc              200189 non-null float64\n",
      "dti                    200189 non-null float64\n",
      "purpose                200189 non-null object\n",
      "tot_cur_bal            152232 non-null float64\n",
      "sub_grade              200189 non-null object\n",
      "home_ownership         200189 non-null object\n",
      "inq_last_6mths         200189 non-null float64\n",
      "total_rev_hi_lim       152232 non-null float64\n",
      "revol_bal              200189 non-null float64\n",
      "revol_util             200035 non-null float64\n",
      "tot_coll_amt           152232 non-null float64\n",
      "loan_amnt              200189 non-null float64\n",
      "dtypes: float64(13), object(6)\n",
      "memory usage: 29.0+ MB\n"
     ]
    }
   ],
   "source": [
    "others.info()"
   ]
  },
  {
   "cell_type": "code",
   "execution_count": 37,
   "metadata": {},
   "outputs": [],
   "source": [
    "Nan_killer(others, num = 0)"
   ]
  },
  {
   "cell_type": "code",
   "execution_count": 38,
   "metadata": {},
   "outputs": [
    {
     "name": "stdout",
     "output_type": "stream",
     "text": [
      "<class 'pandas.core.frame.DataFrame'>\n",
      "RangeIndex: 200189 entries, 0 to 200188\n",
      "Data columns (total 19 columns):\n",
      "annual_inc             200189 non-null float64\n",
      "verification_status    200189 non-null object\n",
      "int_rate               200189 non-null float64\n",
      "initial_list_status    200189 non-null object\n",
      "term                   200189 non-null object\n",
      "installment            200189 non-null float64\n",
      "open_acc               200189 non-null float64\n",
      "total_acc              200189 non-null float64\n",
      "dti                    200189 non-null float64\n",
      "purpose                200189 non-null object\n",
      "tot_cur_bal            200189 non-null float64\n",
      "sub_grade              200189 non-null object\n",
      "home_ownership         200189 non-null object\n",
      "inq_last_6mths         200189 non-null float64\n",
      "total_rev_hi_lim       200189 non-null float64\n",
      "revol_bal              200189 non-null float64\n",
      "revol_util             200189 non-null float64\n",
      "tot_coll_amt           152232 non-null float64\n",
      "loan_amnt              200189 non-null float64\n",
      "dtypes: float64(13), object(6)\n",
      "memory usage: 29.0+ MB\n"
     ]
    }
   ],
   "source": [
    "others.info(0)"
   ]
  },
  {
   "cell_type": "code",
   "execution_count": 39,
   "metadata": {},
   "outputs": [
    {
     "data": {
      "image/png": "[encoded data removed]",
      "text/plain": [
       "<Figure size 720x720 with 20 Axes>"
      ]
     },
     "metadata": {
      "needs_background": "light"
     },
     "output_type": "display_data"
    }
   ],
   "source": [
    "cols = ['loan_amnt',  'open_acc', 'total_acc', 'dti']\n",
    "sns_plot = sns.pairplot(others[cols])"
   ]
  },
  {
   "cell_type": "code",
   "execution_count": 40,
   "metadata": {},
   "outputs": [],
   "source": [
    "corr_matrix = others.drop(list(others.columns[others.dtypes == 'object']), axis=1).corr()"
   ]
  },
  {
   "cell_type": "code",
   "execution_count": 41,
   "metadata": {},
   "outputs": [
    {
     "data": {
      "text/html": [
       "<div>\n",
       "<style scoped>\n",
       "    .dataframe tbody tr th:only-of-type {\n",
       "        vertical-align: middle;\n",
       "    }\n",
       "\n",
       "    .dataframe tbody tr th {\n",
       "        vertical-align: top;\n",
       "    }\n",
       "\n",
       "    .dataframe thead th {\n",
       "        text-align: right;\n",
       "    }\n",
       "</style>\n",
       "<table border=\"1\" class=\"dataframe\">\n",
       "  <thead>\n",
       "    <tr style=\"text-align: right;\">\n",
       "      <th></th>\n",
       "      <th>annual_inc</th>\n",
       "      <th>int_rate</th>\n",
       "      <th>installment</th>\n",
       "      <th>open_acc</th>\n",
       "      <th>total_acc</th>\n",
       "      <th>dti</th>\n",
       "      <th>tot_cur_bal</th>\n",
       "      <th>inq_last_6mths</th>\n",
       "      <th>total_rev_hi_lim</th>\n",
       "      <th>revol_bal</th>\n",
       "      <th>revol_util</th>\n",
       "      <th>tot_coll_amt</th>\n",
       "      <th>loan_amnt</th>\n",
       "    </tr>\n",
       "  </thead>\n",
       "  <tbody>\n",
       "    <tr>\n",
       "      <th>annual_inc</th>\n",
       "      <td>1.000000</td>\n",
       "      <td>-0.027436</td>\n",
       "      <td>0.339094</td>\n",
       "      <td>0.143083</td>\n",
       "      <td>0.209921</td>\n",
       "      <td>-0.175599</td>\n",
       "      <td>0.377980</td>\n",
       "      <td>0.057436</td>\n",
       "      <td>0.268325</td>\n",
       "      <td>0.320178</td>\n",
       "      <td>0.023723</td>\n",
       "      <td>0.005441</td>\n",
       "      <td>0.344462</td>\n",
       "    </tr>\n",
       "    <tr>\n",
       "      <th>int_rate</th>\n",
       "      <td>-0.027436</td>\n",
       "      <td>1.000000</td>\n",
       "      <td>0.206644</td>\n",
       "      <td>0.041238</td>\n",
       "      <td>-0.011502</td>\n",
       "      <td>0.178122</td>\n",
       "      <td>-0.001475</td>\n",
       "      <td>0.212601</td>\n",
       "      <td>-0.047586</td>\n",
       "      <td>0.020464</td>\n",
       "      <td>0.331721</td>\n",
       "      <td>0.005966</td>\n",
       "      <td>0.216472</td>\n",
       "    </tr>\n",
       "    <tr>\n",
       "      <th>installment</th>\n",
       "      <td>0.339094</td>\n",
       "      <td>0.206644</td>\n",
       "      <td>1.000000</td>\n",
       "      <td>0.199681</td>\n",
       "      <td>0.216059</td>\n",
       "      <td>0.053766</td>\n",
       "      <td>0.292476</td>\n",
       "      <td>0.025670</td>\n",
       "      <td>0.323554</td>\n",
       "      <td>0.332390</td>\n",
       "      <td>0.129979</td>\n",
       "      <td>-0.015226</td>\n",
       "      <td>0.954744</td>\n",
       "    </tr>\n",
       "    <tr>\n",
       "      <th>open_acc</th>\n",
       "      <td>0.143083</td>\n",
       "      <td>0.041238</td>\n",
       "      <td>0.199681</td>\n",
       "      <td>1.000000</td>\n",
       "      <td>0.671889</td>\n",
       "      <td>0.306524</td>\n",
       "      <td>0.249709</td>\n",
       "      <td>0.115899</td>\n",
       "      <td>0.351871</td>\n",
       "      <td>0.234050</td>\n",
       "      <td>-0.108343</td>\n",
       "      <td>0.007064</td>\n",
       "      <td>0.204473</td>\n",
       "    </tr>\n",
       "    <tr>\n",
       "      <th>total_acc</th>\n",
       "      <td>0.209921</td>\n",
       "      <td>-0.011502</td>\n",
       "      <td>0.216059</td>\n",
       "      <td>0.671889</td>\n",
       "      <td>1.000000</td>\n",
       "      <td>0.229072</td>\n",
       "      <td>0.297077</td>\n",
       "      <td>0.140343</td>\n",
       "      <td>0.282630</td>\n",
       "      <td>0.210240</td>\n",
       "      <td>-0.088651</td>\n",
       "      <td>0.030096</td>\n",
       "      <td>0.234472</td>\n",
       "    </tr>\n",
       "    <tr>\n",
       "      <th>dti</th>\n",
       "      <td>-0.175599</td>\n",
       "      <td>0.178122</td>\n",
       "      <td>0.053766</td>\n",
       "      <td>0.306524</td>\n",
       "      <td>0.229072</td>\n",
       "      <td>1.000000</td>\n",
       "      <td>0.054610</td>\n",
       "      <td>-0.000846</td>\n",
       "      <td>0.125916</td>\n",
       "      <td>0.156204</td>\n",
       "      <td>0.219544</td>\n",
       "      <td>-0.020154</td>\n",
       "      <td>0.054016</td>\n",
       "    </tr>\n",
       "    <tr>\n",
       "      <th>tot_cur_bal</th>\n",
       "      <td>0.377980</td>\n",
       "      <td>-0.001475</td>\n",
       "      <td>0.292476</td>\n",
       "      <td>0.249709</td>\n",
       "      <td>0.297077</td>\n",
       "      <td>0.054610</td>\n",
       "      <td>1.000000</td>\n",
       "      <td>0.046861</td>\n",
       "      <td>0.507130</td>\n",
       "      <td>0.373497</td>\n",
       "      <td>0.074267</td>\n",
       "      <td>0.001149</td>\n",
       "      <td>0.312455</td>\n",
       "    </tr>\n",
       "    <tr>\n",
       "      <th>inq_last_6mths</th>\n",
       "      <td>0.057436</td>\n",
       "      <td>0.212601</td>\n",
       "      <td>0.025670</td>\n",
       "      <td>0.115899</td>\n",
       "      <td>0.140343</td>\n",
       "      <td>-0.000846</td>\n",
       "      <td>0.046861</td>\n",
       "      <td>1.000000</td>\n",
       "      <td>0.018674</td>\n",
       "      <td>-0.013295</td>\n",
       "      <td>-0.091625</td>\n",
       "      <td>0.012351</td>\n",
       "      <td>0.008532</td>\n",
       "    </tr>\n",
       "    <tr>\n",
       "      <th>total_rev_hi_lim</th>\n",
       "      <td>0.268325</td>\n",
       "      <td>-0.047586</td>\n",
       "      <td>0.323554</td>\n",
       "      <td>0.351871</td>\n",
       "      <td>0.282630</td>\n",
       "      <td>0.125916</td>\n",
       "      <td>0.507130</td>\n",
       "      <td>0.018674</td>\n",
       "      <td>1.000000</td>\n",
       "      <td>0.691546</td>\n",
       "      <td>-0.089591</td>\n",
       "      <td>-0.024860</td>\n",
       "      <td>0.339488</td>\n",
       "    </tr>\n",
       "    <tr>\n",
       "      <th>revol_bal</th>\n",
       "      <td>0.320178</td>\n",
       "      <td>0.020464</td>\n",
       "      <td>0.332390</td>\n",
       "      <td>0.234050</td>\n",
       "      <td>0.210240</td>\n",
       "      <td>0.156204</td>\n",
       "      <td>0.373497</td>\n",
       "      <td>-0.013295</td>\n",
       "      <td>0.691546</td>\n",
       "      <td>1.000000</td>\n",
       "      <td>0.239434</td>\n",
       "      <td>-0.027422</td>\n",
       "      <td>0.341718</td>\n",
       "    </tr>\n",
       "    <tr>\n",
       "      <th>revol_util</th>\n",
       "      <td>0.023723</td>\n",
       "      <td>0.331721</td>\n",
       "      <td>0.129979</td>\n",
       "      <td>-0.108343</td>\n",
       "      <td>-0.088651</td>\n",
       "      <td>0.219544</td>\n",
       "      <td>0.074267</td>\n",
       "      <td>-0.091625</td>\n",
       "      <td>-0.089591</td>\n",
       "      <td>0.239434</td>\n",
       "      <td>1.000000</td>\n",
       "      <td>-0.039721</td>\n",
       "      <td>0.102005</td>\n",
       "    </tr>\n",
       "    <tr>\n",
       "      <th>tot_coll_amt</th>\n",
       "      <td>0.005441</td>\n",
       "      <td>0.005966</td>\n",
       "      <td>-0.015226</td>\n",
       "      <td>0.007064</td>\n",
       "      <td>0.030096</td>\n",
       "      <td>-0.020154</td>\n",
       "      <td>0.001149</td>\n",
       "      <td>0.012351</td>\n",
       "      <td>-0.024860</td>\n",
       "      <td>-0.027422</td>\n",
       "      <td>-0.039721</td>\n",
       "      <td>1.000000</td>\n",
       "      <td>-0.016191</td>\n",
       "    </tr>\n",
       "    <tr>\n",
       "      <th>loan_amnt</th>\n",
       "      <td>0.344462</td>\n",
       "      <td>0.216472</td>\n",
       "      <td>0.954744</td>\n",
       "      <td>0.204473</td>\n",
       "      <td>0.234472</td>\n",
       "      <td>0.054016</td>\n",
       "      <td>0.312455</td>\n",
       "      <td>0.008532</td>\n",
       "      <td>0.339488</td>\n",
       "      <td>0.341718</td>\n",
       "      <td>0.102005</td>\n",
       "      <td>-0.016191</td>\n",
       "      <td>1.000000</td>\n",
       "    </tr>\n",
       "  </tbody>\n",
       "</table>\n",
       "</div>"
      ],
      "text/plain": [
       "                  annual_inc  int_rate  installment  open_acc  total_acc  \\\n",
       "annual_inc          1.000000 -0.027436     0.339094  0.143083   0.209921   \n",
       "int_rate           -0.027436  1.000000     0.206644  0.041238  -0.011502   \n",
       "installment         0.339094  0.206644     1.000000  0.199681   0.216059   \n",
       "open_acc            0.143083  0.041238     0.199681  1.000000   0.671889   \n",
       "total_acc           0.209921 -0.011502     0.216059  0.671889   1.000000   \n",
       "dti                -0.175599  0.178122     0.053766  0.306524   0.229072   \n",
       "tot_cur_bal         0.377980 -0.001475     0.292476  0.249709   0.297077   \n",
       "inq_last_6mths      0.057436  0.212601     0.025670  0.115899   0.140343   \n",
       "total_rev_hi_lim    0.268325 -0.047586     0.323554  0.351871   0.282630   \n",
       "revol_bal           0.320178  0.020464     0.332390  0.234050   0.210240   \n",
       "revol_util          0.023723  0.331721     0.129979 -0.108343  -0.088651   \n",
       "tot_coll_amt        0.005441  0.005966    -0.015226  0.007064   0.030096   \n",
       "loan_amnt           0.344462  0.216472     0.954744  0.204473   0.234472   \n",
       "\n",
       "                       dti  tot_cur_bal  inq_last_6mths  total_rev_hi_lim  \\\n",
       "annual_inc       -0.175599     0.377980        0.057436          0.268325   \n",
       "int_rate          0.178122    -0.001475        0.212601         -0.047586   \n",
       "installment       0.053766     0.292476        0.025670          0.323554   \n",
       "open_acc          0.306524     0.249709        0.115899          0.351871   \n",
       "total_acc         0.229072     0.297077        0.140343          0.282630   \n",
       "dti               1.000000     0.054610       -0.000846          0.125916   \n",
       "tot_cur_bal       0.054610     1.000000        0.046861          0.507130   \n",
       "inq_last_6mths   -0.000846     0.046861        1.000000          0.018674   \n",
       "total_rev_hi_lim  0.125916     0.507130        0.018674          1.000000   \n",
       "revol_bal         0.156204     0.373497       -0.013295          0.691546   \n",
       "revol_util        0.219544     0.074267       -0.091625         -0.089591   \n",
       "tot_coll_amt     -0.020154     0.001149        0.012351         -0.024860   \n",
       "loan_amnt         0.054016     0.312455        0.008532          0.339488   \n",
       "\n",
       "                  revol_bal  revol_util  tot_coll_amt  loan_amnt  \n",
       "annual_inc         0.320178    0.023723      0.005441   0.344462  \n",
       "int_rate           0.020464    0.331721      0.005966   0.216472  \n",
       "installment        0.332390    0.129979     -0.015226   0.954744  \n",
       "open_acc           0.234050   -0.108343      0.007064   0.204473  \n",
       "total_acc          0.210240   -0.088651      0.030096   0.234472  \n",
       "dti                0.156204    0.219544     -0.020154   0.054016  \n",
       "tot_cur_bal        0.373497    0.074267      0.001149   0.312455  \n",
       "inq_last_6mths    -0.013295   -0.091625      0.012351   0.008532  \n",
       "total_rev_hi_lim   0.691546   -0.089591     -0.024860   0.339488  \n",
       "revol_bal          1.000000    0.239434     -0.027422   0.341718  \n",
       "revol_util         0.239434    1.000000     -0.039721   0.102005  \n",
       "tot_coll_amt      -0.027422   -0.039721      1.000000  -0.016191  \n",
       "loan_amnt          0.341718    0.102005     -0.016191   1.000000  "
      ]
     },
     "execution_count": 41,
     "metadata": {},
     "output_type": "execute_result"
    }
   ],
   "source": [
    "corr_matrix"
   ]
  },
  {
   "cell_type": "code",
   "execution_count": 42,
   "metadata": {},
   "outputs": [
    {
     "data": {
      "image/png": "[encoded data removed]",
      "text/plain": [
       "<Figure size 432x288 with 2 Axes>"
      ]
     },
     "metadata": {
      "needs_background": "light"
     },
     "output_type": "display_data"
    }
   ],
   "source": [
    "sns.heatmap(corr_matrix,cmap=\"YlGnBu\");"
   ]
  },
  {
   "cell_type": "code",
   "execution_count": 43,
   "metadata": {},
   "outputs": [
    {
     "data": {
      "image/png": "[encoded data removed]",
      "text/plain": [
       "<Figure size 1440x864 with 16 Axes>"
      ]
     },
     "metadata": {
      "needs_background": "light"
     },
     "output_type": "display_data"
    }
   ],
   "source": [
    "features = others.drop(list(others.columns[others.dtypes == 'object']), axis=1).corr()\n",
    "features.hist(figsize=(20,12));"
   ]
  },
  {
   "cell_type": "code",
   "execution_count": 44,
   "metadata": {},
   "outputs": [
    {
     "data": {
      "text/plain": [
       "<matplotlib.axes._subplots.AxesSubplot at 0x2392f738860>"
      ]
     },
     "execution_count": 44,
     "metadata": {},
     "output_type": "execute_result"
    },
    {
     "data": {
      "image/png": "[encoded data removed]",
      "text/plain": [
       "<Figure size 432x288 with 1 Axes>"
      ]
     },
     "metadata": {
      "needs_background": "light"
     },
     "output_type": "display_data"
    }
   ],
   "source": [
    "aim.value_counts().plot(kind='bar', label='loan_status')"
   ]
  },
  {
   "cell_type": "code",
   "execution_count": 49,
   "metadata": {},
   "outputs": [
    {
     "name": "stdout",
     "output_type": "stream",
     "text": [
      "<class 'pandas.core.frame.DataFrame'>\n",
      "RangeIndex: 200189 entries, 0 to 200188\n",
      "Data columns (total 19 columns):\n",
      "annual_inc             200189 non-null float64\n",
      "verification_status    200189 non-null object\n",
      "int_rate               200189 non-null float64\n",
      "initial_list_status    200189 non-null object\n",
      "term                   200189 non-null object\n",
      "installment            200189 non-null float64\n",
      "open_acc               200189 non-null float64\n",
      "total_acc              200189 non-null float64\n",
      "dti                    200189 non-null float64\n",
      "purpose                200189 non-null object\n",
      "tot_cur_bal            200189 non-null float64\n",
      "sub_grade              200189 non-null object\n",
      "home_ownership         200189 non-null object\n",
      "inq_last_6mths         200189 non-null float64\n",
      "total_rev_hi_lim       200189 non-null float64\n",
      "revol_bal              200189 non-null float64\n",
      "revol_util             200189 non-null float64\n",
      "tot_coll_amt           152232 non-null float64\n",
      "loan_amnt              200189 non-null float64\n",
      "dtypes: float64(13), object(6)\n",
      "memory usage: 29.0+ MB\n"
     ]
    }
   ],
   "source": [
    "others.info()"
   ]
  },
  {
   "cell_type": "code",
   "execution_count": 50,
   "metadata": {},
   "outputs": [
    {
     "data": {
      "text/plain": [
       "<matplotlib.axes._subplots.AxesSubplot at 0x23957e75550>"
      ]
     },
     "execution_count": 50,
     "metadata": {},
     "output_type": "execute_result"
    },
    {
     "data": {
      "image/png": "[encoded data removed]",
      "text/plain": [
       "<Figure size 432x288 with 1 Axes>"
      ]
     },
     "metadata": {
      "needs_background": "light"
     },
     "output_type": "display_data"
    }
   ],
   "source": [
    "others['verification_status'].value_counts().plot(kind='bar', label='verification_status ')"
   ]
  },
  {
   "cell_type": "code",
   "execution_count": 51,
   "metadata": {},
   "outputs": [
    {
     "data": {
      "text/plain": [
       "<matplotlib.axes._subplots.AxesSubplot at 0x23957e75f98>"
      ]
     },
     "execution_count": 51,
     "metadata": {},
     "output_type": "execute_result"
    },
    {
     "data": {
      "image/png": "[encoded data removed]",
      "text/plain": [
       "<Figure size 432x288 with 1 Axes>"
      ]
     },
     "metadata": {
      "needs_background": "light"
     },
     "output_type": "display_data"
    }
   ],
   "source": [
    "others['initial_list_status'].value_counts().plot(kind='bar', label='initial_list_status')"
   ]
  },
  {
   "cell_type": "code",
   "execution_count": 52,
   "metadata": {},
   "outputs": [
    {
     "data": {
      "text/plain": [
       "<matplotlib.axes._subplots.AxesSubplot at 0x23957ec7198>"
      ]
     },
     "execution_count": 52,
     "metadata": {},
     "output_type": "execute_result"
    },
    {
     "data": {
      "image/png": "[encoded data removed]",
      "text/plain": [
       "<Figure size 432x288 with 1 Axes>"
      ]
     },
     "metadata": {
      "needs_background": "light"
     },
     "output_type": "display_data"
    }
   ],
   "source": [
    "others['purpose'].value_counts().plot(kind='bar', label='purpose')"
   ]
  },
  {
   "cell_type": "markdown",
   "metadata": {},
   "source": [
    "## Начальная обработка данных:"
   ]
  },
  {
   "cell_type": "code",
   "execution_count": 146,
   "metadata": {},
   "outputs": [],
   "source": [
    "def Nan_killer(x, num = -999):\n",
    "    x['revol_util'] = x['revol_util'].fillna(num)\n",
    "  #  x['tot_coll_amt'] = x['tot_coll_amt'].fillna(num)\n",
    "    x['tot_cur_bal'] =  x['tot_cur_bal'].fillna(num)\n",
    "    x['total_rev_hi_lim'] =  x['total_rev_hi_lim'].fillna(num)\n",
    "    "
   ]
  },
  {
   "cell_type": "code",
   "execution_count": 145,
   "metadata": {},
   "outputs": [],
   "source": [
    "def proc(x,y):\n",
    "  #  x['home_ownership'] = x['home_ownership'].astype(str).map(lambda x: 'OTHER' if x in ['NONE', 'ANY'] else x)\n",
    "  #  x['purpose'] = x['purpose'].astype(str).map(lambda x: 'other' if x in ['educational', 'renewable_energy','vacation','house','wedding','moving','medical','car','small_business','major_purchase'] else x)\n",
    "    x_train, x_test, y_train, y_test = train_test_split(x, y, test_size=0.3, random_state = 42)\n",
    "    x_test['sub_grade'] = x_test['sub_grade'].astype('str').map(lambda x: ord(x[0])*10 + int(x[1]))\n",
    "    x_train['sub_grade'] = x_train['sub_grade'].astype('str').map(lambda x: ord(x[0])*10 + int(x[1]))\n",
    "    x_train = pd.get_dummies(x_train, columns = ['purpose','home_ownership','term','verification_status'])   # OHE (?????)\n",
    "    x_test = pd.get_dummies(x_test, columns = ['purpose','home_ownership','term','verification_status'])\n",
    "    for i in list(x_test): # удаление из тестовых данных столбцов, если их не было в тренировочных\n",
    "        if i not in list(x_train):\n",
    "            list(my_dataframe)\n",
    "            x_test.drop(i, axis=1, inplace=True)\n",
    "    for i in list(x_train): # добавление колонки с нулями, если такой нет в тестовой\n",
    "        if i not in list(x_test):\n",
    "            x_test[i] = 0\n",
    "    \n",
    "\n",
    "    x_test = x_test.reindex(sorted(x_test.columns), axis=1)\n",
    "    x_train = x_train.reindex(sorted(x_test.columns), axis=1)\n",
    "    return x_train, x_test, y_train, y_test"
   ]
  },
  {
   "cell_type": "markdown",
   "metadata": {},
   "source": [
    "## Функция для отображения метрик:\n",
    "* ROC-AUC\n",
    "* precision\n",
    "* recall\n",
    "* accuracy"
   ]
  },
  {
   "cell_type": "code",
   "execution_count": 120,
   "metadata": {},
   "outputs": [],
   "source": [
    "\n",
    "def show_scores(model, x_test, y_test):\n",
    "    pred =  model.predict(x_test)\n",
    "    print('Recall: %.2f' % recall_score(y_test,pred))\n",
    "    print('Precision score: %.2f' % precision_score(y_test,pred))\n",
    "    print('Accuracy score: %.2f' % accuracy_score(y_test, pred))\n",
    " "
   ]
  },
  {
   "cell_type": "code",
   "execution_count": 121,
   "metadata": {},
   "outputs": [],
   "source": [
    "def plot_roc(model, x_test, y_test):  \n",
    "    pred = model.predict_proba(x_test)\n",
    "    print(\"ROC-AUC score: \", roc_auc_score(y_test, pred[:, 1]))\n",
    "    fpr, tpr,_=roc_curve(y_test,pred[:, 1],drop_intermediate=True)\n",
    "    plt.figure()\n",
    "    plt.plot(fpr, tpr, color='red',\n",
    "            lw=2, label='ROC curve')\n",
    "    plt.plot([0, 1], [0, 1], color='blue', lw=2, linestyle='--')\n",
    "    plt.xlabel('FPR')\n",
    "    plt.ylabel('TPR')\n",
    "    plt.title('ROC curve')\n",
    "    plt.show()"
   ]
  },
  {
   "cell_type": "markdown",
   "metadata": {},
   "source": [
    "# Регрессия"
   ]
  },
  {
   "cell_type": "code",
   "execution_count": 38,
   "metadata": {},
   "outputs": [],
   "source": [
    "from sklearn import linear_model\n",
    "from sklearn.tree import DecisionTreeRegressor"
   ]
  },
  {
   "cell_type": "code",
   "execution_count": 191,
   "metadata": {},
   "outputs": [],
   "source": [
    "y = train[train['int_rate'] >= 0]['int_rate'] # целевой признак\n",
    "x = train.loc[:,['annual_inc','collections_12_mths_ex_med','initial_list_status',\n",
    "                 'installment','open_acc','total_acc','dti','purpose',\n",
    "                 'grade','home_ownership','inq_last_6mths','pub_rec','revol_bal','revol_util','loan_status',\n",
    "                 'tot_coll_amt','loan_amnt','application_type','acc_now_delinq' ] ] # параметры\n",
    "x.info()"
   ]
  },
  {
   "cell_type": "code",
   "execution_count": 195,
   "metadata": {},
   "outputs": [
    {
     "name": "stdout",
     "output_type": "stream",
     "text": [
      "<class 'pandas.core.frame.DataFrame'>\n",
      "RangeIndex: 200189 entries, 0 to 200188\n",
      "Data columns (total 15 columns):\n",
      "annual_inc             200189 non-null float64\n",
      "initial_list_status    200189 non-null object\n",
      "installment            200189 non-null float64\n",
      "open_acc               200189 non-null float64\n",
      "total_acc              200189 non-null float64\n",
      "dti                    200189 non-null float64\n",
      "purpose                200189 non-null object\n",
      "grade                  200189 non-null object\n",
      "home_ownership         200189 non-null object\n",
      "inq_last_6mths         200189 non-null float64\n",
      "revol_bal              200189 non-null float64\n",
      "revol_util             200189 non-null float64\n",
      "loan_status            200189 non-null int64\n",
      "tot_coll_amt           200189 non-null float64\n",
      "loan_amnt              200189 non-null float64\n",
      "dtypes: float64(10), int64(1), object(4)\n",
      "memory usage: 22.9+ MB\n"
     ]
    }
   ],
   "source": [
    "#NaN killer\n",
    "Nan_killer(x)\n",
    "x.info()"
   ]
  },
  {
   "cell_type": "code",
   "execution_count": 196,
   "metadata": {},
   "outputs": [
    {
     "data": {
      "text/plain": [
       "annual_inc             16284\n",
       "initial_list_status        2\n",
       "installment            41347\n",
       "open_acc                  58\n",
       "total_acc                105\n",
       "dti                     3975\n",
       "purpose                   14\n",
       "grade                      7\n",
       "home_ownership             6\n",
       "inq_last_6mths             9\n",
       "revol_bal              44045\n",
       "revol_util              1180\n",
       "loan_status                2\n",
       "tot_coll_amt            3646\n",
       "loan_amnt               1317\n",
       "dtype: int64"
      ]
     },
     "execution_count": 196,
     "metadata": {},
     "output_type": "execute_result"
    }
   ],
   "source": [
    "x.nunique()"
   ]
  },
  {
   "cell_type": "code",
   "execution_count": 42,
   "metadata": {},
   "outputs": [],
   "source": [
    "x_train, x_test, y_train, y_test = proc(x,y)"
   ]
  },
  {
   "cell_type": "code",
   "execution_count": 43,
   "metadata": {},
   "outputs": [
    {
     "name": "stdout",
     "output_type": "stream",
     "text": [
      "<class 'pandas.core.frame.DataFrame'>\n",
      "Int64Index: 140132 entries, 193136 to 121958\n",
      "Data columns (total 43 columns):\n",
      "acc_now_delinq                140132 non-null float64\n",
      "annual_inc                    140132 non-null float64\n",
      "application_type              140132 non-null int64\n",
      "collections_12_mths_ex_med    140132 non-null float64\n",
      "dti                           140132 non-null float64\n",
      "grade_A                       140132 non-null uint8\n",
      "grade_B                       140132 non-null uint8\n",
      "grade_C                       140132 non-null uint8\n",
      "grade_D                       140132 non-null uint8\n",
      "grade_E                       140132 non-null uint8\n",
      "grade_F                       140132 non-null uint8\n",
      "grade_G                       140132 non-null uint8\n",
      "home_ownership_ANY            140132 non-null uint8\n",
      "home_ownership_MORTGAGE       140132 non-null uint8\n",
      "home_ownership_NONE           140132 non-null uint8\n",
      "home_ownership_OTHER          140132 non-null uint8\n",
      "home_ownership_OWN            140132 non-null uint8\n",
      "home_ownership_RENT           140132 non-null uint8\n",
      "initial_list_status           140132 non-null int64\n",
      "inq_last_6mths                140132 non-null float64\n",
      "installment                   140132 non-null float64\n",
      "loan_amnt                     140132 non-null float64\n",
      "loan_status                   140132 non-null int64\n",
      "open_acc                      140132 non-null float64\n",
      "pub_rec                       140132 non-null float64\n",
      "purpose_car                   140132 non-null uint8\n",
      "purpose_credit_card           140132 non-null uint8\n",
      "purpose_debt_consolidation    140132 non-null uint8\n",
      "purpose_educational           140132 non-null uint8\n",
      "purpose_home_improvement      140132 non-null uint8\n",
      "purpose_house                 140132 non-null uint8\n",
      "purpose_major_purchase        140132 non-null uint8\n",
      "purpose_medical               140132 non-null uint8\n",
      "purpose_moving                140132 non-null uint8\n",
      "purpose_other                 140132 non-null uint8\n",
      "purpose_renewable_energy      140132 non-null uint8\n",
      "purpose_small_business        140132 non-null uint8\n",
      "purpose_vacation              140132 non-null uint8\n",
      "purpose_wedding               140132 non-null uint8\n",
      "revol_bal                     140132 non-null float64\n",
      "revol_util                    140132 non-null float64\n",
      "tot_coll_amt                  140132 non-null float64\n",
      "total_acc                     140132 non-null float64\n",
      "dtypes: float64(13), int64(3), uint8(27)\n",
      "memory usage: 21.8 MB\n"
     ]
    }
   ],
   "source": [
    "x_train.info()"
   ]
  },
  {
   "cell_type": "code",
   "execution_count": 44,
   "metadata": {},
   "outputs": [
    {
     "name": "stdout",
     "output_type": "stream",
     "text": [
      "<class 'pandas.core.frame.DataFrame'>\n",
      "Int64Index: 60057 entries, 8644 to 191094\n",
      "Data columns (total 43 columns):\n",
      "acc_now_delinq                60057 non-null float64\n",
      "annual_inc                    60057 non-null float64\n",
      "application_type              60057 non-null int64\n",
      "collections_12_mths_ex_med    60057 non-null float64\n",
      "dti                           60057 non-null float64\n",
      "grade_A                       60057 non-null uint8\n",
      "grade_B                       60057 non-null uint8\n",
      "grade_C                       60057 non-null uint8\n",
      "grade_D                       60057 non-null uint8\n",
      "grade_E                       60057 non-null uint8\n",
      "grade_F                       60057 non-null uint8\n",
      "grade_G                       60057 non-null uint8\n",
      "home_ownership_ANY            60057 non-null int64\n",
      "home_ownership_MORTGAGE       60057 non-null uint8\n",
      "home_ownership_NONE           60057 non-null uint8\n",
      "home_ownership_OTHER          60057 non-null uint8\n",
      "home_ownership_OWN            60057 non-null uint8\n",
      "home_ownership_RENT           60057 non-null uint8\n",
      "initial_list_status           60057 non-null int64\n",
      "inq_last_6mths                60057 non-null float64\n",
      "installment                   60057 non-null float64\n",
      "loan_amnt                     60057 non-null float64\n",
      "loan_status                   60057 non-null int64\n",
      "open_acc                      60057 non-null float64\n",
      "pub_rec                       60057 non-null float64\n",
      "purpose_car                   60057 non-null uint8\n",
      "purpose_credit_card           60057 non-null uint8\n",
      "purpose_debt_consolidation    60057 non-null uint8\n",
      "purpose_educational           60057 non-null uint8\n",
      "purpose_home_improvement      60057 non-null uint8\n",
      "purpose_house                 60057 non-null uint8\n",
      "purpose_major_purchase        60057 non-null uint8\n",
      "purpose_medical               60057 non-null uint8\n",
      "purpose_moving                60057 non-null uint8\n",
      "purpose_other                 60057 non-null uint8\n",
      "purpose_renewable_energy      60057 non-null uint8\n",
      "purpose_small_business        60057 non-null uint8\n",
      "purpose_vacation              60057 non-null uint8\n",
      "purpose_wedding               60057 non-null uint8\n",
      "revol_bal                     60057 non-null float64\n",
      "revol_util                    60057 non-null float64\n",
      "tot_coll_amt                  60057 non-null float64\n",
      "total_acc                     60057 non-null float64\n",
      "dtypes: float64(13), int64(4), uint8(26)\n",
      "memory usage: 9.7 MB\n"
     ]
    }
   ],
   "source": [
    "x_test.info()"
   ]
  },
  {
   "cell_type": "markdown",
   "metadata": {},
   "source": [
    "## Линейная регрессия  + Дерево решений (регрессия)"
   ]
  },
  {
   "cell_type": "code",
   "execution_count": 15,
   "metadata": {},
   "outputs": [],
   "source": [
    "lm = linear_model.Lasso(alpha=0.01,random_state = 42).fit(x_train,y_train)\n",
    "dec_reg = DecisionTreeRegressor(criterion='mse',max_depth=10, random_state=42, min_samples_leaf = 3).fit(x_train,y_train)"
   ]
  },
  {
   "cell_type": "code",
   "execution_count": 16,
   "metadata": {},
   "outputs": [],
   "source": [
    "from sklearn.metrics import r2_score"
   ]
  },
  {
   "cell_type": "code",
   "execution_count": 17,
   "metadata": {},
   "outputs": [
    {
     "data": {
      "text/plain": [
       "0.9146765103292894"
      ]
     },
     "execution_count": 17,
     "metadata": {},
     "output_type": "execute_result"
    }
   ],
   "source": [
    "r2_score(y_test, lm.predict(x_test))"
   ]
  },
  {
   "cell_type": "code",
   "execution_count": 18,
   "metadata": {},
   "outputs": [
    {
     "data": {
      "text/plain": [
       "0.9280174951473175"
      ]
     },
     "execution_count": 18,
     "metadata": {},
     "output_type": "execute_result"
    }
   ],
   "source": [
    "r2_score(y_test, dec_reg.predict(x_test))"
   ]
  },
  {
   "cell_type": "markdown",
   "metadata": {},
   "source": [
    "# Бинарная классификация"
   ]
  },
  {
   "cell_type": "code",
   "execution_count": 147,
   "metadata": {},
   "outputs": [],
   "source": [
    "y = train['loan_status'] # целевой признак\n",
    "x = train.loc[:,['annual_inc','verification_status','int_rate','term',\n",
    "                 'open_acc','total_acc','dti','purpose','tot_cur_bal',\n",
    "                 'sub_grade','home_ownership','inq_last_6mths','total_rev_hi_lim',\n",
    "                 'revol_bal','revol_util','loan_amnt']] # параметры"
   ]
  },
  {
   "cell_type": "code",
   "execution_count": 148,
   "metadata": {},
   "outputs": [
    {
     "name": "stdout",
     "output_type": "stream",
     "text": [
      "<class 'pandas.core.frame.DataFrame'>\n",
      "RangeIndex: 200189 entries, 0 to 200188\n",
      "Data columns (total 16 columns):\n",
      "annual_inc             200189 non-null float64\n",
      "verification_status    200189 non-null object\n",
      "int_rate               200189 non-null float64\n",
      "term                   200189 non-null object\n",
      "open_acc               200189 non-null float64\n",
      "total_acc              200189 non-null float64\n",
      "dti                    200189 non-null float64\n",
      "purpose                200189 non-null object\n",
      "tot_cur_bal            200189 non-null float64\n",
      "sub_grade              200189 non-null object\n",
      "home_ownership         200189 non-null object\n",
      "inq_last_6mths         200189 non-null float64\n",
      "total_rev_hi_lim       200189 non-null float64\n",
      "revol_bal              200189 non-null float64\n",
      "revol_util             200189 non-null float64\n",
      "loan_amnt              200189 non-null float64\n",
      "dtypes: float64(11), object(5)\n",
      "memory usage: 24.4+ MB\n"
     ]
    }
   ],
   "source": [
    "#NaN killer\n",
    "Nan_killer(x)\n",
    "x.info()"
   ]
  },
  {
   "cell_type": "code",
   "execution_count": 149,
   "metadata": {},
   "outputs": [],
   "source": [
    "x_train, x_test, y_train, y_test = proc(x,y)"
   ]
  },
  {
   "cell_type": "code",
   "execution_count": 150,
   "metadata": {},
   "outputs": [
    {
     "name": "stdout",
     "output_type": "stream",
     "text": [
      "<class 'pandas.core.frame.DataFrame'>\n",
      "Int64Index: 140132 entries, 193136 to 121958\n",
      "Data columns (total 37 columns):\n",
      "annual_inc                             140132 non-null float64\n",
      "dti                                    140132 non-null float64\n",
      "home_ownership_ANY                     140132 non-null uint8\n",
      "home_ownership_MORTGAGE                140132 non-null uint8\n",
      "home_ownership_NONE                    140132 non-null uint8\n",
      "home_ownership_OTHER                   140132 non-null uint8\n",
      "home_ownership_OWN                     140132 non-null uint8\n",
      "home_ownership_RENT                    140132 non-null uint8\n",
      "inq_last_6mths                         140132 non-null float64\n",
      "int_rate                               140132 non-null float64\n",
      "loan_amnt                              140132 non-null float64\n",
      "open_acc                               140132 non-null float64\n",
      "purpose_car                            140132 non-null uint8\n",
      "purpose_credit_card                    140132 non-null uint8\n",
      "purpose_debt_consolidation             140132 non-null uint8\n",
      "purpose_educational                    140132 non-null uint8\n",
      "purpose_home_improvement               140132 non-null uint8\n",
      "purpose_house                          140132 non-null uint8\n",
      "purpose_major_purchase                 140132 non-null uint8\n",
      "purpose_medical                        140132 non-null uint8\n",
      "purpose_moving                         140132 non-null uint8\n",
      "purpose_other                          140132 non-null uint8\n",
      "purpose_renewable_energy               140132 non-null uint8\n",
      "purpose_small_business                 140132 non-null uint8\n",
      "purpose_vacation                       140132 non-null uint8\n",
      "purpose_wedding                        140132 non-null uint8\n",
      "revol_bal                              140132 non-null float64\n",
      "revol_util                             140132 non-null float64\n",
      "sub_grade                              140132 non-null int64\n",
      "term_ 36 months                        140132 non-null uint8\n",
      "term_ 60 months                        140132 non-null uint8\n",
      "tot_cur_bal                            140132 non-null float64\n",
      "total_acc                              140132 non-null float64\n",
      "total_rev_hi_lim                       140132 non-null float64\n",
      "verification_status_Not Verified       140132 non-null uint8\n",
      "verification_status_Source Verified    140132 non-null uint8\n",
      "verification_status_Verified           140132 non-null uint8\n",
      "dtypes: float64(11), int64(1), uint8(25)\n",
      "memory usage: 17.2 MB\n"
     ]
    }
   ],
   "source": [
    "x_train.info()"
   ]
  },
  {
   "cell_type": "code",
   "execution_count": 151,
   "metadata": {},
   "outputs": [
    {
     "name": "stdout",
     "output_type": "stream",
     "text": [
      "<class 'pandas.core.frame.DataFrame'>\n",
      "Int64Index: 140132 entries, 193136 to 121958\n",
      "Data columns (total 37 columns):\n",
      "annual_inc                             140132 non-null float64\n",
      "dti                                    140132 non-null float64\n",
      "home_ownership_ANY                     140132 non-null uint8\n",
      "home_ownership_MORTGAGE                140132 non-null uint8\n",
      "home_ownership_NONE                    140132 non-null uint8\n",
      "home_ownership_OTHER                   140132 non-null uint8\n",
      "home_ownership_OWN                     140132 non-null uint8\n",
      "home_ownership_RENT                    140132 non-null uint8\n",
      "inq_last_6mths                         140132 non-null float64\n",
      "int_rate                               140132 non-null float64\n",
      "loan_amnt                              140132 non-null float64\n",
      "open_acc                               140132 non-null float64\n",
      "purpose_car                            140132 non-null uint8\n",
      "purpose_credit_card                    140132 non-null uint8\n",
      "purpose_debt_consolidation             140132 non-null uint8\n",
      "purpose_educational                    140132 non-null uint8\n",
      "purpose_home_improvement               140132 non-null uint8\n",
      "purpose_house                          140132 non-null uint8\n",
      "purpose_major_purchase                 140132 non-null uint8\n",
      "purpose_medical                        140132 non-null uint8\n",
      "purpose_moving                         140132 non-null uint8\n",
      "purpose_other                          140132 non-null uint8\n",
      "purpose_renewable_energy               140132 non-null uint8\n",
      "purpose_small_business                 140132 non-null uint8\n",
      "purpose_vacation                       140132 non-null uint8\n",
      "purpose_wedding                        140132 non-null uint8\n",
      "revol_bal                              140132 non-null float64\n",
      "revol_util                             140132 non-null float64\n",
      "sub_grade                              140132 non-null int64\n",
      "term_ 36 months                        140132 non-null uint8\n",
      "term_ 60 months                        140132 non-null uint8\n",
      "tot_cur_bal                            140132 non-null float64\n",
      "total_acc                              140132 non-null float64\n",
      "total_rev_hi_lim                       140132 non-null float64\n",
      "verification_status_Not Verified       140132 non-null uint8\n",
      "verification_status_Source Verified    140132 non-null uint8\n",
      "verification_status_Verified           140132 non-null uint8\n",
      "dtypes: float64(11), int64(1), uint8(25)\n",
      "memory usage: 17.2 MB\n"
     ]
    }
   ],
   "source": [
    "x_train.info()"
   ]
  },
  {
   "cell_type": "markdown",
   "metadata": {},
   "source": [
    "## Логистическая регрессия"
   ]
  },
  {
   "cell_type": "code",
   "execution_count": 270,
   "metadata": {},
   "outputs": [],
   "source": [
    "from sklearn import linear_model"
   ]
  },
  {
   "cell_type": "code",
   "execution_count": 271,
   "metadata": {},
   "outputs": [
    {
     "name": "stdout",
     "output_type": "stream",
     "text": [
      "Recall: 0.99\n",
      "Precision score: 0.79\n",
      "Accuracy score: 0.78\n"
     ]
    }
   ],
   "source": [
    "lr = linear_model.LogisticRegression(solver='liblinear',random_state=42).fit(x_train, y_train)\n",
    "lr.predict(x_test)\n",
    "show_scores(lr, x_test, y_test)"
   ]
  },
  {
   "cell_type": "code",
   "execution_count": 272,
   "metadata": {},
   "outputs": [
    {
     "name": "stdout",
     "output_type": "stream",
     "text": [
      "ROC-AUC score:  0.6926848879023262\n"
     ]
    },
    {
     "data": {
      "image/png": "[encoded data removed]",
      "text/plain": [
       "<Figure size 432x288 with 1 Axes>"
      ]
     },
     "metadata": {
      "needs_background": "light"
     },
     "output_type": "display_data"
    }
   ],
   "source": [
    "plot_roc(lr, x_test, y_test)"
   ]
  },
  {
   "cell_type": "markdown",
   "metadata": {},
   "source": [
    "## Дерево решений (классификация)"
   ]
  },
  {
   "cell_type": "code",
   "execution_count": 273,
   "metadata": {},
   "outputs": [],
   "source": [
    "from sklearn.tree import DecisionTreeClassifier"
   ]
  },
  {
   "cell_type": "code",
   "execution_count": 274,
   "metadata": {},
   "outputs": [
    {
     "data": {
      "text/plain": [
       "DecisionTreeClassifier(class_weight=None, criterion='entropy', max_depth=12,\n",
       "            max_features=None, max_leaf_nodes=None,\n",
       "            min_impurity_decrease=0.0, min_impurity_split=None,\n",
       "            min_samples_leaf=3, min_samples_split=2,\n",
       "            min_weight_fraction_leaf=0.0, presort=False, random_state=42,\n",
       "            splitter='random')"
      ]
     },
     "execution_count": 274,
     "metadata": {},
     "output_type": "execute_result"
    }
   ],
   "source": [
    "clf_tree = DecisionTreeClassifier(criterion='entropy',splitter = 'random', max_depth=12, random_state=42, min_samples_leaf = 3)\n",
    "clf_tree.fit(x_train, y_train)"
   ]
  },
  {
   "cell_type": "code",
   "execution_count": 275,
   "metadata": {},
   "outputs": [
    {
     "name": "stdout",
     "output_type": "stream",
     "text": [
      "Recall: 0.96\n",
      "Precision score: 0.79\n",
      "Accuracy score: 0.77\n"
     ]
    }
   ],
   "source": [
    "show_scores(clf_tree, x_test, y_test)"
   ]
  },
  {
   "cell_type": "code",
   "execution_count": 276,
   "metadata": {
    "scrolled": true
   },
   "outputs": [
    {
     "name": "stdout",
     "output_type": "stream",
     "text": [
      "ROC-AUC score:  0.6754340131251977\n"
     ]
    },
    {
     "data": {
      "image/png": "[encoded data removed]",
      "text/plain": [
       "<Figure size 432x288 with 1 Axes>"
      ]
     },
     "metadata": {
      "needs_background": "light"
     },
     "output_type": "display_data"
    }
   ],
   "source": [
    "plot_roc(clf_tree, x_test, y_test)"
   ]
  },
  {
   "cell_type": "markdown",
   "metadata": {},
   "source": [
    "## Случайный лес"
   ]
  },
  {
   "cell_type": "code",
   "execution_count": 277,
   "metadata": {},
   "outputs": [],
   "source": [
    "from sklearn.ensemble import RandomForestClassifier\n",
    "from sklearn.model_selection import GridSearchCV\n",
    "from sklearn.preprocessing import LabelEncoder"
   ]
  },
  {
   "cell_type": "code",
   "execution_count": 278,
   "metadata": {},
   "outputs": [],
   "source": [
    "#param_grid = {\n",
    "#    'bootstrap': [True],\n",
    "#    'max_depth': [12,10,8],\n",
    "#    'min_samples_leaf': [1,3,5,7],\n",
    "#    'n_estimators': [80,100,200,500],\n",
    "#    'criterion' : ['entropy','gini'],\n",
    "#}\n",
    "#score = make_scorer(roc_auc_score)\n",
    "#rf =  RandomForestClassifier(random_state = 42)\n",
    "#grid_search = GridSearchCV(estimator = rf, param_grid = param_grid, \n",
    "#                          cv = 5, n_jobs = -1, verbose = 2, scoring=score)\n",
    "#grid_search.fit(x_train,  y_train)\n",
    "#grid_search.best_params_\n",
    "# best_grid = grid_search.best_estimator_"
   ]
  },
  {
   "cell_type": "code",
   "execution_count": 279,
   "metadata": {},
   "outputs": [
    {
     "data": {
      "text/plain": [
       "RandomForestClassifier(bootstrap=True, class_weight=None, criterion='entropy',\n",
       "            max_depth=12, max_features='auto', max_leaf_nodes=None,\n",
       "            min_impurity_decrease=0.0, min_impurity_split=None,\n",
       "            min_samples_leaf=1, min_samples_split=2,\n",
       "            min_weight_fraction_leaf=0.0, n_estimators=80, n_jobs=None,\n",
       "            oob_score=False, random_state=42, verbose=0, warm_start=False)"
      ]
     },
     "execution_count": 279,
     "metadata": {},
     "output_type": "execute_result"
    }
   ],
   "source": [
    "best_grid = RandomForestClassifier(random_state = 42, bootstrap = True, \n",
    "                                   max_depth = 12, min_samples_leaf = 1,\n",
    "                                   n_estimators = 80, criterion = 'entropy')\n",
    "best_grid.fit(x_train,  y_train)"
   ]
  },
  {
   "cell_type": "code",
   "execution_count": 280,
   "metadata": {},
   "outputs": [
    {
     "name": "stdout",
     "output_type": "stream",
     "text": [
      "Recall: 0.99\n",
      "Precision score: 0.79\n",
      "Accuracy score: 0.78\n"
     ]
    }
   ],
   "source": [
    "best_grid.predict(x_test)\n",
    "show_scores(best_grid, x_test, y_test)"
   ]
  },
  {
   "cell_type": "code",
   "execution_count": 281,
   "metadata": {},
   "outputs": [
    {
     "name": "stdout",
     "output_type": "stream",
     "text": [
      "ROC-AUC score:  0.7088091643978713\n"
     ]
    },
    {
     "data": {
      "image/png": "[encoded data removed]",
      "text/plain": [
       "<Figure size 432x288 with 1 Axes>"
      ]
     },
     "metadata": {
      "needs_background": "light"
     },
     "output_type": "display_data"
    }
   ],
   "source": [
    "plot_roc(best_grid, x_test, y_test)"
   ]
  },
  {
   "cell_type": "markdown",
   "metadata": {},
   "source": [
    "## VotingClassifier"
   ]
  },
  {
   "cell_type": "code",
   "execution_count": 282,
   "metadata": {},
   "outputs": [],
   "source": [
    "from sklearn.ensemble import VotingClassifier"
   ]
  },
  {
   "cell_type": "code",
   "execution_count": 283,
   "metadata": {},
   "outputs": [
    {
     "data": {
      "text/plain": [
       "VotingClassifier(estimators=[('lr', LogisticRegression(C=1.0, class_weight=None, dual=False, fit_intercept=True,\n",
       "          intercept_scaling=1, max_iter=100, multi_class='warn',\n",
       "          n_jobs=None, penalty='l2', random_state=42, solver='liblinear',\n",
       "          tol=0.0001, verbose=0, warm_start=False)), ('rf', Rando...mators=80, n_jobs=None,\n",
       "            oob_score=False, random_state=42, verbose=0, warm_start=False))],\n",
       "         flatten_transform=None, n_jobs=None, voting='soft', weights=None)"
      ]
     },
     "execution_count": 283,
     "metadata": {},
     "output_type": "execute_result"
    }
   ],
   "source": [
    "voting_clf = VotingClassifier(estimators=[('lr', lr), ('rf', best_grid)],voting='soft')\n",
    "voting_clf.fit(x_train, y_train)"
   ]
  },
  {
   "cell_type": "code",
   "execution_count": 284,
   "metadata": {},
   "outputs": [
    {
     "name": "stdout",
     "output_type": "stream",
     "text": [
      "Recall: 0.99\n",
      "Precision score: 0.79\n",
      "Accuracy score: 0.78\n"
     ]
    }
   ],
   "source": [
    "show_scores(voting_clf, x_test, y_test)"
   ]
  },
  {
   "cell_type": "code",
   "execution_count": 285,
   "metadata": {},
   "outputs": [
    {
     "name": "stdout",
     "output_type": "stream",
     "text": [
      "ROC-AUC score:  0.7062283982087683\n"
     ]
    },
    {
     "data": {
      "image/png": "[encoded data removed]",
      "text/plain": [
       "<Figure size 432x288 with 1 Axes>"
      ]
     },
     "metadata": {
      "needs_background": "light"
     },
     "output_type": "display_data"
    }
   ],
   "source": [
    "plot_roc(voting_clf, x_test, y_test)"
   ]
  },
  {
   "cell_type": "markdown",
   "metadata": {},
   "source": [
    "## Xgboost (Grid search)"
   ]
  },
  {
   "cell_type": "markdown",
   "metadata": {},
   "source": [
    "[Параметры XGBClassifier](https://xgboost.readthedocs.io/en/latest/parameter.html)"
   ]
  },
  {
   "cell_type": "code",
   "execution_count": 152,
   "metadata": {},
   "outputs": [],
   "source": [
    "import xgboost as xgb"
   ]
  },
  {
   "cell_type": "code",
   "execution_count": 153,
   "metadata": {},
   "outputs": [
    {
     "name": "stdout",
     "output_type": "stream",
     "text": [
      "<class 'pandas.core.frame.DataFrame'>\n",
      "Int64Index: 140132 entries, 193136 to 121958\n",
      "Data columns (total 37 columns):\n",
      "annual_inc                             140132 non-null float64\n",
      "dti                                    140132 non-null float64\n",
      "home_ownership_ANY                     140132 non-null uint8\n",
      "home_ownership_MORTGAGE                140132 non-null uint8\n",
      "home_ownership_NONE                    140132 non-null uint8\n",
      "home_ownership_OTHER                   140132 non-null uint8\n",
      "home_ownership_OWN                     140132 non-null uint8\n",
      "home_ownership_RENT                    140132 non-null uint8\n",
      "inq_last_6mths                         140132 non-null float64\n",
      "int_rate                               140132 non-null float64\n",
      "loan_amnt                              140132 non-null float64\n",
      "open_acc                               140132 non-null float64\n",
      "purpose_car                            140132 non-null uint8\n",
      "purpose_credit_card                    140132 non-null uint8\n",
      "purpose_debt_consolidation             140132 non-null uint8\n",
      "purpose_educational                    140132 non-null uint8\n",
      "purpose_home_improvement               140132 non-null uint8\n",
      "purpose_house                          140132 non-null uint8\n",
      "purpose_major_purchase                 140132 non-null uint8\n",
      "purpose_medical                        140132 non-null uint8\n",
      "purpose_moving                         140132 non-null uint8\n",
      "purpose_other                          140132 non-null uint8\n",
      "purpose_renewable_energy               140132 non-null uint8\n",
      "purpose_small_business                 140132 non-null uint8\n",
      "purpose_vacation                       140132 non-null uint8\n",
      "purpose_wedding                        140132 non-null uint8\n",
      "revol_bal                              140132 non-null float64\n",
      "revol_util                             140132 non-null float64\n",
      "sub_grade                              140132 non-null int64\n",
      "term_ 36 months                        140132 non-null uint8\n",
      "term_ 60 months                        140132 non-null uint8\n",
      "tot_cur_bal                            140132 non-null float64\n",
      "total_acc                              140132 non-null float64\n",
      "total_rev_hi_lim                       140132 non-null float64\n",
      "verification_status_Not Verified       140132 non-null uint8\n",
      "verification_status_Source Verified    140132 non-null uint8\n",
      "verification_status_Verified           140132 non-null uint8\n",
      "dtypes: float64(11), int64(1), uint8(25)\n",
      "memory usage: 17.2 MB\n"
     ]
    }
   ],
   "source": [
    "x_train.info()"
   ]
  },
  {
   "cell_type": "code",
   "execution_count": 154,
   "metadata": {},
   "outputs": [],
   "source": [
    "xgbst = xgb.XGBClassifier(\n",
    "                           max_depth=3,\n",
    "                           min_child_weight=3, #Defines the minimum sum of weights of all observations required\n",
    "                           gamma = 0.25, \n",
    "                                    #A node is split only when the resulting split gives a positive \n",
    "                                    #reduction in the loss function. Gamma specifies the minimum loss \n",
    "                                    #reduction required to make a split.in a child\n",
    "                           eval_metric = 'auc',                         \n",
    "                           subsample= 0.52,\n",
    "                                    #Denotes the fraction of observations to be randomly sampled for each tree\n",
    "                           colsample_bytree=0.95, #The number of features to consider while searching for the best split\n",
    "                           reg_alpha= 5,# L1 regularization term on weights\n",
    "                           reg_lambda=0,# L2 regularization term on weights.\n",
    "                           learning_rate = 0.01,\n",
    "                           n_estimators =4000,\n",
    "                           objective='binary:logistic',\n",
    "                           \n",
    "                           verbosity  = 2, # Valid values are 0 (silent), 1 (warning), 2 (info), 3 (debug). \n",
    "                          \n",
    "                           scale_pos_weight=1, #Control the balance of positive and negative weights, useful for unbalanced classes\n",
    "                           seed=20,\n",
    "                           random_state= 42,\n",
    "                           missing=None)"
   ]
  },
  {
   "cell_type": "code",
   "execution_count": 155,
   "metadata": {},
   "outputs": [
    {
     "data": {
      "text/plain": [
       "XGBClassifier(base_score=0.5, booster='gbtree', colsample_bylevel=1,\n",
       "       colsample_bytree=0.95, eval_metric='auc', gamma=0.25,\n",
       "       learning_rate=0.01, max_delta_step=0, max_depth=3,\n",
       "       min_child_weight=3, missing=None, n_estimators=4000, n_jobs=1,\n",
       "       nthread=None, objective='binary:logistic', random_state=42,\n",
       "       reg_alpha=5, reg_lambda=0, scale_pos_weight=1, seed=20, silent=True,\n",
       "       subsample=0.52, verbosity=2)"
      ]
     },
     "execution_count": 155,
     "metadata": {},
     "output_type": "execute_result"
    }
   ],
   "source": [
    "xgbst.fit(x_train, y_train)"
   ]
  },
  {
   "cell_type": "code",
   "execution_count": 156,
   "metadata": {
    "scrolled": true
   },
   "outputs": [
    {
     "name": "stdout",
     "output_type": "stream",
     "text": [
      "Recall: 0.98\n",
      "Precision score: 0.79\n",
      "Accuracy score: 0.78\n"
     ]
    }
   ],
   "source": [
    "show_scores(xgbst, x_test, y_test)"
   ]
  },
  {
   "cell_type": "code",
   "execution_count": 157,
   "metadata": {},
   "outputs": [
    {
     "name": "stdout",
     "output_type": "stream",
     "text": [
      "ROC-AUC score:  0.7155965058720222\n"
     ]
    },
    {
     "data": {
      "image/png": "[encoded data removed]",
      "text/plain": [
       "<Figure size 432x288 with 1 Axes>"
      ]
     },
     "metadata": {
      "needs_background": "light"
     },
     "output_type": "display_data"
    }
   ],
   "source": [
    "plot_roc(xgbst, x_test, y_test)"
   ]
  },
  {
   "cell_type": "markdown",
   "metadata": {},
   "source": [
    "## Xgboost (Hypetopt)"
   ]
  },
  {
   "cell_type": "code",
   "execution_count": 158,
   "metadata": {},
   "outputs": [],
   "source": [
    "from sklearn.metrics import r2_score\n",
    "from hyperopt import tpe, hp, fmin\n",
    "import xgboost as xgb\n",
    "from hyperopt.mongoexp import MongoTrials"
   ]
  },
  {
   "cell_type": "code",
   "execution_count": 168,
   "metadata": {},
   "outputs": [
    {
     "name": "stdout",
     "output_type": "stream",
     "text": [
      "<class 'pandas.core.frame.DataFrame'>\n",
      "Int64Index: 140132 entries, 193136 to 121958\n",
      "Data columns (total 37 columns):\n",
      "annual_inc                             140132 non-null float64\n",
      "dti                                    140132 non-null float64\n",
      "home_ownership_ANY                     140132 non-null uint8\n",
      "home_ownership_MORTGAGE                140132 non-null uint8\n",
      "home_ownership_NONE                    140132 non-null uint8\n",
      "home_ownership_OTHER                   140132 non-null uint8\n",
      "home_ownership_OWN                     140132 non-null uint8\n",
      "home_ownership_RENT                    140132 non-null uint8\n",
      "inq_last_6mths                         140132 non-null float64\n",
      "int_rate                               140132 non-null float64\n",
      "loan_amnt                              140132 non-null float64\n",
      "open_acc                               140132 non-null float64\n",
      "purpose_car                            140132 non-null uint8\n",
      "purpose_credit_card                    140132 non-null uint8\n",
      "purpose_debt_consolidation             140132 non-null uint8\n",
      "purpose_educational                    140132 non-null uint8\n",
      "purpose_home_improvement               140132 non-null uint8\n",
      "purpose_house                          140132 non-null uint8\n",
      "purpose_major_purchase                 140132 non-null uint8\n",
      "purpose_medical                        140132 non-null uint8\n",
      "purpose_moving                         140132 non-null uint8\n",
      "purpose_other                          140132 non-null uint8\n",
      "purpose_renewable_energy               140132 non-null uint8\n",
      "purpose_small_business                 140132 non-null uint8\n",
      "purpose_vacation                       140132 non-null uint8\n",
      "purpose_wedding                        140132 non-null uint8\n",
      "revol_bal                              140132 non-null float64\n",
      "revol_util                             140132 non-null float64\n",
      "sub_grade                              140132 non-null int64\n",
      "term_ 36 months                        140132 non-null uint8\n",
      "term_ 60 months                        140132 non-null uint8\n",
      "tot_cur_bal                            140132 non-null float64\n",
      "total_acc                              140132 non-null float64\n",
      "total_rev_hi_lim                       140132 non-null float64\n",
      "verification_status_Not Verified       140132 non-null uint8\n",
      "verification_status_Source Verified    140132 non-null uint8\n",
      "verification_status_Verified           140132 non-null uint8\n",
      "dtypes: float64(11), int64(1), uint8(25)\n",
      "memory usage: 17.2 MB\n"
     ]
    }
   ],
   "source": [
    "x_train.info()"
   ]
  },
  {
   "cell_type": "code",
   "execution_count": 169,
   "metadata": {},
   "outputs": [],
   "source": [
    "def func(args):\n",
    "    loss = 0\n",
    "    if args['model'] == xgb.XGBClassifier:\n",
    "        max_depth = args['param']['max_depth']\n",
    "        min_child_weight = args['param']['min_child_weight']\n",
    "        gamma = args['param']['gamma']\n",
    "        subsample = args['param']['subsample']\n",
    "        colsample_bytree = args['param']['colsample_bytree']\n",
    "        reg_alpha = args['param']['reg_alpha']\n",
    "        clf = xgb.XGBClassifier(eval_metric = 'auc',\n",
    "                               objective='binary:logistic',\n",
    "                               verbosity  = 2,\n",
    "                               random_state= 42,\n",
    "                               learning_rate = 0.1,\n",
    "                               n_estimators=1000,    \n",
    "                               reg_lambda=0,\n",
    "                               max_depth = max_depth,\n",
    "                               min_child_weight =min_child_weight,\n",
    "                               gamma =  gamma,\n",
    "                               subsample = subsample,\n",
    "                               colsample_bytree = colsample_bytree,\n",
    "                               reg_alpha = reg_alpha)\n",
    "        clf.fit(x_train,y_train)\n",
    "        y_pred_test = clf.predict_proba(x_test)\n",
    "        loss =  roc_auc_score(y_test, y_pred_test[:, 1])\n",
    "        print(\"Test Score:\",loss)\n",
    "        print(\"Train Score:\",roc_auc_score(y_train, clf.predict_proba(x_train)[:, 1]))\n",
    "        print(\"\\n=================\")\n",
    "    return -loss\n"
   ]
  },
  {
   "cell_type": "code",
   "execution_count": 170,
   "metadata": {},
   "outputs": [
    {
     "data": {
      "text/plain": [
       "<hyperopt.pyll.base.Apply at 0x2afc49be278>"
      ]
     },
     "execution_count": 170,
     "metadata": {},
     "output_type": "execute_result"
    }
   ],
   "source": [
    "space = hp.choice('classifier',[\n",
    "        {\n",
    "        'model': xgb.XGBClassifier,\n",
    "        'param': {\n",
    "        'max_depth' : hp.choice('max_depth',range(3,10,2)),\n",
    "        'min_child_weight' : hp.choice('min_child_weight', range(1,6,2)),\n",
    "        'gamma' : hp.choice('gamma', [i/10.0 for i in range(0,5)]),\n",
    "        'subsample' : hp.choice('subsample', [i/10.0 for i in range(6,10)]),\n",
    "        'colsample_bytree'  : hp.choice('colsample_bytree', [i/10.0 for i in range(6,10)]),\n",
    "        'reg_alpha' : hp.choice('reg_alpha', [1e-5, 1e-2, 0.1, 1, 100])  \n",
    "        }}\n",
    "        ])\n",
    "space"
   ]
  },
  {
   "cell_type": "code",
   "execution_count": 171,
   "metadata": {},
   "outputs": [],
   "source": [
    "# trials = MongoTrials('mongo://localhost:27017/foo_db/jobs',exp_key='exp1')"
   ]
  },
  {
   "cell_type": "code",
   "execution_count": 172,
   "metadata": {
    "scrolled": true
   },
   "outputs": [
    {
     "name": "stdout",
     "output_type": "stream",
     "text": [
      "Test Score:                                                                                                            \n",
      "0.6965527492010486                                                                                                     \n",
      "Train Score:                                                                                                           \n",
      "0.9261165778452309                                                                                                     \n",
      "                                                                                                                       \n",
      "=================\n",
      "Test Score:                                                                                                            \n",
      "0.7145263525396996                                                                                                     \n",
      "Train Score:                                                                                                           \n",
      "0.7277934013733851                                                                                                     \n",
      "                                                                                                                       \n",
      "=================\n",
      "Test Score:                                                                                                            \n",
      "0.6963514936002123                                                                                                     \n",
      "Train Score:                                                                                                           \n",
      "0.9571131266963594                                                                                                     \n",
      "                                                                                                                       \n",
      "=================\n",
      "Test Score:                                                                                                            \n",
      "0.6960323206970014                                                                                                     \n",
      "Train Score:                                                                                                           \n",
      "0.9657936562141194                                                                                                     \n",
      "                                                                                                                       \n",
      "=================\n",
      "Test Score:                                                                                                            \n",
      "0.7142722580627164                                                                                                     \n",
      "Train Score:                                                                                                           \n",
      "0.723369393995125                                                                                                      \n",
      "                                                                                                                       \n",
      "=================\n",
      "Test Score:                                                                                                            \n",
      "0.68555372289877                                                                                                       \n",
      "Train Score:                                                                                                           \n",
      "0.9959540969321151                                                                                                     \n",
      "                                                                                                                       \n",
      "=================\n",
      "Test Score:                                                                                                            \n",
      "0.6993179743243921                                                                                                     \n",
      "Train Score:                                                                                                           \n",
      "0.9187846559431536                                                                                                     \n",
      "                                                                                                                       \n",
      "=================\n",
      "Test Score:                                                                                                            \n",
      "0.7074230472291889                                                                                                     \n",
      "Train Score:                                                                                                           \n",
      "0.8452974694770554                                                                                                     \n",
      "                                                                                                                       \n",
      "=================\n",
      "Test Score:                                                                                                            \n",
      "0.713974722403477                                                                                                      \n",
      "Train Score:                                                                                                           \n",
      "0.7542691098319121                                                                                                     \n",
      "                                                                                                                       \n",
      "=================\n",
      "Test Score:                                                                                                            \n",
      "0.6807868960798307                                                                                                     \n",
      "Train Score:                                                                                                           \n",
      "0.9991256873546434                                                                                                     \n",
      "                                                                                                                       \n",
      "=================\n",
      "Test Score:                                                                                                            \n",
      "0.7148159577371195                                                                                                     \n",
      "Train Score:                                                                                                           \n",
      "0.7284192899229149                                                                                                     \n",
      "                                                                                                                       \n",
      "=================\n",
      "Test Score:                                                                                                            \n",
      "0.7148589729227974                                                                                                     \n",
      "Train Score:                                                                                                           \n",
      "0.7333830081028554                                                                                                     \n",
      "                                                                                                                       \n",
      "=================\n",
      "Test Score:                                                                                                            \n",
      "0.7148662478813758                                                                                                     \n",
      "Train Score:                                                                                                           \n",
      "0.7381537612314222                                                                                                     \n",
      "                                                                                                                       \n",
      "=================\n",
      "Test Score:                                                                                                            \n"
     ]
    },
    {
     "name": "stdout",
     "output_type": "stream",
     "text": [
      "0.705402103356253                                                                                                      \n",
      "Train Score:                                                                                                           \n",
      "0.8394117570614813                                                                                                     \n",
      "                                                                                                                       \n",
      "=================\n",
      "Test Score:                                                                                                            \n",
      "0.695003222482925                                                                                                      \n",
      "Train Score:                                                                                                           \n",
      "0.9550550504103844                                                                                                     \n",
      "                                                                                                                       \n",
      "=================\n",
      "Test Score:                                                                                                            \n",
      "0.7073370836966155                                                                                                     \n",
      "Train Score:                                                                                                           \n",
      "0.8323557949838983                                                                                                     \n",
      "                                                                                                                       \n",
      "=================\n",
      "Test Score:                                                                                                            \n",
      "0.7007137509050897                                                                                                     \n",
      "Train Score:                                                                                                           \n",
      "0.916407161149519                                                                                                      \n",
      "                                                                                                                       \n",
      "=================\n",
      "Test Score:                                                                                                            \n",
      "0.7137551328440453                                                                                                     \n",
      "Train Score:                                                                                                           \n",
      "0.7533780042914474                                                                                                     \n",
      "                                                                                                                       \n",
      "=================\n",
      "Test Score:                                                                                                            \n",
      "0.7150030000305718                                                                                                     \n",
      "Train Score:                                                                                                           \n",
      "0.7353373930806664                                                                                                     \n",
      "                                                                                                                       \n",
      "=================\n",
      "Test Score:                                                                                                            \n",
      "0.7052118487748029                                                                                                     \n",
      "Train Score:                                                                                                           \n",
      "0.8468093545576215                                                                                                     \n",
      "                                                                                                                       \n",
      "=================\n",
      "Test Score:                                                                                                            \n",
      "0.7148417075794371                                                                                                     \n",
      "Train Score:                                                                                                           \n",
      "0.7388217845264659                                                                                                     \n",
      "                                                                                                                       \n",
      "=================\n",
      "Test Score:                                                                                                            \n",
      "0.6826074564772503                                                                                                     \n",
      "Train Score:                                                                                                           \n",
      "0.9916316796931863                                                                                                     \n",
      "                                                                                                                       \n",
      "=================\n",
      "Test Score:                                                                                                            \n",
      "0.7147310201395946                                                                                                     \n",
      "Train Score:                                                                                                           \n",
      "0.7383036632676026                                                                                                     \n",
      "                                                                                                                       \n",
      "=================\n",
      "Test Score:                                                                                                            \n",
      "0.7145791350457888                                                                                                     \n",
      "Train Score:                                                                                                           \n",
      "0.7341697990809646                                                                                                     \n",
      "                                                                                                                       \n",
      "=================\n",
      "Test Score:                                                                                                            \n",
      "0.7151165897230949                                                                                                     \n",
      "Train Score:                                                                                                           \n",
      "0.7348391518967949                                                                                                     \n",
      "                                                                                                                       \n",
      "=================\n",
      "Test Score:                                                                                                            \n",
      "0.7151165897230949                                                                                                     \n",
      "Train Score:                                                                                                           \n",
      "0.7348391518967949                                                                                                     \n",
      "                                                                                                                       \n",
      "=================\n",
      "Test Score:                                                                                                            \n",
      "0.6872364568947527                                                                                                     \n"
     ]
    },
    {
     "name": "stdout",
     "output_type": "stream",
     "text": [
      "Train Score:                                                                                                           \n",
      "0.9990295849963822                                                                                                     \n",
      "                                                                                                                       \n",
      "=================\n",
      "Test Score:                                                                                                            \n",
      "0.6891881235774553                                                                                                     \n",
      "Train Score:                                                                                                           \n",
      "0.9969665222361029                                                                                                     \n",
      "                                                                                                                       \n",
      "=================\n",
      "Test Score:                                                                                                            \n",
      "0.690112614265046                                                                                                      \n",
      "Train Score:                                                                                                           \n",
      "0.9970557873107606                                                                                                     \n",
      "                                                                                                                       \n",
      "=================\n",
      "Test Score:                                                                                                            \n",
      "0.7151165897230949                                                                                                     \n",
      "Train Score:                                                                                                           \n",
      "0.7348391518967949                                                                                                     \n",
      "                                                                                                                       \n",
      "=================\n",
      "Test Score:                                                                                                            \n",
      "0.714003336650008                                                                                                      \n",
      "Train Score:                                                                                                           \n",
      "0.7226460954583143                                                                                                     \n",
      "                                                                                                                       \n",
      "=================\n",
      "Test Score:                                                                                                            \n",
      "0.7149154307566431                                                                                                     \n",
      "Train Score:                                                                                                           \n",
      "0.7350428960721065                                                                                                     \n",
      "                                                                                                                       \n",
      "=================\n",
      "Test Score:                                                                                                            \n",
      "0.689412537608532                                                                                                      \n",
      "Train Score:                                                                                                           \n",
      "0.9891524288823367                                                                                                     \n",
      "                                                                                                                       \n",
      "=================\n",
      "Test Score:                                                                                                            \n",
      "0.7137289618368686                                                                                                     \n",
      "Train Score:                                                                                                           \n",
      "0.7544264516895174                                                                                                     \n",
      "                                                                                                                       \n",
      "=================\n",
      "Test Score:                                                                                                            \n",
      "0.7150529447069036                                                                                                     \n",
      "Train Score:                                                                                                           \n",
      "0.7386599347280078                                                                                                     \n",
      "                                                                                                                       \n",
      "=================\n",
      "Test Score:                                                                                                            \n",
      "0.6901105591738028                                                                                                     \n",
      "Train Score:                                                                                                           \n",
      "0.9972962420688718                                                                                                     \n",
      "                                                                                                                       \n",
      "=================\n",
      "Test Score:                                                                                                            \n",
      "0.7148883248117965                                                                                                     \n",
      "Train Score:                                                                                                           \n",
      "0.7331211725817963                                                                                                     \n",
      "                                                                                                                       \n",
      "=================\n",
      "Test Score:                                                                                                            \n",
      "0.714125803016032                                                                                                      \n",
      "Train Score:                                                                                                           \n",
      "0.7540055826209051                                                                                                     \n",
      "                                                                                                                       \n",
      "=================\n",
      "Test Score:                                                                                                            \n",
      "0.7151165897230949                                                                                                     \n",
      "Train Score:                                                                                                           \n",
      "0.7348391518967949                                                                                                     \n",
      "                                                                                                                       \n",
      "=================\n",
      "Test Score:                                                                                                            \n",
      "0.7063433874892932                                                                                                     \n",
      "Train Score:                                                                                                           \n"
     ]
    },
    {
     "name": "stdout",
     "output_type": "stream",
     "text": [
      "0.8434923988369889                                                                                                     \n",
      "                                                                                                                       \n",
      "=================\n",
      "Test Score:                                                                                                            \n",
      "0.7149551611785353                                                                                                     \n",
      "Train Score:                                                                                                           \n",
      "0.7342685997096696                                                                                                     \n",
      "                                                                                                                       \n",
      "=================\n",
      "Test Score:                                                                                                            \n",
      "0.7150255786545057                                                                                                     \n",
      "Train Score:                                                                                                           \n",
      "0.7325163737375641                                                                                                     \n",
      "                                                                                                                       \n",
      "=================\n",
      "Test Score:                                                                                                            \n",
      "0.7131069899216103                                                                                                     \n",
      "Train Score:                                                                                                           \n",
      "0.7544170106079935                                                                                                     \n",
      "                                                                                                                       \n",
      "=================\n",
      "Test Score:                                                                                                            \n",
      "0.715171751850902                                                                                                      \n",
      "Train Score:                                                                                                           \n",
      "0.7369411241135717                                                                                                     \n",
      "                                                                                                                       \n",
      "=================\n",
      "Test Score:                                                                                                            \n",
      "0.7086284492407424                                                                                                     \n",
      "Train Score:                                                                                                           \n",
      "0.8253504807575227                                                                                                     \n",
      "                                                                                                                       \n",
      "=================\n",
      "Test Score:                                                                                                            \n",
      "0.695254368805895                                                                                                      \n",
      "Train Score:                                                                                                           \n",
      "0.9607717325280101                                                                                                     \n",
      "                                                                                                                       \n",
      "=================\n",
      "Test Score:                                                                                                            \n",
      "0.715171751850902                                                                                                      \n",
      "Train Score:                                                                                                           \n",
      "0.7369411241135717                                                                                                     \n",
      "                                                                                                                       \n",
      "=================\n",
      "Test Score:                                                                                                            \n",
      "0.6862375810844222                                                                                                     \n",
      "Train Score:                                                                                                           \n",
      "0.9988677021398872                                                                                                     \n",
      "                                                                                                                       \n",
      "=================\n",
      "Test Score:                                                                                                            \n",
      "0.7150231539367415                                                                                                     \n",
      "Train Score:                                                                                                           \n",
      "0.7298556604560533                                                                                                     \n",
      "                                                                                                                       \n",
      "=================\n",
      "Test Score:                                                                                                            \n",
      "0.7132333450163231                                                                                                     \n",
      "Train Score:                                                                                                           \n",
      "0.7530674685517975                                                                                                     \n",
      "                                                                                                                       \n",
      "=================\n",
      "Test Score:                                                                                                            \n",
      "0.6955014170256766                                                                                                     \n",
      "Train Score:                                                                                                           \n",
      "0.955949959241277                                                                                                      \n",
      "                                                                                                                       \n",
      "=================\n",
      "Test Score:                                                                                                            \n",
      "0.715171751850902                                                                                                      \n",
      "Train Score:                                                                                                           \n",
      "0.7369411241135717                                                                                                     \n",
      "                                                                                                                       \n",
      "=================\n",
      "Test Score:                                                                                                            \n",
      "0.7082812539766057                                                                                                     \n",
      "Train Score:                                                                                                           \n",
      "0.8308483320402131                                                                                                     \n"
     ]
    },
    {
     "name": "stdout",
     "output_type": "stream",
     "text": [
      "                                                                                                                       \n",
      "=================\n",
      "Test Score:                                                                                                            \n",
      "0.6869469257836943                                                                                                     \n",
      "Train Score:                                                                                                           \n",
      "0.9926883434092395                                                                                                     \n",
      "                                                                                                                       \n",
      "=================\n",
      "Test Score:                                                                                                            \n",
      "0.7149590048111779                                                                                                     \n",
      "Train Score:                                                                                                           \n",
      "0.7377503495979242                                                                                                     \n",
      "                                                                                                                       \n",
      "=================\n",
      "Test Score:                                                                                                            \n",
      "0.6932021765941645                                                                                                     \n",
      "Train Score:                                                                                                           \n",
      "0.9425956950281483                                                                                                     \n",
      "                                                                                                                       \n",
      "=================\n",
      "Test Score:                                                                                                            \n",
      "0.7140225757506713                                                                                                     \n",
      "Train Score:                                                                                                           \n",
      "0.7228807870986382                                                                                                     \n",
      "                                                                                                                       \n",
      "=================\n",
      "Test Score:                                                                                                            \n",
      "0.6871828360853781                                                                                                     \n",
      "Train Score:                                                                                                           \n",
      "0.9986293617738238                                                                                                     \n",
      "                                                                                                                       \n",
      "=================\n",
      "Test Score:                                                                                                            \n",
      "0.7152111126462736                                                                                                     \n",
      "Train Score:                                                                                                           \n",
      "0.7305973444038087                                                                                                     \n",
      "                                                                                                                       \n",
      "=================\n",
      "Test Score:                                                                                                            \n",
      "0.7152111126462736                                                                                                     \n",
      "Train Score:                                                                                                           \n",
      "0.7305973444038087                                                                                                     \n",
      "                                                                                                                       \n",
      "=================\n",
      "Test Score:                                                                                                            \n",
      "0.7060729875705022                                                                                                     \n",
      "Train Score:                                                                                                           \n",
      "0.8318128177543112                                                                                                     \n",
      "                                                                                                                       \n",
      "=================\n",
      "Test Score:                                                                                                            \n",
      "0.7049703739431464                                                                                                     \n",
      "Train Score:                                                                                                           \n",
      "0.8367268573446895                                                                                                     \n",
      "                                                                                                                       \n",
      "=================\n",
      "Test Score:                                                                                                            \n",
      "0.7054194758027228                                                                                                     \n",
      "Train Score:                                                                                                           \n",
      "0.8320661907117421                                                                                                     \n",
      "                                                                                                                       \n",
      "=================\n",
      "Test Score:                                                                                                            \n",
      "0.7152111126462736                                                                                                     \n",
      "Train Score:                                                                                                           \n",
      "0.7305973444038087                                                                                                     \n",
      "                                                                                                                       \n",
      "=================\n",
      "Test Score:                                                                                                            \n",
      "0.703837728764954                                                                                                      \n",
      "Train Score:                                                                                                           \n",
      "0.8322005066915528                                                                                                     \n",
      "                                                                                                                       \n",
      "=================\n",
      "Test Score:                                                                                                            \n",
      "0.7152111126462736                                                                                                     \n",
      "Train Score:                                                                                                           \n",
      "0.7305973444038087                                                                                                     \n",
      "                                                                                                                       \n",
      "=================\n"
     ]
    },
    {
     "name": "stdout",
     "output_type": "stream",
     "text": [
      "Test Score:                                                                                                            \n",
      "0.7152111126462736                                                                                                     \n",
      "Train Score:                                                                                                           \n",
      "0.7305973444038087                                                                                                     \n",
      "                                                                                                                       \n",
      "=================\n",
      "Test Score:                                                                                                            \n",
      "0.7152111126462736                                                                                                     \n",
      "Train Score:                                                                                                           \n",
      "0.7305973444038087                                                                                                     \n",
      "                                                                                                                       \n",
      "=================\n",
      "Test Score:                                                                                                            \n",
      "0.7152111126462736                                                                                                     \n",
      "Train Score:                                                                                                           \n",
      "0.7305973444038087                                                                                                     \n",
      "                                                                                                                       \n",
      "=================\n",
      "Test Score:                                                                                                            \n",
      "0.7152111126462736                                                                                                     \n",
      "Train Score:                                                                                                           \n",
      "0.7305973444038087                                                                                                     \n",
      "                                                                                                                       \n",
      "=================\n",
      "Test Score:                                                                                                            \n",
      "0.7152111126462736                                                                                                     \n",
      "Train Score:                                                                                                           \n",
      "0.7305973444038087                                                                                                     \n",
      "                                                                                                                       \n",
      "=================\n",
      "Test Score:                                                                                                            \n",
      "0.7152111126462736                                                                                                     \n",
      "Train Score:                                                                                                           \n",
      "0.7305973444038087                                                                                                     \n",
      "                                                                                                                       \n",
      "=================\n",
      "Test Score:                                                                                                            \n",
      "0.7152111126462736                                                                                                     \n",
      "Train Score:                                                                                                           \n",
      "0.7305973444038087                                                                                                     \n",
      "                                                                                                                       \n",
      "=================\n",
      "Test Score:                                                                                                            \n",
      "0.7152260756754236                                                                                                     \n",
      "Train Score:                                                                                                           \n",
      "0.7305589887061623                                                                                                     \n",
      "                                                                                                                       \n",
      "=================\n",
      "Test Score:                                                                                                            \n",
      "0.7152260756754236                                                                                                     \n",
      "Train Score:                                                                                                           \n",
      "0.7305589887061623                                                                                                     \n",
      "                                                                                                                       \n",
      "=================\n",
      "Test Score:                                                                                                            \n",
      "0.7056950247236335                                                                                                     \n",
      "Train Score:                                                                                                           \n",
      "0.8318513453537498                                                                                                     \n",
      "                                                                                                                       \n",
      "=================\n",
      "Test Score:                                                                                                            \n",
      "0.7053461625163642                                                                                                     \n",
      "Train Score:                                                                                                           \n",
      "0.8353788690162336                                                                                                     \n",
      "                                                                                                                       \n",
      "=================\n",
      "Test Score:                                                                                                            \n",
      "0.7152260756754236                                                                                                     \n",
      "Train Score:                                                                                                           \n",
      "0.7305589887061623                                                                                                     \n",
      "                                                                                                                       \n",
      "=================\n",
      "Test Score:                                                                                                            \n",
      "0.7152260756754236                                                                                                     \n",
      "Train Score:                                                                                                           \n",
      "0.7305589887061623                                                                                                     \n",
      "                                                                                                                       \n",
      "=================\n",
      "Test Score:                                                                                                            \n"
     ]
    },
    {
     "name": "stdout",
     "output_type": "stream",
     "text": [
      "0.7056771860162585                                                                                                     \n",
      "Train Score:                                                                                                           \n",
      "0.8311461201600141                                                                                                     \n",
      "                                                                                                                       \n",
      "=================\n",
      "Test Score:                                                                                                            \n",
      "0.7056641701699558                                                                                                     \n",
      "Train Score:                                                                                                           \n",
      "0.8347909318278262                                                                                                     \n",
      "                                                                                                                       \n",
      "=================\n",
      "Test Score:                                                                                                            \n",
      "0.7142769150347619                                                                                                     \n",
      "Train Score:                                                                                                           \n",
      "0.7233860559804065                                                                                                     \n",
      "                                                                                                                       \n",
      "=================\n",
      "Test Score:                                                                                                            \n",
      "0.715157966955956                                                                                                      \n",
      "Train Score:                                                                                                           \n",
      "0.7356279696998848                                                                                                     \n",
      "                                                                                                                       \n",
      "=================\n",
      "Test Score:                                                                                                            \n",
      "0.7053461625163642                                                                                                     \n",
      "Train Score:                                                                                                           \n",
      "0.8353788690162336                                                                                                     \n",
      "                                                                                                                       \n",
      "=================\n",
      "Test Score:                                                                                                            \n",
      "0.7056950247236335                                                                                                     \n",
      "Train Score:                                                                                                           \n",
      "0.8318513453537498                                                                                                     \n",
      "                                                                                                                       \n",
      "=================\n",
      "Test Score:                                                                                                            \n",
      "0.7152260756754236                                                                                                     \n",
      "Train Score:                                                                                                           \n",
      "0.7305589887061623                                                                                                     \n",
      "                                                                                                                       \n",
      "=================\n",
      "Test Score:                                                                                                            \n",
      "0.7136452748493363                                                                                                     \n",
      "Train Score:                                                                                                           \n",
      "0.7521219007034272                                                                                                     \n",
      "                                                                                                                       \n",
      "=================\n",
      "Test Score:                                                                                                            \n",
      "0.6897410719677395                                                                                                     \n",
      "Train Score:                                                                                                           \n",
      "0.9405248398273827                                                                                                     \n",
      "                                                                                                                       \n",
      "=================\n",
      "Test Score:                                                                                                            \n",
      "0.7150037739109343                                                                                                     \n",
      "Train Score:                                                                                                           \n",
      "0.7294516733188621                                                                                                     \n",
      "                                                                                                                       \n",
      "=================\n",
      "Test Score:                                                                                                            \n",
      "0.7153036593962897                                                                                                     \n",
      "Train Score:                                                                                                           \n",
      "0.7315893269115525                                                                                                     \n",
      "                                                                                                                       \n",
      "=================\n",
      "Test Score:                                                                                                            \n",
      "0.7068125417889356                                                                                                     \n",
      "Train Score:                                                                                                           \n",
      "0.8259753633142548                                                                                                     \n",
      "                                                                                                                       \n",
      "=================\n",
      "Test Score:                                                                                                            \n",
      "0.7151424804905566                                                                                                     \n",
      "Train Score:                                                                                                           \n",
      "0.7367944181284103                                                                                                     \n",
      "                                                                                                                       \n",
      "=================\n",
      "Test Score:                                                                                                            \n",
      "0.7134403914326493                                                                                                     \n"
     ]
    },
    {
     "name": "stdout",
     "output_type": "stream",
     "text": [
      "Train Score:                                                                                                           \n",
      "0.753722968287021                                                                                                      \n",
      "                                                                                                                       \n",
      "=================\n",
      "Test Score:                                                                                                            \n",
      "0.7151745300894559                                                                                                     \n",
      "Train Score:                                                                                                           \n",
      "0.7307968790421484                                                                                                     \n",
      "                                                                                                                       \n",
      "=================\n",
      "Test Score:                                                                                                            \n",
      "0.7063413541407865                                                                                                     \n",
      "Train Score:                                                                                                           \n",
      "0.8282899232454823                                                                                                     \n",
      "                                                                                                                       \n",
      "=================\n",
      "Test Score:                                                                                                            \n",
      "0.7056641701699558                                                                                                     \n",
      "Train Score:                                                                                                           \n",
      "0.8347909318278262                                                                                                     \n",
      "                                                                                                                       \n",
      "=================\n",
      "Test Score:                                                                                                            \n",
      "0.7141166420763834                                                                                                     \n",
      "Train Score:                                                                                                           \n",
      "0.7237709338091046                                                                                                     \n",
      "                                                                                                                       \n",
      "=================\n",
      "Test Score:                                                                                                            \n",
      "0.7152070668867101                                                                                                     \n",
      "Train Score:                                                                                                           \n",
      "0.7361704188824274                                                                                                     \n",
      "                                                                                                                       \n",
      "=================\n",
      "Test Score:                                                                                                            \n",
      "0.7056950247236335                                                                                                     \n",
      "Train Score:                                                                                                           \n",
      "0.8318513453537498                                                                                                     \n",
      "                                                                                                                       \n",
      "=================\n",
      "Test Score:                                                                                                            \n",
      "0.7066714934360627                                                                                                     \n",
      "Train Score:                                                                                                           \n",
      "0.8310932798997915                                                                                                     \n",
      "                                                                                                                       \n",
      "=================\n",
      "100%|█████████████████████████████████████████████| 100/100 [9:06:45<00:00, 316.35s/it, best loss: -0.7153036593962897]\n"
     ]
    }
   ],
   "source": [
    "best = fmin(func,space,algo=tpe.suggest,max_evals=100)\n",
    "#best = {'classifier': 0,\n",
    "# 'colsample_bytree': 1,\n",
    "# 'gamma': 1,\n",
    "# 'max_depth': 3,\n",
    "# 'min_child_weight': 0,\n",
    "# 'reg_alpha': 3,\n",
    "# 'subsample': 0}"
   ]
  },
  {
   "cell_type": "code",
   "execution_count": 177,
   "metadata": {},
   "outputs": [
    {
     "data": {
      "text/plain": [
       "{'classifier': 0,\n",
       " 'colsample_bytree': 3,\n",
       " 'gamma': 0,\n",
       " 'max_depth': 1,\n",
       " 'min_child_weight': 1,\n",
       " 'reg_alpha': 4,\n",
       " 'subsample': 1}"
      ]
     },
     "execution_count": 177,
     "metadata": {},
     "output_type": "execute_result"
    }
   ],
   "source": [
    "best"
   ]
  },
  {
   "cell_type": "code",
   "execution_count": 180,
   "metadata": {},
   "outputs": [],
   "source": [
    "bst = xgb.XGBClassifier(     eval_metric = 'auc',\n",
    "                               objective='binary:logistic',\n",
    "                               verbosity  = 2,\n",
    "                               random_state= 42,\n",
    "                               learning_rate = 0.01,\n",
    "                               n_estimators=4000,    \n",
    "                               reg_lambda=0,\n",
    "                               seed = 20,\n",
    "                               max_depth = best['max_depth'],\n",
    "                               min_child_weight = best['min_child_weight'],\n",
    "                               gamma =  best['gamma'],\n",
    "                               subsample = best['subsample'],\n",
    "                               colsample_bytree = 1,\n",
    "                               reg_alpha = best['reg_alpha'])"
   ]
  },
  {
   "cell_type": "code",
   "execution_count": 181,
   "metadata": {},
   "outputs": [
    {
     "data": {
      "text/plain": [
       "XGBClassifier(base_score=0.5, booster='gbtree', colsample_bylevel=1,\n",
       "       colsample_bytree=1, eval_metric='auc', gamma=0, learning_rate=0.01,\n",
       "       max_delta_step=0, max_depth=1, min_child_weight=1, missing=None,\n",
       "       n_estimators=4000, n_jobs=1, nthread=None,\n",
       "       objective='binary:logistic', random_state=42, reg_alpha=4,\n",
       "       reg_lambda=0, scale_pos_weight=1, seed=20, silent=True, subsample=1,\n",
       "       verbosity=2)"
      ]
     },
     "execution_count": 181,
     "metadata": {},
     "output_type": "execute_result"
    }
   ],
   "source": [
    "bst.fit(x_train, y_train)"
   ]
  },
  {
   "cell_type": "code",
   "execution_count": 182,
   "metadata": {},
   "outputs": [
    {
     "name": "stdout",
     "output_type": "stream",
     "text": [
      "Recall: 0.98\n",
      "Precision score: 0.79\n",
      "Accuracy score: 0.78\n"
     ]
    }
   ],
   "source": [
    "show_scores(bst, x_test, y_test)"
   ]
  },
  {
   "cell_type": "code",
   "execution_count": 183,
   "metadata": {},
   "outputs": [
    {
     "name": "stdout",
     "output_type": "stream",
     "text": [
      "ROC-AUC score:  0.7076620353360183\n"
     ]
    },
    {
     "data": {
      "image/png": "[encoded data removed]",
      "text/plain": [
       "<Figure size 432x288 with 1 Axes>"
      ]
     },
     "metadata": {
      "needs_background": "light"
     },
     "output_type": "display_data"
    }
   ],
   "source": [
    "plot_roc(bst, x_test, y_test)"
   ]
  },
  {
   "cell_type": "markdown",
   "metadata": {},
   "source": [
    "## Catboost"
   ]
  },
  {
   "cell_type": "code",
   "execution_count": null,
   "metadata": {},
   "outputs": [],
   "source": [
    "from hyperopt import tpe, hp, fmin\n",
    "import hyperopt "
   ]
  },
  {
   "cell_type": "code",
   "execution_count": null,
   "metadata": {},
   "outputs": [],
   "source": [
    "x['purpose'].value_counts()"
   ]
  },
  {
   "cell_type": "code",
   "execution_count": null,
   "metadata": {},
   "outputs": [],
   "source": [
    "x['purpose'] = x['purpose'].astype(str).map(lambda x: 'other' if x in ['educational', 'renewable_energy','vacation','house','wedding','moving','medical','car','small_business','major_purchase'] else x)"
   ]
  },
  {
   "cell_type": "code",
   "execution_count": null,
   "metadata": {},
   "outputs": [],
   "source": [
    "x['purpose'].value_counts()"
   ]
  },
  {
   "cell_type": "code",
   "execution_count": null,
   "metadata": {},
   "outputs": [],
   "source": [
    "x['home_ownership'].value_counts()"
   ]
  },
  {
   "cell_type": "code",
   "execution_count": null,
   "metadata": {},
   "outputs": [],
   "source": [
    "x['home_ownership'] = x['home_ownership'].astype(str).map(lambda x: 'OTHER' if x in ['NONE', 'ANY'] else x)"
   ]
  },
  {
   "cell_type": "code",
   "execution_count": null,
   "metadata": {},
   "outputs": [],
   "source": [
    "x['home_ownership'].value_counts()"
   ]
  },
  {
   "cell_type": "code",
   "execution_count": null,
   "metadata": {},
   "outputs": [],
   "source": [
    "x_train, x_test, y_train, y_test = train_test_split(x, y, test_size=0.3, random_state = 42)\n",
    "# x_train['initial_list_status'] = x_train['initial_list_status'].astype('str').map({'f': bool(1), 'w': bool(0)}) # Label encoder\n",
    "# x_test['initial_list_status'] = x_test['initial_list_status'].astype('str').map({'f': bool(1), 'w': bool(0)}) # Label encoder\n",
    "x_test['sub_grade'] = x_test['sub_grade'].astype('str').map(lambda x: ord(x[0])*10 + int(x[1]))\n",
    "x_train['sub_grade'] = x_train['sub_grade'].astype('str').map(lambda x: ord(x[0])*10 + int(x[1]))\n",
    "# x_train = pd.get_dummies(x_train, columns = ['purpose','home_ownership'])   # OHE (?????)\n",
    "# x_test = pd.get_dummies(x_test, columns = ['purpose','home_ownership'])\n",
    "#for i in list(x_test): # удаление из тестовых данных столбцов, если их не было в тренировочных\n",
    "#    if i not in list(x_train):\n",
    "#        list(my_dataframe)\n",
    "#        x_test.drop(i, axis=1, inplace=True)\n",
    "#for i in list(x_train): # добавление колонки с нулями, если такой нет в тестовой\n",
    "#    if i not in list(x_test):\n",
    "#         x_test[i] = 0   \n",
    "\n",
    "#x_test = x_test.reindex(sorted(x_test.columns), axis=1)\n",
    "#x_train = x_train.reindex(sorted(x_test.columns), axis=1)"
   ]
  },
  {
   "cell_type": "code",
   "execution_count": null,
   "metadata": {},
   "outputs": [],
   "source": [
    "x_train.info()"
   ]
  },
  {
   "cell_type": "code",
   "execution_count": null,
   "metadata": {},
   "outputs": [],
   "source": [
    "x_train.head()"
   ]
  },
  {
   "cell_type": "code",
   "execution_count": null,
   "metadata": {},
   "outputs": [],
   "source": [
    "categorical_features_names = x_train.columns[x_train.dtypes == 'object']\n",
    "categorical_features_names"
   ]
  },
  {
   "cell_type": "code",
   "execution_count": null,
   "metadata": {},
   "outputs": [],
   "source": [
    "categorical_features_indices = [x_train.columns.get_loc(i) for i in categorical_features_names]\n",
    "categorical_features_indices"
   ]
  },
  {
   "cell_type": "code",
   "execution_count": null,
   "metadata": {},
   "outputs": [],
   "source": [
    "from catboost import CatBoostClassifier, Pool, cv\n",
    "import catboost as cb\n",
    "import frozendict\n",
    "# roc_auc_score"
   ]
  },
  {
   "cell_type": "code",
   "execution_count": null,
   "metadata": {},
   "outputs": [],
   "source": [
    "params = {'learning_rate': 0.01,\n",
    "          'depth': 8.0,\n",
    "       #   'rsm': 0.8789580279825991,\n",
    "          'l2_leaf_reg': 29.083288170330242,\n",
    "          'task_type': 'CPU',\n",
    "          'loss_function': 'Logloss',\n",
    "          'eval_metric': 'AUC', 'od_type': 'Iter',\n",
    "          'od_wait': 40,\n",
    "          'custom_metric': ['AUC'],\n",
    "          'iterations': 4000,\n",
    "          'random_seed': 42}\n",
    "train_pool = Pool(x_train, y_train, cat_features=categorical_features_indices)\n",
    "validate_pool = Pool(x_test, y_test, cat_features=categorical_features_indices)\n"
   ]
  },
  {
   "cell_type": "code",
   "execution_count": null,
   "metadata": {},
   "outputs": [],
   "source": [
    "best_model_params = params.copy()\n",
    "best_model = CatBoostClassifier(**best_model_params)\n",
    "best_model.fit(train_pool, eval_set=validate_pool);"
   ]
  },
  {
   "cell_type": "code",
   "execution_count": null,
   "metadata": {},
   "outputs": [],
   "source": [
    "show_scores(best_model, x_test, y_test)"
   ]
  },
  {
   "cell_type": "code",
   "execution_count": null,
   "metadata": {},
   "outputs": [],
   "source": [
    "plot_roc(best_model, x_test, y_test)"
   ]
  },
  {
   "cell_type": "code",
   "execution_count": null,
   "metadata": {
    "scrolled": true
   },
   "outputs": [],
   "source": [
    "feature_importances = best_model.get_feature_importance(train_pool)\n",
    "feature_names = x_train.columns\n",
    "for score, name in sorted(zip(feature_importances, feature_names), reverse=True):\n",
    "    print('{}: {}'.format(name, score))"
   ]
  },
  {
   "cell_type": "code",
   "execution_count": null,
   "metadata": {},
   "outputs": [],
   "source": [
    "# make it True if your want to use GPU for training\n",
    "have_gpu = False\n",
    "# skip hyper-parameter optimization and just use provided optimal parameters\n",
    "use_optimal_pretrained_params = False\n",
    "# number of iterations of hyper-parameter search\n",
    "hyperopt_iterations = 50"
   ]
  },
  {
   "cell_type": "code",
   "execution_count": null,
   "metadata": {},
   "outputs": [],
   "source": [
    "const_params = frozendict.frozendict({\n",
    "    'task_type': 'GPU' if have_gpu else 'CPU',\n",
    "    'loss_function': 'Logloss',\n",
    "    'eval_metric': 'AUC', \n",
    "    'od_type': 'Iter',\n",
    "    'od_wait': 40,\n",
    "    'custom_metric': ['AUC'],\n",
    "    'iterations': 400,\n",
    "    'random_seed':42})"
   ]
  },
  {
   "cell_type": "code",
   "execution_count": null,
   "metadata": {},
   "outputs": [],
   "source": [
    "class UciAdultClassifierObjective(object):\n",
    "    def __init__(self, dataset, const_params, fold_count):\n",
    "        self._dataset = dataset\n",
    "        self._const_params = const_params.copy()\n",
    "        self._fold_count = fold_count\n",
    "        self._evaluated_count = 0\n",
    "        \n",
    "    def _to_catboost_params(self, hyper_params):\n",
    "        return {\n",
    "            'learning_rate': hyper_params['learning_rate'],\n",
    "            'depth': hyper_params['depth'],\n",
    "            'rsm' :  hyper_params['rsm'],\n",
    "            'l2_leaf_reg': hyper_params['l2_leaf_reg']}\n",
    "\n",
    "    def __call__(self, hyper_params):\n",
    "        params = self._to_catboost_params(hyper_params)\n",
    "        params.update(self._const_params)\n",
    "        \n",
    "        print('evaluating params={}'.format(params), file=sys.stdout)\n",
    "        sys.stdout.flush()        \n",
    "        scores = cb.cv(\n",
    "            pool=self._dataset,\n",
    "            params=params,\n",
    "            fold_count=self._fold_count,\n",
    "            partition_random_seed=42,\n",
    "            verbose=False)\n",
    "        min_mean_auc = np.min(scores['test-AUC-mean'])\n",
    "        print('evaluated score={}'.format(min_mean_auc), file=sys.stdout)\n",
    "        \n",
    "        self._evaluated_count += 1\n",
    "        print('evaluated {} times'.format(self._evaluated_count), file=sys.stdout)\n",
    "        \n",
    "        # negate because hyperopt minimizes the objective\n",
    "        return {'loss': -min_mean_auc, 'status': hyperopt.STATUS_OK}"
   ]
  },
  {
   "cell_type": "code",
   "execution_count": null,
   "metadata": {},
   "outputs": [],
   "source": [
    "\n",
    "def find_best_hyper_params(dataset, const_params, max_evals=100):    \n",
    "    # we are going to optimize these three parameters, though there are a lot more of them (see CatBoost docs)\n",
    "    parameter_space = {\n",
    "        'depth': hp.quniform(\"depth\", 4, 10, 1),\n",
    "        'rsm': hp.uniform ('rsm', 0.75, 1.0),\n",
    "        'learning_rate': hyperopt.hp.uniform('learning_rate', 0.2, 1.0),\n",
    "        'l2_leaf_reg': hp.uniform('l2_leaf_reg', 0.01, 100)}\n",
    " \n",
    "    objective = UciAdultClassifierObjective(dataset=dataset, const_params=const_params, fold_count=6)\n",
    "    trials = hyperopt.Trials()\n",
    "    best = hyperopt.fmin(\n",
    "        fn=objective,\n",
    "        space=parameter_space,\n",
    "        algo=hyperopt.rand.suggest,\n",
    "        max_evals=max_evals,\n",
    "        rstate=np.random.RandomState(seed=42))\n",
    "    return best\n",
    "\n",
    "def train_best_model(dataset, const_params, max_evals=100, use_default=False):\n",
    "    # convert pandas.DataFrame to catboost.Pool to avoid converting it on each \n",
    "    # iteration of hyper-parameters optimization  \n",
    "    if use_default:\n",
    "        # pretrained optimal parameters\n",
    "        best = {\n",
    "            'learning_rate': 0.4234185321620083, \n",
    "            'depth': 5, \n",
    "            'l2_leaf_reg': 9.464266235679002}\n",
    "    else:\n",
    "        best = find_best_hyper_params(dataset, const_params, max_evals=max_evals)\n",
    "    \n",
    "    # merge subset of hyper-parameters provided by hyperopt with hyper-parameters \n",
    "    # provided by the user\n",
    "    hyper_params = best.copy()\n",
    "    hyper_params.update(const_params)\n",
    "    \n",
    "    # drop `use_best_model` because we are going to use entire dataset for \n",
    "    # training of the final model\n",
    "    hyper_params.pop('use_best_model', None)\n",
    "    \n",
    "    model = cb.CatBoostClassifier(**hyper_params)\n",
    "    model.fit(dataset, verbose=False)\n",
    "    \n",
    "    return model, hyper_params\n",
    "\n"
   ]
  },
  {
   "cell_type": "code",
   "execution_count": null,
   "metadata": {},
   "outputs": [],
   "source": [
    "model, params = train_best_model(\n",
    "    train_pool, \n",
    "    const_params, \n",
    "    max_evals=hyperopt_iterations, \n",
    "    use_default=use_optimal_pretrained_params)"
   ]
  },
  {
   "cell_type": "code",
   "execution_count": null,
   "metadata": {},
   "outputs": [],
   "source": [
    "params"
   ]
  },
  {
   "cell_type": "code",
   "execution_count": null,
   "metadata": {},
   "outputs": [],
   "source": [
    "plot_roc(model, x_test, y_test)"
   ]
  },
  {
   "cell_type": "code",
   "execution_count": null,
   "metadata": {
    "scrolled": true
   },
   "outputs": [],
   "source": [
    "show_scores(model, x_test, y_test)"
   ]
  },
  {
   "cell_type": "markdown",
   "metadata": {},
   "source": [
    "## LightGBM"
   ]
  },
  {
   "cell_type": "code",
   "execution_count": 33,
   "metadata": {},
   "outputs": [],
   "source": [
    "import lightgbm as lgb"
   ]
  },
  {
   "cell_type": "code",
   "execution_count": 149,
   "metadata": {},
   "outputs": [
    {
     "data": {
      "text/plain": [
       "Index(['initial_list_status', 'purpose', 'grade', 'home_ownership',\n",
       "       'application_type'],\n",
       "      dtype='object')"
      ]
     },
     "execution_count": 149,
     "metadata": {},
     "output_type": "execute_result"
    }
   ],
   "source": [
    "x_train, x_test, y_train, y_test = train_test_split(x, y, test_size=0.3, random_state = 42)\n",
    "categorical_columns = x.columns[x.dtypes == 'object']\n",
    "categorical_columns"
   ]
  },
  {
   "cell_type": "code",
   "execution_count": 154,
   "metadata": {},
   "outputs": [
    {
     "data": {
      "text/plain": [
       "debt_consolidation    82494\n",
       "credit_card           27517\n",
       "home_improvement       8322\n",
       "other                  7876\n",
       "major_purchase         3443\n",
       "small_business         2665\n",
       "car                    1964\n",
       "medical                1589\n",
       "moving                 1163\n",
       "wedding                1028\n",
       "house                   895\n",
       "vacation                856\n",
       "educational             182\n",
       "renewable_energy        138\n",
       "Name: purpose, dtype: int64"
      ]
     },
     "execution_count": 154,
     "metadata": {},
     "output_type": "execute_result"
    }
   ],
   "source": [
    "x_train['purpose'].value_counts()"
   ]
  },
  {
   "cell_type": "code",
   "execution_count": 140,
   "metadata": {},
   "outputs": [
    {
     "name": "stdout",
     "output_type": "stream",
     "text": [
      "<class 'pandas.core.frame.DataFrame'>\n",
      "Int64Index: 140132 entries, 193136 to 121958\n",
      "Data columns (total 19 columns):\n",
      "annual_inc                    140132 non-null float64\n",
      "int_rate                      140132 non-null float64\n",
      "collections_12_mths_ex_med    140132 non-null float64\n",
      "initial_list_status           140132 non-null bool\n",
      "installment                   140132 non-null float64\n",
      "open_acc                      140132 non-null float64\n",
      "total_acc                     140132 non-null float64\n",
      "dti                           140132 non-null float64\n",
      "purpose                       140132 non-null object\n",
      "grade                         140132 non-null object\n",
      "home_ownership                140132 non-null object\n",
      "inq_last_6mths                140132 non-null float64\n",
      "pub_rec                       140132 non-null float64\n",
      "revol_bal                     140132 non-null float64\n",
      "revol_util                    140132 non-null float64\n",
      "tot_coll_amt                  140132 non-null float64\n",
      "loan_amnt                     140132 non-null float64\n",
      "application_type              140132 non-null bool\n",
      "acc_now_delinq                140132 non-null float64\n",
      "dtypes: bool(2), float64(14), object(3)\n",
      "memory usage: 19.5+ MB\n"
     ]
    }
   ],
   "source": [
    "x_train['initial_list_status'] = x_train['initial_list_status'].astype('str').map({'f': bool(1), 'w': bool(0)}) # Label encoder\n",
    "x_train['application_type'] = x_train['application_type'].astype('str').map(lambda x: bool(1) if x == 'INDIVIDUAL' else bool(0))\n",
    "x_test['initial_list_status'] = x_test['initial_list_status'].astype('str').map({'f': bool(1), 'w': bool(0)}) # Label encoder\n",
    "x_test['application_type'] = x_test['application_type'].astype('str').map(lambda x: bool(1) if x == 'INDIVIDUAL' else bool(0))\n",
    "categorical_columns = x.columns[x.dtypes == 'object']\n"
   ]
  },
  {
   "cell_type": "code",
   "execution_count": 127,
   "metadata": {},
   "outputs": [],
   "source": [
    "params = {\n",
    "    'boosting_type': 'dart',\n",
    "    'objective': 'binary',\n",
    "    'metric': {'auc'},\n",
    "    'num_leaves': 20,\n",
    "    'max_depth' : 6,\n",
    "    'max_bin':100,\n",
    "    'learning_rate':  0.35,\n",
    "    'feature_fraction': 0.7,\n",
    "    'bagging_fraction': 0.8,\n",
    "    'bagging_freq': 5,\n",
    "    'lambda_l1' : 32,\n",
    "    'verbose': 0}"
   ]
  },
  {
   "cell_type": "code",
   "execution_count": 128,
   "metadata": {},
   "outputs": [
    {
     "data": {
      "text/plain": [
       "{'boosting_type': 'dart',\n",
       " 'objective': 'binary',\n",
       " 'metric': {'auc'},\n",
       " 'num_leaves': 20,\n",
       " 'max_depth': 6,\n",
       " 'max_bin': 100,\n",
       " 'learning_rate': 0.35,\n",
       " 'feature_fraction': 0.7,\n",
       " 'bagging_fraction': 0.8,\n",
       " 'bagging_freq': 5,\n",
       " 'lambda_l1': 32,\n",
       " 'verbose': 0}"
      ]
     },
     "execution_count": 128,
     "metadata": {},
     "output_type": "execute_result"
    }
   ],
   "source": [
    "params"
   ]
  },
  {
   "cell_type": "code",
   "execution_count": 129,
   "metadata": {},
   "outputs": [
    {
     "data": {
      "text/html": [
       "<div>\n",
       "<style scoped>\n",
       "    .dataframe tbody tr th:only-of-type {\n",
       "        vertical-align: middle;\n",
       "    }\n",
       "\n",
       "    .dataframe tbody tr th {\n",
       "        vertical-align: top;\n",
       "    }\n",
       "\n",
       "    .dataframe thead th {\n",
       "        text-align: right;\n",
       "    }\n",
       "</style>\n",
       "<table border=\"1\" class=\"dataframe\">\n",
       "  <thead>\n",
       "    <tr style=\"text-align: right;\">\n",
       "      <th></th>\n",
       "      <th>acc_now_delinq</th>\n",
       "      <th>annual_inc</th>\n",
       "      <th>application_type</th>\n",
       "      <th>collections_12_mths_ex_med</th>\n",
       "      <th>dti</th>\n",
       "      <th>grade_A</th>\n",
       "      <th>grade_B</th>\n",
       "      <th>grade_C</th>\n",
       "      <th>grade_D</th>\n",
       "      <th>grade_E</th>\n",
       "      <th>...</th>\n",
       "      <th>purpose_moving</th>\n",
       "      <th>purpose_other</th>\n",
       "      <th>purpose_renewable_energy</th>\n",
       "      <th>purpose_small_business</th>\n",
       "      <th>purpose_vacation</th>\n",
       "      <th>purpose_wedding</th>\n",
       "      <th>revol_bal</th>\n",
       "      <th>revol_util</th>\n",
       "      <th>tot_coll_amt</th>\n",
       "      <th>total_acc</th>\n",
       "    </tr>\n",
       "  </thead>\n",
       "  <tbody>\n",
       "    <tr>\n",
       "      <th>193136</th>\n",
       "      <td>0.0</td>\n",
       "      <td>75000.0</td>\n",
       "      <td>True</td>\n",
       "      <td>0.0</td>\n",
       "      <td>26.85</td>\n",
       "      <td>0</td>\n",
       "      <td>1</td>\n",
       "      <td>0</td>\n",
       "      <td>0</td>\n",
       "      <td>0</td>\n",
       "      <td>...</td>\n",
       "      <td>0</td>\n",
       "      <td>0</td>\n",
       "      <td>0</td>\n",
       "      <td>0</td>\n",
       "      <td>0</td>\n",
       "      <td>0</td>\n",
       "      <td>38230.0</td>\n",
       "      <td>87.7</td>\n",
       "      <td>0.0</td>\n",
       "      <td>42.0</td>\n",
       "    </tr>\n",
       "    <tr>\n",
       "      <th>27784</th>\n",
       "      <td>0.0</td>\n",
       "      <td>73000.0</td>\n",
       "      <td>True</td>\n",
       "      <td>0.0</td>\n",
       "      <td>16.47</td>\n",
       "      <td>0</td>\n",
       "      <td>0</td>\n",
       "      <td>0</td>\n",
       "      <td>1</td>\n",
       "      <td>0</td>\n",
       "      <td>...</td>\n",
       "      <td>0</td>\n",
       "      <td>0</td>\n",
       "      <td>0</td>\n",
       "      <td>0</td>\n",
       "      <td>0</td>\n",
       "      <td>0</td>\n",
       "      <td>9874.0</td>\n",
       "      <td>41.0</td>\n",
       "      <td>0.0</td>\n",
       "      <td>38.0</td>\n",
       "    </tr>\n",
       "    <tr>\n",
       "      <th>157132</th>\n",
       "      <td>0.0</td>\n",
       "      <td>200000.0</td>\n",
       "      <td>True</td>\n",
       "      <td>0.0</td>\n",
       "      <td>13.50</td>\n",
       "      <td>1</td>\n",
       "      <td>0</td>\n",
       "      <td>0</td>\n",
       "      <td>0</td>\n",
       "      <td>0</td>\n",
       "      <td>...</td>\n",
       "      <td>0</td>\n",
       "      <td>0</td>\n",
       "      <td>0</td>\n",
       "      <td>0</td>\n",
       "      <td>0</td>\n",
       "      <td>0</td>\n",
       "      <td>34550.0</td>\n",
       "      <td>63.0</td>\n",
       "      <td>0.0</td>\n",
       "      <td>37.0</td>\n",
       "    </tr>\n",
       "    <tr>\n",
       "      <th>81962</th>\n",
       "      <td>0.0</td>\n",
       "      <td>100000.0</td>\n",
       "      <td>True</td>\n",
       "      <td>0.0</td>\n",
       "      <td>20.48</td>\n",
       "      <td>0</td>\n",
       "      <td>0</td>\n",
       "      <td>0</td>\n",
       "      <td>1</td>\n",
       "      <td>0</td>\n",
       "      <td>...</td>\n",
       "      <td>0</td>\n",
       "      <td>0</td>\n",
       "      <td>0</td>\n",
       "      <td>0</td>\n",
       "      <td>0</td>\n",
       "      <td>0</td>\n",
       "      <td>88599.0</td>\n",
       "      <td>60.9</td>\n",
       "      <td>0.0</td>\n",
       "      <td>36.0</td>\n",
       "    </tr>\n",
       "    <tr>\n",
       "      <th>161</th>\n",
       "      <td>0.0</td>\n",
       "      <td>65000.0</td>\n",
       "      <td>True</td>\n",
       "      <td>0.0</td>\n",
       "      <td>14.00</td>\n",
       "      <td>0</td>\n",
       "      <td>0</td>\n",
       "      <td>1</td>\n",
       "      <td>0</td>\n",
       "      <td>0</td>\n",
       "      <td>...</td>\n",
       "      <td>0</td>\n",
       "      <td>0</td>\n",
       "      <td>0</td>\n",
       "      <td>0</td>\n",
       "      <td>0</td>\n",
       "      <td>0</td>\n",
       "      <td>10948.0</td>\n",
       "      <td>43.6</td>\n",
       "      <td>0.0</td>\n",
       "      <td>19.0</td>\n",
       "    </tr>\n",
       "  </tbody>\n",
       "</table>\n",
       "<p>5 rows × 43 columns</p>\n",
       "</div>"
      ],
      "text/plain": [
       "        acc_now_delinq  annual_inc  application_type  \\\n",
       "193136             0.0     75000.0              True   \n",
       "27784              0.0     73000.0              True   \n",
       "157132             0.0    200000.0              True   \n",
       "81962              0.0    100000.0              True   \n",
       "161                0.0     65000.0              True   \n",
       "\n",
       "        collections_12_mths_ex_med    dti  grade_A  grade_B  grade_C  grade_D  \\\n",
       "193136                         0.0  26.85        0        1        0        0   \n",
       "27784                          0.0  16.47        0        0        0        1   \n",
       "157132                         0.0  13.50        1        0        0        0   \n",
       "81962                          0.0  20.48        0        0        0        1   \n",
       "161                            0.0  14.00        0        0        1        0   \n",
       "\n",
       "        grade_E  ...  purpose_moving  purpose_other  purpose_renewable_energy  \\\n",
       "193136        0  ...               0              0                         0   \n",
       "27784         0  ...               0              0                         0   \n",
       "157132        0  ...               0              0                         0   \n",
       "81962         0  ...               0              0                         0   \n",
       "161           0  ...               0              0                         0   \n",
       "\n",
       "        purpose_small_business  purpose_vacation  purpose_wedding  revol_bal  \\\n",
       "193136                       0                 0                0    38230.0   \n",
       "27784                        0                 0                0     9874.0   \n",
       "157132                       0                 0                0    34550.0   \n",
       "81962                        0                 0                0    88599.0   \n",
       "161                          0                 0                0    10948.0   \n",
       "\n",
       "        revol_util  tot_coll_amt  total_acc  \n",
       "193136        87.7           0.0       42.0  \n",
       "27784         41.0           0.0       38.0  \n",
       "157132        63.0           0.0       37.0  \n",
       "81962         60.9           0.0       36.0  \n",
       "161           43.6           0.0       19.0  \n",
       "\n",
       "[5 rows x 43 columns]"
      ]
     },
     "execution_count": 129,
     "metadata": {},
     "output_type": "execute_result"
    }
   ],
   "source": [
    "x_train.head()"
   ]
  },
  {
   "cell_type": "code",
   "execution_count": 130,
   "metadata": {},
   "outputs": [],
   "source": [
    "lgb_train = lgb.Dataset(x_train, y_train, free_raw_data=False)\n",
    "lgb_eval = lgb.Dataset(x_test, y_test, reference=lgb_train, free_raw_data=False)"
   ]
  },
  {
   "cell_type": "code",
   "execution_count": 131,
   "metadata": {},
   "outputs": [],
   "source": [
    "evals_result = {}"
   ]
  },
  {
   "cell_type": "code",
   "execution_count": 132,
   "metadata": {},
   "outputs": [],
   "source": [
    "num_train, num_feature = x_train.shape\n",
    "feature_name = ['feature_' + str(col) for col in range(num_feature)]"
   ]
  },
  {
   "cell_type": "code",
   "execution_count": null,
   "metadata": {},
   "outputs": [],
   "source": []
  },
  {
   "cell_type": "code",
   "execution_count": 133,
   "metadata": {
    "scrolled": false
   },
   "outputs": [
    {
     "name": "stdout",
     "output_type": "stream",
     "text": [
      "[100]\ttraining's auc: 0.720699\tvalid_1's auc: 0.708299\n",
      "[200]\ttraining's auc: 0.726036\tvalid_1's auc: 0.709584\n",
      "[300]\ttraining's auc: 0.730732\tvalid_1's auc: 0.710076\n",
      "[400]\ttraining's auc: 0.734714\tvalid_1's auc: 0.71066\n",
      "[500]\ttraining's auc: 0.738471\tvalid_1's auc: 0.710405\n",
      "[600]\ttraining's auc: 0.739775\tvalid_1's auc: 0.710752\n",
      "[700]\ttraining's auc: 0.742352\tvalid_1's auc: 0.711178\n",
      "[800]\ttraining's auc: 0.744439\tvalid_1's auc: 0.710858\n",
      "[900]\ttraining's auc: 0.746693\tvalid_1's auc: 0.710874\n",
      "[1000]\ttraining's auc: 0.748546\tvalid_1's auc: 0.710658\n",
      "[1100]\ttraining's auc: 0.750315\tvalid_1's auc: 0.709928\n",
      "[1200]\ttraining's auc: 0.751638\tvalid_1's auc: 0.709708\n",
      "[1300]\ttraining's auc: 0.75301\tvalid_1's auc: 0.709218\n",
      "[1400]\ttraining's auc: 0.755273\tvalid_1's auc: 0.708481\n",
      "[1500]\ttraining's auc: 0.756091\tvalid_1's auc: 0.708636\n",
      "[1600]\ttraining's auc: 0.757775\tvalid_1's auc: 0.708289\n",
      "[1700]\ttraining's auc: 0.759684\tvalid_1's auc: 0.708028\n",
      "[1800]\ttraining's auc: 0.761302\tvalid_1's auc: 0.707554\n",
      "[1900]\ttraining's auc: 0.7632\tvalid_1's auc: 0.707521\n",
      "[2000]\ttraining's auc: 0.764286\tvalid_1's auc: 0.707136\n",
      "[2100]\ttraining's auc: 0.766443\tvalid_1's auc: 0.706836\n",
      "[2200]\ttraining's auc: 0.768052\tvalid_1's auc: 0.706818\n",
      "[2300]\ttraining's auc: 0.769818\tvalid_1's auc: 0.70626\n",
      "[2400]\ttraining's auc: 0.771822\tvalid_1's auc: 0.705925\n",
      "[2500]\ttraining's auc: 0.773159\tvalid_1's auc: 0.705659\n",
      "[2600]\ttraining's auc: 0.774375\tvalid_1's auc: 0.705493\n",
      "[2700]\ttraining's auc: 0.775843\tvalid_1's auc: 0.705314\n",
      "[2800]\ttraining's auc: 0.776783\tvalid_1's auc: 0.704982\n",
      "[2900]\ttraining's auc: 0.777949\tvalid_1's auc: 0.704872\n",
      "[3000]\ttraining's auc: 0.779499\tvalid_1's auc: 0.704486\n",
      "[3100]\ttraining's auc: 0.780948\tvalid_1's auc: 0.704135\n",
      "[3200]\ttraining's auc: 0.78203\tvalid_1's auc: 0.703963\n",
      "[3300]\ttraining's auc: 0.783242\tvalid_1's auc: 0.703805\n",
      "[3400]\ttraining's auc: 0.785096\tvalid_1's auc: 0.703107\n",
      "[3500]\ttraining's auc: 0.786311\tvalid_1's auc: 0.702761\n",
      "[3600]\ttraining's auc: 0.787844\tvalid_1's auc: 0.702264\n",
      "[3700]\ttraining's auc: 0.789103\tvalid_1's auc: 0.702525\n",
      "[3800]\ttraining's auc: 0.790729\tvalid_1's auc: 0.70229\n",
      "[3900]\ttraining's auc: 0.792012\tvalid_1's auc: 0.701814\n",
      "[4000]\ttraining's auc: 0.79301\tvalid_1's auc: 0.701848\n"
     ]
    }
   ],
   "source": [
    "gbm = lgb.train(params,\n",
    "                lgb_train,\n",
    "                num_boost_round=4000,\n",
    "                valid_sets=[lgb_train, lgb_eval],\n",
    "               # feature_name=feature_name,              \n",
    "              #  categorical_feature= categorical_features_indices,\n",
    "             #   learning_rates=lambda iter: 0.05 * (0.99 ** iter),\n",
    "                evals_result=evals_result,\n",
    "                verbose_eval=100)"
   ]
  },
  {
   "cell_type": "code",
   "execution_count": 134,
   "metadata": {},
   "outputs": [
    {
     "data": {
      "image/png": "[encoded data removed]",
      "text/plain": [
       "<Figure size 432x288 with 1 Axes>"
      ]
     },
     "metadata": {
      "needs_background": "light"
     },
     "output_type": "display_data"
    }
   ],
   "source": [
    "lgb.plot_metric(evals_result, metric='auc')\n",
    "plt.show()"
   ]
  },
  {
   "cell_type": "code",
   "execution_count": null,
   "metadata": {},
   "outputs": [],
   "source": []
  },
  {
   "cell_type": "code",
   "execution_count": null,
   "metadata": {},
   "outputs": [],
   "source": []
  }
 ],
 "metadata": {
  "kernelspec": {
   "display_name": "Python 3",
   "language": "python",
   "name": "python3"
  },
  "language_info": {
   "codemirror_mode": {
    "name": "ipython",
    "version": 3
   },
   "file_extension": ".py",
   "mimetype": "text/x-python",
   "name": "python",
   "nbconvert_exporter": "python",
   "pygments_lexer": "ipython3",
   "version": "3.7.2"
  }
 },
 "nbformat": 4,
 "nbformat_minor": 2
}
