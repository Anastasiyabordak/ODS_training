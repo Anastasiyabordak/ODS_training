{
 "cells": [
  {
   "cell_type": "markdown",
   "metadata": {},
   "source": [
    "#### Для корректной работы нужно\n",
    "* переместить файлы test.csv & train.csv в директорию data/\n",
    "* скачать [graphviz](http://www.graphviz.org/download)  \n",
    "* вылетает ошибка [“dot.exe” not found in path](https://stackoverflow.com/questions/40632486/dot-exe-not-found-in-path-pydot-on-python-windows-7)"
   ]
  },
  {
   "cell_type": "code",
   "execution_count": 1,
   "metadata": {},
   "outputs": [],
   "source": [
    "import pandas as pd\n",
    "import sys\n",
    "import numpy as np\n",
    "from sklearn.model_selection import train_test_split\n",
    "from sklearn.metrics import mean_squared_error, r2_score\n",
    "from sklearn.preprocessing import StandardScaler  \n",
    "from sklearn.model_selection import cross_validate\n",
    "from sklearn.metrics import recall_score, roc_auc_score,precision_score,accuracy_score,roc_curve,make_scorer\n",
    "import matplotlib.pyplot as plt\n",
    "pd.options.mode.chained_assignment = None "
   ]
  },
  {
   "cell_type": "code",
   "execution_count": 2,
   "metadata": {
    "scrolled": false
   },
   "outputs": [
    {
     "data": {
      "text/html": [
       "<div>\n",
       "<style scoped>\n",
       "    .dataframe tbody tr th:only-of-type {\n",
       "        vertical-align: middle;\n",
       "    }\n",
       "\n",
       "    .dataframe tbody tr th {\n",
       "        vertical-align: top;\n",
       "    }\n",
       "\n",
       "    .dataframe thead th {\n",
       "        text-align: right;\n",
       "    }\n",
       "</style>\n",
       "<table border=\"1\" class=\"dataframe\">\n",
       "  <thead>\n",
       "    <tr style=\"text-align: right;\">\n",
       "      <th></th>\n",
       "      <th>loan_amnt</th>\n",
       "      <th>term</th>\n",
       "      <th>int_rate</th>\n",
       "      <th>installment</th>\n",
       "      <th>grade</th>\n",
       "      <th>sub_grade</th>\n",
       "      <th>emp_title</th>\n",
       "      <th>emp_length</th>\n",
       "      <th>home_ownership</th>\n",
       "      <th>annual_inc</th>\n",
       "      <th>...</th>\n",
       "      <th>total_acc</th>\n",
       "      <th>initial_list_status</th>\n",
       "      <th>collections_12_mths_ex_med</th>\n",
       "      <th>policy_code</th>\n",
       "      <th>application_type</th>\n",
       "      <th>acc_now_delinq</th>\n",
       "      <th>tot_coll_amt</th>\n",
       "      <th>tot_cur_bal</th>\n",
       "      <th>total_rev_hi_lim</th>\n",
       "      <th>record_id</th>\n",
       "    </tr>\n",
       "  </thead>\n",
       "  <tbody>\n",
       "    <tr>\n",
       "      <th>0</th>\n",
       "      <td>15000.0</td>\n",
       "      <td>36 months</td>\n",
       "      <td>11.99</td>\n",
       "      <td>498.15</td>\n",
       "      <td>B</td>\n",
       "      <td>B3</td>\n",
       "      <td>Quality Assurance Specialist</td>\n",
       "      <td>4 years</td>\n",
       "      <td>MORTGAGE</td>\n",
       "      <td>70000.0</td>\n",
       "      <td>...</td>\n",
       "      <td>32.0</td>\n",
       "      <td>f</td>\n",
       "      <td>0.0</td>\n",
       "      <td>1.0</td>\n",
       "      <td>INDIVIDUAL</td>\n",
       "      <td>0.0</td>\n",
       "      <td>0.0</td>\n",
       "      <td>295215.0</td>\n",
       "      <td>20500.0</td>\n",
       "      <td>453246940</td>\n",
       "    </tr>\n",
       "    <tr>\n",
       "      <th>1</th>\n",
       "      <td>3725.0</td>\n",
       "      <td>36 months</td>\n",
       "      <td>6.03</td>\n",
       "      <td>113.38</td>\n",
       "      <td>A</td>\n",
       "      <td>A1</td>\n",
       "      <td>NaN</td>\n",
       "      <td>NaN</td>\n",
       "      <td>MORTGAGE</td>\n",
       "      <td>52260.0</td>\n",
       "      <td>...</td>\n",
       "      <td>9.0</td>\n",
       "      <td>f</td>\n",
       "      <td>0.0</td>\n",
       "      <td>1.0</td>\n",
       "      <td>INDIVIDUAL</td>\n",
       "      <td>0.0</td>\n",
       "      <td>0.0</td>\n",
       "      <td>25130.0</td>\n",
       "      <td>14200.0</td>\n",
       "      <td>453313687</td>\n",
       "    </tr>\n",
       "    <tr>\n",
       "      <th>2</th>\n",
       "      <td>16000.0</td>\n",
       "      <td>36 months</td>\n",
       "      <td>11.14</td>\n",
       "      <td>524.89</td>\n",
       "      <td>B</td>\n",
       "      <td>B2</td>\n",
       "      <td>KIPP NYC</td>\n",
       "      <td>3 years</td>\n",
       "      <td>RENT</td>\n",
       "      <td>67500.0</td>\n",
       "      <td>...</td>\n",
       "      <td>22.0</td>\n",
       "      <td>f</td>\n",
       "      <td>0.0</td>\n",
       "      <td>1.0</td>\n",
       "      <td>INDIVIDUAL</td>\n",
       "      <td>0.0</td>\n",
       "      <td>193.0</td>\n",
       "      <td>41737.0</td>\n",
       "      <td>19448.0</td>\n",
       "      <td>453283543</td>\n",
       "    </tr>\n",
       "    <tr>\n",
       "      <th>3</th>\n",
       "      <td>4200.0</td>\n",
       "      <td>36 months</td>\n",
       "      <td>13.33</td>\n",
       "      <td>142.19</td>\n",
       "      <td>C</td>\n",
       "      <td>C3</td>\n",
       "      <td>Receptionist</td>\n",
       "      <td>&lt; 1 year</td>\n",
       "      <td>MORTGAGE</td>\n",
       "      <td>21600.0</td>\n",
       "      <td>...</td>\n",
       "      <td>19.0</td>\n",
       "      <td>w</td>\n",
       "      <td>0.0</td>\n",
       "      <td>1.0</td>\n",
       "      <td>INDIVIDUAL</td>\n",
       "      <td>0.0</td>\n",
       "      <td>165.0</td>\n",
       "      <td>28187.0</td>\n",
       "      <td>14500.0</td>\n",
       "      <td>453447199</td>\n",
       "    </tr>\n",
       "    <tr>\n",
       "      <th>4</th>\n",
       "      <td>6500.0</td>\n",
       "      <td>36 months</td>\n",
       "      <td>12.69</td>\n",
       "      <td>218.05</td>\n",
       "      <td>B</td>\n",
       "      <td>B5</td>\n",
       "      <td>Medtox Laboratories</td>\n",
       "      <td>10+ years</td>\n",
       "      <td>RENT</td>\n",
       "      <td>41000.0</td>\n",
       "      <td>...</td>\n",
       "      <td>12.0</td>\n",
       "      <td>f</td>\n",
       "      <td>0.0</td>\n",
       "      <td>1.0</td>\n",
       "      <td>INDIVIDUAL</td>\n",
       "      <td>0.0</td>\n",
       "      <td>NaN</td>\n",
       "      <td>NaN</td>\n",
       "      <td>NaN</td>\n",
       "      <td>453350283</td>\n",
       "    </tr>\n",
       "  </tbody>\n",
       "</table>\n",
       "<p>5 rows × 36 columns</p>\n",
       "</div>"
      ],
      "text/plain": [
       "   loan_amnt        term  int_rate  installment grade sub_grade  \\\n",
       "0    15000.0   36 months     11.99       498.15     B        B3   \n",
       "1     3725.0   36 months      6.03       113.38     A        A1   \n",
       "2    16000.0   36 months     11.14       524.89     B        B2   \n",
       "3     4200.0   36 months     13.33       142.19     C        C3   \n",
       "4     6500.0   36 months     12.69       218.05     B        B5   \n",
       "\n",
       "                      emp_title emp_length home_ownership  annual_inc  ...  \\\n",
       "0  Quality Assurance Specialist    4 years       MORTGAGE     70000.0  ...   \n",
       "1                           NaN        NaN       MORTGAGE     52260.0  ...   \n",
       "2                     KIPP NYC     3 years           RENT     67500.0  ...   \n",
       "3                  Receptionist   < 1 year       MORTGAGE     21600.0  ...   \n",
       "4           Medtox Laboratories  10+ years           RENT     41000.0  ...   \n",
       "\n",
       "  total_acc initial_list_status  collections_12_mths_ex_med policy_code  \\\n",
       "0      32.0                   f                         0.0         1.0   \n",
       "1       9.0                   f                         0.0         1.0   \n",
       "2      22.0                   f                         0.0         1.0   \n",
       "3      19.0                   w                         0.0         1.0   \n",
       "4      12.0                   f                         0.0         1.0   \n",
       "\n",
       "  application_type acc_now_delinq tot_coll_amt  tot_cur_bal  total_rev_hi_lim  \\\n",
       "0       INDIVIDUAL            0.0          0.0     295215.0           20500.0   \n",
       "1       INDIVIDUAL            0.0          0.0      25130.0           14200.0   \n",
       "2       INDIVIDUAL            0.0        193.0      41737.0           19448.0   \n",
       "3       INDIVIDUAL            0.0        165.0      28187.0           14500.0   \n",
       "4       INDIVIDUAL            0.0          NaN          NaN               NaN   \n",
       "\n",
       "   record_id  \n",
       "0  453246940  \n",
       "1  453313687  \n",
       "2  453283543  \n",
       "3  453447199  \n",
       "4  453350283  \n",
       "\n",
       "[5 rows x 36 columns]"
      ]
     },
     "execution_count": 2,
     "metadata": {},
     "output_type": "execute_result"
    }
   ],
   "source": [
    "train = pd.read_csv('data/train.csv')\n",
    "train.head()"
   ]
  },
  {
   "cell_type": "code",
   "execution_count": 3,
   "metadata": {},
   "outputs": [
    {
     "name": "stdout",
     "output_type": "stream",
     "text": [
      "<class 'pandas.core.frame.DataFrame'>\n",
      "RangeIndex: 200189 entries, 0 to 200188\n",
      "Data columns (total 36 columns):\n",
      "loan_amnt                     200189 non-null float64\n",
      "term                          200189 non-null object\n",
      "int_rate                      200189 non-null float64\n",
      "installment                   200189 non-null float64\n",
      "grade                         200189 non-null object\n",
      "sub_grade                     200189 non-null object\n",
      "emp_title                     189062 non-null object\n",
      "emp_length                    192135 non-null object\n",
      "home_ownership                200189 non-null object\n",
      "annual_inc                    200189 non-null float64\n",
      "verification_status           200189 non-null object\n",
      "issue_d                       200189 non-null object\n",
      "loan_status                   200189 non-null int64\n",
      "pymnt_plan                    200189 non-null object\n",
      "purpose                       200189 non-null object\n",
      "zip_code                      200189 non-null object\n",
      "addr_state                    200189 non-null object\n",
      "dti                           200189 non-null float64\n",
      "delinq_2yrs                   200189 non-null float64\n",
      "earliest_cr_line              200189 non-null object\n",
      "inq_last_6mths                200189 non-null float64\n",
      "mths_since_last_delinq        89621 non-null float64\n",
      "open_acc                      200189 non-null float64\n",
      "pub_rec                       200189 non-null float64\n",
      "revol_bal                     200189 non-null float64\n",
      "revol_util                    200035 non-null float64\n",
      "total_acc                     200189 non-null float64\n",
      "initial_list_status           200189 non-null object\n",
      "collections_12_mths_ex_med    200145 non-null float64\n",
      "policy_code                   200189 non-null float64\n",
      "application_type              200189 non-null object\n",
      "acc_now_delinq                200189 non-null float64\n",
      "tot_coll_amt                  152232 non-null float64\n",
      "tot_cur_bal                   152232 non-null float64\n",
      "total_rev_hi_lim              152232 non-null float64\n",
      "record_id                     200189 non-null int64\n",
      "dtypes: float64(19), int64(2), object(15)\n",
      "memory usage: 55.0+ MB\n"
     ]
    }
   ],
   "source": [
    "train.info()"
   ]
  },
  {
   "cell_type": "markdown",
   "metadata": {},
   "source": [
    "* int_rate - Interest Rate on the loan\n",
    "* annual_inc - Theannual income provided by the borrower during registration\n",
    "* inq_last_6mths -The number of inquiries in past 6 months (excluding auto and mortgage inquiries)\n",
    "* mths_since_last_delinq  - Months since most recent personal finance delinquency.\n",
    "* pub_rec  - Number of derogatory public records\n",
    "* revolBal - Total credit revolving balance\n",
    "* revolUtil - Revolving line utilization rate, or the amount of credit the borrower is using relative to all available revolving credit.\n",
    "* loan_amnt  - The listed amount of the loan applied for by the borrower. If at some point in time, the credit department reduces the loan amount, then it will be reflected in this value.\n",
    "* installment - The monthly payment owed by the borrower if the loan originates.\n",
    "* home_ownership    \n",
    "* emp_title                   \n",
    "* annual_inc                  \n",
    "* verification_status  - Indicates if the co-borrowers' joint income was verified by LC, not verified, or if the income source was verified\n",
    "* purpose                 \n",
    "* dti -  A ratio calculated using the borrower’s total monthly debt payments on the total debt obligations, excluding mortgage and the requested LC loan, divided by the borrower’s self-reported monthly income.\n",
    "* open_acc                  \n",
    "* total_acc                    \n",
    "* initial_list_status - The initial listing status of the loan. Possible values are – W, F           \n",
    "* collections_12_mths_ex_med - Number of collections in 12 months excluding medical collections\n",
    "* application_type - Indicates whether the loan is an individual application or a joint application with two co-borrowers\n",
    "* acc_now_delinq - The number of accounts on which the borrower is now delinquent.\n"
   ]
  },
  {
   "cell_type": "markdown",
   "metadata": {},
   "source": [
    "## Начальная обработка данных:"
   ]
  },
  {
   "cell_type": "code",
   "execution_count": 103,
   "metadata": {},
   "outputs": [],
   "source": [
    "def Nan_killer(x):\n",
    "   # x['collections_12_mths_ex_med'] = x['collections_12_mths_ex_med'].fillna(0)\n",
    "    categorical_features_names = x_train.columns[x_train.dtypes == 'object']\n",
    "    if 'revol_utl' in categorical_features_names:\n",
    "        x['revol_util'] = x['revol_util'].fillna(-999)\n",
    "    if 'tot_coll_amt' in categorical_features_names:\n",
    "        x['tot_coll_amt'] = x['tot_coll_amt'].fillna(-999)\n",
    "    if 'tot_cur_bal' in categorical_features_names:\n",
    "        x['tot_cur_bal'] =  x['tot_cur_bal'].fillna(-999)\n",
    "    if 'total_rev_hi_lim' in categorical_features_names:\n",
    "         x['total_rev_hi_lim'] =  x['total_rev_hi_lim'].fillna(-999)"
   ]
  },
  {
   "cell_type": "code",
   "execution_count": 5,
   "metadata": {},
   "outputs": [],
   "source": [
    "def proc(x,y):\n",
    "    x_train, x_test, y_train, y_test = train_test_split(x, y, test_size=0.3, random_state = 42)\n",
    "    x_train['initial_list_status'] = x_train['initial_list_status'].astype('str').map({'f': bool(1), 'w': bool(0)}) # Label encoder\n",
    "    x_train['application_type'] = x_train['application_type'].astype('str').map(lambda x: bool(1) if x == 'INDIVIDUAL' else bool(0))\n",
    "    x_test['initial_list_status'] = x_test['initial_list_status'].astype('str').map({'f': bool(1), 'w': bool(0)}) # Label encoder\n",
    "    x_test['application_type'] = x_test['application_type'].astype('str').map(lambda x: bool(1) if x == 'INDIVIDUAL' else bool(0))\n",
    "    x_train = pd.get_dummies(x_train, columns = ['purpose','grade','home_ownership'])   # OHE (?????)\n",
    "    x_test = pd.get_dummies(x_test, columns = ['purpose','grade','home_ownership'])\n",
    "    for i in list(x_test): # удаление из тестовых данных столбцов, если их не было в тренировочных\n",
    "        if i not in list(x_train):\n",
    "            list(my_dataframe)\n",
    "            x_test.drop(i, axis=1, inplace=True)\n",
    "    for i in list(x_train): # добавление колонки с нулями, если такой нет в тестовой\n",
    "        if i not in list(x_test):\n",
    "            x_test[i] = 0\n",
    "    \n",
    "\n",
    "    x_test = x_test.reindex(sorted(x_test.columns), axis=1)\n",
    "    x_train = x_train.reindex(sorted(x_test.columns), axis=1)\n",
    "    return x_train, x_test, y_train, y_test"
   ]
  },
  {
   "cell_type": "markdown",
   "metadata": {},
   "source": [
    "## Функция для отображения метрик:\n",
    "* ROC-AUC\n",
    "* precision\n",
    "* recall\n",
    "* accuracy"
   ]
  },
  {
   "cell_type": "code",
   "execution_count": 6,
   "metadata": {},
   "outputs": [],
   "source": [
    "\n",
    "def show_scores(model, x_test, y_test):\n",
    "    pred =  model.predict(x_test)\n",
    "    print('Recall: %.2f' % recall_score(y_test,pred))\n",
    "    print('Precision score: %.2f' % precision_score(y_test,pred))\n",
    "    print('Accuracy score: %.2f' % accuracy_score(y_test, pred))\n",
    " "
   ]
  },
  {
   "cell_type": "code",
   "execution_count": 7,
   "metadata": {},
   "outputs": [],
   "source": [
    "def plot_roc(model, x_test, y_test):  \n",
    "    pred = model.predict_proba(x_test)\n",
    "    print(\"ROC-AUC score: \", roc_auc_score(y_test, pred[:, 1]))\n",
    "    fpr, tpr,_=roc_curve(y_test,pred[:, 1],drop_intermediate=True)\n",
    "    plt.figure()\n",
    "    plt.plot(fpr, tpr, color='red',\n",
    "            lw=2, label='ROC curve')\n",
    "    plt.plot([0, 1], [0, 1], color='blue', lw=2, linestyle='--')\n",
    "    plt.xlabel('FPR')\n",
    "    plt.ylabel('TPR')\n",
    "    plt.title('ROC curve')\n",
    "    plt.show()"
   ]
  },
  {
   "cell_type": "markdown",
   "metadata": {},
   "source": [
    "# Регрессия"
   ]
  },
  {
   "cell_type": "code",
   "execution_count": 38,
   "metadata": {},
   "outputs": [],
   "source": [
    "from sklearn import linear_model\n",
    "from sklearn.tree import DecisionTreeRegressor"
   ]
  },
  {
   "cell_type": "code",
   "execution_count": 191,
   "metadata": {},
   "outputs": [],
   "source": [
    "y = train[train['int_rate'] >= 0]['int_rate'] # целевой признак\n",
    "x = train.loc[:,['annual_inc','collections_12_mths_ex_med','initial_list_status',\n",
    "                 'installment','open_acc','total_acc','dti','purpose',\n",
    "                 'grade','home_ownership','inq_last_6mths','pub_rec','revol_bal','revol_util','loan_status',\n",
    "                 'tot_coll_amt','loan_amnt','application_type','acc_now_delinq' ] ] # параметры\n",
    "x.info()"
   ]
  },
  {
   "cell_type": "code",
   "execution_count": 195,
   "metadata": {},
   "outputs": [
    {
     "name": "stdout",
     "output_type": "stream",
     "text": [
      "<class 'pandas.core.frame.DataFrame'>\n",
      "RangeIndex: 200189 entries, 0 to 200188\n",
      "Data columns (total 15 columns):\n",
      "annual_inc             200189 non-null float64\n",
      "initial_list_status    200189 non-null object\n",
      "installment            200189 non-null float64\n",
      "open_acc               200189 non-null float64\n",
      "total_acc              200189 non-null float64\n",
      "dti                    200189 non-null float64\n",
      "purpose                200189 non-null object\n",
      "grade                  200189 non-null object\n",
      "home_ownership         200189 non-null object\n",
      "inq_last_6mths         200189 non-null float64\n",
      "revol_bal              200189 non-null float64\n",
      "revol_util             200189 non-null float64\n",
      "loan_status            200189 non-null int64\n",
      "tot_coll_amt           200189 non-null float64\n",
      "loan_amnt              200189 non-null float64\n",
      "dtypes: float64(10), int64(1), object(4)\n",
      "memory usage: 22.9+ MB\n"
     ]
    }
   ],
   "source": [
    "#NaN killer\n",
    "Nan_killer(x)\n",
    "x.info()"
   ]
  },
  {
   "cell_type": "code",
   "execution_count": 196,
   "metadata": {},
   "outputs": [
    {
     "data": {
      "text/plain": [
       "annual_inc             16284\n",
       "initial_list_status        2\n",
       "installment            41347\n",
       "open_acc                  58\n",
       "total_acc                105\n",
       "dti                     3975\n",
       "purpose                   14\n",
       "grade                      7\n",
       "home_ownership             6\n",
       "inq_last_6mths             9\n",
       "revol_bal              44045\n",
       "revol_util              1180\n",
       "loan_status                2\n",
       "tot_coll_amt            3646\n",
       "loan_amnt               1317\n",
       "dtype: int64"
      ]
     },
     "execution_count": 196,
     "metadata": {},
     "output_type": "execute_result"
    }
   ],
   "source": [
    "x.nunique()"
   ]
  },
  {
   "cell_type": "code",
   "execution_count": 42,
   "metadata": {},
   "outputs": [],
   "source": [
    "x_train, x_test, y_train, y_test = proc(x,y)"
   ]
  },
  {
   "cell_type": "code",
   "execution_count": 43,
   "metadata": {},
   "outputs": [
    {
     "name": "stdout",
     "output_type": "stream",
     "text": [
      "<class 'pandas.core.frame.DataFrame'>\n",
      "Int64Index: 140132 entries, 193136 to 121958\n",
      "Data columns (total 43 columns):\n",
      "acc_now_delinq                140132 non-null float64\n",
      "annual_inc                    140132 non-null float64\n",
      "application_type              140132 non-null int64\n",
      "collections_12_mths_ex_med    140132 non-null float64\n",
      "dti                           140132 non-null float64\n",
      "grade_A                       140132 non-null uint8\n",
      "grade_B                       140132 non-null uint8\n",
      "grade_C                       140132 non-null uint8\n",
      "grade_D                       140132 non-null uint8\n",
      "grade_E                       140132 non-null uint8\n",
      "grade_F                       140132 non-null uint8\n",
      "grade_G                       140132 non-null uint8\n",
      "home_ownership_ANY            140132 non-null uint8\n",
      "home_ownership_MORTGAGE       140132 non-null uint8\n",
      "home_ownership_NONE           140132 non-null uint8\n",
      "home_ownership_OTHER          140132 non-null uint8\n",
      "home_ownership_OWN            140132 non-null uint8\n",
      "home_ownership_RENT           140132 non-null uint8\n",
      "initial_list_status           140132 non-null int64\n",
      "inq_last_6mths                140132 non-null float64\n",
      "installment                   140132 non-null float64\n",
      "loan_amnt                     140132 non-null float64\n",
      "loan_status                   140132 non-null int64\n",
      "open_acc                      140132 non-null float64\n",
      "pub_rec                       140132 non-null float64\n",
      "purpose_car                   140132 non-null uint8\n",
      "purpose_credit_card           140132 non-null uint8\n",
      "purpose_debt_consolidation    140132 non-null uint8\n",
      "purpose_educational           140132 non-null uint8\n",
      "purpose_home_improvement      140132 non-null uint8\n",
      "purpose_house                 140132 non-null uint8\n",
      "purpose_major_purchase        140132 non-null uint8\n",
      "purpose_medical               140132 non-null uint8\n",
      "purpose_moving                140132 non-null uint8\n",
      "purpose_other                 140132 non-null uint8\n",
      "purpose_renewable_energy      140132 non-null uint8\n",
      "purpose_small_business        140132 non-null uint8\n",
      "purpose_vacation              140132 non-null uint8\n",
      "purpose_wedding               140132 non-null uint8\n",
      "revol_bal                     140132 non-null float64\n",
      "revol_util                    140132 non-null float64\n",
      "tot_coll_amt                  140132 non-null float64\n",
      "total_acc                     140132 non-null float64\n",
      "dtypes: float64(13), int64(3), uint8(27)\n",
      "memory usage: 21.8 MB\n"
     ]
    }
   ],
   "source": [
    "x_train.info()"
   ]
  },
  {
   "cell_type": "code",
   "execution_count": 44,
   "metadata": {},
   "outputs": [
    {
     "name": "stdout",
     "output_type": "stream",
     "text": [
      "<class 'pandas.core.frame.DataFrame'>\n",
      "Int64Index: 60057 entries, 8644 to 191094\n",
      "Data columns (total 43 columns):\n",
      "acc_now_delinq                60057 non-null float64\n",
      "annual_inc                    60057 non-null float64\n",
      "application_type              60057 non-null int64\n",
      "collections_12_mths_ex_med    60057 non-null float64\n",
      "dti                           60057 non-null float64\n",
      "grade_A                       60057 non-null uint8\n",
      "grade_B                       60057 non-null uint8\n",
      "grade_C                       60057 non-null uint8\n",
      "grade_D                       60057 non-null uint8\n",
      "grade_E                       60057 non-null uint8\n",
      "grade_F                       60057 non-null uint8\n",
      "grade_G                       60057 non-null uint8\n",
      "home_ownership_ANY            60057 non-null int64\n",
      "home_ownership_MORTGAGE       60057 non-null uint8\n",
      "home_ownership_NONE           60057 non-null uint8\n",
      "home_ownership_OTHER          60057 non-null uint8\n",
      "home_ownership_OWN            60057 non-null uint8\n",
      "home_ownership_RENT           60057 non-null uint8\n",
      "initial_list_status           60057 non-null int64\n",
      "inq_last_6mths                60057 non-null float64\n",
      "installment                   60057 non-null float64\n",
      "loan_amnt                     60057 non-null float64\n",
      "loan_status                   60057 non-null int64\n",
      "open_acc                      60057 non-null float64\n",
      "pub_rec                       60057 non-null float64\n",
      "purpose_car                   60057 non-null uint8\n",
      "purpose_credit_card           60057 non-null uint8\n",
      "purpose_debt_consolidation    60057 non-null uint8\n",
      "purpose_educational           60057 non-null uint8\n",
      "purpose_home_improvement      60057 non-null uint8\n",
      "purpose_house                 60057 non-null uint8\n",
      "purpose_major_purchase        60057 non-null uint8\n",
      "purpose_medical               60057 non-null uint8\n",
      "purpose_moving                60057 non-null uint8\n",
      "purpose_other                 60057 non-null uint8\n",
      "purpose_renewable_energy      60057 non-null uint8\n",
      "purpose_small_business        60057 non-null uint8\n",
      "purpose_vacation              60057 non-null uint8\n",
      "purpose_wedding               60057 non-null uint8\n",
      "revol_bal                     60057 non-null float64\n",
      "revol_util                    60057 non-null float64\n",
      "tot_coll_amt                  60057 non-null float64\n",
      "total_acc                     60057 non-null float64\n",
      "dtypes: float64(13), int64(4), uint8(26)\n",
      "memory usage: 9.7 MB\n"
     ]
    }
   ],
   "source": [
    "x_test.info()"
   ]
  },
  {
   "cell_type": "markdown",
   "metadata": {},
   "source": [
    "## Линейная регрессия  + Дерево решений (регрессия)"
   ]
  },
  {
   "cell_type": "code",
   "execution_count": 15,
   "metadata": {},
   "outputs": [],
   "source": [
    "lm = linear_model.Lasso(alpha=0.01,random_state = 42).fit(x_train,y_train)\n",
    "dec_reg = DecisionTreeRegressor(criterion='mse',max_depth=10, random_state=42, min_samples_leaf = 3).fit(x_train,y_train)"
   ]
  },
  {
   "cell_type": "code",
   "execution_count": 16,
   "metadata": {},
   "outputs": [],
   "source": [
    "from sklearn.metrics import r2_score"
   ]
  },
  {
   "cell_type": "code",
   "execution_count": 17,
   "metadata": {},
   "outputs": [
    {
     "data": {
      "text/plain": [
       "0.9146765103292894"
      ]
     },
     "execution_count": 17,
     "metadata": {},
     "output_type": "execute_result"
    }
   ],
   "source": [
    "r2_score(y_test, lm.predict(x_test))"
   ]
  },
  {
   "cell_type": "code",
   "execution_count": 18,
   "metadata": {},
   "outputs": [
    {
     "data": {
      "text/plain": [
       "0.9280174951473175"
      ]
     },
     "execution_count": 18,
     "metadata": {},
     "output_type": "execute_result"
    }
   ],
   "source": [
    "r2_score(y_test, dec_reg.predict(x_test))"
   ]
  },
  {
   "cell_type": "markdown",
   "metadata": {},
   "source": [
    "# Бинарная классификация"
   ]
  },
  {
   "cell_type": "code",
   "execution_count": 59,
   "metadata": {},
   "outputs": [
    {
     "name": "stdout",
     "output_type": "stream",
     "text": [
      "<class 'pandas.core.frame.DataFrame'>\n",
      "RangeIndex: 200189 entries, 0 to 200188\n",
      "Data columns (total 19 columns):\n",
      "annual_inc             200189 non-null float64\n",
      "verification_status    200189 non-null object\n",
      "int_rate               200189 non-null float64\n",
      "initial_list_status    200189 non-null object\n",
      "term                   200189 non-null object\n",
      "installment            200189 non-null float64\n",
      "open_acc               200189 non-null float64\n",
      "total_acc              200189 non-null float64\n",
      "dti                    200189 non-null float64\n",
      "purpose                200189 non-null object\n",
      "tot_cur_bal            152232 non-null float64\n",
      "sub_grade              200189 non-null object\n",
      "home_ownership         200189 non-null object\n",
      "inq_last_6mths         200189 non-null float64\n",
      "total_rev_hi_lim       152232 non-null float64\n",
      "revol_bal              200189 non-null float64\n",
      "revol_util             200035 non-null float64\n",
      "tot_coll_amt           152232 non-null float64\n",
      "loan_amnt              200189 non-null float64\n",
      "dtypes: float64(13), object(6)\n",
      "memory usage: 29.0+ MB\n"
     ]
    }
   ],
   "source": [
    "y = train['loan_status'] # целевой признак\n",
    "x = train.loc[:,['annual_inc','verification_status','int_rate','initial_list_status','term',\n",
    "                 'installment','open_acc','total_acc','dti','purpose','tot_cur_bal',\n",
    "                 'sub_grade','home_ownership','inq_last_6mths','total_rev_hi_lim',\n",
    "                 'revol_bal','revol_util',\n",
    "                 'tot_coll_amt','loan_amnt',] ] # параметры\n",
    "x.info()"
   ]
  },
  {
   "cell_type": "code",
   "execution_count": 60,
   "metadata": {},
   "outputs": [
    {
     "name": "stdout",
     "output_type": "stream",
     "text": [
      "<class 'pandas.core.frame.DataFrame'>\n",
      "RangeIndex: 200189 entries, 0 to 200188\n",
      "Data columns (total 19 columns):\n",
      "annual_inc             200189 non-null float64\n",
      "verification_status    200189 non-null object\n",
      "int_rate               200189 non-null float64\n",
      "initial_list_status    200189 non-null object\n",
      "term                   200189 non-null object\n",
      "installment            200189 non-null float64\n",
      "open_acc               200189 non-null float64\n",
      "total_acc              200189 non-null float64\n",
      "dti                    200189 non-null float64\n",
      "purpose                200189 non-null object\n",
      "tot_cur_bal            200189 non-null float64\n",
      "sub_grade              200189 non-null object\n",
      "home_ownership         200189 non-null object\n",
      "inq_last_6mths         200189 non-null float64\n",
      "total_rev_hi_lim       152232 non-null float64\n",
      "revol_bal              200189 non-null float64\n",
      "revol_util             200189 non-null float64\n",
      "tot_coll_amt           200189 non-null float64\n",
      "loan_amnt              200189 non-null float64\n",
      "dtypes: float64(13), object(6)\n",
      "memory usage: 29.0+ MB\n"
     ]
    }
   ],
   "source": [
    "#NaN killer\n",
    "Nan_killer(x)\n",
    "x.info()"
   ]
  },
  {
   "cell_type": "code",
   "execution_count": 61,
   "metadata": {},
   "outputs": [],
   "source": [
    "# x_train, x_test, y_train, y_test = proc(x,y)"
   ]
  },
  {
   "cell_type": "code",
   "execution_count": null,
   "metadata": {},
   "outputs": [],
   "source": [
    "x_train.info()"
   ]
  },
  {
   "cell_type": "code",
   "execution_count": 12,
   "metadata": {},
   "outputs": [
    {
     "name": "stdout",
     "output_type": "stream",
     "text": [
      "<class 'pandas.core.frame.DataFrame'>\n",
      "Int64Index: 140132 entries, 193136 to 121958\n",
      "Data columns (total 43 columns):\n",
      "acc_now_delinq                140132 non-null float64\n",
      "annual_inc                    140132 non-null float64\n",
      "application_type              140132 non-null bool\n",
      "collections_12_mths_ex_med    140132 non-null float64\n",
      "dti                           140132 non-null float64\n",
      "grade_A                       140132 non-null uint8\n",
      "grade_B                       140132 non-null uint8\n",
      "grade_C                       140132 non-null uint8\n",
      "grade_D                       140132 non-null uint8\n",
      "grade_E                       140132 non-null uint8\n",
      "grade_F                       140132 non-null uint8\n",
      "grade_G                       140132 non-null uint8\n",
      "home_ownership_ANY            140132 non-null uint8\n",
      "home_ownership_MORTGAGE       140132 non-null uint8\n",
      "home_ownership_NONE           140132 non-null uint8\n",
      "home_ownership_OTHER          140132 non-null uint8\n",
      "home_ownership_OWN            140132 non-null uint8\n",
      "home_ownership_RENT           140132 non-null uint8\n",
      "initial_list_status           140132 non-null bool\n",
      "inq_last_6mths                140132 non-null float64\n",
      "installment                   140132 non-null float64\n",
      "int_rate                      140132 non-null float64\n",
      "loan_amnt                     140132 non-null float64\n",
      "open_acc                      140132 non-null float64\n",
      "pub_rec                       140132 non-null float64\n",
      "purpose_car                   140132 non-null uint8\n",
      "purpose_credit_card           140132 non-null uint8\n",
      "purpose_debt_consolidation    140132 non-null uint8\n",
      "purpose_educational           140132 non-null uint8\n",
      "purpose_home_improvement      140132 non-null uint8\n",
      "purpose_house                 140132 non-null uint8\n",
      "purpose_major_purchase        140132 non-null uint8\n",
      "purpose_medical               140132 non-null uint8\n",
      "purpose_moving                140132 non-null uint8\n",
      "purpose_other                 140132 non-null uint8\n",
      "purpose_renewable_energy      140132 non-null uint8\n",
      "purpose_small_business        140132 non-null uint8\n",
      "purpose_vacation              140132 non-null uint8\n",
      "purpose_wedding               140132 non-null uint8\n",
      "revol_bal                     140132 non-null float64\n",
      "revol_util                    140132 non-null float64\n",
      "tot_coll_amt                  140132 non-null float64\n",
      "total_acc                     140132 non-null float64\n",
      "dtypes: bool(2), float64(14), uint8(27)\n",
      "memory usage: 19.9 MB\n"
     ]
    }
   ],
   "source": [
    "x_train.info()"
   ]
  },
  {
   "cell_type": "markdown",
   "metadata": {},
   "source": [
    "## Логистическая регрессия"
   ]
  },
  {
   "cell_type": "code",
   "execution_count": 24,
   "metadata": {},
   "outputs": [],
   "source": [
    "from sklearn import linear_model"
   ]
  },
  {
   "cell_type": "code",
   "execution_count": 25,
   "metadata": {},
   "outputs": [
    {
     "name": "stdout",
     "output_type": "stream",
     "text": [
      "Recall: 1.00\n",
      "Precision score: 0.78\n",
      "Accuracy score: 0.78\n"
     ]
    }
   ],
   "source": [
    "lr = linear_model.LogisticRegression(solver='liblinear',random_state=42).fit(x_train, y_train)\n",
    "lr.predict(x_test)\n",
    "show_scores(lr, x_test, y_test)"
   ]
  },
  {
   "cell_type": "code",
   "execution_count": 26,
   "metadata": {},
   "outputs": [
    {
     "name": "stdout",
     "output_type": "stream",
     "text": [
      "ROC-AUC score:  0.5877202844814491\n"
     ]
    },
    {
     "data": {
      "image/png": "[encoded data removed]",
      "text/plain": [
       "<Figure size 432x288 with 1 Axes>"
      ]
     },
     "metadata": {
      "needs_background": "light"
     },
     "output_type": "display_data"
    }
   ],
   "source": [
    "plot_roc(lr, x_test, y_test)"
   ]
  },
  {
   "cell_type": "markdown",
   "metadata": {},
   "source": [
    "## Дерево решений (классификация)"
   ]
  },
  {
   "cell_type": "code",
   "execution_count": 27,
   "metadata": {},
   "outputs": [],
   "source": [
    "from sklearn.tree import DecisionTreeClassifier"
   ]
  },
  {
   "cell_type": "code",
   "execution_count": 28,
   "metadata": {},
   "outputs": [
    {
     "data": {
      "text/plain": [
       "DecisionTreeClassifier(class_weight=None, criterion='entropy', max_depth=12,\n",
       "            max_features=None, max_leaf_nodes=None,\n",
       "            min_impurity_decrease=0.0, min_impurity_split=None,\n",
       "            min_samples_leaf=3, min_samples_split=2,\n",
       "            min_weight_fraction_leaf=0.0, presort=False, random_state=42,\n",
       "            splitter='random')"
      ]
     },
     "execution_count": 28,
     "metadata": {},
     "output_type": "execute_result"
    }
   ],
   "source": [
    "clf_tree = DecisionTreeClassifier(criterion='entropy',splitter = 'random', max_depth=12, random_state=42, min_samples_leaf = 3)\n",
    "clf_tree.fit(x_train, y_train)"
   ]
  },
  {
   "cell_type": "code",
   "execution_count": 29,
   "metadata": {},
   "outputs": [
    {
     "name": "stdout",
     "output_type": "stream",
     "text": [
      "Recall: 0.97\n",
      "Precision score: 0.79\n",
      "Accuracy score: 0.77\n"
     ]
    }
   ],
   "source": [
    "show_scores(clf_tree, x_test, y_test)"
   ]
  },
  {
   "cell_type": "code",
   "execution_count": 30,
   "metadata": {
    "scrolled": true
   },
   "outputs": [
    {
     "name": "stdout",
     "output_type": "stream",
     "text": [
      "ROC-AUC score:  0.6742598095246735\n"
     ]
    },
    {
     "data": {
      "image/png": "[encoded data removed]",
      "text/plain": [
       "<Figure size 432x288 with 1 Axes>"
      ]
     },
     "metadata": {
      "needs_background": "light"
     },
     "output_type": "display_data"
    }
   ],
   "source": [
    "plot_roc(clf_tree, x_test, y_test)"
   ]
  },
  {
   "cell_type": "markdown",
   "metadata": {},
   "source": [
    "## Случайный лес"
   ]
  },
  {
   "cell_type": "code",
   "execution_count": 31,
   "metadata": {},
   "outputs": [],
   "source": [
    "from sklearn.ensemble import RandomForestClassifier\n",
    "from sklearn.model_selection import GridSearchCV\n",
    "from sklearn.preprocessing import LabelEncoder"
   ]
  },
  {
   "cell_type": "code",
   "execution_count": 32,
   "metadata": {},
   "outputs": [],
   "source": [
    "#param_grid = {\n",
    "#    'bootstrap': [True],\n",
    "#    'max_depth': [12,10,8],\n",
    "#    'min_samples_leaf': [1,3,5,7],\n",
    "#    'n_estimators': [80,100,200,500],\n",
    "#    'criterion' : ['entropy','gini'],\n",
    "#}\n",
    "#score = make_scorer(roc_auc_score)\n",
    "#rf =  RandomForestClassifier(random_state = 42)\n",
    "#grid_search = GridSearchCV(estimator = rf, param_grid = param_grid, \n",
    "#                          cv = 5, n_jobs = -1, verbose = 2, scoring=score)\n",
    "#grid_search.fit(x_train,  y_train)\n",
    "#grid_search.best_params_\n",
    "# best_grid = grid_search.best_estimator_"
   ]
  },
  {
   "cell_type": "code",
   "execution_count": 33,
   "metadata": {},
   "outputs": [
    {
     "data": {
      "text/plain": [
       "RandomForestClassifier(bootstrap=True, class_weight=None, criterion='entropy',\n",
       "            max_depth=12, max_features='auto', max_leaf_nodes=None,\n",
       "            min_impurity_decrease=0.0, min_impurity_split=None,\n",
       "            min_samples_leaf=1, min_samples_split=2,\n",
       "            min_weight_fraction_leaf=0.0, n_estimators=80, n_jobs=None,\n",
       "            oob_score=False, random_state=42, verbose=0, warm_start=False)"
      ]
     },
     "execution_count": 33,
     "metadata": {},
     "output_type": "execute_result"
    }
   ],
   "source": [
    "best_grid = RandomForestClassifier(random_state = 42, bootstrap = True, \n",
    "                                   max_depth = 12, min_samples_leaf = 1,\n",
    "                                   n_estimators = 80, criterion = 'entropy')\n",
    "best_grid.fit(x_train,  y_train)"
   ]
  },
  {
   "cell_type": "code",
   "execution_count": 34,
   "metadata": {},
   "outputs": [
    {
     "name": "stdout",
     "output_type": "stream",
     "text": [
      "Recall: 0.99\n",
      "Precision score: 0.79\n",
      "Accuracy score: 0.78\n"
     ]
    }
   ],
   "source": [
    "best_grid.predict(x_test)\n",
    "show_scores(best_grid, x_test, y_test)"
   ]
  },
  {
   "cell_type": "code",
   "execution_count": 35,
   "metadata": {},
   "outputs": [
    {
     "name": "stdout",
     "output_type": "stream",
     "text": [
      "ROC-AUC score:  0.7019092486975207\n"
     ]
    },
    {
     "data": {
      "image/png": "[encoded data removed]",
      "text/plain": [
       "<Figure size 432x288 with 1 Axes>"
      ]
     },
     "metadata": {
      "needs_background": "light"
     },
     "output_type": "display_data"
    }
   ],
   "source": [
    "plot_roc(best_grid, x_test, y_test)"
   ]
  },
  {
   "cell_type": "markdown",
   "metadata": {},
   "source": [
    "## VotingClassifier"
   ]
  },
  {
   "cell_type": "code",
   "execution_count": 36,
   "metadata": {},
   "outputs": [],
   "source": [
    "from sklearn.ensemble import VotingClassifier"
   ]
  },
  {
   "cell_type": "code",
   "execution_count": 37,
   "metadata": {},
   "outputs": [
    {
     "data": {
      "text/plain": [
       "VotingClassifier(estimators=[('lr', LogisticRegression(C=1.0, class_weight=None, dual=False, fit_intercept=True,\n",
       "          intercept_scaling=1, max_iter=100, multi_class='warn',\n",
       "          n_jobs=None, penalty='l2', random_state=42, solver='liblinear',\n",
       "          tol=0.0001, verbose=0, warm_start=False)), ('rf', Rando...mators=80, n_jobs=None,\n",
       "            oob_score=False, random_state=42, verbose=0, warm_start=False))],\n",
       "         flatten_transform=None, n_jobs=None, voting='soft', weights=None)"
      ]
     },
     "execution_count": 37,
     "metadata": {},
     "output_type": "execute_result"
    }
   ],
   "source": [
    "voting_clf = VotingClassifier(estimators=[('lr', lr), ('rf', best_grid)],voting='soft')\n",
    "voting_clf.fit(x_train, y_train)"
   ]
  },
  {
   "cell_type": "code",
   "execution_count": 38,
   "metadata": {},
   "outputs": [
    {
     "name": "stdout",
     "output_type": "stream",
     "text": [
      "Recall: 1.00\n",
      "Precision score: 0.78\n",
      "Accuracy score: 0.78\n"
     ]
    }
   ],
   "source": [
    "show_scores(voting_clf, x_test, y_test)"
   ]
  },
  {
   "cell_type": "code",
   "execution_count": null,
   "metadata": {},
   "outputs": [
    {
     "name": "stdout",
     "output_type": "stream",
     "text": [
      "ROC-AUC score:  0.6850833952966429\n"
     ]
    },
    {
     "data": {
      "image/png": "[encoded data removed]",
      "text/plain": [
       "<Figure size 432x288 with 1 Axes>"
      ]
     },
     "metadata": {
      "needs_background": "light"
     },
     "output_type": "display_data"
    }
   ],
   "source": [
    "plot_roc(voting_clf, x_test, y_test)"
   ]
  },
  {
   "cell_type": "markdown",
   "metadata": {},
   "source": [
    "## Xgboost (Grid search)"
   ]
  },
  {
   "cell_type": "markdown",
   "metadata": {},
   "source": [
    "[Параметры XGBClassifier](https://xgboost.readthedocs.io/en/latest/parameter.html)"
   ]
  },
  {
   "cell_type": "code",
   "execution_count": 8,
   "metadata": {},
   "outputs": [],
   "source": [
    "import xgboost as xgb"
   ]
  },
  {
   "cell_type": "code",
   "execution_count": 42,
   "metadata": {},
   "outputs": [],
   "source": [
    "xgbst = xgb.XGBClassifier(\n",
    "                           max_depth=3,\n",
    "                           min_child_weight=3, #Defines the minimum sum of weights of all observations required\n",
    "                           gamma = 0.25, \n",
    "                                    #A node is split only when the resulting split gives a positive \n",
    "                                    #reduction in the loss function. Gamma specifies the minimum loss \n",
    "                                    #reduction required to make a split.in a child\n",
    "                           eval_metric = 'auc',                         \n",
    "                           subsample= 0.52,\n",
    "                                    #Denotes the fraction of observations to be randomly sampled for each tree\n",
    "                           colsample_bytree=0.95, #The number of features to consider while searching for the best split\n",
    "                           reg_alpha= 5,# L1 regularization term on weights\n",
    "                           reg_lambda=0,# L2 regularization term on weights.\n",
    "                           learning_rate = 0.01,\n",
    "                           n_estimators =4000,\n",
    "                           objective='binary:logistic',\n",
    "                           \n",
    "                           verbosity  = 2, # Valid values are 0 (silent), 1 (warning), 2 (info), 3 (debug). \n",
    "                          \n",
    "                           scale_pos_weight=1, #Control the balance of positive and negative weights, useful for unbalanced classes\n",
    "                           seed=20,\n",
    "                           random_state= 42,\n",
    "                           missing=None)"
   ]
  },
  {
   "cell_type": "code",
   "execution_count": null,
   "metadata": {},
   "outputs": [],
   "source": [
    "xgbst.fit(x_train, y_train)"
   ]
  },
  {
   "cell_type": "code",
   "execution_count": null,
   "metadata": {},
   "outputs": [],
   "source": [
    "show_scores(xgbst, x_train, y_train)"
   ]
  },
  {
   "cell_type": "code",
   "execution_count": null,
   "metadata": {
    "scrolled": true
   },
   "outputs": [],
   "source": [
    "show_scores(xgbst, x_test, y_test)"
   ]
  },
  {
   "cell_type": "code",
   "execution_count": null,
   "metadata": {},
   "outputs": [],
   "source": [
    "plot_roc(xgbst, x_train, y_train)"
   ]
  },
  {
   "cell_type": "code",
   "execution_count": null,
   "metadata": {},
   "outputs": [],
   "source": [
    "plot_roc(xgbst, x_test, y_test)"
   ]
  },
  {
   "cell_type": "markdown",
   "metadata": {},
   "source": [
    "## Xgboost (Hypetopt)"
   ]
  },
  {
   "cell_type": "code",
   "execution_count": 13,
   "metadata": {},
   "outputs": [],
   "source": [
    "from sklearn.metrics import r2_score\n",
    "from hyperopt import tpe, hp, fmin\n",
    "import xgboost as xgb\n",
    "from hyperopt.mongoexp import MongoTrials"
   ]
  },
  {
   "cell_type": "code",
   "execution_count": 14,
   "metadata": {},
   "outputs": [],
   "source": [
    "def func(args):\n",
    "    loss = 0\n",
    "    if args['model'] == xgb.XGBClassifier:\n",
    "        max_depth = args['param']['max_depth']\n",
    "        min_child_weight = args['param']['min_child_weight']\n",
    "        gamma = args['param']['gamma']\n",
    "        subsample = args['param']['subsample']\n",
    "        colsample_bytree = args['param']['colsample_bytree']\n",
    "        reg_alpha = args['param']['reg_alpha']\n",
    "        clf = xgb.XGBClassifier(eval_metric = 'auc',\n",
    "                               objective='binary:logistic',\n",
    "                               verbosity  = 2,\n",
    "                               random_state= 42,\n",
    "                               learning_rate = 0.1,\n",
    "                               n_estimators=1000,    \n",
    "                               reg_lambda=0,\n",
    "                               max_depth = max_depth,\n",
    "                               min_child_weight =min_child_weight,\n",
    "                               gamma =  gamma,\n",
    "                               subsample = subsample,\n",
    "                               colsample_bytree = colsample_bytree,\n",
    "                               reg_alpha = reg_alpha)\n",
    "        clf.fit(x_train,y_train)\n",
    "        y_pred_train = clf.predict_proba(x_train)\n",
    "        loss =  roc_auc_score(y_train, y_pred_train[:, 1])\n",
    "        print(\"Test Score:\",clf.score(x_test,y_test))\n",
    "        print(\"Train Score:\",clf.score(x_train,y_train))\n",
    "        print(\"\\n=================\")\n",
    "    return -loss\n"
   ]
  },
  {
   "cell_type": "code",
   "execution_count": 14,
   "metadata": {},
   "outputs": [
    {
     "data": {
      "text/plain": [
       "<hyperopt.pyll.base.Apply at 0x1ec3564e128>"
      ]
     },
     "execution_count": 14,
     "metadata": {},
     "output_type": "execute_result"
    }
   ],
   "source": [
    "space = hp.choice('classifier',[\n",
    "        {\n",
    "        'model': xgb.XGBClassifier,\n",
    "        'param': {\n",
    "        'max_depth' : hp.choice('max_depth',range(3,10,2)),\n",
    "        'min_child_weight' : hp.choice('min_child_weight', range(1,6,2)),\n",
    "        'gamma' : hp.choice('gamma', [i/10.0 for i in range(0,5)]),\n",
    "        'subsample' : hp.choice('subsample', [i/10.0 for i in range(6,10)]),\n",
    "        'colsample_bytree'  : hp.choice('colsample_bytree', [i/10.0 for i in range(6,10)]),\n",
    "        'reg_alpha' : hp.choice('reg_alpha', [1e-5, 1e-2, 0.1, 1, 100])  \n",
    "        }}\n",
    "        ])\n",
    "space"
   ]
  },
  {
   "cell_type": "code",
   "execution_count": 16,
   "metadata": {},
   "outputs": [],
   "source": [
    "# trials = MongoTrials('mongo://localhost:27017/foo_db/jobs',exp_key='exp1')"
   ]
  },
  {
   "cell_type": "code",
   "execution_count": 15,
   "metadata": {},
   "outputs": [],
   "source": [
    "# best = fmin(func,space,algo=tpe.suggest,max_evals=100)\n",
    "best = {'classifier': 0,\n",
    " 'colsample_bytree': 1,\n",
    " 'gamma': 1,\n",
    " 'max_depth': 3,\n",
    " 'min_child_weight': 0,\n",
    " 'reg_alpha': 3,\n",
    " 'subsample': 0}"
   ]
  },
  {
   "cell_type": "code",
   "execution_count": 16,
   "metadata": {},
   "outputs": [
    {
     "data": {
      "text/plain": [
       "{'classifier': 0,\n",
       " 'colsample_bytree': 1,\n",
       " 'gamma': 1,\n",
       " 'max_depth': 3,\n",
       " 'min_child_weight': 0,\n",
       " 'reg_alpha': 3,\n",
       " 'subsample': 0}"
      ]
     },
     "execution_count": 16,
     "metadata": {},
     "output_type": "execute_result"
    }
   ],
   "source": [
    "best"
   ]
  },
  {
   "cell_type": "code",
   "execution_count": 25,
   "metadata": {},
   "outputs": [],
   "source": [
    "bst = xgb.XGBClassifier(     eval_metric = 'auc',\n",
    "                               objective='binary:logistic',\n",
    "                               verbosity  = 2,\n",
    "                               random_state= 42,\n",
    "                               learning_rate = 0.01,\n",
    "                               n_estimators=4000,    \n",
    "                               reg_lambda=0,\n",
    "                               seed = 20,\n",
    "                               max_depth = best['max_depth'],\n",
    "                               min_child_weight = best['min_child_weight'],\n",
    "                               gamma =  best['gamma'],\n",
    "                               subsample = 0.52,\n",
    "                               colsample_bytree = best['colsample_bytree'],\n",
    "                               reg_alpha = best['reg_alpha'])"
   ]
  },
  {
   "cell_type": "code",
   "execution_count": 26,
   "metadata": {},
   "outputs": [
    {
     "data": {
      "text/plain": [
       "XGBClassifier(base_score=0.5, booster='gbtree', colsample_bylevel=1,\n",
       "       colsample_bytree=1, eval_metric='auc', gamma=1, learning_rate=0.01,\n",
       "       max_delta_step=0, max_depth=3, min_child_weight=0, missing=None,\n",
       "       n_estimators=4000, n_jobs=1, nthread=None,\n",
       "       objective='binary:logistic', random_state=42, reg_alpha=3,\n",
       "       reg_lambda=0, scale_pos_weight=1, seed=20, silent=True,\n",
       "       subsample=0.52, verbosity=2)"
      ]
     },
     "execution_count": 26,
     "metadata": {},
     "output_type": "execute_result"
    }
   ],
   "source": [
    "bst.fit(x_train, y_train)"
   ]
  },
  {
   "cell_type": "code",
   "execution_count": 34,
   "metadata": {},
   "outputs": [
    {
     "name": "stdout",
     "output_type": "stream",
     "text": [
      "Recall: 0.98\n",
      "Precision score: 0.79\n",
      "Accuracy score: 0.78\n"
     ]
    }
   ],
   "source": [
    "show_scores(bst, x_test, y_test)"
   ]
  },
  {
   "cell_type": "code",
   "execution_count": 35,
   "metadata": {},
   "outputs": [
    {
     "name": "stdout",
     "output_type": "stream",
     "text": [
      "ROC-AUC score:  0.7115789901232025\n"
     ]
    },
    {
     "data": {
      "image/png": "[encoded data removed]",
      "text/plain": [
       "<Figure size 432x288 with 1 Axes>"
      ]
     },
     "metadata": {
      "needs_background": "light"
     },
     "output_type": "display_data"
    }
   ],
   "source": [
    "plot_roc(bst, x_test, y_test)"
   ]
  },
  {
   "cell_type": "markdown",
   "metadata": {},
   "source": [
    "## Catboost"
   ]
  },
  {
   "cell_type": "code",
   "execution_count": 62,
   "metadata": {},
   "outputs": [],
   "source": [
    "from hyperopt import tpe, hp, fmin\n",
    "import hyperopt "
   ]
  },
  {
   "cell_type": "code",
   "execution_count": 63,
   "metadata": {},
   "outputs": [
    {
     "data": {
      "text/plain": [
       "debt_consolidation    117953\n",
       "credit_card            39337\n",
       "home_improvement       11855\n",
       "other                  11304\n",
       "major_purchase          4865\n",
       "small_business          3757\n",
       "car                     2813\n",
       "medical                 2273\n",
       "moving                  1645\n",
       "wedding                 1451\n",
       "house                   1272\n",
       "vacation                1220\n",
       "educational              244\n",
       "renewable_energy         200\n",
       "Name: purpose, dtype: int64"
      ]
     },
     "execution_count": 63,
     "metadata": {},
     "output_type": "execute_result"
    }
   ],
   "source": [
    "x['purpose'].value_counts()"
   ]
  },
  {
   "cell_type": "code",
   "execution_count": 64,
   "metadata": {},
   "outputs": [],
   "source": [
    "x['purpose'] = x['purpose'].astype(str).map(lambda x: 'other' if x in ['credit_card','home_improvement','educational', 'renewable_energy','vacation','house','wedding','moving','medical','car','small_business','major_purchase'] else x)"
   ]
  },
  {
   "cell_type": "code",
   "execution_count": 65,
   "metadata": {},
   "outputs": [
    {
     "data": {
      "text/plain": [
       "debt_consolidation    117953\n",
       "other                  82236\n",
       "Name: purpose, dtype: int64"
      ]
     },
     "execution_count": 65,
     "metadata": {},
     "output_type": "execute_result"
    }
   ],
   "source": [
    "x['purpose'].value_counts()"
   ]
  },
  {
   "cell_type": "code",
   "execution_count": 66,
   "metadata": {},
   "outputs": [
    {
     "data": {
      "text/plain": [
       " 36 months    153900\n",
       " 60 months     46289\n",
       "Name: term, dtype: int64"
      ]
     },
     "execution_count": 66,
     "metadata": {},
     "output_type": "execute_result"
    }
   ],
   "source": [
    "x['term'].value_counts()"
   ]
  },
  {
   "cell_type": "code",
   "execution_count": 67,
   "metadata": {},
   "outputs": [],
   "source": [
    "x['term'] = x['term'].astype(str).map(lambda x: 36 if x == ' 36 months' else 60)"
   ]
  },
  {
   "cell_type": "code",
   "execution_count": 68,
   "metadata": {},
   "outputs": [
    {
     "data": {
      "text/plain": [
       "36    153900\n",
       "60     46289\n",
       "Name: term, dtype: int64"
      ]
     },
     "execution_count": 68,
     "metadata": {},
     "output_type": "execute_result"
    }
   ],
   "source": [
    "x['term'].value_counts()"
   ]
  },
  {
   "cell_type": "code",
   "execution_count": 69,
   "metadata": {},
   "outputs": [
    {
     "data": {
      "text/plain": [
       "MORTGAGE    98279\n",
       "RENT        84233\n",
       "OWN         17542\n",
       "OTHER         101\n",
       "NONE           33\n",
       "ANY             1\n",
       "Name: home_ownership, dtype: int64"
      ]
     },
     "execution_count": 69,
     "metadata": {},
     "output_type": "execute_result"
    }
   ],
   "source": [
    "x['home_ownership'].value_counts()"
   ]
  },
  {
   "cell_type": "code",
   "execution_count": 70,
   "metadata": {},
   "outputs": [],
   "source": [
    "x['home_ownership'] = x['home_ownership'].astype(str).map(lambda x: 'OTHER' if x in ['NONE', 'ANY'] else x)"
   ]
  },
  {
   "cell_type": "code",
   "execution_count": 71,
   "metadata": {},
   "outputs": [
    {
     "data": {
      "text/plain": [
       "MORTGAGE    98279\n",
       "RENT        84233\n",
       "OWN         17542\n",
       "OTHER         135\n",
       "Name: home_ownership, dtype: int64"
      ]
     },
     "execution_count": 71,
     "metadata": {},
     "output_type": "execute_result"
    }
   ],
   "source": [
    "x['home_ownership'].value_counts()"
   ]
  },
  {
   "cell_type": "code",
   "execution_count": 72,
   "metadata": {},
   "outputs": [],
   "source": [
    "x['home_ownership'] = x['home_ownership'].astype(str).map(lambda x: 'OTHER' if x in ['NONE', 'ANY'] else x)"
   ]
  },
  {
   "cell_type": "code",
   "execution_count": 73,
   "metadata": {},
   "outputs": [],
   "source": [
    "x_train, x_test, y_train, y_test = train_test_split(x, y, test_size=0.3, random_state = 42)\n",
    "# x_train['initial_list_status'] = x_train['initial_list_status'].astype('str').map({'f': bool(1), 'w': bool(0)}) # Label encoder\n",
    "# x_test['initial_list_status'] = x_test['initial_list_status'].astype('str').map({'f': bool(1), 'w': bool(0)}) # Label encoder\n",
    "x_test['sub_grade'] = x_test['sub_grade'].astype('str').map(lambda x: ord(x[0])*10 + int(x[1]))\n",
    "x_train['sub_grade'] = x_train['sub_grade'].astype('str').map(lambda x: ord(x[0])*10 + int(x[1]))\n",
    "# x_train = pd.get_dummies(x_train, columns = ['purpose','home_ownership'])   # OHE (?????)\n",
    "# x_test = pd.get_dummies(x_test, columns = ['purpose','home_ownership'])\n",
    "#for i in list(x_test): # удаление из тестовых данных столбцов, если их не было в тренировочных\n",
    "#    if i not in list(x_train):\n",
    "#        list(my_dataframe)\n",
    "#        x_test.drop(i, axis=1, inplace=True)\n",
    "#for i in list(x_train): # добавление колонки с нулями, если такой нет в тестовой\n",
    "#    if i not in list(x_test):\n",
    "#         x_test[i] = 0   \n",
    "\n",
    "#x_test = x_test.reindex(sorted(x_test.columns), axis=1)\n",
    "#x_train = x_train.reindex(sorted(x_test.columns), axis=1)"
   ]
  },
  {
   "cell_type": "code",
   "execution_count": 74,
   "metadata": {},
   "outputs": [
    {
     "name": "stdout",
     "output_type": "stream",
     "text": [
      "<class 'pandas.core.frame.DataFrame'>\n",
      "Int64Index: 140132 entries, 193136 to 121958\n",
      "Data columns (total 19 columns):\n",
      "annual_inc             140132 non-null float64\n",
      "verification_status    140132 non-null object\n",
      "int_rate               140132 non-null float64\n",
      "initial_list_status    140132 non-null object\n",
      "term                   140132 non-null int64\n",
      "installment            140132 non-null float64\n",
      "open_acc               140132 non-null float64\n",
      "total_acc              140132 non-null float64\n",
      "dti                    140132 non-null float64\n",
      "purpose                140132 non-null object\n",
      "tot_cur_bal            140132 non-null float64\n",
      "sub_grade              140132 non-null int64\n",
      "home_ownership         140132 non-null object\n",
      "inq_last_6mths         140132 non-null float64\n",
      "total_rev_hi_lim       106404 non-null float64\n",
      "revol_bal              140132 non-null float64\n",
      "revol_util             140132 non-null float64\n",
      "tot_coll_amt           140132 non-null float64\n",
      "loan_amnt              140132 non-null float64\n",
      "dtypes: float64(13), int64(2), object(4)\n",
      "memory usage: 21.4+ MB\n"
     ]
    }
   ],
   "source": [
    "x_train.info()"
   ]
  },
  {
   "cell_type": "code",
   "execution_count": 75,
   "metadata": {},
   "outputs": [
    {
     "data": {
      "text/html": [
       "<div>\n",
       "<style scoped>\n",
       "    .dataframe tbody tr th:only-of-type {\n",
       "        vertical-align: middle;\n",
       "    }\n",
       "\n",
       "    .dataframe tbody tr th {\n",
       "        vertical-align: top;\n",
       "    }\n",
       "\n",
       "    .dataframe thead th {\n",
       "        text-align: right;\n",
       "    }\n",
       "</style>\n",
       "<table border=\"1\" class=\"dataframe\">\n",
       "  <thead>\n",
       "    <tr style=\"text-align: right;\">\n",
       "      <th></th>\n",
       "      <th>annual_inc</th>\n",
       "      <th>verification_status</th>\n",
       "      <th>int_rate</th>\n",
       "      <th>initial_list_status</th>\n",
       "      <th>term</th>\n",
       "      <th>installment</th>\n",
       "      <th>open_acc</th>\n",
       "      <th>total_acc</th>\n",
       "      <th>dti</th>\n",
       "      <th>purpose</th>\n",
       "      <th>tot_cur_bal</th>\n",
       "      <th>sub_grade</th>\n",
       "      <th>home_ownership</th>\n",
       "      <th>inq_last_6mths</th>\n",
       "      <th>total_rev_hi_lim</th>\n",
       "      <th>revol_bal</th>\n",
       "      <th>revol_util</th>\n",
       "      <th>tot_coll_amt</th>\n",
       "      <th>loan_amnt</th>\n",
       "    </tr>\n",
       "  </thead>\n",
       "  <tbody>\n",
       "    <tr>\n",
       "      <th>193136</th>\n",
       "      <td>75000.0</td>\n",
       "      <td>Source Verified</td>\n",
       "      <td>13.11</td>\n",
       "      <td>w</td>\n",
       "      <td>36</td>\n",
       "      <td>690.97</td>\n",
       "      <td>17.0</td>\n",
       "      <td>42.0</td>\n",
       "      <td>26.85</td>\n",
       "      <td>other</td>\n",
       "      <td>223010.0</td>\n",
       "      <td>664</td>\n",
       "      <td>MORTGAGE</td>\n",
       "      <td>2.0</td>\n",
       "      <td>43599.0</td>\n",
       "      <td>38230.0</td>\n",
       "      <td>87.7</td>\n",
       "      <td>0.0</td>\n",
       "      <td>20475.0</td>\n",
       "    </tr>\n",
       "    <tr>\n",
       "      <th>27784</th>\n",
       "      <td>73000.0</td>\n",
       "      <td>Verified</td>\n",
       "      <td>15.99</td>\n",
       "      <td>f</td>\n",
       "      <td>36</td>\n",
       "      <td>421.83</td>\n",
       "      <td>18.0</td>\n",
       "      <td>38.0</td>\n",
       "      <td>16.47</td>\n",
       "      <td>debt_consolidation</td>\n",
       "      <td>230520.0</td>\n",
       "      <td>682</td>\n",
       "      <td>MORTGAGE</td>\n",
       "      <td>2.0</td>\n",
       "      <td>24100.0</td>\n",
       "      <td>9874.0</td>\n",
       "      <td>41.0</td>\n",
       "      <td>0.0</td>\n",
       "      <td>12000.0</td>\n",
       "    </tr>\n",
       "    <tr>\n",
       "      <th>157132</th>\n",
       "      <td>200000.0</td>\n",
       "      <td>Verified</td>\n",
       "      <td>8.90</td>\n",
       "      <td>f</td>\n",
       "      <td>36</td>\n",
       "      <td>508.06</td>\n",
       "      <td>14.0</td>\n",
       "      <td>37.0</td>\n",
       "      <td>13.50</td>\n",
       "      <td>debt_consolidation</td>\n",
       "      <td>488248.0</td>\n",
       "      <td>655</td>\n",
       "      <td>MORTGAGE</td>\n",
       "      <td>2.0</td>\n",
       "      <td>54800.0</td>\n",
       "      <td>34550.0</td>\n",
       "      <td>63.0</td>\n",
       "      <td>0.0</td>\n",
       "      <td>16000.0</td>\n",
       "    </tr>\n",
       "    <tr>\n",
       "      <th>81962</th>\n",
       "      <td>100000.0</td>\n",
       "      <td>Not Verified</td>\n",
       "      <td>15.33</td>\n",
       "      <td>f</td>\n",
       "      <td>36</td>\n",
       "      <td>417.94</td>\n",
       "      <td>17.0</td>\n",
       "      <td>36.0</td>\n",
       "      <td>20.48</td>\n",
       "      <td>debt_consolidation</td>\n",
       "      <td>-999.0</td>\n",
       "      <td>683</td>\n",
       "      <td>MORTGAGE</td>\n",
       "      <td>3.0</td>\n",
       "      <td>NaN</td>\n",
       "      <td>88599.0</td>\n",
       "      <td>60.9</td>\n",
       "      <td>-999.0</td>\n",
       "      <td>12000.0</td>\n",
       "    </tr>\n",
       "    <tr>\n",
       "      <th>161</th>\n",
       "      <td>65000.0</td>\n",
       "      <td>Verified</td>\n",
       "      <td>14.16</td>\n",
       "      <td>w</td>\n",
       "      <td>36</td>\n",
       "      <td>342.56</td>\n",
       "      <td>14.0</td>\n",
       "      <td>19.0</td>\n",
       "      <td>14.00</td>\n",
       "      <td>debt_consolidation</td>\n",
       "      <td>18270.0</td>\n",
       "      <td>672</td>\n",
       "      <td>RENT</td>\n",
       "      <td>2.0</td>\n",
       "      <td>25100.0</td>\n",
       "      <td>10948.0</td>\n",
       "      <td>43.6</td>\n",
       "      <td>0.0</td>\n",
       "      <td>10000.0</td>\n",
       "    </tr>\n",
       "  </tbody>\n",
       "</table>\n",
       "</div>"
      ],
      "text/plain": [
       "        annual_inc verification_status  int_rate initial_list_status  term  \\\n",
       "193136     75000.0     Source Verified     13.11                   w    36   \n",
       "27784      73000.0            Verified     15.99                   f    36   \n",
       "157132    200000.0            Verified      8.90                   f    36   \n",
       "81962     100000.0        Not Verified     15.33                   f    36   \n",
       "161        65000.0            Verified     14.16                   w    36   \n",
       "\n",
       "        installment  open_acc  total_acc    dti             purpose  \\\n",
       "193136       690.97      17.0       42.0  26.85               other   \n",
       "27784        421.83      18.0       38.0  16.47  debt_consolidation   \n",
       "157132       508.06      14.0       37.0  13.50  debt_consolidation   \n",
       "81962        417.94      17.0       36.0  20.48  debt_consolidation   \n",
       "161          342.56      14.0       19.0  14.00  debt_consolidation   \n",
       "\n",
       "        tot_cur_bal  sub_grade home_ownership  inq_last_6mths  \\\n",
       "193136     223010.0        664       MORTGAGE             2.0   \n",
       "27784      230520.0        682       MORTGAGE             2.0   \n",
       "157132     488248.0        655       MORTGAGE             2.0   \n",
       "81962        -999.0        683       MORTGAGE             3.0   \n",
       "161         18270.0        672           RENT             2.0   \n",
       "\n",
       "        total_rev_hi_lim  revol_bal  revol_util  tot_coll_amt  loan_amnt  \n",
       "193136           43599.0    38230.0        87.7           0.0    20475.0  \n",
       "27784            24100.0     9874.0        41.0           0.0    12000.0  \n",
       "157132           54800.0    34550.0        63.0           0.0    16000.0  \n",
       "81962                NaN    88599.0        60.9        -999.0    12000.0  \n",
       "161              25100.0    10948.0        43.6           0.0    10000.0  "
      ]
     },
     "execution_count": 75,
     "metadata": {},
     "output_type": "execute_result"
    }
   ],
   "source": [
    "x_train.head()"
   ]
  },
  {
   "cell_type": "code",
   "execution_count": 76,
   "metadata": {},
   "outputs": [
    {
     "data": {
      "text/plain": [
       "Index(['verification_status', 'initial_list_status', 'purpose',\n",
       "       'home_ownership'],\n",
       "      dtype='object')"
      ]
     },
     "execution_count": 76,
     "metadata": {},
     "output_type": "execute_result"
    }
   ],
   "source": [
    "categorical_features_names = x_train.columns[x_train.dtypes == 'object']\n",
    "categorical_features_names"
   ]
  },
  {
   "cell_type": "code",
   "execution_count": 77,
   "metadata": {},
   "outputs": [
    {
     "data": {
      "text/plain": [
       "[1, 3, 9, 12]"
      ]
     },
     "execution_count": 77,
     "metadata": {},
     "output_type": "execute_result"
    }
   ],
   "source": [
    "categorical_features_indices = [x_train.columns.get_loc(i) for i in categorical_features_names]\n",
    "categorical_features_indices"
   ]
  },
  {
   "cell_type": "code",
   "execution_count": 78,
   "metadata": {},
   "outputs": [],
   "source": [
    "from catboost import CatBoostClassifier, Pool, cv\n",
    "import catboost as cb\n",
    "import frozendict\n",
    "# roc_auc_score"
   ]
  },
  {
   "cell_type": "code",
   "execution_count": 79,
   "metadata": {},
   "outputs": [],
   "source": [
    "params = {'learning_rate': 0.01,\n",
    "          'depth': 9.0,\n",
    "        #  'rsm': 0.8789580279825991,\n",
    "          'l2_leaf_reg': 29.083288170330242,\n",
    "          'task_type': 'CPU',\n",
    "          'loss_function': 'Logloss',\n",
    "          'eval_metric': 'AUC', 'od_type': 'Iter',\n",
    "          'od_wait': 40,\n",
    "          'custom_metric': ['AUC'],\n",
    "          'iterations': 4000,\n",
    "          'random_seed': 42}\n",
    "train_pool = Pool(x_train, y_train, cat_features=categorical_features_indices)\n",
    "validate_pool = Pool(x_test, y_test, cat_features=categorical_features_indices)\n"
   ]
  },
  {
   "cell_type": "code",
   "execution_count": 80,
   "metadata": {},
   "outputs": [
    {
     "name": "stdout",
     "output_type": "stream",
     "text": [
      "0:\ttest: 0.6868615\tbest: 0.6868615 (0)\ttotal: 206ms\tremaining: 13m 44s\n",
      "1:\ttest: 0.6905013\tbest: 0.6905013 (1)\ttotal: 407ms\tremaining: 13m 33s\n",
      "2:\ttest: 0.6933194\tbest: 0.6933194 (2)\ttotal: 634ms\tremaining: 14m 4s\n",
      "3:\ttest: 0.6939173\tbest: 0.6939173 (3)\ttotal: 840ms\tremaining: 13m 59s\n",
      "4:\ttest: 0.6948312\tbest: 0.6948312 (4)\ttotal: 1.04s\tremaining: 13m 50s\n",
      "5:\ttest: 0.6956751\tbest: 0.6956751 (5)\ttotal: 1.25s\tremaining: 13m 50s\n",
      "6:\ttest: 0.6959766\tbest: 0.6959766 (6)\ttotal: 1.47s\tremaining: 13m 58s\n",
      "7:\ttest: 0.6965321\tbest: 0.6965321 (7)\ttotal: 1.69s\tremaining: 14m 3s\n",
      "8:\ttest: 0.6973244\tbest: 0.6973244 (8)\ttotal: 1.93s\tremaining: 14m 16s\n",
      "9:\ttest: 0.6979112\tbest: 0.6979112 (9)\ttotal: 2.19s\tremaining: 14m 33s\n",
      "10:\ttest: 0.6983373\tbest: 0.6983373 (10)\ttotal: 2.41s\tremaining: 14m 35s\n",
      "11:\ttest: 0.6983415\tbest: 0.6983415 (11)\ttotal: 2.6s\tremaining: 14m 25s\n",
      "12:\ttest: 0.6983272\tbest: 0.6983415 (11)\ttotal: 2.81s\tremaining: 14m 20s\n",
      "13:\ttest: 0.6981894\tbest: 0.6983415 (11)\ttotal: 3.02s\tremaining: 14m 18s\n",
      "14:\ttest: 0.6981578\tbest: 0.6983415 (11)\ttotal: 3.23s\tremaining: 14m 18s\n",
      "15:\ttest: 0.6983300\tbest: 0.6983415 (11)\ttotal: 3.44s\tremaining: 14m 16s\n",
      "16:\ttest: 0.6987265\tbest: 0.6987265 (16)\ttotal: 3.66s\tremaining: 14m 17s\n",
      "17:\ttest: 0.6988933\tbest: 0.6988933 (17)\ttotal: 3.89s\tremaining: 14m 21s\n",
      "18:\ttest: 0.6988228\tbest: 0.6988933 (17)\ttotal: 4.11s\tremaining: 14m 21s\n",
      "19:\ttest: 0.6990038\tbest: 0.6990038 (19)\ttotal: 4.32s\tremaining: 14m 19s\n",
      "20:\ttest: 0.6989771\tbest: 0.6990038 (19)\ttotal: 4.52s\tremaining: 14m 16s\n",
      "21:\ttest: 0.6990914\tbest: 0.6990914 (21)\ttotal: 4.75s\tremaining: 14m 19s\n",
      "22:\ttest: 0.6990342\tbest: 0.6990914 (21)\ttotal: 4.97s\tremaining: 14m 20s\n",
      "23:\ttest: 0.6991970\tbest: 0.6991970 (23)\ttotal: 5.2s\tremaining: 14m 21s\n",
      "24:\ttest: 0.6991754\tbest: 0.6991970 (23)\ttotal: 5.42s\tremaining: 14m 21s\n",
      "25:\ttest: 0.6990265\tbest: 0.6991970 (23)\ttotal: 5.64s\tremaining: 14m 22s\n",
      "26:\ttest: 0.6993300\tbest: 0.6993300 (26)\ttotal: 5.87s\tremaining: 14m 23s\n",
      "27:\ttest: 0.6994186\tbest: 0.6994186 (27)\ttotal: 6.08s\tremaining: 14m 21s\n",
      "28:\ttest: 0.6995243\tbest: 0.6995243 (28)\ttotal: 6.31s\tremaining: 14m 23s\n",
      "29:\ttest: 0.6995995\tbest: 0.6995995 (29)\ttotal: 6.5s\tremaining: 14m 20s\n",
      "30:\ttest: 0.6997663\tbest: 0.6997663 (30)\ttotal: 6.7s\tremaining: 14m 18s\n",
      "31:\ttest: 0.6997617\tbest: 0.6997663 (30)\ttotal: 6.91s\tremaining: 14m 16s\n",
      "32:\ttest: 0.6997422\tbest: 0.6997663 (30)\ttotal: 7.11s\tremaining: 14m 14s\n",
      "33:\ttest: 0.6997427\tbest: 0.6997663 (30)\ttotal: 7.23s\tremaining: 14m 3s\n",
      "34:\ttest: 0.6996827\tbest: 0.6997663 (30)\ttotal: 7.43s\tremaining: 14m 2s\n",
      "35:\ttest: 0.6997740\tbest: 0.6997740 (35)\ttotal: 7.63s\tremaining: 14m\n",
      "36:\ttest: 0.6995144\tbest: 0.6997740 (35)\ttotal: 7.79s\tremaining: 13m 54s\n",
      "37:\ttest: 0.6996644\tbest: 0.6997740 (35)\ttotal: 7.99s\tremaining: 13m 53s\n",
      "38:\ttest: 0.6995950\tbest: 0.6997740 (35)\ttotal: 8.21s\tremaining: 13m 54s\n",
      "39:\ttest: 0.6995961\tbest: 0.6997740 (35)\ttotal: 8.45s\tremaining: 13m 56s\n",
      "40:\ttest: 0.6996991\tbest: 0.6997740 (35)\ttotal: 8.65s\tremaining: 13m 55s\n",
      "41:\ttest: 0.6997528\tbest: 0.6997740 (35)\ttotal: 8.87s\tremaining: 13m 55s\n",
      "42:\ttest: 0.6999124\tbest: 0.6999124 (42)\ttotal: 9.05s\tremaining: 13m 52s\n",
      "43:\ttest: 0.6999408\tbest: 0.6999408 (43)\ttotal: 9.26s\tremaining: 13m 52s\n",
      "44:\ttest: 0.7001885\tbest: 0.7001885 (44)\ttotal: 9.47s\tremaining: 13m 52s\n",
      "45:\ttest: 0.7002249\tbest: 0.7002249 (45)\ttotal: 9.71s\tremaining: 13m 54s\n",
      "46:\ttest: 0.7004253\tbest: 0.7004253 (46)\ttotal: 9.94s\tremaining: 13m 56s\n",
      "47:\ttest: 0.7006489\tbest: 0.7006489 (47)\ttotal: 10.2s\tremaining: 13m 56s\n",
      "48:\ttest: 0.7006769\tbest: 0.7006769 (48)\ttotal: 10.4s\tremaining: 13m 57s\n",
      "49:\ttest: 0.7007145\tbest: 0.7007145 (49)\ttotal: 10.6s\tremaining: 13m 57s\n",
      "50:\ttest: 0.7008294\tbest: 0.7008294 (50)\ttotal: 10.8s\tremaining: 13m 59s\n",
      "51:\ttest: 0.7008591\tbest: 0.7008591 (51)\ttotal: 11.1s\tremaining: 13m 59s\n",
      "52:\ttest: 0.7008316\tbest: 0.7008591 (51)\ttotal: 11.3s\tremaining: 13m 59s\n",
      "53:\ttest: 0.7007845\tbest: 0.7008591 (51)\ttotal: 11.4s\tremaining: 13m 53s\n",
      "54:\ttest: 0.7008246\tbest: 0.7008591 (51)\ttotal: 11.6s\tremaining: 13m 53s\n",
      "55:\ttest: 0.7007686\tbest: 0.7008591 (51)\ttotal: 11.7s\tremaining: 13m 47s\n",
      "56:\ttest: 0.7007459\tbest: 0.7008591 (51)\ttotal: 11.9s\tremaining: 13m 44s\n",
      "57:\ttest: 0.7007874\tbest: 0.7008591 (51)\ttotal: 12.1s\tremaining: 13m 44s\n",
      "58:\ttest: 0.7007743\tbest: 0.7008591 (51)\ttotal: 12.3s\tremaining: 13m 44s\n",
      "59:\ttest: 0.7008428\tbest: 0.7008591 (51)\ttotal: 12.5s\tremaining: 13m 43s\n",
      "60:\ttest: 0.7007890\tbest: 0.7008591 (51)\ttotal: 12.7s\tremaining: 13m 41s\n",
      "61:\ttest: 0.7008234\tbest: 0.7008591 (51)\ttotal: 12.9s\tremaining: 13m 41s\n",
      "62:\ttest: 0.7008909\tbest: 0.7008909 (62)\ttotal: 13.1s\tremaining: 13m 40s\n",
      "63:\ttest: 0.7009204\tbest: 0.7009204 (63)\ttotal: 13.2s\tremaining: 13m 34s\n",
      "64:\ttest: 0.7009954\tbest: 0.7009954 (64)\ttotal: 13.4s\tremaining: 13m 33s\n",
      "65:\ttest: 0.7010315\tbest: 0.7010315 (65)\ttotal: 13.6s\tremaining: 13m 31s\n",
      "66:\ttest: 0.7011065\tbest: 0.7011065 (66)\ttotal: 13.8s\tremaining: 13m 31s\n",
      "67:\ttest: 0.7011069\tbest: 0.7011069 (67)\ttotal: 14s\tremaining: 13m 31s\n",
      "68:\ttest: 0.7011743\tbest: 0.7011743 (68)\ttotal: 14.2s\tremaining: 13m 29s\n",
      "69:\ttest: 0.7012480\tbest: 0.7012480 (69)\ttotal: 14.4s\tremaining: 13m 28s\n",
      "70:\ttest: 0.7012820\tbest: 0.7012820 (70)\ttotal: 14.6s\tremaining: 13m 27s\n",
      "71:\ttest: 0.7013195\tbest: 0.7013195 (71)\ttotal: 14.8s\tremaining: 13m 26s\n",
      "72:\ttest: 0.7013187\tbest: 0.7013195 (71)\ttotal: 15s\tremaining: 13m 25s\n",
      "73:\ttest: 0.7012265\tbest: 0.7013195 (71)\ttotal: 15.1s\tremaining: 13m 19s\n",
      "74:\ttest: 0.7012849\tbest: 0.7013195 (71)\ttotal: 15.3s\tremaining: 13m 18s\n",
      "75:\ttest: 0.7013873\tbest: 0.7013873 (75)\ttotal: 15.5s\tremaining: 13m 18s\n",
      "76:\ttest: 0.7014200\tbest: 0.7014200 (76)\ttotal: 15.7s\tremaining: 13m 18s\n",
      "77:\ttest: 0.7013956\tbest: 0.7014200 (76)\ttotal: 15.8s\tremaining: 13m 15s\n",
      "78:\ttest: 0.7013345\tbest: 0.7014200 (76)\ttotal: 16s\tremaining: 13m 14s\n",
      "79:\ttest: 0.7013645\tbest: 0.7014200 (76)\ttotal: 16.2s\tremaining: 13m 13s\n",
      "80:\ttest: 0.7014070\tbest: 0.7014200 (76)\ttotal: 16.4s\tremaining: 13m 13s\n",
      "81:\ttest: 0.7014155\tbest: 0.7014200 (76)\ttotal: 16.6s\tremaining: 13m 12s\n",
      "82:\ttest: 0.7014982\tbest: 0.7014982 (82)\ttotal: 16.8s\tremaining: 13m 13s\n",
      "83:\ttest: 0.7014561\tbest: 0.7014982 (82)\ttotal: 16.9s\tremaining: 13m 7s\n",
      "84:\ttest: 0.7015212\tbest: 0.7015212 (84)\ttotal: 17.1s\tremaining: 13m 7s\n",
      "85:\ttest: 0.7015567\tbest: 0.7015567 (85)\ttotal: 17.3s\tremaining: 13m 7s\n",
      "86:\ttest: 0.7015425\tbest: 0.7015567 (85)\ttotal: 17.4s\tremaining: 13m 3s\n",
      "87:\ttest: 0.7015915\tbest: 0.7015915 (87)\ttotal: 17.5s\tremaining: 12m 59s\n",
      "88:\ttest: 0.7016463\tbest: 0.7016463 (88)\ttotal: 17.7s\tremaining: 12m 59s\n",
      "89:\ttest: 0.7016693\tbest: 0.7016693 (89)\ttotal: 18s\tremaining: 13m\n",
      "90:\ttest: 0.7017335\tbest: 0.7017335 (90)\ttotal: 18.1s\tremaining: 12m 57s\n",
      "91:\ttest: 0.7018082\tbest: 0.7018082 (91)\ttotal: 18.3s\tremaining: 12m 56s\n",
      "92:\ttest: 0.7018755\tbest: 0.7018755 (92)\ttotal: 18.5s\tremaining: 12m 56s\n",
      "93:\ttest: 0.7019385\tbest: 0.7019385 (93)\ttotal: 18.7s\tremaining: 12m 56s\n",
      "94:\ttest: 0.7019560\tbest: 0.7019560 (94)\ttotal: 18.9s\tremaining: 12m 56s\n",
      "95:\ttest: 0.7019948\tbest: 0.7019948 (95)\ttotal: 19.1s\tremaining: 12m 56s\n",
      "96:\ttest: 0.7020601\tbest: 0.7020601 (96)\ttotal: 19.3s\tremaining: 12m 56s\n",
      "97:\ttest: 0.7021254\tbest: 0.7021254 (97)\ttotal: 19.5s\tremaining: 12m 54s\n",
      "98:\ttest: 0.7021515\tbest: 0.7021515 (98)\ttotal: 19.7s\tremaining: 12m 54s\n",
      "99:\ttest: 0.7021340\tbest: 0.7021515 (98)\ttotal: 19.8s\tremaining: 12m 52s\n",
      "100:\ttest: 0.7020970\tbest: 0.7021515 (98)\ttotal: 19.9s\tremaining: 12m 47s\n",
      "101:\ttest: 0.7021467\tbest: 0.7021515 (98)\ttotal: 20.1s\tremaining: 12m 47s\n",
      "102:\ttest: 0.7021925\tbest: 0.7021925 (102)\ttotal: 20.3s\tremaining: 12m 46s\n",
      "103:\ttest: 0.7022663\tbest: 0.7022663 (103)\ttotal: 20.5s\tremaining: 12m 47s\n",
      "104:\ttest: 0.7022485\tbest: 0.7022663 (103)\ttotal: 20.6s\tremaining: 12m 44s\n",
      "105:\ttest: 0.7023591\tbest: 0.7023591 (105)\ttotal: 20.8s\tremaining: 12m 43s\n",
      "106:\ttest: 0.7023905\tbest: 0.7023905 (106)\ttotal: 21s\tremaining: 12m 43s\n",
      "107:\ttest: 0.7024182\tbest: 0.7024182 (107)\ttotal: 21.2s\tremaining: 12m 44s\n",
      "108:\ttest: 0.7024896\tbest: 0.7024896 (108)\ttotal: 21.4s\tremaining: 12m 44s\n",
      "109:\ttest: 0.7025713\tbest: 0.7025713 (109)\ttotal: 21.6s\tremaining: 12m 44s\n",
      "110:\ttest: 0.7025749\tbest: 0.7025749 (110)\ttotal: 21.7s\tremaining: 12m 40s\n",
      "111:\ttest: 0.7026194\tbest: 0.7026194 (111)\ttotal: 21.9s\tremaining: 12m 40s\n",
      "112:\ttest: 0.7026846\tbest: 0.7026846 (112)\ttotal: 22.1s\tremaining: 12m 41s\n"
     ]
    },
    {
     "name": "stdout",
     "output_type": "stream",
     "text": [
      "113:\ttest: 0.7027473\tbest: 0.7027473 (113)\ttotal: 22.4s\tremaining: 12m 42s\n",
      "114:\ttest: 0.7028315\tbest: 0.7028315 (114)\ttotal: 22.6s\tremaining: 12m 42s\n",
      "115:\ttest: 0.7028610\tbest: 0.7028610 (115)\ttotal: 22.8s\tremaining: 12m 43s\n",
      "116:\ttest: 0.7029002\tbest: 0.7029002 (116)\ttotal: 23s\tremaining: 12m 44s\n",
      "117:\ttest: 0.7028722\tbest: 0.7029002 (116)\ttotal: 23.1s\tremaining: 12m 41s\n",
      "118:\ttest: 0.7029659\tbest: 0.7029659 (118)\ttotal: 23.4s\tremaining: 12m 41s\n",
      "119:\ttest: 0.7030128\tbest: 0.7030128 (119)\ttotal: 23.6s\tremaining: 12m 41s\n",
      "120:\ttest: 0.7030931\tbest: 0.7030931 (120)\ttotal: 23.8s\tremaining: 12m 42s\n",
      "121:\ttest: 0.7031511\tbest: 0.7031511 (121)\ttotal: 24s\tremaining: 12m 42s\n",
      "122:\ttest: 0.7031576\tbest: 0.7031576 (122)\ttotal: 24.2s\tremaining: 12m 42s\n",
      "123:\ttest: 0.7032204\tbest: 0.7032204 (123)\ttotal: 24.4s\tremaining: 12m 43s\n",
      "124:\ttest: 0.7032463\tbest: 0.7032463 (124)\ttotal: 24.6s\tremaining: 12m 43s\n",
      "125:\ttest: 0.7032704\tbest: 0.7032704 (125)\ttotal: 24.8s\tremaining: 12m 43s\n",
      "126:\ttest: 0.7033124\tbest: 0.7033124 (126)\ttotal: 25s\tremaining: 12m 42s\n",
      "127:\ttest: 0.7033987\tbest: 0.7033987 (127)\ttotal: 25.2s\tremaining: 12m 42s\n",
      "128:\ttest: 0.7034676\tbest: 0.7034676 (128)\ttotal: 25.4s\tremaining: 12m 43s\n",
      "129:\ttest: 0.7034827\tbest: 0.7034827 (129)\ttotal: 25.6s\tremaining: 12m 43s\n",
      "130:\ttest: 0.7035437\tbest: 0.7035437 (130)\ttotal: 25.8s\tremaining: 12m 43s\n",
      "131:\ttest: 0.7035987\tbest: 0.7035987 (131)\ttotal: 26s\tremaining: 12m 42s\n",
      "132:\ttest: 0.7036427\tbest: 0.7036427 (132)\ttotal: 26.2s\tremaining: 12m 42s\n",
      "133:\ttest: 0.7037102\tbest: 0.7037102 (133)\ttotal: 26.5s\tremaining: 12m 43s\n",
      "134:\ttest: 0.7036883\tbest: 0.7037102 (133)\ttotal: 26.5s\tremaining: 12m 39s\n",
      "135:\ttest: 0.7037588\tbest: 0.7037588 (135)\ttotal: 26.7s\tremaining: 12m 39s\n",
      "136:\ttest: 0.7038099\tbest: 0.7038099 (136)\ttotal: 26.9s\tremaining: 12m 39s\n",
      "137:\ttest: 0.7038953\tbest: 0.7038953 (137)\ttotal: 27.2s\tremaining: 12m 40s\n",
      "138:\ttest: 0.7039042\tbest: 0.7039042 (138)\ttotal: 27.4s\tremaining: 12m 40s\n",
      "139:\ttest: 0.7039437\tbest: 0.7039437 (139)\ttotal: 27.6s\tremaining: 12m 40s\n",
      "140:\ttest: 0.7039956\tbest: 0.7039956 (140)\ttotal: 27.8s\tremaining: 12m 41s\n",
      "141:\ttest: 0.7040089\tbest: 0.7040089 (141)\ttotal: 28s\tremaining: 12m 41s\n",
      "142:\ttest: 0.7040609\tbest: 0.7040609 (142)\ttotal: 28.2s\tremaining: 12m 41s\n",
      "143:\ttest: 0.7040649\tbest: 0.7040649 (143)\ttotal: 28.3s\tremaining: 12m 38s\n",
      "144:\ttest: 0.7041012\tbest: 0.7041012 (144)\ttotal: 28.6s\tremaining: 12m 39s\n",
      "145:\ttest: 0.7041588\tbest: 0.7041588 (145)\ttotal: 28.8s\tremaining: 12m 39s\n",
      "146:\ttest: 0.7041333\tbest: 0.7041588 (145)\ttotal: 28.9s\tremaining: 12m 36s\n",
      "147:\ttest: 0.7042252\tbest: 0.7042252 (147)\ttotal: 29.1s\tremaining: 12m 36s\n",
      "148:\ttest: 0.7042089\tbest: 0.7042252 (147)\ttotal: 29.2s\tremaining: 12m 33s\n",
      "149:\ttest: 0.7041863\tbest: 0.7042252 (147)\ttotal: 29.2s\tremaining: 12m 30s\n",
      "150:\ttest: 0.7042392\tbest: 0.7042392 (150)\ttotal: 29.4s\tremaining: 12m 30s\n",
      "151:\ttest: 0.7042902\tbest: 0.7042902 (151)\ttotal: 29.6s\tremaining: 12m 29s\n",
      "152:\ttest: 0.7042845\tbest: 0.7042902 (151)\ttotal: 29.8s\tremaining: 12m 29s\n",
      "153:\ttest: 0.7043269\tbest: 0.7043269 (153)\ttotal: 30s\tremaining: 12m 28s\n",
      "154:\ttest: 0.7043764\tbest: 0.7043764 (154)\ttotal: 30.2s\tremaining: 12m 28s\n",
      "155:\ttest: 0.7043973\tbest: 0.7043973 (155)\ttotal: 30.4s\tremaining: 12m 28s\n",
      "156:\ttest: 0.7044311\tbest: 0.7044311 (156)\ttotal: 30.6s\tremaining: 12m 28s\n",
      "157:\ttest: 0.7044659\tbest: 0.7044659 (157)\ttotal: 30.8s\tremaining: 12m 29s\n",
      "158:\ttest: 0.7044925\tbest: 0.7044925 (158)\ttotal: 31s\tremaining: 12m 29s\n",
      "159:\ttest: 0.7045136\tbest: 0.7045136 (159)\ttotal: 31.2s\tremaining: 12m 28s\n",
      "160:\ttest: 0.7044917\tbest: 0.7045136 (159)\ttotal: 31.3s\tremaining: 12m 26s\n",
      "161:\ttest: 0.7044909\tbest: 0.7045136 (159)\ttotal: 31.4s\tremaining: 12m 24s\n",
      "162:\ttest: 0.7044978\tbest: 0.7045136 (159)\ttotal: 31.6s\tremaining: 12m 23s\n",
      "163:\ttest: 0.7045361\tbest: 0.7045361 (163)\ttotal: 31.8s\tremaining: 12m 23s\n",
      "164:\ttest: 0.7045902\tbest: 0.7045902 (164)\ttotal: 32s\tremaining: 12m 22s\n",
      "165:\ttest: 0.7046526\tbest: 0.7046526 (165)\ttotal: 32.2s\tremaining: 12m 23s\n",
      "166:\ttest: 0.7046803\tbest: 0.7046803 (166)\ttotal: 32.4s\tremaining: 12m 23s\n",
      "167:\ttest: 0.7047167\tbest: 0.7047167 (167)\ttotal: 32.6s\tremaining: 12m 23s\n",
      "168:\ttest: 0.7047301\tbest: 0.7047301 (168)\ttotal: 32.8s\tremaining: 12m 23s\n",
      "169:\ttest: 0.7047525\tbest: 0.7047525 (169)\ttotal: 33s\tremaining: 12m 23s\n",
      "170:\ttest: 0.7048020\tbest: 0.7048020 (170)\ttotal: 33.2s\tremaining: 12m 23s\n",
      "171:\ttest: 0.7048124\tbest: 0.7048124 (171)\ttotal: 33.3s\tremaining: 12m 21s\n",
      "172:\ttest: 0.7048658\tbest: 0.7048658 (172)\ttotal: 33.5s\tremaining: 12m 21s\n",
      "173:\ttest: 0.7049121\tbest: 0.7049121 (173)\ttotal: 33.7s\tremaining: 12m 21s\n",
      "174:\ttest: 0.7049466\tbest: 0.7049466 (174)\ttotal: 33.9s\tremaining: 12m 21s\n",
      "175:\ttest: 0.7049938\tbest: 0.7049938 (175)\ttotal: 34.1s\tremaining: 12m 21s\n",
      "176:\ttest: 0.7050484\tbest: 0.7050484 (176)\ttotal: 34.3s\tremaining: 12m 21s\n",
      "177:\ttest: 0.7050652\tbest: 0.7050652 (177)\ttotal: 34.6s\tremaining: 12m 22s\n",
      "178:\ttest: 0.7051087\tbest: 0.7051087 (178)\ttotal: 34.8s\tremaining: 12m 21s\n",
      "179:\ttest: 0.7051411\tbest: 0.7051411 (179)\ttotal: 35s\tremaining: 12m 22s\n",
      "180:\ttest: 0.7051511\tbest: 0.7051511 (180)\ttotal: 35.2s\tremaining: 12m 22s\n",
      "181:\ttest: 0.7051788\tbest: 0.7051788 (181)\ttotal: 35.4s\tremaining: 12m 23s\n",
      "182:\ttest: 0.7052075\tbest: 0.7052075 (182)\ttotal: 35.6s\tremaining: 12m 21s\n",
      "183:\ttest: 0.7052574\tbest: 0.7052574 (183)\ttotal: 35.8s\tremaining: 12m 21s\n",
      "184:\ttest: 0.7052888\tbest: 0.7052888 (184)\ttotal: 36s\tremaining: 12m 21s\n",
      "185:\ttest: 0.7053175\tbest: 0.7053175 (185)\ttotal: 36.1s\tremaining: 12m 21s\n",
      "186:\ttest: 0.7053358\tbest: 0.7053358 (186)\ttotal: 36.4s\tremaining: 12m 21s\n",
      "187:\ttest: 0.7053409\tbest: 0.7053409 (187)\ttotal: 36.5s\tremaining: 12m 20s\n",
      "188:\ttest: 0.7053756\tbest: 0.7053756 (188)\ttotal: 36.7s\tremaining: 12m 19s\n",
      "189:\ttest: 0.7054030\tbest: 0.7054030 (189)\ttotal: 36.9s\tremaining: 12m 19s\n",
      "190:\ttest: 0.7054030\tbest: 0.7054030 (189)\ttotal: 36.9s\tremaining: 12m 16s\n",
      "191:\ttest: 0.7054348\tbest: 0.7054348 (191)\ttotal: 37.1s\tremaining: 12m 16s\n",
      "192:\ttest: 0.7054802\tbest: 0.7054802 (192)\ttotal: 37.3s\tremaining: 12m 16s\n",
      "193:\ttest: 0.7055107\tbest: 0.7055107 (193)\ttotal: 37.6s\tremaining: 12m 16s\n",
      "194:\ttest: 0.7055653\tbest: 0.7055653 (194)\ttotal: 37.8s\tremaining: 12m 16s\n",
      "195:\ttest: 0.7056286\tbest: 0.7056286 (195)\ttotal: 38s\tremaining: 12m 16s\n",
      "196:\ttest: 0.7056459\tbest: 0.7056459 (196)\ttotal: 38.2s\tremaining: 12m 16s\n",
      "197:\ttest: 0.7056952\tbest: 0.7056952 (197)\ttotal: 38.4s\tremaining: 12m 16s\n",
      "198:\ttest: 0.7057127\tbest: 0.7057127 (198)\ttotal: 38.6s\tremaining: 12m 16s\n",
      "199:\ttest: 0.7057387\tbest: 0.7057387 (199)\ttotal: 38.8s\tremaining: 12m 17s\n",
      "200:\ttest: 0.7057735\tbest: 0.7057735 (200)\ttotal: 39s\tremaining: 12m 17s\n",
      "201:\ttest: 0.7057700\tbest: 0.7057735 (200)\ttotal: 39.2s\tremaining: 12m 17s\n",
      "202:\ttest: 0.7058130\tbest: 0.7058130 (202)\ttotal: 39.4s\tremaining: 12m 17s\n",
      "203:\ttest: 0.7058669\tbest: 0.7058669 (203)\ttotal: 39.6s\tremaining: 12m 16s\n",
      "204:\ttest: 0.7058922\tbest: 0.7058922 (204)\ttotal: 39.8s\tremaining: 12m 16s\n",
      "205:\ttest: 0.7059227\tbest: 0.7059227 (205)\ttotal: 40s\tremaining: 12m 16s\n",
      "206:\ttest: 0.7059114\tbest: 0.7059227 (205)\ttotal: 40.1s\tremaining: 12m 14s\n",
      "207:\ttest: 0.7059399\tbest: 0.7059399 (207)\ttotal: 40.3s\tremaining: 12m 14s\n",
      "208:\ttest: 0.7059405\tbest: 0.7059405 (208)\ttotal: 40.4s\tremaining: 12m 12s\n",
      "209:\ttest: 0.7059895\tbest: 0.7059895 (209)\ttotal: 40.6s\tremaining: 12m 11s\n",
      "210:\ttest: 0.7060435\tbest: 0.7060435 (210)\ttotal: 40.7s\tremaining: 12m 11s\n",
      "211:\ttest: 0.7060940\tbest: 0.7060940 (211)\ttotal: 40.9s\tremaining: 12m 11s\n",
      "212:\ttest: 0.7061366\tbest: 0.7061366 (212)\ttotal: 41.1s\tremaining: 12m 11s\n",
      "213:\ttest: 0.7061803\tbest: 0.7061803 (213)\ttotal: 41.3s\tremaining: 12m 11s\n",
      "214:\ttest: 0.7062178\tbest: 0.7062178 (214)\ttotal: 41.5s\tremaining: 12m 11s\n",
      "215:\ttest: 0.7062518\tbest: 0.7062518 (215)\ttotal: 41.7s\tremaining: 12m 11s\n",
      "216:\ttest: 0.7062803\tbest: 0.7062803 (216)\ttotal: 42s\tremaining: 12m 11s\n",
      "217:\ttest: 0.7063064\tbest: 0.7063064 (217)\ttotal: 42.2s\tremaining: 12m 11s\n",
      "218:\ttest: 0.7063271\tbest: 0.7063271 (218)\ttotal: 42.4s\tremaining: 12m 11s\n",
      "219:\ttest: 0.7063528\tbest: 0.7063528 (219)\ttotal: 42.6s\tremaining: 12m 11s\n",
      "220:\ttest: 0.7063922\tbest: 0.7063922 (220)\ttotal: 42.8s\tremaining: 12m 11s\n",
      "221:\ttest: 0.7064599\tbest: 0.7064599 (221)\ttotal: 43s\tremaining: 12m 11s\n",
      "222:\ttest: 0.7065053\tbest: 0.7065053 (222)\ttotal: 43.2s\tremaining: 12m 11s\n"
     ]
    },
    {
     "name": "stdout",
     "output_type": "stream",
     "text": [
      "223:\ttest: 0.7065188\tbest: 0.7065188 (223)\ttotal: 43.4s\tremaining: 12m 11s\n",
      "224:\ttest: 0.7065449\tbest: 0.7065449 (224)\ttotal: 43.6s\tremaining: 12m 11s\n",
      "225:\ttest: 0.7065634\tbest: 0.7065634 (225)\ttotal: 43.8s\tremaining: 12m 11s\n",
      "226:\ttest: 0.7066079\tbest: 0.7066079 (226)\ttotal: 44s\tremaining: 12m 11s\n",
      "227:\ttest: 0.7066277\tbest: 0.7066277 (227)\ttotal: 44.2s\tremaining: 12m 11s\n",
      "228:\ttest: 0.7066713\tbest: 0.7066713 (228)\ttotal: 44.4s\tremaining: 12m 11s\n",
      "229:\ttest: 0.7067183\tbest: 0.7067183 (229)\ttotal: 44.6s\tremaining: 12m 11s\n",
      "230:\ttest: 0.7067512\tbest: 0.7067512 (230)\ttotal: 44.8s\tremaining: 12m 11s\n",
      "231:\ttest: 0.7067789\tbest: 0.7067789 (231)\ttotal: 45s\tremaining: 12m 10s\n",
      "232:\ttest: 0.7068260\tbest: 0.7068260 (232)\ttotal: 45.2s\tremaining: 12m 10s\n",
      "233:\ttest: 0.7068258\tbest: 0.7068260 (232)\ttotal: 45.4s\tremaining: 12m 10s\n",
      "234:\ttest: 0.7068398\tbest: 0.7068398 (234)\ttotal: 45.6s\tremaining: 12m 10s\n",
      "235:\ttest: 0.7068608\tbest: 0.7068608 (235)\ttotal: 45.8s\tremaining: 12m 10s\n",
      "236:\ttest: 0.7068962\tbest: 0.7068962 (236)\ttotal: 46s\tremaining: 12m 9s\n",
      "237:\ttest: 0.7069360\tbest: 0.7069360 (237)\ttotal: 46.2s\tremaining: 12m 9s\n",
      "238:\ttest: 0.7069360\tbest: 0.7069360 (237)\ttotal: 46.2s\tremaining: 12m 7s\n",
      "239:\ttest: 0.7069510\tbest: 0.7069510 (239)\ttotal: 46.4s\tremaining: 12m 7s\n",
      "240:\ttest: 0.7069641\tbest: 0.7069641 (240)\ttotal: 46.6s\tremaining: 12m 7s\n",
      "241:\ttest: 0.7069930\tbest: 0.7069930 (241)\ttotal: 46.9s\tremaining: 12m 7s\n",
      "242:\ttest: 0.7070309\tbest: 0.7070309 (242)\ttotal: 47s\tremaining: 12m 7s\n",
      "243:\ttest: 0.7070421\tbest: 0.7070421 (243)\ttotal: 47.2s\tremaining: 12m 7s\n",
      "244:\ttest: 0.7070593\tbest: 0.7070593 (244)\ttotal: 47.4s\tremaining: 12m 7s\n",
      "245:\ttest: 0.7070849\tbest: 0.7070849 (245)\ttotal: 47.6s\tremaining: 12m 7s\n",
      "246:\ttest: 0.7071260\tbest: 0.7071260 (246)\ttotal: 47.8s\tremaining: 12m 6s\n",
      "247:\ttest: 0.7071575\tbest: 0.7071575 (247)\ttotal: 48s\tremaining: 12m 6s\n",
      "248:\ttest: 0.7071644\tbest: 0.7071644 (248)\ttotal: 48.1s\tremaining: 12m 5s\n",
      "249:\ttest: 0.7071644\tbest: 0.7071644 (248)\ttotal: 48.2s\tremaining: 12m 3s\n",
      "250:\ttest: 0.7071835\tbest: 0.7071835 (250)\ttotal: 48.4s\tremaining: 12m 2s\n",
      "251:\ttest: 0.7072140\tbest: 0.7072140 (251)\ttotal: 48.6s\tremaining: 12m 2s\n",
      "252:\ttest: 0.7072390\tbest: 0.7072390 (252)\ttotal: 48.8s\tremaining: 12m 2s\n",
      "253:\ttest: 0.7072598\tbest: 0.7072598 (253)\ttotal: 49s\tremaining: 12m 2s\n",
      "254:\ttest: 0.7072853\tbest: 0.7072853 (254)\ttotal: 49.2s\tremaining: 12m 2s\n",
      "255:\ttest: 0.7073018\tbest: 0.7073018 (255)\ttotal: 49.4s\tremaining: 12m 2s\n",
      "256:\ttest: 0.7073310\tbest: 0.7073310 (256)\ttotal: 49.6s\tremaining: 12m 2s\n",
      "257:\ttest: 0.7073577\tbest: 0.7073577 (257)\ttotal: 49.8s\tremaining: 12m 2s\n",
      "258:\ttest: 0.7073942\tbest: 0.7073942 (258)\ttotal: 50s\tremaining: 12m 2s\n",
      "259:\ttest: 0.7074155\tbest: 0.7074155 (259)\ttotal: 50.2s\tremaining: 12m 1s\n",
      "260:\ttest: 0.7074575\tbest: 0.7074575 (260)\ttotal: 50.4s\tremaining: 12m 1s\n",
      "261:\ttest: 0.7074783\tbest: 0.7074783 (261)\ttotal: 50.6s\tremaining: 12m 2s\n",
      "262:\ttest: 0.7075070\tbest: 0.7075070 (262)\ttotal: 50.8s\tremaining: 12m 2s\n",
      "263:\ttest: 0.7075208\tbest: 0.7075208 (263)\ttotal: 51s\tremaining: 12m 2s\n",
      "264:\ttest: 0.7075412\tbest: 0.7075412 (264)\ttotal: 51.2s\tremaining: 12m 2s\n",
      "265:\ttest: 0.7075630\tbest: 0.7075630 (265)\ttotal: 51.4s\tremaining: 12m 2s\n",
      "266:\ttest: 0.7075758\tbest: 0.7075758 (266)\ttotal: 51.7s\tremaining: 12m 2s\n",
      "267:\ttest: 0.7075883\tbest: 0.7075883 (267)\ttotal: 51.9s\tremaining: 12m 2s\n",
      "268:\ttest: 0.7076144\tbest: 0.7076144 (268)\ttotal: 52.1s\tremaining: 12m 2s\n",
      "269:\ttest: 0.7076528\tbest: 0.7076528 (269)\ttotal: 52.3s\tremaining: 12m 2s\n",
      "270:\ttest: 0.7076765\tbest: 0.7076765 (270)\ttotal: 52.5s\tremaining: 12m 2s\n",
      "271:\ttest: 0.7077081\tbest: 0.7077081 (271)\ttotal: 52.7s\tremaining: 12m 2s\n",
      "272:\ttest: 0.7077391\tbest: 0.7077391 (272)\ttotal: 52.9s\tremaining: 12m 2s\n",
      "273:\ttest: 0.7077634\tbest: 0.7077634 (273)\ttotal: 53.1s\tremaining: 12m 2s\n",
      "274:\ttest: 0.7077897\tbest: 0.7077897 (274)\ttotal: 53.3s\tremaining: 12m 2s\n",
      "275:\ttest: 0.7078182\tbest: 0.7078182 (275)\ttotal: 53.5s\tremaining: 12m 2s\n",
      "276:\ttest: 0.7078237\tbest: 0.7078237 (276)\ttotal: 53.7s\tremaining: 12m 2s\n",
      "277:\ttest: 0.7078457\tbest: 0.7078457 (277)\ttotal: 54s\tremaining: 12m 2s\n",
      "278:\ttest: 0.7078724\tbest: 0.7078724 (278)\ttotal: 54.1s\tremaining: 12m 2s\n",
      "279:\ttest: 0.7078995\tbest: 0.7078995 (279)\ttotal: 54.3s\tremaining: 12m 2s\n",
      "280:\ttest: 0.7078993\tbest: 0.7078995 (279)\ttotal: 54.4s\tremaining: 12m\n",
      "281:\ttest: 0.7079199\tbest: 0.7079199 (281)\ttotal: 54.6s\tremaining: 12m\n",
      "282:\ttest: 0.7079535\tbest: 0.7079535 (282)\ttotal: 54.8s\tremaining: 12m\n",
      "283:\ttest: 0.7079728\tbest: 0.7079728 (283)\ttotal: 55s\tremaining: 11m 59s\n",
      "284:\ttest: 0.7079906\tbest: 0.7079906 (284)\ttotal: 55.2s\tremaining: 11m 59s\n",
      "285:\ttest: 0.7080077\tbest: 0.7080077 (285)\ttotal: 55.4s\tremaining: 11m 59s\n",
      "286:\ttest: 0.7080161\tbest: 0.7080161 (286)\ttotal: 55.6s\tremaining: 11m 59s\n",
      "287:\ttest: 0.7080374\tbest: 0.7080374 (287)\ttotal: 55.8s\tremaining: 11m 59s\n",
      "288:\ttest: 0.7080478\tbest: 0.7080478 (288)\ttotal: 56s\tremaining: 11m 59s\n",
      "289:\ttest: 0.7080611\tbest: 0.7080611 (289)\ttotal: 56.2s\tremaining: 11m 58s\n",
      "290:\ttest: 0.7080759\tbest: 0.7080759 (290)\ttotal: 56.3s\tremaining: 11m 57s\n",
      "291:\ttest: 0.7080989\tbest: 0.7080989 (291)\ttotal: 56.5s\tremaining: 11m 57s\n",
      "292:\ttest: 0.7081260\tbest: 0.7081260 (292)\ttotal: 56.7s\tremaining: 11m 57s\n",
      "293:\ttest: 0.7081443\tbest: 0.7081443 (293)\ttotal: 56.9s\tremaining: 11m 57s\n",
      "294:\ttest: 0.7081670\tbest: 0.7081670 (294)\ttotal: 57.1s\tremaining: 11m 57s\n",
      "295:\ttest: 0.7082002\tbest: 0.7082002 (295)\ttotal: 57.3s\tremaining: 11m 57s\n",
      "296:\ttest: 0.7082341\tbest: 0.7082341 (296)\ttotal: 57.5s\tremaining: 11m 57s\n",
      "297:\ttest: 0.7082607\tbest: 0.7082607 (297)\ttotal: 57.7s\tremaining: 11m 57s\n",
      "298:\ttest: 0.7082768\tbest: 0.7082768 (298)\ttotal: 58s\tremaining: 11m 57s\n",
      "299:\ttest: 0.7082949\tbest: 0.7082949 (299)\ttotal: 58.2s\tremaining: 11m 57s\n",
      "300:\ttest: 0.7083213\tbest: 0.7083213 (300)\ttotal: 58.4s\tremaining: 11m 57s\n",
      "301:\ttest: 0.7083362\tbest: 0.7083362 (301)\ttotal: 58.6s\tremaining: 11m 57s\n",
      "302:\ttest: 0.7083499\tbest: 0.7083499 (302)\ttotal: 58.8s\tremaining: 11m 58s\n",
      "303:\ttest: 0.7083688\tbest: 0.7083688 (303)\ttotal: 59.1s\tremaining: 11m 57s\n",
      "304:\ttest: 0.7083907\tbest: 0.7083907 (304)\ttotal: 59.3s\tremaining: 11m 57s\n",
      "305:\ttest: 0.7083994\tbest: 0.7083994 (305)\ttotal: 59.5s\tremaining: 11m 57s\n",
      "306:\ttest: 0.7084080\tbest: 0.7084080 (306)\ttotal: 59.7s\tremaining: 11m 57s\n",
      "307:\ttest: 0.7084189\tbest: 0.7084189 (307)\ttotal: 59.9s\tremaining: 11m 57s\n",
      "308:\ttest: 0.7084336\tbest: 0.7084336 (308)\ttotal: 1m\tremaining: 11m 57s\n",
      "309:\ttest: 0.7084515\tbest: 0.7084515 (309)\ttotal: 1m\tremaining: 11m 57s\n",
      "310:\ttest: 0.7084685\tbest: 0.7084685 (310)\ttotal: 1m\tremaining: 11m 57s\n",
      "311:\ttest: 0.7084768\tbest: 0.7084768 (311)\ttotal: 1m\tremaining: 11m 57s\n",
      "312:\ttest: 0.7084926\tbest: 0.7084926 (312)\ttotal: 1m\tremaining: 11m 56s\n",
      "313:\ttest: 0.7085097\tbest: 0.7085097 (313)\ttotal: 1m 1s\tremaining: 11m 56s\n",
      "314:\ttest: 0.7085062\tbest: 0.7085097 (313)\ttotal: 1m 1s\tremaining: 11m 56s\n",
      "315:\ttest: 0.7085193\tbest: 0.7085193 (315)\ttotal: 1m 1s\tremaining: 11m 56s\n",
      "316:\ttest: 0.7085463\tbest: 0.7085463 (316)\ttotal: 1m 1s\tremaining: 11m 56s\n",
      "317:\ttest: 0.7085708\tbest: 0.7085708 (317)\ttotal: 1m 1s\tremaining: 11m 55s\n",
      "318:\ttest: 0.7085907\tbest: 0.7085907 (318)\ttotal: 1m 2s\tremaining: 11m 55s\n",
      "319:\ttest: 0.7086030\tbest: 0.7086030 (319)\ttotal: 1m 2s\tremaining: 11m 55s\n",
      "320:\ttest: 0.7086179\tbest: 0.7086179 (320)\ttotal: 1m 2s\tremaining: 11m 55s\n",
      "321:\ttest: 0.7086309\tbest: 0.7086309 (321)\ttotal: 1m 2s\tremaining: 11m 55s\n",
      "322:\ttest: 0.7086438\tbest: 0.7086438 (322)\ttotal: 1m 2s\tremaining: 11m 55s\n",
      "323:\ttest: 0.7086619\tbest: 0.7086619 (323)\ttotal: 1m 3s\tremaining: 11m 55s\n",
      "324:\ttest: 0.7086724\tbest: 0.7086724 (324)\ttotal: 1m 3s\tremaining: 11m 55s\n",
      "325:\ttest: 0.7086912\tbest: 0.7086912 (325)\ttotal: 1m 3s\tremaining: 11m 55s\n",
      "326:\ttest: 0.7086978\tbest: 0.7086978 (326)\ttotal: 1m 3s\tremaining: 11m 54s\n",
      "327:\ttest: 0.7087190\tbest: 0.7087190 (327)\ttotal: 1m 3s\tremaining: 11m 54s\n",
      "328:\ttest: 0.7087403\tbest: 0.7087403 (328)\ttotal: 1m 4s\tremaining: 11m 54s\n",
      "329:\ttest: 0.7087601\tbest: 0.7087601 (329)\ttotal: 1m 4s\tremaining: 11m 54s\n",
      "330:\ttest: 0.7087931\tbest: 0.7087931 (330)\ttotal: 1m 4s\tremaining: 11m 54s\n",
      "331:\ttest: 0.7088147\tbest: 0.7088147 (331)\ttotal: 1m 4s\tremaining: 11m 54s\n",
      "332:\ttest: 0.7088359\tbest: 0.7088359 (332)\ttotal: 1m 4s\tremaining: 11m 54s\n",
      "333:\ttest: 0.7088442\tbest: 0.7088442 (333)\ttotal: 1m 5s\tremaining: 11m 53s\n"
     ]
    },
    {
     "name": "stdout",
     "output_type": "stream",
     "text": [
      "334:\ttest: 0.7088644\tbest: 0.7088644 (334)\ttotal: 1m 5s\tremaining: 11m 54s\n",
      "335:\ttest: 0.7088770\tbest: 0.7088770 (335)\ttotal: 1m 5s\tremaining: 11m 54s\n",
      "336:\ttest: 0.7089007\tbest: 0.7089007 (336)\ttotal: 1m 5s\tremaining: 11m 54s\n",
      "337:\ttest: 0.7089089\tbest: 0.7089089 (337)\ttotal: 1m 5s\tremaining: 11m 54s\n",
      "338:\ttest: 0.7089268\tbest: 0.7089268 (338)\ttotal: 1m 6s\tremaining: 11m 54s\n",
      "339:\ttest: 0.7089519\tbest: 0.7089519 (339)\ttotal: 1m 6s\tremaining: 11m 54s\n",
      "340:\ttest: 0.7089596\tbest: 0.7089596 (340)\ttotal: 1m 6s\tremaining: 11m 54s\n",
      "341:\ttest: 0.7089766\tbest: 0.7089766 (341)\ttotal: 1m 6s\tremaining: 11m 54s\n",
      "342:\ttest: 0.7089881\tbest: 0.7089881 (342)\ttotal: 1m 6s\tremaining: 11m 54s\n",
      "343:\ttest: 0.7090093\tbest: 0.7090093 (343)\ttotal: 1m 7s\tremaining: 11m 54s\n",
      "344:\ttest: 0.7090184\tbest: 0.7090184 (344)\ttotal: 1m 7s\tremaining: 11m 53s\n",
      "345:\ttest: 0.7090227\tbest: 0.7090227 (345)\ttotal: 1m 7s\tremaining: 11m 53s\n",
      "346:\ttest: 0.7090510\tbest: 0.7090510 (346)\ttotal: 1m 7s\tremaining: 11m 53s\n",
      "347:\ttest: 0.7090575\tbest: 0.7090575 (347)\ttotal: 1m 7s\tremaining: 11m 53s\n",
      "348:\ttest: 0.7090759\tbest: 0.7090759 (348)\ttotal: 1m 8s\tremaining: 11m 53s\n",
      "349:\ttest: 0.7090901\tbest: 0.7090901 (349)\ttotal: 1m 8s\tremaining: 11m 53s\n",
      "350:\ttest: 0.7091144\tbest: 0.7091144 (350)\ttotal: 1m 8s\tremaining: 11m 53s\n",
      "351:\ttest: 0.7091242\tbest: 0.7091242 (351)\ttotal: 1m 8s\tremaining: 11m 53s\n",
      "352:\ttest: 0.7091359\tbest: 0.7091359 (352)\ttotal: 1m 9s\tremaining: 11m 53s\n",
      "353:\ttest: 0.7091426\tbest: 0.7091426 (353)\ttotal: 1m 9s\tremaining: 11m 52s\n",
      "354:\ttest: 0.7091617\tbest: 0.7091617 (354)\ttotal: 1m 9s\tremaining: 11m 52s\n",
      "355:\ttest: 0.7091853\tbest: 0.7091853 (355)\ttotal: 1m 9s\tremaining: 11m 52s\n",
      "356:\ttest: 0.7091984\tbest: 0.7091984 (356)\ttotal: 1m 9s\tremaining: 11m 52s\n",
      "357:\ttest: 0.7092088\tbest: 0.7092088 (357)\ttotal: 1m 10s\tremaining: 11m 52s\n",
      "358:\ttest: 0.7092256\tbest: 0.7092256 (358)\ttotal: 1m 10s\tremaining: 11m 52s\n",
      "359:\ttest: 0.7092468\tbest: 0.7092468 (359)\ttotal: 1m 10s\tremaining: 11m 51s\n",
      "360:\ttest: 0.7092586\tbest: 0.7092586 (360)\ttotal: 1m 10s\tremaining: 11m 51s\n",
      "361:\ttest: 0.7092645\tbest: 0.7092645 (361)\ttotal: 1m 10s\tremaining: 11m 51s\n",
      "362:\ttest: 0.7092667\tbest: 0.7092667 (362)\ttotal: 1m 10s\tremaining: 11m 50s\n",
      "363:\ttest: 0.7092781\tbest: 0.7092781 (363)\ttotal: 1m 11s\tremaining: 11m 49s\n",
      "364:\ttest: 0.7092964\tbest: 0.7092964 (364)\ttotal: 1m 11s\tremaining: 11m 50s\n",
      "365:\ttest: 0.7093129\tbest: 0.7093129 (365)\ttotal: 1m 11s\tremaining: 11m 50s\n",
      "366:\ttest: 0.7093248\tbest: 0.7093248 (366)\ttotal: 1m 11s\tremaining: 11m 50s\n",
      "367:\ttest: 0.7093309\tbest: 0.7093309 (367)\ttotal: 1m 11s\tremaining: 11m 49s\n",
      "368:\ttest: 0.7093374\tbest: 0.7093374 (368)\ttotal: 1m 12s\tremaining: 11m 49s\n",
      "369:\ttest: 0.7093494\tbest: 0.7093494 (369)\ttotal: 1m 12s\tremaining: 11m 49s\n",
      "370:\ttest: 0.7093670\tbest: 0.7093670 (370)\ttotal: 1m 12s\tremaining: 11m 49s\n",
      "371:\ttest: 0.7093872\tbest: 0.7093872 (371)\ttotal: 1m 12s\tremaining: 11m 49s\n",
      "372:\ttest: 0.7093963\tbest: 0.7093963 (372)\ttotal: 1m 12s\tremaining: 11m 49s\n",
      "373:\ttest: 0.7094061\tbest: 0.7094061 (373)\ttotal: 1m 13s\tremaining: 11m 49s\n",
      "374:\ttest: 0.7094236\tbest: 0.7094236 (374)\ttotal: 1m 13s\tremaining: 11m 49s\n",
      "375:\ttest: 0.7094338\tbest: 0.7094338 (375)\ttotal: 1m 13s\tremaining: 11m 49s\n",
      "376:\ttest: 0.7094416\tbest: 0.7094416 (376)\ttotal: 1m 13s\tremaining: 11m 49s\n",
      "377:\ttest: 0.7094546\tbest: 0.7094546 (377)\ttotal: 1m 14s\tremaining: 11m 49s\n",
      "378:\ttest: 0.7094658\tbest: 0.7094658 (378)\ttotal: 1m 14s\tremaining: 11m 49s\n",
      "379:\ttest: 0.7094793\tbest: 0.7094793 (379)\ttotal: 1m 14s\tremaining: 11m 49s\n",
      "380:\ttest: 0.7094962\tbest: 0.7094962 (380)\ttotal: 1m 14s\tremaining: 11m 49s\n",
      "381:\ttest: 0.7095142\tbest: 0.7095142 (381)\ttotal: 1m 14s\tremaining: 11m 49s\n",
      "382:\ttest: 0.7095290\tbest: 0.7095290 (382)\ttotal: 1m 15s\tremaining: 11m 49s\n",
      "383:\ttest: 0.7095373\tbest: 0.7095373 (383)\ttotal: 1m 15s\tremaining: 11m 49s\n",
      "384:\ttest: 0.7095577\tbest: 0.7095577 (384)\ttotal: 1m 15s\tremaining: 11m 49s\n",
      "385:\ttest: 0.7095727\tbest: 0.7095727 (385)\ttotal: 1m 15s\tremaining: 11m 48s\n",
      "386:\ttest: 0.7096003\tbest: 0.7096003 (386)\ttotal: 1m 15s\tremaining: 11m 48s\n",
      "387:\ttest: 0.7096153\tbest: 0.7096153 (387)\ttotal: 1m 16s\tremaining: 11m 49s\n",
      "388:\ttest: 0.7096277\tbest: 0.7096277 (388)\ttotal: 1m 16s\tremaining: 11m 48s\n",
      "389:\ttest: 0.7096400\tbest: 0.7096400 (389)\ttotal: 1m 16s\tremaining: 11m 48s\n",
      "390:\ttest: 0.7096482\tbest: 0.7096482 (390)\ttotal: 1m 16s\tremaining: 11m 48s\n",
      "391:\ttest: 0.7096571\tbest: 0.7096571 (391)\ttotal: 1m 17s\tremaining: 11m 48s\n",
      "392:\ttest: 0.7096621\tbest: 0.7096621 (392)\ttotal: 1m 17s\tremaining: 11m 48s\n",
      "393:\ttest: 0.7096770\tbest: 0.7096770 (393)\ttotal: 1m 17s\tremaining: 11m 48s\n",
      "394:\ttest: 0.7096933\tbest: 0.7096933 (394)\ttotal: 1m 17s\tremaining: 11m 48s\n",
      "395:\ttest: 0.7097032\tbest: 0.7097032 (395)\ttotal: 1m 17s\tremaining: 11m 48s\n",
      "396:\ttest: 0.7097193\tbest: 0.7097193 (396)\ttotal: 1m 18s\tremaining: 11m 48s\n",
      "397:\ttest: 0.7097355\tbest: 0.7097355 (397)\ttotal: 1m 18s\tremaining: 11m 48s\n",
      "398:\ttest: 0.7097527\tbest: 0.7097527 (398)\ttotal: 1m 18s\tremaining: 11m 48s\n",
      "399:\ttest: 0.7097568\tbest: 0.7097568 (399)\ttotal: 1m 18s\tremaining: 11m 48s\n",
      "400:\ttest: 0.7097711\tbest: 0.7097711 (400)\ttotal: 1m 18s\tremaining: 11m 48s\n",
      "401:\ttest: 0.7097741\tbest: 0.7097741 (401)\ttotal: 1m 19s\tremaining: 11m 47s\n",
      "402:\ttest: 0.7097865\tbest: 0.7097865 (402)\ttotal: 1m 19s\tremaining: 11m 47s\n",
      "403:\ttest: 0.7097985\tbest: 0.7097985 (403)\ttotal: 1m 19s\tremaining: 11m 47s\n",
      "404:\ttest: 0.7098156\tbest: 0.7098156 (404)\ttotal: 1m 19s\tremaining: 11m 47s\n",
      "405:\ttest: 0.7098390\tbest: 0.7098390 (405)\ttotal: 1m 19s\tremaining: 11m 47s\n",
      "406:\ttest: 0.7098552\tbest: 0.7098552 (406)\ttotal: 1m 20s\tremaining: 11m 46s\n",
      "407:\ttest: 0.7098629\tbest: 0.7098629 (407)\ttotal: 1m 20s\tremaining: 11m 46s\n",
      "408:\ttest: 0.7098701\tbest: 0.7098701 (408)\ttotal: 1m 20s\tremaining: 11m 46s\n",
      "409:\ttest: 0.7098811\tbest: 0.7098811 (409)\ttotal: 1m 20s\tremaining: 11m 46s\n",
      "410:\ttest: 0.7098943\tbest: 0.7098943 (410)\ttotal: 1m 20s\tremaining: 11m 46s\n",
      "411:\ttest: 0.7099002\tbest: 0.7099002 (411)\ttotal: 1m 21s\tremaining: 11m 46s\n",
      "412:\ttest: 0.7099207\tbest: 0.7099207 (412)\ttotal: 1m 21s\tremaining: 11m 46s\n",
      "413:\ttest: 0.7099289\tbest: 0.7099289 (413)\ttotal: 1m 21s\tremaining: 11m 46s\n",
      "414:\ttest: 0.7099394\tbest: 0.7099394 (414)\ttotal: 1m 21s\tremaining: 11m 45s\n",
      "415:\ttest: 0.7099460\tbest: 0.7099460 (415)\ttotal: 1m 21s\tremaining: 11m 45s\n",
      "416:\ttest: 0.7099585\tbest: 0.7099585 (416)\ttotal: 1m 22s\tremaining: 11m 45s\n",
      "417:\ttest: 0.7099586\tbest: 0.7099586 (417)\ttotal: 1m 22s\tremaining: 11m 45s\n",
      "418:\ttest: 0.7099780\tbest: 0.7099780 (418)\ttotal: 1m 22s\tremaining: 11m 45s\n",
      "419:\ttest: 0.7099865\tbest: 0.7099865 (419)\ttotal: 1m 22s\tremaining: 11m 44s\n",
      "420:\ttest: 0.7099997\tbest: 0.7099997 (420)\ttotal: 1m 22s\tremaining: 11m 44s\n",
      "421:\ttest: 0.7099996\tbest: 0.7099997 (420)\ttotal: 1m 23s\tremaining: 11m 44s\n",
      "422:\ttest: 0.7100085\tbest: 0.7100085 (422)\ttotal: 1m 23s\tremaining: 11m 44s\n",
      "423:\ttest: 0.7100197\tbest: 0.7100197 (423)\ttotal: 1m 23s\tremaining: 11m 44s\n",
      "424:\ttest: 0.7100268\tbest: 0.7100268 (424)\ttotal: 1m 23s\tremaining: 11m 44s\n",
      "425:\ttest: 0.7100357\tbest: 0.7100357 (425)\ttotal: 1m 23s\tremaining: 11m 44s\n",
      "426:\ttest: 0.7100543\tbest: 0.7100543 (426)\ttotal: 1m 24s\tremaining: 11m 43s\n",
      "427:\ttest: 0.7100635\tbest: 0.7100635 (427)\ttotal: 1m 24s\tremaining: 11m 43s\n",
      "428:\ttest: 0.7100715\tbest: 0.7100715 (428)\ttotal: 1m 24s\tremaining: 11m 43s\n",
      "429:\ttest: 0.7100843\tbest: 0.7100843 (429)\ttotal: 1m 24s\tremaining: 11m 43s\n",
      "430:\ttest: 0.7100898\tbest: 0.7100898 (430)\ttotal: 1m 24s\tremaining: 11m 43s\n",
      "431:\ttest: 0.7100954\tbest: 0.7100954 (431)\ttotal: 1m 25s\tremaining: 11m 42s\n",
      "432:\ttest: 0.7101014\tbest: 0.7101014 (432)\ttotal: 1m 25s\tremaining: 11m 42s\n",
      "433:\ttest: 0.7101068\tbest: 0.7101068 (433)\ttotal: 1m 25s\tremaining: 11m 42s\n",
      "434:\ttest: 0.7101182\tbest: 0.7101182 (434)\ttotal: 1m 25s\tremaining: 11m 42s\n",
      "435:\ttest: 0.7101428\tbest: 0.7101428 (435)\ttotal: 1m 25s\tremaining: 11m 42s\n",
      "436:\ttest: 0.7101546\tbest: 0.7101546 (436)\ttotal: 1m 26s\tremaining: 11m 42s\n",
      "437:\ttest: 0.7101722\tbest: 0.7101722 (437)\ttotal: 1m 26s\tremaining: 11m 41s\n",
      "438:\ttest: 0.7101839\tbest: 0.7101839 (438)\ttotal: 1m 26s\tremaining: 11m 41s\n",
      "439:\ttest: 0.7101968\tbest: 0.7101968 (439)\ttotal: 1m 26s\tremaining: 11m 41s\n",
      "440:\ttest: 0.7102098\tbest: 0.7102098 (440)\ttotal: 1m 26s\tremaining: 11m 41s\n",
      "441:\ttest: 0.7102265\tbest: 0.7102265 (441)\ttotal: 1m 27s\tremaining: 11m 41s\n",
      "442:\ttest: 0.7102289\tbest: 0.7102289 (442)\ttotal: 1m 27s\tremaining: 11m 41s\n"
     ]
    },
    {
     "name": "stdout",
     "output_type": "stream",
     "text": [
      "443:\ttest: 0.7102387\tbest: 0.7102387 (443)\ttotal: 1m 27s\tremaining: 11m 41s\n",
      "444:\ttest: 0.7102451\tbest: 0.7102451 (444)\ttotal: 1m 27s\tremaining: 11m 41s\n",
      "445:\ttest: 0.7102577\tbest: 0.7102577 (445)\ttotal: 1m 27s\tremaining: 11m 41s\n",
      "446:\ttest: 0.7102676\tbest: 0.7102676 (446)\ttotal: 1m 28s\tremaining: 11m 41s\n",
      "447:\ttest: 0.7102732\tbest: 0.7102732 (447)\ttotal: 1m 28s\tremaining: 11m 40s\n",
      "448:\ttest: 0.7102820\tbest: 0.7102820 (448)\ttotal: 1m 28s\tremaining: 11m 40s\n",
      "449:\ttest: 0.7102917\tbest: 0.7102917 (449)\ttotal: 1m 28s\tremaining: 11m 40s\n",
      "450:\ttest: 0.7103084\tbest: 0.7103084 (450)\ttotal: 1m 28s\tremaining: 11m 40s\n",
      "451:\ttest: 0.7103173\tbest: 0.7103173 (451)\ttotal: 1m 29s\tremaining: 11m 40s\n",
      "452:\ttest: 0.7103386\tbest: 0.7103386 (452)\ttotal: 1m 29s\tremaining: 11m 39s\n",
      "453:\ttest: 0.7103470\tbest: 0.7103470 (453)\ttotal: 1m 29s\tremaining: 11m 39s\n",
      "454:\ttest: 0.7103489\tbest: 0.7103489 (454)\ttotal: 1m 29s\tremaining: 11m 39s\n",
      "455:\ttest: 0.7103567\tbest: 0.7103567 (455)\ttotal: 1m 29s\tremaining: 11m 39s\n",
      "456:\ttest: 0.7103634\tbest: 0.7103634 (456)\ttotal: 1m 30s\tremaining: 11m 39s\n",
      "457:\ttest: 0.7103691\tbest: 0.7103691 (457)\ttotal: 1m 30s\tremaining: 11m 38s\n",
      "458:\ttest: 0.7103756\tbest: 0.7103756 (458)\ttotal: 1m 30s\tremaining: 11m 38s\n",
      "459:\ttest: 0.7103842\tbest: 0.7103842 (459)\ttotal: 1m 30s\tremaining: 11m 38s\n",
      "460:\ttest: 0.7103963\tbest: 0.7103963 (460)\ttotal: 1m 30s\tremaining: 11m 38s\n",
      "461:\ttest: 0.7104057\tbest: 0.7104057 (461)\ttotal: 1m 31s\tremaining: 11m 38s\n",
      "462:\ttest: 0.7104097\tbest: 0.7104097 (462)\ttotal: 1m 31s\tremaining: 11m 38s\n",
      "463:\ttest: 0.7104215\tbest: 0.7104215 (463)\ttotal: 1m 31s\tremaining: 11m 38s\n",
      "464:\ttest: 0.7104243\tbest: 0.7104243 (464)\ttotal: 1m 31s\tremaining: 11m 37s\n",
      "465:\ttest: 0.7104337\tbest: 0.7104337 (465)\ttotal: 1m 32s\tremaining: 11m 37s\n",
      "466:\ttest: 0.7104368\tbest: 0.7104368 (466)\ttotal: 1m 32s\tremaining: 11m 37s\n",
      "467:\ttest: 0.7104453\tbest: 0.7104453 (467)\ttotal: 1m 32s\tremaining: 11m 37s\n",
      "468:\ttest: 0.7104529\tbest: 0.7104529 (468)\ttotal: 1m 32s\tremaining: 11m 37s\n",
      "469:\ttest: 0.7104620\tbest: 0.7104620 (469)\ttotal: 1m 32s\tremaining: 11m 37s\n",
      "470:\ttest: 0.7104821\tbest: 0.7104821 (470)\ttotal: 1m 33s\tremaining: 11m 37s\n",
      "471:\ttest: 0.7104976\tbest: 0.7104976 (471)\ttotal: 1m 33s\tremaining: 11m 36s\n",
      "472:\ttest: 0.7105084\tbest: 0.7105084 (472)\ttotal: 1m 33s\tremaining: 11m 36s\n",
      "473:\ttest: 0.7105163\tbest: 0.7105163 (473)\ttotal: 1m 33s\tremaining: 11m 36s\n",
      "474:\ttest: 0.7105250\tbest: 0.7105250 (474)\ttotal: 1m 33s\tremaining: 11m 36s\n",
      "475:\ttest: 0.7105323\tbest: 0.7105323 (475)\ttotal: 1m 34s\tremaining: 11m 36s\n",
      "476:\ttest: 0.7105433\tbest: 0.7105433 (476)\ttotal: 1m 34s\tremaining: 11m 36s\n",
      "477:\ttest: 0.7105459\tbest: 0.7105459 (477)\ttotal: 1m 34s\tremaining: 11m 35s\n",
      "478:\ttest: 0.7105510\tbest: 0.7105510 (478)\ttotal: 1m 34s\tremaining: 11m 35s\n",
      "479:\ttest: 0.7105609\tbest: 0.7105609 (479)\ttotal: 1m 34s\tremaining: 11m 35s\n",
      "480:\ttest: 0.7105733\tbest: 0.7105733 (480)\ttotal: 1m 35s\tremaining: 11m 35s\n",
      "481:\ttest: 0.7105749\tbest: 0.7105749 (481)\ttotal: 1m 35s\tremaining: 11m 35s\n",
      "482:\ttest: 0.7105885\tbest: 0.7105885 (482)\ttotal: 1m 35s\tremaining: 11m 35s\n",
      "483:\ttest: 0.7105956\tbest: 0.7105956 (483)\ttotal: 1m 35s\tremaining: 11m 35s\n",
      "484:\ttest: 0.7106109\tbest: 0.7106109 (484)\ttotal: 1m 35s\tremaining: 11m 34s\n",
      "485:\ttest: 0.7106206\tbest: 0.7106206 (485)\ttotal: 1m 36s\tremaining: 11m 34s\n",
      "486:\ttest: 0.7106348\tbest: 0.7106348 (486)\ttotal: 1m 36s\tremaining: 11m 34s\n",
      "487:\ttest: 0.7106418\tbest: 0.7106418 (487)\ttotal: 1m 36s\tremaining: 11m 34s\n",
      "488:\ttest: 0.7106545\tbest: 0.7106545 (488)\ttotal: 1m 36s\tremaining: 11m 34s\n",
      "489:\ttest: 0.7106632\tbest: 0.7106632 (489)\ttotal: 1m 36s\tremaining: 11m 34s\n",
      "490:\ttest: 0.7106708\tbest: 0.7106708 (490)\ttotal: 1m 37s\tremaining: 11m 34s\n",
      "491:\ttest: 0.7106710\tbest: 0.7106710 (491)\ttotal: 1m 37s\tremaining: 11m 33s\n",
      "492:\ttest: 0.7106780\tbest: 0.7106780 (492)\ttotal: 1m 37s\tremaining: 11m 33s\n",
      "493:\ttest: 0.7106832\tbest: 0.7106832 (493)\ttotal: 1m 37s\tremaining: 11m 33s\n",
      "494:\ttest: 0.7106951\tbest: 0.7106951 (494)\ttotal: 1m 37s\tremaining: 11m 33s\n",
      "495:\ttest: 0.7107053\tbest: 0.7107053 (495)\ttotal: 1m 38s\tremaining: 11m 32s\n",
      "496:\ttest: 0.7107162\tbest: 0.7107162 (496)\ttotal: 1m 38s\tremaining: 11m 32s\n",
      "497:\ttest: 0.7107269\tbest: 0.7107269 (497)\ttotal: 1m 38s\tremaining: 11m 32s\n",
      "498:\ttest: 0.7107362\tbest: 0.7107362 (498)\ttotal: 1m 38s\tremaining: 11m 32s\n",
      "499:\ttest: 0.7107425\tbest: 0.7107425 (499)\ttotal: 1m 38s\tremaining: 11m 32s\n",
      "500:\ttest: 0.7107454\tbest: 0.7107454 (500)\ttotal: 1m 39s\tremaining: 11m 32s\n",
      "501:\ttest: 0.7107592\tbest: 0.7107592 (501)\ttotal: 1m 39s\tremaining: 11m 31s\n",
      "502:\ttest: 0.7107707\tbest: 0.7107707 (502)\ttotal: 1m 39s\tremaining: 11m 31s\n",
      "503:\ttest: 0.7107803\tbest: 0.7107803 (503)\ttotal: 1m 39s\tremaining: 11m 31s\n",
      "504:\ttest: 0.7107817\tbest: 0.7107817 (504)\ttotal: 1m 39s\tremaining: 11m 31s\n",
      "505:\ttest: 0.7107904\tbest: 0.7107904 (505)\ttotal: 1m 40s\tremaining: 11m 31s\n",
      "506:\ttest: 0.7107999\tbest: 0.7107999 (506)\ttotal: 1m 40s\tremaining: 11m 31s\n",
      "507:\ttest: 0.7108033\tbest: 0.7108033 (507)\ttotal: 1m 40s\tremaining: 11m 31s\n",
      "508:\ttest: 0.7108126\tbest: 0.7108126 (508)\ttotal: 1m 40s\tremaining: 11m 31s\n",
      "509:\ttest: 0.7108175\tbest: 0.7108175 (509)\ttotal: 1m 40s\tremaining: 11m 31s\n",
      "510:\ttest: 0.7108381\tbest: 0.7108381 (510)\ttotal: 1m 41s\tremaining: 11m 30s\n",
      "511:\ttest: 0.7108543\tbest: 0.7108543 (511)\ttotal: 1m 41s\tremaining: 11m 30s\n",
      "512:\ttest: 0.7108609\tbest: 0.7108609 (512)\ttotal: 1m 41s\tremaining: 11m 30s\n",
      "513:\ttest: 0.7108684\tbest: 0.7108684 (513)\ttotal: 1m 41s\tremaining: 11m 30s\n",
      "514:\ttest: 0.7108776\tbest: 0.7108776 (514)\ttotal: 1m 42s\tremaining: 11m 30s\n",
      "515:\ttest: 0.7108754\tbest: 0.7108776 (514)\ttotal: 1m 42s\tremaining: 11m 30s\n",
      "516:\ttest: 0.7108813\tbest: 0.7108813 (516)\ttotal: 1m 42s\tremaining: 11m 30s\n",
      "517:\ttest: 0.7108785\tbest: 0.7108813 (516)\ttotal: 1m 42s\tremaining: 11m 30s\n",
      "518:\ttest: 0.7108812\tbest: 0.7108813 (516)\ttotal: 1m 42s\tremaining: 11m 30s\n",
      "519:\ttest: 0.7108885\tbest: 0.7108885 (519)\ttotal: 1m 43s\tremaining: 11m 30s\n",
      "520:\ttest: 0.7108930\tbest: 0.7108930 (520)\ttotal: 1m 43s\tremaining: 11m 30s\n",
      "521:\ttest: 0.7109057\tbest: 0.7109057 (521)\ttotal: 1m 43s\tremaining: 11m 30s\n",
      "522:\ttest: 0.7109148\tbest: 0.7109148 (522)\ttotal: 1m 43s\tremaining: 11m 29s\n",
      "523:\ttest: 0.7109239\tbest: 0.7109239 (523)\ttotal: 1m 43s\tremaining: 11m 29s\n",
      "524:\ttest: 0.7109322\tbest: 0.7109322 (524)\ttotal: 1m 44s\tremaining: 11m 29s\n",
      "525:\ttest: 0.7109344\tbest: 0.7109344 (525)\ttotal: 1m 44s\tremaining: 11m 29s\n",
      "526:\ttest: 0.7109436\tbest: 0.7109436 (526)\ttotal: 1m 44s\tremaining: 11m 29s\n",
      "527:\ttest: 0.7109580\tbest: 0.7109580 (527)\ttotal: 1m 44s\tremaining: 11m 29s\n",
      "528:\ttest: 0.7109673\tbest: 0.7109673 (528)\ttotal: 1m 44s\tremaining: 11m 28s\n",
      "529:\ttest: 0.7109806\tbest: 0.7109806 (529)\ttotal: 1m 45s\tremaining: 11m 28s\n",
      "530:\ttest: 0.7109903\tbest: 0.7109903 (530)\ttotal: 1m 45s\tremaining: 11m 28s\n",
      "531:\ttest: 0.7109915\tbest: 0.7109915 (531)\ttotal: 1m 45s\tremaining: 11m 27s\n",
      "532:\ttest: 0.7109971\tbest: 0.7109971 (532)\ttotal: 1m 45s\tremaining: 11m 27s\n",
      "533:\ttest: 0.7110135\tbest: 0.7110135 (533)\ttotal: 1m 45s\tremaining: 11m 26s\n",
      "534:\ttest: 0.7110216\tbest: 0.7110216 (534)\ttotal: 1m 46s\tremaining: 11m 26s\n",
      "535:\ttest: 0.7110339\tbest: 0.7110339 (535)\ttotal: 1m 46s\tremaining: 11m 26s\n",
      "536:\ttest: 0.7110427\tbest: 0.7110427 (536)\ttotal: 1m 46s\tremaining: 11m 26s\n",
      "537:\ttest: 0.7110559\tbest: 0.7110559 (537)\ttotal: 1m 46s\tremaining: 11m 26s\n",
      "538:\ttest: 0.7110643\tbest: 0.7110643 (538)\ttotal: 1m 46s\tremaining: 11m 26s\n",
      "539:\ttest: 0.7110755\tbest: 0.7110755 (539)\ttotal: 1m 47s\tremaining: 11m 26s\n",
      "540:\ttest: 0.7110852\tbest: 0.7110852 (540)\ttotal: 1m 47s\tremaining: 11m 26s\n",
      "541:\ttest: 0.7110891\tbest: 0.7110891 (541)\ttotal: 1m 47s\tremaining: 11m 25s\n",
      "542:\ttest: 0.7110995\tbest: 0.7110995 (542)\ttotal: 1m 47s\tremaining: 11m 25s\n",
      "543:\ttest: 0.7111108\tbest: 0.7111108 (543)\ttotal: 1m 47s\tremaining: 11m 25s\n",
      "544:\ttest: 0.7111155\tbest: 0.7111155 (544)\ttotal: 1m 48s\tremaining: 11m 25s\n",
      "545:\ttest: 0.7111284\tbest: 0.7111284 (545)\ttotal: 1m 48s\tremaining: 11m 25s\n",
      "546:\ttest: 0.7111353\tbest: 0.7111353 (546)\ttotal: 1m 48s\tremaining: 11m 24s\n",
      "547:\ttest: 0.7111422\tbest: 0.7111422 (547)\ttotal: 1m 48s\tremaining: 11m 24s\n",
      "548:\ttest: 0.7111486\tbest: 0.7111486 (548)\ttotal: 1m 48s\tremaining: 11m 24s\n",
      "549:\ttest: 0.7111569\tbest: 0.7111569 (549)\ttotal: 1m 49s\tremaining: 11m 24s\n",
      "550:\ttest: 0.7111697\tbest: 0.7111697 (550)\ttotal: 1m 49s\tremaining: 11m 23s\n"
     ]
    },
    {
     "name": "stdout",
     "output_type": "stream",
     "text": [
      "551:\ttest: 0.7111799\tbest: 0.7111799 (551)\ttotal: 1m 49s\tremaining: 11m 23s\n",
      "552:\ttest: 0.7111783\tbest: 0.7111799 (551)\ttotal: 1m 49s\tremaining: 11m 23s\n",
      "553:\ttest: 0.7111787\tbest: 0.7111799 (551)\ttotal: 1m 49s\tremaining: 11m 22s\n",
      "554:\ttest: 0.7111827\tbest: 0.7111827 (554)\ttotal: 1m 50s\tremaining: 11m 22s\n",
      "555:\ttest: 0.7111918\tbest: 0.7111918 (555)\ttotal: 1m 50s\tremaining: 11m 22s\n",
      "556:\ttest: 0.7111957\tbest: 0.7111957 (556)\ttotal: 1m 50s\tremaining: 11m 22s\n",
      "557:\ttest: 0.7112035\tbest: 0.7112035 (557)\ttotal: 1m 50s\tremaining: 11m 22s\n",
      "558:\ttest: 0.7112074\tbest: 0.7112074 (558)\ttotal: 1m 50s\tremaining: 11m 22s\n",
      "559:\ttest: 0.7112138\tbest: 0.7112138 (559)\ttotal: 1m 51s\tremaining: 11m 22s\n",
      "560:\ttest: 0.7112181\tbest: 0.7112181 (560)\ttotal: 1m 51s\tremaining: 11m 21s\n",
      "561:\ttest: 0.7112288\tbest: 0.7112288 (561)\ttotal: 1m 51s\tremaining: 11m 21s\n",
      "562:\ttest: 0.7112317\tbest: 0.7112317 (562)\ttotal: 1m 51s\tremaining: 11m 21s\n",
      "563:\ttest: 0.7112340\tbest: 0.7112340 (563)\ttotal: 1m 51s\tremaining: 11m 21s\n",
      "564:\ttest: 0.7112461\tbest: 0.7112461 (564)\ttotal: 1m 52s\tremaining: 11m 20s\n",
      "565:\ttest: 0.7112576\tbest: 0.7112576 (565)\ttotal: 1m 52s\tremaining: 11m 20s\n",
      "566:\ttest: 0.7112609\tbest: 0.7112609 (566)\ttotal: 1m 52s\tremaining: 11m 20s\n",
      "567:\ttest: 0.7112682\tbest: 0.7112682 (567)\ttotal: 1m 52s\tremaining: 11m 20s\n",
      "568:\ttest: 0.7112744\tbest: 0.7112744 (568)\ttotal: 1m 52s\tremaining: 11m 20s\n",
      "569:\ttest: 0.7112845\tbest: 0.7112845 (569)\ttotal: 1m 53s\tremaining: 11m 20s\n",
      "570:\ttest: 0.7112919\tbest: 0.7112919 (570)\ttotal: 1m 53s\tremaining: 11m 19s\n",
      "571:\ttest: 0.7112973\tbest: 0.7112973 (571)\ttotal: 1m 53s\tremaining: 11m 19s\n",
      "572:\ttest: 0.7113080\tbest: 0.7113080 (572)\ttotal: 1m 53s\tremaining: 11m 19s\n",
      "573:\ttest: 0.7113133\tbest: 0.7113133 (573)\ttotal: 1m 53s\tremaining: 11m 19s\n",
      "574:\ttest: 0.7113187\tbest: 0.7113187 (574)\ttotal: 1m 54s\tremaining: 11m 19s\n",
      "575:\ttest: 0.7113213\tbest: 0.7113213 (575)\ttotal: 1m 54s\tremaining: 11m 19s\n",
      "576:\ttest: 0.7113259\tbest: 0.7113259 (576)\ttotal: 1m 54s\tremaining: 11m 19s\n",
      "577:\ttest: 0.7113298\tbest: 0.7113298 (577)\ttotal: 1m 54s\tremaining: 11m 18s\n",
      "578:\ttest: 0.7113391\tbest: 0.7113391 (578)\ttotal: 1m 54s\tremaining: 11m 18s\n",
      "579:\ttest: 0.7113474\tbest: 0.7113474 (579)\ttotal: 1m 55s\tremaining: 11m 18s\n",
      "580:\ttest: 0.7113539\tbest: 0.7113539 (580)\ttotal: 1m 55s\tremaining: 11m 18s\n",
      "581:\ttest: 0.7113645\tbest: 0.7113645 (581)\ttotal: 1m 55s\tremaining: 11m 18s\n",
      "582:\ttest: 0.7113793\tbest: 0.7113793 (582)\ttotal: 1m 55s\tremaining: 11m 17s\n",
      "583:\ttest: 0.7113805\tbest: 0.7113805 (583)\ttotal: 1m 55s\tremaining: 11m 17s\n",
      "584:\ttest: 0.7113799\tbest: 0.7113805 (583)\ttotal: 1m 55s\tremaining: 11m 17s\n",
      "585:\ttest: 0.7113931\tbest: 0.7113931 (585)\ttotal: 1m 56s\tremaining: 11m 16s\n",
      "586:\ttest: 0.7113925\tbest: 0.7113931 (585)\ttotal: 1m 56s\tremaining: 11m 16s\n",
      "587:\ttest: 0.7113977\tbest: 0.7113977 (587)\ttotal: 1m 56s\tremaining: 11m 16s\n",
      "588:\ttest: 0.7114017\tbest: 0.7114017 (588)\ttotal: 1m 56s\tremaining: 11m 16s\n",
      "589:\ttest: 0.7114008\tbest: 0.7114017 (588)\ttotal: 1m 56s\tremaining: 11m 16s\n",
      "590:\ttest: 0.7114059\tbest: 0.7114059 (590)\ttotal: 1m 57s\tremaining: 11m 15s\n",
      "591:\ttest: 0.7114193\tbest: 0.7114193 (591)\ttotal: 1m 57s\tremaining: 11m 15s\n",
      "592:\ttest: 0.7114221\tbest: 0.7114221 (592)\ttotal: 1m 57s\tremaining: 11m 15s\n",
      "593:\ttest: 0.7114290\tbest: 0.7114290 (593)\ttotal: 1m 57s\tremaining: 11m 15s\n",
      "594:\ttest: 0.7114450\tbest: 0.7114450 (594)\ttotal: 1m 57s\tremaining: 11m 14s\n",
      "595:\ttest: 0.7114552\tbest: 0.7114552 (595)\ttotal: 1m 58s\tremaining: 11m 14s\n",
      "596:\ttest: 0.7114658\tbest: 0.7114658 (596)\ttotal: 1m 58s\tremaining: 11m 14s\n",
      "597:\ttest: 0.7114733\tbest: 0.7114733 (597)\ttotal: 1m 58s\tremaining: 11m 14s\n",
      "598:\ttest: 0.7114765\tbest: 0.7114765 (598)\ttotal: 1m 58s\tremaining: 11m 14s\n",
      "599:\ttest: 0.7114865\tbest: 0.7114865 (599)\ttotal: 1m 58s\tremaining: 11m 14s\n",
      "600:\ttest: 0.7115030\tbest: 0.7115030 (600)\ttotal: 1m 59s\tremaining: 11m 13s\n",
      "601:\ttest: 0.7115093\tbest: 0.7115093 (601)\ttotal: 1m 59s\tremaining: 11m 13s\n",
      "602:\ttest: 0.7115132\tbest: 0.7115132 (602)\ttotal: 1m 59s\tremaining: 11m 13s\n",
      "603:\ttest: 0.7115204\tbest: 0.7115204 (603)\ttotal: 1m 59s\tremaining: 11m 13s\n",
      "604:\ttest: 0.7115183\tbest: 0.7115204 (603)\ttotal: 1m 59s\tremaining: 11m 13s\n",
      "605:\ttest: 0.7115237\tbest: 0.7115237 (605)\ttotal: 2m\tremaining: 11m 12s\n",
      "606:\ttest: 0.7115313\tbest: 0.7115313 (606)\ttotal: 2m\tremaining: 11m 12s\n",
      "607:\ttest: 0.7115424\tbest: 0.7115424 (607)\ttotal: 2m\tremaining: 11m 12s\n",
      "608:\ttest: 0.7115437\tbest: 0.7115437 (608)\ttotal: 2m\tremaining: 11m 12s\n",
      "609:\ttest: 0.7115454\tbest: 0.7115454 (609)\ttotal: 2m\tremaining: 11m 12s\n",
      "610:\ttest: 0.7115534\tbest: 0.7115534 (610)\ttotal: 2m 1s\tremaining: 11m 12s\n",
      "611:\ttest: 0.7115565\tbest: 0.7115565 (611)\ttotal: 2m 1s\tremaining: 11m 11s\n",
      "612:\ttest: 0.7115602\tbest: 0.7115602 (612)\ttotal: 2m 1s\tremaining: 11m 11s\n",
      "613:\ttest: 0.7115652\tbest: 0.7115652 (613)\ttotal: 2m 1s\tremaining: 11m 11s\n",
      "614:\ttest: 0.7115689\tbest: 0.7115689 (614)\ttotal: 2m 2s\tremaining: 11m 11s\n",
      "615:\ttest: 0.7115753\tbest: 0.7115753 (615)\ttotal: 2m 2s\tremaining: 11m 11s\n",
      "616:\ttest: 0.7115759\tbest: 0.7115759 (616)\ttotal: 2m 2s\tremaining: 11m 11s\n",
      "617:\ttest: 0.7115759\tbest: 0.7115759 (616)\ttotal: 2m 2s\tremaining: 11m 11s\n",
      "618:\ttest: 0.7115840\tbest: 0.7115840 (618)\ttotal: 2m 2s\tremaining: 11m 10s\n",
      "619:\ttest: 0.7115850\tbest: 0.7115850 (619)\ttotal: 2m 3s\tremaining: 11m 10s\n",
      "620:\ttest: 0.7115902\tbest: 0.7115902 (620)\ttotal: 2m 3s\tremaining: 11m 10s\n",
      "621:\ttest: 0.7116030\tbest: 0.7116030 (621)\ttotal: 2m 3s\tremaining: 11m 10s\n",
      "622:\ttest: 0.7116077\tbest: 0.7116077 (622)\ttotal: 2m 3s\tremaining: 11m 10s\n",
      "623:\ttest: 0.7116160\tbest: 0.7116160 (623)\ttotal: 2m 3s\tremaining: 11m 9s\n",
      "624:\ttest: 0.7116223\tbest: 0.7116223 (624)\ttotal: 2m 4s\tremaining: 11m 9s\n",
      "625:\ttest: 0.7116283\tbest: 0.7116283 (625)\ttotal: 2m 4s\tremaining: 11m 9s\n",
      "626:\ttest: 0.7116291\tbest: 0.7116291 (626)\ttotal: 2m 4s\tremaining: 11m 9s\n",
      "627:\ttest: 0.7116274\tbest: 0.7116291 (626)\ttotal: 2m 4s\tremaining: 11m 8s\n",
      "628:\ttest: 0.7116393\tbest: 0.7116393 (628)\ttotal: 2m 4s\tremaining: 11m 8s\n",
      "629:\ttest: 0.7116456\tbest: 0.7116456 (629)\ttotal: 2m 4s\tremaining: 11m 8s\n",
      "630:\ttest: 0.7116568\tbest: 0.7116568 (630)\ttotal: 2m 5s\tremaining: 11m 8s\n",
      "631:\ttest: 0.7116656\tbest: 0.7116656 (631)\ttotal: 2m 5s\tremaining: 11m 8s\n",
      "632:\ttest: 0.7116771\tbest: 0.7116771 (632)\ttotal: 2m 5s\tremaining: 11m 8s\n",
      "633:\ttest: 0.7116787\tbest: 0.7116787 (633)\ttotal: 2m 5s\tremaining: 11m 7s\n",
      "634:\ttest: 0.7116848\tbest: 0.7116848 (634)\ttotal: 2m 5s\tremaining: 11m 7s\n",
      "635:\ttest: 0.7116958\tbest: 0.7116958 (635)\ttotal: 2m 6s\tremaining: 11m 6s\n",
      "636:\ttest: 0.7117003\tbest: 0.7117003 (636)\ttotal: 2m 6s\tremaining: 11m 6s\n",
      "637:\ttest: 0.7117042\tbest: 0.7117042 (637)\ttotal: 2m 6s\tremaining: 11m 6s\n",
      "638:\ttest: 0.7117088\tbest: 0.7117088 (638)\ttotal: 2m 6s\tremaining: 11m 6s\n",
      "639:\ttest: 0.7117185\tbest: 0.7117185 (639)\ttotal: 2m 6s\tremaining: 11m 6s\n",
      "640:\ttest: 0.7117234\tbest: 0.7117234 (640)\ttotal: 2m 7s\tremaining: 11m 5s\n",
      "641:\ttest: 0.7117293\tbest: 0.7117293 (641)\ttotal: 2m 7s\tremaining: 11m 5s\n",
      "642:\ttest: 0.7117425\tbest: 0.7117425 (642)\ttotal: 2m 7s\tremaining: 11m 5s\n",
      "643:\ttest: 0.7117435\tbest: 0.7117435 (643)\ttotal: 2m 7s\tremaining: 11m 5s\n",
      "644:\ttest: 0.7117458\tbest: 0.7117458 (644)\ttotal: 2m 7s\tremaining: 11m 5s\n",
      "645:\ttest: 0.7117553\tbest: 0.7117553 (645)\ttotal: 2m 8s\tremaining: 11m 4s\n",
      "646:\ttest: 0.7117569\tbest: 0.7117569 (646)\ttotal: 2m 8s\tremaining: 11m 4s\n",
      "647:\ttest: 0.7117610\tbest: 0.7117610 (647)\ttotal: 2m 8s\tremaining: 11m 4s\n",
      "648:\ttest: 0.7117775\tbest: 0.7117775 (648)\ttotal: 2m 8s\tremaining: 11m 4s\n",
      "649:\ttest: 0.7117829\tbest: 0.7117829 (649)\ttotal: 2m 8s\tremaining: 11m 4s\n",
      "650:\ttest: 0.7117952\tbest: 0.7117952 (650)\ttotal: 2m 9s\tremaining: 11m 4s\n",
      "651:\ttest: 0.7118020\tbest: 0.7118020 (651)\ttotal: 2m 9s\tremaining: 11m 4s\n",
      "652:\ttest: 0.7118167\tbest: 0.7118167 (652)\ttotal: 2m 9s\tremaining: 11m 4s\n",
      "653:\ttest: 0.7118229\tbest: 0.7118229 (653)\ttotal: 2m 9s\tremaining: 11m 4s\n",
      "654:\ttest: 0.7118204\tbest: 0.7118229 (653)\ttotal: 2m 10s\tremaining: 11m 4s\n",
      "655:\ttest: 0.7118268\tbest: 0.7118268 (655)\ttotal: 2m 10s\tremaining: 11m 4s\n",
      "656:\ttest: 0.7118354\tbest: 0.7118354 (656)\ttotal: 2m 10s\tremaining: 11m 3s\n",
      "657:\ttest: 0.7118429\tbest: 0.7118429 (657)\ttotal: 2m 10s\tremaining: 11m 3s\n",
      "658:\ttest: 0.7118513\tbest: 0.7118513 (658)\ttotal: 2m 10s\tremaining: 11m 3s\n",
      "659:\ttest: 0.7118594\tbest: 0.7118594 (659)\ttotal: 2m 11s\tremaining: 11m 3s\n",
      "660:\ttest: 0.7118610\tbest: 0.7118610 (660)\ttotal: 2m 11s\tremaining: 11m 3s\n"
     ]
    },
    {
     "name": "stdout",
     "output_type": "stream",
     "text": [
      "661:\ttest: 0.7118644\tbest: 0.7118644 (661)\ttotal: 2m 11s\tremaining: 11m 3s\n",
      "662:\ttest: 0.7118661\tbest: 0.7118661 (662)\ttotal: 2m 11s\tremaining: 11m 2s\n",
      "663:\ttest: 0.7118731\tbest: 0.7118731 (663)\ttotal: 2m 11s\tremaining: 11m 2s\n",
      "664:\ttest: 0.7118811\tbest: 0.7118811 (664)\ttotal: 2m 12s\tremaining: 11m 2s\n",
      "665:\ttest: 0.7118868\tbest: 0.7118868 (665)\ttotal: 2m 12s\tremaining: 11m 2s\n",
      "666:\ttest: 0.7118877\tbest: 0.7118877 (666)\ttotal: 2m 12s\tremaining: 11m 1s\n",
      "667:\ttest: 0.7118933\tbest: 0.7118933 (667)\ttotal: 2m 12s\tremaining: 11m 1s\n",
      "668:\ttest: 0.7119014\tbest: 0.7119014 (668)\ttotal: 2m 12s\tremaining: 11m 1s\n",
      "669:\ttest: 0.7119067\tbest: 0.7119067 (669)\ttotal: 2m 13s\tremaining: 11m 1s\n",
      "670:\ttest: 0.7119074\tbest: 0.7119074 (670)\ttotal: 2m 13s\tremaining: 11m\n",
      "671:\ttest: 0.7119097\tbest: 0.7119097 (671)\ttotal: 2m 13s\tremaining: 11m\n",
      "672:\ttest: 0.7119191\tbest: 0.7119191 (672)\ttotal: 2m 13s\tremaining: 11m\n",
      "673:\ttest: 0.7119208\tbest: 0.7119208 (673)\ttotal: 2m 13s\tremaining: 11m\n",
      "674:\ttest: 0.7119280\tbest: 0.7119280 (674)\ttotal: 2m 14s\tremaining: 11m\n",
      "675:\ttest: 0.7119363\tbest: 0.7119363 (675)\ttotal: 2m 14s\tremaining: 11m\n",
      "676:\ttest: 0.7119384\tbest: 0.7119384 (676)\ttotal: 2m 14s\tremaining: 10m 59s\n",
      "677:\ttest: 0.7119418\tbest: 0.7119418 (677)\ttotal: 2m 14s\tremaining: 10m 59s\n",
      "678:\ttest: 0.7119448\tbest: 0.7119448 (678)\ttotal: 2m 14s\tremaining: 10m 59s\n",
      "679:\ttest: 0.7119524\tbest: 0.7119524 (679)\ttotal: 2m 15s\tremaining: 10m 59s\n",
      "680:\ttest: 0.7119560\tbest: 0.7119560 (680)\ttotal: 2m 15s\tremaining: 10m 59s\n",
      "681:\ttest: 0.7119603\tbest: 0.7119603 (681)\ttotal: 2m 15s\tremaining: 10m 59s\n",
      "682:\ttest: 0.7119710\tbest: 0.7119710 (682)\ttotal: 2m 15s\tremaining: 10m 58s\n",
      "683:\ttest: 0.7119732\tbest: 0.7119732 (683)\ttotal: 2m 15s\tremaining: 10m 58s\n",
      "684:\ttest: 0.7119768\tbest: 0.7119768 (684)\ttotal: 2m 16s\tremaining: 10m 58s\n",
      "685:\ttest: 0.7119865\tbest: 0.7119865 (685)\ttotal: 2m 16s\tremaining: 10m 58s\n",
      "686:\ttest: 0.7119910\tbest: 0.7119910 (686)\ttotal: 2m 16s\tremaining: 10m 58s\n",
      "687:\ttest: 0.7119930\tbest: 0.7119930 (687)\ttotal: 2m 16s\tremaining: 10m 58s\n",
      "688:\ttest: 0.7119966\tbest: 0.7119966 (688)\ttotal: 2m 16s\tremaining: 10m 57s\n",
      "689:\ttest: 0.7119962\tbest: 0.7119966 (688)\ttotal: 2m 17s\tremaining: 10m 57s\n",
      "690:\ttest: 0.7120005\tbest: 0.7120005 (690)\ttotal: 2m 17s\tremaining: 10m 57s\n",
      "691:\ttest: 0.7120033\tbest: 0.7120033 (691)\ttotal: 2m 17s\tremaining: 10m 57s\n",
      "692:\ttest: 0.7120020\tbest: 0.7120033 (691)\ttotal: 2m 17s\tremaining: 10m 57s\n",
      "693:\ttest: 0.7120070\tbest: 0.7120070 (693)\ttotal: 2m 17s\tremaining: 10m 56s\n",
      "694:\ttest: 0.7120120\tbest: 0.7120120 (694)\ttotal: 2m 18s\tremaining: 10m 56s\n",
      "695:\ttest: 0.7120192\tbest: 0.7120192 (695)\ttotal: 2m 18s\tremaining: 10m 56s\n",
      "696:\ttest: 0.7120208\tbest: 0.7120208 (696)\ttotal: 2m 18s\tremaining: 10m 56s\n",
      "697:\ttest: 0.7120261\tbest: 0.7120261 (697)\ttotal: 2m 18s\tremaining: 10m 56s\n",
      "698:\ttest: 0.7120360\tbest: 0.7120360 (698)\ttotal: 2m 18s\tremaining: 10m 55s\n",
      "699:\ttest: 0.7120365\tbest: 0.7120365 (699)\ttotal: 2m 18s\tremaining: 10m 55s\n",
      "700:\ttest: 0.7120432\tbest: 0.7120432 (700)\ttotal: 2m 19s\tremaining: 10m 55s\n",
      "701:\ttest: 0.7120466\tbest: 0.7120466 (701)\ttotal: 2m 19s\tremaining: 10m 54s\n",
      "702:\ttest: 0.7120476\tbest: 0.7120476 (702)\ttotal: 2m 19s\tremaining: 10m 54s\n",
      "703:\ttest: 0.7120525\tbest: 0.7120525 (703)\ttotal: 2m 19s\tremaining: 10m 54s\n",
      "704:\ttest: 0.7120618\tbest: 0.7120618 (704)\ttotal: 2m 20s\tremaining: 10m 54s\n",
      "705:\ttest: 0.7120715\tbest: 0.7120715 (705)\ttotal: 2m 20s\tremaining: 10m 54s\n",
      "706:\ttest: 0.7120775\tbest: 0.7120775 (706)\ttotal: 2m 20s\tremaining: 10m 53s\n",
      "707:\ttest: 0.7120881\tbest: 0.7120881 (707)\ttotal: 2m 20s\tremaining: 10m 53s\n",
      "708:\ttest: 0.7120935\tbest: 0.7120935 (708)\ttotal: 2m 20s\tremaining: 10m 53s\n",
      "709:\ttest: 0.7120935\tbest: 0.7120935 (708)\ttotal: 2m 20s\tremaining: 10m 52s\n",
      "710:\ttest: 0.7120999\tbest: 0.7120999 (710)\ttotal: 2m 21s\tremaining: 10m 52s\n",
      "711:\ttest: 0.7121053\tbest: 0.7121053 (711)\ttotal: 2m 21s\tremaining: 10m 52s\n",
      "712:\ttest: 0.7121102\tbest: 0.7121102 (712)\ttotal: 2m 21s\tremaining: 10m 52s\n",
      "713:\ttest: 0.7121104\tbest: 0.7121104 (713)\ttotal: 2m 21s\tremaining: 10m 51s\n",
      "714:\ttest: 0.7121142\tbest: 0.7121142 (714)\ttotal: 2m 21s\tremaining: 10m 51s\n",
      "715:\ttest: 0.7121187\tbest: 0.7121187 (715)\ttotal: 2m 21s\tremaining: 10m 51s\n",
      "716:\ttest: 0.7121203\tbest: 0.7121203 (716)\ttotal: 2m 22s\tremaining: 10m 50s\n",
      "717:\ttest: 0.7121264\tbest: 0.7121264 (717)\ttotal: 2m 22s\tremaining: 10m 50s\n",
      "718:\ttest: 0.7121306\tbest: 0.7121306 (718)\ttotal: 2m 22s\tremaining: 10m 49s\n",
      "719:\ttest: 0.7121383\tbest: 0.7121383 (719)\ttotal: 2m 22s\tremaining: 10m 49s\n",
      "720:\ttest: 0.7121423\tbest: 0.7121423 (720)\ttotal: 2m 22s\tremaining: 10m 49s\n",
      "721:\ttest: 0.7121492\tbest: 0.7121492 (721)\ttotal: 2m 23s\tremaining: 10m 49s\n",
      "722:\ttest: 0.7121497\tbest: 0.7121497 (722)\ttotal: 2m 23s\tremaining: 10m 48s\n",
      "723:\ttest: 0.7121543\tbest: 0.7121543 (723)\ttotal: 2m 23s\tremaining: 10m 48s\n",
      "724:\ttest: 0.7121591\tbest: 0.7121591 (724)\ttotal: 2m 23s\tremaining: 10m 48s\n",
      "725:\ttest: 0.7121621\tbest: 0.7121621 (725)\ttotal: 2m 23s\tremaining: 10m 48s\n",
      "726:\ttest: 0.7121665\tbest: 0.7121665 (726)\ttotal: 2m 23s\tremaining: 10m 47s\n",
      "727:\ttest: 0.7121707\tbest: 0.7121707 (727)\ttotal: 2m 24s\tremaining: 10m 47s\n",
      "728:\ttest: 0.7121741\tbest: 0.7121741 (728)\ttotal: 2m 24s\tremaining: 10m 47s\n",
      "729:\ttest: 0.7121793\tbest: 0.7121793 (729)\ttotal: 2m 24s\tremaining: 10m 47s\n",
      "730:\ttest: 0.7121792\tbest: 0.7121793 (729)\ttotal: 2m 24s\tremaining: 10m 47s\n",
      "731:\ttest: 0.7121819\tbest: 0.7121819 (731)\ttotal: 2m 24s\tremaining: 10m 46s\n",
      "732:\ttest: 0.7121832\tbest: 0.7121832 (732)\ttotal: 2m 25s\tremaining: 10m 46s\n",
      "733:\ttest: 0.7121879\tbest: 0.7121879 (733)\ttotal: 2m 25s\tremaining: 10m 46s\n",
      "734:\ttest: 0.7122014\tbest: 0.7122014 (734)\ttotal: 2m 25s\tremaining: 10m 46s\n",
      "735:\ttest: 0.7122066\tbest: 0.7122066 (735)\ttotal: 2m 25s\tremaining: 10m 46s\n",
      "736:\ttest: 0.7122183\tbest: 0.7122183 (736)\ttotal: 2m 25s\tremaining: 10m 46s\n",
      "737:\ttest: 0.7122226\tbest: 0.7122226 (737)\ttotal: 2m 26s\tremaining: 10m 45s\n",
      "738:\ttest: 0.7122260\tbest: 0.7122260 (738)\ttotal: 2m 26s\tremaining: 10m 45s\n",
      "739:\ttest: 0.7122344\tbest: 0.7122344 (739)\ttotal: 2m 26s\tremaining: 10m 45s\n",
      "740:\ttest: 0.7122378\tbest: 0.7122378 (740)\ttotal: 2m 26s\tremaining: 10m 45s\n",
      "741:\ttest: 0.7122371\tbest: 0.7122378 (740)\ttotal: 2m 26s\tremaining: 10m 45s\n",
      "742:\ttest: 0.7122387\tbest: 0.7122387 (742)\ttotal: 2m 27s\tremaining: 10m 44s\n",
      "743:\ttest: 0.7122428\tbest: 0.7122428 (743)\ttotal: 2m 27s\tremaining: 10m 44s\n",
      "744:\ttest: 0.7122473\tbest: 0.7122473 (744)\ttotal: 2m 27s\tremaining: 10m 44s\n",
      "745:\ttest: 0.7122504\tbest: 0.7122504 (745)\ttotal: 2m 27s\tremaining: 10m 44s\n",
      "746:\ttest: 0.7122568\tbest: 0.7122568 (746)\ttotal: 2m 27s\tremaining: 10m 44s\n",
      "747:\ttest: 0.7122636\tbest: 0.7122636 (747)\ttotal: 2m 28s\tremaining: 10m 44s\n",
      "748:\ttest: 0.7122728\tbest: 0.7122728 (748)\ttotal: 2m 28s\tremaining: 10m 43s\n",
      "749:\ttest: 0.7122777\tbest: 0.7122777 (749)\ttotal: 2m 28s\tremaining: 10m 43s\n",
      "750:\ttest: 0.7122865\tbest: 0.7122865 (750)\ttotal: 2m 28s\tremaining: 10m 43s\n",
      "751:\ttest: 0.7122949\tbest: 0.7122949 (751)\ttotal: 2m 28s\tremaining: 10m 43s\n",
      "752:\ttest: 0.7122972\tbest: 0.7122972 (752)\ttotal: 2m 29s\tremaining: 10m 43s\n",
      "753:\ttest: 0.7123010\tbest: 0.7123010 (753)\ttotal: 2m 29s\tremaining: 10m 43s\n",
      "754:\ttest: 0.7123090\tbest: 0.7123090 (754)\ttotal: 2m 29s\tremaining: 10m 43s\n",
      "755:\ttest: 0.7123124\tbest: 0.7123124 (755)\ttotal: 2m 29s\tremaining: 10m 42s\n",
      "756:\ttest: 0.7123198\tbest: 0.7123198 (756)\ttotal: 2m 30s\tremaining: 10m 42s\n",
      "757:\ttest: 0.7123281\tbest: 0.7123281 (757)\ttotal: 2m 30s\tremaining: 10m 42s\n",
      "758:\ttest: 0.7123331\tbest: 0.7123331 (758)\ttotal: 2m 30s\tremaining: 10m 42s\n",
      "759:\ttest: 0.7123354\tbest: 0.7123354 (759)\ttotal: 2m 30s\tremaining: 10m 42s\n",
      "760:\ttest: 0.7123427\tbest: 0.7123427 (760)\ttotal: 2m 30s\tremaining: 10m 42s\n",
      "761:\ttest: 0.7123488\tbest: 0.7123488 (761)\ttotal: 2m 31s\tremaining: 10m 41s\n",
      "762:\ttest: 0.7123522\tbest: 0.7123522 (762)\ttotal: 2m 31s\tremaining: 10m 41s\n",
      "763:\ttest: 0.7123556\tbest: 0.7123556 (763)\ttotal: 2m 31s\tremaining: 10m 41s\n",
      "764:\ttest: 0.7123598\tbest: 0.7123598 (764)\ttotal: 2m 31s\tremaining: 10m 41s\n",
      "765:\ttest: 0.7123641\tbest: 0.7123641 (765)\ttotal: 2m 31s\tremaining: 10m 41s\n",
      "766:\ttest: 0.7123655\tbest: 0.7123655 (766)\ttotal: 2m 32s\tremaining: 10m 40s\n",
      "767:\ttest: 0.7123738\tbest: 0.7123738 (767)\ttotal: 2m 32s\tremaining: 10m 40s\n",
      "768:\ttest: 0.7123771\tbest: 0.7123771 (768)\ttotal: 2m 32s\tremaining: 10m 40s\n",
      "769:\ttest: 0.7123883\tbest: 0.7123883 (769)\ttotal: 2m 32s\tremaining: 10m 40s\n"
     ]
    },
    {
     "name": "stdout",
     "output_type": "stream",
     "text": [
      "770:\ttest: 0.7123929\tbest: 0.7123929 (770)\ttotal: 2m 32s\tremaining: 10m 40s\n",
      "771:\ttest: 0.7123983\tbest: 0.7123983 (771)\ttotal: 2m 33s\tremaining: 10m 40s\n",
      "772:\ttest: 0.7124096\tbest: 0.7124096 (772)\ttotal: 2m 33s\tremaining: 10m 40s\n",
      "773:\ttest: 0.7124090\tbest: 0.7124096 (772)\ttotal: 2m 33s\tremaining: 10m 40s\n",
      "774:\ttest: 0.7124139\tbest: 0.7124139 (774)\ttotal: 2m 33s\tremaining: 10m 39s\n",
      "775:\ttest: 0.7124214\tbest: 0.7124214 (775)\ttotal: 2m 33s\tremaining: 10m 39s\n",
      "776:\ttest: 0.7124253\tbest: 0.7124253 (776)\ttotal: 2m 34s\tremaining: 10m 39s\n",
      "777:\ttest: 0.7124287\tbest: 0.7124287 (777)\ttotal: 2m 34s\tremaining: 10m 39s\n",
      "778:\ttest: 0.7124368\tbest: 0.7124368 (778)\ttotal: 2m 34s\tremaining: 10m 39s\n",
      "779:\ttest: 0.7124321\tbest: 0.7124368 (778)\ttotal: 2m 34s\tremaining: 10m 38s\n",
      "780:\ttest: 0.7124348\tbest: 0.7124368 (778)\ttotal: 2m 34s\tremaining: 10m 38s\n",
      "781:\ttest: 0.7124406\tbest: 0.7124406 (781)\ttotal: 2m 35s\tremaining: 10m 38s\n",
      "782:\ttest: 0.7124529\tbest: 0.7124529 (782)\ttotal: 2m 35s\tremaining: 10m 38s\n",
      "783:\ttest: 0.7124638\tbest: 0.7124638 (783)\ttotal: 2m 35s\tremaining: 10m 38s\n",
      "784:\ttest: 0.7124637\tbest: 0.7124638 (783)\ttotal: 2m 35s\tremaining: 10m 38s\n",
      "785:\ttest: 0.7124672\tbest: 0.7124672 (785)\ttotal: 2m 35s\tremaining: 10m 37s\n",
      "786:\ttest: 0.7124711\tbest: 0.7124711 (786)\ttotal: 2m 36s\tremaining: 10m 37s\n",
      "787:\ttest: 0.7124748\tbest: 0.7124748 (787)\ttotal: 2m 36s\tremaining: 10m 37s\n",
      "788:\ttest: 0.7124786\tbest: 0.7124786 (788)\ttotal: 2m 36s\tremaining: 10m 37s\n",
      "789:\ttest: 0.7124784\tbest: 0.7124786 (788)\ttotal: 2m 36s\tremaining: 10m 37s\n",
      "790:\ttest: 0.7124782\tbest: 0.7124786 (788)\ttotal: 2m 37s\tremaining: 10m 37s\n",
      "791:\ttest: 0.7124800\tbest: 0.7124800 (791)\ttotal: 2m 37s\tremaining: 10m 36s\n",
      "792:\ttest: 0.7124846\tbest: 0.7124846 (792)\ttotal: 2m 37s\tremaining: 10m 36s\n",
      "793:\ttest: 0.7124899\tbest: 0.7124899 (793)\ttotal: 2m 37s\tremaining: 10m 36s\n",
      "794:\ttest: 0.7124954\tbest: 0.7124954 (794)\ttotal: 2m 37s\tremaining: 10m 36s\n",
      "795:\ttest: 0.7124964\tbest: 0.7124964 (795)\ttotal: 2m 37s\tremaining: 10m 35s\n",
      "796:\ttest: 0.7124957\tbest: 0.7124964 (795)\ttotal: 2m 38s\tremaining: 10m 35s\n",
      "797:\ttest: 0.7125016\tbest: 0.7125016 (797)\ttotal: 2m 38s\tremaining: 10m 35s\n",
      "798:\ttest: 0.7125058\tbest: 0.7125058 (798)\ttotal: 2m 38s\tremaining: 10m 35s\n",
      "799:\ttest: 0.7125158\tbest: 0.7125158 (799)\ttotal: 2m 38s\tremaining: 10m 34s\n",
      "800:\ttest: 0.7125162\tbest: 0.7125162 (800)\ttotal: 2m 38s\tremaining: 10m 34s\n",
      "801:\ttest: 0.7125164\tbest: 0.7125164 (801)\ttotal: 2m 39s\tremaining: 10m 34s\n",
      "802:\ttest: 0.7125200\tbest: 0.7125200 (802)\ttotal: 2m 39s\tremaining: 10m 34s\n",
      "803:\ttest: 0.7125213\tbest: 0.7125213 (803)\ttotal: 2m 39s\tremaining: 10m 34s\n",
      "804:\ttest: 0.7125275\tbest: 0.7125275 (804)\ttotal: 2m 39s\tremaining: 10m 34s\n",
      "805:\ttest: 0.7125290\tbest: 0.7125290 (805)\ttotal: 2m 39s\tremaining: 10m 33s\n",
      "806:\ttest: 0.7125309\tbest: 0.7125309 (806)\ttotal: 2m 40s\tremaining: 10m 33s\n",
      "807:\ttest: 0.7125401\tbest: 0.7125401 (807)\ttotal: 2m 40s\tremaining: 10m 33s\n",
      "808:\ttest: 0.7125380\tbest: 0.7125401 (807)\ttotal: 2m 40s\tremaining: 10m 33s\n",
      "809:\ttest: 0.7125421\tbest: 0.7125421 (809)\ttotal: 2m 40s\tremaining: 10m 32s\n",
      "810:\ttest: 0.7125467\tbest: 0.7125467 (810)\ttotal: 2m 40s\tremaining: 10m 32s\n",
      "811:\ttest: 0.7125475\tbest: 0.7125475 (811)\ttotal: 2m 41s\tremaining: 10m 32s\n",
      "812:\ttest: 0.7125511\tbest: 0.7125511 (812)\ttotal: 2m 41s\tremaining: 10m 32s\n",
      "813:\ttest: 0.7125551\tbest: 0.7125551 (813)\ttotal: 2m 41s\tremaining: 10m 32s\n",
      "814:\ttest: 0.7125576\tbest: 0.7125576 (814)\ttotal: 2m 41s\tremaining: 10m 31s\n",
      "815:\ttest: 0.7125620\tbest: 0.7125620 (815)\ttotal: 2m 41s\tremaining: 10m 31s\n",
      "816:\ttest: 0.7125684\tbest: 0.7125684 (816)\ttotal: 2m 42s\tremaining: 10m 31s\n",
      "817:\ttest: 0.7125701\tbest: 0.7125701 (817)\ttotal: 2m 42s\tremaining: 10m 31s\n",
      "818:\ttest: 0.7125728\tbest: 0.7125728 (818)\ttotal: 2m 42s\tremaining: 10m 31s\n",
      "819:\ttest: 0.7125796\tbest: 0.7125796 (819)\ttotal: 2m 42s\tremaining: 10m 30s\n",
      "820:\ttest: 0.7125830\tbest: 0.7125830 (820)\ttotal: 2m 42s\tremaining: 10m 30s\n",
      "821:\ttest: 0.7125851\tbest: 0.7125851 (821)\ttotal: 2m 43s\tremaining: 10m 30s\n",
      "822:\ttest: 0.7125892\tbest: 0.7125892 (822)\ttotal: 2m 43s\tremaining: 10m 30s\n",
      "823:\ttest: 0.7125930\tbest: 0.7125930 (823)\ttotal: 2m 43s\tremaining: 10m 30s\n",
      "824:\ttest: 0.7125904\tbest: 0.7125930 (823)\ttotal: 2m 43s\tremaining: 10m 30s\n",
      "825:\ttest: 0.7125953\tbest: 0.7125953 (825)\ttotal: 2m 43s\tremaining: 10m 29s\n",
      "826:\ttest: 0.7125969\tbest: 0.7125969 (826)\ttotal: 2m 44s\tremaining: 10m 29s\n",
      "827:\ttest: 0.7126002\tbest: 0.7126002 (827)\ttotal: 2m 44s\tremaining: 10m 29s\n",
      "828:\ttest: 0.7126066\tbest: 0.7126066 (828)\ttotal: 2m 44s\tremaining: 10m 29s\n",
      "829:\ttest: 0.7126113\tbest: 0.7126113 (829)\ttotal: 2m 44s\tremaining: 10m 29s\n",
      "830:\ttest: 0.7126157\tbest: 0.7126157 (830)\ttotal: 2m 44s\tremaining: 10m 28s\n",
      "831:\ttest: 0.7126207\tbest: 0.7126207 (831)\ttotal: 2m 45s\tremaining: 10m 28s\n",
      "832:\ttest: 0.7126246\tbest: 0.7126246 (832)\ttotal: 2m 45s\tremaining: 10m 28s\n",
      "833:\ttest: 0.7126286\tbest: 0.7126286 (833)\ttotal: 2m 45s\tremaining: 10m 28s\n",
      "834:\ttest: 0.7126338\tbest: 0.7126338 (834)\ttotal: 2m 45s\tremaining: 10m 28s\n",
      "835:\ttest: 0.7126371\tbest: 0.7126371 (835)\ttotal: 2m 45s\tremaining: 10m 27s\n",
      "836:\ttest: 0.7126361\tbest: 0.7126371 (835)\ttotal: 2m 46s\tremaining: 10m 27s\n",
      "837:\ttest: 0.7126482\tbest: 0.7126482 (837)\ttotal: 2m 46s\tremaining: 10m 27s\n",
      "838:\ttest: 0.7126596\tbest: 0.7126596 (838)\ttotal: 2m 46s\tremaining: 10m 27s\n",
      "839:\ttest: 0.7126625\tbest: 0.7126625 (839)\ttotal: 2m 46s\tremaining: 10m 27s\n",
      "840:\ttest: 0.7126613\tbest: 0.7126625 (839)\ttotal: 2m 46s\tremaining: 10m 27s\n",
      "841:\ttest: 0.7126692\tbest: 0.7126692 (841)\ttotal: 2m 47s\tremaining: 10m 26s\n",
      "842:\ttest: 0.7126734\tbest: 0.7126734 (842)\ttotal: 2m 47s\tremaining: 10m 26s\n",
      "843:\ttest: 0.7126769\tbest: 0.7126769 (843)\ttotal: 2m 47s\tremaining: 10m 26s\n",
      "844:\ttest: 0.7126801\tbest: 0.7126801 (844)\ttotal: 2m 47s\tremaining: 10m 26s\n",
      "845:\ttest: 0.7126803\tbest: 0.7126803 (845)\ttotal: 2m 48s\tremaining: 10m 26s\n",
      "846:\ttest: 0.7126811\tbest: 0.7126811 (846)\ttotal: 2m 48s\tremaining: 10m 26s\n",
      "847:\ttest: 0.7126814\tbest: 0.7126814 (847)\ttotal: 2m 48s\tremaining: 10m 26s\n",
      "848:\ttest: 0.7126880\tbest: 0.7126880 (848)\ttotal: 2m 48s\tremaining: 10m 25s\n",
      "849:\ttest: 0.7126980\tbest: 0.7126980 (849)\ttotal: 2m 48s\tremaining: 10m 25s\n",
      "850:\ttest: 0.7127034\tbest: 0.7127034 (850)\ttotal: 2m 49s\tremaining: 10m 25s\n",
      "851:\ttest: 0.7127016\tbest: 0.7127034 (850)\ttotal: 2m 49s\tremaining: 10m 25s\n",
      "852:\ttest: 0.7127027\tbest: 0.7127034 (850)\ttotal: 2m 49s\tremaining: 10m 25s\n",
      "853:\ttest: 0.7127041\tbest: 0.7127041 (853)\ttotal: 2m 49s\tremaining: 10m 25s\n",
      "854:\ttest: 0.7127062\tbest: 0.7127062 (854)\ttotal: 2m 49s\tremaining: 10m 24s\n",
      "855:\ttest: 0.7127115\tbest: 0.7127115 (855)\ttotal: 2m 50s\tremaining: 10m 24s\n",
      "856:\ttest: 0.7127167\tbest: 0.7127167 (856)\ttotal: 2m 50s\tremaining: 10m 24s\n",
      "857:\ttest: 0.7127179\tbest: 0.7127179 (857)\ttotal: 2m 50s\tremaining: 10m 24s\n",
      "858:\ttest: 0.7127186\tbest: 0.7127186 (858)\ttotal: 2m 50s\tremaining: 10m 24s\n",
      "859:\ttest: 0.7127247\tbest: 0.7127247 (859)\ttotal: 2m 50s\tremaining: 10m 24s\n",
      "860:\ttest: 0.7127277\tbest: 0.7127277 (860)\ttotal: 2m 51s\tremaining: 10m 23s\n",
      "861:\ttest: 0.7127384\tbest: 0.7127384 (861)\ttotal: 2m 51s\tremaining: 10m 23s\n",
      "862:\ttest: 0.7127372\tbest: 0.7127384 (861)\ttotal: 2m 51s\tremaining: 10m 23s\n",
      "863:\ttest: 0.7127410\tbest: 0.7127410 (863)\ttotal: 2m 51s\tremaining: 10m 23s\n",
      "864:\ttest: 0.7127440\tbest: 0.7127440 (864)\ttotal: 2m 51s\tremaining: 10m 23s\n",
      "865:\ttest: 0.7127439\tbest: 0.7127440 (864)\ttotal: 2m 52s\tremaining: 10m 22s\n",
      "866:\ttest: 0.7127443\tbest: 0.7127443 (866)\ttotal: 2m 52s\tremaining: 10m 22s\n",
      "867:\ttest: 0.7127491\tbest: 0.7127491 (867)\ttotal: 2m 52s\tremaining: 10m 22s\n",
      "868:\ttest: 0.7127503\tbest: 0.7127503 (868)\ttotal: 2m 52s\tremaining: 10m 21s\n",
      "869:\ttest: 0.7127567\tbest: 0.7127567 (869)\ttotal: 2m 52s\tremaining: 10m 21s\n",
      "870:\ttest: 0.7127576\tbest: 0.7127576 (870)\ttotal: 2m 52s\tremaining: 10m 21s\n",
      "871:\ttest: 0.7127596\tbest: 0.7127596 (871)\ttotal: 2m 53s\tremaining: 10m 21s\n",
      "872:\ttest: 0.7127630\tbest: 0.7127630 (872)\ttotal: 2m 53s\tremaining: 10m 20s\n",
      "873:\ttest: 0.7127710\tbest: 0.7127710 (873)\ttotal: 2m 53s\tremaining: 10m 20s\n",
      "874:\ttest: 0.7127731\tbest: 0.7127731 (874)\ttotal: 2m 53s\tremaining: 10m 20s\n",
      "875:\ttest: 0.7127851\tbest: 0.7127851 (875)\ttotal: 2m 53s\tremaining: 10m 20s\n",
      "876:\ttest: 0.7127860\tbest: 0.7127860 (876)\ttotal: 2m 54s\tremaining: 10m 20s\n",
      "877:\ttest: 0.7127880\tbest: 0.7127880 (877)\ttotal: 2m 54s\tremaining: 10m 19s\n"
     ]
    },
    {
     "name": "stdout",
     "output_type": "stream",
     "text": [
      "878:\ttest: 0.7128032\tbest: 0.7128032 (878)\ttotal: 2m 54s\tremaining: 10m 19s\n",
      "879:\ttest: 0.7128020\tbest: 0.7128032 (878)\ttotal: 2m 54s\tremaining: 10m 19s\n",
      "880:\ttest: 0.7128041\tbest: 0.7128041 (880)\ttotal: 2m 55s\tremaining: 10m 19s\n",
      "881:\ttest: 0.7128056\tbest: 0.7128056 (881)\ttotal: 2m 55s\tremaining: 10m 19s\n",
      "882:\ttest: 0.7128052\tbest: 0.7128056 (881)\ttotal: 2m 55s\tremaining: 10m 19s\n",
      "883:\ttest: 0.7128055\tbest: 0.7128056 (881)\ttotal: 2m 55s\tremaining: 10m 19s\n",
      "884:\ttest: 0.7128045\tbest: 0.7128056 (881)\ttotal: 2m 55s\tremaining: 10m 19s\n",
      "885:\ttest: 0.7128113\tbest: 0.7128113 (885)\ttotal: 2m 56s\tremaining: 10m 18s\n",
      "886:\ttest: 0.7128189\tbest: 0.7128189 (886)\ttotal: 2m 56s\tremaining: 10m 18s\n",
      "887:\ttest: 0.7128210\tbest: 0.7128210 (887)\ttotal: 2m 56s\tremaining: 10m 18s\n",
      "888:\ttest: 0.7128306\tbest: 0.7128306 (888)\ttotal: 2m 56s\tremaining: 10m 18s\n",
      "889:\ttest: 0.7128368\tbest: 0.7128368 (889)\ttotal: 2m 56s\tremaining: 10m 18s\n",
      "890:\ttest: 0.7128380\tbest: 0.7128380 (890)\ttotal: 2m 57s\tremaining: 10m 17s\n",
      "891:\ttest: 0.7128448\tbest: 0.7128448 (891)\ttotal: 2m 57s\tremaining: 10m 17s\n",
      "892:\ttest: 0.7128424\tbest: 0.7128448 (891)\ttotal: 2m 57s\tremaining: 10m 17s\n",
      "893:\ttest: 0.7128424\tbest: 0.7128448 (891)\ttotal: 2m 57s\tremaining: 10m 17s\n",
      "894:\ttest: 0.7128481\tbest: 0.7128481 (894)\ttotal: 2m 57s\tremaining: 10m 17s\n",
      "895:\ttest: 0.7128503\tbest: 0.7128503 (895)\ttotal: 2m 58s\tremaining: 10m 17s\n",
      "896:\ttest: 0.7128554\tbest: 0.7128554 (896)\ttotal: 2m 58s\tremaining: 10m 16s\n",
      "897:\ttest: 0.7128596\tbest: 0.7128596 (897)\ttotal: 2m 58s\tremaining: 10m 16s\n",
      "898:\ttest: 0.7128613\tbest: 0.7128613 (898)\ttotal: 2m 58s\tremaining: 10m 16s\n",
      "899:\ttest: 0.7128610\tbest: 0.7128613 (898)\ttotal: 2m 58s\tremaining: 10m 16s\n",
      "900:\ttest: 0.7128647\tbest: 0.7128647 (900)\ttotal: 2m 59s\tremaining: 10m 16s\n",
      "901:\ttest: 0.7128664\tbest: 0.7128664 (901)\ttotal: 2m 59s\tremaining: 10m 16s\n",
      "902:\ttest: 0.7128696\tbest: 0.7128696 (902)\ttotal: 2m 59s\tremaining: 10m 15s\n",
      "903:\ttest: 0.7128692\tbest: 0.7128696 (902)\ttotal: 2m 59s\tremaining: 10m 15s\n",
      "904:\ttest: 0.7128750\tbest: 0.7128750 (904)\ttotal: 2m 59s\tremaining: 10m 15s\n",
      "905:\ttest: 0.7128799\tbest: 0.7128799 (905)\ttotal: 3m\tremaining: 10m 15s\n",
      "906:\ttest: 0.7128837\tbest: 0.7128837 (906)\ttotal: 3m\tremaining: 10m 15s\n",
      "907:\ttest: 0.7128823\tbest: 0.7128837 (906)\ttotal: 3m\tremaining: 10m 14s\n",
      "908:\ttest: 0.7128911\tbest: 0.7128911 (908)\ttotal: 3m\tremaining: 10m 14s\n",
      "909:\ttest: 0.7128962\tbest: 0.7128962 (909)\ttotal: 3m\tremaining: 10m 14s\n",
      "910:\ttest: 0.7128957\tbest: 0.7128962 (909)\ttotal: 3m 1s\tremaining: 10m 14s\n",
      "911:\ttest: 0.7128992\tbest: 0.7128992 (911)\ttotal: 3m 1s\tremaining: 10m 14s\n",
      "912:\ttest: 0.7129064\tbest: 0.7129064 (912)\ttotal: 3m 1s\tremaining: 10m 13s\n",
      "913:\ttest: 0.7129152\tbest: 0.7129152 (913)\ttotal: 3m 1s\tremaining: 10m 13s\n",
      "914:\ttest: 0.7129147\tbest: 0.7129152 (913)\ttotal: 3m 1s\tremaining: 10m 13s\n",
      "915:\ttest: 0.7129159\tbest: 0.7129159 (915)\ttotal: 3m 2s\tremaining: 10m 13s\n",
      "916:\ttest: 0.7129204\tbest: 0.7129204 (916)\ttotal: 3m 2s\tremaining: 10m 13s\n",
      "917:\ttest: 0.7129184\tbest: 0.7129204 (916)\ttotal: 3m 2s\tremaining: 10m 12s\n",
      "918:\ttest: 0.7129189\tbest: 0.7129204 (916)\ttotal: 3m 2s\tremaining: 10m 12s\n",
      "919:\ttest: 0.7129179\tbest: 0.7129204 (916)\ttotal: 3m 2s\tremaining: 10m 12s\n",
      "920:\ttest: 0.7129231\tbest: 0.7129231 (920)\ttotal: 3m 3s\tremaining: 10m 12s\n",
      "921:\ttest: 0.7129218\tbest: 0.7129231 (920)\ttotal: 3m 3s\tremaining: 10m 12s\n",
      "922:\ttest: 0.7129292\tbest: 0.7129292 (922)\ttotal: 3m 3s\tremaining: 10m 12s\n",
      "923:\ttest: 0.7129344\tbest: 0.7129344 (923)\ttotal: 3m 3s\tremaining: 10m 12s\n",
      "924:\ttest: 0.7129307\tbest: 0.7129344 (923)\ttotal: 3m 4s\tremaining: 10m 12s\n",
      "925:\ttest: 0.7129337\tbest: 0.7129344 (923)\ttotal: 3m 4s\tremaining: 10m 11s\n",
      "926:\ttest: 0.7129331\tbest: 0.7129344 (923)\ttotal: 3m 4s\tremaining: 10m 11s\n",
      "927:\ttest: 0.7129329\tbest: 0.7129344 (923)\ttotal: 3m 4s\tremaining: 10m 11s\n",
      "928:\ttest: 0.7129311\tbest: 0.7129344 (923)\ttotal: 3m 5s\tremaining: 10m 11s\n",
      "929:\ttest: 0.7129380\tbest: 0.7129380 (929)\ttotal: 3m 5s\tremaining: 10m 11s\n",
      "930:\ttest: 0.7129393\tbest: 0.7129393 (930)\ttotal: 3m 5s\tremaining: 10m 11s\n",
      "931:\ttest: 0.7129420\tbest: 0.7129420 (931)\ttotal: 3m 5s\tremaining: 10m 11s\n",
      "932:\ttest: 0.7129427\tbest: 0.7129427 (932)\ttotal: 3m 5s\tremaining: 10m 11s\n",
      "933:\ttest: 0.7129421\tbest: 0.7129427 (932)\ttotal: 3m 6s\tremaining: 10m 10s\n",
      "934:\ttest: 0.7129486\tbest: 0.7129486 (934)\ttotal: 3m 6s\tremaining: 10m 10s\n",
      "935:\ttest: 0.7129491\tbest: 0.7129491 (935)\ttotal: 3m 6s\tremaining: 10m 10s\n",
      "936:\ttest: 0.7129547\tbest: 0.7129547 (936)\ttotal: 3m 6s\tremaining: 10m 10s\n",
      "937:\ttest: 0.7129560\tbest: 0.7129560 (937)\ttotal: 3m 6s\tremaining: 10m 9s\n",
      "938:\ttest: 0.7129624\tbest: 0.7129624 (938)\ttotal: 3m 7s\tremaining: 10m 9s\n",
      "939:\ttest: 0.7129680\tbest: 0.7129680 (939)\ttotal: 3m 7s\tremaining: 10m 9s\n",
      "940:\ttest: 0.7129773\tbest: 0.7129773 (940)\ttotal: 3m 7s\tremaining: 10m 9s\n",
      "941:\ttest: 0.7129826\tbest: 0.7129826 (941)\ttotal: 3m 7s\tremaining: 10m 9s\n",
      "942:\ttest: 0.7129848\tbest: 0.7129848 (942)\ttotal: 3m 7s\tremaining: 10m 8s\n",
      "943:\ttest: 0.7129894\tbest: 0.7129894 (943)\ttotal: 3m 8s\tremaining: 10m 8s\n",
      "944:\ttest: 0.7129939\tbest: 0.7129939 (944)\ttotal: 3m 8s\tremaining: 10m 8s\n",
      "945:\ttest: 0.7130015\tbest: 0.7130015 (945)\ttotal: 3m 8s\tremaining: 10m 8s\n",
      "946:\ttest: 0.7130016\tbest: 0.7130016 (946)\ttotal: 3m 8s\tremaining: 10m 8s\n",
      "947:\ttest: 0.7130037\tbest: 0.7130037 (947)\ttotal: 3m 8s\tremaining: 10m 7s\n",
      "948:\ttest: 0.7130085\tbest: 0.7130085 (948)\ttotal: 3m 9s\tremaining: 10m 7s\n",
      "949:\ttest: 0.7130118\tbest: 0.7130118 (949)\ttotal: 3m 9s\tremaining: 10m 7s\n",
      "950:\ttest: 0.7130111\tbest: 0.7130118 (949)\ttotal: 3m 9s\tremaining: 10m 7s\n",
      "951:\ttest: 0.7130150\tbest: 0.7130150 (951)\ttotal: 3m 9s\tremaining: 10m 7s\n",
      "952:\ttest: 0.7130200\tbest: 0.7130200 (952)\ttotal: 3m 9s\tremaining: 10m 7s\n",
      "953:\ttest: 0.7130170\tbest: 0.7130200 (952)\ttotal: 3m 10s\tremaining: 10m 7s\n",
      "954:\ttest: 0.7130208\tbest: 0.7130208 (954)\ttotal: 3m 10s\tremaining: 10m 7s\n",
      "955:\ttest: 0.7130229\tbest: 0.7130229 (955)\ttotal: 3m 10s\tremaining: 10m 7s\n",
      "956:\ttest: 0.7130277\tbest: 0.7130277 (956)\ttotal: 3m 10s\tremaining: 10m 6s\n",
      "957:\ttest: 0.7130270\tbest: 0.7130277 (956)\ttotal: 3m 11s\tremaining: 10m 6s\n",
      "958:\ttest: 0.7130266\tbest: 0.7130277 (956)\ttotal: 3m 11s\tremaining: 10m 6s\n",
      "959:\ttest: 0.7130276\tbest: 0.7130277 (956)\ttotal: 3m 11s\tremaining: 10m 6s\n",
      "960:\ttest: 0.7130264\tbest: 0.7130277 (956)\ttotal: 3m 11s\tremaining: 10m 6s\n",
      "961:\ttest: 0.7130303\tbest: 0.7130303 (961)\ttotal: 3m 11s\tremaining: 10m 6s\n",
      "962:\ttest: 0.7130293\tbest: 0.7130303 (961)\ttotal: 3m 12s\tremaining: 10m 5s\n",
      "963:\ttest: 0.7130319\tbest: 0.7130319 (963)\ttotal: 3m 12s\tremaining: 10m 5s\n",
      "964:\ttest: 0.7130332\tbest: 0.7130332 (964)\ttotal: 3m 12s\tremaining: 10m 5s\n",
      "965:\ttest: 0.7130345\tbest: 0.7130345 (965)\ttotal: 3m 12s\tremaining: 10m 5s\n",
      "966:\ttest: 0.7130356\tbest: 0.7130356 (966)\ttotal: 3m 12s\tremaining: 10m 5s\n",
      "967:\ttest: 0.7130408\tbest: 0.7130408 (967)\ttotal: 3m 13s\tremaining: 10m 5s\n",
      "968:\ttest: 0.7130463\tbest: 0.7130463 (968)\ttotal: 3m 13s\tremaining: 10m 5s\n",
      "969:\ttest: 0.7130470\tbest: 0.7130470 (969)\ttotal: 3m 13s\tremaining: 10m 5s\n",
      "970:\ttest: 0.7130520\tbest: 0.7130520 (970)\ttotal: 3m 13s\tremaining: 10m 4s\n",
      "971:\ttest: 0.7130550\tbest: 0.7130550 (971)\ttotal: 3m 14s\tremaining: 10m 4s\n",
      "972:\ttest: 0.7130606\tbest: 0.7130606 (972)\ttotal: 3m 14s\tremaining: 10m 4s\n",
      "973:\ttest: 0.7130637\tbest: 0.7130637 (973)\ttotal: 3m 14s\tremaining: 10m 4s\n",
      "974:\ttest: 0.7130690\tbest: 0.7130690 (974)\ttotal: 3m 14s\tremaining: 10m 4s\n",
      "975:\ttest: 0.7130731\tbest: 0.7130731 (975)\ttotal: 3m 14s\tremaining: 10m 3s\n",
      "976:\ttest: 0.7130726\tbest: 0.7130731 (975)\ttotal: 3m 15s\tremaining: 10m 3s\n",
      "977:\ttest: 0.7130716\tbest: 0.7130731 (975)\ttotal: 3m 15s\tremaining: 10m 3s\n",
      "978:\ttest: 0.7130723\tbest: 0.7130731 (975)\ttotal: 3m 15s\tremaining: 10m 3s\n",
      "979:\ttest: 0.7130743\tbest: 0.7130743 (979)\ttotal: 3m 15s\tremaining: 10m 3s\n",
      "980:\ttest: 0.7130786\tbest: 0.7130786 (980)\ttotal: 3m 15s\tremaining: 10m 3s\n",
      "981:\ttest: 0.7130862\tbest: 0.7130862 (981)\ttotal: 3m 16s\tremaining: 10m 2s\n",
      "982:\ttest: 0.7130861\tbest: 0.7130862 (981)\ttotal: 3m 16s\tremaining: 10m 2s\n",
      "983:\ttest: 0.7130878\tbest: 0.7130878 (983)\ttotal: 3m 16s\tremaining: 10m 2s\n",
      "984:\ttest: 0.7130892\tbest: 0.7130892 (984)\ttotal: 3m 16s\tremaining: 10m 2s\n",
      "985:\ttest: 0.7130965\tbest: 0.7130965 (985)\ttotal: 3m 17s\tremaining: 10m 2s\n",
      "986:\ttest: 0.7130979\tbest: 0.7130979 (986)\ttotal: 3m 17s\tremaining: 10m 2s\n",
      "987:\ttest: 0.7131054\tbest: 0.7131054 (987)\ttotal: 3m 17s\tremaining: 10m 2s\n"
     ]
    },
    {
     "name": "stdout",
     "output_type": "stream",
     "text": [
      "988:\ttest: 0.7131042\tbest: 0.7131054 (987)\ttotal: 3m 17s\tremaining: 10m 2s\n",
      "989:\ttest: 0.7131010\tbest: 0.7131054 (987)\ttotal: 3m 17s\tremaining: 10m 1s\n",
      "990:\ttest: 0.7131047\tbest: 0.7131054 (987)\ttotal: 3m 18s\tremaining: 10m 1s\n",
      "991:\ttest: 0.7131060\tbest: 0.7131060 (991)\ttotal: 3m 18s\tremaining: 10m 1s\n",
      "992:\ttest: 0.7131102\tbest: 0.7131102 (992)\ttotal: 3m 18s\tremaining: 10m 1s\n",
      "993:\ttest: 0.7131153\tbest: 0.7131153 (993)\ttotal: 3m 18s\tremaining: 10m 1s\n",
      "994:\ttest: 0.7131170\tbest: 0.7131170 (994)\ttotal: 3m 19s\tremaining: 10m 1s\n",
      "995:\ttest: 0.7131176\tbest: 0.7131176 (995)\ttotal: 3m 19s\tremaining: 10m\n",
      "996:\ttest: 0.7131188\tbest: 0.7131188 (996)\ttotal: 3m 19s\tremaining: 10m\n",
      "997:\ttest: 0.7131280\tbest: 0.7131280 (997)\ttotal: 3m 19s\tremaining: 10m\n",
      "998:\ttest: 0.7131287\tbest: 0.7131287 (998)\ttotal: 3m 19s\tremaining: 10m\n",
      "999:\ttest: 0.7131298\tbest: 0.7131298 (999)\ttotal: 3m 20s\tremaining: 10m\n",
      "1000:\ttest: 0.7131352\tbest: 0.7131352 (1000)\ttotal: 3m 20s\tremaining: 9m 59s\n",
      "1001:\ttest: 0.7131414\tbest: 0.7131414 (1001)\ttotal: 3m 20s\tremaining: 9m 59s\n",
      "1002:\ttest: 0.7131432\tbest: 0.7131432 (1002)\ttotal: 3m 20s\tremaining: 9m 59s\n",
      "1003:\ttest: 0.7131477\tbest: 0.7131477 (1003)\ttotal: 3m 20s\tremaining: 9m 59s\n",
      "1004:\ttest: 0.7131542\tbest: 0.7131542 (1004)\ttotal: 3m 21s\tremaining: 9m 59s\n",
      "1005:\ttest: 0.7131570\tbest: 0.7131570 (1005)\ttotal: 3m 21s\tremaining: 9m 59s\n",
      "1006:\ttest: 0.7131577\tbest: 0.7131577 (1006)\ttotal: 3m 21s\tremaining: 9m 59s\n",
      "1007:\ttest: 0.7131727\tbest: 0.7131727 (1007)\ttotal: 3m 21s\tremaining: 9m 58s\n",
      "1008:\ttest: 0.7131746\tbest: 0.7131746 (1008)\ttotal: 3m 21s\tremaining: 9m 58s\n",
      "1009:\ttest: 0.7131747\tbest: 0.7131747 (1009)\ttotal: 3m 22s\tremaining: 9m 58s\n",
      "1010:\ttest: 0.7131783\tbest: 0.7131783 (1010)\ttotal: 3m 22s\tremaining: 9m 58s\n",
      "1011:\ttest: 0.7131807\tbest: 0.7131807 (1011)\ttotal: 3m 22s\tremaining: 9m 58s\n",
      "1012:\ttest: 0.7131894\tbest: 0.7131894 (1012)\ttotal: 3m 22s\tremaining: 9m 57s\n",
      "1013:\ttest: 0.7131885\tbest: 0.7131894 (1012)\ttotal: 3m 22s\tremaining: 9m 57s\n",
      "1014:\ttest: 0.7131889\tbest: 0.7131894 (1012)\ttotal: 3m 23s\tremaining: 9m 57s\n",
      "1015:\ttest: 0.7131942\tbest: 0.7131942 (1015)\ttotal: 3m 23s\tremaining: 9m 57s\n",
      "1016:\ttest: 0.7132040\tbest: 0.7132040 (1016)\ttotal: 3m 23s\tremaining: 9m 57s\n",
      "1017:\ttest: 0.7132046\tbest: 0.7132046 (1017)\ttotal: 3m 23s\tremaining: 9m 56s\n",
      "1018:\ttest: 0.7132084\tbest: 0.7132084 (1018)\ttotal: 3m 23s\tremaining: 9m 56s\n",
      "1019:\ttest: 0.7132112\tbest: 0.7132112 (1019)\ttotal: 3m 24s\tremaining: 9m 56s\n",
      "1020:\ttest: 0.7132142\tbest: 0.7132142 (1020)\ttotal: 3m 24s\tremaining: 9m 56s\n",
      "1021:\ttest: 0.7132161\tbest: 0.7132161 (1021)\ttotal: 3m 24s\tremaining: 9m 56s\n",
      "1022:\ttest: 0.7132161\tbest: 0.7132161 (1021)\ttotal: 3m 24s\tremaining: 9m 55s\n",
      "1023:\ttest: 0.7132192\tbest: 0.7132192 (1023)\ttotal: 3m 24s\tremaining: 9m 55s\n",
      "1024:\ttest: 0.7132263\tbest: 0.7132263 (1024)\ttotal: 3m 25s\tremaining: 9m 55s\n",
      "1025:\ttest: 0.7132326\tbest: 0.7132326 (1025)\ttotal: 3m 25s\tremaining: 9m 55s\n",
      "1026:\ttest: 0.7132364\tbest: 0.7132364 (1026)\ttotal: 3m 25s\tremaining: 9m 55s\n",
      "1027:\ttest: 0.7132366\tbest: 0.7132366 (1027)\ttotal: 3m 25s\tremaining: 9m 54s\n",
      "1028:\ttest: 0.7132393\tbest: 0.7132393 (1028)\ttotal: 3m 25s\tremaining: 9m 54s\n",
      "1029:\ttest: 0.7132445\tbest: 0.7132445 (1029)\ttotal: 3m 26s\tremaining: 9m 54s\n",
      "1030:\ttest: 0.7132472\tbest: 0.7132472 (1030)\ttotal: 3m 26s\tremaining: 9m 54s\n",
      "1031:\ttest: 0.7132501\tbest: 0.7132501 (1031)\ttotal: 3m 26s\tremaining: 9m 54s\n",
      "1032:\ttest: 0.7132548\tbest: 0.7132548 (1032)\ttotal: 3m 26s\tremaining: 9m 54s\n",
      "1033:\ttest: 0.7132585\tbest: 0.7132585 (1033)\ttotal: 3m 27s\tremaining: 9m 53s\n",
      "1034:\ttest: 0.7132622\tbest: 0.7132622 (1034)\ttotal: 3m 27s\tremaining: 9m 53s\n",
      "1035:\ttest: 0.7132648\tbest: 0.7132648 (1035)\ttotal: 3m 27s\tremaining: 9m 53s\n",
      "1036:\ttest: 0.7132630\tbest: 0.7132648 (1035)\ttotal: 3m 27s\tremaining: 9m 53s\n",
      "1037:\ttest: 0.7132660\tbest: 0.7132660 (1037)\ttotal: 3m 27s\tremaining: 9m 53s\n",
      "1038:\ttest: 0.7132686\tbest: 0.7132686 (1038)\ttotal: 3m 28s\tremaining: 9m 52s\n",
      "1039:\ttest: 0.7132723\tbest: 0.7132723 (1039)\ttotal: 3m 28s\tremaining: 9m 52s\n",
      "1040:\ttest: 0.7132743\tbest: 0.7132743 (1040)\ttotal: 3m 28s\tremaining: 9m 52s\n",
      "1041:\ttest: 0.7132730\tbest: 0.7132743 (1040)\ttotal: 3m 28s\tremaining: 9m 52s\n",
      "1042:\ttest: 0.7132808\tbest: 0.7132808 (1042)\ttotal: 3m 28s\tremaining: 9m 52s\n",
      "1043:\ttest: 0.7132804\tbest: 0.7132808 (1042)\ttotal: 3m 29s\tremaining: 9m 52s\n",
      "1044:\ttest: 0.7132852\tbest: 0.7132852 (1044)\ttotal: 3m 29s\tremaining: 9m 51s\n",
      "1045:\ttest: 0.7132871\tbest: 0.7132871 (1045)\ttotal: 3m 29s\tremaining: 9m 51s\n",
      "1046:\ttest: 0.7132890\tbest: 0.7132890 (1046)\ttotal: 3m 29s\tremaining: 9m 51s\n",
      "1047:\ttest: 0.7132901\tbest: 0.7132901 (1047)\ttotal: 3m 29s\tremaining: 9m 51s\n",
      "1048:\ttest: 0.7132941\tbest: 0.7132941 (1048)\ttotal: 3m 30s\tremaining: 9m 51s\n",
      "1049:\ttest: 0.7132958\tbest: 0.7132958 (1049)\ttotal: 3m 30s\tremaining: 9m 50s\n",
      "1050:\ttest: 0.7132986\tbest: 0.7132986 (1050)\ttotal: 3m 30s\tremaining: 9m 50s\n",
      "1051:\ttest: 0.7133027\tbest: 0.7133027 (1051)\ttotal: 3m 30s\tremaining: 9m 50s\n",
      "1052:\ttest: 0.7133091\tbest: 0.7133091 (1052)\ttotal: 3m 30s\tremaining: 9m 50s\n",
      "1053:\ttest: 0.7133072\tbest: 0.7133091 (1052)\ttotal: 3m 31s\tremaining: 9m 50s\n",
      "1054:\ttest: 0.7133067\tbest: 0.7133091 (1052)\ttotal: 3m 31s\tremaining: 9m 49s\n",
      "1055:\ttest: 0.7133137\tbest: 0.7133137 (1055)\ttotal: 3m 31s\tremaining: 9m 49s\n",
      "1056:\ttest: 0.7133137\tbest: 0.7133137 (1055)\ttotal: 3m 31s\tremaining: 9m 49s\n",
      "1057:\ttest: 0.7133163\tbest: 0.7133163 (1057)\ttotal: 3m 31s\tremaining: 9m 49s\n",
      "1058:\ttest: 0.7133220\tbest: 0.7133220 (1058)\ttotal: 3m 32s\tremaining: 9m 48s\n",
      "1059:\ttest: 0.7133201\tbest: 0.7133220 (1058)\ttotal: 3m 32s\tremaining: 9m 48s\n",
      "1060:\ttest: 0.7133241\tbest: 0.7133241 (1060)\ttotal: 3m 32s\tremaining: 9m 48s\n",
      "1061:\ttest: 0.7133293\tbest: 0.7133293 (1061)\ttotal: 3m 32s\tremaining: 9m 48s\n",
      "1062:\ttest: 0.7133378\tbest: 0.7133378 (1062)\ttotal: 3m 32s\tremaining: 9m 48s\n",
      "1063:\ttest: 0.7133391\tbest: 0.7133391 (1063)\ttotal: 3m 33s\tremaining: 9m 47s\n",
      "1064:\ttest: 0.7133444\tbest: 0.7133444 (1064)\ttotal: 3m 33s\tremaining: 9m 47s\n",
      "1065:\ttest: 0.7133459\tbest: 0.7133459 (1065)\ttotal: 3m 33s\tremaining: 9m 47s\n",
      "1066:\ttest: 0.7133460\tbest: 0.7133460 (1066)\ttotal: 3m 33s\tremaining: 9m 47s\n",
      "1067:\ttest: 0.7133482\tbest: 0.7133482 (1067)\ttotal: 3m 33s\tremaining: 9m 46s\n",
      "1068:\ttest: 0.7133444\tbest: 0.7133482 (1067)\ttotal: 3m 33s\tremaining: 9m 46s\n",
      "1069:\ttest: 0.7133431\tbest: 0.7133482 (1067)\ttotal: 3m 34s\tremaining: 9m 46s\n",
      "1070:\ttest: 0.7133433\tbest: 0.7133482 (1067)\ttotal: 3m 34s\tremaining: 9m 46s\n",
      "1071:\ttest: 0.7133439\tbest: 0.7133482 (1067)\ttotal: 3m 34s\tremaining: 9m 45s\n",
      "1072:\ttest: 0.7133441\tbest: 0.7133482 (1067)\ttotal: 3m 34s\tremaining: 9m 45s\n",
      "1073:\ttest: 0.7133448\tbest: 0.7133482 (1067)\ttotal: 3m 34s\tremaining: 9m 45s\n",
      "1074:\ttest: 0.7133550\tbest: 0.7133550 (1074)\ttotal: 3m 35s\tremaining: 9m 45s\n",
      "1075:\ttest: 0.7133554\tbest: 0.7133554 (1075)\ttotal: 3m 35s\tremaining: 9m 45s\n",
      "1076:\ttest: 0.7133512\tbest: 0.7133554 (1075)\ttotal: 3m 35s\tremaining: 9m 44s\n",
      "1077:\ttest: 0.7133540\tbest: 0.7133554 (1075)\ttotal: 3m 35s\tremaining: 9m 44s\n",
      "1078:\ttest: 0.7133552\tbest: 0.7133554 (1075)\ttotal: 3m 35s\tremaining: 9m 44s\n",
      "1079:\ttest: 0.7133585\tbest: 0.7133585 (1079)\ttotal: 3m 36s\tremaining: 9m 44s\n",
      "1080:\ttest: 0.7133581\tbest: 0.7133585 (1079)\ttotal: 3m 36s\tremaining: 9m 44s\n",
      "1081:\ttest: 0.7133624\tbest: 0.7133624 (1081)\ttotal: 3m 36s\tremaining: 9m 43s\n",
      "1082:\ttest: 0.7133660\tbest: 0.7133660 (1082)\ttotal: 3m 36s\tremaining: 9m 43s\n",
      "1083:\ttest: 0.7133663\tbest: 0.7133663 (1083)\ttotal: 3m 36s\tremaining: 9m 43s\n",
      "1084:\ttest: 0.7133677\tbest: 0.7133677 (1084)\ttotal: 3m 37s\tremaining: 9m 43s\n",
      "1085:\ttest: 0.7133679\tbest: 0.7133679 (1085)\ttotal: 3m 37s\tremaining: 9m 43s\n",
      "1086:\ttest: 0.7133717\tbest: 0.7133717 (1086)\ttotal: 3m 37s\tremaining: 9m 42s\n",
      "1087:\ttest: 0.7133784\tbest: 0.7133784 (1087)\ttotal: 3m 37s\tremaining: 9m 42s\n",
      "1088:\ttest: 0.7133810\tbest: 0.7133810 (1088)\ttotal: 3m 37s\tremaining: 9m 42s\n",
      "1089:\ttest: 0.7133830\tbest: 0.7133830 (1089)\ttotal: 3m 38s\tremaining: 9m 42s\n",
      "1090:\ttest: 0.7133865\tbest: 0.7133865 (1090)\ttotal: 3m 38s\tremaining: 9m 42s\n",
      "1091:\ttest: 0.7133916\tbest: 0.7133916 (1091)\ttotal: 3m 38s\tremaining: 9m 41s\n",
      "1092:\ttest: 0.7133953\tbest: 0.7133953 (1092)\ttotal: 3m 38s\tremaining: 9m 41s\n",
      "1093:\ttest: 0.7134018\tbest: 0.7134018 (1093)\ttotal: 3m 38s\tremaining: 9m 41s\n",
      "1094:\ttest: 0.7133998\tbest: 0.7134018 (1093)\ttotal: 3m 39s\tremaining: 9m 41s\n"
     ]
    },
    {
     "name": "stdout",
     "output_type": "stream",
     "text": [
      "1095:\ttest: 0.7133990\tbest: 0.7134018 (1093)\ttotal: 3m 39s\tremaining: 9m 41s\n",
      "1096:\ttest: 0.7134010\tbest: 0.7134018 (1093)\ttotal: 3m 39s\tremaining: 9m 41s\n",
      "1097:\ttest: 0.7134041\tbest: 0.7134041 (1097)\ttotal: 3m 39s\tremaining: 9m 40s\n",
      "1098:\ttest: 0.7134030\tbest: 0.7134041 (1097)\ttotal: 3m 39s\tremaining: 9m 40s\n",
      "1099:\ttest: 0.7133998\tbest: 0.7134041 (1097)\ttotal: 3m 40s\tremaining: 9m 40s\n",
      "1100:\ttest: 0.7134002\tbest: 0.7134041 (1097)\ttotal: 3m 40s\tremaining: 9m 39s\n",
      "1101:\ttest: 0.7134048\tbest: 0.7134048 (1101)\ttotal: 3m 40s\tremaining: 9m 39s\n",
      "1102:\ttest: 0.7134071\tbest: 0.7134071 (1102)\ttotal: 3m 40s\tremaining: 9m 39s\n",
      "1103:\ttest: 0.7134071\tbest: 0.7134071 (1102)\ttotal: 3m 40s\tremaining: 9m 39s\n",
      "1104:\ttest: 0.7134093\tbest: 0.7134093 (1104)\ttotal: 3m 41s\tremaining: 9m 39s\n",
      "1105:\ttest: 0.7134136\tbest: 0.7134136 (1105)\ttotal: 3m 41s\tremaining: 9m 38s\n",
      "1106:\ttest: 0.7134105\tbest: 0.7134136 (1105)\ttotal: 3m 41s\tremaining: 9m 38s\n",
      "1107:\ttest: 0.7134160\tbest: 0.7134160 (1107)\ttotal: 3m 41s\tremaining: 9m 38s\n",
      "1108:\ttest: 0.7134180\tbest: 0.7134180 (1108)\ttotal: 3m 41s\tremaining: 9m 38s\n",
      "1109:\ttest: 0.7134179\tbest: 0.7134180 (1108)\ttotal: 3m 42s\tremaining: 9m 38s\n",
      "1110:\ttest: 0.7134220\tbest: 0.7134220 (1110)\ttotal: 3m 42s\tremaining: 9m 38s\n",
      "1111:\ttest: 0.7134258\tbest: 0.7134258 (1111)\ttotal: 3m 42s\tremaining: 9m 38s\n",
      "1112:\ttest: 0.7134355\tbest: 0.7134355 (1112)\ttotal: 3m 42s\tremaining: 9m 37s\n",
      "1113:\ttest: 0.7134402\tbest: 0.7134402 (1113)\ttotal: 3m 43s\tremaining: 9m 37s\n",
      "1114:\ttest: 0.7134449\tbest: 0.7134449 (1114)\ttotal: 3m 43s\tremaining: 9m 37s\n",
      "1115:\ttest: 0.7134506\tbest: 0.7134506 (1115)\ttotal: 3m 43s\tremaining: 9m 37s\n",
      "1116:\ttest: 0.7134472\tbest: 0.7134506 (1115)\ttotal: 3m 43s\tremaining: 9m 37s\n",
      "1117:\ttest: 0.7134517\tbest: 0.7134517 (1117)\ttotal: 3m 43s\tremaining: 9m 37s\n",
      "1118:\ttest: 0.7134516\tbest: 0.7134517 (1117)\ttotal: 3m 44s\tremaining: 9m 37s\n",
      "1119:\ttest: 0.7134560\tbest: 0.7134560 (1119)\ttotal: 3m 44s\tremaining: 9m 36s\n",
      "1120:\ttest: 0.7134588\tbest: 0.7134588 (1120)\ttotal: 3m 44s\tremaining: 9m 36s\n",
      "1121:\ttest: 0.7134600\tbest: 0.7134600 (1121)\ttotal: 3m 44s\tremaining: 9m 36s\n",
      "1122:\ttest: 0.7134661\tbest: 0.7134661 (1122)\ttotal: 3m 44s\tremaining: 9m 36s\n",
      "1123:\ttest: 0.7134688\tbest: 0.7134688 (1123)\ttotal: 3m 45s\tremaining: 9m 36s\n",
      "1124:\ttest: 0.7134694\tbest: 0.7134694 (1124)\ttotal: 3m 45s\tremaining: 9m 35s\n",
      "1125:\ttest: 0.7134693\tbest: 0.7134694 (1124)\ttotal: 3m 45s\tremaining: 9m 35s\n",
      "1126:\ttest: 0.7134701\tbest: 0.7134701 (1126)\ttotal: 3m 45s\tremaining: 9m 35s\n",
      "1127:\ttest: 0.7134673\tbest: 0.7134701 (1126)\ttotal: 3m 45s\tremaining: 9m 35s\n",
      "1128:\ttest: 0.7134692\tbest: 0.7134701 (1126)\ttotal: 3m 46s\tremaining: 9m 35s\n",
      "1129:\ttest: 0.7134677\tbest: 0.7134701 (1126)\ttotal: 3m 46s\tremaining: 9m 34s\n",
      "1130:\ttest: 0.7134644\tbest: 0.7134701 (1126)\ttotal: 3m 46s\tremaining: 9m 34s\n",
      "1131:\ttest: 0.7134691\tbest: 0.7134701 (1126)\ttotal: 3m 46s\tremaining: 9m 34s\n",
      "1132:\ttest: 0.7134739\tbest: 0.7134739 (1132)\ttotal: 3m 46s\tremaining: 9m 34s\n",
      "1133:\ttest: 0.7134768\tbest: 0.7134768 (1133)\ttotal: 3m 47s\tremaining: 9m 34s\n",
      "1134:\ttest: 0.7134750\tbest: 0.7134768 (1133)\ttotal: 3m 47s\tremaining: 9m 33s\n",
      "1135:\ttest: 0.7134757\tbest: 0.7134768 (1133)\ttotal: 3m 47s\tremaining: 9m 33s\n",
      "1136:\ttest: 0.7134729\tbest: 0.7134768 (1133)\ttotal: 3m 47s\tremaining: 9m 33s\n",
      "1137:\ttest: 0.7134790\tbest: 0.7134790 (1137)\ttotal: 3m 47s\tremaining: 9m 33s\n",
      "1138:\ttest: 0.7134860\tbest: 0.7134860 (1138)\ttotal: 3m 48s\tremaining: 9m 33s\n",
      "1139:\ttest: 0.7134839\tbest: 0.7134860 (1138)\ttotal: 3m 48s\tremaining: 9m 32s\n",
      "1140:\ttest: 0.7134832\tbest: 0.7134860 (1138)\ttotal: 3m 48s\tremaining: 9m 32s\n",
      "1141:\ttest: 0.7134813\tbest: 0.7134860 (1138)\ttotal: 3m 48s\tremaining: 9m 32s\n",
      "1142:\ttest: 0.7134891\tbest: 0.7134891 (1142)\ttotal: 3m 48s\tremaining: 9m 32s\n",
      "1143:\ttest: 0.7134895\tbest: 0.7134895 (1143)\ttotal: 3m 49s\tremaining: 9m 32s\n",
      "1144:\ttest: 0.7134919\tbest: 0.7134919 (1144)\ttotal: 3m 49s\tremaining: 9m 31s\n",
      "1145:\ttest: 0.7134953\tbest: 0.7134953 (1145)\ttotal: 3m 49s\tremaining: 9m 31s\n",
      "1146:\ttest: 0.7134975\tbest: 0.7134975 (1146)\ttotal: 3m 49s\tremaining: 9m 31s\n",
      "1147:\ttest: 0.7135015\tbest: 0.7135015 (1147)\ttotal: 3m 49s\tremaining: 9m 31s\n",
      "1148:\ttest: 0.7135013\tbest: 0.7135015 (1147)\ttotal: 3m 50s\tremaining: 9m 31s\n",
      "1149:\ttest: 0.7135030\tbest: 0.7135030 (1149)\ttotal: 3m 50s\tremaining: 9m 30s\n",
      "1150:\ttest: 0.7135054\tbest: 0.7135054 (1150)\ttotal: 3m 50s\tremaining: 9m 30s\n",
      "1151:\ttest: 0.7135077\tbest: 0.7135077 (1151)\ttotal: 3m 50s\tremaining: 9m 30s\n",
      "1152:\ttest: 0.7135087\tbest: 0.7135087 (1152)\ttotal: 3m 50s\tremaining: 9m 30s\n",
      "1153:\ttest: 0.7135102\tbest: 0.7135102 (1153)\ttotal: 3m 51s\tremaining: 9m 30s\n",
      "1154:\ttest: 0.7135111\tbest: 0.7135111 (1154)\ttotal: 3m 51s\tremaining: 9m 29s\n",
      "1155:\ttest: 0.7135152\tbest: 0.7135152 (1155)\ttotal: 3m 51s\tremaining: 9m 29s\n",
      "1156:\ttest: 0.7135175\tbest: 0.7135175 (1156)\ttotal: 3m 51s\tremaining: 9m 29s\n",
      "1157:\ttest: 0.7135231\tbest: 0.7135231 (1157)\ttotal: 3m 51s\tremaining: 9m 29s\n",
      "1158:\ttest: 0.7135271\tbest: 0.7135271 (1158)\ttotal: 3m 52s\tremaining: 9m 29s\n",
      "1159:\ttest: 0.7135307\tbest: 0.7135307 (1159)\ttotal: 3m 52s\tremaining: 9m 28s\n",
      "1160:\ttest: 0.7135325\tbest: 0.7135325 (1160)\ttotal: 3m 52s\tremaining: 9m 28s\n",
      "1161:\ttest: 0.7135312\tbest: 0.7135325 (1160)\ttotal: 3m 52s\tremaining: 9m 28s\n",
      "1162:\ttest: 0.7135326\tbest: 0.7135326 (1162)\ttotal: 3m 52s\tremaining: 9m 28s\n",
      "1163:\ttest: 0.7135390\tbest: 0.7135390 (1163)\ttotal: 3m 53s\tremaining: 9m 28s\n",
      "1164:\ttest: 0.7135400\tbest: 0.7135400 (1164)\ttotal: 3m 53s\tremaining: 9m 27s\n",
      "1165:\ttest: 0.7135385\tbest: 0.7135400 (1164)\ttotal: 3m 53s\tremaining: 9m 27s\n",
      "1166:\ttest: 0.7135423\tbest: 0.7135423 (1166)\ttotal: 3m 53s\tremaining: 9m 27s\n",
      "1167:\ttest: 0.7135430\tbest: 0.7135430 (1167)\ttotal: 3m 53s\tremaining: 9m 27s\n",
      "1168:\ttest: 0.7135429\tbest: 0.7135430 (1167)\ttotal: 3m 54s\tremaining: 9m 27s\n",
      "1169:\ttest: 0.7135441\tbest: 0.7135441 (1169)\ttotal: 3m 54s\tremaining: 9m 26s\n",
      "1170:\ttest: 0.7135499\tbest: 0.7135499 (1170)\ttotal: 3m 54s\tremaining: 9m 26s\n",
      "1171:\ttest: 0.7135498\tbest: 0.7135499 (1170)\ttotal: 3m 54s\tremaining: 9m 26s\n",
      "1172:\ttest: 0.7135479\tbest: 0.7135499 (1170)\ttotal: 3m 54s\tremaining: 9m 26s\n",
      "1173:\ttest: 0.7135515\tbest: 0.7135515 (1173)\ttotal: 3m 55s\tremaining: 9m 26s\n",
      "1174:\ttest: 0.7135534\tbest: 0.7135534 (1174)\ttotal: 3m 55s\tremaining: 9m 26s\n",
      "1175:\ttest: 0.7135523\tbest: 0.7135534 (1174)\ttotal: 3m 55s\tremaining: 9m 25s\n",
      "1176:\ttest: 0.7135571\tbest: 0.7135571 (1176)\ttotal: 3m 55s\tremaining: 9m 25s\n",
      "1177:\ttest: 0.7135651\tbest: 0.7135651 (1177)\ttotal: 3m 56s\tremaining: 9m 25s\n",
      "1178:\ttest: 0.7135694\tbest: 0.7135694 (1178)\ttotal: 3m 56s\tremaining: 9m 25s\n",
      "1179:\ttest: 0.7135697\tbest: 0.7135697 (1179)\ttotal: 3m 56s\tremaining: 9m 25s\n",
      "1180:\ttest: 0.7135686\tbest: 0.7135697 (1179)\ttotal: 3m 56s\tremaining: 9m 24s\n",
      "1181:\ttest: 0.7135711\tbest: 0.7135711 (1181)\ttotal: 3m 56s\tremaining: 9m 24s\n",
      "1182:\ttest: 0.7135729\tbest: 0.7135729 (1182)\ttotal: 3m 57s\tremaining: 9m 24s\n",
      "1183:\ttest: 0.7135731\tbest: 0.7135731 (1183)\ttotal: 3m 57s\tremaining: 9m 24s\n",
      "1184:\ttest: 0.7135794\tbest: 0.7135794 (1184)\ttotal: 3m 57s\tremaining: 9m 23s\n",
      "1185:\ttest: 0.7135816\tbest: 0.7135816 (1185)\ttotal: 3m 57s\tremaining: 9m 23s\n",
      "1186:\ttest: 0.7135813\tbest: 0.7135816 (1185)\ttotal: 3m 57s\tremaining: 9m 23s\n",
      "1187:\ttest: 0.7135815\tbest: 0.7135816 (1185)\ttotal: 3m 57s\tremaining: 9m 23s\n",
      "1188:\ttest: 0.7135851\tbest: 0.7135851 (1188)\ttotal: 3m 58s\tremaining: 9m 22s\n",
      "1189:\ttest: 0.7135833\tbest: 0.7135851 (1188)\ttotal: 3m 58s\tremaining: 9m 22s\n",
      "1190:\ttest: 0.7135915\tbest: 0.7135915 (1190)\ttotal: 3m 58s\tremaining: 9m 22s\n",
      "1191:\ttest: 0.7135966\tbest: 0.7135966 (1191)\ttotal: 3m 58s\tremaining: 9m 22s\n",
      "1192:\ttest: 0.7135999\tbest: 0.7135999 (1192)\ttotal: 3m 58s\tremaining: 9m 22s\n",
      "1193:\ttest: 0.7135996\tbest: 0.7135999 (1192)\ttotal: 3m 59s\tremaining: 9m 22s\n",
      "1194:\ttest: 0.7136022\tbest: 0.7136022 (1194)\ttotal: 3m 59s\tremaining: 9m 21s\n",
      "1195:\ttest: 0.7136049\tbest: 0.7136049 (1195)\ttotal: 3m 59s\tremaining: 9m 21s\n",
      "1196:\ttest: 0.7136074\tbest: 0.7136074 (1196)\ttotal: 3m 59s\tremaining: 9m 21s\n",
      "1197:\ttest: 0.7136123\tbest: 0.7136123 (1197)\ttotal: 4m\tremaining: 9m 21s\n",
      "1198:\ttest: 0.7136122\tbest: 0.7136123 (1197)\ttotal: 4m\tremaining: 9m 21s\n",
      "1199:\ttest: 0.7136098\tbest: 0.7136123 (1197)\ttotal: 4m\tremaining: 9m 21s\n",
      "1200:\ttest: 0.7136127\tbest: 0.7136127 (1200)\ttotal: 4m\tremaining: 9m 20s\n",
      "1201:\ttest: 0.7136190\tbest: 0.7136190 (1201)\ttotal: 4m\tremaining: 9m 20s\n"
     ]
    },
    {
     "name": "stdout",
     "output_type": "stream",
     "text": [
      "1202:\ttest: 0.7136226\tbest: 0.7136226 (1202)\ttotal: 4m 1s\tremaining: 9m 20s\n",
      "1203:\ttest: 0.7136286\tbest: 0.7136286 (1203)\ttotal: 4m 1s\tremaining: 9m 20s\n",
      "1204:\ttest: 0.7136354\tbest: 0.7136354 (1204)\ttotal: 4m 1s\tremaining: 9m 20s\n",
      "1205:\ttest: 0.7136383\tbest: 0.7136383 (1205)\ttotal: 4m 1s\tremaining: 9m 19s\n",
      "1206:\ttest: 0.7136361\tbest: 0.7136383 (1205)\ttotal: 4m 1s\tremaining: 9m 19s\n",
      "1207:\ttest: 0.7136463\tbest: 0.7136463 (1207)\ttotal: 4m 2s\tremaining: 9m 19s\n",
      "1208:\ttest: 0.7136526\tbest: 0.7136526 (1208)\ttotal: 4m 2s\tremaining: 9m 19s\n",
      "1209:\ttest: 0.7136564\tbest: 0.7136564 (1209)\ttotal: 4m 2s\tremaining: 9m 19s\n",
      "1210:\ttest: 0.7136586\tbest: 0.7136586 (1210)\ttotal: 4m 2s\tremaining: 9m 18s\n",
      "1211:\ttest: 0.7136584\tbest: 0.7136586 (1210)\ttotal: 4m 2s\tremaining: 9m 18s\n",
      "1212:\ttest: 0.7136574\tbest: 0.7136586 (1210)\ttotal: 4m 3s\tremaining: 9m 18s\n",
      "1213:\ttest: 0.7136573\tbest: 0.7136586 (1210)\ttotal: 4m 3s\tremaining: 9m 18s\n",
      "1214:\ttest: 0.7136602\tbest: 0.7136602 (1214)\ttotal: 4m 3s\tremaining: 9m 17s\n",
      "1215:\ttest: 0.7136601\tbest: 0.7136602 (1214)\ttotal: 4m 3s\tremaining: 9m 17s\n",
      "1216:\ttest: 0.7136595\tbest: 0.7136602 (1214)\ttotal: 4m 3s\tremaining: 9m 17s\n",
      "1217:\ttest: 0.7136632\tbest: 0.7136632 (1217)\ttotal: 4m 4s\tremaining: 9m 17s\n",
      "1218:\ttest: 0.7136666\tbest: 0.7136666 (1218)\ttotal: 4m 4s\tremaining: 9m 17s\n",
      "1219:\ttest: 0.7136752\tbest: 0.7136752 (1219)\ttotal: 4m 4s\tremaining: 9m 16s\n",
      "1220:\ttest: 0.7136761\tbest: 0.7136761 (1220)\ttotal: 4m 4s\tremaining: 9m 16s\n",
      "1221:\ttest: 0.7136803\tbest: 0.7136803 (1221)\ttotal: 4m 4s\tremaining: 9m 16s\n",
      "1222:\ttest: 0.7136832\tbest: 0.7136832 (1222)\ttotal: 4m 5s\tremaining: 9m 16s\n",
      "1223:\ttest: 0.7136909\tbest: 0.7136909 (1223)\ttotal: 4m 5s\tremaining: 9m 16s\n",
      "1224:\ttest: 0.7136921\tbest: 0.7136921 (1224)\ttotal: 4m 5s\tremaining: 9m 15s\n",
      "1225:\ttest: 0.7136908\tbest: 0.7136921 (1224)\ttotal: 4m 5s\tremaining: 9m 15s\n",
      "1226:\ttest: 0.7136893\tbest: 0.7136921 (1224)\ttotal: 4m 5s\tremaining: 9m 15s\n",
      "1227:\ttest: 0.7136916\tbest: 0.7136921 (1224)\ttotal: 4m 6s\tremaining: 9m 15s\n",
      "1228:\ttest: 0.7136986\tbest: 0.7136986 (1228)\ttotal: 4m 6s\tremaining: 9m 15s\n",
      "1229:\ttest: 0.7137030\tbest: 0.7137030 (1229)\ttotal: 4m 6s\tremaining: 9m 14s\n",
      "1230:\ttest: 0.7137053\tbest: 0.7137053 (1230)\ttotal: 4m 6s\tremaining: 9m 14s\n",
      "1231:\ttest: 0.7137115\tbest: 0.7137115 (1231)\ttotal: 4m 6s\tremaining: 9m 14s\n",
      "1232:\ttest: 0.7137140\tbest: 0.7137140 (1232)\ttotal: 4m 7s\tremaining: 9m 14s\n",
      "1233:\ttest: 0.7137120\tbest: 0.7137140 (1232)\ttotal: 4m 7s\tremaining: 9m 14s\n",
      "1234:\ttest: 0.7137147\tbest: 0.7137147 (1234)\ttotal: 4m 7s\tremaining: 9m 14s\n",
      "1235:\ttest: 0.7137145\tbest: 0.7137147 (1234)\ttotal: 4m 7s\tremaining: 9m 13s\n",
      "1236:\ttest: 0.7137190\tbest: 0.7137190 (1236)\ttotal: 4m 7s\tremaining: 9m 13s\n",
      "1237:\ttest: 0.7137218\tbest: 0.7137218 (1237)\ttotal: 4m 8s\tremaining: 9m 13s\n",
      "1238:\ttest: 0.7137309\tbest: 0.7137309 (1238)\ttotal: 4m 8s\tremaining: 9m 13s\n",
      "1239:\ttest: 0.7137311\tbest: 0.7137311 (1239)\ttotal: 4m 8s\tremaining: 9m 13s\n",
      "1240:\ttest: 0.7137382\tbest: 0.7137382 (1240)\ttotal: 4m 8s\tremaining: 9m 13s\n",
      "1241:\ttest: 0.7137388\tbest: 0.7137388 (1241)\ttotal: 4m 8s\tremaining: 9m 12s\n",
      "1242:\ttest: 0.7137427\tbest: 0.7137427 (1242)\ttotal: 4m 9s\tremaining: 9m 12s\n",
      "1243:\ttest: 0.7137427\tbest: 0.7137427 (1243)\ttotal: 4m 9s\tremaining: 9m 12s\n",
      "1244:\ttest: 0.7137439\tbest: 0.7137439 (1244)\ttotal: 4m 9s\tremaining: 9m 12s\n",
      "1245:\ttest: 0.7137495\tbest: 0.7137495 (1245)\ttotal: 4m 9s\tremaining: 9m 12s\n",
      "1246:\ttest: 0.7137545\tbest: 0.7137545 (1246)\ttotal: 4m 10s\tremaining: 9m 12s\n",
      "1247:\ttest: 0.7137582\tbest: 0.7137582 (1247)\ttotal: 4m 10s\tremaining: 9m 11s\n",
      "1248:\ttest: 0.7137570\tbest: 0.7137582 (1247)\ttotal: 4m 10s\tremaining: 9m 11s\n",
      "1249:\ttest: 0.7137595\tbest: 0.7137595 (1249)\ttotal: 4m 10s\tremaining: 9m 11s\n",
      "1250:\ttest: 0.7137600\tbest: 0.7137600 (1250)\ttotal: 4m 10s\tremaining: 9m 11s\n",
      "1251:\ttest: 0.7137646\tbest: 0.7137646 (1251)\ttotal: 4m 11s\tremaining: 9m 10s\n",
      "1252:\ttest: 0.7137672\tbest: 0.7137672 (1252)\ttotal: 4m 11s\tremaining: 9m 10s\n",
      "1253:\ttest: 0.7137732\tbest: 0.7137732 (1253)\ttotal: 4m 11s\tremaining: 9m 10s\n",
      "1254:\ttest: 0.7137789\tbest: 0.7137789 (1254)\ttotal: 4m 11s\tremaining: 9m 10s\n",
      "1255:\ttest: 0.7137844\tbest: 0.7137844 (1255)\ttotal: 4m 11s\tremaining: 9m 10s\n",
      "1256:\ttest: 0.7137776\tbest: 0.7137844 (1255)\ttotal: 4m 12s\tremaining: 9m 10s\n",
      "1257:\ttest: 0.7137803\tbest: 0.7137844 (1255)\ttotal: 4m 12s\tremaining: 9m 9s\n",
      "1258:\ttest: 0.7137793\tbest: 0.7137844 (1255)\ttotal: 4m 12s\tremaining: 9m 9s\n",
      "1259:\ttest: 0.7137856\tbest: 0.7137856 (1259)\ttotal: 4m 12s\tremaining: 9m 9s\n",
      "1260:\ttest: 0.7137844\tbest: 0.7137856 (1259)\ttotal: 4m 12s\tremaining: 9m 9s\n",
      "1261:\ttest: 0.7137830\tbest: 0.7137856 (1259)\ttotal: 4m 13s\tremaining: 9m 9s\n",
      "1262:\ttest: 0.7137820\tbest: 0.7137856 (1259)\ttotal: 4m 13s\tremaining: 9m 8s\n",
      "1263:\ttest: 0.7137842\tbest: 0.7137856 (1259)\ttotal: 4m 13s\tremaining: 9m 8s\n",
      "1264:\ttest: 0.7137836\tbest: 0.7137856 (1259)\ttotal: 4m 13s\tremaining: 9m 8s\n",
      "1265:\ttest: 0.7137852\tbest: 0.7137856 (1259)\ttotal: 4m 13s\tremaining: 9m 8s\n",
      "1266:\ttest: 0.7137882\tbest: 0.7137882 (1266)\ttotal: 4m 14s\tremaining: 9m 8s\n",
      "1267:\ttest: 0.7137989\tbest: 0.7137989 (1267)\ttotal: 4m 14s\tremaining: 9m 7s\n",
      "1268:\ttest: 0.7138008\tbest: 0.7138008 (1268)\ttotal: 4m 14s\tremaining: 9m 7s\n",
      "1269:\ttest: 0.7138030\tbest: 0.7138030 (1269)\ttotal: 4m 14s\tremaining: 9m 7s\n",
      "1270:\ttest: 0.7138013\tbest: 0.7138030 (1269)\ttotal: 4m 14s\tremaining: 9m 7s\n",
      "1271:\ttest: 0.7138095\tbest: 0.7138095 (1271)\ttotal: 4m 15s\tremaining: 9m 7s\n",
      "1272:\ttest: 0.7138077\tbest: 0.7138095 (1271)\ttotal: 4m 15s\tremaining: 9m 7s\n",
      "1273:\ttest: 0.7138163\tbest: 0.7138163 (1273)\ttotal: 4m 15s\tremaining: 9m 6s\n",
      "1274:\ttest: 0.7138209\tbest: 0.7138209 (1274)\ttotal: 4m 15s\tremaining: 9m 6s\n",
      "1275:\ttest: 0.7138211\tbest: 0.7138211 (1275)\ttotal: 4m 15s\tremaining: 9m 6s\n",
      "1276:\ttest: 0.7138221\tbest: 0.7138221 (1276)\ttotal: 4m 16s\tremaining: 9m 6s\n",
      "1277:\ttest: 0.7138248\tbest: 0.7138248 (1277)\ttotal: 4m 16s\tremaining: 9m 6s\n",
      "1278:\ttest: 0.7138269\tbest: 0.7138269 (1278)\ttotal: 4m 16s\tremaining: 9m 5s\n",
      "1279:\ttest: 0.7138287\tbest: 0.7138287 (1279)\ttotal: 4m 16s\tremaining: 9m 5s\n",
      "1280:\ttest: 0.7138261\tbest: 0.7138287 (1279)\ttotal: 4m 17s\tremaining: 9m 5s\n",
      "1281:\ttest: 0.7138286\tbest: 0.7138287 (1279)\ttotal: 4m 17s\tremaining: 9m 5s\n",
      "1282:\ttest: 0.7138268\tbest: 0.7138287 (1279)\ttotal: 4m 17s\tremaining: 9m 5s\n",
      "1283:\ttest: 0.7138271\tbest: 0.7138287 (1279)\ttotal: 4m 17s\tremaining: 9m 4s\n",
      "1284:\ttest: 0.7138324\tbest: 0.7138324 (1284)\ttotal: 4m 17s\tremaining: 9m 4s\n",
      "1285:\ttest: 0.7138365\tbest: 0.7138365 (1285)\ttotal: 4m 18s\tremaining: 9m 4s\n",
      "1286:\ttest: 0.7138359\tbest: 0.7138365 (1285)\ttotal: 4m 18s\tremaining: 9m 4s\n",
      "1287:\ttest: 0.7138342\tbest: 0.7138365 (1285)\ttotal: 4m 18s\tremaining: 9m 4s\n",
      "1288:\ttest: 0.7138367\tbest: 0.7138367 (1288)\ttotal: 4m 18s\tremaining: 9m 4s\n",
      "1289:\ttest: 0.7138453\tbest: 0.7138453 (1289)\ttotal: 4m 18s\tremaining: 9m 3s\n",
      "1290:\ttest: 0.7138437\tbest: 0.7138453 (1289)\ttotal: 4m 19s\tremaining: 9m 3s\n",
      "1291:\ttest: 0.7138485\tbest: 0.7138485 (1291)\ttotal: 4m 19s\tremaining: 9m 3s\n",
      "1292:\ttest: 0.7138544\tbest: 0.7138544 (1292)\ttotal: 4m 19s\tremaining: 9m 3s\n",
      "1293:\ttest: 0.7138559\tbest: 0.7138559 (1293)\ttotal: 4m 19s\tremaining: 9m 3s\n",
      "1294:\ttest: 0.7138601\tbest: 0.7138601 (1294)\ttotal: 4m 19s\tremaining: 9m 2s\n",
      "1295:\ttest: 0.7138608\tbest: 0.7138608 (1295)\ttotal: 4m 20s\tremaining: 9m 2s\n",
      "1296:\ttest: 0.7138583\tbest: 0.7138608 (1295)\ttotal: 4m 20s\tremaining: 9m 2s\n",
      "1297:\ttest: 0.7138533\tbest: 0.7138608 (1295)\ttotal: 4m 20s\tremaining: 9m 2s\n",
      "1298:\ttest: 0.7138528\tbest: 0.7138608 (1295)\ttotal: 4m 20s\tremaining: 9m 2s\n",
      "1299:\ttest: 0.7138618\tbest: 0.7138618 (1299)\ttotal: 4m 20s\tremaining: 9m 1s\n",
      "1300:\ttest: 0.7138628\tbest: 0.7138628 (1300)\ttotal: 4m 21s\tremaining: 9m 1s\n",
      "1301:\ttest: 0.7138654\tbest: 0.7138654 (1301)\ttotal: 4m 21s\tremaining: 9m 1s\n",
      "1302:\ttest: 0.7138630\tbest: 0.7138654 (1301)\ttotal: 4m 21s\tremaining: 9m 1s\n",
      "1303:\ttest: 0.7138608\tbest: 0.7138654 (1301)\ttotal: 4m 21s\tremaining: 9m 1s\n",
      "1304:\ttest: 0.7138639\tbest: 0.7138654 (1301)\ttotal: 4m 21s\tremaining: 9m\n",
      "1305:\ttest: 0.7138611\tbest: 0.7138654 (1301)\ttotal: 4m 22s\tremaining: 9m\n",
      "1306:\ttest: 0.7138659\tbest: 0.7138659 (1306)\ttotal: 4m 22s\tremaining: 9m\n",
      "1307:\ttest: 0.7138704\tbest: 0.7138704 (1307)\ttotal: 4m 22s\tremaining: 9m\n",
      "1308:\ttest: 0.7138722\tbest: 0.7138722 (1308)\ttotal: 4m 22s\tremaining: 9m\n",
      "1309:\ttest: 0.7138767\tbest: 0.7138767 (1309)\ttotal: 4m 22s\tremaining: 8m 59s\n"
     ]
    },
    {
     "name": "stdout",
     "output_type": "stream",
     "text": [
      "1310:\ttest: 0.7138797\tbest: 0.7138797 (1310)\ttotal: 4m 23s\tremaining: 8m 59s\n",
      "1311:\ttest: 0.7138806\tbest: 0.7138806 (1311)\ttotal: 4m 23s\tremaining: 8m 59s\n",
      "1312:\ttest: 0.7138790\tbest: 0.7138806 (1311)\ttotal: 4m 23s\tremaining: 8m 59s\n",
      "1313:\ttest: 0.7138766\tbest: 0.7138806 (1311)\ttotal: 4m 23s\tremaining: 8m 59s\n",
      "1314:\ttest: 0.7138829\tbest: 0.7138829 (1314)\ttotal: 4m 23s\tremaining: 8m 58s\n",
      "1315:\ttest: 0.7138881\tbest: 0.7138881 (1315)\ttotal: 4m 24s\tremaining: 8m 58s\n",
      "1316:\ttest: 0.7138892\tbest: 0.7138892 (1316)\ttotal: 4m 24s\tremaining: 8m 58s\n",
      "1317:\ttest: 0.7138915\tbest: 0.7138915 (1317)\ttotal: 4m 24s\tremaining: 8m 58s\n",
      "1318:\ttest: 0.7138981\tbest: 0.7138981 (1318)\ttotal: 4m 24s\tremaining: 8m 58s\n",
      "1319:\ttest: 0.7138983\tbest: 0.7138983 (1319)\ttotal: 4m 24s\tremaining: 8m 57s\n",
      "1320:\ttest: 0.7139032\tbest: 0.7139032 (1320)\ttotal: 4m 25s\tremaining: 8m 57s\n",
      "1321:\ttest: 0.7139005\tbest: 0.7139032 (1320)\ttotal: 4m 25s\tremaining: 8m 57s\n",
      "1322:\ttest: 0.7138984\tbest: 0.7139032 (1320)\ttotal: 4m 25s\tremaining: 8m 57s\n",
      "1323:\ttest: 0.7139050\tbest: 0.7139050 (1323)\ttotal: 4m 25s\tremaining: 8m 57s\n",
      "1324:\ttest: 0.7139102\tbest: 0.7139102 (1324)\ttotal: 4m 25s\tremaining: 8m 56s\n",
      "1325:\ttest: 0.7139149\tbest: 0.7139149 (1325)\ttotal: 4m 26s\tremaining: 8m 56s\n",
      "1326:\ttest: 0.7139121\tbest: 0.7139149 (1325)\ttotal: 4m 26s\tremaining: 8m 56s\n",
      "1327:\ttest: 0.7139121\tbest: 0.7139149 (1325)\ttotal: 4m 26s\tremaining: 8m 56s\n",
      "1328:\ttest: 0.7139113\tbest: 0.7139149 (1325)\ttotal: 4m 26s\tremaining: 8m 55s\n",
      "1329:\ttest: 0.7139127\tbest: 0.7139149 (1325)\ttotal: 4m 26s\tremaining: 8m 55s\n",
      "1330:\ttest: 0.7139176\tbest: 0.7139176 (1330)\ttotal: 4m 27s\tremaining: 8m 55s\n",
      "1331:\ttest: 0.7139168\tbest: 0.7139176 (1330)\ttotal: 4m 27s\tremaining: 8m 55s\n",
      "1332:\ttest: 0.7139148\tbest: 0.7139176 (1330)\ttotal: 4m 27s\tremaining: 8m 55s\n",
      "1333:\ttest: 0.7139141\tbest: 0.7139176 (1330)\ttotal: 4m 27s\tremaining: 8m 54s\n",
      "1334:\ttest: 0.7139129\tbest: 0.7139176 (1330)\ttotal: 4m 27s\tremaining: 8m 54s\n",
      "1335:\ttest: 0.7139104\tbest: 0.7139176 (1330)\ttotal: 4m 28s\tremaining: 8m 54s\n",
      "1336:\ttest: 0.7139133\tbest: 0.7139176 (1330)\ttotal: 4m 28s\tremaining: 8m 54s\n",
      "1337:\ttest: 0.7139160\tbest: 0.7139176 (1330)\ttotal: 4m 28s\tremaining: 8m 54s\n",
      "1338:\ttest: 0.7139158\tbest: 0.7139176 (1330)\ttotal: 4m 28s\tremaining: 8m 54s\n",
      "1339:\ttest: 0.7139212\tbest: 0.7139212 (1339)\ttotal: 4m 28s\tremaining: 8m 53s\n",
      "1340:\ttest: 0.7139213\tbest: 0.7139213 (1340)\ttotal: 4m 29s\tremaining: 8m 53s\n",
      "1341:\ttest: 0.7139231\tbest: 0.7139231 (1341)\ttotal: 4m 29s\tremaining: 8m 53s\n",
      "1342:\ttest: 0.7139263\tbest: 0.7139263 (1342)\ttotal: 4m 29s\tremaining: 8m 53s\n",
      "1343:\ttest: 0.7139262\tbest: 0.7139263 (1342)\ttotal: 4m 29s\tremaining: 8m 53s\n",
      "1344:\ttest: 0.7139244\tbest: 0.7139263 (1342)\ttotal: 4m 29s\tremaining: 8m 52s\n",
      "1345:\ttest: 0.7139257\tbest: 0.7139263 (1342)\ttotal: 4m 30s\tremaining: 8m 52s\n",
      "1346:\ttest: 0.7139280\tbest: 0.7139280 (1346)\ttotal: 4m 30s\tremaining: 8m 52s\n",
      "1347:\ttest: 0.7139337\tbest: 0.7139337 (1347)\ttotal: 4m 30s\tremaining: 8m 52s\n",
      "1348:\ttest: 0.7139332\tbest: 0.7139337 (1347)\ttotal: 4m 30s\tremaining: 8m 52s\n",
      "1349:\ttest: 0.7139389\tbest: 0.7139389 (1349)\ttotal: 4m 30s\tremaining: 8m 51s\n",
      "1350:\ttest: 0.7139388\tbest: 0.7139389 (1349)\ttotal: 4m 31s\tremaining: 8m 51s\n",
      "1351:\ttest: 0.7139448\tbest: 0.7139448 (1351)\ttotal: 4m 31s\tremaining: 8m 51s\n",
      "1352:\ttest: 0.7139474\tbest: 0.7139474 (1352)\ttotal: 4m 31s\tremaining: 8m 51s\n",
      "1353:\ttest: 0.7139464\tbest: 0.7139474 (1352)\ttotal: 4m 31s\tremaining: 8m 51s\n",
      "1354:\ttest: 0.7139440\tbest: 0.7139474 (1352)\ttotal: 4m 31s\tremaining: 8m 50s\n",
      "1355:\ttest: 0.7139480\tbest: 0.7139480 (1355)\ttotal: 4m 32s\tremaining: 8m 50s\n",
      "1356:\ttest: 0.7139501\tbest: 0.7139501 (1356)\ttotal: 4m 32s\tremaining: 8m 50s\n",
      "1357:\ttest: 0.7139491\tbest: 0.7139501 (1356)\ttotal: 4m 32s\tremaining: 8m 50s\n",
      "1358:\ttest: 0.7139523\tbest: 0.7139523 (1358)\ttotal: 4m 32s\tremaining: 8m 50s\n",
      "1359:\ttest: 0.7139510\tbest: 0.7139523 (1358)\ttotal: 4m 32s\tremaining: 8m 49s\n",
      "1360:\ttest: 0.7139450\tbest: 0.7139523 (1358)\ttotal: 4m 33s\tremaining: 8m 49s\n",
      "1361:\ttest: 0.7139478\tbest: 0.7139523 (1358)\ttotal: 4m 33s\tremaining: 8m 49s\n",
      "1362:\ttest: 0.7139531\tbest: 0.7139531 (1362)\ttotal: 4m 33s\tremaining: 8m 49s\n",
      "1363:\ttest: 0.7139516\tbest: 0.7139531 (1362)\ttotal: 4m 33s\tremaining: 8m 49s\n",
      "1364:\ttest: 0.7139546\tbest: 0.7139546 (1364)\ttotal: 4m 34s\tremaining: 8m 48s\n",
      "1365:\ttest: 0.7139574\tbest: 0.7139574 (1365)\ttotal: 4m 34s\tremaining: 8m 48s\n",
      "1366:\ttest: 0.7139553\tbest: 0.7139574 (1365)\ttotal: 4m 34s\tremaining: 8m 48s\n",
      "1367:\ttest: 0.7139523\tbest: 0.7139574 (1365)\ttotal: 4m 34s\tremaining: 8m 48s\n",
      "1368:\ttest: 0.7139624\tbest: 0.7139624 (1368)\ttotal: 4m 34s\tremaining: 8m 48s\n",
      "1369:\ttest: 0.7139622\tbest: 0.7139624 (1368)\ttotal: 4m 35s\tremaining: 8m 47s\n",
      "1370:\ttest: 0.7139661\tbest: 0.7139661 (1370)\ttotal: 4m 35s\tremaining: 8m 47s\n",
      "1371:\ttest: 0.7139635\tbest: 0.7139661 (1370)\ttotal: 4m 35s\tremaining: 8m 47s\n",
      "1372:\ttest: 0.7139680\tbest: 0.7139680 (1372)\ttotal: 4m 35s\tremaining: 8m 47s\n",
      "1373:\ttest: 0.7139681\tbest: 0.7139681 (1373)\ttotal: 4m 35s\tremaining: 8m 47s\n",
      "1374:\ttest: 0.7139676\tbest: 0.7139681 (1373)\ttotal: 4m 36s\tremaining: 8m 47s\n",
      "1375:\ttest: 0.7139690\tbest: 0.7139690 (1375)\ttotal: 4m 36s\tremaining: 8m 46s\n",
      "1376:\ttest: 0.7139719\tbest: 0.7139719 (1376)\ttotal: 4m 36s\tremaining: 8m 46s\n",
      "1377:\ttest: 0.7139719\tbest: 0.7139719 (1377)\ttotal: 4m 36s\tremaining: 8m 46s\n",
      "1378:\ttest: 0.7139727\tbest: 0.7139727 (1378)\ttotal: 4m 36s\tremaining: 8m 46s\n",
      "1379:\ttest: 0.7139761\tbest: 0.7139761 (1379)\ttotal: 4m 37s\tremaining: 8m 46s\n",
      "1380:\ttest: 0.7139760\tbest: 0.7139761 (1379)\ttotal: 4m 37s\tremaining: 8m 45s\n",
      "1381:\ttest: 0.7139793\tbest: 0.7139793 (1381)\ttotal: 4m 37s\tremaining: 8m 45s\n",
      "1382:\ttest: 0.7139833\tbest: 0.7139833 (1382)\ttotal: 4m 37s\tremaining: 8m 45s\n",
      "1383:\ttest: 0.7139899\tbest: 0.7139899 (1383)\ttotal: 4m 37s\tremaining: 8m 45s\n",
      "1384:\ttest: 0.7139924\tbest: 0.7139924 (1384)\ttotal: 4m 38s\tremaining: 8m 45s\n",
      "1385:\ttest: 0.7139922\tbest: 0.7139924 (1384)\ttotal: 4m 38s\tremaining: 8m 44s\n",
      "1386:\ttest: 0.7139917\tbest: 0.7139924 (1384)\ttotal: 4m 38s\tremaining: 8m 44s\n",
      "1387:\ttest: 0.7139837\tbest: 0.7139924 (1384)\ttotal: 4m 38s\tremaining: 8m 44s\n",
      "1388:\ttest: 0.7139921\tbest: 0.7139924 (1384)\ttotal: 4m 38s\tremaining: 8m 44s\n",
      "1389:\ttest: 0.7139984\tbest: 0.7139984 (1389)\ttotal: 4m 39s\tremaining: 8m 44s\n",
      "1390:\ttest: 0.7140013\tbest: 0.7140013 (1390)\ttotal: 4m 39s\tremaining: 8m 43s\n",
      "1391:\ttest: 0.7140044\tbest: 0.7140044 (1391)\ttotal: 4m 39s\tremaining: 8m 43s\n",
      "1392:\ttest: 0.7140006\tbest: 0.7140044 (1391)\ttotal: 4m 39s\tremaining: 8m 43s\n",
      "1393:\ttest: 0.7140027\tbest: 0.7140044 (1391)\ttotal: 4m 39s\tremaining: 8m 43s\n",
      "1394:\ttest: 0.7140013\tbest: 0.7140044 (1391)\ttotal: 4m 40s\tremaining: 8m 43s\n",
      "1395:\ttest: 0.7140020\tbest: 0.7140044 (1391)\ttotal: 4m 40s\tremaining: 8m 42s\n",
      "1396:\ttest: 0.7140059\tbest: 0.7140059 (1396)\ttotal: 4m 40s\tremaining: 8m 42s\n",
      "1397:\ttest: 0.7140129\tbest: 0.7140129 (1397)\ttotal: 4m 40s\tremaining: 8m 42s\n",
      "1398:\ttest: 0.7140099\tbest: 0.7140129 (1397)\ttotal: 4m 40s\tremaining: 8m 42s\n",
      "1399:\ttest: 0.7140184\tbest: 0.7140184 (1399)\ttotal: 4m 41s\tremaining: 8m 42s\n",
      "1400:\ttest: 0.7140181\tbest: 0.7140184 (1399)\ttotal: 4m 41s\tremaining: 8m 41s\n",
      "1401:\ttest: 0.7140234\tbest: 0.7140234 (1401)\ttotal: 4m 41s\tremaining: 8m 41s\n",
      "1402:\ttest: 0.7140239\tbest: 0.7140239 (1402)\ttotal: 4m 41s\tremaining: 8m 41s\n",
      "1403:\ttest: 0.7140270\tbest: 0.7140270 (1403)\ttotal: 4m 41s\tremaining: 8m 41s\n",
      "1404:\ttest: 0.7140238\tbest: 0.7140270 (1403)\ttotal: 4m 42s\tremaining: 8m 41s\n",
      "1405:\ttest: 0.7140220\tbest: 0.7140270 (1403)\ttotal: 4m 42s\tremaining: 8m 40s\n",
      "1406:\ttest: 0.7140242\tbest: 0.7140270 (1403)\ttotal: 4m 42s\tremaining: 8m 40s\n",
      "1407:\ttest: 0.7140242\tbest: 0.7140270 (1403)\ttotal: 4m 42s\tremaining: 8m 40s\n",
      "1408:\ttest: 0.7140249\tbest: 0.7140270 (1403)\ttotal: 4m 42s\tremaining: 8m 40s\n",
      "1409:\ttest: 0.7140295\tbest: 0.7140295 (1409)\ttotal: 4m 43s\tremaining: 8m 40s\n",
      "1410:\ttest: 0.7140299\tbest: 0.7140299 (1410)\ttotal: 4m 43s\tremaining: 8m 39s\n",
      "1411:\ttest: 0.7140309\tbest: 0.7140309 (1411)\ttotal: 4m 43s\tremaining: 8m 39s\n",
      "1412:\ttest: 0.7140290\tbest: 0.7140309 (1411)\ttotal: 4m 43s\tremaining: 8m 39s\n",
      "1413:\ttest: 0.7140259\tbest: 0.7140309 (1411)\ttotal: 4m 43s\tremaining: 8m 39s\n",
      "1414:\ttest: 0.7140250\tbest: 0.7140309 (1411)\ttotal: 4m 44s\tremaining: 8m 39s\n",
      "1415:\ttest: 0.7140337\tbest: 0.7140337 (1415)\ttotal: 4m 44s\tremaining: 8m 38s\n",
      "1416:\ttest: 0.7140360\tbest: 0.7140360 (1416)\ttotal: 4m 44s\tremaining: 8m 38s\n"
     ]
    },
    {
     "name": "stdout",
     "output_type": "stream",
     "text": [
      "1417:\ttest: 0.7140359\tbest: 0.7140360 (1416)\ttotal: 4m 44s\tremaining: 8m 38s\n",
      "1418:\ttest: 0.7140345\tbest: 0.7140360 (1416)\ttotal: 4m 44s\tremaining: 8m 38s\n",
      "1419:\ttest: 0.7140331\tbest: 0.7140360 (1416)\ttotal: 4m 45s\tremaining: 8m 38s\n",
      "1420:\ttest: 0.7140399\tbest: 0.7140399 (1420)\ttotal: 4m 45s\tremaining: 8m 37s\n",
      "1421:\ttest: 0.7140385\tbest: 0.7140399 (1420)\ttotal: 4m 45s\tremaining: 8m 37s\n",
      "1422:\ttest: 0.7140383\tbest: 0.7140399 (1420)\ttotal: 4m 45s\tremaining: 8m 37s\n",
      "1423:\ttest: 0.7140431\tbest: 0.7140431 (1423)\ttotal: 4m 45s\tremaining: 8m 37s\n",
      "1424:\ttest: 0.7140504\tbest: 0.7140504 (1424)\ttotal: 4m 46s\tremaining: 8m 37s\n",
      "1425:\ttest: 0.7140543\tbest: 0.7140543 (1425)\ttotal: 4m 46s\tremaining: 8m 36s\n",
      "1426:\ttest: 0.7140605\tbest: 0.7140605 (1426)\ttotal: 4m 46s\tremaining: 8m 36s\n",
      "1427:\ttest: 0.7140609\tbest: 0.7140609 (1427)\ttotal: 4m 46s\tremaining: 8m 36s\n",
      "1428:\ttest: 0.7140636\tbest: 0.7140636 (1428)\ttotal: 4m 46s\tremaining: 8m 36s\n",
      "1429:\ttest: 0.7140680\tbest: 0.7140680 (1429)\ttotal: 4m 47s\tremaining: 8m 36s\n",
      "1430:\ttest: 0.7140680\tbest: 0.7140680 (1430)\ttotal: 4m 47s\tremaining: 8m 35s\n",
      "1431:\ttest: 0.7140700\tbest: 0.7140700 (1431)\ttotal: 4m 47s\tremaining: 8m 35s\n",
      "1432:\ttest: 0.7140663\tbest: 0.7140700 (1431)\ttotal: 4m 47s\tremaining: 8m 35s\n",
      "1433:\ttest: 0.7140712\tbest: 0.7140712 (1433)\ttotal: 4m 47s\tremaining: 8m 35s\n",
      "1434:\ttest: 0.7140766\tbest: 0.7140766 (1434)\ttotal: 4m 48s\tremaining: 8m 35s\n",
      "1435:\ttest: 0.7140789\tbest: 0.7140789 (1435)\ttotal: 4m 48s\tremaining: 8m 34s\n",
      "1436:\ttest: 0.7140805\tbest: 0.7140805 (1436)\ttotal: 4m 48s\tremaining: 8m 34s\n",
      "1437:\ttest: 0.7140846\tbest: 0.7140846 (1437)\ttotal: 4m 48s\tremaining: 8m 34s\n",
      "1438:\ttest: 0.7140868\tbest: 0.7140868 (1438)\ttotal: 4m 49s\tremaining: 8m 34s\n",
      "1439:\ttest: 0.7140863\tbest: 0.7140868 (1438)\ttotal: 4m 49s\tremaining: 8m 34s\n",
      "1440:\ttest: 0.7140892\tbest: 0.7140892 (1440)\ttotal: 4m 49s\tremaining: 8m 33s\n",
      "1441:\ttest: 0.7140930\tbest: 0.7140930 (1441)\ttotal: 4m 49s\tremaining: 8m 33s\n",
      "1442:\ttest: 0.7140959\tbest: 0.7140959 (1442)\ttotal: 4m 49s\tremaining: 8m 33s\n",
      "1443:\ttest: 0.7141059\tbest: 0.7141059 (1443)\ttotal: 4m 50s\tremaining: 8m 33s\n",
      "1444:\ttest: 0.7141091\tbest: 0.7141091 (1444)\ttotal: 4m 50s\tremaining: 8m 33s\n",
      "1445:\ttest: 0.7141106\tbest: 0.7141106 (1445)\ttotal: 4m 50s\tremaining: 8m 32s\n",
      "1446:\ttest: 0.7141143\tbest: 0.7141143 (1446)\ttotal: 4m 50s\tremaining: 8m 32s\n",
      "1447:\ttest: 0.7141160\tbest: 0.7141160 (1447)\ttotal: 4m 50s\tremaining: 8m 32s\n",
      "1448:\ttest: 0.7141206\tbest: 0.7141206 (1448)\ttotal: 4m 51s\tremaining: 8m 32s\n",
      "1449:\ttest: 0.7141201\tbest: 0.7141206 (1448)\ttotal: 4m 51s\tremaining: 8m 32s\n",
      "1450:\ttest: 0.7141216\tbest: 0.7141216 (1450)\ttotal: 4m 51s\tremaining: 8m 31s\n",
      "1451:\ttest: 0.7141242\tbest: 0.7141242 (1451)\ttotal: 4m 51s\tremaining: 8m 31s\n",
      "1452:\ttest: 0.7141233\tbest: 0.7141242 (1451)\ttotal: 4m 51s\tremaining: 8m 31s\n",
      "1453:\ttest: 0.7141227\tbest: 0.7141242 (1451)\ttotal: 4m 52s\tremaining: 8m 31s\n",
      "1454:\ttest: 0.7141220\tbest: 0.7141242 (1451)\ttotal: 4m 52s\tremaining: 8m 31s\n",
      "1455:\ttest: 0.7141199\tbest: 0.7141242 (1451)\ttotal: 4m 52s\tremaining: 8m 31s\n",
      "1456:\ttest: 0.7141256\tbest: 0.7141256 (1456)\ttotal: 4m 52s\tremaining: 8m 30s\n",
      "1457:\ttest: 0.7141281\tbest: 0.7141281 (1457)\ttotal: 4m 52s\tremaining: 8m 30s\n",
      "1458:\ttest: 0.7141352\tbest: 0.7141352 (1458)\ttotal: 4m 53s\tremaining: 8m 30s\n",
      "1459:\ttest: 0.7141349\tbest: 0.7141352 (1458)\ttotal: 4m 53s\tremaining: 8m 30s\n",
      "1460:\ttest: 0.7141376\tbest: 0.7141376 (1460)\ttotal: 4m 53s\tremaining: 8m 30s\n",
      "1461:\ttest: 0.7141379\tbest: 0.7141379 (1461)\ttotal: 4m 53s\tremaining: 8m 30s\n",
      "1462:\ttest: 0.7141397\tbest: 0.7141397 (1462)\ttotal: 4m 54s\tremaining: 8m 29s\n",
      "1463:\ttest: 0.7141394\tbest: 0.7141397 (1462)\ttotal: 4m 54s\tremaining: 8m 29s\n",
      "1464:\ttest: 0.7141353\tbest: 0.7141397 (1462)\ttotal: 4m 54s\tremaining: 8m 29s\n",
      "1465:\ttest: 0.7141386\tbest: 0.7141397 (1462)\ttotal: 4m 54s\tremaining: 8m 29s\n",
      "1466:\ttest: 0.7141386\tbest: 0.7141397 (1462)\ttotal: 4m 54s\tremaining: 8m 29s\n",
      "1467:\ttest: 0.7141401\tbest: 0.7141401 (1467)\ttotal: 4m 55s\tremaining: 8m 29s\n",
      "1468:\ttest: 0.7141408\tbest: 0.7141408 (1468)\ttotal: 4m 55s\tremaining: 8m 28s\n",
      "1469:\ttest: 0.7141404\tbest: 0.7141408 (1468)\ttotal: 4m 55s\tremaining: 8m 28s\n",
      "1470:\ttest: 0.7141440\tbest: 0.7141440 (1470)\ttotal: 4m 55s\tremaining: 8m 28s\n",
      "1471:\ttest: 0.7141489\tbest: 0.7141489 (1471)\ttotal: 4m 55s\tremaining: 8m 28s\n",
      "1472:\ttest: 0.7141545\tbest: 0.7141545 (1472)\ttotal: 4m 56s\tremaining: 8m 28s\n",
      "1473:\ttest: 0.7141553\tbest: 0.7141553 (1473)\ttotal: 4m 56s\tremaining: 8m 27s\n",
      "1474:\ttest: 0.7141567\tbest: 0.7141567 (1474)\ttotal: 4m 56s\tremaining: 8m 27s\n",
      "1475:\ttest: 0.7141561\tbest: 0.7141567 (1474)\ttotal: 4m 56s\tremaining: 8m 27s\n",
      "1476:\ttest: 0.7141583\tbest: 0.7141583 (1476)\ttotal: 4m 56s\tremaining: 8m 27s\n",
      "1477:\ttest: 0.7141654\tbest: 0.7141654 (1477)\ttotal: 4m 57s\tremaining: 8m 27s\n",
      "1478:\ttest: 0.7141705\tbest: 0.7141705 (1478)\ttotal: 4m 57s\tremaining: 8m 26s\n",
      "1479:\ttest: 0.7141665\tbest: 0.7141705 (1478)\ttotal: 4m 57s\tremaining: 8m 26s\n",
      "1480:\ttest: 0.7141681\tbest: 0.7141705 (1478)\ttotal: 4m 57s\tremaining: 8m 26s\n",
      "1481:\ttest: 0.7141706\tbest: 0.7141706 (1481)\ttotal: 4m 58s\tremaining: 8m 26s\n",
      "1482:\ttest: 0.7141707\tbest: 0.7141707 (1482)\ttotal: 4m 58s\tremaining: 8m 26s\n",
      "1483:\ttest: 0.7141703\tbest: 0.7141707 (1482)\ttotal: 4m 58s\tremaining: 8m 25s\n",
      "1484:\ttest: 0.7141697\tbest: 0.7141707 (1482)\ttotal: 4m 58s\tremaining: 8m 25s\n",
      "1485:\ttest: 0.7141698\tbest: 0.7141707 (1482)\ttotal: 4m 58s\tremaining: 8m 25s\n",
      "1486:\ttest: 0.7141698\tbest: 0.7141707 (1482)\ttotal: 4m 59s\tremaining: 8m 25s\n",
      "1487:\ttest: 0.7141693\tbest: 0.7141707 (1482)\ttotal: 4m 59s\tremaining: 8m 25s\n",
      "1488:\ttest: 0.7141802\tbest: 0.7141802 (1488)\ttotal: 4m 59s\tremaining: 8m 25s\n",
      "1489:\ttest: 0.7141834\tbest: 0.7141834 (1489)\ttotal: 4m 59s\tremaining: 8m 24s\n",
      "1490:\ttest: 0.7141821\tbest: 0.7141834 (1489)\ttotal: 4m 59s\tremaining: 8m 24s\n",
      "1491:\ttest: 0.7141847\tbest: 0.7141847 (1491)\ttotal: 5m\tremaining: 8m 24s\n",
      "1492:\ttest: 0.7141842\tbest: 0.7141847 (1491)\ttotal: 5m\tremaining: 8m 24s\n",
      "1493:\ttest: 0.7141864\tbest: 0.7141864 (1493)\ttotal: 5m\tremaining: 8m 24s\n",
      "1494:\ttest: 0.7141859\tbest: 0.7141864 (1493)\ttotal: 5m\tremaining: 8m 23s\n",
      "1495:\ttest: 0.7141883\tbest: 0.7141883 (1495)\ttotal: 5m\tremaining: 8m 23s\n",
      "1496:\ttest: 0.7141915\tbest: 0.7141915 (1496)\ttotal: 5m 1s\tremaining: 8m 23s\n",
      "1497:\ttest: 0.7142002\tbest: 0.7142002 (1497)\ttotal: 5m 1s\tremaining: 8m 23s\n",
      "1498:\ttest: 0.7142064\tbest: 0.7142064 (1498)\ttotal: 5m 1s\tremaining: 8m 23s\n",
      "1499:\ttest: 0.7142091\tbest: 0.7142091 (1499)\ttotal: 5m 1s\tremaining: 8m 22s\n",
      "1500:\ttest: 0.7142103\tbest: 0.7142103 (1500)\ttotal: 5m 1s\tremaining: 8m 22s\n",
      "1501:\ttest: 0.7142151\tbest: 0.7142151 (1501)\ttotal: 5m 2s\tremaining: 8m 22s\n",
      "1502:\ttest: 0.7142169\tbest: 0.7142169 (1502)\ttotal: 5m 2s\tremaining: 8m 22s\n",
      "1503:\ttest: 0.7142190\tbest: 0.7142190 (1503)\ttotal: 5m 2s\tremaining: 8m 22s\n",
      "1504:\ttest: 0.7142170\tbest: 0.7142190 (1503)\ttotal: 5m 2s\tremaining: 8m 21s\n",
      "1505:\ttest: 0.7142177\tbest: 0.7142190 (1503)\ttotal: 5m 2s\tremaining: 8m 21s\n",
      "1506:\ttest: 0.7142196\tbest: 0.7142196 (1506)\ttotal: 5m 3s\tremaining: 8m 21s\n",
      "1507:\ttest: 0.7142204\tbest: 0.7142204 (1507)\ttotal: 5m 3s\tremaining: 8m 21s\n",
      "1508:\ttest: 0.7142247\tbest: 0.7142247 (1508)\ttotal: 5m 3s\tremaining: 8m 21s\n",
      "1509:\ttest: 0.7142267\tbest: 0.7142267 (1509)\ttotal: 5m 3s\tremaining: 8m 20s\n",
      "1510:\ttest: 0.7142280\tbest: 0.7142280 (1510)\ttotal: 5m 3s\tremaining: 8m 20s\n",
      "1511:\ttest: 0.7142253\tbest: 0.7142280 (1510)\ttotal: 5m 4s\tremaining: 8m 20s\n",
      "1512:\ttest: 0.7142249\tbest: 0.7142280 (1510)\ttotal: 5m 4s\tremaining: 8m 20s\n",
      "1513:\ttest: 0.7142309\tbest: 0.7142309 (1513)\ttotal: 5m 4s\tremaining: 8m 20s\n",
      "1514:\ttest: 0.7142283\tbest: 0.7142309 (1513)\ttotal: 5m 4s\tremaining: 8m 19s\n",
      "1515:\ttest: 0.7142370\tbest: 0.7142370 (1515)\ttotal: 5m 4s\tremaining: 8m 19s\n",
      "1516:\ttest: 0.7142370\tbest: 0.7142370 (1515)\ttotal: 5m 5s\tremaining: 8m 19s\n",
      "1517:\ttest: 0.7142380\tbest: 0.7142380 (1517)\ttotal: 5m 5s\tremaining: 8m 19s\n",
      "1518:\ttest: 0.7142456\tbest: 0.7142456 (1518)\ttotal: 5m 5s\tremaining: 8m 19s\n",
      "1519:\ttest: 0.7142481\tbest: 0.7142481 (1519)\ttotal: 5m 5s\tremaining: 8m 18s\n",
      "1520:\ttest: 0.7142501\tbest: 0.7142501 (1520)\ttotal: 5m 5s\tremaining: 8m 18s\n",
      "1521:\ttest: 0.7142522\tbest: 0.7142522 (1521)\ttotal: 5m 6s\tremaining: 8m 18s\n",
      "1522:\ttest: 0.7142552\tbest: 0.7142552 (1522)\ttotal: 5m 6s\tremaining: 8m 18s\n",
      "1523:\ttest: 0.7142562\tbest: 0.7142562 (1523)\ttotal: 5m 6s\tremaining: 8m 18s\n",
      "1524:\ttest: 0.7142583\tbest: 0.7142583 (1524)\ttotal: 5m 6s\tremaining: 8m 17s\n"
     ]
    },
    {
     "name": "stdout",
     "output_type": "stream",
     "text": [
      "1525:\ttest: 0.7142564\tbest: 0.7142583 (1524)\ttotal: 5m 6s\tremaining: 8m 17s\n",
      "1526:\ttest: 0.7142608\tbest: 0.7142608 (1526)\ttotal: 5m 7s\tremaining: 8m 17s\n",
      "1527:\ttest: 0.7142597\tbest: 0.7142608 (1526)\ttotal: 5m 7s\tremaining: 8m 17s\n",
      "1528:\ttest: 0.7142627\tbest: 0.7142627 (1528)\ttotal: 5m 7s\tremaining: 8m 17s\n",
      "1529:\ttest: 0.7142650\tbest: 0.7142650 (1529)\ttotal: 5m 7s\tremaining: 8m 16s\n",
      "1530:\ttest: 0.7142703\tbest: 0.7142703 (1530)\ttotal: 5m 8s\tremaining: 8m 16s\n",
      "1531:\ttest: 0.7142686\tbest: 0.7142703 (1530)\ttotal: 5m 8s\tremaining: 8m 16s\n",
      "1532:\ttest: 0.7142691\tbest: 0.7142703 (1530)\ttotal: 5m 8s\tremaining: 8m 16s\n",
      "1533:\ttest: 0.7142676\tbest: 0.7142703 (1530)\ttotal: 5m 8s\tremaining: 8m 16s\n",
      "1534:\ttest: 0.7142675\tbest: 0.7142703 (1530)\ttotal: 5m 8s\tremaining: 8m 15s\n",
      "1535:\ttest: 0.7142615\tbest: 0.7142703 (1530)\ttotal: 5m 8s\tremaining: 8m 15s\n",
      "1536:\ttest: 0.7142604\tbest: 0.7142703 (1530)\ttotal: 5m 9s\tremaining: 8m 15s\n",
      "1537:\ttest: 0.7142642\tbest: 0.7142703 (1530)\ttotal: 5m 9s\tremaining: 8m 15s\n",
      "1538:\ttest: 0.7142599\tbest: 0.7142703 (1530)\ttotal: 5m 9s\tremaining: 8m 15s\n",
      "1539:\ttest: 0.7142619\tbest: 0.7142703 (1530)\ttotal: 5m 9s\tremaining: 8m 14s\n",
      "1540:\ttest: 0.7142634\tbest: 0.7142703 (1530)\ttotal: 5m 10s\tremaining: 8m 14s\n",
      "1541:\ttest: 0.7142631\tbest: 0.7142703 (1530)\ttotal: 5m 10s\tremaining: 8m 14s\n",
      "1542:\ttest: 0.7142620\tbest: 0.7142703 (1530)\ttotal: 5m 10s\tremaining: 8m 14s\n",
      "1543:\ttest: 0.7142658\tbest: 0.7142703 (1530)\ttotal: 5m 10s\tremaining: 8m 14s\n",
      "1544:\ttest: 0.7142637\tbest: 0.7142703 (1530)\ttotal: 5m 10s\tremaining: 8m 13s\n",
      "1545:\ttest: 0.7142674\tbest: 0.7142703 (1530)\ttotal: 5m 11s\tremaining: 8m 13s\n",
      "1546:\ttest: 0.7142696\tbest: 0.7142703 (1530)\ttotal: 5m 11s\tremaining: 8m 13s\n",
      "1547:\ttest: 0.7142710\tbest: 0.7142710 (1547)\ttotal: 5m 11s\tremaining: 8m 13s\n",
      "1548:\ttest: 0.7142720\tbest: 0.7142720 (1548)\ttotal: 5m 11s\tremaining: 8m 13s\n",
      "1549:\ttest: 0.7142704\tbest: 0.7142720 (1548)\ttotal: 5m 11s\tremaining: 8m 12s\n",
      "1550:\ttest: 0.7142758\tbest: 0.7142758 (1550)\ttotal: 5m 12s\tremaining: 8m 12s\n",
      "1551:\ttest: 0.7142721\tbest: 0.7142758 (1550)\ttotal: 5m 12s\tremaining: 8m 12s\n",
      "1552:\ttest: 0.7142675\tbest: 0.7142758 (1550)\ttotal: 5m 12s\tremaining: 8m 12s\n",
      "1553:\ttest: 0.7142695\tbest: 0.7142758 (1550)\ttotal: 5m 12s\tremaining: 8m 12s\n",
      "1554:\ttest: 0.7142677\tbest: 0.7142758 (1550)\ttotal: 5m 12s\tremaining: 8m 11s\n",
      "1555:\ttest: 0.7142709\tbest: 0.7142758 (1550)\ttotal: 5m 13s\tremaining: 8m 11s\n",
      "1556:\ttest: 0.7142667\tbest: 0.7142758 (1550)\ttotal: 5m 13s\tremaining: 8m 11s\n",
      "1557:\ttest: 0.7142664\tbest: 0.7142758 (1550)\ttotal: 5m 13s\tremaining: 8m 11s\n",
      "1558:\ttest: 0.7142639\tbest: 0.7142758 (1550)\ttotal: 5m 13s\tremaining: 8m 11s\n",
      "1559:\ttest: 0.7142664\tbest: 0.7142758 (1550)\ttotal: 5m 13s\tremaining: 8m 10s\n",
      "1560:\ttest: 0.7142761\tbest: 0.7142761 (1560)\ttotal: 5m 14s\tremaining: 8m 10s\n",
      "1561:\ttest: 0.7142827\tbest: 0.7142827 (1561)\ttotal: 5m 14s\tremaining: 8m 10s\n",
      "1562:\ttest: 0.7142871\tbest: 0.7142871 (1562)\ttotal: 5m 14s\tremaining: 8m 10s\n",
      "1563:\ttest: 0.7142909\tbest: 0.7142909 (1563)\ttotal: 5m 14s\tremaining: 8m 10s\n",
      "1564:\ttest: 0.7142910\tbest: 0.7142910 (1564)\ttotal: 5m 14s\tremaining: 8m 10s\n",
      "1565:\ttest: 0.7142914\tbest: 0.7142914 (1565)\ttotal: 5m 15s\tremaining: 8m 9s\n",
      "1566:\ttest: 0.7142913\tbest: 0.7142914 (1565)\ttotal: 5m 15s\tremaining: 8m 9s\n",
      "1567:\ttest: 0.7142988\tbest: 0.7142988 (1567)\ttotal: 5m 15s\tremaining: 8m 9s\n",
      "1568:\ttest: 0.7142992\tbest: 0.7142992 (1568)\ttotal: 5m 15s\tremaining: 8m 9s\n",
      "1569:\ttest: 0.7143009\tbest: 0.7143009 (1569)\ttotal: 5m 15s\tremaining: 8m 9s\n",
      "1570:\ttest: 0.7143005\tbest: 0.7143009 (1569)\ttotal: 5m 16s\tremaining: 8m 8s\n",
      "1571:\ttest: 0.7143041\tbest: 0.7143041 (1571)\ttotal: 5m 16s\tremaining: 8m 8s\n",
      "1572:\ttest: 0.7143043\tbest: 0.7143043 (1572)\ttotal: 5m 16s\tremaining: 8m 8s\n",
      "1573:\ttest: 0.7143064\tbest: 0.7143064 (1573)\ttotal: 5m 16s\tremaining: 8m 8s\n",
      "1574:\ttest: 0.7143068\tbest: 0.7143068 (1574)\ttotal: 5m 17s\tremaining: 8m 8s\n",
      "1575:\ttest: 0.7143089\tbest: 0.7143089 (1575)\ttotal: 5m 17s\tremaining: 8m 7s\n",
      "1576:\ttest: 0.7143059\tbest: 0.7143089 (1575)\ttotal: 5m 17s\tremaining: 8m 7s\n",
      "1577:\ttest: 0.7143093\tbest: 0.7143093 (1577)\ttotal: 5m 17s\tremaining: 8m 7s\n",
      "1578:\ttest: 0.7143114\tbest: 0.7143114 (1578)\ttotal: 5m 17s\tremaining: 8m 7s\n",
      "1579:\ttest: 0.7143111\tbest: 0.7143114 (1578)\ttotal: 5m 18s\tremaining: 8m 7s\n",
      "1580:\ttest: 0.7143058\tbest: 0.7143114 (1578)\ttotal: 5m 18s\tremaining: 8m 7s\n",
      "1581:\ttest: 0.7143063\tbest: 0.7143114 (1578)\ttotal: 5m 18s\tremaining: 8m 6s\n",
      "1582:\ttest: 0.7143092\tbest: 0.7143114 (1578)\ttotal: 5m 18s\tremaining: 8m 6s\n",
      "1583:\ttest: 0.7143092\tbest: 0.7143114 (1578)\ttotal: 5m 18s\tremaining: 8m 6s\n",
      "1584:\ttest: 0.7143100\tbest: 0.7143114 (1578)\ttotal: 5m 19s\tremaining: 8m 6s\n",
      "1585:\ttest: 0.7143105\tbest: 0.7143114 (1578)\ttotal: 5m 19s\tremaining: 8m 6s\n",
      "1586:\ttest: 0.7143105\tbest: 0.7143114 (1578)\ttotal: 5m 19s\tremaining: 8m 5s\n",
      "1587:\ttest: 0.7143114\tbest: 0.7143114 (1587)\ttotal: 5m 19s\tremaining: 8m 5s\n",
      "1588:\ttest: 0.7143121\tbest: 0.7143121 (1588)\ttotal: 5m 19s\tremaining: 8m 5s\n",
      "1589:\ttest: 0.7143135\tbest: 0.7143135 (1589)\ttotal: 5m 20s\tremaining: 8m 5s\n",
      "1590:\ttest: 0.7143143\tbest: 0.7143143 (1590)\ttotal: 5m 20s\tremaining: 8m 5s\n",
      "1591:\ttest: 0.7143095\tbest: 0.7143143 (1590)\ttotal: 5m 20s\tremaining: 8m 4s\n",
      "1592:\ttest: 0.7143117\tbest: 0.7143143 (1590)\ttotal: 5m 20s\tremaining: 8m 4s\n",
      "1593:\ttest: 0.7143093\tbest: 0.7143143 (1590)\ttotal: 5m 21s\tremaining: 8m 4s\n",
      "1594:\ttest: 0.7143099\tbest: 0.7143143 (1590)\ttotal: 5m 21s\tremaining: 8m 4s\n",
      "1595:\ttest: 0.7143120\tbest: 0.7143143 (1590)\ttotal: 5m 21s\tremaining: 8m 4s\n",
      "1596:\ttest: 0.7143119\tbest: 0.7143143 (1590)\ttotal: 5m 21s\tremaining: 8m 3s\n",
      "1597:\ttest: 0.7143105\tbest: 0.7143143 (1590)\ttotal: 5m 21s\tremaining: 8m 3s\n",
      "1598:\ttest: 0.7143080\tbest: 0.7143143 (1590)\ttotal: 5m 22s\tremaining: 8m 3s\n",
      "1599:\ttest: 0.7143101\tbest: 0.7143143 (1590)\ttotal: 5m 22s\tremaining: 8m 3s\n",
      "1600:\ttest: 0.7143123\tbest: 0.7143143 (1590)\ttotal: 5m 22s\tremaining: 8m 3s\n",
      "1601:\ttest: 0.7143126\tbest: 0.7143143 (1590)\ttotal: 5m 22s\tremaining: 8m 3s\n",
      "1602:\ttest: 0.7143103\tbest: 0.7143143 (1590)\ttotal: 5m 22s\tremaining: 8m 2s\n",
      "1603:\ttest: 0.7143073\tbest: 0.7143143 (1590)\ttotal: 5m 23s\tremaining: 8m 2s\n",
      "1604:\ttest: 0.7143052\tbest: 0.7143143 (1590)\ttotal: 5m 23s\tremaining: 8m 2s\n",
      "1605:\ttest: 0.7143035\tbest: 0.7143143 (1590)\ttotal: 5m 23s\tremaining: 8m 2s\n",
      "1606:\ttest: 0.7143059\tbest: 0.7143143 (1590)\ttotal: 5m 23s\tremaining: 8m 2s\n",
      "1607:\ttest: 0.7143005\tbest: 0.7143143 (1590)\ttotal: 5m 24s\tremaining: 8m 1s\n",
      "1608:\ttest: 0.7143058\tbest: 0.7143143 (1590)\ttotal: 5m 24s\tremaining: 8m 1s\n",
      "1609:\ttest: 0.7143048\tbest: 0.7143143 (1590)\ttotal: 5m 24s\tremaining: 8m 1s\n",
      "1610:\ttest: 0.7143084\tbest: 0.7143143 (1590)\ttotal: 5m 24s\tremaining: 8m 1s\n",
      "1611:\ttest: 0.7143076\tbest: 0.7143143 (1590)\ttotal: 5m 24s\tremaining: 8m 1s\n",
      "1612:\ttest: 0.7143097\tbest: 0.7143143 (1590)\ttotal: 5m 25s\tremaining: 8m 1s\n",
      "1613:\ttest: 0.7143082\tbest: 0.7143143 (1590)\ttotal: 5m 25s\tremaining: 8m\n",
      "1614:\ttest: 0.7143024\tbest: 0.7143143 (1590)\ttotal: 5m 25s\tremaining: 8m\n",
      "1615:\ttest: 0.7142985\tbest: 0.7143143 (1590)\ttotal: 5m 25s\tremaining: 8m\n",
      "1616:\ttest: 0.7142998\tbest: 0.7143143 (1590)\ttotal: 5m 25s\tremaining: 8m\n",
      "1617:\ttest: 0.7143021\tbest: 0.7143143 (1590)\ttotal: 5m 26s\tremaining: 8m\n",
      "1618:\ttest: 0.7143054\tbest: 0.7143143 (1590)\ttotal: 5m 26s\tremaining: 7m 59s\n",
      "1619:\ttest: 0.7143074\tbest: 0.7143143 (1590)\ttotal: 5m 26s\tremaining: 7m 59s\n",
      "1620:\ttest: 0.7143098\tbest: 0.7143143 (1590)\ttotal: 5m 26s\tremaining: 7m 59s\n",
      "1621:\ttest: 0.7143166\tbest: 0.7143166 (1621)\ttotal: 5m 26s\tremaining: 7m 59s\n",
      "1622:\ttest: 0.7143091\tbest: 0.7143166 (1621)\ttotal: 5m 27s\tremaining: 7m 59s\n",
      "1623:\ttest: 0.7143056\tbest: 0.7143166 (1621)\ttotal: 5m 27s\tremaining: 7m 58s\n",
      "1624:\ttest: 0.7143100\tbest: 0.7143166 (1621)\ttotal: 5m 27s\tremaining: 7m 58s\n",
      "1625:\ttest: 0.7143136\tbest: 0.7143166 (1621)\ttotal: 5m 27s\tremaining: 7m 58s\n",
      "1626:\ttest: 0.7143180\tbest: 0.7143180 (1626)\ttotal: 5m 27s\tremaining: 7m 58s\n",
      "1627:\ttest: 0.7143205\tbest: 0.7143205 (1627)\ttotal: 5m 28s\tremaining: 7m 58s\n",
      "1628:\ttest: 0.7143207\tbest: 0.7143207 (1628)\ttotal: 5m 28s\tremaining: 7m 57s\n",
      "1629:\ttest: 0.7143230\tbest: 0.7143230 (1629)\ttotal: 5m 28s\tremaining: 7m 57s\n",
      "1630:\ttest: 0.7143219\tbest: 0.7143230 (1629)\ttotal: 5m 28s\tremaining: 7m 57s\n",
      "1631:\ttest: 0.7143226\tbest: 0.7143230 (1629)\ttotal: 5m 28s\tremaining: 7m 57s\n",
      "1632:\ttest: 0.7143223\tbest: 0.7143230 (1629)\ttotal: 5m 29s\tremaining: 7m 57s\n"
     ]
    },
    {
     "name": "stdout",
     "output_type": "stream",
     "text": [
      "1633:\ttest: 0.7143235\tbest: 0.7143235 (1633)\ttotal: 5m 29s\tremaining: 7m 56s\n",
      "1634:\ttest: 0.7143224\tbest: 0.7143235 (1633)\ttotal: 5m 29s\tremaining: 7m 56s\n",
      "1635:\ttest: 0.7143233\tbest: 0.7143235 (1633)\ttotal: 5m 29s\tremaining: 7m 56s\n",
      "1636:\ttest: 0.7143205\tbest: 0.7143235 (1633)\ttotal: 5m 29s\tremaining: 7m 56s\n",
      "1637:\ttest: 0.7143202\tbest: 0.7143235 (1633)\ttotal: 5m 30s\tremaining: 7m 56s\n",
      "1638:\ttest: 0.7143189\tbest: 0.7143235 (1633)\ttotal: 5m 30s\tremaining: 7m 55s\n",
      "1639:\ttest: 0.7143182\tbest: 0.7143235 (1633)\ttotal: 5m 30s\tremaining: 7m 55s\n",
      "1640:\ttest: 0.7143183\tbest: 0.7143235 (1633)\ttotal: 5m 30s\tremaining: 7m 55s\n",
      "1641:\ttest: 0.7143239\tbest: 0.7143239 (1641)\ttotal: 5m 31s\tremaining: 7m 55s\n",
      "1642:\ttest: 0.7143201\tbest: 0.7143239 (1641)\ttotal: 5m 31s\tremaining: 7m 55s\n",
      "1643:\ttest: 0.7143249\tbest: 0.7143249 (1643)\ttotal: 5m 31s\tremaining: 7m 54s\n",
      "1644:\ttest: 0.7143294\tbest: 0.7143294 (1644)\ttotal: 5m 31s\tremaining: 7m 54s\n",
      "1645:\ttest: 0.7143319\tbest: 0.7143319 (1645)\ttotal: 5m 31s\tremaining: 7m 54s\n",
      "1646:\ttest: 0.7143338\tbest: 0.7143338 (1646)\ttotal: 5m 32s\tremaining: 7m 54s\n",
      "1647:\ttest: 0.7143297\tbest: 0.7143338 (1646)\ttotal: 5m 32s\tremaining: 7m 54s\n",
      "1648:\ttest: 0.7143294\tbest: 0.7143338 (1646)\ttotal: 5m 32s\tremaining: 7m 54s\n",
      "1649:\ttest: 0.7143320\tbest: 0.7143338 (1646)\ttotal: 5m 32s\tremaining: 7m 53s\n",
      "1650:\ttest: 0.7143353\tbest: 0.7143353 (1650)\ttotal: 5m 32s\tremaining: 7m 53s\n",
      "1651:\ttest: 0.7143360\tbest: 0.7143360 (1651)\ttotal: 5m 33s\tremaining: 7m 53s\n",
      "1652:\ttest: 0.7143318\tbest: 0.7143360 (1651)\ttotal: 5m 33s\tremaining: 7m 53s\n",
      "1653:\ttest: 0.7143332\tbest: 0.7143360 (1651)\ttotal: 5m 33s\tremaining: 7m 53s\n",
      "1654:\ttest: 0.7143325\tbest: 0.7143360 (1651)\ttotal: 5m 33s\tremaining: 7m 52s\n",
      "1655:\ttest: 0.7143346\tbest: 0.7143360 (1651)\ttotal: 5m 33s\tremaining: 7m 52s\n",
      "1656:\ttest: 0.7143374\tbest: 0.7143374 (1656)\ttotal: 5m 34s\tremaining: 7m 52s\n",
      "1657:\ttest: 0.7143355\tbest: 0.7143374 (1656)\ttotal: 5m 34s\tremaining: 7m 52s\n",
      "1658:\ttest: 0.7143351\tbest: 0.7143374 (1656)\ttotal: 5m 34s\tremaining: 7m 52s\n",
      "1659:\ttest: 0.7143377\tbest: 0.7143377 (1659)\ttotal: 5m 34s\tremaining: 7m 51s\n",
      "1660:\ttest: 0.7143429\tbest: 0.7143429 (1660)\ttotal: 5m 34s\tremaining: 7m 51s\n",
      "1661:\ttest: 0.7143466\tbest: 0.7143466 (1661)\ttotal: 5m 35s\tremaining: 7m 51s\n",
      "1662:\ttest: 0.7143408\tbest: 0.7143466 (1661)\ttotal: 5m 35s\tremaining: 7m 51s\n",
      "1663:\ttest: 0.7143369\tbest: 0.7143466 (1661)\ttotal: 5m 35s\tremaining: 7m 51s\n",
      "1664:\ttest: 0.7143420\tbest: 0.7143466 (1661)\ttotal: 5m 35s\tremaining: 7m 50s\n",
      "1665:\ttest: 0.7143453\tbest: 0.7143466 (1661)\ttotal: 5m 35s\tremaining: 7m 50s\n",
      "1666:\ttest: 0.7143456\tbest: 0.7143466 (1661)\ttotal: 5m 36s\tremaining: 7m 50s\n",
      "1667:\ttest: 0.7143492\tbest: 0.7143492 (1667)\ttotal: 5m 36s\tremaining: 7m 50s\n",
      "1668:\ttest: 0.7143472\tbest: 0.7143492 (1667)\ttotal: 5m 36s\tremaining: 7m 50s\n",
      "1669:\ttest: 0.7143496\tbest: 0.7143496 (1669)\ttotal: 5m 36s\tremaining: 7m 49s\n",
      "1670:\ttest: 0.7143480\tbest: 0.7143496 (1669)\ttotal: 5m 37s\tremaining: 7m 49s\n",
      "1671:\ttest: 0.7143460\tbest: 0.7143496 (1669)\ttotal: 5m 37s\tremaining: 7m 49s\n",
      "1672:\ttest: 0.7143430\tbest: 0.7143496 (1669)\ttotal: 5m 37s\tremaining: 7m 49s\n",
      "1673:\ttest: 0.7143499\tbest: 0.7143499 (1673)\ttotal: 5m 37s\tremaining: 7m 49s\n",
      "1674:\ttest: 0.7143510\tbest: 0.7143510 (1674)\ttotal: 5m 37s\tremaining: 7m 48s\n",
      "1675:\ttest: 0.7143530\tbest: 0.7143530 (1675)\ttotal: 5m 38s\tremaining: 7m 48s\n",
      "1676:\ttest: 0.7143566\tbest: 0.7143566 (1676)\ttotal: 5m 38s\tremaining: 7m 48s\n",
      "1677:\ttest: 0.7143580\tbest: 0.7143580 (1677)\ttotal: 5m 38s\tremaining: 7m 48s\n",
      "1678:\ttest: 0.7143611\tbest: 0.7143611 (1678)\ttotal: 5m 38s\tremaining: 7m 48s\n",
      "1679:\ttest: 0.7143652\tbest: 0.7143652 (1679)\ttotal: 5m 38s\tremaining: 7m 48s\n",
      "1680:\ttest: 0.7143662\tbest: 0.7143662 (1680)\ttotal: 5m 39s\tremaining: 7m 47s\n",
      "1681:\ttest: 0.7143640\tbest: 0.7143662 (1680)\ttotal: 5m 39s\tremaining: 7m 47s\n",
      "1682:\ttest: 0.7143620\tbest: 0.7143662 (1680)\ttotal: 5m 39s\tremaining: 7m 47s\n",
      "1683:\ttest: 0.7143629\tbest: 0.7143662 (1680)\ttotal: 5m 39s\tremaining: 7m 47s\n",
      "1684:\ttest: 0.7143609\tbest: 0.7143662 (1680)\ttotal: 5m 40s\tremaining: 7m 47s\n",
      "1685:\ttest: 0.7143624\tbest: 0.7143662 (1680)\ttotal: 5m 40s\tremaining: 7m 46s\n",
      "1686:\ttest: 0.7143663\tbest: 0.7143663 (1686)\ttotal: 5m 40s\tremaining: 7m 46s\n",
      "1687:\ttest: 0.7143687\tbest: 0.7143687 (1687)\ttotal: 5m 40s\tremaining: 7m 46s\n",
      "1688:\ttest: 0.7143703\tbest: 0.7143703 (1688)\ttotal: 5m 40s\tremaining: 7m 46s\n",
      "1689:\ttest: 0.7143677\tbest: 0.7143703 (1688)\ttotal: 5m 41s\tremaining: 7m 46s\n",
      "1690:\ttest: 0.7143685\tbest: 0.7143703 (1688)\ttotal: 5m 41s\tremaining: 7m 45s\n",
      "1691:\ttest: 0.7143722\tbest: 0.7143722 (1691)\ttotal: 5m 41s\tremaining: 7m 45s\n",
      "1692:\ttest: 0.7143715\tbest: 0.7143722 (1691)\ttotal: 5m 41s\tremaining: 7m 45s\n",
      "1693:\ttest: 0.7143701\tbest: 0.7143722 (1691)\ttotal: 5m 41s\tremaining: 7m 45s\n",
      "1694:\ttest: 0.7143704\tbest: 0.7143722 (1691)\ttotal: 5m 42s\tremaining: 7m 45s\n",
      "1695:\ttest: 0.7143696\tbest: 0.7143722 (1691)\ttotal: 5m 42s\tremaining: 7m 45s\n",
      "1696:\ttest: 0.7143682\tbest: 0.7143722 (1691)\ttotal: 5m 42s\tremaining: 7m 44s\n",
      "1697:\ttest: 0.7143686\tbest: 0.7143722 (1691)\ttotal: 5m 42s\tremaining: 7m 44s\n",
      "1698:\ttest: 0.7143694\tbest: 0.7143722 (1691)\ttotal: 5m 42s\tremaining: 7m 44s\n",
      "1699:\ttest: 0.7143646\tbest: 0.7143722 (1691)\ttotal: 5m 43s\tremaining: 7m 44s\n",
      "1700:\ttest: 0.7143642\tbest: 0.7143722 (1691)\ttotal: 5m 43s\tremaining: 7m 44s\n",
      "1701:\ttest: 0.7143626\tbest: 0.7143722 (1691)\ttotal: 5m 43s\tremaining: 7m 43s\n",
      "1702:\ttest: 0.7143576\tbest: 0.7143722 (1691)\ttotal: 5m 43s\tremaining: 7m 43s\n",
      "1703:\ttest: 0.7143578\tbest: 0.7143722 (1691)\ttotal: 5m 43s\tremaining: 7m 43s\n",
      "1704:\ttest: 0.7143608\tbest: 0.7143722 (1691)\ttotal: 5m 44s\tremaining: 7m 43s\n",
      "1705:\ttest: 0.7143664\tbest: 0.7143722 (1691)\ttotal: 5m 44s\tremaining: 7m 43s\n",
      "1706:\ttest: 0.7143659\tbest: 0.7143722 (1691)\ttotal: 5m 44s\tremaining: 7m 42s\n",
      "1707:\ttest: 0.7143671\tbest: 0.7143722 (1691)\ttotal: 5m 44s\tremaining: 7m 42s\n",
      "1708:\ttest: 0.7143671\tbest: 0.7143722 (1691)\ttotal: 5m 45s\tremaining: 7m 42s\n",
      "1709:\ttest: 0.7143673\tbest: 0.7143722 (1691)\ttotal: 5m 45s\tremaining: 7m 42s\n",
      "1710:\ttest: 0.7143657\tbest: 0.7143722 (1691)\ttotal: 5m 45s\tremaining: 7m 42s\n",
      "1711:\ttest: 0.7143653\tbest: 0.7143722 (1691)\ttotal: 5m 45s\tremaining: 7m 41s\n",
      "1712:\ttest: 0.7143663\tbest: 0.7143722 (1691)\ttotal: 5m 45s\tremaining: 7m 41s\n",
      "1713:\ttest: 0.7143688\tbest: 0.7143722 (1691)\ttotal: 5m 46s\tremaining: 7m 41s\n",
      "1714:\ttest: 0.7143743\tbest: 0.7143743 (1714)\ttotal: 5m 46s\tremaining: 7m 41s\n",
      "1715:\ttest: 0.7143705\tbest: 0.7143743 (1714)\ttotal: 5m 46s\tremaining: 7m 41s\n",
      "1716:\ttest: 0.7143700\tbest: 0.7143743 (1714)\ttotal: 5m 46s\tremaining: 7m 40s\n",
      "1717:\ttest: 0.7143665\tbest: 0.7143743 (1714)\ttotal: 5m 46s\tremaining: 7m 40s\n",
      "1718:\ttest: 0.7143689\tbest: 0.7143743 (1714)\ttotal: 5m 47s\tremaining: 7m 40s\n",
      "1719:\ttest: 0.7143713\tbest: 0.7143743 (1714)\ttotal: 5m 47s\tremaining: 7m 40s\n",
      "1720:\ttest: 0.7143712\tbest: 0.7143743 (1714)\ttotal: 5m 47s\tremaining: 7m 40s\n",
      "1721:\ttest: 0.7143757\tbest: 0.7143757 (1721)\ttotal: 5m 47s\tremaining: 7m 39s\n",
      "1722:\ttest: 0.7143758\tbest: 0.7143758 (1722)\ttotal: 5m 47s\tremaining: 7m 39s\n",
      "1723:\ttest: 0.7143723\tbest: 0.7143758 (1722)\ttotal: 5m 48s\tremaining: 7m 39s\n",
      "1724:\ttest: 0.7143701\tbest: 0.7143758 (1722)\ttotal: 5m 48s\tremaining: 7m 39s\n",
      "1725:\ttest: 0.7143659\tbest: 0.7143758 (1722)\ttotal: 5m 48s\tremaining: 7m 39s\n",
      "1726:\ttest: 0.7143631\tbest: 0.7143758 (1722)\ttotal: 5m 48s\tremaining: 7m 38s\n",
      "1727:\ttest: 0.7143654\tbest: 0.7143758 (1722)\ttotal: 5m 48s\tremaining: 7m 38s\n",
      "1728:\ttest: 0.7143657\tbest: 0.7143758 (1722)\ttotal: 5m 49s\tremaining: 7m 38s\n",
      "1729:\ttest: 0.7143663\tbest: 0.7143758 (1722)\ttotal: 5m 49s\tremaining: 7m 38s\n",
      "1730:\ttest: 0.7143759\tbest: 0.7143759 (1730)\ttotal: 5m 49s\tremaining: 7m 38s\n",
      "1731:\ttest: 0.7143749\tbest: 0.7143759 (1730)\ttotal: 5m 49s\tremaining: 7m 38s\n",
      "1732:\ttest: 0.7143733\tbest: 0.7143759 (1730)\ttotal: 5m 49s\tremaining: 7m 37s\n",
      "1733:\ttest: 0.7143760\tbest: 0.7143760 (1733)\ttotal: 5m 50s\tremaining: 7m 37s\n",
      "1734:\ttest: 0.7143793\tbest: 0.7143793 (1734)\ttotal: 5m 50s\tremaining: 7m 37s\n",
      "1735:\ttest: 0.7143783\tbest: 0.7143793 (1734)\ttotal: 5m 50s\tremaining: 7m 37s\n",
      "1736:\ttest: 0.7143767\tbest: 0.7143793 (1734)\ttotal: 5m 50s\tremaining: 7m 37s\n",
      "1737:\ttest: 0.7143776\tbest: 0.7143793 (1734)\ttotal: 5m 51s\tremaining: 7m 36s\n",
      "1738:\ttest: 0.7143754\tbest: 0.7143793 (1734)\ttotal: 5m 51s\tremaining: 7m 36s\n",
      "1739:\ttest: 0.7143749\tbest: 0.7143793 (1734)\ttotal: 5m 51s\tremaining: 7m 36s\n"
     ]
    },
    {
     "name": "stdout",
     "output_type": "stream",
     "text": [
      "1740:\ttest: 0.7143725\tbest: 0.7143793 (1734)\ttotal: 5m 51s\tremaining: 7m 36s\n",
      "1741:\ttest: 0.7143742\tbest: 0.7143793 (1734)\ttotal: 5m 51s\tremaining: 7m 36s\n",
      "1742:\ttest: 0.7143735\tbest: 0.7143793 (1734)\ttotal: 5m 52s\tremaining: 7m 35s\n",
      "1743:\ttest: 0.7143673\tbest: 0.7143793 (1734)\ttotal: 5m 52s\tremaining: 7m 35s\n",
      "1744:\ttest: 0.7143657\tbest: 0.7143793 (1734)\ttotal: 5m 52s\tremaining: 7m 35s\n",
      "1745:\ttest: 0.7143666\tbest: 0.7143793 (1734)\ttotal: 5m 52s\tremaining: 7m 35s\n",
      "1746:\ttest: 0.7143701\tbest: 0.7143793 (1734)\ttotal: 5m 52s\tremaining: 7m 35s\n",
      "1747:\ttest: 0.7143702\tbest: 0.7143793 (1734)\ttotal: 5m 53s\tremaining: 7m 34s\n",
      "1748:\ttest: 0.7143710\tbest: 0.7143793 (1734)\ttotal: 5m 53s\tremaining: 7m 34s\n",
      "1749:\ttest: 0.7143697\tbest: 0.7143793 (1734)\ttotal: 5m 53s\tremaining: 7m 34s\n",
      "1750:\ttest: 0.7143725\tbest: 0.7143793 (1734)\ttotal: 5m 53s\tremaining: 7m 34s\n",
      "1751:\ttest: 0.7143733\tbest: 0.7143793 (1734)\ttotal: 5m 53s\tremaining: 7m 34s\n",
      "1752:\ttest: 0.7143672\tbest: 0.7143793 (1734)\ttotal: 5m 54s\tremaining: 7m 34s\n",
      "1753:\ttest: 0.7143691\tbest: 0.7143793 (1734)\ttotal: 5m 54s\tremaining: 7m 33s\n",
      "1754:\ttest: 0.7143724\tbest: 0.7143793 (1734)\ttotal: 5m 54s\tremaining: 7m 33s\n",
      "1755:\ttest: 0.7143732\tbest: 0.7143793 (1734)\ttotal: 5m 54s\tremaining: 7m 33s\n",
      "1756:\ttest: 0.7143724\tbest: 0.7143793 (1734)\ttotal: 5m 55s\tremaining: 7m 33s\n",
      "1757:\ttest: 0.7143709\tbest: 0.7143793 (1734)\ttotal: 5m 55s\tremaining: 7m 33s\n",
      "1758:\ttest: 0.7143764\tbest: 0.7143793 (1734)\ttotal: 5m 55s\tremaining: 7m 32s\n",
      "1759:\ttest: 0.7143766\tbest: 0.7143793 (1734)\ttotal: 5m 55s\tremaining: 7m 32s\n",
      "1760:\ttest: 0.7143806\tbest: 0.7143806 (1760)\ttotal: 5m 55s\tremaining: 7m 32s\n",
      "1761:\ttest: 0.7143837\tbest: 0.7143837 (1761)\ttotal: 5m 56s\tremaining: 7m 32s\n",
      "1762:\ttest: 0.7143839\tbest: 0.7143839 (1762)\ttotal: 5m 56s\tremaining: 7m 32s\n",
      "1763:\ttest: 0.7143875\tbest: 0.7143875 (1763)\ttotal: 5m 56s\tremaining: 7m 31s\n",
      "1764:\ttest: 0.7143883\tbest: 0.7143883 (1764)\ttotal: 5m 56s\tremaining: 7m 31s\n",
      "1765:\ttest: 0.7143878\tbest: 0.7143883 (1764)\ttotal: 5m 56s\tremaining: 7m 31s\n",
      "1766:\ttest: 0.7143855\tbest: 0.7143883 (1764)\ttotal: 5m 57s\tremaining: 7m 31s\n",
      "1767:\ttest: 0.7143826\tbest: 0.7143883 (1764)\ttotal: 5m 57s\tremaining: 7m 31s\n",
      "1768:\ttest: 0.7143819\tbest: 0.7143883 (1764)\ttotal: 5m 57s\tremaining: 7m 30s\n",
      "1769:\ttest: 0.7143845\tbest: 0.7143883 (1764)\ttotal: 5m 57s\tremaining: 7m 30s\n",
      "1770:\ttest: 0.7143852\tbest: 0.7143883 (1764)\ttotal: 5m 57s\tremaining: 7m 30s\n",
      "1771:\ttest: 0.7143867\tbest: 0.7143883 (1764)\ttotal: 5m 58s\tremaining: 7m 30s\n",
      "1772:\ttest: 0.7143824\tbest: 0.7143883 (1764)\ttotal: 5m 58s\tremaining: 7m 30s\n",
      "1773:\ttest: 0.7143822\tbest: 0.7143883 (1764)\ttotal: 5m 58s\tremaining: 7m 30s\n",
      "1774:\ttest: 0.7143876\tbest: 0.7143883 (1764)\ttotal: 5m 58s\tremaining: 7m 29s\n",
      "1775:\ttest: 0.7143878\tbest: 0.7143883 (1764)\ttotal: 5m 59s\tremaining: 7m 29s\n",
      "1776:\ttest: 0.7143904\tbest: 0.7143904 (1776)\ttotal: 5m 59s\tremaining: 7m 29s\n",
      "1777:\ttest: 0.7143921\tbest: 0.7143921 (1777)\ttotal: 5m 59s\tremaining: 7m 29s\n",
      "1778:\ttest: 0.7143930\tbest: 0.7143930 (1778)\ttotal: 5m 59s\tremaining: 7m 28s\n",
      "1779:\ttest: 0.7143938\tbest: 0.7143938 (1779)\ttotal: 5m 59s\tremaining: 7m 28s\n",
      "1780:\ttest: 0.7143969\tbest: 0.7143969 (1780)\ttotal: 5m 59s\tremaining: 7m 28s\n",
      "1781:\ttest: 0.7143965\tbest: 0.7143969 (1780)\ttotal: 6m\tremaining: 7m 28s\n",
      "1782:\ttest: 0.7143942\tbest: 0.7143969 (1780)\ttotal: 6m\tremaining: 7m 28s\n",
      "1783:\ttest: 0.7144014\tbest: 0.7144014 (1783)\ttotal: 6m\tremaining: 7m 27s\n",
      "1784:\ttest: 0.7143989\tbest: 0.7144014 (1783)\ttotal: 6m\tremaining: 7m 27s\n",
      "1785:\ttest: 0.7144002\tbest: 0.7144014 (1783)\ttotal: 6m\tremaining: 7m 27s\n",
      "1786:\ttest: 0.7144049\tbest: 0.7144049 (1786)\ttotal: 6m 1s\tremaining: 7m 27s\n",
      "1787:\ttest: 0.7144073\tbest: 0.7144073 (1787)\ttotal: 6m 1s\tremaining: 7m 27s\n",
      "1788:\ttest: 0.7144119\tbest: 0.7144119 (1788)\ttotal: 6m 1s\tremaining: 7m 26s\n",
      "1789:\ttest: 0.7144075\tbest: 0.7144119 (1788)\ttotal: 6m 1s\tremaining: 7m 26s\n",
      "1790:\ttest: 0.7144073\tbest: 0.7144119 (1788)\ttotal: 6m 1s\tremaining: 7m 26s\n",
      "1791:\ttest: 0.7144093\tbest: 0.7144119 (1788)\ttotal: 6m 2s\tremaining: 7m 26s\n",
      "1792:\ttest: 0.7144088\tbest: 0.7144119 (1788)\ttotal: 6m 2s\tremaining: 7m 26s\n",
      "1793:\ttest: 0.7144054\tbest: 0.7144119 (1788)\ttotal: 6m 2s\tremaining: 7m 25s\n",
      "1794:\ttest: 0.7144053\tbest: 0.7144119 (1788)\ttotal: 6m 2s\tremaining: 7m 25s\n",
      "1795:\ttest: 0.7144094\tbest: 0.7144119 (1788)\ttotal: 6m 2s\tremaining: 7m 25s\n",
      "1796:\ttest: 0.7144085\tbest: 0.7144119 (1788)\ttotal: 6m 3s\tremaining: 7m 25s\n",
      "1797:\ttest: 0.7144104\tbest: 0.7144119 (1788)\ttotal: 6m 3s\tremaining: 7m 25s\n",
      "1798:\ttest: 0.7144133\tbest: 0.7144133 (1798)\ttotal: 6m 3s\tremaining: 7m 24s\n",
      "1799:\ttest: 0.7144172\tbest: 0.7144172 (1799)\ttotal: 6m 3s\tremaining: 7m 24s\n",
      "1800:\ttest: 0.7144156\tbest: 0.7144172 (1799)\ttotal: 6m 3s\tremaining: 7m 24s\n",
      "1801:\ttest: 0.7144173\tbest: 0.7144173 (1801)\ttotal: 6m 4s\tremaining: 7m 24s\n",
      "1802:\ttest: 0.7144259\tbest: 0.7144259 (1802)\ttotal: 6m 4s\tremaining: 7m 24s\n",
      "1803:\ttest: 0.7144277\tbest: 0.7144277 (1803)\ttotal: 6m 4s\tremaining: 7m 23s\n",
      "1804:\ttest: 0.7144263\tbest: 0.7144277 (1803)\ttotal: 6m 4s\tremaining: 7m 23s\n",
      "1805:\ttest: 0.7144251\tbest: 0.7144277 (1803)\ttotal: 6m 5s\tremaining: 7m 23s\n",
      "1806:\ttest: 0.7144216\tbest: 0.7144277 (1803)\ttotal: 6m 5s\tremaining: 7m 23s\n",
      "1807:\ttest: 0.7144200\tbest: 0.7144277 (1803)\ttotal: 6m 5s\tremaining: 7m 23s\n",
      "1808:\ttest: 0.7144244\tbest: 0.7144277 (1803)\ttotal: 6m 5s\tremaining: 7m 22s\n",
      "1809:\ttest: 0.7144306\tbest: 0.7144306 (1809)\ttotal: 6m 5s\tremaining: 7m 22s\n",
      "1810:\ttest: 0.7144289\tbest: 0.7144306 (1809)\ttotal: 6m 6s\tremaining: 7m 22s\n",
      "1811:\ttest: 0.7144274\tbest: 0.7144306 (1809)\ttotal: 6m 6s\tremaining: 7m 22s\n",
      "1812:\ttest: 0.7144228\tbest: 0.7144306 (1809)\ttotal: 6m 6s\tremaining: 7m 22s\n",
      "1813:\ttest: 0.7144196\tbest: 0.7144306 (1809)\ttotal: 6m 6s\tremaining: 7m 21s\n",
      "1814:\ttest: 0.7144215\tbest: 0.7144306 (1809)\ttotal: 6m 6s\tremaining: 7m 21s\n",
      "1815:\ttest: 0.7144242\tbest: 0.7144306 (1809)\ttotal: 6m 7s\tremaining: 7m 21s\n",
      "1816:\ttest: 0.7144240\tbest: 0.7144306 (1809)\ttotal: 6m 7s\tremaining: 7m 21s\n",
      "1817:\ttest: 0.7144291\tbest: 0.7144306 (1809)\ttotal: 6m 7s\tremaining: 7m 21s\n",
      "1818:\ttest: 0.7144266\tbest: 0.7144306 (1809)\ttotal: 6m 7s\tremaining: 7m 20s\n",
      "1819:\ttest: 0.7144267\tbest: 0.7144306 (1809)\ttotal: 6m 7s\tremaining: 7m 20s\n",
      "1820:\ttest: 0.7144280\tbest: 0.7144306 (1809)\ttotal: 6m 8s\tremaining: 7m 20s\n",
      "1821:\ttest: 0.7144327\tbest: 0.7144327 (1821)\ttotal: 6m 8s\tremaining: 7m 20s\n",
      "1822:\ttest: 0.7144300\tbest: 0.7144327 (1821)\ttotal: 6m 8s\tremaining: 7m 19s\n",
      "1823:\ttest: 0.7144297\tbest: 0.7144327 (1821)\ttotal: 6m 8s\tremaining: 7m 19s\n",
      "1824:\ttest: 0.7144316\tbest: 0.7144327 (1821)\ttotal: 6m 8s\tremaining: 7m 19s\n",
      "1825:\ttest: 0.7144323\tbest: 0.7144327 (1821)\ttotal: 6m 9s\tremaining: 7m 19s\n",
      "1826:\ttest: 0.7144391\tbest: 0.7144391 (1826)\ttotal: 6m 9s\tremaining: 7m 19s\n",
      "1827:\ttest: 0.7144419\tbest: 0.7144419 (1827)\ttotal: 6m 9s\tremaining: 7m 18s\n",
      "1828:\ttest: 0.7144451\tbest: 0.7144451 (1828)\ttotal: 6m 9s\tremaining: 7m 18s\n",
      "1829:\ttest: 0.7144469\tbest: 0.7144469 (1829)\ttotal: 6m 9s\tremaining: 7m 18s\n",
      "1830:\ttest: 0.7144502\tbest: 0.7144502 (1830)\ttotal: 6m 10s\tremaining: 7m 18s\n",
      "1831:\ttest: 0.7144472\tbest: 0.7144502 (1830)\ttotal: 6m 10s\tremaining: 7m 18s\n",
      "1832:\ttest: 0.7144487\tbest: 0.7144502 (1830)\ttotal: 6m 10s\tremaining: 7m 18s\n",
      "1833:\ttest: 0.7144501\tbest: 0.7144502 (1830)\ttotal: 6m 10s\tremaining: 7m 17s\n",
      "1834:\ttest: 0.7144481\tbest: 0.7144502 (1830)\ttotal: 6m 10s\tremaining: 7m 17s\n",
      "1835:\ttest: 0.7144505\tbest: 0.7144505 (1835)\ttotal: 6m 11s\tremaining: 7m 17s\n",
      "1836:\ttest: 0.7144603\tbest: 0.7144603 (1836)\ttotal: 6m 11s\tremaining: 7m 17s\n",
      "1837:\ttest: 0.7144645\tbest: 0.7144645 (1837)\ttotal: 6m 11s\tremaining: 7m 17s\n",
      "1838:\ttest: 0.7144576\tbest: 0.7144645 (1837)\ttotal: 6m 11s\tremaining: 7m 16s\n",
      "1839:\ttest: 0.7144587\tbest: 0.7144645 (1837)\ttotal: 6m 12s\tremaining: 7m 16s\n",
      "1840:\ttest: 0.7144561\tbest: 0.7144645 (1837)\ttotal: 6m 12s\tremaining: 7m 16s\n",
      "1841:\ttest: 0.7144521\tbest: 0.7144645 (1837)\ttotal: 6m 12s\tremaining: 7m 16s\n",
      "1842:\ttest: 0.7144532\tbest: 0.7144645 (1837)\ttotal: 6m 12s\tremaining: 7m 16s\n",
      "1843:\ttest: 0.7144559\tbest: 0.7144645 (1837)\ttotal: 6m 12s\tremaining: 7m 16s\n",
      "1844:\ttest: 0.7144547\tbest: 0.7144645 (1837)\ttotal: 6m 13s\tremaining: 7m 15s\n",
      "1845:\ttest: 0.7144521\tbest: 0.7144645 (1837)\ttotal: 6m 13s\tremaining: 7m 15s\n",
      "1846:\ttest: 0.7144559\tbest: 0.7144645 (1837)\ttotal: 6m 13s\tremaining: 7m 15s\n",
      "1847:\ttest: 0.7144523\tbest: 0.7144645 (1837)\ttotal: 6m 13s\tremaining: 7m 15s\n"
     ]
    },
    {
     "name": "stdout",
     "output_type": "stream",
     "text": [
      "1848:\ttest: 0.7144533\tbest: 0.7144645 (1837)\ttotal: 6m 13s\tremaining: 7m 15s\n",
      "1849:\ttest: 0.7144497\tbest: 0.7144645 (1837)\ttotal: 6m 14s\tremaining: 7m 14s\n",
      "1850:\ttest: 0.7144533\tbest: 0.7144645 (1837)\ttotal: 6m 14s\tremaining: 7m 14s\n",
      "1851:\ttest: 0.7144526\tbest: 0.7144645 (1837)\ttotal: 6m 14s\tremaining: 7m 14s\n",
      "1852:\ttest: 0.7144546\tbest: 0.7144645 (1837)\ttotal: 6m 14s\tremaining: 7m 14s\n",
      "1853:\ttest: 0.7144471\tbest: 0.7144645 (1837)\ttotal: 6m 14s\tremaining: 7m 13s\n",
      "1854:\ttest: 0.7144470\tbest: 0.7144645 (1837)\ttotal: 6m 15s\tremaining: 7m 13s\n",
      "1855:\ttest: 0.7144490\tbest: 0.7144645 (1837)\ttotal: 6m 15s\tremaining: 7m 13s\n",
      "1856:\ttest: 0.7144490\tbest: 0.7144645 (1837)\ttotal: 6m 15s\tremaining: 7m 13s\n",
      "1857:\ttest: 0.7144526\tbest: 0.7144645 (1837)\ttotal: 6m 15s\tremaining: 7m 13s\n",
      "1858:\ttest: 0.7144534\tbest: 0.7144645 (1837)\ttotal: 6m 15s\tremaining: 7m 12s\n",
      "1859:\ttest: 0.7144597\tbest: 0.7144645 (1837)\ttotal: 6m 16s\tremaining: 7m 12s\n",
      "1860:\ttest: 0.7144588\tbest: 0.7144645 (1837)\ttotal: 6m 16s\tremaining: 7m 12s\n",
      "1861:\ttest: 0.7144569\tbest: 0.7144645 (1837)\ttotal: 6m 16s\tremaining: 7m 12s\n",
      "1862:\ttest: 0.7144580\tbest: 0.7144645 (1837)\ttotal: 6m 16s\tremaining: 7m 12s\n",
      "1863:\ttest: 0.7144598\tbest: 0.7144645 (1837)\ttotal: 6m 16s\tremaining: 7m 11s\n",
      "1864:\ttest: 0.7144639\tbest: 0.7144645 (1837)\ttotal: 6m 17s\tremaining: 7m 11s\n",
      "1865:\ttest: 0.7144639\tbest: 0.7144645 (1837)\ttotal: 6m 17s\tremaining: 7m 11s\n",
      "1866:\ttest: 0.7144635\tbest: 0.7144645 (1837)\ttotal: 6m 17s\tremaining: 7m 11s\n",
      "1867:\ttest: 0.7144637\tbest: 0.7144645 (1837)\ttotal: 6m 17s\tremaining: 7m 11s\n",
      "1868:\ttest: 0.7144659\tbest: 0.7144659 (1868)\ttotal: 6m 17s\tremaining: 7m 10s\n",
      "1869:\ttest: 0.7144631\tbest: 0.7144659 (1868)\ttotal: 6m 18s\tremaining: 7m 10s\n",
      "1870:\ttest: 0.7144592\tbest: 0.7144659 (1868)\ttotal: 6m 18s\tremaining: 7m 10s\n",
      "1871:\ttest: 0.7144569\tbest: 0.7144659 (1868)\ttotal: 6m 18s\tremaining: 7m 10s\n",
      "1872:\ttest: 0.7144589\tbest: 0.7144659 (1868)\ttotal: 6m 18s\tremaining: 7m 10s\n",
      "1873:\ttest: 0.7144580\tbest: 0.7144659 (1868)\ttotal: 6m 18s\tremaining: 7m 9s\n",
      "1874:\ttest: 0.7144656\tbest: 0.7144659 (1868)\ttotal: 6m 19s\tremaining: 7m 9s\n",
      "1875:\ttest: 0.7144699\tbest: 0.7144699 (1875)\ttotal: 6m 19s\tremaining: 7m 9s\n",
      "1876:\ttest: 0.7144729\tbest: 0.7144729 (1876)\ttotal: 6m 19s\tremaining: 7m 9s\n",
      "1877:\ttest: 0.7144729\tbest: 0.7144729 (1877)\ttotal: 6m 19s\tremaining: 7m 9s\n",
      "1878:\ttest: 0.7144749\tbest: 0.7144749 (1878)\ttotal: 6m 19s\tremaining: 7m 8s\n",
      "1879:\ttest: 0.7144757\tbest: 0.7144757 (1879)\ttotal: 6m 20s\tremaining: 7m 8s\n",
      "1880:\ttest: 0.7144774\tbest: 0.7144774 (1880)\ttotal: 6m 20s\tremaining: 7m 8s\n",
      "1881:\ttest: 0.7144776\tbest: 0.7144776 (1881)\ttotal: 6m 20s\tremaining: 7m 8s\n",
      "1882:\ttest: 0.7144812\tbest: 0.7144812 (1882)\ttotal: 6m 20s\tremaining: 7m 8s\n",
      "1883:\ttest: 0.7144804\tbest: 0.7144812 (1882)\ttotal: 6m 20s\tremaining: 7m 7s\n",
      "1884:\ttest: 0.7144835\tbest: 0.7144835 (1884)\ttotal: 6m 21s\tremaining: 7m 7s\n",
      "1885:\ttest: 0.7144839\tbest: 0.7144839 (1885)\ttotal: 6m 21s\tremaining: 7m 7s\n",
      "1886:\ttest: 0.7144841\tbest: 0.7144841 (1886)\ttotal: 6m 21s\tremaining: 7m 7s\n",
      "1887:\ttest: 0.7144816\tbest: 0.7144841 (1886)\ttotal: 6m 21s\tremaining: 7m 7s\n",
      "1888:\ttest: 0.7144843\tbest: 0.7144843 (1888)\ttotal: 6m 21s\tremaining: 7m 6s\n",
      "1889:\ttest: 0.7144798\tbest: 0.7144843 (1888)\ttotal: 6m 22s\tremaining: 7m 6s\n",
      "1890:\ttest: 0.7144767\tbest: 0.7144843 (1888)\ttotal: 6m 22s\tremaining: 7m 6s\n",
      "1891:\ttest: 0.7144797\tbest: 0.7144843 (1888)\ttotal: 6m 22s\tremaining: 7m 6s\n",
      "1892:\ttest: 0.7144746\tbest: 0.7144843 (1888)\ttotal: 6m 22s\tremaining: 7m 6s\n",
      "1893:\ttest: 0.7144806\tbest: 0.7144843 (1888)\ttotal: 6m 22s\tremaining: 7m 5s\n",
      "1894:\ttest: 0.7144800\tbest: 0.7144843 (1888)\ttotal: 6m 23s\tremaining: 7m 5s\n",
      "1895:\ttest: 0.7144789\tbest: 0.7144843 (1888)\ttotal: 6m 23s\tremaining: 7m 5s\n",
      "1896:\ttest: 0.7144844\tbest: 0.7144844 (1896)\ttotal: 6m 23s\tremaining: 7m 5s\n",
      "1897:\ttest: 0.7144865\tbest: 0.7144865 (1897)\ttotal: 6m 23s\tremaining: 7m 4s\n",
      "1898:\ttest: 0.7144867\tbest: 0.7144867 (1898)\ttotal: 6m 23s\tremaining: 7m 4s\n",
      "1899:\ttest: 0.7144909\tbest: 0.7144909 (1899)\ttotal: 6m 24s\tremaining: 7m 4s\n",
      "1900:\ttest: 0.7144889\tbest: 0.7144909 (1899)\ttotal: 6m 24s\tremaining: 7m 4s\n",
      "1901:\ttest: 0.7144845\tbest: 0.7144909 (1899)\ttotal: 6m 24s\tremaining: 7m 4s\n",
      "1902:\ttest: 0.7144868\tbest: 0.7144909 (1899)\ttotal: 6m 24s\tremaining: 7m 3s\n",
      "1903:\ttest: 0.7144855\tbest: 0.7144909 (1899)\ttotal: 6m 24s\tremaining: 7m 3s\n",
      "1904:\ttest: 0.7144844\tbest: 0.7144909 (1899)\ttotal: 6m 25s\tremaining: 7m 3s\n",
      "1905:\ttest: 0.7144861\tbest: 0.7144909 (1899)\ttotal: 6m 25s\tremaining: 7m 3s\n",
      "1906:\ttest: 0.7144870\tbest: 0.7144909 (1899)\ttotal: 6m 25s\tremaining: 7m 3s\n",
      "1907:\ttest: 0.7144882\tbest: 0.7144909 (1899)\ttotal: 6m 25s\tremaining: 7m 2s\n",
      "1908:\ttest: 0.7144894\tbest: 0.7144909 (1899)\ttotal: 6m 25s\tremaining: 7m 2s\n",
      "1909:\ttest: 0.7144885\tbest: 0.7144909 (1899)\ttotal: 6m 26s\tremaining: 7m 2s\n",
      "1910:\ttest: 0.7144934\tbest: 0.7144934 (1910)\ttotal: 6m 26s\tremaining: 7m 2s\n",
      "1911:\ttest: 0.7144934\tbest: 0.7144934 (1911)\ttotal: 6m 26s\tremaining: 7m 2s\n",
      "1912:\ttest: 0.7144873\tbest: 0.7144934 (1911)\ttotal: 6m 26s\tremaining: 7m 1s\n",
      "1913:\ttest: 0.7144883\tbest: 0.7144934 (1911)\ttotal: 6m 26s\tremaining: 7m 1s\n",
      "1914:\ttest: 0.7144904\tbest: 0.7144934 (1911)\ttotal: 6m 27s\tremaining: 7m 1s\n",
      "1915:\ttest: 0.7144922\tbest: 0.7144934 (1911)\ttotal: 6m 27s\tremaining: 7m 1s\n",
      "1916:\ttest: 0.7144942\tbest: 0.7144942 (1916)\ttotal: 6m 27s\tremaining: 7m 1s\n",
      "1917:\ttest: 0.7144932\tbest: 0.7144942 (1916)\ttotal: 6m 27s\tremaining: 7m\n",
      "1918:\ttest: 0.7144934\tbest: 0.7144942 (1916)\ttotal: 6m 27s\tremaining: 7m\n",
      "1919:\ttest: 0.7144936\tbest: 0.7144942 (1916)\ttotal: 6m 28s\tremaining: 7m\n",
      "1920:\ttest: 0.7144959\tbest: 0.7144959 (1920)\ttotal: 6m 28s\tremaining: 7m\n",
      "1921:\ttest: 0.7144988\tbest: 0.7144988 (1921)\ttotal: 6m 28s\tremaining: 6m 59s\n",
      "1922:\ttest: 0.7144997\tbest: 0.7144997 (1922)\ttotal: 6m 28s\tremaining: 6m 59s\n",
      "1923:\ttest: 0.7144972\tbest: 0.7144997 (1922)\ttotal: 6m 28s\tremaining: 6m 59s\n",
      "1924:\ttest: 0.7145013\tbest: 0.7145013 (1924)\ttotal: 6m 29s\tremaining: 6m 59s\n",
      "1925:\ttest: 0.7145042\tbest: 0.7145042 (1925)\ttotal: 6m 29s\tremaining: 6m 59s\n",
      "1926:\ttest: 0.7145077\tbest: 0.7145077 (1926)\ttotal: 6m 29s\tremaining: 6m 58s\n",
      "1927:\ttest: 0.7145073\tbest: 0.7145077 (1926)\ttotal: 6m 29s\tremaining: 6m 58s\n",
      "1928:\ttest: 0.7145109\tbest: 0.7145109 (1928)\ttotal: 6m 29s\tremaining: 6m 58s\n",
      "1929:\ttest: 0.7145111\tbest: 0.7145111 (1929)\ttotal: 6m 30s\tremaining: 6m 58s\n",
      "1930:\ttest: 0.7145146\tbest: 0.7145146 (1930)\ttotal: 6m 30s\tremaining: 6m 58s\n",
      "1931:\ttest: 0.7145187\tbest: 0.7145187 (1931)\ttotal: 6m 30s\tremaining: 6m 57s\n",
      "1932:\ttest: 0.7145162\tbest: 0.7145187 (1931)\ttotal: 6m 30s\tremaining: 6m 57s\n",
      "1933:\ttest: 0.7145152\tbest: 0.7145187 (1931)\ttotal: 6m 30s\tremaining: 6m 57s\n",
      "1934:\ttest: 0.7145126\tbest: 0.7145187 (1931)\ttotal: 6m 31s\tremaining: 6m 57s\n",
      "1935:\ttest: 0.7145108\tbest: 0.7145187 (1931)\ttotal: 6m 31s\tremaining: 6m 57s\n",
      "1936:\ttest: 0.7145096\tbest: 0.7145187 (1931)\ttotal: 6m 31s\tremaining: 6m 56s\n",
      "1937:\ttest: 0.7145128\tbest: 0.7145187 (1931)\ttotal: 6m 31s\tremaining: 6m 56s\n",
      "1938:\ttest: 0.7145146\tbest: 0.7145187 (1931)\ttotal: 6m 31s\tremaining: 6m 56s\n",
      "1939:\ttest: 0.7145150\tbest: 0.7145187 (1931)\ttotal: 6m 32s\tremaining: 6m 56s\n",
      "1940:\ttest: 0.7145179\tbest: 0.7145187 (1931)\ttotal: 6m 32s\tremaining: 6m 56s\n",
      "1941:\ttest: 0.7145155\tbest: 0.7145187 (1931)\ttotal: 6m 32s\tremaining: 6m 55s\n",
      "1942:\ttest: 0.7145148\tbest: 0.7145187 (1931)\ttotal: 6m 32s\tremaining: 6m 55s\n",
      "1943:\ttest: 0.7145143\tbest: 0.7145187 (1931)\ttotal: 6m 32s\tremaining: 6m 55s\n",
      "1944:\ttest: 0.7145192\tbest: 0.7145192 (1944)\ttotal: 6m 32s\tremaining: 6m 55s\n",
      "1945:\ttest: 0.7145189\tbest: 0.7145192 (1944)\ttotal: 6m 33s\tremaining: 6m 55s\n",
      "1946:\ttest: 0.7145205\tbest: 0.7145205 (1946)\ttotal: 6m 33s\tremaining: 6m 54s\n",
      "1947:\ttest: 0.7145178\tbest: 0.7145205 (1946)\ttotal: 6m 33s\tremaining: 6m 54s\n",
      "1948:\ttest: 0.7145203\tbest: 0.7145205 (1946)\ttotal: 6m 33s\tremaining: 6m 54s\n",
      "1949:\ttest: 0.7145250\tbest: 0.7145250 (1949)\ttotal: 6m 33s\tremaining: 6m 54s\n",
      "1950:\ttest: 0.7145190\tbest: 0.7145250 (1949)\ttotal: 6m 34s\tremaining: 6m 53s\n",
      "1951:\ttest: 0.7145214\tbest: 0.7145250 (1949)\ttotal: 6m 34s\tremaining: 6m 53s\n",
      "1952:\ttest: 0.7145201\tbest: 0.7145250 (1949)\ttotal: 6m 34s\tremaining: 6m 53s\n",
      "1953:\ttest: 0.7145163\tbest: 0.7145250 (1949)\ttotal: 6m 34s\tremaining: 6m 53s\n",
      "1954:\ttest: 0.7145137\tbest: 0.7145250 (1949)\ttotal: 6m 35s\tremaining: 6m 53s\n",
      "1955:\ttest: 0.7145163\tbest: 0.7145250 (1949)\ttotal: 6m 35s\tremaining: 6m 52s\n"
     ]
    },
    {
     "name": "stdout",
     "output_type": "stream",
     "text": [
      "1956:\ttest: 0.7145147\tbest: 0.7145250 (1949)\ttotal: 6m 35s\tremaining: 6m 52s\n",
      "1957:\ttest: 0.7145123\tbest: 0.7145250 (1949)\ttotal: 6m 35s\tremaining: 6m 52s\n",
      "1958:\ttest: 0.7145060\tbest: 0.7145250 (1949)\ttotal: 6m 35s\tremaining: 6m 52s\n",
      "1959:\ttest: 0.7145083\tbest: 0.7145250 (1949)\ttotal: 6m 35s\tremaining: 6m 52s\n",
      "1960:\ttest: 0.7145121\tbest: 0.7145250 (1949)\ttotal: 6m 36s\tremaining: 6m 51s\n",
      "1961:\ttest: 0.7145145\tbest: 0.7145250 (1949)\ttotal: 6m 36s\tremaining: 6m 51s\n",
      "1962:\ttest: 0.7145125\tbest: 0.7145250 (1949)\ttotal: 6m 36s\tremaining: 6m 51s\n",
      "1963:\ttest: 0.7145075\tbest: 0.7145250 (1949)\ttotal: 6m 36s\tremaining: 6m 51s\n",
      "1964:\ttest: 0.7145128\tbest: 0.7145250 (1949)\ttotal: 6m 36s\tremaining: 6m 51s\n",
      "1965:\ttest: 0.7145084\tbest: 0.7145250 (1949)\ttotal: 6m 37s\tremaining: 6m 50s\n",
      "1966:\ttest: 0.7145095\tbest: 0.7145250 (1949)\ttotal: 6m 37s\tremaining: 6m 50s\n",
      "1967:\ttest: 0.7145089\tbest: 0.7145250 (1949)\ttotal: 6m 37s\tremaining: 6m 50s\n",
      "1968:\ttest: 0.7145156\tbest: 0.7145250 (1949)\ttotal: 6m 37s\tremaining: 6m 50s\n",
      "1969:\ttest: 0.7145189\tbest: 0.7145250 (1949)\ttotal: 6m 38s\tremaining: 6m 50s\n",
      "1970:\ttest: 0.7145180\tbest: 0.7145250 (1949)\ttotal: 6m 38s\tremaining: 6m 49s\n",
      "1971:\ttest: 0.7145143\tbest: 0.7145250 (1949)\ttotal: 6m 38s\tremaining: 6m 49s\n",
      "1972:\ttest: 0.7145173\tbest: 0.7145250 (1949)\ttotal: 6m 38s\tremaining: 6m 49s\n",
      "1973:\ttest: 0.7145191\tbest: 0.7145250 (1949)\ttotal: 6m 38s\tremaining: 6m 49s\n",
      "1974:\ttest: 0.7145191\tbest: 0.7145250 (1949)\ttotal: 6m 39s\tremaining: 6m 49s\n",
      "1975:\ttest: 0.7145229\tbest: 0.7145250 (1949)\ttotal: 6m 39s\tremaining: 6m 48s\n",
      "1976:\ttest: 0.7145215\tbest: 0.7145250 (1949)\ttotal: 6m 39s\tremaining: 6m 48s\n",
      "1977:\ttest: 0.7145201\tbest: 0.7145250 (1949)\ttotal: 6m 39s\tremaining: 6m 48s\n",
      "1978:\ttest: 0.7145171\tbest: 0.7145250 (1949)\ttotal: 6m 39s\tremaining: 6m 48s\n",
      "1979:\ttest: 0.7145153\tbest: 0.7145250 (1949)\ttotal: 6m 40s\tremaining: 6m 48s\n",
      "1980:\ttest: 0.7145154\tbest: 0.7145250 (1949)\ttotal: 6m 40s\tremaining: 6m 47s\n",
      "1981:\ttest: 0.7145147\tbest: 0.7145250 (1949)\ttotal: 6m 40s\tremaining: 6m 47s\n",
      "1982:\ttest: 0.7145168\tbest: 0.7145250 (1949)\ttotal: 6m 40s\tremaining: 6m 47s\n",
      "1983:\ttest: 0.7145137\tbest: 0.7145250 (1949)\ttotal: 6m 40s\tremaining: 6m 47s\n",
      "1984:\ttest: 0.7145111\tbest: 0.7145250 (1949)\ttotal: 6m 41s\tremaining: 6m 47s\n",
      "1985:\ttest: 0.7145122\tbest: 0.7145250 (1949)\ttotal: 6m 41s\tremaining: 6m 46s\n",
      "1986:\ttest: 0.7145123\tbest: 0.7145250 (1949)\ttotal: 6m 41s\tremaining: 6m 46s\n",
      "1987:\ttest: 0.7145122\tbest: 0.7145250 (1949)\ttotal: 6m 41s\tremaining: 6m 46s\n",
      "1988:\ttest: 0.7145134\tbest: 0.7145250 (1949)\ttotal: 6m 41s\tremaining: 6m 46s\n",
      "1989:\ttest: 0.7145150\tbest: 0.7145250 (1949)\ttotal: 6m 42s\tremaining: 6m 46s\n",
      "Stopped by overfitting detector  (40 iterations wait)\n",
      "\n",
      "bestTest = 0.7145250238\n",
      "bestIteration = 1949\n",
      "\n",
      "Shrink model to first 1950 iterations.\n"
     ]
    }
   ],
   "source": [
    "best_model_params = params.copy()\n",
    "best_model = CatBoostClassifier(**best_model_params)\n",
    "best_model.fit(train_pool, eval_set=validate_pool);"
   ]
  },
  {
   "cell_type": "code",
   "execution_count": 81,
   "metadata": {},
   "outputs": [
    {
     "name": "stdout",
     "output_type": "stream",
     "text": [
      "Recall: 0.98\n",
      "Precision score: 0.79\n",
      "Accuracy score: 0.78\n"
     ]
    }
   ],
   "source": [
    "show_scores(best_model, x_test, y_test)"
   ]
  },
  {
   "cell_type": "code",
   "execution_count": 82,
   "metadata": {},
   "outputs": [
    {
     "name": "stdout",
     "output_type": "stream",
     "text": [
      "ROC-AUC score:  0.714525023816913\n"
     ]
    },
    {
     "data": {
      "image/png": "[encoded data removed]",
      "text/plain": [
       "<Figure size 432x288 with 1 Axes>"
      ]
     },
     "metadata": {
      "needs_background": "light"
     },
     "output_type": "display_data"
    }
   ],
   "source": [
    "plot_roc(best_model, x_test, y_test)"
   ]
  },
  {
   "cell_type": "code",
   "execution_count": 84,
   "metadata": {
    "scrolled": true
   },
   "outputs": [
    {
     "name": "stdout",
     "output_type": "stream",
     "text": [
      "annual_inc: 10.28807747251628\n",
      "int_rate: 10.199755722963788\n",
      "sub_grade: 9.920663666600758\n",
      "dti: 7.89870562758327\n",
      "revol_util: 6.464957146617253\n",
      "tot_cur_bal: 6.027221582883288\n",
      "total_acc: 5.284012073547769\n",
      "revol_bal: 5.25757333569273\n",
      "loan_amnt: 4.9219575423384505\n",
      "total_rev_hi_lim: 4.8454592013340685\n",
      "open_acc: 4.593930245411311\n",
      "installment: 4.51746594138508\n",
      "verification_status: 4.399792004641423\n",
      "term: 4.075371528961865\n",
      "inq_last_6mths: 3.2162435991716105\n",
      "home_ownership: 3.2147613531507595\n",
      "tot_coll_amt: 1.7709914987648305\n",
      "initial_list_status: 1.5953499878287118\n",
      "purpose: 1.507710468606745\n"
     ]
    }
   ],
   "source": [
    "feature_importances = best_model.get_feature_importance(train_pool)\n",
    "feature_names = x_train.columns\n",
    "for score, name in sorted(zip(feature_importances, feature_names), reverse=True):\n",
    "    print('{}: {}'.format(name, score))"
   ]
  },
  {
   "cell_type": "code",
   "execution_count": 85,
   "metadata": {},
   "outputs": [],
   "source": [
    "# make it True if your want to use GPU for training\n",
    "have_gpu = False\n",
    "# skip hyper-parameter optimization and just use provided optimal parameters\n",
    "use_optimal_pretrained_params = False\n",
    "# number of iterations of hyper-parameter search\n",
    "hyperopt_iterations = 50"
   ]
  },
  {
   "cell_type": "code",
   "execution_count": 86,
   "metadata": {},
   "outputs": [],
   "source": [
    "const_params = frozendict.frozendict({\n",
    "    'task_type': 'GPU' if have_gpu else 'CPU',\n",
    "    'loss_function': 'Logloss',\n",
    "    'eval_metric': 'AUC', \n",
    "    'od_type': 'Iter',\n",
    "    'od_wait': 40,\n",
    "    'custom_metric': ['AUC'],\n",
    "    'iterations': 400,\n",
    "    'random_seed':42})"
   ]
  },
  {
   "cell_type": "code",
   "execution_count": 99,
   "metadata": {},
   "outputs": [],
   "source": [
    "class UciAdultClassifierObjective(object):\n",
    "    def __init__(self, dataset, const_params, fold_count):\n",
    "        self._dataset = dataset\n",
    "        self._const_params = const_params.copy()\n",
    "        self._fold_count = fold_count\n",
    "        self._evaluated_count = 0\n",
    "        \n",
    "    def _to_catboost_params(self, hyper_params):\n",
    "        return {\n",
    "            'learning_rate': hyper_params['learning_rate'],\n",
    "            'max_depth': hyper_params['max_depth'],\n",
    "            'colsample_bylevel' : hyper_params['colsample_bylevel'],\n",
    "            'bagging_temperature' : hyper_params['bagging_temperature'],\n",
    "            'random_strength' : hyper_params['random_strength'],\n",
    "            'scale_pos_weight' : hyper_params['scale_pos_weight']}\n",
    "    def __call__(self, hyper_params):\n",
    "        params = self._to_catboost_params(hyper_params)\n",
    "        params.update(self._const_params)\n",
    "        \n",
    "        print('evaluating params={}'.format(params), file=sys.stdout)\n",
    "        sys.stdout.flush()        \n",
    "        scores = cb.cv(\n",
    "            pool=self._dataset,\n",
    "            params=params,\n",
    "            fold_count=self._fold_count,\n",
    "            partition_random_seed=42,\n",
    "            verbose=False)\n",
    "        min_mean_auc = np.min(scores['test-AUC-mean'])\n",
    "        print('evaluated score={}'.format(min_mean_auc), file=sys.stdout)\n",
    "        \n",
    "        self._evaluated_count += 1\n",
    "        print('evaluated {} times'.format(self._evaluated_count), file=sys.stdout)\n",
    "        \n",
    "        # negate because hyperopt minimizes the objective\n",
    "        return {'loss': -min_mean_auc, 'status': hyperopt.STATUS_OK}"
   ]
  },
  {
   "cell_type": "code",
   "execution_count": 100,
   "metadata": {},
   "outputs": [],
   "source": [
    "def find_best_hyper_params(dataset, const_params, max_evals=100):    \n",
    "    # we are going to optimize these three parameters, though there are a lot more of them (see CatBoost docs)\n",
    "    parameter_space = {\n",
    "                        'learning_rate': hyperopt.hp.uniform('learning_rate', 0.01, 0.8),\n",
    "                        'max_depth':  hp.quniform(\"depth\", 4, 10, 1),\n",
    "                        'colsample_bylevel': hyperopt.hp.uniform('colsample_bylevel', 0.5, 1.0),\n",
    "                        'bagging_temperature': hyperopt.hp.uniform('bagging_temperature', 0.0, 100),\n",
    "                        'random_strength': hyperopt.hp.uniform('random_strength', 0.0, 100),\n",
    "                        'scale_pos_weight': hyperopt.hp.uniform('scale_pos_weight', 1.0, 16.0)} # change 16.0 to n_negative / n_poistive}\n",
    " \n",
    "    objective = UciAdultClassifierObjective(dataset=dataset, const_params=const_params, fold_count=6)\n",
    "    trials = hyperopt.Trials()\n",
    "    best = hyperopt.fmin(\n",
    "        fn=objective,\n",
    "        space=parameter_space,\n",
    "        algo=hyperopt.rand.suggest,\n",
    "        max_evals=max_evals,\n",
    "        rstate=np.random.RandomState(seed=42))\n",
    "    return best\n",
    "\n",
    "def train_best_model(dataset, const_params, max_evals=100, use_default=False):\n",
    "    # convert pandas.DataFrame to catboost.Pool to avoid converting it on each \n",
    "    # iteration of hyper-parameters optimization  \n",
    "    if use_default:\n",
    "        # pretrained optimal parameters\n",
    "        best = {\n",
    "            'learning_rate': 0.4234185321620083, \n",
    "            'depth': 5, \n",
    "            'l2_leaf_reg': 9.464266235679002}\n",
    "    else:\n",
    "        best = find_best_hyper_params(dataset, const_params, max_evals=max_evals)\n",
    "    \n",
    "    # merge subset of hyper-parameters provided by hyperopt with hyper-parameters \n",
    "    # provided by the user\n",
    "    hyper_params = best.copy()\n",
    "    hyper_params.update(const_params)\n",
    "    \n",
    "    # drop `use_best_model` because we are going to use entire dataset for \n",
    "    # training of the final model\n",
    "    hyper_params.pop('use_best_model', None)\n",
    "    \n",
    "    model = cb.CatBoostClassifier(**hyper_params)\n",
    "    model.fit(dataset, verbose=False)\n",
    "    \n",
    "    return model, hyper_params\n",
    "\n"
   ]
  },
  {
   "cell_type": "code",
   "execution_count": 101,
   "metadata": {},
   "outputs": [
    {
     "name": "stdout",
     "output_type": "stream",
     "text": [
      "evaluating params={'learning_rate': 0.06455055929014733, 'max_depth': 6.0, 'colsample_bylevel': 0.7425935964879817, 'bagging_temperature': 29.826163136513074, 'random_strength': 83.26320323149598, 'scale_pos_weight': 7.820515783320582, 'task_type': 'CPU', 'loss_function': 'Logloss', 'eval_metric': 'AUC', 'od_type': 'Iter', 'od_wait': 40, 'custom_metric': ['AUC'], 'iterations': 400, 'random_seed': 42}\n",
      "evaluated score=0.6304917651443817                                                                                     \n",
      "evaluated 1 times                                                                                                      \n",
      "evaluating params={'learning_rate': 0.7469657190897886, 'max_depth': 6.0, 'colsample_bylevel': 0.8350739741344673, 'bagging_temperature': 41.411863248553836, 'random_strength': 72.77257431773249, 'scale_pos_weight': 7.151559382799706, 'task_type': 'CPU', 'loss_function': 'Logloss', 'eval_metric': 'AUC', 'od_type': 'Iter', 'od_wait': 40, 'custom_metric': ['AUC'], 'iterations': 400, 'random_seed': 42}\n",
      "evaluated score=0.5                                                                                                    \n",
      "evaluated 2 times                                                                                                      \n",
      "evaluating params={'learning_rate': 0.24969398680849822, 'max_depth': 10.0, 'colsample_bylevel': 0.9320639577324752, 'bagging_temperature': 6.231294084407146, 'random_strength': 88.33152773808621, 'scale_pos_weight': 13.560825333299263, 'task_type': 'CPU', 'loss_function': 'Logloss', 'eval_metric': 'AUC', 'od_type': 'Iter', 'od_wait': 40, 'custom_metric': ['AUC'], 'iterations': 400, 'random_seed': 42}\n",
      "evaluated score=0.646328594256263                                                                                      \n",
      "evaluated 3 times                                                                                                      \n",
      "evaluating params={'learning_rate': 0.09283873525663582, 'max_depth': 7.0, 'colsample_bylevel': 0.5939775931836743, 'bagging_temperature': 45.366534380629886, 'random_strength': 91.87225216693768, 'scale_pos_weight': 7.672487684517276, 'task_type': 'CPU', 'loss_function': 'Logloss', 'eval_metric': 'AUC', 'od_type': 'Iter', 'od_wait': 40, 'custom_metric': ['AUC'], 'iterations': 400, 'random_seed': 42}\n",
      "evaluated score=0.5                                                                                                    \n",
      "evaluated 4 times                                                                                                      \n",
      "evaluating params={'learning_rate': 0.4824571912345811, 'max_depth': 9.0, 'colsample_bylevel': 0.7615261640271918, 'bagging_temperature': 9.545503921499343, 'random_strength': 17.187156139656068, 'scale_pos_weight': 13.185939825360448, 'task_type': 'CPU', 'loss_function': 'Logloss', 'eval_metric': 'AUC', 'od_type': 'Iter', 'od_wait': 40, 'custom_metric': ['AUC'], 'iterations': 400, 'random_seed': 42}\n",
      "evaluated score=0.6125370160876137                                                                                     \n",
      "evaluated 5 times                                                                                                      \n",
      "evaluating params={'learning_rate': 0.426029987330877, 'max_depth': 8.0, 'colsample_bylevel': 0.9519260362533433, 'bagging_temperature': 71.70311511598368, 'random_strength': 43.80291864409232, 'scale_pos_weight': 12.993301624107593, 'task_type': 'CPU', 'loss_function': 'Logloss', 'eval_metric': 'AUC', 'od_type': 'Iter', 'od_wait': 40, 'custom_metric': ['AUC'], 'iterations': 400, 'random_seed': 42}\n",
      "evaluated score=0.5                                                                                                    \n",
      "evaluated 6 times                                                                                                      \n",
      "evaluating params={'learning_rate': 0.1392496711244547, 'max_depth': 5.0, 'colsample_bylevel': 0.9002516157283724, 'bagging_temperature': 37.25797779832578, 'random_strength': 93.93697376027716, 'scale_pos_weight': 12.010420269783523, 'task_type': 'CPU', 'loss_function': 'Logloss', 'eval_metric': 'AUC', 'od_type': 'Iter', 'od_wait': 40, 'custom_metric': ['AUC'], 'iterations': 400, 'random_seed': 42}\n",
      "evaluated score=0.5                                                                                                    \n",
      "evaluated 7 times                                                                                                      \n",
      "evaluating params={'learning_rate': 0.2936281162179091, 'max_depth': 9.0, 'colsample_bylevel': 0.7963098376527838, 'bagging_temperature': 59.462003508683836, 'random_strength': 77.53643788278823, 'scale_pos_weight': 10.256190377534743, 'task_type': 'CPU', 'loss_function': 'Logloss', 'eval_metric': 'AUC', 'od_type': 'Iter', 'od_wait': 40, 'custom_metric': ['AUC'], 'iterations': 400, 'random_seed': 42}\n",
      "evaluated score=0.5                                                                                                    \n",
      "evaluated 8 times                                                                                                      \n",
      "evaluating params={'learning_rate': 0.40220869584140617, 'max_depth': 9.0, 'colsample_bylevel': 0.6620299911421867, 'bagging_temperature': 5.1134553677051775, 'random_strength': 92.00092264373161, 'scale_pos_weight': 9.151046015354687, 'task_type': 'CPU', 'loss_function': 'Logloss', 'eval_metric': 'AUC', 'od_type': 'Iter', 'od_wait': 40, 'custom_metric': ['AUC'], 'iterations': 400, 'random_seed': 42}\n",
      "evaluated score=0.5852575557363617                                                                                     \n",
      "evaluated 9 times                                                                                                      \n",
      "evaluating params={'learning_rate': 0.6986050234859398, 'max_depth': 6.0, 'colsample_bylevel': 0.6905323823987464, 'bagging_temperature': 21.14142872741962, 'random_strength': 70.06214446213659, 'scale_pos_weight': 15.332169794648921, 'task_type': 'CPU', 'loss_function': 'Logloss', 'eval_metric': 'AUC', 'od_type': 'Iter', 'od_wait': 40, 'custom_metric': ['AUC'], 'iterations': 400, 'random_seed': 42}\n",
      "evaluated score=0.6106550982886358                                                                                     \n",
      "evaluated 10 times                                                                                                     \n",
      "evaluating params={'learning_rate': 0.5956133680507415, 'max_depth': 6.0, 'colsample_bylevel': 0.7893321681141924, 'bagging_temperature': 27.47148488354174, 'random_strength': 81.78300196637514, 'scale_pos_weight': 1.0544546088211484, 'task_type': 'CPU', 'loss_function': 'Logloss', 'eval_metric': 'AUC', 'od_type': 'Iter', 'od_wait': 40, 'custom_metric': ['AUC'], 'iterations': 400, 'random_seed': 42}\n",
      "evaluated score=0.6334741177703809                                                                                     \n",
      "evaluated 11 times                                                                                                     \n",
      "evaluating params={'learning_rate': 0.39434590071428977, 'max_depth': 7.0, 'colsample_bylevel': 0.6816015479755677, 'bagging_temperature': 71.93764256573532, 'random_strength': 35.84815225733641, 'scale_pos_weight': 14.18703830797068, 'task_type': 'CPU', 'loss_function': 'Logloss', 'eval_metric': 'AUC', 'od_type': 'Iter', 'od_wait': 40, 'custom_metric': ['AUC'], 'iterations': 400, 'random_seed': 42}\n",
      "evaluated score=0.5                                                                                                    \n",
      "evaluated 12 times                                                                                                     \n",
      "evaluating params={'learning_rate': 0.7685649503580674, 'max_depth': 6.0, 'colsample_bylevel': 0.7455551022408217, 'bagging_temperature': 38.60707574736531, 'random_strength': 30.725816388873938, 'scale_pos_weight': 14.222176264494117, 'task_type': 'CPU', 'loss_function': 'Logloss', 'eval_metric': 'AUC', 'od_type': 'Iter', 'od_wait': 40, 'custom_metric': ['AUC'], 'iterations': 400, 'random_seed': 42}\n"
     ]
    },
    {
     "name": "stdout",
     "output_type": "stream",
     "text": [
      "evaluated score=0.5                                                                                                    \n",
      "evaluated 13 times                                                                                                     \n",
      "evaluating params={'learning_rate': 0.6816071034106231, 'max_depth': 6.0, 'colsample_bylevel': 0.8987194012367643, 'bagging_temperature': 17.39917225073908, 'random_strength': 1.3183035637853835, 'scale_pos_weight': 8.906647116199107, 'task_type': 'CPU', 'loss_function': 'Logloss', 'eval_metric': 'AUC', 'od_type': 'Iter', 'od_wait': 40, 'custom_metric': ['AUC'], 'iterations': 400, 'random_seed': 42}\n",
      "evaluated score=0.634674443641393                                                                                      \n",
      "evaluated 14 times                                                                                                     \n",
      "evaluating params={'learning_rate': 0.19800717762087047, 'max_depth': 7.0, 'colsample_bylevel': 0.6308684032130806, 'bagging_temperature': 9.749591346538377, 'random_strength': 92.09817283659105, 'scale_pos_weight': 10.555510471361897, 'task_type': 'CPU', 'loss_function': 'Logloss', 'eval_metric': 'AUC', 'od_type': 'Iter', 'od_wait': 40, 'custom_metric': ['AUC'], 'iterations': 400, 'random_seed': 42}\n",
      "evaluated score=0.6225742151622233                                                                                     \n",
      "evaluated 15 times                                                                                                     \n",
      "evaluating params={'learning_rate': 0.30176937784286434, 'max_depth': 8.0, 'colsample_bylevel': 0.5144422625256673, 'bagging_temperature': 0.4971188920065317, 'random_strength': 64.00100015740247, 'scale_pos_weight': 9.750539284627434, 'task_type': 'CPU', 'loss_function': 'Logloss', 'eval_metric': 'AUC', 'od_type': 'Iter', 'od_wait': 40, 'custom_metric': ['AUC'], 'iterations': 400, 'random_seed': 42}\n",
      "evaluated score=0.5645413458293601                                                                                     \n",
      "evaluated 16 times                                                                                                     \n",
      "evaluating params={'learning_rate': 0.23970194674028295, 'max_depth': 9.0, 'colsample_bylevel': 0.5625745905758681, 'bagging_temperature': 55.627423762114184, 'random_strength': 12.470065927231532, 'scale_pos_weight': 8.73748167895595, 'task_type': 'CPU', 'loss_function': 'Logloss', 'eval_metric': 'AUC', 'od_type': 'Iter', 'od_wait': 40, 'custom_metric': ['AUC'], 'iterations': 400, 'random_seed': 42}\n",
      "evaluated score=0.5                                                                                                    \n",
      "evaluated 17 times                                                                                                     \n",
      "evaluating params={'learning_rate': 0.4012958021261945, 'max_depth': 9.0, 'colsample_bylevel': 0.8455558039385862, 'bagging_temperature': 94.11368288673546, 'random_strength': 68.10391246607139, 'scale_pos_weight': 11.381656781069033, 'task_type': 'CPU', 'loss_function': 'Logloss', 'eval_metric': 'AUC', 'od_type': 'Iter', 'od_wait': 40, 'custom_metric': ['AUC'], 'iterations': 400, 'random_seed': 42}\n",
      "evaluated score=0.5                                                                                                    \n",
      "evaluated 18 times                                                                                                     \n",
      "evaluating params={'learning_rate': 0.6505258556695427, 'max_depth': 8.0, 'colsample_bylevel': 0.9708723155369876, 'bagging_temperature': 67.02496253184057, 'random_strength': 69.46896343853821, 'scale_pos_weight': 5.32207615422222, 'task_type': 'CPU', 'loss_function': 'Logloss', 'eval_metric': 'AUC', 'od_type': 'Iter', 'od_wait': 40, 'custom_metric': ['AUC'], 'iterations': 400, 'random_seed': 42}\n",
      "evaluated score=0.5                                                                                                    \n",
      "evaluated 19 times                                                                                                     \n",
      "evaluating params={'learning_rate': 0.6735075794410379, 'max_depth': 4.0, 'colsample_bylevel': 0.9812939388768891, 'bagging_temperature': 70.5194745389447, 'random_strength': 87.51118984907046, 'scale_pos_weight': 6.966788039978879, 'task_type': 'CPU', 'loss_function': 'Logloss', 'eval_metric': 'AUC', 'od_type': 'Iter', 'od_wait': 40, 'custom_metric': ['AUC'], 'iterations': 400, 'random_seed': 42}\n",
      "evaluated score=0.5                                                                                                    \n",
      "evaluated 20 times                                                                                                     \n",
      "evaluating params={'learning_rate': 0.5734662425089077, 'max_depth': 8.0, 'colsample_bylevel': 0.6304453528545368, 'bagging_temperature': 62.84810666157716, 'random_strength': 73.4104187301871, 'scale_pos_weight': 2.4675261036805853, 'task_type': 'CPU', 'loss_function': 'Logloss', 'eval_metric': 'AUC', 'od_type': 'Iter', 'od_wait': 40, 'custom_metric': ['AUC'], 'iterations': 400, 'random_seed': 42}\n",
      "evaluated score=0.5                                                                                                    \n",
      "evaluated 21 times                                                                                                     \n",
      "evaluating params={'learning_rate': 0.562943674257195, 'max_depth': 5.0, 'colsample_bylevel': 0.5483119512487002, 'bagging_temperature': 13.729876000611597, 'random_strength': 11.917934729048618, 'scale_pos_weight': 7.7437572739136336, 'task_type': 'CPU', 'loss_function': 'Logloss', 'eval_metric': 'AUC', 'od_type': 'Iter', 'od_wait': 40, 'custom_metric': ['AUC'], 'iterations': 400, 'random_seed': 42}\n",
      "evaluated score=0.6156286686384762                                                                                     \n",
      "evaluated 22 times                                                                                                     \n",
      "evaluating params={'learning_rate': 0.30171478622039305, 'max_depth': 8.0, 'colsample_bylevel': 0.5531324082829224, 'bagging_temperature': 19.27527018070495, 'random_strength': 59.32653223463626, 'scale_pos_weight': 5.959256741821097, 'task_type': 'CPU', 'loss_function': 'Logloss', 'eval_metric': 'AUC', 'od_type': 'Iter', 'od_wait': 40, 'custom_metric': ['AUC'], 'iterations': 400, 'random_seed': 42}\n",
      "evaluated score=0.6239805238299679                                                                                     \n",
      "evaluated 23 times                                                                                                     \n",
      "evaluating params={'learning_rate': 0.11097111782120497, 'max_depth': 9.0, 'colsample_bylevel': 0.7409387009901992, 'bagging_temperature': 86.1172196771636, 'random_strength': 15.546845674932808, 'scale_pos_weight': 12.839684626967696, 'task_type': 'CPU', 'loss_function': 'Logloss', 'eval_metric': 'AUC', 'od_type': 'Iter', 'od_wait': 40, 'custom_metric': ['AUC'], 'iterations': 400, 'random_seed': 42}\n",
      "evaluated score=0.5                                                                                                    \n",
      "evaluated 24 times                                                                                                     \n",
      "evaluating params={'learning_rate': 0.11874463606048295, 'max_depth': 8.0, 'colsample_bylevel': 0.9143513727263843, 'bagging_temperature': 52.83445689811619, 'random_strength': 64.16434702146898, 'scale_pos_weight': 14.91359148640431, 'task_type': 'CPU', 'loss_function': 'Logloss', 'eval_metric': 'AUC', 'od_type': 'Iter', 'od_wait': 40, 'custom_metric': ['AUC'], 'iterations': 400, 'random_seed': 42}\n",
      "evaluated score=0.5                                                                                                    \n",
      "evaluated 25 times                                                                                                     \n"
     ]
    },
    {
     "name": "stdout",
     "output_type": "stream",
     "text": [
      "evaluating params={'learning_rate': 0.6990952871256788, 'max_depth': 7.0, 'colsample_bylevel': 0.9886431821208913, 'bagging_temperature': 37.02268496294152, 'random_strength': 30.46124241138234, 'scale_pos_weight': 5.956456248816514, 'task_type': 'CPU', 'loss_function': 'Logloss', 'eval_metric': 'AUC', 'od_type': 'Iter', 'od_wait': 40, 'custom_metric': ['AUC'], 'iterations': 400, 'random_seed': 42}\n",
      "evaluated score=0.5                                                                                                    \n",
      "evaluated 26 times                                                                                                     \n",
      "evaluating params={'learning_rate': 0.24329907330073666, 'max_depth': 8.0, 'colsample_bylevel': 0.7808420826245261, 'bagging_temperature': 20.368720717700416, 'random_strength': 70.4583602067651, 'scale_pos_weight': 13.45498682238244, 'task_type': 'CPU', 'loss_function': 'Logloss', 'eval_metric': 'AUC', 'od_type': 'Iter', 'od_wait': 40, 'custom_metric': ['AUC'], 'iterations': 400, 'random_seed': 42}\n",
      "evaluated score=0.6329793403040663                                                                                     \n",
      "evaluated 27 times                                                                                                     \n",
      "evaluating params={'learning_rate': 0.04086353893886585, 'max_depth': 6.0, 'colsample_bylevel': 0.9572428411764734, 'bagging_temperature': 86.14960210057677, 'random_strength': 0.6965422065443372, 'scale_pos_weight': 10.92660490498745, 'task_type': 'CPU', 'loss_function': 'Logloss', 'eval_metric': 'AUC', 'od_type': 'Iter', 'od_wait': 40, 'custom_metric': ['AUC'], 'iterations': 400, 'random_seed': 42}\n",
      "evaluated score=0.5                                                                                                    \n",
      "evaluated 28 times                                                                                                     \n",
      "evaluating params={'learning_rate': 0.7044181740437416, 'max_depth': 9.0, 'colsample_bylevel': 0.6655150483186099, 'bagging_temperature': 12.738262171620264, 'random_strength': 63.4490889188811, 'scale_pos_weight': 6.314410522320887, 'task_type': 'CPU', 'loss_function': 'Logloss', 'eval_metric': 'AUC', 'od_type': 'Iter', 'od_wait': 40, 'custom_metric': ['AUC'], 'iterations': 400, 'random_seed': 42}\n",
      "evaluated score=0.6577087046251113                                                                                     \n",
      "evaluated 29 times                                                                                                     \n",
      "evaluating params={'learning_rate': 0.6516189553537985, 'max_depth': 6.0, 'colsample_bylevel': 0.5019218012929152, 'bagging_temperature': 53.84241532241949, 'random_strength': 65.00439661591349, 'scale_pos_weight': 10.769804369641149, 'task_type': 'CPU', 'loss_function': 'Logloss', 'eval_metric': 'AUC', 'od_type': 'Iter', 'od_wait': 40, 'custom_metric': ['AUC'], 'iterations': 400, 'random_seed': 42}\n",
      "evaluated score=0.5                                                                                                    \n",
      "evaluated 30 times                                                                                                     \n",
      "evaluating params={'learning_rate': 0.3023023711356902, 'max_depth': 8.0, 'colsample_bylevel': 0.6556457567145959, 'bagging_temperature': 82.24195855857882, 'random_strength': 13.16595920133481, 'scale_pos_weight': 7.37721104605222, 'task_type': 'CPU', 'loss_function': 'Logloss', 'eval_metric': 'AUC', 'od_type': 'Iter', 'od_wait': 40, 'custom_metric': ['AUC'], 'iterations': 400, 'random_seed': 42}\n",
      "evaluated score=0.5                                                                                                    \n",
      "evaluated 31 times                                                                                                     \n",
      "evaluating params={'learning_rate': 0.5644131814496948, 'max_depth': 9.0, 'colsample_bylevel': 0.9097812496257851, 'bagging_temperature': 77.91984817769776, 'random_strength': 31.676869347796277, 'scale_pos_weight': 9.078186015741204, 'task_type': 'CPU', 'loss_function': 'Logloss', 'eval_metric': 'AUC', 'od_type': 'Iter', 'od_wait': 40, 'custom_metric': ['AUC'], 'iterations': 400, 'random_seed': 42}\n",
      "evaluated score=0.5                                                                                                    \n",
      "evaluated 32 times                                                                                                     \n",
      "evaluating params={'learning_rate': 0.5590318303514967, 'max_depth': 8.0, 'colsample_bylevel': 0.8508394625620042, 'bagging_temperature': 42.529710406239154, 'random_strength': 57.568250531790746, 'scale_pos_weight': 2.969163939303326, 'task_type': 'CPU', 'loss_function': 'Logloss', 'eval_metric': 'AUC', 'od_type': 'Iter', 'od_wait': 40, 'custom_metric': ['AUC'], 'iterations': 400, 'random_seed': 42}\n",
      "evaluated score=0.5                                                                                                    \n",
      "evaluated 33 times                                                                                                     \n",
      "evaluating params={'learning_rate': 0.6120026464899954, 'max_depth': 6.0, 'colsample_bylevel': 0.5947476340749828, 'bagging_temperature': 70.96811670294242, 'random_strength': 62.459046032330775, 'scale_pos_weight': 9.04750955110397, 'task_type': 'CPU', 'loss_function': 'Logloss', 'eval_metric': 'AUC', 'od_type': 'Iter', 'od_wait': 40, 'custom_metric': ['AUC'], 'iterations': 400, 'random_seed': 42}\n",
      "evaluated score=0.5                                                                                                    \n",
      "evaluated 34 times                                                                                                     \n",
      "evaluating params={'learning_rate': 0.08691595905882502, 'max_depth': 6.0, 'colsample_bylevel': 0.925738266770135, 'bagging_temperature': 30.082329093344395, 'random_strength': 60.338313715544004, 'scale_pos_weight': 5.894602452232973, 'task_type': 'CPU', 'loss_function': 'Logloss', 'eval_metric': 'AUC', 'od_type': 'Iter', 'od_wait': 40, 'custom_metric': ['AUC'], 'iterations': 400, 'random_seed': 42}\n",
      "evaluated score=0.6305146601496158                                                                                     \n",
      "evaluated 35 times                                                                                                     \n",
      "evaluating params={'learning_rate': 0.42511142589135503, 'max_depth': 7.0, 'colsample_bylevel': 0.7334249774494812, 'bagging_temperature': 48.20077804650612, 'random_strength': 18.40579185712945, 'scale_pos_weight': 9.048359364952153, 'task_type': 'CPU', 'loss_function': 'Logloss', 'eval_metric': 'AUC', 'od_type': 'Iter', 'od_wait': 40, 'custom_metric': ['AUC'], 'iterations': 400, 'random_seed': 42}\n",
      "evaluated score=0.5                                                                                                    \n",
      "evaluated 36 times                                                                                                     \n",
      "evaluating params={'learning_rate': 0.08578380823258902, 'max_depth': 6.0, 'colsample_bylevel': 0.8804363657182184, 'bagging_temperature': 67.95205089825916, 'random_strength': 49.65738663401596, 'scale_pos_weight': 7.496472632910514, 'task_type': 'CPU', 'loss_function': 'Logloss', 'eval_metric': 'AUC', 'od_type': 'Iter', 'od_wait': 40, 'custom_metric': ['AUC'], 'iterations': 400, 'random_seed': 42}\n",
      "evaluated score=0.5                                                                                                    \n",
      "evaluated 37 times                                                                                                     \n",
      "evaluating params={'learning_rate': 0.19989098684426826, 'max_depth': 6.0, 'colsample_bylevel': 0.5504896649264421, 'bagging_temperature': 35.25539025632924, 'random_strength': 75.14004257971514, 'scale_pos_weight': 13.77923061324646, 'task_type': 'CPU', 'loss_function': 'Logloss', 'eval_metric': 'AUC', 'od_type': 'Iter', 'od_wait': 40, 'custom_metric': ['AUC'], 'iterations': 400, 'random_seed': 42}\n"
     ]
    },
    {
     "name": "stdout",
     "output_type": "stream",
     "text": [
      "evaluated score=0.614419286417737                                                                                      \n",
      "evaluated 38 times                                                                                                     \n",
      "evaluating params={'learning_rate': 0.3176903626733709, 'max_depth': 5.0, 'colsample_bylevel': 0.7576107737512063, 'bagging_temperature': 69.77740837456095, 'random_strength': 3.7277118258843833, 'scale_pos_weight': 11.63786487812268, 'task_type': 'CPU', 'loss_function': 'Logloss', 'eval_metric': 'AUC', 'od_type': 'Iter', 'od_wait': 40, 'custom_metric': ['AUC'], 'iterations': 400, 'random_seed': 42}\n",
      "evaluated score=0.5                                                                                                    \n",
      "evaluated 39 times                                                                                                     \n",
      "evaluating params={'learning_rate': 0.5116330929422992, 'max_depth': 6.0, 'colsample_bylevel': 0.6881294671910385, 'bagging_temperature': 49.663835413421864, 'random_strength': 79.52631814690415, 'scale_pos_weight': 15.079604804299631, 'task_type': 'CPU', 'loss_function': 'Logloss', 'eval_metric': 'AUC', 'od_type': 'Iter', 'od_wait': 40, 'custom_metric': ['AUC'], 'iterations': 400, 'random_seed': 42}\n",
      "evaluated score=0.5                                                                                                    \n",
      "evaluated 40 times                                                                                                     \n",
      "evaluating params={'learning_rate': 0.30611892615023495, 'max_depth': 5.0, 'colsample_bylevel': 0.6679211768749299, 'bagging_temperature': 6.7371898726728325, 'random_strength': 90.23295140820429, 'scale_pos_weight': 4.251934608050318, 'task_type': 'CPU', 'loss_function': 'Logloss', 'eval_metric': 'AUC', 'od_type': 'Iter', 'od_wait': 40, 'custom_metric': ['AUC'], 'iterations': 400, 'random_seed': 42}\n",
      "evaluated score=0.5861558396881207                                                                                     \n",
      "evaluated 41 times                                                                                                     \n",
      "evaluating params={'learning_rate': 0.30641269670985033, 'max_depth': 4.0, 'colsample_bylevel': 0.8499749370450363, 'bagging_temperature': 75.10349109199097, 'random_strength': 70.83825544375651, 'scale_pos_weight': 8.17207067063337, 'task_type': 'CPU', 'loss_function': 'Logloss', 'eval_metric': 'AUC', 'od_type': 'Iter', 'od_wait': 40, 'custom_metric': ['AUC'], 'iterations': 400, 'random_seed': 42}\n",
      "evaluated score=0.5                                                                                                    \n",
      "evaluated 42 times                                                                                                     \n",
      "evaluating params={'learning_rate': 0.4279413325594994, 'max_depth': 8.0, 'colsample_bylevel': 0.6846162493945316, 'bagging_temperature': 85.15570966410692, 'random_strength': 25.676623887620707, 'scale_pos_weight': 9.195512705198349, 'task_type': 'CPU', 'loss_function': 'Logloss', 'eval_metric': 'AUC', 'od_type': 'Iter', 'od_wait': 40, 'custom_metric': ['AUC'], 'iterations': 400, 'random_seed': 42}\n",
      "evaluated score=0.5                                                                                                    \n",
      "evaluated 43 times                                                                                                     \n",
      "evaluating params={'learning_rate': 0.7580299444808133, 'max_depth': 10.0, 'colsample_bylevel': 0.6560654544857116, 'bagging_temperature': 9.606602573184976, 'random_strength': 38.07157402345723, 'scale_pos_weight': 15.44322039696387, 'task_type': 'CPU', 'loss_function': 'Logloss', 'eval_metric': 'AUC', 'od_type': 'Iter', 'od_wait': 40, 'custom_metric': ['AUC'], 'iterations': 400, 'random_seed': 42}\n",
      "evaluated score=0.6278470590160606                                                                                     \n",
      "evaluated 44 times                                                                                                     \n",
      "evaluating params={'learning_rate': 0.20930792475812623, 'max_depth': 10.0, 'colsample_bylevel': 0.5886668909032519, 'bagging_temperature': 34.823504904022414, 'random_strength': 78.52734938376074, 'scale_pos_weight': 10.205598741673892, 'task_type': 'CPU', 'loss_function': 'Logloss', 'eval_metric': 'AUC', 'od_type': 'Iter', 'od_wait': 40, 'custom_metric': ['AUC'], 'iterations': 400, 'random_seed': 42}\n",
      "evaluated score=0.6327519193458248                                                                                     \n",
      "evaluated 45 times                                                                                                     \n",
      "evaluating params={'learning_rate': 0.03690584752959317, 'max_depth': 5.0, 'colsample_bylevel': 0.7383440484332322, 'bagging_temperature': 2.4179327359312053, 'random_strength': 96.96509583621922, 'scale_pos_weight': 5.643577706454599, 'task_type': 'CPU', 'loss_function': 'Logloss', 'eval_metric': 'AUC', 'od_type': 'Iter', 'od_wait': 40, 'custom_metric': ['AUC'], 'iterations': 400, 'random_seed': 42}\n",
      "evaluated score=0.5344580626483139                                                                                     \n",
      "evaluated 46 times                                                                                                     \n",
      "evaluating params={'learning_rate': 0.6611656132549413, 'max_depth': 7.0, 'colsample_bylevel': 0.5126036962879645, 'bagging_temperature': 38.976526645092015, 'random_strength': 25.530311192309473, 'scale_pos_weight': 5.4630110310181985, 'task_type': 'CPU', 'loss_function': 'Logloss', 'eval_metric': 'AUC', 'od_type': 'Iter', 'od_wait': 40, 'custom_metric': ['AUC'], 'iterations': 400, 'random_seed': 42}\n",
      "evaluated score=0.5                                                                                                    \n",
      "evaluated 47 times                                                                                                     \n",
      "evaluating params={'learning_rate': 0.7512715308588567, 'max_depth': 5.0, 'colsample_bylevel': 0.5949353001936417, 'bagging_temperature': 47.64867445075578, 'random_strength': 97.92804334722808, 'scale_pos_weight': 1.062446140424417, 'task_type': 'CPU', 'loss_function': 'Logloss', 'eval_metric': 'AUC', 'od_type': 'Iter', 'od_wait': 40, 'custom_metric': ['AUC'], 'iterations': 400, 'random_seed': 42}\n",
      "evaluated score=0.5                                                                                                    \n",
      "evaluated 48 times                                                                                                     \n",
      "evaluating params={'learning_rate': 0.016566017126364248, 'max_depth': 7.0, 'colsample_bylevel': 0.8216931897786428, 'bagging_temperature': 14.776484063446116, 'random_strength': 87.66639642845378, 'scale_pos_weight': 15.28714079131189, 'task_type': 'CPU', 'loss_function': 'Logloss', 'eval_metric': 'AUC', 'od_type': 'Iter', 'od_wait': 40, 'custom_metric': ['AUC'], 'iterations': 400, 'random_seed': 42}\n",
      "evaluated score=0.6121867634444002                                                                                     \n",
      "evaluated 49 times                                                                                                     \n",
      "evaluating params={'learning_rate': 0.698766863396429, 'max_depth': 8.0, 'colsample_bylevel': 0.6857782082163167, 'bagging_temperature': 17.998987540853896, 'random_strength': 35.37693915300544, 'scale_pos_weight': 15.817197733911794, 'task_type': 'CPU', 'loss_function': 'Logloss', 'eval_metric': 'AUC', 'od_type': 'Iter', 'od_wait': 40, 'custom_metric': ['AUC'], 'iterations': 400, 'random_seed': 42}\n",
      "evaluated score=0.6146432418098432                                                                                     \n",
      "evaluated 50 times                                                                                                     \n",
      "100%|███████████████████████████████████████████████| 50/50 [2:02:31<00:00, 233.73s/it, best loss: -0.6577087046251113]\n"
     ]
    },
    {
     "name": "stderr",
     "output_type": "stream",
     "text": [
      "Warning: Custom metrics will not be evaluated because there are no test datasets\n"
     ]
    }
   ],
   "source": [
    "model, params = train_best_model(\n",
    "    train_pool, \n",
    "    const_params, \n",
    "    max_evals=hyperopt_iterations, \n",
    "    use_default=use_optimal_pretrained_params)"
   ]
  },
  {
   "cell_type": "code",
   "execution_count": 261,
   "metadata": {},
   "outputs": [
    {
     "data": {
      "text/plain": [
       "{'depth': 7.0,\n",
       " 'l2_leaf_reg': 4.2312063872926355,\n",
       " 'learning_rate': 0.29621731293760284,\n",
       " 'rsm': 0.904269839625579,\n",
       " 'task_type': 'CPU',\n",
       " 'loss_function': 'Logloss',\n",
       " 'eval_metric': 'AUC',\n",
       " 'od_type': 'Iter',\n",
       " 'od_wait': 40,\n",
       " 'custom_metric': ['AUC'],\n",
       " 'iterations': 400,\n",
       " 'random_seed': 42}"
      ]
     },
     "execution_count": 261,
     "metadata": {},
     "output_type": "execute_result"
    }
   ],
   "source": [
    "params"
   ]
  },
  {
   "cell_type": "code",
   "execution_count": 104,
   "metadata": {},
   "outputs": [
    {
     "name": "stdout",
     "output_type": "stream",
     "text": [
      "ROC-AUC score:  0.6600437673877269\n"
     ]
    },
    {
     "data": {
      "image/png": "[encoded data removed]",
      "text/plain": [
       "<Figure size 432x288 with 1 Axes>"
      ]
     },
     "metadata": {
      "needs_background": "light"
     },
     "output_type": "display_data"
    }
   ],
   "source": [
    "plot_roc(model, x_test, y_test)"
   ]
  },
  {
   "cell_type": "code",
   "execution_count": 105,
   "metadata": {},
   "outputs": [
    {
     "name": "stdout",
     "output_type": "stream",
     "text": [
      "Recall: 0.98\n",
      "Precision score: 0.79\n",
      "Accuracy score: 0.78\n"
     ]
    }
   ],
   "source": [
    "show_scores(model, x_test, y_test)"
   ]
  },
  {
   "cell_type": "code",
   "execution_count": 106,
   "metadata": {},
   "outputs": [
    {
     "name": "stdout",
     "output_type": "stream",
     "text": [
      "0:\ttest: 0.6506187\tbest: 0.6506187 (0)\ttotal: 198ms\tremaining: 1m 18s\n",
      "1:\ttest: 0.6616630\tbest: 0.6616630 (1)\ttotal: 386ms\tremaining: 1m 16s\n",
      "2:\ttest: 0.6870829\tbest: 0.6870829 (2)\ttotal: 572ms\tremaining: 1m 15s\n",
      "3:\ttest: 0.6914128\tbest: 0.6914128 (3)\ttotal: 780ms\tremaining: 1m 17s\n",
      "4:\ttest: 0.6922081\tbest: 0.6922081 (4)\ttotal: 986ms\tremaining: 1m 17s\n",
      "5:\ttest: 0.6935561\tbest: 0.6935561 (5)\ttotal: 1.16s\tremaining: 1m 16s\n",
      "6:\ttest: 0.6935872\tbest: 0.6935872 (6)\ttotal: 1.34s\tremaining: 1m 15s\n",
      "7:\ttest: 0.6936241\tbest: 0.6936241 (7)\ttotal: 1.53s\tremaining: 1m 14s\n",
      "8:\ttest: 0.6934693\tbest: 0.6936241 (7)\ttotal: 1.72s\tremaining: 1m 14s\n",
      "9:\ttest: 0.6940850\tbest: 0.6940850 (9)\ttotal: 1.92s\tremaining: 1m 14s\n",
      "10:\ttest: 0.6940632\tbest: 0.6940850 (9)\ttotal: 2.1s\tremaining: 1m 14s\n",
      "11:\ttest: 0.6955371\tbest: 0.6955371 (11)\ttotal: 2.29s\tremaining: 1m 13s\n",
      "12:\ttest: 0.6951506\tbest: 0.6955371 (11)\ttotal: 2.5s\tremaining: 1m 14s\n",
      "13:\ttest: 0.6948797\tbest: 0.6955371 (11)\ttotal: 2.7s\tremaining: 1m 14s\n",
      "14:\ttest: 0.6953702\tbest: 0.6955371 (11)\ttotal: 2.89s\tremaining: 1m 14s\n",
      "15:\ttest: 0.6953429\tbest: 0.6955371 (11)\ttotal: 3.08s\tremaining: 1m 14s\n",
      "16:\ttest: 0.6961491\tbest: 0.6961491 (16)\ttotal: 3.27s\tremaining: 1m 13s\n",
      "17:\ttest: 0.6964382\tbest: 0.6964382 (17)\ttotal: 3.46s\tremaining: 1m 13s\n",
      "18:\ttest: 0.6965644\tbest: 0.6965644 (18)\ttotal: 3.66s\tremaining: 1m 13s\n",
      "19:\ttest: 0.6967451\tbest: 0.6967451 (19)\ttotal: 3.84s\tremaining: 1m 12s\n",
      "20:\ttest: 0.6967190\tbest: 0.6967451 (19)\ttotal: 4.01s\tremaining: 1m 12s\n",
      "21:\ttest: 0.6967943\tbest: 0.6967943 (21)\ttotal: 4.2s\tremaining: 1m 12s\n",
      "22:\ttest: 0.6960823\tbest: 0.6967943 (21)\ttotal: 4.4s\tremaining: 1m 12s\n",
      "23:\ttest: 0.6967233\tbest: 0.6967943 (21)\ttotal: 4.59s\tremaining: 1m 11s\n",
      "24:\ttest: 0.6967217\tbest: 0.6967943 (21)\ttotal: 4.79s\tremaining: 1m 11s\n",
      "25:\ttest: 0.6972011\tbest: 0.6972011 (25)\ttotal: 4.97s\tremaining: 1m 11s\n",
      "26:\ttest: 0.6969816\tbest: 0.6972011 (25)\ttotal: 5.16s\tremaining: 1m 11s\n",
      "27:\ttest: 0.6968772\tbest: 0.6972011 (25)\ttotal: 5.35s\tremaining: 1m 11s\n",
      "28:\ttest: 0.6965855\tbest: 0.6972011 (25)\ttotal: 5.54s\tremaining: 1m 10s\n",
      "29:\ttest: 0.6964437\tbest: 0.6972011 (25)\ttotal: 5.73s\tremaining: 1m 10s\n",
      "30:\ttest: 0.6960671\tbest: 0.6972011 (25)\ttotal: 5.92s\tremaining: 1m 10s\n",
      "31:\ttest: 0.6954012\tbest: 0.6972011 (25)\ttotal: 6.13s\tremaining: 1m 10s\n",
      "32:\ttest: 0.6948396\tbest: 0.6972011 (25)\ttotal: 6.32s\tremaining: 1m 10s\n",
      "33:\ttest: 0.6945318\tbest: 0.6972011 (25)\ttotal: 6.51s\tremaining: 1m 10s\n",
      "34:\ttest: 0.6944513\tbest: 0.6972011 (25)\ttotal: 6.7s\tremaining: 1m 9s\n",
      "35:\ttest: 0.6946223\tbest: 0.6972011 (25)\ttotal: 6.9s\tremaining: 1m 9s\n",
      "36:\ttest: 0.6942966\tbest: 0.6972011 (25)\ttotal: 7.08s\tremaining: 1m 9s\n",
      "37:\ttest: 0.6937896\tbest: 0.6972011 (25)\ttotal: 7.26s\tremaining: 1m 9s\n",
      "38:\ttest: 0.6934570\tbest: 0.6972011 (25)\ttotal: 7.45s\tremaining: 1m 8s\n",
      "39:\ttest: 0.6933539\tbest: 0.6972011 (25)\ttotal: 7.65s\tremaining: 1m 8s\n",
      "40:\ttest: 0.6932984\tbest: 0.6972011 (25)\ttotal: 7.83s\tremaining: 1m 8s\n",
      "41:\ttest: 0.6933757\tbest: 0.6972011 (25)\ttotal: 8.01s\tremaining: 1m 8s\n",
      "42:\ttest: 0.6933932\tbest: 0.6972011 (25)\ttotal: 8.2s\tremaining: 1m 8s\n",
      "43:\ttest: 0.6930629\tbest: 0.6972011 (25)\ttotal: 8.39s\tremaining: 1m 7s\n",
      "44:\ttest: 0.6928429\tbest: 0.6972011 (25)\ttotal: 8.57s\tremaining: 1m 7s\n",
      "45:\ttest: 0.6929344\tbest: 0.6972011 (25)\ttotal: 8.77s\tremaining: 1m 7s\n",
      "46:\ttest: 0.6927671\tbest: 0.6972011 (25)\ttotal: 8.95s\tremaining: 1m 7s\n",
      "47:\ttest: 0.6927644\tbest: 0.6972011 (25)\ttotal: 9.13s\tremaining: 1m 6s\n",
      "48:\ttest: 0.6926690\tbest: 0.6972011 (25)\ttotal: 9.31s\tremaining: 1m 6s\n",
      "49:\ttest: 0.6924316\tbest: 0.6972011 (25)\ttotal: 9.49s\tremaining: 1m 6s\n",
      "50:\ttest: 0.6920221\tbest: 0.6972011 (25)\ttotal: 9.67s\tremaining: 1m 6s\n",
      "51:\ttest: 0.6918023\tbest: 0.6972011 (25)\ttotal: 9.87s\tremaining: 1m 6s\n",
      "52:\ttest: 0.6920087\tbest: 0.6972011 (25)\ttotal: 10.1s\tremaining: 1m 5s\n",
      "53:\ttest: 0.6918821\tbest: 0.6972011 (25)\ttotal: 10.3s\tremaining: 1m 5s\n",
      "54:\ttest: 0.6913599\tbest: 0.6972011 (25)\ttotal: 10.4s\tremaining: 1m 5s\n",
      "55:\ttest: 0.6910231\tbest: 0.6972011 (25)\ttotal: 10.6s\tremaining: 1m 5s\n",
      "56:\ttest: 0.6909898\tbest: 0.6972011 (25)\ttotal: 10.8s\tremaining: 1m 5s\n",
      "57:\ttest: 0.6906973\tbest: 0.6972011 (25)\ttotal: 11s\tremaining: 1m 4s\n",
      "58:\ttest: 0.6905533\tbest: 0.6972011 (25)\ttotal: 11.2s\tremaining: 1m 4s\n",
      "59:\ttest: 0.6903451\tbest: 0.6972011 (25)\ttotal: 11.4s\tremaining: 1m 4s\n",
      "60:\ttest: 0.6902949\tbest: 0.6972011 (25)\ttotal: 11.6s\tremaining: 1m 4s\n",
      "61:\ttest: 0.6900010\tbest: 0.6972011 (25)\ttotal: 11.8s\tremaining: 1m 4s\n",
      "62:\ttest: 0.6901998\tbest: 0.6972011 (25)\ttotal: 12s\tremaining: 1m 4s\n",
      "63:\ttest: 0.6892845\tbest: 0.6972011 (25)\ttotal: 12.2s\tremaining: 1m 3s\n",
      "64:\ttest: 0.6889712\tbest: 0.6972011 (25)\ttotal: 12.3s\tremaining: 1m 3s\n",
      "65:\ttest: 0.6888930\tbest: 0.6972011 (25)\ttotal: 12.5s\tremaining: 1m 3s\n",
      "Stopped by overfitting detector  (40 iterations wait)\n",
      "\n",
      "bestTest = 0.6972010725\n",
      "bestIteration = 25\n",
      "\n",
      "Shrink model to first 26 iterations.\n"
     ]
    }
   ],
   "source": [
    "best_model_params = params.copy()\n",
    "best_model = CatBoostClassifier(**best_model_params)\n",
    "best_model.fit(train_pool, eval_set=validate_pool);"
   ]
  },
  {
   "cell_type": "code",
   "execution_count": 107,
   "metadata": {},
   "outputs": [
    {
     "name": "stdout",
     "output_type": "stream",
     "text": [
      "int_rate: 25.972716175084315\n",
      "dti: 11.031957842542475\n",
      "annual_inc: 8.472242449932239\n",
      "sub_grade: 6.462579401078634\n",
      "total_acc: 6.1212014051391215\n",
      "installment: 6.034723638012342\n",
      "revol_util: 6.0337568882955335\n",
      "tot_cur_bal: 5.1400669982907035\n",
      "term: 4.536905142706872\n",
      "revol_bal: 3.4909984431866565\n",
      "loan_amnt: 2.8725740327126212\n",
      "open_acc: 2.726149596281768\n",
      "total_rev_hi_lim: 2.702060545235106\n",
      "initial_list_status: 2.304980919731754\n",
      "tot_coll_amt: 1.9502617844433556\n",
      "purpose: 1.8085408452516178\n",
      "inq_last_6mths: 1.58969784576102\n",
      "home_ownership: 0.7485860463138752\n",
      "verification_status: 0.0\n"
     ]
    }
   ],
   "source": [
    "feature_importances = best_model.get_feature_importance(train_pool)\n",
    "feature_names = x_train.columns\n",
    "top = []\n",
    "for score, name in sorted(zip(feature_importances, feature_names), reverse=True):\n",
    "    top.append(name)\n",
    "    print('{}: {}'.format(name, score))"
   ]
  },
  {
   "cell_type": "code",
   "execution_count": 108,
   "metadata": {},
   "outputs": [
    {
     "name": "stdout",
     "output_type": "stream",
     "text": [
      "<class 'pandas.core.frame.DataFrame'>\n",
      "RangeIndex: 200189 entries, 0 to 200188\n",
      "Data columns (total 19 columns):\n",
      "annual_inc             200189 non-null float64\n",
      "verification_status    200189 non-null object\n",
      "int_rate               200189 non-null float64\n",
      "initial_list_status    200189 non-null object\n",
      "term                   200189 non-null object\n",
      "installment            200189 non-null float64\n",
      "open_acc               200189 non-null float64\n",
      "total_acc              200189 non-null float64\n",
      "dti                    200189 non-null float64\n",
      "purpose                200189 non-null object\n",
      "tot_cur_bal            152232 non-null float64\n",
      "sub_grade              200189 non-null object\n",
      "home_ownership         200189 non-null object\n",
      "inq_last_6mths         200189 non-null float64\n",
      "total_rev_hi_lim       152232 non-null float64\n",
      "revol_bal              200189 non-null float64\n",
      "revol_util             200035 non-null float64\n",
      "tot_coll_amt           152232 non-null float64\n",
      "loan_amnt              200189 non-null float64\n",
      "dtypes: float64(13), object(6)\n",
      "memory usage: 29.0+ MB\n"
     ]
    }
   ],
   "source": [
    "x = train.loc[:,['annual_inc','verification_status','int_rate','initial_list_status','term',\n",
    "                 'installment','open_acc','total_acc','dti','purpose','tot_cur_bal',\n",
    "                 'sub_grade','home_ownership','inq_last_6mths','total_rev_hi_lim',\n",
    "                 'revol_bal','revol_util',\n",
    "                 'tot_coll_amt','loan_amnt',] ] # параметры\n",
    "x.drop(top[-1], axis=1)\n",
    "x.info()"
   ]
  },
  {
   "cell_type": "code",
   "execution_count": 109,
   "metadata": {},
   "outputs": [
    {
     "name": "stdout",
     "output_type": "stream",
     "text": [
      "<class 'pandas.core.frame.DataFrame'>\n",
      "RangeIndex: 200189 entries, 0 to 200188\n",
      "Data columns (total 19 columns):\n",
      "annual_inc             200189 non-null float64\n",
      "verification_status    200189 non-null object\n",
      "int_rate               200189 non-null float64\n",
      "initial_list_status    200189 non-null object\n",
      "term                   200189 non-null object\n",
      "installment            200189 non-null float64\n",
      "open_acc               200189 non-null float64\n",
      "total_acc              200189 non-null float64\n",
      "dti                    200189 non-null float64\n",
      "purpose                200189 non-null object\n",
      "tot_cur_bal            152232 non-null float64\n",
      "sub_grade              200189 non-null object\n",
      "home_ownership         200189 non-null object\n",
      "inq_last_6mths         200189 non-null float64\n",
      "total_rev_hi_lim       152232 non-null float64\n",
      "revol_bal              200189 non-null float64\n",
      "revol_util             200035 non-null float64\n",
      "tot_coll_amt           152232 non-null float64\n",
      "loan_amnt              200189 non-null float64\n",
      "dtypes: float64(13), object(6)\n",
      "memory usage: 29.0+ MB\n"
     ]
    }
   ],
   "source": [
    "#NaN killer\n",
    "Nan_killer(x)\n",
    "x.info()"
   ]
  },
  {
   "cell_type": "code",
   "execution_count": 110,
   "metadata": {},
   "outputs": [
    {
     "data": {
      "text/plain": [
       "Index(['verification_status', 'initial_list_status', 'purpose',\n",
       "       'home_ownership'],\n",
       "      dtype='object')"
      ]
     },
     "execution_count": 110,
     "metadata": {},
     "output_type": "execute_result"
    }
   ],
   "source": [
    "categorical_features_names = x.columns[x_train.dtypes == 'object']\n",
    "categorical_features_names"
   ]
  },
  {
   "cell_type": "code",
   "execution_count": 111,
   "metadata": {},
   "outputs": [],
   "source": [
    "categorical_features_indices = [x.columns.get_loc(i) for i in categorical_features_names]"
   ]
  },
  {
   "cell_type": "code",
   "execution_count": 112,
   "metadata": {},
   "outputs": [],
   "source": [
    "if 'purpose' in categorical_features_names:\n",
    "    x['purpose'] = x['purpose'].astype(str).map(lambda x: 'other' if x in ['educational', 'renewable_energy','vacation','house','wedding','moving','medical','car','small_business','major_purchase'] else x)"
   ]
  },
  {
   "cell_type": "code",
   "execution_count": 113,
   "metadata": {},
   "outputs": [],
   "source": [
    "if 'term' in categorical_features_names:\n",
    "    x['term'] = x['term'].astype(str).map(lambda x: 36 if x == ' 36 months' else 60)"
   ]
  },
  {
   "cell_type": "code",
   "execution_count": 114,
   "metadata": {},
   "outputs": [],
   "source": [
    "if 'sub_grade' in categorical_features_names:\n",
    "    x['sub_grade'] = x['sub_grade'].astype('str').map(lambda x: ord(x[0])*10 + int(x[1]))\n"
   ]
  },
  {
   "cell_type": "code",
   "execution_count": 115,
   "metadata": {},
   "outputs": [],
   "source": [
    "x_train, x_test, y_train, y_test = train_test_split(x, y, test_size=0.3, random_state = 42)"
   ]
  },
  {
   "cell_type": "code",
   "execution_count": 116,
   "metadata": {},
   "outputs": [
    {
     "data": {
      "text/plain": [
       "Index(['verification_status', 'initial_list_status', 'term', 'purpose',\n",
       "       'sub_grade', 'home_ownership'],\n",
       "      dtype='object')"
      ]
     },
     "execution_count": 116,
     "metadata": {},
     "output_type": "execute_result"
    }
   ],
   "source": [
    "categorical_features_names = x_train.columns[x_train.dtypes == 'object']\n",
    "categorical_features_names"
   ]
  },
  {
   "cell_type": "code",
   "execution_count": 117,
   "metadata": {},
   "outputs": [
    {
     "data": {
      "text/plain": [
       "[1, 3, 4, 9, 11, 12]"
      ]
     },
     "execution_count": 117,
     "metadata": {},
     "output_type": "execute_result"
    }
   ],
   "source": [
    "categorical_features_indices = [x_train.columns.get_loc(i) for i in categorical_features_names]\n",
    "categorical_features_indices"
   ]
  },
  {
   "cell_type": "code",
   "execution_count": 118,
   "metadata": {},
   "outputs": [],
   "source": [
    "train_pool = Pool(x_train, y_train, cat_features=categorical_features_indices)\n",
    "validate_pool = Pool(x_test, y_test, cat_features=categorical_features_indices)"
   ]
  },
  {
   "cell_type": "code",
   "execution_count": 119,
   "metadata": {},
   "outputs": [
    {
     "name": "stdout",
     "output_type": "stream",
     "text": [
      "evaluating params={'learning_rate': 0.06455055929014733, 'max_depth': 6.0, 'colsample_bylevel': 0.7425935964879817, 'bagging_temperature': 29.826163136513074, 'random_strength': 83.26320323149598, 'scale_pos_weight': 7.820515783320582, 'task_type': 'CPU', 'loss_function': 'Logloss', 'eval_metric': 'AUC', 'od_type': 'Iter', 'od_wait': 40, 'custom_metric': ['AUC'], 'iterations': 400, 'random_seed': 42}\n",
      "evaluated score=0.6170791541759072                                                                                     \n",
      "evaluated 1 times                                                                                                      \n",
      "evaluating params={'learning_rate': 0.7469657190897886, 'max_depth': 6.0, 'colsample_bylevel': 0.8350739741344673, 'bagging_temperature': 41.411863248553836, 'random_strength': 72.77257431773249, 'scale_pos_weight': 7.151559382799706, 'task_type': 'CPU', 'loss_function': 'Logloss', 'eval_metric': 'AUC', 'od_type': 'Iter', 'od_wait': 40, 'custom_metric': ['AUC'], 'iterations': 400, 'random_seed': 42}\n",
      "evaluated score=0.5                                                                                                    \n",
      "evaluated 2 times                                                                                                      \n",
      "evaluating params={'learning_rate': 0.24969398680849822, 'max_depth': 10.0, 'colsample_bylevel': 0.9320639577324752, 'bagging_temperature': 6.231294084407146, 'random_strength': 88.33152773808621, 'scale_pos_weight': 13.560825333299263, 'task_type': 'CPU', 'loss_function': 'Logloss', 'eval_metric': 'AUC', 'od_type': 'Iter', 'od_wait': 40, 'custom_metric': ['AUC'], 'iterations': 400, 'random_seed': 42}\n",
      "evaluated score=0.6107672030556056                                                                                     \n",
      "evaluated 3 times                                                                                                      \n",
      "evaluating params={'learning_rate': 0.09283873525663582, 'max_depth': 7.0, 'colsample_bylevel': 0.5939775931836743, 'bagging_temperature': 45.366534380629886, 'random_strength': 91.87225216693768, 'scale_pos_weight': 7.672487684517276, 'task_type': 'CPU', 'loss_function': 'Logloss', 'eval_metric': 'AUC', 'od_type': 'Iter', 'od_wait': 40, 'custom_metric': ['AUC'], 'iterations': 400, 'random_seed': 42}\n",
      "evaluated score=0.5                                                                                                    \n",
      "evaluated 4 times                                                                                                      \n",
      "evaluating params={'learning_rate': 0.4824571912345811, 'max_depth': 9.0, 'colsample_bylevel': 0.7615261640271918, 'bagging_temperature': 9.545503921499343, 'random_strength': 17.187156139656068, 'scale_pos_weight': 13.185939825360448, 'task_type': 'CPU', 'loss_function': 'Logloss', 'eval_metric': 'AUC', 'od_type': 'Iter', 'od_wait': 40, 'custom_metric': ['AUC'], 'iterations': 400, 'random_seed': 42}\n",
      "evaluated score=0.63564447933794                                                                                       \n",
      "evaluated 5 times                                                                                                      \n",
      "evaluating params={'learning_rate': 0.426029987330877, 'max_depth': 8.0, 'colsample_bylevel': 0.9519260362533433, 'bagging_temperature': 71.70311511598368, 'random_strength': 43.80291864409232, 'scale_pos_weight': 12.993301624107593, 'task_type': 'CPU', 'loss_function': 'Logloss', 'eval_metric': 'AUC', 'od_type': 'Iter', 'od_wait': 40, 'custom_metric': ['AUC'], 'iterations': 400, 'random_seed': 42}\n",
      "evaluated score=0.5                                                                                                    \n",
      "evaluated 6 times                                                                                                      \n",
      "evaluating params={'learning_rate': 0.1392496711244547, 'max_depth': 5.0, 'colsample_bylevel': 0.9002516157283724, 'bagging_temperature': 37.25797779832578, 'random_strength': 93.93697376027716, 'scale_pos_weight': 12.010420269783523, 'task_type': 'CPU', 'loss_function': 'Logloss', 'eval_metric': 'AUC', 'od_type': 'Iter', 'od_wait': 40, 'custom_metric': ['AUC'], 'iterations': 400, 'random_seed': 42}\n",
      "evaluated score=0.5                                                                                                    \n",
      "evaluated 7 times                                                                                                      \n",
      "evaluating params={'learning_rate': 0.2936281162179091, 'max_depth': 9.0, 'colsample_bylevel': 0.7963098376527838, 'bagging_temperature': 59.462003508683836, 'random_strength': 77.53643788278823, 'scale_pos_weight': 10.256190377534743, 'task_type': 'CPU', 'loss_function': 'Logloss', 'eval_metric': 'AUC', 'od_type': 'Iter', 'od_wait': 40, 'custom_metric': ['AUC'], 'iterations': 400, 'random_seed': 42}\n",
      "evaluated score=0.5                                                                                                    \n",
      "evaluated 8 times                                                                                                      \n",
      "evaluating params={'learning_rate': 0.40220869584140617, 'max_depth': 9.0, 'colsample_bylevel': 0.6620299911421867, 'bagging_temperature': 5.1134553677051775, 'random_strength': 92.00092264373161, 'scale_pos_weight': 9.151046015354687, 'task_type': 'CPU', 'loss_function': 'Logloss', 'eval_metric': 'AUC', 'od_type': 'Iter', 'od_wait': 40, 'custom_metric': ['AUC'], 'iterations': 400, 'random_seed': 42}\n",
      "evaluated score=0.5895737324611964                                                                                     \n",
      "evaluated 9 times                                                                                                      \n",
      "evaluating params={'learning_rate': 0.6986050234859398, 'max_depth': 6.0, 'colsample_bylevel': 0.6905323823987464, 'bagging_temperature': 21.14142872741962, 'random_strength': 70.06214446213659, 'scale_pos_weight': 15.332169794648921, 'task_type': 'CPU', 'loss_function': 'Logloss', 'eval_metric': 'AUC', 'od_type': 'Iter', 'od_wait': 40, 'custom_metric': ['AUC'], 'iterations': 400, 'random_seed': 42}\n",
      "evaluated score=0.5845600535145336                                                                                     \n",
      "evaluated 10 times                                                                                                     \n",
      "evaluating params={'learning_rate': 0.5956133680507415, 'max_depth': 6.0, 'colsample_bylevel': 0.7893321681141924, 'bagging_temperature': 27.47148488354174, 'random_strength': 81.78300196637514, 'scale_pos_weight': 1.0544546088211484, 'task_type': 'CPU', 'loss_function': 'Logloss', 'eval_metric': 'AUC', 'od_type': 'Iter', 'od_wait': 40, 'custom_metric': ['AUC'], 'iterations': 400, 'random_seed': 42}\n",
      "evaluated score=0.6109041604024721                                                                                     \n",
      "evaluated 11 times                                                                                                     \n",
      "evaluating params={'learning_rate': 0.39434590071428977, 'max_depth': 7.0, 'colsample_bylevel': 0.6816015479755677, 'bagging_temperature': 71.93764256573532, 'random_strength': 35.84815225733641, 'scale_pos_weight': 14.18703830797068, 'task_type': 'CPU', 'loss_function': 'Logloss', 'eval_metric': 'AUC', 'od_type': 'Iter', 'od_wait': 40, 'custom_metric': ['AUC'], 'iterations': 400, 'random_seed': 42}\n",
      "evaluated score=0.5                                                                                                    \n",
      "evaluated 12 times                                                                                                     \n",
      "evaluating params={'learning_rate': 0.7685649503580674, 'max_depth': 6.0, 'colsample_bylevel': 0.7455551022408217, 'bagging_temperature': 38.60707574736531, 'random_strength': 30.725816388873938, 'scale_pos_weight': 14.222176264494117, 'task_type': 'CPU', 'loss_function': 'Logloss', 'eval_metric': 'AUC', 'od_type': 'Iter', 'od_wait': 40, 'custom_metric': ['AUC'], 'iterations': 400, 'random_seed': 42}\n"
     ]
    },
    {
     "name": "stdout",
     "output_type": "stream",
     "text": [
      "evaluated score=0.5                                                                                                    \n",
      "evaluated 13 times                                                                                                     \n",
      "evaluating params={'learning_rate': 0.6816071034106231, 'max_depth': 6.0, 'colsample_bylevel': 0.8987194012367643, 'bagging_temperature': 17.39917225073908, 'random_strength': 1.3183035637853835, 'scale_pos_weight': 8.906647116199107, 'task_type': 'CPU', 'loss_function': 'Logloss', 'eval_metric': 'AUC', 'od_type': 'Iter', 'od_wait': 40, 'custom_metric': ['AUC'], 'iterations': 400, 'random_seed': 42}\n",
      "evaluated score=0.6195643399797982                                                                                     \n",
      "evaluated 14 times                                                                                                     \n",
      "evaluating params={'learning_rate': 0.19800717762087047, 'max_depth': 7.0, 'colsample_bylevel': 0.6308684032130806, 'bagging_temperature': 9.749591346538377, 'random_strength': 92.09817283659105, 'scale_pos_weight': 10.555510471361897, 'task_type': 'CPU', 'loss_function': 'Logloss', 'eval_metric': 'AUC', 'od_type': 'Iter', 'od_wait': 40, 'custom_metric': ['AUC'], 'iterations': 400, 'random_seed': 42}\n",
      "evaluated score=0.6119234073340063                                                                                     \n",
      "evaluated 15 times                                                                                                     \n",
      "evaluating params={'learning_rate': 0.30176937784286434, 'max_depth': 8.0, 'colsample_bylevel': 0.5144422625256673, 'bagging_temperature': 0.4971188920065317, 'random_strength': 64.00100015740247, 'scale_pos_weight': 9.750539284627434, 'task_type': 'CPU', 'loss_function': 'Logloss', 'eval_metric': 'AUC', 'od_type': 'Iter', 'od_wait': 40, 'custom_metric': ['AUC'], 'iterations': 400, 'random_seed': 42}\n",
      "evaluated score=0.5586476227304873                                                                                     \n",
      "evaluated 16 times                                                                                                     \n",
      "evaluating params={'learning_rate': 0.23970194674028295, 'max_depth': 9.0, 'colsample_bylevel': 0.5625745905758681, 'bagging_temperature': 55.627423762114184, 'random_strength': 12.470065927231532, 'scale_pos_weight': 8.73748167895595, 'task_type': 'CPU', 'loss_function': 'Logloss', 'eval_metric': 'AUC', 'od_type': 'Iter', 'od_wait': 40, 'custom_metric': ['AUC'], 'iterations': 400, 'random_seed': 42}\n",
      "evaluated score=0.5                                                                                                    \n",
      "evaluated 17 times                                                                                                     \n",
      "evaluating params={'learning_rate': 0.4012958021261945, 'max_depth': 9.0, 'colsample_bylevel': 0.8455558039385862, 'bagging_temperature': 94.11368288673546, 'random_strength': 68.10391246607139, 'scale_pos_weight': 11.381656781069033, 'task_type': 'CPU', 'loss_function': 'Logloss', 'eval_metric': 'AUC', 'od_type': 'Iter', 'od_wait': 40, 'custom_metric': ['AUC'], 'iterations': 400, 'random_seed': 42}\n",
      "evaluated score=0.5                                                                                                    \n",
      "evaluated 18 times                                                                                                     \n",
      "evaluating params={'learning_rate': 0.6505258556695427, 'max_depth': 8.0, 'colsample_bylevel': 0.9708723155369876, 'bagging_temperature': 67.02496253184057, 'random_strength': 69.46896343853821, 'scale_pos_weight': 5.32207615422222, 'task_type': 'CPU', 'loss_function': 'Logloss', 'eval_metric': 'AUC', 'od_type': 'Iter', 'od_wait': 40, 'custom_metric': ['AUC'], 'iterations': 400, 'random_seed': 42}\n",
      "evaluated score=0.5                                                                                                    \n",
      "evaluated 19 times                                                                                                     \n",
      "evaluating params={'learning_rate': 0.6735075794410379, 'max_depth': 4.0, 'colsample_bylevel': 0.9812939388768891, 'bagging_temperature': 70.5194745389447, 'random_strength': 87.51118984907046, 'scale_pos_weight': 6.966788039978879, 'task_type': 'CPU', 'loss_function': 'Logloss', 'eval_metric': 'AUC', 'od_type': 'Iter', 'od_wait': 40, 'custom_metric': ['AUC'], 'iterations': 400, 'random_seed': 42}\n",
      "evaluated score=0.5                                                                                                    \n",
      "evaluated 20 times                                                                                                     \n",
      "evaluating params={'learning_rate': 0.5734662425089077, 'max_depth': 8.0, 'colsample_bylevel': 0.6304453528545368, 'bagging_temperature': 62.84810666157716, 'random_strength': 73.4104187301871, 'scale_pos_weight': 2.4675261036805853, 'task_type': 'CPU', 'loss_function': 'Logloss', 'eval_metric': 'AUC', 'od_type': 'Iter', 'od_wait': 40, 'custom_metric': ['AUC'], 'iterations': 400, 'random_seed': 42}\n",
      "evaluated score=0.5                                                                                                    \n",
      "evaluated 21 times                                                                                                     \n",
      "evaluating params={'learning_rate': 0.562943674257195, 'max_depth': 5.0, 'colsample_bylevel': 0.5483119512487002, 'bagging_temperature': 13.729876000611597, 'random_strength': 11.917934729048618, 'scale_pos_weight': 7.7437572739136336, 'task_type': 'CPU', 'loss_function': 'Logloss', 'eval_metric': 'AUC', 'od_type': 'Iter', 'od_wait': 40, 'custom_metric': ['AUC'], 'iterations': 400, 'random_seed': 42}\n",
      "evaluated score=0.6166807894040228                                                                                     \n",
      "evaluated 22 times                                                                                                     \n",
      "evaluating params={'learning_rate': 0.30171478622039305, 'max_depth': 8.0, 'colsample_bylevel': 0.5531324082829224, 'bagging_temperature': 19.27527018070495, 'random_strength': 59.32653223463626, 'scale_pos_weight': 5.959256741821097, 'task_type': 'CPU', 'loss_function': 'Logloss', 'eval_metric': 'AUC', 'od_type': 'Iter', 'od_wait': 40, 'custom_metric': ['AUC'], 'iterations': 400, 'random_seed': 42}\n",
      "evaluated score=0.6486816693719285                                                                                     \n",
      "evaluated 23 times                                                                                                     \n",
      "evaluating params={'learning_rate': 0.11097111782120497, 'max_depth': 9.0, 'colsample_bylevel': 0.7409387009901992, 'bagging_temperature': 86.1172196771636, 'random_strength': 15.546845674932808, 'scale_pos_weight': 12.839684626967696, 'task_type': 'CPU', 'loss_function': 'Logloss', 'eval_metric': 'AUC', 'od_type': 'Iter', 'od_wait': 40, 'custom_metric': ['AUC'], 'iterations': 400, 'random_seed': 42}\n",
      "evaluated score=0.5                                                                                                    \n",
      "evaluated 24 times                                                                                                     \n",
      "evaluating params={'learning_rate': 0.11874463606048295, 'max_depth': 8.0, 'colsample_bylevel': 0.9143513727263843, 'bagging_temperature': 52.83445689811619, 'random_strength': 64.16434702146898, 'scale_pos_weight': 14.91359148640431, 'task_type': 'CPU', 'loss_function': 'Logloss', 'eval_metric': 'AUC', 'od_type': 'Iter', 'od_wait': 40, 'custom_metric': ['AUC'], 'iterations': 400, 'random_seed': 42}\n",
      "evaluated score=0.5                                                                                                    \n",
      "evaluated 25 times                                                                                                     \n"
     ]
    },
    {
     "name": "stdout",
     "output_type": "stream",
     "text": [
      "evaluating params={'learning_rate': 0.6990952871256788, 'max_depth': 7.0, 'colsample_bylevel': 0.9886431821208913, 'bagging_temperature': 37.02268496294152, 'random_strength': 30.46124241138234, 'scale_pos_weight': 5.956456248816514, 'task_type': 'CPU', 'loss_function': 'Logloss', 'eval_metric': 'AUC', 'od_type': 'Iter', 'od_wait': 40, 'custom_metric': ['AUC'], 'iterations': 400, 'random_seed': 42}\n",
      "evaluated score=0.5                                                                                                    \n",
      "evaluated 26 times                                                                                                     \n",
      "evaluating params={'learning_rate': 0.24329907330073666, 'max_depth': 8.0, 'colsample_bylevel': 0.7808420826245261, 'bagging_temperature': 20.368720717700416, 'random_strength': 70.4583602067651, 'scale_pos_weight': 13.45498682238244, 'task_type': 'CPU', 'loss_function': 'Logloss', 'eval_metric': 'AUC', 'od_type': 'Iter', 'od_wait': 40, 'custom_metric': ['AUC'], 'iterations': 400, 'random_seed': 42}\n",
      "evaluated score=0.641830359022091                                                                                      \n",
      "evaluated 27 times                                                                                                     \n",
      "evaluating params={'learning_rate': 0.04086353893886585, 'max_depth': 6.0, 'colsample_bylevel': 0.9572428411764734, 'bagging_temperature': 86.14960210057677, 'random_strength': 0.6965422065443372, 'scale_pos_weight': 10.92660490498745, 'task_type': 'CPU', 'loss_function': 'Logloss', 'eval_metric': 'AUC', 'od_type': 'Iter', 'od_wait': 40, 'custom_metric': ['AUC'], 'iterations': 400, 'random_seed': 42}\n",
      "evaluated score=0.5                                                                                                    \n",
      "evaluated 28 times                                                                                                     \n",
      "evaluating params={'learning_rate': 0.7044181740437416, 'max_depth': 9.0, 'colsample_bylevel': 0.6655150483186099, 'bagging_temperature': 12.738262171620264, 'random_strength': 63.4490889188811, 'scale_pos_weight': 6.314410522320887, 'task_type': 'CPU', 'loss_function': 'Logloss', 'eval_metric': 'AUC', 'od_type': 'Iter', 'od_wait': 40, 'custom_metric': ['AUC'], 'iterations': 400, 'random_seed': 42}\n",
      "evaluated score=0.6403909184053121                                                                                     \n",
      "evaluated 29 times                                                                                                     \n",
      "evaluating params={'learning_rate': 0.6516189553537985, 'max_depth': 6.0, 'colsample_bylevel': 0.5019218012929152, 'bagging_temperature': 53.84241532241949, 'random_strength': 65.00439661591349, 'scale_pos_weight': 10.769804369641149, 'task_type': 'CPU', 'loss_function': 'Logloss', 'eval_metric': 'AUC', 'od_type': 'Iter', 'od_wait': 40, 'custom_metric': ['AUC'], 'iterations': 400, 'random_seed': 42}\n",
      "evaluated score=0.5                                                                                                    \n",
      "evaluated 30 times                                                                                                     \n",
      "evaluating params={'learning_rate': 0.3023023711356902, 'max_depth': 8.0, 'colsample_bylevel': 0.6556457567145959, 'bagging_temperature': 82.24195855857882, 'random_strength': 13.16595920133481, 'scale_pos_weight': 7.37721104605222, 'task_type': 'CPU', 'loss_function': 'Logloss', 'eval_metric': 'AUC', 'od_type': 'Iter', 'od_wait': 40, 'custom_metric': ['AUC'], 'iterations': 400, 'random_seed': 42}\n",
      "evaluated score=0.5                                                                                                    \n",
      "evaluated 31 times                                                                                                     \n",
      "evaluating params={'learning_rate': 0.5644131814496948, 'max_depth': 9.0, 'colsample_bylevel': 0.9097812496257851, 'bagging_temperature': 77.91984817769776, 'random_strength': 31.676869347796277, 'scale_pos_weight': 9.078186015741204, 'task_type': 'CPU', 'loss_function': 'Logloss', 'eval_metric': 'AUC', 'od_type': 'Iter', 'od_wait': 40, 'custom_metric': ['AUC'], 'iterations': 400, 'random_seed': 42}\n",
      "evaluated score=0.5                                                                                                    \n",
      "evaluated 32 times                                                                                                     \n",
      "evaluating params={'learning_rate': 0.5590318303514967, 'max_depth': 8.0, 'colsample_bylevel': 0.8508394625620042, 'bagging_temperature': 42.529710406239154, 'random_strength': 57.568250531790746, 'scale_pos_weight': 2.969163939303326, 'task_type': 'CPU', 'loss_function': 'Logloss', 'eval_metric': 'AUC', 'od_type': 'Iter', 'od_wait': 40, 'custom_metric': ['AUC'], 'iterations': 400, 'random_seed': 42}\n",
      "evaluated score=0.5                                                                                                    \n",
      "evaluated 33 times                                                                                                     \n",
      "evaluating params={'learning_rate': 0.6120026464899954, 'max_depth': 6.0, 'colsample_bylevel': 0.5947476340749828, 'bagging_temperature': 70.96811670294242, 'random_strength': 62.459046032330775, 'scale_pos_weight': 9.04750955110397, 'task_type': 'CPU', 'loss_function': 'Logloss', 'eval_metric': 'AUC', 'od_type': 'Iter', 'od_wait': 40, 'custom_metric': ['AUC'], 'iterations': 400, 'random_seed': 42}\n",
      "evaluated score=0.5                                                                                                    \n",
      "evaluated 34 times                                                                                                     \n",
      "evaluating params={'learning_rate': 0.08691595905882502, 'max_depth': 6.0, 'colsample_bylevel': 0.925738266770135, 'bagging_temperature': 30.082329093344395, 'random_strength': 60.338313715544004, 'scale_pos_weight': 5.894602452232973, 'task_type': 'CPU', 'loss_function': 'Logloss', 'eval_metric': 'AUC', 'od_type': 'Iter', 'od_wait': 40, 'custom_metric': ['AUC'], 'iterations': 400, 'random_seed': 42}\n",
      "evaluated score=0.5989548047601101                                                                                     \n",
      "evaluated 35 times                                                                                                     \n",
      "evaluating params={'learning_rate': 0.42511142589135503, 'max_depth': 7.0, 'colsample_bylevel': 0.7334249774494812, 'bagging_temperature': 48.20077804650612, 'random_strength': 18.40579185712945, 'scale_pos_weight': 9.048359364952153, 'task_type': 'CPU', 'loss_function': 'Logloss', 'eval_metric': 'AUC', 'od_type': 'Iter', 'od_wait': 40, 'custom_metric': ['AUC'], 'iterations': 400, 'random_seed': 42}\n",
      "evaluated score=0.5                                                                                                    \n",
      "evaluated 36 times                                                                                                     \n",
      "evaluating params={'learning_rate': 0.08578380823258902, 'max_depth': 6.0, 'colsample_bylevel': 0.8804363657182184, 'bagging_temperature': 67.95205089825916, 'random_strength': 49.65738663401596, 'scale_pos_weight': 7.496472632910514, 'task_type': 'CPU', 'loss_function': 'Logloss', 'eval_metric': 'AUC', 'od_type': 'Iter', 'od_wait': 40, 'custom_metric': ['AUC'], 'iterations': 400, 'random_seed': 42}\n",
      "evaluated score=0.5                                                                                                    \n",
      "evaluated 37 times                                                                                                     \n",
      "evaluating params={'learning_rate': 0.19989098684426826, 'max_depth': 6.0, 'colsample_bylevel': 0.5504896649264421, 'bagging_temperature': 35.25539025632924, 'random_strength': 75.14004257971514, 'scale_pos_weight': 13.77923061324646, 'task_type': 'CPU', 'loss_function': 'Logloss', 'eval_metric': 'AUC', 'od_type': 'Iter', 'od_wait': 40, 'custom_metric': ['AUC'], 'iterations': 400, 'random_seed': 42}\n"
     ]
    },
    {
     "name": "stdout",
     "output_type": "stream",
     "text": [
      "evaluated score=0.6242661950947407                                                                                     \n",
      "evaluated 38 times                                                                                                     \n",
      "evaluating params={'learning_rate': 0.3176903626733709, 'max_depth': 5.0, 'colsample_bylevel': 0.7576107737512063, 'bagging_temperature': 69.77740837456095, 'random_strength': 3.7277118258843833, 'scale_pos_weight': 11.63786487812268, 'task_type': 'CPU', 'loss_function': 'Logloss', 'eval_metric': 'AUC', 'od_type': 'Iter', 'od_wait': 40, 'custom_metric': ['AUC'], 'iterations': 400, 'random_seed': 42}\n",
      "evaluated score=0.5                                                                                                    \n",
      "evaluated 39 times                                                                                                     \n",
      "evaluating params={'learning_rate': 0.5116330929422992, 'max_depth': 6.0, 'colsample_bylevel': 0.6881294671910385, 'bagging_temperature': 49.663835413421864, 'random_strength': 79.52631814690415, 'scale_pos_weight': 15.079604804299631, 'task_type': 'CPU', 'loss_function': 'Logloss', 'eval_metric': 'AUC', 'od_type': 'Iter', 'od_wait': 40, 'custom_metric': ['AUC'], 'iterations': 400, 'random_seed': 42}\n",
      "evaluated score=0.5                                                                                                    \n",
      "evaluated 40 times                                                                                                     \n",
      "evaluating params={'learning_rate': 0.30611892615023495, 'max_depth': 5.0, 'colsample_bylevel': 0.6679211768749299, 'bagging_temperature': 6.7371898726728325, 'random_strength': 90.23295140820429, 'scale_pos_weight': 4.251934608050318, 'task_type': 'CPU', 'loss_function': 'Logloss', 'eval_metric': 'AUC', 'od_type': 'Iter', 'od_wait': 40, 'custom_metric': ['AUC'], 'iterations': 400, 'random_seed': 42}\n",
      "evaluated score=0.6027109424841571                                                                                     \n",
      "evaluated 41 times                                                                                                     \n",
      "evaluating params={'learning_rate': 0.30641269670985033, 'max_depth': 4.0, 'colsample_bylevel': 0.8499749370450363, 'bagging_temperature': 75.10349109199097, 'random_strength': 70.83825544375651, 'scale_pos_weight': 8.17207067063337, 'task_type': 'CPU', 'loss_function': 'Logloss', 'eval_metric': 'AUC', 'od_type': 'Iter', 'od_wait': 40, 'custom_metric': ['AUC'], 'iterations': 400, 'random_seed': 42}\n",
      "evaluated score=0.5                                                                                                    \n",
      "evaluated 42 times                                                                                                     \n",
      "evaluating params={'learning_rate': 0.4279413325594994, 'max_depth': 8.0, 'colsample_bylevel': 0.6846162493945316, 'bagging_temperature': 85.15570966410692, 'random_strength': 25.676623887620707, 'scale_pos_weight': 9.195512705198349, 'task_type': 'CPU', 'loss_function': 'Logloss', 'eval_metric': 'AUC', 'od_type': 'Iter', 'od_wait': 40, 'custom_metric': ['AUC'], 'iterations': 400, 'random_seed': 42}\n",
      "evaluated score=0.5                                                                                                    \n",
      "evaluated 43 times                                                                                                     \n",
      "evaluating params={'learning_rate': 0.7580299444808133, 'max_depth': 10.0, 'colsample_bylevel': 0.6560654544857116, 'bagging_temperature': 9.606602573184976, 'random_strength': 38.07157402345723, 'scale_pos_weight': 15.44322039696387, 'task_type': 'CPU', 'loss_function': 'Logloss', 'eval_metric': 'AUC', 'od_type': 'Iter', 'od_wait': 40, 'custom_metric': ['AUC'], 'iterations': 400, 'random_seed': 42}\n",
      "evaluated score=0.6245313621696946                                                                                     \n",
      "evaluated 44 times                                                                                                     \n",
      "evaluating params={'learning_rate': 0.20930792475812623, 'max_depth': 10.0, 'colsample_bylevel': 0.5886668909032519, 'bagging_temperature': 34.823504904022414, 'random_strength': 78.52734938376074, 'scale_pos_weight': 10.205598741673892, 'task_type': 'CPU', 'loss_function': 'Logloss', 'eval_metric': 'AUC', 'od_type': 'Iter', 'od_wait': 40, 'custom_metric': ['AUC'], 'iterations': 400, 'random_seed': 42}\n",
      "evaluated score=0.6500212969602687                                                                                     \n",
      "evaluated 45 times                                                                                                     \n",
      "evaluating params={'learning_rate': 0.03690584752959317, 'max_depth': 5.0, 'colsample_bylevel': 0.7383440484332322, 'bagging_temperature': 2.4179327359312053, 'random_strength': 96.96509583621922, 'scale_pos_weight': 5.643577706454599, 'task_type': 'CPU', 'loss_function': 'Logloss', 'eval_metric': 'AUC', 'od_type': 'Iter', 'od_wait': 40, 'custom_metric': ['AUC'], 'iterations': 400, 'random_seed': 42}\n",
      "evaluated score=0.5322641931438961                                                                                     \n",
      "evaluated 46 times                                                                                                     \n",
      "evaluating params={'learning_rate': 0.6611656132549413, 'max_depth': 7.0, 'colsample_bylevel': 0.5126036962879645, 'bagging_temperature': 38.976526645092015, 'random_strength': 25.530311192309473, 'scale_pos_weight': 5.4630110310181985, 'task_type': 'CPU', 'loss_function': 'Logloss', 'eval_metric': 'AUC', 'od_type': 'Iter', 'od_wait': 40, 'custom_metric': ['AUC'], 'iterations': 400, 'random_seed': 42}\n",
      "evaluated score=0.5                                                                                                    \n",
      "evaluated 47 times                                                                                                     \n",
      "evaluating params={'learning_rate': 0.7512715308588567, 'max_depth': 5.0, 'colsample_bylevel': 0.5949353001936417, 'bagging_temperature': 47.64867445075578, 'random_strength': 97.92804334722808, 'scale_pos_weight': 1.062446140424417, 'task_type': 'CPU', 'loss_function': 'Logloss', 'eval_metric': 'AUC', 'od_type': 'Iter', 'od_wait': 40, 'custom_metric': ['AUC'], 'iterations': 400, 'random_seed': 42}\n",
      "evaluated score=0.5                                                                                                    \n",
      "evaluated 48 times                                                                                                     \n",
      "evaluating params={'learning_rate': 0.016566017126364248, 'max_depth': 7.0, 'colsample_bylevel': 0.8216931897786428, 'bagging_temperature': 14.776484063446116, 'random_strength': 87.66639642845378, 'scale_pos_weight': 15.28714079131189, 'task_type': 'CPU', 'loss_function': 'Logloss', 'eval_metric': 'AUC', 'od_type': 'Iter', 'od_wait': 40, 'custom_metric': ['AUC'], 'iterations': 400, 'random_seed': 42}\n",
      "evaluated score=0.6398308037534268                                                                                     \n",
      "evaluated 49 times                                                                                                     \n",
      "evaluating params={'learning_rate': 0.698766863396429, 'max_depth': 8.0, 'colsample_bylevel': 0.6857782082163167, 'bagging_temperature': 17.998987540853896, 'random_strength': 35.37693915300544, 'scale_pos_weight': 15.817197733911794, 'task_type': 'CPU', 'loss_function': 'Logloss', 'eval_metric': 'AUC', 'od_type': 'Iter', 'od_wait': 40, 'custom_metric': ['AUC'], 'iterations': 400, 'random_seed': 42}\n",
      "evaluated score=0.6070384012437042                                                                                     \n",
      "evaluated 50 times                                                                                                     \n",
      "100%|███████████████████████████████████████████████| 50/50 [2:18:01<00:00, 282.96s/it, best loss: -0.6500212969602687]\n"
     ]
    },
    {
     "name": "stderr",
     "output_type": "stream",
     "text": [
      "Warning: Custom metrics will not be evaluated because there are no test datasets\n"
     ]
    }
   ],
   "source": [
    "model, params = train_best_model(\n",
    "    train_pool, \n",
    "    const_params, \n",
    "    max_evals=hyperopt_iterations, \n",
    "    use_default=use_optimal_pretrained_params)"
   ]
  },
  {
   "cell_type": "code",
   "execution_count": 120,
   "metadata": {},
   "outputs": [
    {
     "data": {
      "text/plain": [
       "{'bagging_temperature': 34.823504904022414,\n",
       " 'colsample_bylevel': 0.5886668909032519,\n",
       " 'depth': 10.0,\n",
       " 'learning_rate': 0.20930792475812623,\n",
       " 'random_strength': 78.52734938376074,\n",
       " 'scale_pos_weight': 10.205598741673892,\n",
       " 'task_type': 'CPU',\n",
       " 'loss_function': 'Logloss',\n",
       " 'eval_metric': 'AUC',\n",
       " 'od_type': 'Iter',\n",
       " 'od_wait': 40,\n",
       " 'custom_metric': ['AUC'],\n",
       " 'iterations': 400,\n",
       " 'random_seed': 42}"
      ]
     },
     "execution_count": 120,
     "metadata": {},
     "output_type": "execute_result"
    }
   ],
   "source": [
    "params"
   ]
  },
  {
   "cell_type": "code",
   "execution_count": 121,
   "metadata": {},
   "outputs": [
    {
     "name": "stdout",
     "output_type": "stream",
     "text": [
      "ROC-AUC score:  0.7011905304629541\n"
     ]
    },
    {
     "data": {
      "image/png": "[encoded data removed]",
      "text/plain": [
       "<Figure size 432x288 with 1 Axes>"
      ]
     },
     "metadata": {
      "needs_background": "light"
     },
     "output_type": "display_data"
    }
   ],
   "source": [
    "plot_roc(model, x_test, y_test)"
   ]
  },
  {
   "cell_type": "code",
   "execution_count": 122,
   "metadata": {},
   "outputs": [
    {
     "name": "stdout",
     "output_type": "stream",
     "text": [
      "Recall: 1.00\n",
      "Precision score: 0.78\n",
      "Accuracy score: 0.78\n"
     ]
    }
   ],
   "source": [
    "show_scores(model, x_test, y_test)"
   ]
  },
  {
   "cell_type": "code",
   "execution_count": 123,
   "metadata": {},
   "outputs": [
    {
     "name": "stdout",
     "output_type": "stream",
     "text": [
      "0:\ttest: 0.5000000\tbest: 0.5000000 (0)\ttotal: 66.1ms\tremaining: 26.4s\n",
      "1:\ttest: 0.6471153\tbest: 0.6471153 (1)\ttotal: 320ms\tremaining: 1m 3s\n",
      "2:\ttest: 0.6794989\tbest: 0.6794989 (2)\ttotal: 567ms\tremaining: 1m 15s\n",
      "3:\ttest: 0.6881944\tbest: 0.6881944 (3)\ttotal: 834ms\tremaining: 1m 22s\n",
      "4:\ttest: 0.6922573\tbest: 0.6922573 (4)\ttotal: 1.08s\tremaining: 1m 25s\n",
      "5:\ttest: 0.6922573\tbest: 0.6922573 (4)\ttotal: 1.15s\tremaining: 1m 15s\n",
      "6:\ttest: 0.6934423\tbest: 0.6934423 (6)\ttotal: 1.4s\tremaining: 1m 18s\n",
      "7:\ttest: 0.6934423\tbest: 0.6934423 (6)\ttotal: 1.46s\tremaining: 1m 11s\n",
      "8:\ttest: 0.6934423\tbest: 0.6934423 (6)\ttotal: 1.52s\tremaining: 1m 6s\n",
      "9:\ttest: 0.6952976\tbest: 0.6952976 (9)\ttotal: 1.78s\tremaining: 1m 9s\n",
      "10:\ttest: 0.6952976\tbest: 0.6952976 (9)\ttotal: 1.84s\tremaining: 1m 5s\n",
      "11:\ttest: 0.6952976\tbest: 0.6952976 (9)\ttotal: 1.91s\tremaining: 1m 1s\n",
      "12:\ttest: 0.6952976\tbest: 0.6952976 (9)\ttotal: 1.98s\tremaining: 58.8s\n",
      "13:\ttest: 0.6952976\tbest: 0.6952976 (9)\ttotal: 2.04s\tremaining: 56.2s\n",
      "14:\ttest: 0.6952976\tbest: 0.6952976 (9)\ttotal: 2.1s\tremaining: 53.9s\n",
      "15:\ttest: 0.6952976\tbest: 0.6952976 (9)\ttotal: 2.16s\tremaining: 51.9s\n",
      "16:\ttest: 0.6967464\tbest: 0.6967464 (16)\ttotal: 2.4s\tremaining: 54.1s\n",
      "17:\ttest: 0.6973444\tbest: 0.6973444 (17)\ttotal: 2.64s\tremaining: 56s\n",
      "18:\ttest: 0.6973444\tbest: 0.6973444 (17)\ttotal: 2.71s\tremaining: 54.4s\n",
      "19:\ttest: 0.6988023\tbest: 0.6988023 (19)\ttotal: 2.94s\tremaining: 55.8s\n",
      "20:\ttest: 0.6991594\tbest: 0.6991594 (20)\ttotal: 3.17s\tremaining: 57.3s\n",
      "21:\ttest: 0.6991594\tbest: 0.6991594 (20)\ttotal: 3.23s\tremaining: 55.6s\n",
      "22:\ttest: 0.6991594\tbest: 0.6991594 (20)\ttotal: 3.3s\tremaining: 54.1s\n",
      "23:\ttest: 0.6991594\tbest: 0.6991594 (20)\ttotal: 3.36s\tremaining: 52.6s\n",
      "24:\ttest: 0.6991594\tbest: 0.6991594 (20)\ttotal: 3.41s\tremaining: 51.2s\n",
      "25:\ttest: 0.6991594\tbest: 0.6991594 (20)\ttotal: 3.48s\tremaining: 50.1s\n",
      "26:\ttest: 0.6991594\tbest: 0.6991594 (20)\ttotal: 3.54s\tremaining: 48.9s\n",
      "27:\ttest: 0.6994413\tbest: 0.6994413 (27)\ttotal: 3.79s\tremaining: 50.3s\n",
      "28:\ttest: 0.6998594\tbest: 0.6998594 (28)\ttotal: 4.03s\tremaining: 51.5s\n",
      "29:\ttest: 0.7001348\tbest: 0.7001348 (29)\ttotal: 4.28s\tremaining: 52.7s\n",
      "30:\ttest: 0.7001348\tbest: 0.7001348 (29)\ttotal: 4.33s\tremaining: 51.6s\n",
      "31:\ttest: 0.7006677\tbest: 0.7006677 (31)\ttotal: 4.57s\tremaining: 52.5s\n",
      "32:\ttest: 0.7007774\tbest: 0.7007774 (32)\ttotal: 4.8s\tremaining: 53.4s\n",
      "33:\ttest: 0.7007774\tbest: 0.7007774 (32)\ttotal: 4.86s\tremaining: 52.4s\n",
      "34:\ttest: 0.7007774\tbest: 0.7007774 (32)\ttotal: 4.92s\tremaining: 51.3s\n",
      "35:\ttest: 0.7009550\tbest: 0.7009550 (35)\ttotal: 5.17s\tremaining: 52.2s\n",
      "36:\ttest: 0.7009550\tbest: 0.7009550 (35)\ttotal: 5.23s\tremaining: 51.3s\n",
      "37:\ttest: 0.7012549\tbest: 0.7012549 (37)\ttotal: 5.48s\tremaining: 52.2s\n",
      "38:\ttest: 0.7012549\tbest: 0.7012549 (37)\ttotal: 5.55s\tremaining: 51.3s\n",
      "39:\ttest: 0.7016448\tbest: 0.7016448 (39)\ttotal: 5.79s\tremaining: 52.1s\n",
      "40:\ttest: 0.7016448\tbest: 0.7016448 (39)\ttotal: 5.84s\tremaining: 51.2s\n",
      "41:\ttest: 0.7016448\tbest: 0.7016448 (39)\ttotal: 5.9s\tremaining: 50.3s\n",
      "42:\ttest: 0.7016100\tbest: 0.7016448 (39)\ttotal: 6.14s\tremaining: 51s\n",
      "43:\ttest: 0.7016100\tbest: 0.7016448 (39)\ttotal: 6.2s\tremaining: 50.2s\n",
      "44:\ttest: 0.7017659\tbest: 0.7017659 (44)\ttotal: 6.44s\tremaining: 50.8s\n",
      "45:\ttest: 0.7017659\tbest: 0.7017659 (44)\ttotal: 6.5s\tremaining: 50s\n",
      "46:\ttest: 0.7017659\tbest: 0.7017659 (44)\ttotal: 6.55s\tremaining: 49.2s\n",
      "47:\ttest: 0.7017659\tbest: 0.7017659 (44)\ttotal: 6.62s\tremaining: 48.5s\n",
      "48:\ttest: 0.7017659\tbest: 0.7017659 (44)\ttotal: 6.67s\tremaining: 47.8s\n",
      "49:\ttest: 0.7017659\tbest: 0.7017659 (44)\ttotal: 6.74s\tremaining: 47.2s\n",
      "50:\ttest: 0.7017969\tbest: 0.7017969 (50)\ttotal: 7s\tremaining: 47.9s\n",
      "51:\ttest: 0.7017969\tbest: 0.7017969 (50)\ttotal: 7.06s\tremaining: 47.2s\n",
      "52:\ttest: 0.7020133\tbest: 0.7020133 (52)\ttotal: 7.31s\tremaining: 47.8s\n",
      "53:\ttest: 0.7024091\tbest: 0.7024091 (53)\ttotal: 7.56s\tremaining: 48.4s\n",
      "54:\ttest: 0.7024091\tbest: 0.7024091 (53)\ttotal: 7.62s\tremaining: 47.8s\n",
      "55:\ttest: 0.7024091\tbest: 0.7024091 (53)\ttotal: 7.68s\tremaining: 47.2s\n",
      "56:\ttest: 0.7024704\tbest: 0.7024704 (56)\ttotal: 7.92s\tremaining: 47.7s\n",
      "57:\ttest: 0.7026891\tbest: 0.7026891 (57)\ttotal: 8.16s\tremaining: 48.1s\n",
      "58:\ttest: 0.7026891\tbest: 0.7026891 (57)\ttotal: 8.23s\tremaining: 47.6s\n",
      "59:\ttest: 0.7026891\tbest: 0.7026891 (57)\ttotal: 8.29s\tremaining: 47s\n",
      "60:\ttest: 0.7026891\tbest: 0.7026891 (57)\ttotal: 8.35s\tremaining: 46.4s\n",
      "61:\ttest: 0.7028839\tbest: 0.7028839 (61)\ttotal: 8.58s\tremaining: 46.8s\n",
      "62:\ttest: 0.7028839\tbest: 0.7028839 (61)\ttotal: 8.64s\tremaining: 46.2s\n",
      "63:\ttest: 0.7029908\tbest: 0.7029908 (63)\ttotal: 8.86s\tremaining: 46.5s\n",
      "64:\ttest: 0.7030499\tbest: 0.7030499 (64)\ttotal: 9.09s\tremaining: 46.8s\n",
      "65:\ttest: 0.7029371\tbest: 0.7030499 (64)\ttotal: 9.33s\tremaining: 47.2s\n",
      "66:\ttest: 0.7029776\tbest: 0.7030499 (64)\ttotal: 9.58s\tremaining: 47.6s\n",
      "67:\ttest: 0.7030891\tbest: 0.7030891 (67)\ttotal: 9.82s\tremaining: 47.9s\n",
      "68:\ttest: 0.7030891\tbest: 0.7030891 (67)\ttotal: 9.88s\tremaining: 47.4s\n",
      "69:\ttest: 0.7030891\tbest: 0.7030891 (67)\ttotal: 9.94s\tremaining: 46.9s\n",
      "70:\ttest: 0.7030368\tbest: 0.7030891 (67)\ttotal: 10.2s\tremaining: 47.2s\n",
      "71:\ttest: 0.7030368\tbest: 0.7030891 (67)\ttotal: 10.2s\tremaining: 46.6s\n",
      "72:\ttest: 0.7031773\tbest: 0.7031773 (72)\ttotal: 10.5s\tremaining: 46.9s\n",
      "73:\ttest: 0.7031773\tbest: 0.7031773 (72)\ttotal: 10.5s\tremaining: 46.4s\n",
      "74:\ttest: 0.7032734\tbest: 0.7032734 (74)\ttotal: 10.8s\tremaining: 46.7s\n",
      "75:\ttest: 0.7032734\tbest: 0.7032734 (74)\ttotal: 10.8s\tremaining: 46.2s\n",
      "76:\ttest: 0.7034060\tbest: 0.7034060 (76)\ttotal: 11.1s\tremaining: 46.5s\n",
      "77:\ttest: 0.7035568\tbest: 0.7035568 (77)\ttotal: 11.3s\tremaining: 46.8s\n",
      "78:\ttest: 0.7035568\tbest: 0.7035568 (77)\ttotal: 11.4s\tremaining: 46.3s\n",
      "79:\ttest: 0.7035568\tbest: 0.7035568 (77)\ttotal: 11.5s\tremaining: 45.9s\n",
      "80:\ttest: 0.7037690\tbest: 0.7037690 (80)\ttotal: 11.7s\tremaining: 46.1s\n",
      "81:\ttest: 0.7037690\tbest: 0.7037690 (80)\ttotal: 11.8s\tremaining: 45.6s\n",
      "82:\ttest: 0.7039731\tbest: 0.7039731 (82)\ttotal: 12s\tremaining: 45.9s\n",
      "83:\ttest: 0.7041097\tbest: 0.7041097 (83)\ttotal: 12.3s\tremaining: 46.1s\n",
      "84:\ttest: 0.7041097\tbest: 0.7041097 (83)\ttotal: 12.3s\tremaining: 45.6s\n",
      "85:\ttest: 0.7041620\tbest: 0.7041620 (85)\ttotal: 12.6s\tremaining: 45.9s\n",
      "86:\ttest: 0.7041620\tbest: 0.7041620 (85)\ttotal: 12.6s\tremaining: 45.5s\n",
      "87:\ttest: 0.7042284\tbest: 0.7042284 (87)\ttotal: 12.9s\tremaining: 45.6s\n",
      "88:\ttest: 0.7042284\tbest: 0.7042284 (87)\ttotal: 12.9s\tremaining: 45.2s\n",
      "89:\ttest: 0.7042548\tbest: 0.7042548 (89)\ttotal: 13.2s\tremaining: 45.3s\n",
      "90:\ttest: 0.7042548\tbest: 0.7042548 (89)\ttotal: 13.2s\tremaining: 44.9s\n",
      "91:\ttest: 0.7042382\tbest: 0.7042548 (89)\ttotal: 13.5s\tremaining: 45.1s\n",
      "92:\ttest: 0.7042382\tbest: 0.7042548 (89)\ttotal: 13.5s\tremaining: 44.6s\n",
      "93:\ttest: 0.7042382\tbest: 0.7042548 (89)\ttotal: 13.6s\tremaining: 44.2s\n",
      "94:\ttest: 0.7043604\tbest: 0.7043604 (94)\ttotal: 13.8s\tremaining: 44.4s\n",
      "95:\ttest: 0.7042975\tbest: 0.7043604 (94)\ttotal: 14.1s\tremaining: 44.5s\n",
      "96:\ttest: 0.7042975\tbest: 0.7043604 (94)\ttotal: 14.1s\tremaining: 44.1s\n",
      "97:\ttest: 0.7042975\tbest: 0.7043604 (94)\ttotal: 14.2s\tremaining: 43.7s\n",
      "98:\ttest: 0.7043877\tbest: 0.7043877 (98)\ttotal: 14.4s\tremaining: 43.9s\n",
      "99:\ttest: 0.7043877\tbest: 0.7043877 (98)\ttotal: 14.5s\tremaining: 43.5s\n",
      "100:\ttest: 0.7044787\tbest: 0.7044787 (100)\ttotal: 14.8s\tremaining: 43.7s\n",
      "101:\ttest: 0.7044249\tbest: 0.7044787 (100)\ttotal: 15s\tremaining: 43.8s\n",
      "102:\ttest: 0.7044249\tbest: 0.7044787 (100)\ttotal: 15.1s\tremaining: 43.4s\n",
      "103:\ttest: 0.7043103\tbest: 0.7044787 (100)\ttotal: 15.3s\tremaining: 43.5s\n",
      "104:\ttest: 0.7043145\tbest: 0.7044787 (100)\ttotal: 15.5s\tremaining: 43.6s\n",
      "105:\ttest: 0.7043145\tbest: 0.7044787 (100)\ttotal: 15.6s\tremaining: 43.2s\n",
      "106:\ttest: 0.7043145\tbest: 0.7044787 (100)\ttotal: 15.7s\tremaining: 42.9s\n",
      "107:\ttest: 0.7043145\tbest: 0.7044787 (100)\ttotal: 15.7s\tremaining: 42.5s\n",
      "108:\ttest: 0.7043145\tbest: 0.7044787 (100)\ttotal: 15.8s\tremaining: 42.1s\n",
      "109:\ttest: 0.7043145\tbest: 0.7044787 (100)\ttotal: 15.8s\tremaining: 41.7s\n",
      "110:\ttest: 0.7043966\tbest: 0.7044787 (100)\ttotal: 16.1s\tremaining: 41.8s\n",
      "111:\ttest: 0.7042656\tbest: 0.7044787 (100)\ttotal: 16.3s\tremaining: 42s\n",
      "112:\ttest: 0.7043636\tbest: 0.7044787 (100)\ttotal: 16.6s\tremaining: 42.1s\n",
      "113:\ttest: 0.7044309\tbest: 0.7044787 (100)\ttotal: 16.8s\tremaining: 42.2s\n",
      "114:\ttest: 0.7044309\tbest: 0.7044787 (100)\ttotal: 16.9s\tremaining: 41.8s\n",
      "115:\ttest: 0.7044309\tbest: 0.7044787 (100)\ttotal: 16.9s\tremaining: 41.5s\n"
     ]
    },
    {
     "name": "stdout",
     "output_type": "stream",
     "text": [
      "116:\ttest: 0.7044309\tbest: 0.7044787 (100)\ttotal: 17s\tremaining: 41.1s\n",
      "117:\ttest: 0.7044309\tbest: 0.7044787 (100)\ttotal: 17s\tremaining: 40.7s\n",
      "118:\ttest: 0.7044309\tbest: 0.7044787 (100)\ttotal: 17.1s\tremaining: 40.4s\n",
      "119:\ttest: 0.7044309\tbest: 0.7044787 (100)\ttotal: 17.2s\tremaining: 40s\n",
      "120:\ttest: 0.7044309\tbest: 0.7044787 (100)\ttotal: 17.2s\tremaining: 39.7s\n",
      "121:\ttest: 0.7044309\tbest: 0.7044787 (100)\ttotal: 17.3s\tremaining: 39.4s\n",
      "122:\ttest: 0.7044309\tbest: 0.7044787 (100)\ttotal: 17.3s\tremaining: 39s\n",
      "123:\ttest: 0.7045848\tbest: 0.7045848 (123)\ttotal: 17.6s\tremaining: 39.1s\n",
      "124:\ttest: 0.7045728\tbest: 0.7045848 (123)\ttotal: 17.8s\tremaining: 39.2s\n",
      "125:\ttest: 0.7045728\tbest: 0.7045848 (123)\ttotal: 17.9s\tremaining: 38.9s\n",
      "126:\ttest: 0.7045728\tbest: 0.7045848 (123)\ttotal: 17.9s\tremaining: 38.6s\n",
      "127:\ttest: 0.7045592\tbest: 0.7045848 (123)\ttotal: 18.2s\tremaining: 38.7s\n",
      "128:\ttest: 0.7046933\tbest: 0.7046933 (128)\ttotal: 18.4s\tremaining: 38.7s\n",
      "129:\ttest: 0.7046933\tbest: 0.7046933 (128)\ttotal: 18.5s\tremaining: 38.4s\n",
      "130:\ttest: 0.7046933\tbest: 0.7046933 (128)\ttotal: 18.6s\tremaining: 38.1s\n",
      "131:\ttest: 0.7046933\tbest: 0.7046933 (128)\ttotal: 18.6s\tremaining: 37.8s\n",
      "132:\ttest: 0.7045892\tbest: 0.7046933 (128)\ttotal: 18.9s\tremaining: 37.9s\n",
      "133:\ttest: 0.7045132\tbest: 0.7046933 (128)\ttotal: 19.1s\tremaining: 37.9s\n",
      "134:\ttest: 0.7045215\tbest: 0.7046933 (128)\ttotal: 19.3s\tremaining: 37.9s\n",
      "135:\ttest: 0.7045488\tbest: 0.7046933 (128)\ttotal: 19.6s\tremaining: 38s\n",
      "136:\ttest: 0.7045488\tbest: 0.7046933 (128)\ttotal: 19.6s\tremaining: 37.7s\n",
      "137:\ttest: 0.7045488\tbest: 0.7046933 (128)\ttotal: 19.7s\tremaining: 37.4s\n",
      "138:\ttest: 0.7045488\tbest: 0.7046933 (128)\ttotal: 19.7s\tremaining: 37.1s\n",
      "139:\ttest: 0.7045868\tbest: 0.7046933 (128)\ttotal: 19.9s\tremaining: 37s\n",
      "140:\ttest: 0.7045868\tbest: 0.7046933 (128)\ttotal: 20s\tremaining: 36.7s\n",
      "141:\ttest: 0.7045902\tbest: 0.7046933 (128)\ttotal: 20.2s\tremaining: 36.8s\n",
      "142:\ttest: 0.7045324\tbest: 0.7046933 (128)\ttotal: 20.5s\tremaining: 36.8s\n",
      "143:\ttest: 0.7045324\tbest: 0.7046933 (128)\ttotal: 20.5s\tremaining: 36.5s\n",
      "144:\ttest: 0.7044368\tbest: 0.7046933 (128)\ttotal: 20.8s\tremaining: 36.5s\n",
      "145:\ttest: 0.7043847\tbest: 0.7046933 (128)\ttotal: 21s\tremaining: 36.6s\n",
      "146:\ttest: 0.7043847\tbest: 0.7046933 (128)\ttotal: 21.1s\tremaining: 36.3s\n",
      "147:\ttest: 0.7043847\tbest: 0.7046933 (128)\ttotal: 21.1s\tremaining: 36s\n",
      "148:\ttest: 0.7043259\tbest: 0.7046933 (128)\ttotal: 21.4s\tremaining: 36.1s\n",
      "149:\ttest: 0.7042363\tbest: 0.7046933 (128)\ttotal: 21.6s\tremaining: 36.1s\n",
      "150:\ttest: 0.7042693\tbest: 0.7046933 (128)\ttotal: 21.9s\tremaining: 36.1s\n",
      "151:\ttest: 0.7041977\tbest: 0.7046933 (128)\ttotal: 22.1s\tremaining: 36.1s\n",
      "152:\ttest: 0.7041977\tbest: 0.7046933 (128)\ttotal: 22.2s\tremaining: 35.8s\n",
      "153:\ttest: 0.7041691\tbest: 0.7046933 (128)\ttotal: 22.4s\tremaining: 35.8s\n",
      "154:\ttest: 0.7041691\tbest: 0.7046933 (128)\ttotal: 22.5s\tremaining: 35.6s\n",
      "155:\ttest: 0.7041691\tbest: 0.7046933 (128)\ttotal: 22.6s\tremaining: 35.3s\n",
      "156:\ttest: 0.7041559\tbest: 0.7046933 (128)\ttotal: 22.8s\tremaining: 35.3s\n",
      "157:\ttest: 0.7041559\tbest: 0.7046933 (128)\ttotal: 22.8s\tremaining: 35s\n",
      "158:\ttest: 0.7040989\tbest: 0.7046933 (128)\ttotal: 23.1s\tremaining: 35s\n",
      "159:\ttest: 0.7040989\tbest: 0.7046933 (128)\ttotal: 23.2s\tremaining: 34.7s\n",
      "160:\ttest: 0.7043088\tbest: 0.7046933 (128)\ttotal: 23.4s\tremaining: 34.7s\n",
      "161:\ttest: 0.7043088\tbest: 0.7046933 (128)\ttotal: 23.4s\tremaining: 34.4s\n",
      "162:\ttest: 0.7043088\tbest: 0.7046933 (128)\ttotal: 23.5s\tremaining: 34.2s\n",
      "163:\ttest: 0.7042102\tbest: 0.7046933 (128)\ttotal: 23.8s\tremaining: 34.2s\n",
      "164:\ttest: 0.7041250\tbest: 0.7046933 (128)\ttotal: 24s\tremaining: 34.2s\n",
      "165:\ttest: 0.7041250\tbest: 0.7046933 (128)\ttotal: 24.1s\tremaining: 33.9s\n",
      "166:\ttest: 0.7040324\tbest: 0.7046933 (128)\ttotal: 24.3s\tremaining: 33.9s\n",
      "167:\ttest: 0.7040324\tbest: 0.7046933 (128)\ttotal: 24.4s\tremaining: 33.6s\n",
      "168:\ttest: 0.7040324\tbest: 0.7046933 (128)\ttotal: 24.4s\tremaining: 33.4s\n",
      "Stopped by overfitting detector  (40 iterations wait)\n",
      "\n",
      "bestTest = 0.7046933481\n",
      "bestIteration = 128\n",
      "\n",
      "Shrink model to first 129 iterations.\n"
     ]
    }
   ],
   "source": [
    "best_model_params = params.copy()\n",
    "best_model = CatBoostClassifier(**best_model_params)\n",
    "best_model.fit(train_pool, eval_set=validate_pool);"
   ]
  },
  {
   "cell_type": "code",
   "execution_count": 124,
   "metadata": {},
   "outputs": [
    {
     "name": "stdout",
     "output_type": "stream",
     "text": [
      "int_rate: 21.504196038063213\n",
      "dti: 10.605154625081251\n",
      "annual_inc: 10.371280993921673\n",
      "term: 6.695732825877977\n",
      "revol_util: 6.676160400542775\n",
      "total_rev_hi_lim: 6.387607419290431\n",
      "installment: 6.0609233086618195\n",
      "revol_bal: 6.029617865607967\n",
      "total_acc: 5.675356437658795\n",
      "tot_cur_bal: 5.546080977803312\n",
      "open_acc: 4.277378818312348\n",
      "inq_last_6mths: 4.15021065474063\n",
      "loan_amnt: 2.923083640417321\n",
      "initial_list_status: 1.853440974575323\n",
      "tot_coll_amt: 1.243775019445164\n",
      "verification_status: 0.0\n",
      "sub_grade: 0.0\n",
      "purpose: 0.0\n",
      "home_ownership: 0.0\n"
     ]
    }
   ],
   "source": [
    "feature_importances = best_model.get_feature_importance(train_pool)\n",
    "feature_names = x_train.columns\n",
    "top = []\n",
    "for score, name in sorted(zip(feature_importances, feature_names), reverse=True):\n",
    "    top.append(name)\n",
    "    print('{}: {}'.format(name, score))"
   ]
  },
  {
   "cell_type": "code",
   "execution_count": 125,
   "metadata": {},
   "outputs": [
    {
     "name": "stdout",
     "output_type": "stream",
     "text": [
      "<class 'pandas.core.frame.DataFrame'>\n",
      "RangeIndex: 200189 entries, 0 to 200188\n",
      "Data columns (total 19 columns):\n",
      "annual_inc             200189 non-null float64\n",
      "verification_status    200189 non-null object\n",
      "int_rate               200189 non-null float64\n",
      "initial_list_status    200189 non-null object\n",
      "term                   200189 non-null object\n",
      "installment            200189 non-null float64\n",
      "open_acc               200189 non-null float64\n",
      "total_acc              200189 non-null float64\n",
      "dti                    200189 non-null float64\n",
      "purpose                200189 non-null object\n",
      "tot_cur_bal            152232 non-null float64\n",
      "sub_grade              200189 non-null object\n",
      "home_ownership         200189 non-null object\n",
      "inq_last_6mths         200189 non-null float64\n",
      "total_rev_hi_lim       152232 non-null float64\n",
      "revol_bal              200189 non-null float64\n",
      "revol_util             200035 non-null float64\n",
      "tot_coll_amt           152232 non-null float64\n",
      "loan_amnt              200189 non-null float64\n",
      "dtypes: float64(13), object(6)\n",
      "memory usage: 29.0+ MB\n"
     ]
    }
   ],
   "source": [
    "x = train.loc[:,['annual_inc','verification_status','int_rate','initial_list_status','term',\n",
    "                 'installment','open_acc','total_acc','dti','purpose','tot_cur_bal',\n",
    "                 'sub_grade','home_ownership','inq_last_6mths','total_rev_hi_lim',\n",
    "                 'revol_bal','revol_util',\n",
    "                 'tot_coll_amt','loan_amnt',] ] # параметры\n",
    "x.drop(top[-1], axis=1)\n",
    "x.info()"
   ]
  },
  {
   "cell_type": "code",
   "execution_count": 126,
   "metadata": {},
   "outputs": [
    {
     "name": "stdout",
     "output_type": "stream",
     "text": [
      "<class 'pandas.core.frame.DataFrame'>\n",
      "RangeIndex: 200189 entries, 0 to 200188\n",
      "Data columns (total 19 columns):\n",
      "annual_inc             200189 non-null float64\n",
      "verification_status    200189 non-null object\n",
      "int_rate               200189 non-null float64\n",
      "initial_list_status    200189 non-null object\n",
      "term                   200189 non-null object\n",
      "installment            200189 non-null float64\n",
      "open_acc               200189 non-null float64\n",
      "total_acc              200189 non-null float64\n",
      "dti                    200189 non-null float64\n",
      "purpose                200189 non-null object\n",
      "tot_cur_bal            152232 non-null float64\n",
      "sub_grade              200189 non-null object\n",
      "home_ownership         200189 non-null object\n",
      "inq_last_6mths         200189 non-null float64\n",
      "total_rev_hi_lim       152232 non-null float64\n",
      "revol_bal              200189 non-null float64\n",
      "revol_util             200035 non-null float64\n",
      "tot_coll_amt           152232 non-null float64\n",
      "loan_amnt              200189 non-null float64\n",
      "dtypes: float64(13), object(6)\n",
      "memory usage: 29.0+ MB\n"
     ]
    }
   ],
   "source": [
    "#NaN killer\n",
    "Nan_killer(x)\n",
    "x.info()"
   ]
  },
  {
   "cell_type": "code",
   "execution_count": 127,
   "metadata": {},
   "outputs": [
    {
     "data": {
      "text/plain": [
       "Index(['verification_status', 'initial_list_status', 'term', 'purpose',\n",
       "       'sub_grade', 'home_ownership'],\n",
       "      dtype='object')"
      ]
     },
     "execution_count": 127,
     "metadata": {},
     "output_type": "execute_result"
    }
   ],
   "source": [
    "categorical_features_names = x.columns[x_train.dtypes == 'object']\n",
    "categorical_features_names"
   ]
  },
  {
   "cell_type": "code",
   "execution_count": 128,
   "metadata": {},
   "outputs": [],
   "source": [
    "categorical_features_indices = [x.columns.get_loc(i) for i in categorical_features_names]"
   ]
  },
  {
   "cell_type": "code",
   "execution_count": 129,
   "metadata": {},
   "outputs": [],
   "source": [
    "if 'purpose' in categorical_features_names:\n",
    "    x['purpose'] = x['purpose'].astype(str).map(lambda x: 'other' if x in ['educational', 'renewable_energy','vacation','house','wedding','moving','medical','car','small_business','major_purchase'] else x)"
   ]
  },
  {
   "cell_type": "code",
   "execution_count": 130,
   "metadata": {},
   "outputs": [],
   "source": [
    "if 'term' in categorical_features_names:\n",
    "    x['term'] = x['term'].astype(str).map(lambda x: 36 if x == ' 36 months' else 60)"
   ]
  },
  {
   "cell_type": "code",
   "execution_count": 131,
   "metadata": {},
   "outputs": [],
   "source": [
    "if 'sub_grade' in categorical_features_names:\n",
    "    x['sub_grade'] = x['sub_grade'].astype('str').map(lambda x: ord(x[0])*10 + int(x[1]))"
   ]
  },
  {
   "cell_type": "code",
   "execution_count": 132,
   "metadata": {},
   "outputs": [],
   "source": [
    "x_train, x_test, y_train, y_test = train_test_split(x, y, test_size=0.3, random_state = 42)"
   ]
  },
  {
   "cell_type": "code",
   "execution_count": 133,
   "metadata": {},
   "outputs": [
    {
     "data": {
      "text/plain": [
       "Index(['verification_status', 'initial_list_status', 'purpose',\n",
       "       'home_ownership'],\n",
       "      dtype='object')"
      ]
     },
     "execution_count": 133,
     "metadata": {},
     "output_type": "execute_result"
    }
   ],
   "source": [
    "categorical_features_names = x_train.columns[x_train.dtypes == 'object']\n",
    "categorical_features_names"
   ]
  },
  {
   "cell_type": "code",
   "execution_count": 134,
   "metadata": {},
   "outputs": [
    {
     "data": {
      "text/plain": [
       "[1, 3, 9, 12]"
      ]
     },
     "execution_count": 134,
     "metadata": {},
     "output_type": "execute_result"
    }
   ],
   "source": [
    "categorical_features_indices = [x_train.columns.get_loc(i) for i in categorical_features_names]\n",
    "categorical_features_indices"
   ]
  },
  {
   "cell_type": "code",
   "execution_count": 135,
   "metadata": {},
   "outputs": [],
   "source": [
    "train_pool = Pool(x_train, y_train, cat_features=categorical_features_indices)\n",
    "validate_pool = Pool(x_test, y_test, cat_features=categorical_features_indices)"
   ]
  },
  {
   "cell_type": "code",
   "execution_count": 136,
   "metadata": {},
   "outputs": [
    {
     "name": "stdout",
     "output_type": "stream",
     "text": [
      "evaluating params={'learning_rate': 0.06455055929014733, 'max_depth': 6.0, 'colsample_bylevel': 0.7425935964879817, 'bagging_temperature': 29.826163136513074, 'random_strength': 83.26320323149598, 'scale_pos_weight': 7.820515783320582, 'task_type': 'CPU', 'loss_function': 'Logloss', 'eval_metric': 'AUC', 'od_type': 'Iter', 'od_wait': 40, 'custom_metric': ['AUC'], 'iterations': 400, 'random_seed': 42}\n",
      "evaluated score=0.6276106715588896                                                                                     \n",
      "evaluated 1 times                                                                                                      \n",
      "evaluating params={'learning_rate': 0.7469657190897886, 'max_depth': 6.0, 'colsample_bylevel': 0.8350739741344673, 'bagging_temperature': 41.411863248553836, 'random_strength': 72.77257431773249, 'scale_pos_weight': 7.151559382799706, 'task_type': 'CPU', 'loss_function': 'Logloss', 'eval_metric': 'AUC', 'od_type': 'Iter', 'od_wait': 40, 'custom_metric': ['AUC'], 'iterations': 400, 'random_seed': 42}\n",
      "evaluated score=0.5                                                                                                    \n",
      "evaluated 2 times                                                                                                      \n",
      "evaluating params={'learning_rate': 0.24969398680849822, 'max_depth': 10.0, 'colsample_bylevel': 0.9320639577324752, 'bagging_temperature': 6.231294084407146, 'random_strength': 88.33152773808621, 'scale_pos_weight': 13.560825333299263, 'task_type': 'CPU', 'loss_function': 'Logloss', 'eval_metric': 'AUC', 'od_type': 'Iter', 'od_wait': 40, 'custom_metric': ['AUC'], 'iterations': 400, 'random_seed': 42}\n",
      "evaluated score=0.6164865810266468                                                                                     \n",
      "evaluated 3 times                                                                                                      \n",
      "evaluating params={'learning_rate': 0.09283873525663582, 'max_depth': 7.0, 'colsample_bylevel': 0.5939775931836743, 'bagging_temperature': 45.366534380629886, 'random_strength': 91.87225216693768, 'scale_pos_weight': 7.672487684517276, 'task_type': 'CPU', 'loss_function': 'Logloss', 'eval_metric': 'AUC', 'od_type': 'Iter', 'od_wait': 40, 'custom_metric': ['AUC'], 'iterations': 400, 'random_seed': 42}\n",
      "evaluated score=0.5                                                                                                    \n",
      "evaluated 4 times                                                                                                      \n",
      "evaluating params={'learning_rate': 0.4824571912345811, 'max_depth': 9.0, 'colsample_bylevel': 0.7615261640271918, 'bagging_temperature': 9.545503921499343, 'random_strength': 17.187156139656068, 'scale_pos_weight': 13.185939825360448, 'task_type': 'CPU', 'loss_function': 'Logloss', 'eval_metric': 'AUC', 'od_type': 'Iter', 'od_wait': 40, 'custom_metric': ['AUC'], 'iterations': 400, 'random_seed': 42}\n",
      "evaluated score=0.5924811359212733                                                                                     \n",
      "evaluated 5 times                                                                                                      \n",
      "evaluating params={'learning_rate': 0.426029987330877, 'max_depth': 8.0, 'colsample_bylevel': 0.9519260362533433, 'bagging_temperature': 71.70311511598368, 'random_strength': 43.80291864409232, 'scale_pos_weight': 12.993301624107593, 'task_type': 'CPU', 'loss_function': 'Logloss', 'eval_metric': 'AUC', 'od_type': 'Iter', 'od_wait': 40, 'custom_metric': ['AUC'], 'iterations': 400, 'random_seed': 42}\n",
      "evaluated score=0.5                                                                                                    \n",
      "evaluated 6 times                                                                                                      \n",
      "evaluating params={'learning_rate': 0.1392496711244547, 'max_depth': 5.0, 'colsample_bylevel': 0.9002516157283724, 'bagging_temperature': 37.25797779832578, 'random_strength': 93.93697376027716, 'scale_pos_weight': 12.010420269783523, 'task_type': 'CPU', 'loss_function': 'Logloss', 'eval_metric': 'AUC', 'od_type': 'Iter', 'od_wait': 40, 'custom_metric': ['AUC'], 'iterations': 400, 'random_seed': 42}\n",
      "evaluated score=0.5                                                                                                    \n",
      "evaluated 7 times                                                                                                      \n",
      "evaluating params={'learning_rate': 0.2936281162179091, 'max_depth': 9.0, 'colsample_bylevel': 0.7963098376527838, 'bagging_temperature': 59.462003508683836, 'random_strength': 77.53643788278823, 'scale_pos_weight': 10.256190377534743, 'task_type': 'CPU', 'loss_function': 'Logloss', 'eval_metric': 'AUC', 'od_type': 'Iter', 'od_wait': 40, 'custom_metric': ['AUC'], 'iterations': 400, 'random_seed': 42}\n",
      "evaluated score=0.5                                                                                                    \n",
      "evaluated 8 times                                                                                                      \n",
      "evaluating params={'learning_rate': 0.40220869584140617, 'max_depth': 9.0, 'colsample_bylevel': 0.6620299911421867, 'bagging_temperature': 5.1134553677051775, 'random_strength': 92.00092264373161, 'scale_pos_weight': 9.151046015354687, 'task_type': 'CPU', 'loss_function': 'Logloss', 'eval_metric': 'AUC', 'od_type': 'Iter', 'od_wait': 40, 'custom_metric': ['AUC'], 'iterations': 400, 'random_seed': 42}\n",
      "evaluated score=0.6366703250437072                                                                                     \n",
      "evaluated 9 times                                                                                                      \n",
      "evaluating params={'learning_rate': 0.6986050234859398, 'max_depth': 6.0, 'colsample_bylevel': 0.6905323823987464, 'bagging_temperature': 21.14142872741962, 'random_strength': 70.06214446213659, 'scale_pos_weight': 15.332169794648921, 'task_type': 'CPU', 'loss_function': 'Logloss', 'eval_metric': 'AUC', 'od_type': 'Iter', 'od_wait': 40, 'custom_metric': ['AUC'], 'iterations': 400, 'random_seed': 42}\n",
      "evaluated score=0.6009526149293688                                                                                     \n",
      "evaluated 10 times                                                                                                     \n",
      "evaluating params={'learning_rate': 0.5956133680507415, 'max_depth': 6.0, 'colsample_bylevel': 0.7893321681141924, 'bagging_temperature': 27.47148488354174, 'random_strength': 81.78300196637514, 'scale_pos_weight': 1.0544546088211484, 'task_type': 'CPU', 'loss_function': 'Logloss', 'eval_metric': 'AUC', 'od_type': 'Iter', 'od_wait': 40, 'custom_metric': ['AUC'], 'iterations': 400, 'random_seed': 42}\n",
      "evaluated score=0.6458510175968245                                                                                     \n",
      "evaluated 11 times                                                                                                     \n",
      "evaluating params={'learning_rate': 0.39434590071428977, 'max_depth': 7.0, 'colsample_bylevel': 0.6816015479755677, 'bagging_temperature': 71.93764256573532, 'random_strength': 35.84815225733641, 'scale_pos_weight': 14.18703830797068, 'task_type': 'CPU', 'loss_function': 'Logloss', 'eval_metric': 'AUC', 'od_type': 'Iter', 'od_wait': 40, 'custom_metric': ['AUC'], 'iterations': 400, 'random_seed': 42}\n",
      "evaluated score=0.5                                                                                                    \n",
      "evaluated 12 times                                                                                                     \n",
      "evaluating params={'learning_rate': 0.7685649503580674, 'max_depth': 6.0, 'colsample_bylevel': 0.7455551022408217, 'bagging_temperature': 38.60707574736531, 'random_strength': 30.725816388873938, 'scale_pos_weight': 14.222176264494117, 'task_type': 'CPU', 'loss_function': 'Logloss', 'eval_metric': 'AUC', 'od_type': 'Iter', 'od_wait': 40, 'custom_metric': ['AUC'], 'iterations': 400, 'random_seed': 42}\n"
     ]
    },
    {
     "name": "stdout",
     "output_type": "stream",
     "text": [
      "evaluated score=0.5                                                                                                    \n",
      "evaluated 13 times                                                                                                     \n",
      "evaluating params={'learning_rate': 0.6816071034106231, 'max_depth': 6.0, 'colsample_bylevel': 0.8987194012367643, 'bagging_temperature': 17.39917225073908, 'random_strength': 1.3183035637853835, 'scale_pos_weight': 8.906647116199107, 'task_type': 'CPU', 'loss_function': 'Logloss', 'eval_metric': 'AUC', 'od_type': 'Iter', 'od_wait': 40, 'custom_metric': ['AUC'], 'iterations': 400, 'random_seed': 42}\n",
      "evaluated score=0.6276201810816152                                                                                     \n",
      "evaluated 14 times                                                                                                     \n",
      "evaluating params={'learning_rate': 0.19800717762087047, 'max_depth': 7.0, 'colsample_bylevel': 0.6308684032130806, 'bagging_temperature': 9.749591346538377, 'random_strength': 92.09817283659105, 'scale_pos_weight': 10.555510471361897, 'task_type': 'CPU', 'loss_function': 'Logloss', 'eval_metric': 'AUC', 'od_type': 'Iter', 'od_wait': 40, 'custom_metric': ['AUC'], 'iterations': 400, 'random_seed': 42}\n",
      "evaluated score=0.6251617385497678                                                                                     \n",
      "evaluated 15 times                                                                                                     \n",
      "evaluating params={'learning_rate': 0.30176937784286434, 'max_depth': 8.0, 'colsample_bylevel': 0.5144422625256673, 'bagging_temperature': 0.4971188920065317, 'random_strength': 64.00100015740247, 'scale_pos_weight': 9.750539284627434, 'task_type': 'CPU', 'loss_function': 'Logloss', 'eval_metric': 'AUC', 'od_type': 'Iter', 'od_wait': 40, 'custom_metric': ['AUC'], 'iterations': 400, 'random_seed': 42}\n",
      "evaluated score=0.5824425307060078                                                                                     \n",
      "evaluated 16 times                                                                                                     \n",
      "evaluating params={'learning_rate': 0.23970194674028295, 'max_depth': 9.0, 'colsample_bylevel': 0.5625745905758681, 'bagging_temperature': 55.627423762114184, 'random_strength': 12.470065927231532, 'scale_pos_weight': 8.73748167895595, 'task_type': 'CPU', 'loss_function': 'Logloss', 'eval_metric': 'AUC', 'od_type': 'Iter', 'od_wait': 40, 'custom_metric': ['AUC'], 'iterations': 400, 'random_seed': 42}\n",
      "evaluated score=0.5                                                                                                    \n",
      "evaluated 17 times                                                                                                     \n",
      "evaluating params={'learning_rate': 0.4012958021261945, 'max_depth': 9.0, 'colsample_bylevel': 0.8455558039385862, 'bagging_temperature': 94.11368288673546, 'random_strength': 68.10391246607139, 'scale_pos_weight': 11.381656781069033, 'task_type': 'CPU', 'loss_function': 'Logloss', 'eval_metric': 'AUC', 'od_type': 'Iter', 'od_wait': 40, 'custom_metric': ['AUC'], 'iterations': 400, 'random_seed': 42}\n",
      "evaluated score=0.5                                                                                                    \n",
      "evaluated 18 times                                                                                                     \n",
      "evaluating params={'learning_rate': 0.6505258556695427, 'max_depth': 8.0, 'colsample_bylevel': 0.9708723155369876, 'bagging_temperature': 67.02496253184057, 'random_strength': 69.46896343853821, 'scale_pos_weight': 5.32207615422222, 'task_type': 'CPU', 'loss_function': 'Logloss', 'eval_metric': 'AUC', 'od_type': 'Iter', 'od_wait': 40, 'custom_metric': ['AUC'], 'iterations': 400, 'random_seed': 42}\n",
      "evaluated score=0.5                                                                                                    \n",
      "evaluated 19 times                                                                                                     \n",
      "evaluating params={'learning_rate': 0.6735075794410379, 'max_depth': 4.0, 'colsample_bylevel': 0.9812939388768891, 'bagging_temperature': 70.5194745389447, 'random_strength': 87.51118984907046, 'scale_pos_weight': 6.966788039978879, 'task_type': 'CPU', 'loss_function': 'Logloss', 'eval_metric': 'AUC', 'od_type': 'Iter', 'od_wait': 40, 'custom_metric': ['AUC'], 'iterations': 400, 'random_seed': 42}\n",
      "evaluated score=0.5                                                                                                    \n",
      "evaluated 20 times                                                                                                     \n",
      "evaluating params={'learning_rate': 0.5734662425089077, 'max_depth': 8.0, 'colsample_bylevel': 0.6304453528545368, 'bagging_temperature': 62.84810666157716, 'random_strength': 73.4104187301871, 'scale_pos_weight': 2.4675261036805853, 'task_type': 'CPU', 'loss_function': 'Logloss', 'eval_metric': 'AUC', 'od_type': 'Iter', 'od_wait': 40, 'custom_metric': ['AUC'], 'iterations': 400, 'random_seed': 42}\n",
      "evaluated score=0.5                                                                                                    \n",
      "evaluated 21 times                                                                                                     \n",
      "evaluating params={'learning_rate': 0.562943674257195, 'max_depth': 5.0, 'colsample_bylevel': 0.5483119512487002, 'bagging_temperature': 13.729876000611597, 'random_strength': 11.917934729048618, 'scale_pos_weight': 7.7437572739136336, 'task_type': 'CPU', 'loss_function': 'Logloss', 'eval_metric': 'AUC', 'od_type': 'Iter', 'od_wait': 40, 'custom_metric': ['AUC'], 'iterations': 400, 'random_seed': 42}\n",
      "evaluated score=0.6200584911276132                                                                                     \n",
      "evaluated 22 times                                                                                                     \n",
      "evaluating params={'learning_rate': 0.30171478622039305, 'max_depth': 8.0, 'colsample_bylevel': 0.5531324082829224, 'bagging_temperature': 19.27527018070495, 'random_strength': 59.32653223463626, 'scale_pos_weight': 5.959256741821097, 'task_type': 'CPU', 'loss_function': 'Logloss', 'eval_metric': 'AUC', 'od_type': 'Iter', 'od_wait': 40, 'custom_metric': ['AUC'], 'iterations': 400, 'random_seed': 42}\n",
      "evaluated score=0.6512933496225607                                                                                     \n",
      "evaluated 23 times                                                                                                     \n",
      "evaluating params={'learning_rate': 0.11097111782120497, 'max_depth': 9.0, 'colsample_bylevel': 0.7409387009901992, 'bagging_temperature': 86.1172196771636, 'random_strength': 15.546845674932808, 'scale_pos_weight': 12.839684626967696, 'task_type': 'CPU', 'loss_function': 'Logloss', 'eval_metric': 'AUC', 'od_type': 'Iter', 'od_wait': 40, 'custom_metric': ['AUC'], 'iterations': 400, 'random_seed': 42}\n",
      "evaluated score=0.5                                                                                                    \n",
      "evaluated 24 times                                                                                                     \n",
      "evaluating params={'learning_rate': 0.11874463606048295, 'max_depth': 8.0, 'colsample_bylevel': 0.9143513727263843, 'bagging_temperature': 52.83445689811619, 'random_strength': 64.16434702146898, 'scale_pos_weight': 14.91359148640431, 'task_type': 'CPU', 'loss_function': 'Logloss', 'eval_metric': 'AUC', 'od_type': 'Iter', 'od_wait': 40, 'custom_metric': ['AUC'], 'iterations': 400, 'random_seed': 42}\n",
      "evaluated score=0.5                                                                                                    \n",
      "evaluated 25 times                                                                                                     \n"
     ]
    },
    {
     "name": "stdout",
     "output_type": "stream",
     "text": [
      "evaluating params={'learning_rate': 0.6990952871256788, 'max_depth': 7.0, 'colsample_bylevel': 0.9886431821208913, 'bagging_temperature': 37.02268496294152, 'random_strength': 30.46124241138234, 'scale_pos_weight': 5.956456248816514, 'task_type': 'CPU', 'loss_function': 'Logloss', 'eval_metric': 'AUC', 'od_type': 'Iter', 'od_wait': 40, 'custom_metric': ['AUC'], 'iterations': 400, 'random_seed': 42}\n",
      "evaluated score=0.5                                                                                                    \n",
      "evaluated 26 times                                                                                                     \n",
      "evaluating params={'learning_rate': 0.24329907330073666, 'max_depth': 8.0, 'colsample_bylevel': 0.7808420826245261, 'bagging_temperature': 20.368720717700416, 'random_strength': 70.4583602067651, 'scale_pos_weight': 13.45498682238244, 'task_type': 'CPU', 'loss_function': 'Logloss', 'eval_metric': 'AUC', 'od_type': 'Iter', 'od_wait': 40, 'custom_metric': ['AUC'], 'iterations': 400, 'random_seed': 42}\n",
      "evaluated score=0.6165084739619987                                                                                     \n",
      "evaluated 27 times                                                                                                     \n",
      "evaluating params={'learning_rate': 0.04086353893886585, 'max_depth': 6.0, 'colsample_bylevel': 0.9572428411764734, 'bagging_temperature': 86.14960210057677, 'random_strength': 0.6965422065443372, 'scale_pos_weight': 10.92660490498745, 'task_type': 'CPU', 'loss_function': 'Logloss', 'eval_metric': 'AUC', 'od_type': 'Iter', 'od_wait': 40, 'custom_metric': ['AUC'], 'iterations': 400, 'random_seed': 42}\n",
      "evaluated score=0.5                                                                                                    \n",
      "evaluated 28 times                                                                                                     \n",
      "evaluating params={'learning_rate': 0.7044181740437416, 'max_depth': 9.0, 'colsample_bylevel': 0.6655150483186099, 'bagging_temperature': 12.738262171620264, 'random_strength': 63.4490889188811, 'scale_pos_weight': 6.314410522320887, 'task_type': 'CPU', 'loss_function': 'Logloss', 'eval_metric': 'AUC', 'od_type': 'Iter', 'od_wait': 40, 'custom_metric': ['AUC'], 'iterations': 400, 'random_seed': 42}\n",
      "evaluated score=0.654985882439237                                                                                      \n",
      "evaluated 29 times                                                                                                     \n",
      "evaluating params={'learning_rate': 0.6516189553537985, 'max_depth': 6.0, 'colsample_bylevel': 0.5019218012929152, 'bagging_temperature': 53.84241532241949, 'random_strength': 65.00439661591349, 'scale_pos_weight': 10.769804369641149, 'task_type': 'CPU', 'loss_function': 'Logloss', 'eval_metric': 'AUC', 'od_type': 'Iter', 'od_wait': 40, 'custom_metric': ['AUC'], 'iterations': 400, 'random_seed': 42}\n",
      "evaluated score=0.5                                                                                                    \n",
      "evaluated 30 times                                                                                                     \n",
      "evaluating params={'learning_rate': 0.3023023711356902, 'max_depth': 8.0, 'colsample_bylevel': 0.6556457567145959, 'bagging_temperature': 82.24195855857882, 'random_strength': 13.16595920133481, 'scale_pos_weight': 7.37721104605222, 'task_type': 'CPU', 'loss_function': 'Logloss', 'eval_metric': 'AUC', 'od_type': 'Iter', 'od_wait': 40, 'custom_metric': ['AUC'], 'iterations': 400, 'random_seed': 42}\n",
      "evaluated score=0.5                                                                                                    \n",
      "evaluated 31 times                                                                                                     \n",
      "evaluating params={'learning_rate': 0.5644131814496948, 'max_depth': 9.0, 'colsample_bylevel': 0.9097812496257851, 'bagging_temperature': 77.91984817769776, 'random_strength': 31.676869347796277, 'scale_pos_weight': 9.078186015741204, 'task_type': 'CPU', 'loss_function': 'Logloss', 'eval_metric': 'AUC', 'od_type': 'Iter', 'od_wait': 40, 'custom_metric': ['AUC'], 'iterations': 400, 'random_seed': 42}\n",
      "evaluated score=0.5                                                                                                    \n",
      "evaluated 32 times                                                                                                     \n",
      "evaluating params={'learning_rate': 0.5590318303514967, 'max_depth': 8.0, 'colsample_bylevel': 0.8508394625620042, 'bagging_temperature': 42.529710406239154, 'random_strength': 57.568250531790746, 'scale_pos_weight': 2.969163939303326, 'task_type': 'CPU', 'loss_function': 'Logloss', 'eval_metric': 'AUC', 'od_type': 'Iter', 'od_wait': 40, 'custom_metric': ['AUC'], 'iterations': 400, 'random_seed': 42}\n",
      "evaluated score=0.5                                                                                                    \n",
      "evaluated 33 times                                                                                                     \n",
      "evaluating params={'learning_rate': 0.6120026464899954, 'max_depth': 6.0, 'colsample_bylevel': 0.5947476340749828, 'bagging_temperature': 70.96811670294242, 'random_strength': 62.459046032330775, 'scale_pos_weight': 9.04750955110397, 'task_type': 'CPU', 'loss_function': 'Logloss', 'eval_metric': 'AUC', 'od_type': 'Iter', 'od_wait': 40, 'custom_metric': ['AUC'], 'iterations': 400, 'random_seed': 42}\n",
      "evaluated score=0.5                                                                                                    \n",
      "evaluated 34 times                                                                                                     \n",
      "evaluating params={'learning_rate': 0.08691595905882502, 'max_depth': 6.0, 'colsample_bylevel': 0.925738266770135, 'bagging_temperature': 30.082329093344395, 'random_strength': 60.338313715544004, 'scale_pos_weight': 5.894602452232973, 'task_type': 'CPU', 'loss_function': 'Logloss', 'eval_metric': 'AUC', 'od_type': 'Iter', 'od_wait': 40, 'custom_metric': ['AUC'], 'iterations': 400, 'random_seed': 42}\n",
      "evaluated score=0.6101494259224925                                                                                     \n",
      "evaluated 35 times                                                                                                     \n",
      "evaluating params={'learning_rate': 0.42511142589135503, 'max_depth': 7.0, 'colsample_bylevel': 0.7334249774494812, 'bagging_temperature': 48.20077804650612, 'random_strength': 18.40579185712945, 'scale_pos_weight': 9.048359364952153, 'task_type': 'CPU', 'loss_function': 'Logloss', 'eval_metric': 'AUC', 'od_type': 'Iter', 'od_wait': 40, 'custom_metric': ['AUC'], 'iterations': 400, 'random_seed': 42}\n",
      "evaluated score=0.5                                                                                                    \n",
      "evaluated 36 times                                                                                                     \n",
      "evaluating params={'learning_rate': 0.08578380823258902, 'max_depth': 6.0, 'colsample_bylevel': 0.8804363657182184, 'bagging_temperature': 67.95205089825916, 'random_strength': 49.65738663401596, 'scale_pos_weight': 7.496472632910514, 'task_type': 'CPU', 'loss_function': 'Logloss', 'eval_metric': 'AUC', 'od_type': 'Iter', 'od_wait': 40, 'custom_metric': ['AUC'], 'iterations': 400, 'random_seed': 42}\n",
      "evaluated score=0.5                                                                                                    \n",
      "evaluated 37 times                                                                                                     \n",
      "evaluating params={'learning_rate': 0.19989098684426826, 'max_depth': 6.0, 'colsample_bylevel': 0.5504896649264421, 'bagging_temperature': 35.25539025632924, 'random_strength': 75.14004257971514, 'scale_pos_weight': 13.77923061324646, 'task_type': 'CPU', 'loss_function': 'Logloss', 'eval_metric': 'AUC', 'od_type': 'Iter', 'od_wait': 40, 'custom_metric': ['AUC'], 'iterations': 400, 'random_seed': 42}\n"
     ]
    },
    {
     "name": "stdout",
     "output_type": "stream",
     "text": [
      "evaluated score=0.6348619929164084                                                                                     \n",
      "evaluated 38 times                                                                                                     \n",
      "evaluating params={'learning_rate': 0.3176903626733709, 'max_depth': 5.0, 'colsample_bylevel': 0.7576107737512063, 'bagging_temperature': 69.77740837456095, 'random_strength': 3.7277118258843833, 'scale_pos_weight': 11.63786487812268, 'task_type': 'CPU', 'loss_function': 'Logloss', 'eval_metric': 'AUC', 'od_type': 'Iter', 'od_wait': 40, 'custom_metric': ['AUC'], 'iterations': 400, 'random_seed': 42}\n",
      "evaluated score=0.5                                                                                                    \n",
      "evaluated 39 times                                                                                                     \n",
      "evaluating params={'learning_rate': 0.5116330929422992, 'max_depth': 6.0, 'colsample_bylevel': 0.6881294671910385, 'bagging_temperature': 49.663835413421864, 'random_strength': 79.52631814690415, 'scale_pos_weight': 15.079604804299631, 'task_type': 'CPU', 'loss_function': 'Logloss', 'eval_metric': 'AUC', 'od_type': 'Iter', 'od_wait': 40, 'custom_metric': ['AUC'], 'iterations': 400, 'random_seed': 42}\n",
      "evaluated score=0.5                                                                                                    \n",
      "evaluated 40 times                                                                                                     \n",
      "evaluating params={'learning_rate': 0.30611892615023495, 'max_depth': 5.0, 'colsample_bylevel': 0.6679211768749299, 'bagging_temperature': 6.7371898726728325, 'random_strength': 90.23295140820429, 'scale_pos_weight': 4.251934608050318, 'task_type': 'CPU', 'loss_function': 'Logloss', 'eval_metric': 'AUC', 'od_type': 'Iter', 'od_wait': 40, 'custom_metric': ['AUC'], 'iterations': 400, 'random_seed': 42}\n",
      "evaluated score=0.6000066293560503                                                                                     \n",
      "evaluated 41 times                                                                                                     \n",
      "evaluating params={'learning_rate': 0.30641269670985033, 'max_depth': 4.0, 'colsample_bylevel': 0.8499749370450363, 'bagging_temperature': 75.10349109199097, 'random_strength': 70.83825544375651, 'scale_pos_weight': 8.17207067063337, 'task_type': 'CPU', 'loss_function': 'Logloss', 'eval_metric': 'AUC', 'od_type': 'Iter', 'od_wait': 40, 'custom_metric': ['AUC'], 'iterations': 400, 'random_seed': 42}\n",
      "evaluated score=0.5                                                                                                    \n",
      "evaluated 42 times                                                                                                     \n",
      "evaluating params={'learning_rate': 0.4279413325594994, 'max_depth': 8.0, 'colsample_bylevel': 0.6846162493945316, 'bagging_temperature': 85.15570966410692, 'random_strength': 25.676623887620707, 'scale_pos_weight': 9.195512705198349, 'task_type': 'CPU', 'loss_function': 'Logloss', 'eval_metric': 'AUC', 'od_type': 'Iter', 'od_wait': 40, 'custom_metric': ['AUC'], 'iterations': 400, 'random_seed': 42}\n",
      "evaluated score=0.5                                                                                                    \n",
      "evaluated 43 times                                                                                                     \n",
      "evaluating params={'learning_rate': 0.7580299444808133, 'max_depth': 10.0, 'colsample_bylevel': 0.6560654544857116, 'bagging_temperature': 9.606602573184976, 'random_strength': 38.07157402345723, 'scale_pos_weight': 15.44322039696387, 'task_type': 'CPU', 'loss_function': 'Logloss', 'eval_metric': 'AUC', 'od_type': 'Iter', 'od_wait': 40, 'custom_metric': ['AUC'], 'iterations': 400, 'random_seed': 42}\n",
      "evaluated score=0.6438500608421688                                                                                     \n",
      "evaluated 44 times                                                                                                     \n",
      "evaluating params={'learning_rate': 0.20930792475812623, 'max_depth': 10.0, 'colsample_bylevel': 0.5886668909032519, 'bagging_temperature': 34.823504904022414, 'random_strength': 78.52734938376074, 'scale_pos_weight': 10.205598741673892, 'task_type': 'CPU', 'loss_function': 'Logloss', 'eval_metric': 'AUC', 'od_type': 'Iter', 'od_wait': 40, 'custom_metric': ['AUC'], 'iterations': 400, 'random_seed': 42}\n",
      "evaluated score=0.6479623083358327                                                                                     \n",
      "evaluated 45 times                                                                                                     \n",
      "evaluating params={'learning_rate': 0.03690584752959317, 'max_depth': 5.0, 'colsample_bylevel': 0.7383440484332322, 'bagging_temperature': 2.4179327359312053, 'random_strength': 96.96509583621922, 'scale_pos_weight': 5.643577706454599, 'task_type': 'CPU', 'loss_function': 'Logloss', 'eval_metric': 'AUC', 'od_type': 'Iter', 'od_wait': 40, 'custom_metric': ['AUC'], 'iterations': 400, 'random_seed': 42}\n",
      "evaluated score=0.5898370294560837                                                                                     \n",
      "evaluated 46 times                                                                                                     \n",
      "evaluating params={'learning_rate': 0.6611656132549413, 'max_depth': 7.0, 'colsample_bylevel': 0.5126036962879645, 'bagging_temperature': 38.976526645092015, 'random_strength': 25.530311192309473, 'scale_pos_weight': 5.4630110310181985, 'task_type': 'CPU', 'loss_function': 'Logloss', 'eval_metric': 'AUC', 'od_type': 'Iter', 'od_wait': 40, 'custom_metric': ['AUC'], 'iterations': 400, 'random_seed': 42}\n",
      "evaluated score=0.5                                                                                                    \n",
      "evaluated 47 times                                                                                                     \n",
      "evaluating params={'learning_rate': 0.7512715308588567, 'max_depth': 5.0, 'colsample_bylevel': 0.5949353001936417, 'bagging_temperature': 47.64867445075578, 'random_strength': 97.92804334722808, 'scale_pos_weight': 1.062446140424417, 'task_type': 'CPU', 'loss_function': 'Logloss', 'eval_metric': 'AUC', 'od_type': 'Iter', 'od_wait': 40, 'custom_metric': ['AUC'], 'iterations': 400, 'random_seed': 42}\n",
      "evaluated score=0.5                                                                                                    \n",
      "evaluated 48 times                                                                                                     \n",
      "evaluating params={'learning_rate': 0.016566017126364248, 'max_depth': 7.0, 'colsample_bylevel': 0.8216931897786428, 'bagging_temperature': 14.776484063446116, 'random_strength': 87.66639642845378, 'scale_pos_weight': 15.28714079131189, 'task_type': 'CPU', 'loss_function': 'Logloss', 'eval_metric': 'AUC', 'od_type': 'Iter', 'od_wait': 40, 'custom_metric': ['AUC'], 'iterations': 400, 'random_seed': 42}\n",
      "evaluated score=0.6111335121242515                                                                                     \n",
      "evaluated 49 times                                                                                                     \n",
      "evaluating params={'learning_rate': 0.698766863396429, 'max_depth': 8.0, 'colsample_bylevel': 0.6857782082163167, 'bagging_temperature': 17.998987540853896, 'random_strength': 35.37693915300544, 'scale_pos_weight': 15.817197733911794, 'task_type': 'CPU', 'loss_function': 'Logloss', 'eval_metric': 'AUC', 'od_type': 'Iter', 'od_wait': 40, 'custom_metric': ['AUC'], 'iterations': 400, 'random_seed': 42}\n",
      "evaluated score=0.6244302985079823                                                                                     \n",
      "evaluated 50 times                                                                                                     \n",
      "100%|████████████████████████████████████████████████| 50/50 [2:05:13<00:00, 225.55s/it, best loss: -0.654985882439237]\n"
     ]
    },
    {
     "name": "stderr",
     "output_type": "stream",
     "text": [
      "Warning: Custom metrics will not be evaluated because there are no test datasets\n"
     ]
    }
   ],
   "source": [
    "model, params = train_best_model(\n",
    "    train_pool, \n",
    "    const_params, \n",
    "    max_evals=hyperopt_iterations, \n",
    "    use_default=use_optimal_pretrained_params)"
   ]
  },
  {
   "cell_type": "code",
   "execution_count": 137,
   "metadata": {},
   "outputs": [
    {
     "data": {
      "text/plain": [
       "{'bagging_temperature': 12.738262171620264,\n",
       " 'colsample_bylevel': 0.6655150483186099,\n",
       " 'depth': 9.0,\n",
       " 'learning_rate': 0.7044181740437416,\n",
       " 'random_strength': 63.4490889188811,\n",
       " 'scale_pos_weight': 6.314410522320887,\n",
       " 'task_type': 'CPU',\n",
       " 'loss_function': 'Logloss',\n",
       " 'eval_metric': 'AUC',\n",
       " 'od_type': 'Iter',\n",
       " 'od_wait': 40,\n",
       " 'custom_metric': ['AUC'],\n",
       " 'iterations': 400,\n",
       " 'random_seed': 42}"
      ]
     },
     "execution_count": 137,
     "metadata": {},
     "output_type": "execute_result"
    }
   ],
   "source": [
    "params"
   ]
  },
  {
   "cell_type": "code",
   "execution_count": 138,
   "metadata": {},
   "outputs": [
    {
     "name": "stdout",
     "output_type": "stream",
     "text": [
      "ROC-AUC score:  0.6633088870137023\n"
     ]
    },
    {
     "data": {
      "image/png": "[encoded data removed]",
      "text/plain": [
       "<Figure size 432x288 with 1 Axes>"
      ]
     },
     "metadata": {
      "needs_background": "light"
     },
     "output_type": "display_data"
    }
   ],
   "source": [
    "plot_roc(model, x_test, y_test)"
   ]
  },
  {
   "cell_type": "code",
   "execution_count": 139,
   "metadata": {},
   "outputs": [
    {
     "name": "stdout",
     "output_type": "stream",
     "text": [
      "Recall: 0.98\n",
      "Precision score: 0.79\n",
      "Accuracy score: 0.78\n"
     ]
    }
   ],
   "source": [
    "show_scores(model, x_test, y_test)"
   ]
  },
  {
   "cell_type": "code",
   "execution_count": 140,
   "metadata": {},
   "outputs": [
    {
     "name": "stdout",
     "output_type": "stream",
     "text": [
      "0:\ttest: 0.6580940\tbest: 0.6580940 (0)\ttotal: 205ms\tremaining: 1m 21s\n",
      "1:\ttest: 0.6777828\tbest: 0.6777828 (1)\ttotal: 405ms\tremaining: 1m 20s\n",
      "2:\ttest: 0.6839271\tbest: 0.6839271 (2)\ttotal: 605ms\tremaining: 1m 20s\n",
      "3:\ttest: 0.6892552\tbest: 0.6892552 (3)\ttotal: 804ms\tremaining: 1m 19s\n",
      "4:\ttest: 0.6899382\tbest: 0.6899382 (4)\ttotal: 998ms\tremaining: 1m 18s\n",
      "5:\ttest: 0.6915935\tbest: 0.6915935 (5)\ttotal: 1.21s\tremaining: 1m 19s\n",
      "6:\ttest: 0.6966695\tbest: 0.6966695 (6)\ttotal: 1.42s\tremaining: 1m 19s\n",
      "7:\ttest: 0.6977415\tbest: 0.6977415 (7)\ttotal: 1.62s\tremaining: 1m 19s\n",
      "8:\ttest: 0.6983433\tbest: 0.6983433 (8)\ttotal: 1.82s\tremaining: 1m 19s\n",
      "9:\ttest: 0.6979878\tbest: 0.6983433 (8)\ttotal: 2.03s\tremaining: 1m 19s\n",
      "10:\ttest: 0.6975638\tbest: 0.6983433 (8)\ttotal: 2.23s\tremaining: 1m 18s\n",
      "11:\ttest: 0.6975558\tbest: 0.6983433 (8)\ttotal: 2.43s\tremaining: 1m 18s\n",
      "12:\ttest: 0.6976357\tbest: 0.6983433 (8)\ttotal: 2.62s\tremaining: 1m 18s\n",
      "13:\ttest: 0.6971368\tbest: 0.6983433 (8)\ttotal: 2.8s\tremaining: 1m 17s\n",
      "14:\ttest: 0.6979647\tbest: 0.6983433 (8)\ttotal: 2.99s\tremaining: 1m 16s\n",
      "15:\ttest: 0.6987759\tbest: 0.6987759 (15)\ttotal: 3.19s\tremaining: 1m 16s\n",
      "16:\ttest: 0.6983791\tbest: 0.6987759 (15)\ttotal: 3.38s\tremaining: 1m 16s\n",
      "17:\ttest: 0.6982126\tbest: 0.6987759 (15)\ttotal: 3.58s\tremaining: 1m 16s\n",
      "18:\ttest: 0.6979878\tbest: 0.6987759 (15)\ttotal: 3.78s\tremaining: 1m 15s\n",
      "19:\ttest: 0.6982852\tbest: 0.6987759 (15)\ttotal: 3.97s\tremaining: 1m 15s\n",
      "20:\ttest: 0.6983726\tbest: 0.6987759 (15)\ttotal: 4.17s\tremaining: 1m 15s\n",
      "21:\ttest: 0.6982269\tbest: 0.6987759 (15)\ttotal: 4.38s\tremaining: 1m 15s\n",
      "22:\ttest: 0.6985457\tbest: 0.6987759 (15)\ttotal: 4.57s\tremaining: 1m 14s\n",
      "23:\ttest: 0.6978246\tbest: 0.6987759 (15)\ttotal: 4.76s\tremaining: 1m 14s\n",
      "24:\ttest: 0.6976161\tbest: 0.6987759 (15)\ttotal: 4.96s\tremaining: 1m 14s\n",
      "25:\ttest: 0.6972722\tbest: 0.6987759 (15)\ttotal: 5.18s\tremaining: 1m 14s\n",
      "26:\ttest: 0.6969865\tbest: 0.6987759 (15)\ttotal: 5.39s\tremaining: 1m 14s\n",
      "27:\ttest: 0.6959902\tbest: 0.6987759 (15)\ttotal: 5.61s\tremaining: 1m 14s\n",
      "28:\ttest: 0.6960203\tbest: 0.6987759 (15)\ttotal: 5.8s\tremaining: 1m 14s\n",
      "29:\ttest: 0.6958946\tbest: 0.6987759 (15)\ttotal: 5.98s\tremaining: 1m 13s\n",
      "30:\ttest: 0.6961305\tbest: 0.6987759 (15)\ttotal: 6.19s\tremaining: 1m 13s\n",
      "31:\ttest: 0.6960807\tbest: 0.6987759 (15)\ttotal: 6.39s\tremaining: 1m 13s\n",
      "32:\ttest: 0.6966268\tbest: 0.6987759 (15)\ttotal: 6.6s\tremaining: 1m 13s\n",
      "33:\ttest: 0.6958847\tbest: 0.6987759 (15)\ttotal: 6.81s\tremaining: 1m 13s\n",
      "34:\ttest: 0.6956787\tbest: 0.6987759 (15)\ttotal: 7.02s\tremaining: 1m 13s\n",
      "35:\ttest: 0.6961066\tbest: 0.6987759 (15)\ttotal: 7.22s\tremaining: 1m 13s\n",
      "36:\ttest: 0.6962880\tbest: 0.6987759 (15)\ttotal: 7.43s\tremaining: 1m 12s\n",
      "37:\ttest: 0.6957974\tbest: 0.6987759 (15)\ttotal: 7.64s\tremaining: 1m 12s\n",
      "38:\ttest: 0.6952947\tbest: 0.6987759 (15)\ttotal: 7.82s\tremaining: 1m 12s\n",
      "39:\ttest: 0.6948218\tbest: 0.6987759 (15)\ttotal: 8.02s\tremaining: 1m 12s\n",
      "40:\ttest: 0.6941660\tbest: 0.6987759 (15)\ttotal: 8.22s\tremaining: 1m 12s\n",
      "41:\ttest: 0.6938601\tbest: 0.6987759 (15)\ttotal: 8.42s\tremaining: 1m 11s\n",
      "42:\ttest: 0.6936344\tbest: 0.6987759 (15)\ttotal: 8.61s\tremaining: 1m 11s\n",
      "43:\ttest: 0.6927352\tbest: 0.6987759 (15)\ttotal: 8.82s\tremaining: 1m 11s\n",
      "44:\ttest: 0.6923148\tbest: 0.6987759 (15)\ttotal: 9.02s\tremaining: 1m 11s\n",
      "45:\ttest: 0.6916736\tbest: 0.6987759 (15)\ttotal: 9.23s\tremaining: 1m 11s\n",
      "46:\ttest: 0.6913141\tbest: 0.6987759 (15)\ttotal: 9.43s\tremaining: 1m 10s\n",
      "47:\ttest: 0.6913015\tbest: 0.6987759 (15)\ttotal: 9.64s\tremaining: 1m 10s\n",
      "48:\ttest: 0.6916947\tbest: 0.6987759 (15)\ttotal: 9.84s\tremaining: 1m 10s\n",
      "49:\ttest: 0.6915121\tbest: 0.6987759 (15)\ttotal: 10.1s\tremaining: 1m 10s\n",
      "50:\ttest: 0.6914900\tbest: 0.6987759 (15)\ttotal: 10.2s\tremaining: 1m 10s\n",
      "51:\ttest: 0.6914409\tbest: 0.6987759 (15)\ttotal: 10.5s\tremaining: 1m 9s\n",
      "52:\ttest: 0.6911064\tbest: 0.6987759 (15)\ttotal: 10.6s\tremaining: 1m 9s\n",
      "53:\ttest: 0.6907592\tbest: 0.6987759 (15)\ttotal: 10.8s\tremaining: 1m 9s\n",
      "54:\ttest: 0.6907474\tbest: 0.6987759 (15)\ttotal: 11s\tremaining: 1m 9s\n",
      "55:\ttest: 0.6906239\tbest: 0.6987759 (15)\ttotal: 11.2s\tremaining: 1m 8s\n",
      "Stopped by overfitting detector  (40 iterations wait)\n",
      "\n",
      "bestTest = 0.6987759166\n",
      "bestIteration = 15\n",
      "\n",
      "Shrink model to first 16 iterations.\n"
     ]
    }
   ],
   "source": [
    "best_model_params = params.copy()\n",
    "best_model = CatBoostClassifier(**best_model_params)\n",
    "best_model.fit(train_pool, eval_set=validate_pool);"
   ]
  },
  {
   "cell_type": "code",
   "execution_count": 141,
   "metadata": {},
   "outputs": [
    {
     "name": "stdout",
     "output_type": "stream",
     "text": [
      "int_rate: 15.860616178747385\n",
      "sub_grade: 11.780854949889742\n",
      "annual_inc: 10.863742768717033\n",
      "dti: 9.34078683317974\n",
      "total_acc: 7.093918317260992\n",
      "revol_util: 6.865832918066042\n",
      "total_rev_hi_lim: 6.487557443154288\n",
      "loan_amnt: 5.653919377029446\n",
      "tot_cur_bal: 5.478489916316179\n",
      "revol_bal: 5.033608175850027\n",
      "installment: 4.119185936090789\n",
      "term: 3.6262332467325256\n",
      "open_acc: 3.1607786593777285\n",
      "inq_last_6mths: 2.6268205387308163\n",
      "initial_list_status: 1.4808889504151654\n",
      "tot_coll_amt: 0.5267657904420879\n",
      "verification_status: 0.0\n",
      "purpose: 0.0\n",
      "home_ownership: 0.0\n"
     ]
    }
   ],
   "source": [
    "feature_importances = best_model.get_feature_importance(train_pool)\n",
    "feature_names = x_train.columns\n",
    "top = []\n",
    "for score, name in sorted(zip(feature_importances, feature_names), reverse=True):\n",
    "    top.append(name)\n",
    "    print('{}: {}'.format(name, score))"
   ]
  },
  {
   "cell_type": "code",
   "execution_count": 142,
   "metadata": {},
   "outputs": [
    {
     "name": "stdout",
     "output_type": "stream",
     "text": [
      "<class 'pandas.core.frame.DataFrame'>\n",
      "RangeIndex: 200189 entries, 0 to 200188\n",
      "Data columns (total 19 columns):\n",
      "annual_inc             200189 non-null float64\n",
      "verification_status    200189 non-null object\n",
      "int_rate               200189 non-null float64\n",
      "initial_list_status    200189 non-null object\n",
      "term                   200189 non-null object\n",
      "installment            200189 non-null float64\n",
      "open_acc               200189 non-null float64\n",
      "total_acc              200189 non-null float64\n",
      "dti                    200189 non-null float64\n",
      "purpose                200189 non-null object\n",
      "tot_cur_bal            152232 non-null float64\n",
      "sub_grade              200189 non-null object\n",
      "home_ownership         200189 non-null object\n",
      "inq_last_6mths         200189 non-null float64\n",
      "total_rev_hi_lim       152232 non-null float64\n",
      "revol_bal              200189 non-null float64\n",
      "revol_util             200035 non-null float64\n",
      "tot_coll_amt           152232 non-null float64\n",
      "loan_amnt              200189 non-null float64\n",
      "dtypes: float64(13), object(6)\n",
      "memory usage: 29.0+ MB\n"
     ]
    }
   ],
   "source": [
    "x = train.loc[:,['annual_inc','verification_status','int_rate','initial_list_status','term',\n",
    "                 'installment','open_acc','total_acc','dti','purpose','tot_cur_bal',\n",
    "                 'sub_grade','home_ownership','inq_last_6mths','total_rev_hi_lim',\n",
    "                 'revol_bal','revol_util',\n",
    "                 'tot_coll_amt','loan_amnt',] ] # параметры\n",
    "x.drop(top[-1], axis=1)\n",
    "x.info()"
   ]
  },
  {
   "cell_type": "code",
   "execution_count": 143,
   "metadata": {},
   "outputs": [
    {
     "name": "stdout",
     "output_type": "stream",
     "text": [
      "<class 'pandas.core.frame.DataFrame'>\n",
      "RangeIndex: 200189 entries, 0 to 200188\n",
      "Data columns (total 19 columns):\n",
      "annual_inc             200189 non-null float64\n",
      "verification_status    200189 non-null object\n",
      "int_rate               200189 non-null float64\n",
      "initial_list_status    200189 non-null object\n",
      "term                   200189 non-null object\n",
      "installment            200189 non-null float64\n",
      "open_acc               200189 non-null float64\n",
      "total_acc              200189 non-null float64\n",
      "dti                    200189 non-null float64\n",
      "purpose                200189 non-null object\n",
      "tot_cur_bal            152232 non-null float64\n",
      "sub_grade              200189 non-null object\n",
      "home_ownership         200189 non-null object\n",
      "inq_last_6mths         200189 non-null float64\n",
      "total_rev_hi_lim       152232 non-null float64\n",
      "revol_bal              200189 non-null float64\n",
      "revol_util             200035 non-null float64\n",
      "tot_coll_amt           152232 non-null float64\n",
      "loan_amnt              200189 non-null float64\n",
      "dtypes: float64(13), object(6)\n",
      "memory usage: 29.0+ MB\n"
     ]
    }
   ],
   "source": [
    "#NaN killer\n",
    "Nan_killer(x)\n",
    "x.info()"
   ]
  },
  {
   "cell_type": "code",
   "execution_count": 144,
   "metadata": {},
   "outputs": [
    {
     "data": {
      "text/plain": [
       "Index(['verification_status', 'initial_list_status', 'purpose',\n",
       "       'home_ownership'],\n",
       "      dtype='object')"
      ]
     },
     "execution_count": 144,
     "metadata": {},
     "output_type": "execute_result"
    }
   ],
   "source": [
    "categorical_features_names = x.columns[x_train.dtypes == 'object']\n",
    "categorical_features_names"
   ]
  },
  {
   "cell_type": "code",
   "execution_count": 145,
   "metadata": {},
   "outputs": [],
   "source": [
    "categorical_features_indices = [x.columns.get_loc(i) for i in categorical_features_names]"
   ]
  },
  {
   "cell_type": "code",
   "execution_count": 146,
   "metadata": {},
   "outputs": [],
   "source": [
    "if 'purpose' in categorical_features_names:\n",
    "    x['purpose'] = x['purpose'].astype(str).map(lambda x: 'other' if x in ['educational', 'renewable_energy','vacation','house','wedding','moving','medical','car','small_business','major_purchase'] else x)"
   ]
  },
  {
   "cell_type": "code",
   "execution_count": 147,
   "metadata": {},
   "outputs": [],
   "source": [
    "if 'term' in categorical_features_names:\n",
    "    x['term'] = x['term'].astype(str).map(lambda x: 36 if x == ' 36 months' else 60)"
   ]
  },
  {
   "cell_type": "code",
   "execution_count": 148,
   "metadata": {},
   "outputs": [],
   "source": [
    "if 'sub_grade' in categorical_features_names:\n",
    "    x['sub_grade'] = x['sub_grade'].astype('str').map(lambda x: ord(x[0])*10 + int(x[1]))"
   ]
  },
  {
   "cell_type": "code",
   "execution_count": 149,
   "metadata": {},
   "outputs": [],
   "source": [
    "x_train, x_test, y_train, y_test = train_test_split(x, y, test_size=0.3, random_state = 42)"
   ]
  },
  {
   "cell_type": "code",
   "execution_count": 150,
   "metadata": {},
   "outputs": [
    {
     "data": {
      "text/plain": [
       "Index(['verification_status', 'initial_list_status', 'term', 'purpose',\n",
       "       'sub_grade', 'home_ownership'],\n",
       "      dtype='object')"
      ]
     },
     "execution_count": 150,
     "metadata": {},
     "output_type": "execute_result"
    }
   ],
   "source": [
    "categorical_features_names = x_train.columns[x_train.dtypes == 'object']\n",
    "categorical_features_names"
   ]
  },
  {
   "cell_type": "code",
   "execution_count": 151,
   "metadata": {},
   "outputs": [
    {
     "data": {
      "text/plain": [
       "[1, 3, 4, 9, 11, 12]"
      ]
     },
     "execution_count": 151,
     "metadata": {},
     "output_type": "execute_result"
    }
   ],
   "source": [
    "categorical_features_indices = [x_train.columns.get_loc(i) for i in categorical_features_names]\n",
    "categorical_features_indices"
   ]
  },
  {
   "cell_type": "code",
   "execution_count": 152,
   "metadata": {},
   "outputs": [],
   "source": [
    "train_pool = Pool(x_train, y_train, cat_features=categorical_features_indices)\n",
    "validate_pool = Pool(x_test, y_test, cat_features=categorical_features_indices)"
   ]
  },
  {
   "cell_type": "code",
   "execution_count": 153,
   "metadata": {},
   "outputs": [
    {
     "name": "stdout",
     "output_type": "stream",
     "text": [
      "evaluating params={'learning_rate': 0.06455055929014733, 'max_depth': 6.0, 'colsample_bylevel': 0.7425935964879817, 'bagging_temperature': 29.826163136513074, 'random_strength': 83.26320323149598, 'scale_pos_weight': 7.820515783320582, 'task_type': 'CPU', 'loss_function': 'Logloss', 'eval_metric': 'AUC', 'od_type': 'Iter', 'od_wait': 40, 'custom_metric': ['AUC'], 'iterations': 400, 'random_seed': 42}\n",
      "evaluated score=0.6170791541759072                                                                                     \n",
      "evaluated 1 times                                                                                                      \n",
      "evaluating params={'learning_rate': 0.7469657190897886, 'max_depth': 6.0, 'colsample_bylevel': 0.8350739741344673, 'bagging_temperature': 41.411863248553836, 'random_strength': 72.77257431773249, 'scale_pos_weight': 7.151559382799706, 'task_type': 'CPU', 'loss_function': 'Logloss', 'eval_metric': 'AUC', 'od_type': 'Iter', 'od_wait': 40, 'custom_metric': ['AUC'], 'iterations': 400, 'random_seed': 42}\n",
      "evaluated score=0.5                                                                                                    \n",
      "evaluated 2 times                                                                                                      \n",
      "evaluating params={'learning_rate': 0.24969398680849822, 'max_depth': 10.0, 'colsample_bylevel': 0.9320639577324752, 'bagging_temperature': 6.231294084407146, 'random_strength': 88.33152773808621, 'scale_pos_weight': 13.560825333299263, 'task_type': 'CPU', 'loss_function': 'Logloss', 'eval_metric': 'AUC', 'od_type': 'Iter', 'od_wait': 40, 'custom_metric': ['AUC'], 'iterations': 400, 'random_seed': 42}\n",
      "evaluated score=0.6107672030556056                                                                                     \n",
      "evaluated 3 times                                                                                                      \n",
      "evaluating params={'learning_rate': 0.09283873525663582, 'max_depth': 7.0, 'colsample_bylevel': 0.5939775931836743, 'bagging_temperature': 45.366534380629886, 'random_strength': 91.87225216693768, 'scale_pos_weight': 7.672487684517276, 'task_type': 'CPU', 'loss_function': 'Logloss', 'eval_metric': 'AUC', 'od_type': 'Iter', 'od_wait': 40, 'custom_metric': ['AUC'], 'iterations': 400, 'random_seed': 42}\n",
      "evaluated score=0.5                                                                                                    \n",
      "evaluated 4 times                                                                                                      \n",
      "evaluating params={'learning_rate': 0.4824571912345811, 'max_depth': 9.0, 'colsample_bylevel': 0.7615261640271918, 'bagging_temperature': 9.545503921499343, 'random_strength': 17.187156139656068, 'scale_pos_weight': 13.185939825360448, 'task_type': 'CPU', 'loss_function': 'Logloss', 'eval_metric': 'AUC', 'od_type': 'Iter', 'od_wait': 40, 'custom_metric': ['AUC'], 'iterations': 400, 'random_seed': 42}\n",
      "evaluated score=0.63564447933794                                                                                       \n",
      "evaluated 5 times                                                                                                      \n",
      "evaluating params={'learning_rate': 0.426029987330877, 'max_depth': 8.0, 'colsample_bylevel': 0.9519260362533433, 'bagging_temperature': 71.70311511598368, 'random_strength': 43.80291864409232, 'scale_pos_weight': 12.993301624107593, 'task_type': 'CPU', 'loss_function': 'Logloss', 'eval_metric': 'AUC', 'od_type': 'Iter', 'od_wait': 40, 'custom_metric': ['AUC'], 'iterations': 400, 'random_seed': 42}\n",
      "evaluated score=0.5                                                                                                    \n",
      "evaluated 6 times                                                                                                      \n",
      "evaluating params={'learning_rate': 0.1392496711244547, 'max_depth': 5.0, 'colsample_bylevel': 0.9002516157283724, 'bagging_temperature': 37.25797779832578, 'random_strength': 93.93697376027716, 'scale_pos_weight': 12.010420269783523, 'task_type': 'CPU', 'loss_function': 'Logloss', 'eval_metric': 'AUC', 'od_type': 'Iter', 'od_wait': 40, 'custom_metric': ['AUC'], 'iterations': 400, 'random_seed': 42}\n",
      "evaluated score=0.5                                                                                                    \n",
      "evaluated 7 times                                                                                                      \n",
      "evaluating params={'learning_rate': 0.2936281162179091, 'max_depth': 9.0, 'colsample_bylevel': 0.7963098376527838, 'bagging_temperature': 59.462003508683836, 'random_strength': 77.53643788278823, 'scale_pos_weight': 10.256190377534743, 'task_type': 'CPU', 'loss_function': 'Logloss', 'eval_metric': 'AUC', 'od_type': 'Iter', 'od_wait': 40, 'custom_metric': ['AUC'], 'iterations': 400, 'random_seed': 42}\n",
      "evaluated score=0.5                                                                                                    \n",
      "evaluated 8 times                                                                                                      \n",
      "evaluating params={'learning_rate': 0.40220869584140617, 'max_depth': 9.0, 'colsample_bylevel': 0.6620299911421867, 'bagging_temperature': 5.1134553677051775, 'random_strength': 92.00092264373161, 'scale_pos_weight': 9.151046015354687, 'task_type': 'CPU', 'loss_function': 'Logloss', 'eval_metric': 'AUC', 'od_type': 'Iter', 'od_wait': 40, 'custom_metric': ['AUC'], 'iterations': 400, 'random_seed': 42}\n",
      "evaluated score=0.5895737324611964                                                                                     \n",
      "evaluated 9 times                                                                                                      \n",
      "evaluating params={'learning_rate': 0.6986050234859398, 'max_depth': 6.0, 'colsample_bylevel': 0.6905323823987464, 'bagging_temperature': 21.14142872741962, 'random_strength': 70.06214446213659, 'scale_pos_weight': 15.332169794648921, 'task_type': 'CPU', 'loss_function': 'Logloss', 'eval_metric': 'AUC', 'od_type': 'Iter', 'od_wait': 40, 'custom_metric': ['AUC'], 'iterations': 400, 'random_seed': 42}\n",
      "evaluated score=0.5845600535145336                                                                                     \n",
      "evaluated 10 times                                                                                                     \n",
      "evaluating params={'learning_rate': 0.5956133680507415, 'max_depth': 6.0, 'colsample_bylevel': 0.7893321681141924, 'bagging_temperature': 27.47148488354174, 'random_strength': 81.78300196637514, 'scale_pos_weight': 1.0544546088211484, 'task_type': 'CPU', 'loss_function': 'Logloss', 'eval_metric': 'AUC', 'od_type': 'Iter', 'od_wait': 40, 'custom_metric': ['AUC'], 'iterations': 400, 'random_seed': 42}\n",
      "evaluated score=0.6109041604024721                                                                                     \n",
      "evaluated 11 times                                                                                                     \n",
      "evaluating params={'learning_rate': 0.39434590071428977, 'max_depth': 7.0, 'colsample_bylevel': 0.6816015479755677, 'bagging_temperature': 71.93764256573532, 'random_strength': 35.84815225733641, 'scale_pos_weight': 14.18703830797068, 'task_type': 'CPU', 'loss_function': 'Logloss', 'eval_metric': 'AUC', 'od_type': 'Iter', 'od_wait': 40, 'custom_metric': ['AUC'], 'iterations': 400, 'random_seed': 42}\n",
      "evaluated score=0.5                                                                                                    \n",
      "evaluated 12 times                                                                                                     \n",
      "evaluating params={'learning_rate': 0.7685649503580674, 'max_depth': 6.0, 'colsample_bylevel': 0.7455551022408217, 'bagging_temperature': 38.60707574736531, 'random_strength': 30.725816388873938, 'scale_pos_weight': 14.222176264494117, 'task_type': 'CPU', 'loss_function': 'Logloss', 'eval_metric': 'AUC', 'od_type': 'Iter', 'od_wait': 40, 'custom_metric': ['AUC'], 'iterations': 400, 'random_seed': 42}\n"
     ]
    },
    {
     "name": "stdout",
     "output_type": "stream",
     "text": [
      "evaluated score=0.5                                                                                                    \n",
      "evaluated 13 times                                                                                                     \n",
      "evaluating params={'learning_rate': 0.6816071034106231, 'max_depth': 6.0, 'colsample_bylevel': 0.8987194012367643, 'bagging_temperature': 17.39917225073908, 'random_strength': 1.3183035637853835, 'scale_pos_weight': 8.906647116199107, 'task_type': 'CPU', 'loss_function': 'Logloss', 'eval_metric': 'AUC', 'od_type': 'Iter', 'od_wait': 40, 'custom_metric': ['AUC'], 'iterations': 400, 'random_seed': 42}\n",
      "evaluated score=0.6195643399797982                                                                                     \n",
      "evaluated 14 times                                                                                                     \n",
      "evaluating params={'learning_rate': 0.19800717762087047, 'max_depth': 7.0, 'colsample_bylevel': 0.6308684032130806, 'bagging_temperature': 9.749591346538377, 'random_strength': 92.09817283659105, 'scale_pos_weight': 10.555510471361897, 'task_type': 'CPU', 'loss_function': 'Logloss', 'eval_metric': 'AUC', 'od_type': 'Iter', 'od_wait': 40, 'custom_metric': ['AUC'], 'iterations': 400, 'random_seed': 42}\n",
      "evaluated score=0.6119234073340063                                                                                     \n",
      "evaluated 15 times                                                                                                     \n",
      "evaluating params={'learning_rate': 0.30176937784286434, 'max_depth': 8.0, 'colsample_bylevel': 0.5144422625256673, 'bagging_temperature': 0.4971188920065317, 'random_strength': 64.00100015740247, 'scale_pos_weight': 9.750539284627434, 'task_type': 'CPU', 'loss_function': 'Logloss', 'eval_metric': 'AUC', 'od_type': 'Iter', 'od_wait': 40, 'custom_metric': ['AUC'], 'iterations': 400, 'random_seed': 42}\n",
      "evaluated score=0.5586476227304873                                                                                     \n",
      "evaluated 16 times                                                                                                     \n",
      "evaluating params={'learning_rate': 0.23970194674028295, 'max_depth': 9.0, 'colsample_bylevel': 0.5625745905758681, 'bagging_temperature': 55.627423762114184, 'random_strength': 12.470065927231532, 'scale_pos_weight': 8.73748167895595, 'task_type': 'CPU', 'loss_function': 'Logloss', 'eval_metric': 'AUC', 'od_type': 'Iter', 'od_wait': 40, 'custom_metric': ['AUC'], 'iterations': 400, 'random_seed': 42}\n",
      "evaluated score=0.5                                                                                                    \n",
      "evaluated 17 times                                                                                                     \n",
      "evaluating params={'learning_rate': 0.4012958021261945, 'max_depth': 9.0, 'colsample_bylevel': 0.8455558039385862, 'bagging_temperature': 94.11368288673546, 'random_strength': 68.10391246607139, 'scale_pos_weight': 11.381656781069033, 'task_type': 'CPU', 'loss_function': 'Logloss', 'eval_metric': 'AUC', 'od_type': 'Iter', 'od_wait': 40, 'custom_metric': ['AUC'], 'iterations': 400, 'random_seed': 42}\n",
      "evaluated score=0.5                                                                                                    \n",
      "evaluated 18 times                                                                                                     \n",
      "evaluating params={'learning_rate': 0.6505258556695427, 'max_depth': 8.0, 'colsample_bylevel': 0.9708723155369876, 'bagging_temperature': 67.02496253184057, 'random_strength': 69.46896343853821, 'scale_pos_weight': 5.32207615422222, 'task_type': 'CPU', 'loss_function': 'Logloss', 'eval_metric': 'AUC', 'od_type': 'Iter', 'od_wait': 40, 'custom_metric': ['AUC'], 'iterations': 400, 'random_seed': 42}\n",
      "evaluated score=0.5                                                                                                    \n",
      "evaluated 19 times                                                                                                     \n",
      "evaluating params={'learning_rate': 0.6735075794410379, 'max_depth': 4.0, 'colsample_bylevel': 0.9812939388768891, 'bagging_temperature': 70.5194745389447, 'random_strength': 87.51118984907046, 'scale_pos_weight': 6.966788039978879, 'task_type': 'CPU', 'loss_function': 'Logloss', 'eval_metric': 'AUC', 'od_type': 'Iter', 'od_wait': 40, 'custom_metric': ['AUC'], 'iterations': 400, 'random_seed': 42}\n",
      "evaluated score=0.5                                                                                                    \n",
      "evaluated 20 times                                                                                                     \n",
      "evaluating params={'learning_rate': 0.5734662425089077, 'max_depth': 8.0, 'colsample_bylevel': 0.6304453528545368, 'bagging_temperature': 62.84810666157716, 'random_strength': 73.4104187301871, 'scale_pos_weight': 2.4675261036805853, 'task_type': 'CPU', 'loss_function': 'Logloss', 'eval_metric': 'AUC', 'od_type': 'Iter', 'od_wait': 40, 'custom_metric': ['AUC'], 'iterations': 400, 'random_seed': 42}\n",
      "evaluated score=0.5                                                                                                    \n",
      "evaluated 21 times                                                                                                     \n",
      "evaluating params={'learning_rate': 0.562943674257195, 'max_depth': 5.0, 'colsample_bylevel': 0.5483119512487002, 'bagging_temperature': 13.729876000611597, 'random_strength': 11.917934729048618, 'scale_pos_weight': 7.7437572739136336, 'task_type': 'CPU', 'loss_function': 'Logloss', 'eval_metric': 'AUC', 'od_type': 'Iter', 'od_wait': 40, 'custom_metric': ['AUC'], 'iterations': 400, 'random_seed': 42}\n",
      "evaluated score=0.6166807894040228                                                                                     \n",
      "evaluated 22 times                                                                                                     \n",
      "evaluating params={'learning_rate': 0.30171478622039305, 'max_depth': 8.0, 'colsample_bylevel': 0.5531324082829224, 'bagging_temperature': 19.27527018070495, 'random_strength': 59.32653223463626, 'scale_pos_weight': 5.959256741821097, 'task_type': 'CPU', 'loss_function': 'Logloss', 'eval_metric': 'AUC', 'od_type': 'Iter', 'od_wait': 40, 'custom_metric': ['AUC'], 'iterations': 400, 'random_seed': 42}\n",
      "evaluated score=0.6486816693719285                                                                                     \n",
      "evaluated 23 times                                                                                                     \n",
      "evaluating params={'learning_rate': 0.11097111782120497, 'max_depth': 9.0, 'colsample_bylevel': 0.7409387009901992, 'bagging_temperature': 86.1172196771636, 'random_strength': 15.546845674932808, 'scale_pos_weight': 12.839684626967696, 'task_type': 'CPU', 'loss_function': 'Logloss', 'eval_metric': 'AUC', 'od_type': 'Iter', 'od_wait': 40, 'custom_metric': ['AUC'], 'iterations': 400, 'random_seed': 42}\n",
      "evaluated score=0.5                                                                                                    \n",
      "evaluated 24 times                                                                                                     \n",
      "evaluating params={'learning_rate': 0.11874463606048295, 'max_depth': 8.0, 'colsample_bylevel': 0.9143513727263843, 'bagging_temperature': 52.83445689811619, 'random_strength': 64.16434702146898, 'scale_pos_weight': 14.91359148640431, 'task_type': 'CPU', 'loss_function': 'Logloss', 'eval_metric': 'AUC', 'od_type': 'Iter', 'od_wait': 40, 'custom_metric': ['AUC'], 'iterations': 400, 'random_seed': 42}\n",
      "evaluated score=0.5                                                                                                    \n",
      "evaluated 25 times                                                                                                     \n"
     ]
    },
    {
     "name": "stdout",
     "output_type": "stream",
     "text": [
      "evaluating params={'learning_rate': 0.6990952871256788, 'max_depth': 7.0, 'colsample_bylevel': 0.9886431821208913, 'bagging_temperature': 37.02268496294152, 'random_strength': 30.46124241138234, 'scale_pos_weight': 5.956456248816514, 'task_type': 'CPU', 'loss_function': 'Logloss', 'eval_metric': 'AUC', 'od_type': 'Iter', 'od_wait': 40, 'custom_metric': ['AUC'], 'iterations': 400, 'random_seed': 42}\n",
      "evaluated score=0.5                                                                                                    \n",
      "evaluated 26 times                                                                                                     \n",
      "evaluating params={'learning_rate': 0.24329907330073666, 'max_depth': 8.0, 'colsample_bylevel': 0.7808420826245261, 'bagging_temperature': 20.368720717700416, 'random_strength': 70.4583602067651, 'scale_pos_weight': 13.45498682238244, 'task_type': 'CPU', 'loss_function': 'Logloss', 'eval_metric': 'AUC', 'od_type': 'Iter', 'od_wait': 40, 'custom_metric': ['AUC'], 'iterations': 400, 'random_seed': 42}\n",
      "evaluated score=0.641830359022091                                                                                      \n",
      "evaluated 27 times                                                                                                     \n",
      "evaluating params={'learning_rate': 0.04086353893886585, 'max_depth': 6.0, 'colsample_bylevel': 0.9572428411764734, 'bagging_temperature': 86.14960210057677, 'random_strength': 0.6965422065443372, 'scale_pos_weight': 10.92660490498745, 'task_type': 'CPU', 'loss_function': 'Logloss', 'eval_metric': 'AUC', 'od_type': 'Iter', 'od_wait': 40, 'custom_metric': ['AUC'], 'iterations': 400, 'random_seed': 42}\n",
      "evaluated score=0.5                                                                                                    \n",
      "evaluated 28 times                                                                                                     \n",
      "evaluating params={'learning_rate': 0.7044181740437416, 'max_depth': 9.0, 'colsample_bylevel': 0.6655150483186099, 'bagging_temperature': 12.738262171620264, 'random_strength': 63.4490889188811, 'scale_pos_weight': 6.314410522320887, 'task_type': 'CPU', 'loss_function': 'Logloss', 'eval_metric': 'AUC', 'od_type': 'Iter', 'od_wait': 40, 'custom_metric': ['AUC'], 'iterations': 400, 'random_seed': 42}\n",
      "evaluated score=0.6403909184053121                                                                                     \n",
      "evaluated 29 times                                                                                                     \n",
      "evaluating params={'learning_rate': 0.6516189553537985, 'max_depth': 6.0, 'colsample_bylevel': 0.5019218012929152, 'bagging_temperature': 53.84241532241949, 'random_strength': 65.00439661591349, 'scale_pos_weight': 10.769804369641149, 'task_type': 'CPU', 'loss_function': 'Logloss', 'eval_metric': 'AUC', 'od_type': 'Iter', 'od_wait': 40, 'custom_metric': ['AUC'], 'iterations': 400, 'random_seed': 42}\n",
      "evaluated score=0.5                                                                                                    \n",
      "evaluated 30 times                                                                                                     \n",
      "evaluating params={'learning_rate': 0.3023023711356902, 'max_depth': 8.0, 'colsample_bylevel': 0.6556457567145959, 'bagging_temperature': 82.24195855857882, 'random_strength': 13.16595920133481, 'scale_pos_weight': 7.37721104605222, 'task_type': 'CPU', 'loss_function': 'Logloss', 'eval_metric': 'AUC', 'od_type': 'Iter', 'od_wait': 40, 'custom_metric': ['AUC'], 'iterations': 400, 'random_seed': 42}\n",
      "evaluated score=0.5                                                                                                    \n",
      "evaluated 31 times                                                                                                     \n",
      "evaluating params={'learning_rate': 0.5644131814496948, 'max_depth': 9.0, 'colsample_bylevel': 0.9097812496257851, 'bagging_temperature': 77.91984817769776, 'random_strength': 31.676869347796277, 'scale_pos_weight': 9.078186015741204, 'task_type': 'CPU', 'loss_function': 'Logloss', 'eval_metric': 'AUC', 'od_type': 'Iter', 'od_wait': 40, 'custom_metric': ['AUC'], 'iterations': 400, 'random_seed': 42}\n",
      "evaluated score=0.5                                                                                                    \n",
      "evaluated 32 times                                                                                                     \n",
      "evaluating params={'learning_rate': 0.5590318303514967, 'max_depth': 8.0, 'colsample_bylevel': 0.8508394625620042, 'bagging_temperature': 42.529710406239154, 'random_strength': 57.568250531790746, 'scale_pos_weight': 2.969163939303326, 'task_type': 'CPU', 'loss_function': 'Logloss', 'eval_metric': 'AUC', 'od_type': 'Iter', 'od_wait': 40, 'custom_metric': ['AUC'], 'iterations': 400, 'random_seed': 42}\n",
      "evaluated score=0.5                                                                                                    \n",
      "evaluated 33 times                                                                                                     \n",
      "evaluating params={'learning_rate': 0.6120026464899954, 'max_depth': 6.0, 'colsample_bylevel': 0.5947476340749828, 'bagging_temperature': 70.96811670294242, 'random_strength': 62.459046032330775, 'scale_pos_weight': 9.04750955110397, 'task_type': 'CPU', 'loss_function': 'Logloss', 'eval_metric': 'AUC', 'od_type': 'Iter', 'od_wait': 40, 'custom_metric': ['AUC'], 'iterations': 400, 'random_seed': 42}\n",
      "evaluated score=0.5                                                                                                    \n",
      "evaluated 34 times                                                                                                     \n",
      "evaluating params={'learning_rate': 0.08691595905882502, 'max_depth': 6.0, 'colsample_bylevel': 0.925738266770135, 'bagging_temperature': 30.082329093344395, 'random_strength': 60.338313715544004, 'scale_pos_weight': 5.894602452232973, 'task_type': 'CPU', 'loss_function': 'Logloss', 'eval_metric': 'AUC', 'od_type': 'Iter', 'od_wait': 40, 'custom_metric': ['AUC'], 'iterations': 400, 'random_seed': 42}\n",
      "evaluated score=0.5989548047601101                                                                                     \n",
      "evaluated 35 times                                                                                                     \n",
      "evaluating params={'learning_rate': 0.42511142589135503, 'max_depth': 7.0, 'colsample_bylevel': 0.7334249774494812, 'bagging_temperature': 48.20077804650612, 'random_strength': 18.40579185712945, 'scale_pos_weight': 9.048359364952153, 'task_type': 'CPU', 'loss_function': 'Logloss', 'eval_metric': 'AUC', 'od_type': 'Iter', 'od_wait': 40, 'custom_metric': ['AUC'], 'iterations': 400, 'random_seed': 42}\n",
      "evaluated score=0.5                                                                                                    \n",
      "evaluated 36 times                                                                                                     \n",
      "evaluating params={'learning_rate': 0.08578380823258902, 'max_depth': 6.0, 'colsample_bylevel': 0.8804363657182184, 'bagging_temperature': 67.95205089825916, 'random_strength': 49.65738663401596, 'scale_pos_weight': 7.496472632910514, 'task_type': 'CPU', 'loss_function': 'Logloss', 'eval_metric': 'AUC', 'od_type': 'Iter', 'od_wait': 40, 'custom_metric': ['AUC'], 'iterations': 400, 'random_seed': 42}\n",
      "evaluated score=0.5                                                                                                    \n",
      "evaluated 37 times                                                                                                     \n",
      "evaluating params={'learning_rate': 0.19989098684426826, 'max_depth': 6.0, 'colsample_bylevel': 0.5504896649264421, 'bagging_temperature': 35.25539025632924, 'random_strength': 75.14004257971514, 'scale_pos_weight': 13.77923061324646, 'task_type': 'CPU', 'loss_function': 'Logloss', 'eval_metric': 'AUC', 'od_type': 'Iter', 'od_wait': 40, 'custom_metric': ['AUC'], 'iterations': 400, 'random_seed': 42}\n"
     ]
    },
    {
     "name": "stdout",
     "output_type": "stream",
     "text": [
      "evaluated score=0.6242661950947407                                                                                     \n",
      "evaluated 38 times                                                                                                     \n",
      "evaluating params={'learning_rate': 0.3176903626733709, 'max_depth': 5.0, 'colsample_bylevel': 0.7576107737512063, 'bagging_temperature': 69.77740837456095, 'random_strength': 3.7277118258843833, 'scale_pos_weight': 11.63786487812268, 'task_type': 'CPU', 'loss_function': 'Logloss', 'eval_metric': 'AUC', 'od_type': 'Iter', 'od_wait': 40, 'custom_metric': ['AUC'], 'iterations': 400, 'random_seed': 42}\n",
      "evaluated score=0.5                                                                                                    \n",
      "evaluated 39 times                                                                                                     \n",
      "evaluating params={'learning_rate': 0.5116330929422992, 'max_depth': 6.0, 'colsample_bylevel': 0.6881294671910385, 'bagging_temperature': 49.663835413421864, 'random_strength': 79.52631814690415, 'scale_pos_weight': 15.079604804299631, 'task_type': 'CPU', 'loss_function': 'Logloss', 'eval_metric': 'AUC', 'od_type': 'Iter', 'od_wait': 40, 'custom_metric': ['AUC'], 'iterations': 400, 'random_seed': 42}\n",
      "evaluated score=0.5                                                                                                    \n",
      "evaluated 40 times                                                                                                     \n",
      "evaluating params={'learning_rate': 0.30611892615023495, 'max_depth': 5.0, 'colsample_bylevel': 0.6679211768749299, 'bagging_temperature': 6.7371898726728325, 'random_strength': 90.23295140820429, 'scale_pos_weight': 4.251934608050318, 'task_type': 'CPU', 'loss_function': 'Logloss', 'eval_metric': 'AUC', 'od_type': 'Iter', 'od_wait': 40, 'custom_metric': ['AUC'], 'iterations': 400, 'random_seed': 42}\n",
      "evaluated score=0.6027109424841571                                                                                     \n",
      "evaluated 41 times                                                                                                     \n",
      "evaluating params={'learning_rate': 0.30641269670985033, 'max_depth': 4.0, 'colsample_bylevel': 0.8499749370450363, 'bagging_temperature': 75.10349109199097, 'random_strength': 70.83825544375651, 'scale_pos_weight': 8.17207067063337, 'task_type': 'CPU', 'loss_function': 'Logloss', 'eval_metric': 'AUC', 'od_type': 'Iter', 'od_wait': 40, 'custom_metric': ['AUC'], 'iterations': 400, 'random_seed': 42}\n",
      "evaluated score=0.5                                                                                                    \n",
      "evaluated 42 times                                                                                                     \n",
      "evaluating params={'learning_rate': 0.4279413325594994, 'max_depth': 8.0, 'colsample_bylevel': 0.6846162493945316, 'bagging_temperature': 85.15570966410692, 'random_strength': 25.676623887620707, 'scale_pos_weight': 9.195512705198349, 'task_type': 'CPU', 'loss_function': 'Logloss', 'eval_metric': 'AUC', 'od_type': 'Iter', 'od_wait': 40, 'custom_metric': ['AUC'], 'iterations': 400, 'random_seed': 42}\n",
      "evaluated score=0.5                                                                                                    \n",
      "evaluated 43 times                                                                                                     \n",
      "evaluating params={'learning_rate': 0.7580299444808133, 'max_depth': 10.0, 'colsample_bylevel': 0.6560654544857116, 'bagging_temperature': 9.606602573184976, 'random_strength': 38.07157402345723, 'scale_pos_weight': 15.44322039696387, 'task_type': 'CPU', 'loss_function': 'Logloss', 'eval_metric': 'AUC', 'od_type': 'Iter', 'od_wait': 40, 'custom_metric': ['AUC'], 'iterations': 400, 'random_seed': 42}\n",
      "evaluated score=0.6245313621696946                                                                                     \n",
      "evaluated 44 times                                                                                                     \n",
      "evaluating params={'learning_rate': 0.20930792475812623, 'max_depth': 10.0, 'colsample_bylevel': 0.5886668909032519, 'bagging_temperature': 34.823504904022414, 'random_strength': 78.52734938376074, 'scale_pos_weight': 10.205598741673892, 'task_type': 'CPU', 'loss_function': 'Logloss', 'eval_metric': 'AUC', 'od_type': 'Iter', 'od_wait': 40, 'custom_metric': ['AUC'], 'iterations': 400, 'random_seed': 42}\n",
      "evaluated score=0.6500212969602687                                                                                     \n",
      "evaluated 45 times                                                                                                     \n",
      "evaluating params={'learning_rate': 0.03690584752959317, 'max_depth': 5.0, 'colsample_bylevel': 0.7383440484332322, 'bagging_temperature': 2.4179327359312053, 'random_strength': 96.96509583621922, 'scale_pos_weight': 5.643577706454599, 'task_type': 'CPU', 'loss_function': 'Logloss', 'eval_metric': 'AUC', 'od_type': 'Iter', 'od_wait': 40, 'custom_metric': ['AUC'], 'iterations': 400, 'random_seed': 42}\n",
      "evaluated score=0.5322641931438961                                                                                     \n",
      "evaluated 46 times                                                                                                     \n",
      "evaluating params={'learning_rate': 0.6611656132549413, 'max_depth': 7.0, 'colsample_bylevel': 0.5126036962879645, 'bagging_temperature': 38.976526645092015, 'random_strength': 25.530311192309473, 'scale_pos_weight': 5.4630110310181985, 'task_type': 'CPU', 'loss_function': 'Logloss', 'eval_metric': 'AUC', 'od_type': 'Iter', 'od_wait': 40, 'custom_metric': ['AUC'], 'iterations': 400, 'random_seed': 42}\n",
      "evaluated score=0.5                                                                                                    \n",
      "evaluated 47 times                                                                                                     \n",
      "evaluating params={'learning_rate': 0.7512715308588567, 'max_depth': 5.0, 'colsample_bylevel': 0.5949353001936417, 'bagging_temperature': 47.64867445075578, 'random_strength': 97.92804334722808, 'scale_pos_weight': 1.062446140424417, 'task_type': 'CPU', 'loss_function': 'Logloss', 'eval_metric': 'AUC', 'od_type': 'Iter', 'od_wait': 40, 'custom_metric': ['AUC'], 'iterations': 400, 'random_seed': 42}\n",
      "evaluated score=0.5                                                                                                    \n",
      "evaluated 48 times                                                                                                     \n",
      "evaluating params={'learning_rate': 0.016566017126364248, 'max_depth': 7.0, 'colsample_bylevel': 0.8216931897786428, 'bagging_temperature': 14.776484063446116, 'random_strength': 87.66639642845378, 'scale_pos_weight': 15.28714079131189, 'task_type': 'CPU', 'loss_function': 'Logloss', 'eval_metric': 'AUC', 'od_type': 'Iter', 'od_wait': 40, 'custom_metric': ['AUC'], 'iterations': 400, 'random_seed': 42}\n",
      "evaluated score=0.6398308037534268                                                                                     \n",
      "evaluated 49 times                                                                                                     \n",
      "evaluating params={'learning_rate': 0.698766863396429, 'max_depth': 8.0, 'colsample_bylevel': 0.6857782082163167, 'bagging_temperature': 17.998987540853896, 'random_strength': 35.37693915300544, 'scale_pos_weight': 15.817197733911794, 'task_type': 'CPU', 'loss_function': 'Logloss', 'eval_metric': 'AUC', 'od_type': 'Iter', 'od_wait': 40, 'custom_metric': ['AUC'], 'iterations': 400, 'random_seed': 42}\n",
      "evaluated score=0.6070384012437042                                                                                     \n",
      "evaluated 50 times                                                                                                     \n",
      "100%|███████████████████████████████████████████████| 50/50 [2:12:49<00:00, 297.41s/it, best loss: -0.6500212969602687]\n"
     ]
    },
    {
     "name": "stderr",
     "output_type": "stream",
     "text": [
      "Warning: Custom metrics will not be evaluated because there are no test datasets\n"
     ]
    }
   ],
   "source": [
    "model, params = train_best_model(\n",
    "    train_pool, \n",
    "    const_params, \n",
    "    max_evals=hyperopt_iterations, \n",
    "    use_default=use_optimal_pretrained_params)"
   ]
  },
  {
   "cell_type": "code",
   "execution_count": 154,
   "metadata": {},
   "outputs": [
    {
     "data": {
      "text/plain": [
       "{'bagging_temperature': 34.823504904022414,\n",
       " 'colsample_bylevel': 0.5886668909032519,\n",
       " 'depth': 10.0,\n",
       " 'learning_rate': 0.20930792475812623,\n",
       " 'random_strength': 78.52734938376074,\n",
       " 'scale_pos_weight': 10.205598741673892,\n",
       " 'task_type': 'CPU',\n",
       " 'loss_function': 'Logloss',\n",
       " 'eval_metric': 'AUC',\n",
       " 'od_type': 'Iter',\n",
       " 'od_wait': 40,\n",
       " 'custom_metric': ['AUC'],\n",
       " 'iterations': 400,\n",
       " 'random_seed': 42}"
      ]
     },
     "execution_count": 154,
     "metadata": {},
     "output_type": "execute_result"
    }
   ],
   "source": [
    "params"
   ]
  },
  {
   "cell_type": "code",
   "execution_count": 155,
   "metadata": {},
   "outputs": [
    {
     "name": "stdout",
     "output_type": "stream",
     "text": [
      "ROC-AUC score:  0.7011905304629541\n"
     ]
    },
    {
     "data": {
      "image/png": "[encoded data removed]",
      "text/plain": [
       "<Figure size 432x288 with 1 Axes>"
      ]
     },
     "metadata": {
      "needs_background": "light"
     },
     "output_type": "display_data"
    }
   ],
   "source": [
    "plot_roc(model, x_test, y_test)"
   ]
  },
  {
   "cell_type": "code",
   "execution_count": 156,
   "metadata": {},
   "outputs": [
    {
     "name": "stdout",
     "output_type": "stream",
     "text": [
      "Recall: 1.00\n",
      "Precision score: 0.78\n",
      "Accuracy score: 0.78\n"
     ]
    }
   ],
   "source": [
    "show_scores(model, x_test, y_test)"
   ]
  },
  {
   "cell_type": "code",
   "execution_count": 157,
   "metadata": {},
   "outputs": [
    {
     "name": "stdout",
     "output_type": "stream",
     "text": [
      "0:\ttest: 0.5000000\tbest: 0.5000000 (0)\ttotal: 68ms\tremaining: 27.1s\n",
      "1:\ttest: 0.6471153\tbest: 0.6471153 (1)\ttotal: 327ms\tremaining: 1m 5s\n",
      "2:\ttest: 0.6794989\tbest: 0.6794989 (2)\ttotal: 570ms\tremaining: 1m 15s\n",
      "3:\ttest: 0.6881944\tbest: 0.6881944 (3)\ttotal: 830ms\tremaining: 1m 22s\n",
      "4:\ttest: 0.6922573\tbest: 0.6922573 (4)\ttotal: 1.08s\tremaining: 1m 25s\n",
      "5:\ttest: 0.6922573\tbest: 0.6922573 (4)\ttotal: 1.14s\tremaining: 1m 15s\n",
      "6:\ttest: 0.6934423\tbest: 0.6934423 (6)\ttotal: 1.39s\tremaining: 1m 18s\n",
      "7:\ttest: 0.6934423\tbest: 0.6934423 (6)\ttotal: 1.45s\tremaining: 1m 11s\n",
      "8:\ttest: 0.6934423\tbest: 0.6934423 (6)\ttotal: 1.51s\tremaining: 1m 5s\n",
      "9:\ttest: 0.6952976\tbest: 0.6952976 (9)\ttotal: 1.77s\tremaining: 1m 8s\n",
      "10:\ttest: 0.6952976\tbest: 0.6952976 (9)\ttotal: 1.83s\tremaining: 1m 4s\n",
      "11:\ttest: 0.6952976\tbest: 0.6952976 (9)\ttotal: 1.9s\tremaining: 1m 1s\n",
      "12:\ttest: 0.6952976\tbest: 0.6952976 (9)\ttotal: 1.96s\tremaining: 58.4s\n",
      "13:\ttest: 0.6952976\tbest: 0.6952976 (9)\ttotal: 2.02s\tremaining: 55.7s\n",
      "14:\ttest: 0.6952976\tbest: 0.6952976 (9)\ttotal: 2.08s\tremaining: 53.5s\n",
      "15:\ttest: 0.6952976\tbest: 0.6952976 (9)\ttotal: 2.14s\tremaining: 51.5s\n",
      "16:\ttest: 0.6967464\tbest: 0.6967464 (16)\ttotal: 2.39s\tremaining: 53.8s\n",
      "17:\ttest: 0.6973444\tbest: 0.6973444 (17)\ttotal: 2.63s\tremaining: 55.8s\n",
      "18:\ttest: 0.6973444\tbest: 0.6973444 (17)\ttotal: 2.69s\tremaining: 53.9s\n",
      "19:\ttest: 0.6988023\tbest: 0.6988023 (19)\ttotal: 2.92s\tremaining: 55.4s\n",
      "20:\ttest: 0.6991594\tbest: 0.6991594 (20)\ttotal: 3.15s\tremaining: 56.8s\n",
      "21:\ttest: 0.6991594\tbest: 0.6991594 (20)\ttotal: 3.21s\tremaining: 55.1s\n",
      "22:\ttest: 0.6991594\tbest: 0.6991594 (20)\ttotal: 3.27s\tremaining: 53.6s\n",
      "23:\ttest: 0.6991594\tbest: 0.6991594 (20)\ttotal: 3.33s\tremaining: 52.2s\n",
      "24:\ttest: 0.6991594\tbest: 0.6991594 (20)\ttotal: 3.39s\tremaining: 50.8s\n",
      "25:\ttest: 0.6991594\tbest: 0.6991594 (20)\ttotal: 3.45s\tremaining: 49.6s\n",
      "26:\ttest: 0.6991594\tbest: 0.6991594 (20)\ttotal: 3.51s\tremaining: 48.5s\n",
      "27:\ttest: 0.6994413\tbest: 0.6994413 (27)\ttotal: 3.75s\tremaining: 49.9s\n",
      "28:\ttest: 0.6998594\tbest: 0.6998594 (28)\ttotal: 4.01s\tremaining: 51.3s\n",
      "29:\ttest: 0.7001348\tbest: 0.7001348 (29)\ttotal: 4.25s\tremaining: 52.5s\n",
      "30:\ttest: 0.7001348\tbest: 0.7001348 (29)\ttotal: 4.32s\tremaining: 51.4s\n",
      "31:\ttest: 0.7006677\tbest: 0.7006677 (31)\ttotal: 4.55s\tremaining: 52.3s\n",
      "32:\ttest: 0.7007774\tbest: 0.7007774 (32)\ttotal: 4.79s\tremaining: 53.3s\n",
      "33:\ttest: 0.7007774\tbest: 0.7007774 (32)\ttotal: 4.85s\tremaining: 52.3s\n",
      "34:\ttest: 0.7007774\tbest: 0.7007774 (32)\ttotal: 4.92s\tremaining: 51.3s\n",
      "35:\ttest: 0.7009550\tbest: 0.7009550 (35)\ttotal: 5.17s\tremaining: 52.2s\n",
      "36:\ttest: 0.7009550\tbest: 0.7009550 (35)\ttotal: 5.22s\tremaining: 51.3s\n",
      "37:\ttest: 0.7012549\tbest: 0.7012549 (37)\ttotal: 5.47s\tremaining: 52.1s\n",
      "38:\ttest: 0.7012549\tbest: 0.7012549 (37)\ttotal: 5.53s\tremaining: 51.2s\n",
      "39:\ttest: 0.7016448\tbest: 0.7016448 (39)\ttotal: 5.78s\tremaining: 52s\n",
      "40:\ttest: 0.7016448\tbest: 0.7016448 (39)\ttotal: 5.84s\tremaining: 51.1s\n",
      "41:\ttest: 0.7016448\tbest: 0.7016448 (39)\ttotal: 5.9s\tremaining: 50.3s\n",
      "42:\ttest: 0.7016100\tbest: 0.7016448 (39)\ttotal: 6.13s\tremaining: 50.9s\n",
      "43:\ttest: 0.7016100\tbest: 0.7016448 (39)\ttotal: 6.19s\tremaining: 50.1s\n",
      "44:\ttest: 0.7017659\tbest: 0.7017659 (44)\ttotal: 6.43s\tremaining: 50.8s\n",
      "45:\ttest: 0.7017659\tbest: 0.7017659 (44)\ttotal: 6.49s\tremaining: 50s\n",
      "46:\ttest: 0.7017659\tbest: 0.7017659 (44)\ttotal: 6.55s\tremaining: 49.2s\n",
      "47:\ttest: 0.7017659\tbest: 0.7017659 (44)\ttotal: 6.61s\tremaining: 48.5s\n",
      "48:\ttest: 0.7017659\tbest: 0.7017659 (44)\ttotal: 6.67s\tremaining: 47.8s\n",
      "49:\ttest: 0.7017659\tbest: 0.7017659 (44)\ttotal: 6.72s\tremaining: 47.1s\n",
      "50:\ttest: 0.7017969\tbest: 0.7017969 (50)\ttotal: 6.99s\tremaining: 47.9s\n",
      "51:\ttest: 0.7017969\tbest: 0.7017969 (50)\ttotal: 7.05s\tremaining: 47.2s\n",
      "52:\ttest: 0.7020133\tbest: 0.7020133 (52)\ttotal: 7.3s\tremaining: 47.8s\n",
      "53:\ttest: 0.7024091\tbest: 0.7024091 (53)\ttotal: 7.55s\tremaining: 48.4s\n",
      "54:\ttest: 0.7024091\tbest: 0.7024091 (53)\ttotal: 7.61s\tremaining: 47.7s\n",
      "55:\ttest: 0.7024091\tbest: 0.7024091 (53)\ttotal: 7.67s\tremaining: 47.1s\n",
      "56:\ttest: 0.7024704\tbest: 0.7024704 (56)\ttotal: 7.91s\tremaining: 47.6s\n",
      "57:\ttest: 0.7026891\tbest: 0.7026891 (57)\ttotal: 8.16s\tremaining: 48.1s\n",
      "58:\ttest: 0.7026891\tbest: 0.7026891 (57)\ttotal: 8.21s\tremaining: 47.5s\n",
      "59:\ttest: 0.7026891\tbest: 0.7026891 (57)\ttotal: 8.28s\tremaining: 46.9s\n",
      "60:\ttest: 0.7026891\tbest: 0.7026891 (57)\ttotal: 8.34s\tremaining: 46.3s\n",
      "61:\ttest: 0.7028839\tbest: 0.7028839 (61)\ttotal: 8.56s\tremaining: 46.7s\n",
      "62:\ttest: 0.7028839\tbest: 0.7028839 (61)\ttotal: 8.62s\tremaining: 46.1s\n",
      "63:\ttest: 0.7029908\tbest: 0.7029908 (63)\ttotal: 8.85s\tremaining: 46.5s\n",
      "64:\ttest: 0.7030499\tbest: 0.7030499 (64)\ttotal: 9.08s\tremaining: 46.8s\n",
      "65:\ttest: 0.7029371\tbest: 0.7030499 (64)\ttotal: 9.32s\tremaining: 47.2s\n",
      "66:\ttest: 0.7029776\tbest: 0.7030499 (64)\ttotal: 9.57s\tremaining: 47.6s\n",
      "67:\ttest: 0.7030891\tbest: 0.7030891 (67)\ttotal: 9.81s\tremaining: 47.9s\n",
      "68:\ttest: 0.7030891\tbest: 0.7030891 (67)\ttotal: 9.87s\tremaining: 47.4s\n",
      "69:\ttest: 0.7030891\tbest: 0.7030891 (67)\ttotal: 9.93s\tremaining: 46.8s\n",
      "70:\ttest: 0.7030368\tbest: 0.7030891 (67)\ttotal: 10.2s\tremaining: 47.1s\n",
      "71:\ttest: 0.7030368\tbest: 0.7030891 (67)\ttotal: 10.2s\tremaining: 46.6s\n",
      "72:\ttest: 0.7031773\tbest: 0.7031773 (72)\ttotal: 10.5s\tremaining: 46.8s\n",
      "73:\ttest: 0.7031773\tbest: 0.7031773 (72)\ttotal: 10.5s\tremaining: 46.3s\n",
      "74:\ttest: 0.7032734\tbest: 0.7032734 (74)\ttotal: 10.8s\tremaining: 46.6s\n",
      "75:\ttest: 0.7032734\tbest: 0.7032734 (74)\ttotal: 10.8s\tremaining: 46.1s\n",
      "76:\ttest: 0.7034060\tbest: 0.7034060 (76)\ttotal: 11.1s\tremaining: 46.4s\n",
      "77:\ttest: 0.7035568\tbest: 0.7035568 (77)\ttotal: 11.3s\tremaining: 46.7s\n",
      "78:\ttest: 0.7035568\tbest: 0.7035568 (77)\ttotal: 11.4s\tremaining: 46.2s\n",
      "79:\ttest: 0.7035568\tbest: 0.7035568 (77)\ttotal: 11.4s\tremaining: 45.8s\n",
      "80:\ttest: 0.7037690\tbest: 0.7037690 (80)\ttotal: 11.7s\tremaining: 46s\n",
      "81:\ttest: 0.7037690\tbest: 0.7037690 (80)\ttotal: 11.7s\tremaining: 45.5s\n",
      "82:\ttest: 0.7039731\tbest: 0.7039731 (82)\ttotal: 12s\tremaining: 45.8s\n",
      "83:\ttest: 0.7041097\tbest: 0.7041097 (83)\ttotal: 12.2s\tremaining: 46s\n",
      "84:\ttest: 0.7041097\tbest: 0.7041097 (83)\ttotal: 12.3s\tremaining: 45.5s\n",
      "85:\ttest: 0.7041620\tbest: 0.7041620 (85)\ttotal: 12.5s\tremaining: 45.8s\n",
      "86:\ttest: 0.7041620\tbest: 0.7041620 (85)\ttotal: 12.6s\tremaining: 45.3s\n",
      "87:\ttest: 0.7042284\tbest: 0.7042284 (87)\ttotal: 12.8s\tremaining: 45.5s\n",
      "88:\ttest: 0.7042284\tbest: 0.7042284 (87)\ttotal: 12.9s\tremaining: 45.1s\n",
      "89:\ttest: 0.7042548\tbest: 0.7042548 (89)\ttotal: 13.1s\tremaining: 45.3s\n",
      "90:\ttest: 0.7042548\tbest: 0.7042548 (89)\ttotal: 13.2s\tremaining: 44.8s\n",
      "91:\ttest: 0.7042382\tbest: 0.7042548 (89)\ttotal: 13.5s\tremaining: 45s\n",
      "92:\ttest: 0.7042382\tbest: 0.7042548 (89)\ttotal: 13.5s\tremaining: 44.6s\n",
      "93:\ttest: 0.7042382\tbest: 0.7042548 (89)\ttotal: 13.6s\tremaining: 44.2s\n",
      "94:\ttest: 0.7043604\tbest: 0.7043604 (94)\ttotal: 13.8s\tremaining: 44.3s\n",
      "95:\ttest: 0.7042975\tbest: 0.7043604 (94)\ttotal: 14.1s\tremaining: 44.5s\n",
      "96:\ttest: 0.7042975\tbest: 0.7043604 (94)\ttotal: 14.1s\tremaining: 44.1s\n",
      "97:\ttest: 0.7042975\tbest: 0.7043604 (94)\ttotal: 14.2s\tremaining: 43.7s\n",
      "98:\ttest: 0.7043877\tbest: 0.7043877 (98)\ttotal: 14.4s\tremaining: 43.9s\n",
      "99:\ttest: 0.7043877\tbest: 0.7043877 (98)\ttotal: 14.5s\tremaining: 43.4s\n",
      "100:\ttest: 0.7044787\tbest: 0.7044787 (100)\ttotal: 14.7s\tremaining: 43.6s\n",
      "101:\ttest: 0.7044249\tbest: 0.7044787 (100)\ttotal: 15s\tremaining: 43.7s\n",
      "102:\ttest: 0.7044249\tbest: 0.7044787 (100)\ttotal: 15s\tremaining: 43.3s\n",
      "103:\ttest: 0.7043103\tbest: 0.7044787 (100)\ttotal: 15.3s\tremaining: 43.4s\n",
      "104:\ttest: 0.7043145\tbest: 0.7044787 (100)\ttotal: 15.5s\tremaining: 43.6s\n",
      "105:\ttest: 0.7043145\tbest: 0.7044787 (100)\ttotal: 15.6s\tremaining: 43.2s\n",
      "106:\ttest: 0.7043145\tbest: 0.7044787 (100)\ttotal: 15.6s\tremaining: 42.8s\n",
      "107:\ttest: 0.7043145\tbest: 0.7044787 (100)\ttotal: 15.7s\tremaining: 42.4s\n",
      "108:\ttest: 0.7043145\tbest: 0.7044787 (100)\ttotal: 15.8s\tremaining: 42.1s\n",
      "109:\ttest: 0.7043145\tbest: 0.7044787 (100)\ttotal: 15.8s\tremaining: 41.7s\n",
      "110:\ttest: 0.7043966\tbest: 0.7044787 (100)\ttotal: 16s\tremaining: 41.8s\n",
      "111:\ttest: 0.7042656\tbest: 0.7044787 (100)\ttotal: 16.3s\tremaining: 41.9s\n",
      "112:\ttest: 0.7043636\tbest: 0.7044787 (100)\ttotal: 16.5s\tremaining: 42s\n",
      "113:\ttest: 0.7044309\tbest: 0.7044787 (100)\ttotal: 16.8s\tremaining: 42.1s\n",
      "114:\ttest: 0.7044309\tbest: 0.7044787 (100)\ttotal: 16.8s\tremaining: 41.7s\n",
      "115:\ttest: 0.7044309\tbest: 0.7044787 (100)\ttotal: 16.9s\tremaining: 41.3s\n"
     ]
    },
    {
     "name": "stdout",
     "output_type": "stream",
     "text": [
      "116:\ttest: 0.7044309\tbest: 0.7044787 (100)\ttotal: 16.9s\tremaining: 41s\n",
      "117:\ttest: 0.7044309\tbest: 0.7044787 (100)\ttotal: 17s\tremaining: 40.6s\n",
      "118:\ttest: 0.7044309\tbest: 0.7044787 (100)\ttotal: 17.1s\tremaining: 40.3s\n",
      "119:\ttest: 0.7044309\tbest: 0.7044787 (100)\ttotal: 17.1s\tremaining: 40s\n",
      "120:\ttest: 0.7044309\tbest: 0.7044787 (100)\ttotal: 17.2s\tremaining: 39.6s\n",
      "121:\ttest: 0.7044309\tbest: 0.7044787 (100)\ttotal: 17.2s\tremaining: 39.3s\n",
      "122:\ttest: 0.7044309\tbest: 0.7044787 (100)\ttotal: 17.3s\tremaining: 38.9s\n",
      "123:\ttest: 0.7045848\tbest: 0.7045848 (123)\ttotal: 17.5s\tremaining: 39s\n",
      "124:\ttest: 0.7045728\tbest: 0.7045848 (123)\ttotal: 17.8s\tremaining: 39.1s\n",
      "125:\ttest: 0.7045728\tbest: 0.7045848 (123)\ttotal: 17.8s\tremaining: 38.8s\n",
      "126:\ttest: 0.7045728\tbest: 0.7045848 (123)\ttotal: 17.9s\tremaining: 38.5s\n",
      "127:\ttest: 0.7045592\tbest: 0.7045848 (123)\ttotal: 18.2s\tremaining: 38.6s\n",
      "128:\ttest: 0.7046933\tbest: 0.7046933 (128)\ttotal: 18.4s\tremaining: 38.6s\n",
      "129:\ttest: 0.7046933\tbest: 0.7046933 (128)\ttotal: 18.5s\tremaining: 38.3s\n",
      "130:\ttest: 0.7046933\tbest: 0.7046933 (128)\ttotal: 18.5s\tremaining: 38s\n",
      "131:\ttest: 0.7046933\tbest: 0.7046933 (128)\ttotal: 18.6s\tremaining: 37.7s\n",
      "132:\ttest: 0.7045892\tbest: 0.7046933 (128)\ttotal: 18.8s\tremaining: 37.8s\n",
      "133:\ttest: 0.7045132\tbest: 0.7046933 (128)\ttotal: 19.1s\tremaining: 37.8s\n",
      "134:\ttest: 0.7045215\tbest: 0.7046933 (128)\ttotal: 19.3s\tremaining: 37.9s\n",
      "135:\ttest: 0.7045488\tbest: 0.7046933 (128)\ttotal: 19.5s\tremaining: 37.9s\n",
      "136:\ttest: 0.7045488\tbest: 0.7046933 (128)\ttotal: 19.6s\tremaining: 37.6s\n",
      "137:\ttest: 0.7045488\tbest: 0.7046933 (128)\ttotal: 19.7s\tremaining: 37.3s\n",
      "138:\ttest: 0.7045488\tbest: 0.7046933 (128)\ttotal: 19.7s\tremaining: 37s\n",
      "139:\ttest: 0.7045868\tbest: 0.7046933 (128)\ttotal: 19.9s\tremaining: 37s\n",
      "140:\ttest: 0.7045868\tbest: 0.7046933 (128)\ttotal: 20s\tremaining: 36.7s\n",
      "141:\ttest: 0.7045902\tbest: 0.7046933 (128)\ttotal: 20.2s\tremaining: 36.8s\n",
      "142:\ttest: 0.7045324\tbest: 0.7046933 (128)\ttotal: 20.5s\tremaining: 36.8s\n",
      "143:\ttest: 0.7045324\tbest: 0.7046933 (128)\ttotal: 20.5s\tremaining: 36.5s\n",
      "144:\ttest: 0.7044368\tbest: 0.7046933 (128)\ttotal: 20.8s\tremaining: 36.6s\n",
      "145:\ttest: 0.7043847\tbest: 0.7046933 (128)\ttotal: 21s\tremaining: 36.6s\n",
      "146:\ttest: 0.7043847\tbest: 0.7046933 (128)\ttotal: 21.1s\tremaining: 36.3s\n",
      "147:\ttest: 0.7043847\tbest: 0.7046933 (128)\ttotal: 21.1s\tremaining: 36s\n",
      "148:\ttest: 0.7043259\tbest: 0.7046933 (128)\ttotal: 21.4s\tremaining: 36.1s\n",
      "149:\ttest: 0.7042363\tbest: 0.7046933 (128)\ttotal: 21.6s\tremaining: 36.1s\n",
      "150:\ttest: 0.7042693\tbest: 0.7046933 (128)\ttotal: 21.9s\tremaining: 36.1s\n",
      "151:\ttest: 0.7041977\tbest: 0.7046933 (128)\ttotal: 22.1s\tremaining: 36.1s\n",
      "152:\ttest: 0.7041977\tbest: 0.7046933 (128)\ttotal: 22.2s\tremaining: 35.8s\n",
      "153:\ttest: 0.7041691\tbest: 0.7046933 (128)\ttotal: 22.4s\tremaining: 35.9s\n",
      "154:\ttest: 0.7041691\tbest: 0.7046933 (128)\ttotal: 22.5s\tremaining: 35.6s\n",
      "155:\ttest: 0.7041691\tbest: 0.7046933 (128)\ttotal: 22.6s\tremaining: 35.3s\n",
      "156:\ttest: 0.7041559\tbest: 0.7046933 (128)\ttotal: 22.8s\tremaining: 35.3s\n",
      "157:\ttest: 0.7041559\tbest: 0.7046933 (128)\ttotal: 22.9s\tremaining: 35s\n",
      "158:\ttest: 0.7040989\tbest: 0.7046933 (128)\ttotal: 23.1s\tremaining: 35s\n",
      "159:\ttest: 0.7040989\tbest: 0.7046933 (128)\ttotal: 23.2s\tremaining: 34.8s\n",
      "160:\ttest: 0.7043088\tbest: 0.7046933 (128)\ttotal: 23.4s\tremaining: 34.7s\n",
      "161:\ttest: 0.7043088\tbest: 0.7046933 (128)\ttotal: 23.5s\tremaining: 34.5s\n",
      "162:\ttest: 0.7043088\tbest: 0.7046933 (128)\ttotal: 23.5s\tremaining: 34.2s\n",
      "163:\ttest: 0.7042102\tbest: 0.7046933 (128)\ttotal: 23.8s\tremaining: 34.2s\n",
      "164:\ttest: 0.7041250\tbest: 0.7046933 (128)\ttotal: 24s\tremaining: 34.2s\n",
      "165:\ttest: 0.7041250\tbest: 0.7046933 (128)\ttotal: 24.1s\tremaining: 33.9s\n",
      "166:\ttest: 0.7040324\tbest: 0.7046933 (128)\ttotal: 24.3s\tremaining: 33.9s\n",
      "167:\ttest: 0.7040324\tbest: 0.7046933 (128)\ttotal: 24.4s\tremaining: 33.7s\n",
      "168:\ttest: 0.7040324\tbest: 0.7046933 (128)\ttotal: 24.4s\tremaining: 33.4s\n",
      "Stopped by overfitting detector  (40 iterations wait)\n",
      "\n",
      "bestTest = 0.7046933481\n",
      "bestIteration = 128\n",
      "\n",
      "Shrink model to first 129 iterations.\n"
     ]
    }
   ],
   "source": [
    "best_model_params = params.copy()\n",
    "best_model = CatBoostClassifier(**best_model_params)\n",
    "best_model.fit(train_pool, eval_set=validate_pool);"
   ]
  },
  {
   "cell_type": "code",
   "execution_count": 158,
   "metadata": {},
   "outputs": [
    {
     "name": "stdout",
     "output_type": "stream",
     "text": [
      "int_rate: 21.504196038063213\n",
      "dti: 10.605154625081251\n",
      "annual_inc: 10.371280993921673\n",
      "term: 6.695732825877977\n",
      "revol_util: 6.676160400542775\n",
      "total_rev_hi_lim: 6.387607419290431\n",
      "installment: 6.0609233086618195\n",
      "revol_bal: 6.029617865607967\n",
      "total_acc: 5.675356437658795\n",
      "tot_cur_bal: 5.546080977803312\n",
      "open_acc: 4.277378818312348\n",
      "inq_last_6mths: 4.15021065474063\n",
      "loan_amnt: 2.923083640417321\n",
      "initial_list_status: 1.853440974575323\n",
      "tot_coll_amt: 1.243775019445164\n",
      "verification_status: 0.0\n",
      "sub_grade: 0.0\n",
      "purpose: 0.0\n",
      "home_ownership: 0.0\n"
     ]
    }
   ],
   "source": [
    "feature_importances = best_model.get_feature_importance(train_pool)\n",
    "feature_names = x_train.columns\n",
    "top = []\n",
    "for score, name in sorted(zip(feature_importances, feature_names), reverse=True):\n",
    "    top.append(name)\n",
    "    print('{}: {}'.format(name, score))"
   ]
  },
  {
   "cell_type": "code",
   "execution_count": 159,
   "metadata": {},
   "outputs": [
    {
     "name": "stdout",
     "output_type": "stream",
     "text": [
      "<class 'pandas.core.frame.DataFrame'>\n",
      "RangeIndex: 200189 entries, 0 to 200188\n",
      "Data columns (total 19 columns):\n",
      "annual_inc             200189 non-null float64\n",
      "verification_status    200189 non-null object\n",
      "int_rate               200189 non-null float64\n",
      "initial_list_status    200189 non-null object\n",
      "term                   200189 non-null object\n",
      "installment            200189 non-null float64\n",
      "open_acc               200189 non-null float64\n",
      "total_acc              200189 non-null float64\n",
      "dti                    200189 non-null float64\n",
      "purpose                200189 non-null object\n",
      "tot_cur_bal            152232 non-null float64\n",
      "sub_grade              200189 non-null object\n",
      "home_ownership         200189 non-null object\n",
      "inq_last_6mths         200189 non-null float64\n",
      "total_rev_hi_lim       152232 non-null float64\n",
      "revol_bal              200189 non-null float64\n",
      "revol_util             200035 non-null float64\n",
      "tot_coll_amt           152232 non-null float64\n",
      "loan_amnt              200189 non-null float64\n",
      "dtypes: float64(13), object(6)\n",
      "memory usage: 29.0+ MB\n"
     ]
    }
   ],
   "source": [
    "x = train.loc[:,['annual_inc','verification_status','int_rate','initial_list_status','term',\n",
    "                 'installment','open_acc','total_acc','dti','purpose','tot_cur_bal',\n",
    "                 'sub_grade','home_ownership','inq_last_6mths','total_rev_hi_lim',\n",
    "                 'revol_bal','revol_util',\n",
    "                 'tot_coll_amt','loan_amnt',] ] # параметры\n",
    "x.drop(top[-1], axis=1)\n",
    "x.info()"
   ]
  },
  {
   "cell_type": "code",
   "execution_count": 160,
   "metadata": {},
   "outputs": [
    {
     "name": "stdout",
     "output_type": "stream",
     "text": [
      "<class 'pandas.core.frame.DataFrame'>\n",
      "RangeIndex: 200189 entries, 0 to 200188\n",
      "Data columns (total 19 columns):\n",
      "annual_inc             200189 non-null float64\n",
      "verification_status    200189 non-null object\n",
      "int_rate               200189 non-null float64\n",
      "initial_list_status    200189 non-null object\n",
      "term                   200189 non-null object\n",
      "installment            200189 non-null float64\n",
      "open_acc               200189 non-null float64\n",
      "total_acc              200189 non-null float64\n",
      "dti                    200189 non-null float64\n",
      "purpose                200189 non-null object\n",
      "tot_cur_bal            152232 non-null float64\n",
      "sub_grade              200189 non-null object\n",
      "home_ownership         200189 non-null object\n",
      "inq_last_6mths         200189 non-null float64\n",
      "total_rev_hi_lim       152232 non-null float64\n",
      "revol_bal              200189 non-null float64\n",
      "revol_util             200035 non-null float64\n",
      "tot_coll_amt           152232 non-null float64\n",
      "loan_amnt              200189 non-null float64\n",
      "dtypes: float64(13), object(6)\n",
      "memory usage: 29.0+ MB\n"
     ]
    }
   ],
   "source": [
    "#NaN killer\n",
    "Nan_killer(x)\n",
    "x.info()"
   ]
  },
  {
   "cell_type": "code",
   "execution_count": 161,
   "metadata": {},
   "outputs": [
    {
     "data": {
      "text/plain": [
       "Index(['verification_status', 'initial_list_status', 'term', 'purpose',\n",
       "       'sub_grade', 'home_ownership'],\n",
       "      dtype='object')"
      ]
     },
     "execution_count": 161,
     "metadata": {},
     "output_type": "execute_result"
    }
   ],
   "source": [
    "categorical_features_names = x.columns[x_train.dtypes == 'object']\n",
    "categorical_features_names"
   ]
  },
  {
   "cell_type": "code",
   "execution_count": 162,
   "metadata": {},
   "outputs": [],
   "source": [
    "categorical_features_indices = [x.columns.get_loc(i) for i in categorical_features_names]"
   ]
  },
  {
   "cell_type": "code",
   "execution_count": 163,
   "metadata": {},
   "outputs": [],
   "source": [
    "if 'purpose' in categorical_features_names:\n",
    "    x['purpose'] = x['purpose'].astype(str).map(lambda x: 'other' if x in ['educational', 'renewable_energy','vacation','house','wedding','moving','medical','car','small_business','major_purchase'] else x)"
   ]
  },
  {
   "cell_type": "code",
   "execution_count": 164,
   "metadata": {},
   "outputs": [],
   "source": [
    "if 'term' in categorical_features_names:\n",
    "    x['term'] = x['term'].astype(str).map(lambda x: 36 if x == ' 36 months' else 60)"
   ]
  },
  {
   "cell_type": "code",
   "execution_count": 165,
   "metadata": {},
   "outputs": [],
   "source": [
    "if 'sub_grade' in categorical_features_names:\n",
    "    x['sub_grade'] = x['sub_grade'].astype('str').map(lambda x: ord(x[0])*10 + int(x[1]))"
   ]
  },
  {
   "cell_type": "code",
   "execution_count": 166,
   "metadata": {},
   "outputs": [],
   "source": [
    "x_train, x_test, y_train, y_test = train_test_split(x, y, test_size=0.3, random_state = 42)"
   ]
  },
  {
   "cell_type": "code",
   "execution_count": 167,
   "metadata": {},
   "outputs": [
    {
     "data": {
      "text/plain": [
       "Index(['verification_status', 'initial_list_status', 'purpose',\n",
       "       'home_ownership'],\n",
       "      dtype='object')"
      ]
     },
     "execution_count": 167,
     "metadata": {},
     "output_type": "execute_result"
    }
   ],
   "source": [
    "categorical_features_names = x_train.columns[x_train.dtypes == 'object']\n",
    "categorical_features_names"
   ]
  },
  {
   "cell_type": "code",
   "execution_count": 168,
   "metadata": {},
   "outputs": [
    {
     "data": {
      "text/plain": [
       "[1, 3, 9, 12]"
      ]
     },
     "execution_count": 168,
     "metadata": {},
     "output_type": "execute_result"
    }
   ],
   "source": [
    "categorical_features_indices = [x_train.columns.get_loc(i) for i in categorical_features_names]\n",
    "categorical_features_indices"
   ]
  },
  {
   "cell_type": "code",
   "execution_count": 169,
   "metadata": {},
   "outputs": [],
   "source": [
    "train_pool = Pool(x_train, y_train, cat_features=categorical_features_indices)\n",
    "validate_pool = Pool(x_test, y_test, cat_features=categorical_features_indices)"
   ]
  },
  {
   "cell_type": "code",
   "execution_count": 170,
   "metadata": {},
   "outputs": [
    {
     "name": "stdout",
     "output_type": "stream",
     "text": [
      "evaluating params={'learning_rate': 0.06455055929014733, 'max_depth': 6.0, 'colsample_bylevel': 0.7425935964879817, 'bagging_temperature': 29.826163136513074, 'random_strength': 83.26320323149598, 'scale_pos_weight': 7.820515783320582, 'task_type': 'CPU', 'loss_function': 'Logloss', 'eval_metric': 'AUC', 'od_type': 'Iter', 'od_wait': 40, 'custom_metric': ['AUC'], 'iterations': 400, 'random_seed': 42}\n",
      "evaluated score=0.6276106715588896                                                                                     \n",
      "evaluated 1 times                                                                                                      \n",
      "evaluating params={'learning_rate': 0.7469657190897886, 'max_depth': 6.0, 'colsample_bylevel': 0.8350739741344673, 'bagging_temperature': 41.411863248553836, 'random_strength': 72.77257431773249, 'scale_pos_weight': 7.151559382799706, 'task_type': 'CPU', 'loss_function': 'Logloss', 'eval_metric': 'AUC', 'od_type': 'Iter', 'od_wait': 40, 'custom_metric': ['AUC'], 'iterations': 400, 'random_seed': 42}\n",
      "evaluated score=0.5                                                                                                    \n",
      "evaluated 2 times                                                                                                      \n",
      "evaluating params={'learning_rate': 0.24969398680849822, 'max_depth': 10.0, 'colsample_bylevel': 0.9320639577324752, 'bagging_temperature': 6.231294084407146, 'random_strength': 88.33152773808621, 'scale_pos_weight': 13.560825333299263, 'task_type': 'CPU', 'loss_function': 'Logloss', 'eval_metric': 'AUC', 'od_type': 'Iter', 'od_wait': 40, 'custom_metric': ['AUC'], 'iterations': 400, 'random_seed': 42}\n",
      "evaluated score=0.6164865810266468                                                                                     \n",
      "evaluated 3 times                                                                                                      \n",
      "evaluating params={'learning_rate': 0.09283873525663582, 'max_depth': 7.0, 'colsample_bylevel': 0.5939775931836743, 'bagging_temperature': 45.366534380629886, 'random_strength': 91.87225216693768, 'scale_pos_weight': 7.672487684517276, 'task_type': 'CPU', 'loss_function': 'Logloss', 'eval_metric': 'AUC', 'od_type': 'Iter', 'od_wait': 40, 'custom_metric': ['AUC'], 'iterations': 400, 'random_seed': 42}\n",
      "evaluated score=0.5                                                                                                    \n",
      "evaluated 4 times                                                                                                      \n",
      "evaluating params={'learning_rate': 0.4824571912345811, 'max_depth': 9.0, 'colsample_bylevel': 0.7615261640271918, 'bagging_temperature': 9.545503921499343, 'random_strength': 17.187156139656068, 'scale_pos_weight': 13.185939825360448, 'task_type': 'CPU', 'loss_function': 'Logloss', 'eval_metric': 'AUC', 'od_type': 'Iter', 'od_wait': 40, 'custom_metric': ['AUC'], 'iterations': 400, 'random_seed': 42}\n",
      "evaluated score=0.5924811359212733                                                                                     \n",
      "evaluated 5 times                                                                                                      \n",
      "evaluating params={'learning_rate': 0.426029987330877, 'max_depth': 8.0, 'colsample_bylevel': 0.9519260362533433, 'bagging_temperature': 71.70311511598368, 'random_strength': 43.80291864409232, 'scale_pos_weight': 12.993301624107593, 'task_type': 'CPU', 'loss_function': 'Logloss', 'eval_metric': 'AUC', 'od_type': 'Iter', 'od_wait': 40, 'custom_metric': ['AUC'], 'iterations': 400, 'random_seed': 42}\n",
      "evaluated score=0.5                                                                                                    \n",
      "evaluated 6 times                                                                                                      \n",
      "evaluating params={'learning_rate': 0.1392496711244547, 'max_depth': 5.0, 'colsample_bylevel': 0.9002516157283724, 'bagging_temperature': 37.25797779832578, 'random_strength': 93.93697376027716, 'scale_pos_weight': 12.010420269783523, 'task_type': 'CPU', 'loss_function': 'Logloss', 'eval_metric': 'AUC', 'od_type': 'Iter', 'od_wait': 40, 'custom_metric': ['AUC'], 'iterations': 400, 'random_seed': 42}\n",
      "evaluated score=0.5                                                                                                    \n",
      "evaluated 7 times                                                                                                      \n",
      "evaluating params={'learning_rate': 0.2936281162179091, 'max_depth': 9.0, 'colsample_bylevel': 0.7963098376527838, 'bagging_temperature': 59.462003508683836, 'random_strength': 77.53643788278823, 'scale_pos_weight': 10.256190377534743, 'task_type': 'CPU', 'loss_function': 'Logloss', 'eval_metric': 'AUC', 'od_type': 'Iter', 'od_wait': 40, 'custom_metric': ['AUC'], 'iterations': 400, 'random_seed': 42}\n",
      "evaluated score=0.5                                                                                                    \n",
      "evaluated 8 times                                                                                                      \n",
      "evaluating params={'learning_rate': 0.40220869584140617, 'max_depth': 9.0, 'colsample_bylevel': 0.6620299911421867, 'bagging_temperature': 5.1134553677051775, 'random_strength': 92.00092264373161, 'scale_pos_weight': 9.151046015354687, 'task_type': 'CPU', 'loss_function': 'Logloss', 'eval_metric': 'AUC', 'od_type': 'Iter', 'od_wait': 40, 'custom_metric': ['AUC'], 'iterations': 400, 'random_seed': 42}\n",
      "evaluated score=0.6366703250437072                                                                                     \n",
      "evaluated 9 times                                                                                                      \n",
      "evaluating params={'learning_rate': 0.6986050234859398, 'max_depth': 6.0, 'colsample_bylevel': 0.6905323823987464, 'bagging_temperature': 21.14142872741962, 'random_strength': 70.06214446213659, 'scale_pos_weight': 15.332169794648921, 'task_type': 'CPU', 'loss_function': 'Logloss', 'eval_metric': 'AUC', 'od_type': 'Iter', 'od_wait': 40, 'custom_metric': ['AUC'], 'iterations': 400, 'random_seed': 42}\n",
      "evaluated score=0.6009526149293688                                                                                     \n",
      "evaluated 10 times                                                                                                     \n",
      "evaluating params={'learning_rate': 0.5956133680507415, 'max_depth': 6.0, 'colsample_bylevel': 0.7893321681141924, 'bagging_temperature': 27.47148488354174, 'random_strength': 81.78300196637514, 'scale_pos_weight': 1.0544546088211484, 'task_type': 'CPU', 'loss_function': 'Logloss', 'eval_metric': 'AUC', 'od_type': 'Iter', 'od_wait': 40, 'custom_metric': ['AUC'], 'iterations': 400, 'random_seed': 42}\n",
      "evaluated score=0.6458510175968245                                                                                     \n",
      "evaluated 11 times                                                                                                     \n",
      "evaluating params={'learning_rate': 0.39434590071428977, 'max_depth': 7.0, 'colsample_bylevel': 0.6816015479755677, 'bagging_temperature': 71.93764256573532, 'random_strength': 35.84815225733641, 'scale_pos_weight': 14.18703830797068, 'task_type': 'CPU', 'loss_function': 'Logloss', 'eval_metric': 'AUC', 'od_type': 'Iter', 'od_wait': 40, 'custom_metric': ['AUC'], 'iterations': 400, 'random_seed': 42}\n",
      "evaluated score=0.5                                                                                                    \n",
      "evaluated 12 times                                                                                                     \n",
      "evaluating params={'learning_rate': 0.7685649503580674, 'max_depth': 6.0, 'colsample_bylevel': 0.7455551022408217, 'bagging_temperature': 38.60707574736531, 'random_strength': 30.725816388873938, 'scale_pos_weight': 14.222176264494117, 'task_type': 'CPU', 'loss_function': 'Logloss', 'eval_metric': 'AUC', 'od_type': 'Iter', 'od_wait': 40, 'custom_metric': ['AUC'], 'iterations': 400, 'random_seed': 42}\n"
     ]
    },
    {
     "name": "stdout",
     "output_type": "stream",
     "text": [
      "evaluated score=0.5                                                                                                    \n",
      "evaluated 13 times                                                                                                     \n",
      "evaluating params={'learning_rate': 0.6816071034106231, 'max_depth': 6.0, 'colsample_bylevel': 0.8987194012367643, 'bagging_temperature': 17.39917225073908, 'random_strength': 1.3183035637853835, 'scale_pos_weight': 8.906647116199107, 'task_type': 'CPU', 'loss_function': 'Logloss', 'eval_metric': 'AUC', 'od_type': 'Iter', 'od_wait': 40, 'custom_metric': ['AUC'], 'iterations': 400, 'random_seed': 42}\n",
      "evaluated score=0.6276201810816152                                                                                     \n",
      "evaluated 14 times                                                                                                     \n",
      "evaluating params={'learning_rate': 0.19800717762087047, 'max_depth': 7.0, 'colsample_bylevel': 0.6308684032130806, 'bagging_temperature': 9.749591346538377, 'random_strength': 92.09817283659105, 'scale_pos_weight': 10.555510471361897, 'task_type': 'CPU', 'loss_function': 'Logloss', 'eval_metric': 'AUC', 'od_type': 'Iter', 'od_wait': 40, 'custom_metric': ['AUC'], 'iterations': 400, 'random_seed': 42}\n",
      "evaluated score=0.6251617385497678                                                                                     \n",
      "evaluated 15 times                                                                                                     \n",
      "evaluating params={'learning_rate': 0.30176937784286434, 'max_depth': 8.0, 'colsample_bylevel': 0.5144422625256673, 'bagging_temperature': 0.4971188920065317, 'random_strength': 64.00100015740247, 'scale_pos_weight': 9.750539284627434, 'task_type': 'CPU', 'loss_function': 'Logloss', 'eval_metric': 'AUC', 'od_type': 'Iter', 'od_wait': 40, 'custom_metric': ['AUC'], 'iterations': 400, 'random_seed': 42}\n",
      "evaluated score=0.5824425307060078                                                                                     \n",
      "evaluated 16 times                                                                                                     \n",
      "evaluating params={'learning_rate': 0.23970194674028295, 'max_depth': 9.0, 'colsample_bylevel': 0.5625745905758681, 'bagging_temperature': 55.627423762114184, 'random_strength': 12.470065927231532, 'scale_pos_weight': 8.73748167895595, 'task_type': 'CPU', 'loss_function': 'Logloss', 'eval_metric': 'AUC', 'od_type': 'Iter', 'od_wait': 40, 'custom_metric': ['AUC'], 'iterations': 400, 'random_seed': 42}\n",
      "evaluated score=0.5                                                                                                    \n",
      "evaluated 17 times                                                                                                     \n",
      "evaluating params={'learning_rate': 0.4012958021261945, 'max_depth': 9.0, 'colsample_bylevel': 0.8455558039385862, 'bagging_temperature': 94.11368288673546, 'random_strength': 68.10391246607139, 'scale_pos_weight': 11.381656781069033, 'task_type': 'CPU', 'loss_function': 'Logloss', 'eval_metric': 'AUC', 'od_type': 'Iter', 'od_wait': 40, 'custom_metric': ['AUC'], 'iterations': 400, 'random_seed': 42}\n",
      "evaluated score=0.5                                                                                                    \n",
      "evaluated 18 times                                                                                                     \n",
      "evaluating params={'learning_rate': 0.6505258556695427, 'max_depth': 8.0, 'colsample_bylevel': 0.9708723155369876, 'bagging_temperature': 67.02496253184057, 'random_strength': 69.46896343853821, 'scale_pos_weight': 5.32207615422222, 'task_type': 'CPU', 'loss_function': 'Logloss', 'eval_metric': 'AUC', 'od_type': 'Iter', 'od_wait': 40, 'custom_metric': ['AUC'], 'iterations': 400, 'random_seed': 42}\n",
      "evaluated score=0.5                                                                                                    \n",
      "evaluated 19 times                                                                                                     \n",
      "evaluating params={'learning_rate': 0.6735075794410379, 'max_depth': 4.0, 'colsample_bylevel': 0.9812939388768891, 'bagging_temperature': 70.5194745389447, 'random_strength': 87.51118984907046, 'scale_pos_weight': 6.966788039978879, 'task_type': 'CPU', 'loss_function': 'Logloss', 'eval_metric': 'AUC', 'od_type': 'Iter', 'od_wait': 40, 'custom_metric': ['AUC'], 'iterations': 400, 'random_seed': 42}\n",
      "evaluated score=0.5                                                                                                    \n",
      "evaluated 20 times                                                                                                     \n",
      "evaluating params={'learning_rate': 0.5734662425089077, 'max_depth': 8.0, 'colsample_bylevel': 0.6304453528545368, 'bagging_temperature': 62.84810666157716, 'random_strength': 73.4104187301871, 'scale_pos_weight': 2.4675261036805853, 'task_type': 'CPU', 'loss_function': 'Logloss', 'eval_metric': 'AUC', 'od_type': 'Iter', 'od_wait': 40, 'custom_metric': ['AUC'], 'iterations': 400, 'random_seed': 42}\n",
      "evaluated score=0.5                                                                                                    \n",
      "evaluated 21 times                                                                                                     \n",
      "evaluating params={'learning_rate': 0.562943674257195, 'max_depth': 5.0, 'colsample_bylevel': 0.5483119512487002, 'bagging_temperature': 13.729876000611597, 'random_strength': 11.917934729048618, 'scale_pos_weight': 7.7437572739136336, 'task_type': 'CPU', 'loss_function': 'Logloss', 'eval_metric': 'AUC', 'od_type': 'Iter', 'od_wait': 40, 'custom_metric': ['AUC'], 'iterations': 400, 'random_seed': 42}\n",
      "evaluated score=0.6200584911276132                                                                                     \n",
      "evaluated 22 times                                                                                                     \n",
      "evaluating params={'learning_rate': 0.30171478622039305, 'max_depth': 8.0, 'colsample_bylevel': 0.5531324082829224, 'bagging_temperature': 19.27527018070495, 'random_strength': 59.32653223463626, 'scale_pos_weight': 5.959256741821097, 'task_type': 'CPU', 'loss_function': 'Logloss', 'eval_metric': 'AUC', 'od_type': 'Iter', 'od_wait': 40, 'custom_metric': ['AUC'], 'iterations': 400, 'random_seed': 42}\n",
      "evaluated score=0.6512933496225607                                                                                     \n",
      "evaluated 23 times                                                                                                     \n",
      "evaluating params={'learning_rate': 0.11097111782120497, 'max_depth': 9.0, 'colsample_bylevel': 0.7409387009901992, 'bagging_temperature': 86.1172196771636, 'random_strength': 15.546845674932808, 'scale_pos_weight': 12.839684626967696, 'task_type': 'CPU', 'loss_function': 'Logloss', 'eval_metric': 'AUC', 'od_type': 'Iter', 'od_wait': 40, 'custom_metric': ['AUC'], 'iterations': 400, 'random_seed': 42}\n",
      "evaluated score=0.5                                                                                                    \n",
      "evaluated 24 times                                                                                                     \n",
      "evaluating params={'learning_rate': 0.11874463606048295, 'max_depth': 8.0, 'colsample_bylevel': 0.9143513727263843, 'bagging_temperature': 52.83445689811619, 'random_strength': 64.16434702146898, 'scale_pos_weight': 14.91359148640431, 'task_type': 'CPU', 'loss_function': 'Logloss', 'eval_metric': 'AUC', 'od_type': 'Iter', 'od_wait': 40, 'custom_metric': ['AUC'], 'iterations': 400, 'random_seed': 42}\n",
      "evaluated score=0.5                                                                                                    \n",
      "evaluated 25 times                                                                                                     \n"
     ]
    },
    {
     "name": "stdout",
     "output_type": "stream",
     "text": [
      "evaluating params={'learning_rate': 0.6990952871256788, 'max_depth': 7.0, 'colsample_bylevel': 0.9886431821208913, 'bagging_temperature': 37.02268496294152, 'random_strength': 30.46124241138234, 'scale_pos_weight': 5.956456248816514, 'task_type': 'CPU', 'loss_function': 'Logloss', 'eval_metric': 'AUC', 'od_type': 'Iter', 'od_wait': 40, 'custom_metric': ['AUC'], 'iterations': 400, 'random_seed': 42}\n",
      "evaluated score=0.5                                                                                                    \n",
      "evaluated 26 times                                                                                                     \n",
      "evaluating params={'learning_rate': 0.24329907330073666, 'max_depth': 8.0, 'colsample_bylevel': 0.7808420826245261, 'bagging_temperature': 20.368720717700416, 'random_strength': 70.4583602067651, 'scale_pos_weight': 13.45498682238244, 'task_type': 'CPU', 'loss_function': 'Logloss', 'eval_metric': 'AUC', 'od_type': 'Iter', 'od_wait': 40, 'custom_metric': ['AUC'], 'iterations': 400, 'random_seed': 42}\n",
      "evaluated score=0.6165084739619987                                                                                     \n",
      "evaluated 27 times                                                                                                     \n",
      "evaluating params={'learning_rate': 0.04086353893886585, 'max_depth': 6.0, 'colsample_bylevel': 0.9572428411764734, 'bagging_temperature': 86.14960210057677, 'random_strength': 0.6965422065443372, 'scale_pos_weight': 10.92660490498745, 'task_type': 'CPU', 'loss_function': 'Logloss', 'eval_metric': 'AUC', 'od_type': 'Iter', 'od_wait': 40, 'custom_metric': ['AUC'], 'iterations': 400, 'random_seed': 42}\n",
      "evaluated score=0.5                                                                                                    \n",
      "evaluated 28 times                                                                                                     \n",
      "evaluating params={'learning_rate': 0.7044181740437416, 'max_depth': 9.0, 'colsample_bylevel': 0.6655150483186099, 'bagging_temperature': 12.738262171620264, 'random_strength': 63.4490889188811, 'scale_pos_weight': 6.314410522320887, 'task_type': 'CPU', 'loss_function': 'Logloss', 'eval_metric': 'AUC', 'od_type': 'Iter', 'od_wait': 40, 'custom_metric': ['AUC'], 'iterations': 400, 'random_seed': 42}\n",
      "evaluated score=0.654985882439237                                                                                      \n",
      "evaluated 29 times                                                                                                     \n",
      "evaluating params={'learning_rate': 0.6516189553537985, 'max_depth': 6.0, 'colsample_bylevel': 0.5019218012929152, 'bagging_temperature': 53.84241532241949, 'random_strength': 65.00439661591349, 'scale_pos_weight': 10.769804369641149, 'task_type': 'CPU', 'loss_function': 'Logloss', 'eval_metric': 'AUC', 'od_type': 'Iter', 'od_wait': 40, 'custom_metric': ['AUC'], 'iterations': 400, 'random_seed': 42}\n",
      "evaluated score=0.5                                                                                                    \n",
      "evaluated 30 times                                                                                                     \n",
      "evaluating params={'learning_rate': 0.3023023711356902, 'max_depth': 8.0, 'colsample_bylevel': 0.6556457567145959, 'bagging_temperature': 82.24195855857882, 'random_strength': 13.16595920133481, 'scale_pos_weight': 7.37721104605222, 'task_type': 'CPU', 'loss_function': 'Logloss', 'eval_metric': 'AUC', 'od_type': 'Iter', 'od_wait': 40, 'custom_metric': ['AUC'], 'iterations': 400, 'random_seed': 42}\n",
      "evaluated score=0.5                                                                                                    \n",
      "evaluated 31 times                                                                                                     \n",
      "evaluating params={'learning_rate': 0.5644131814496948, 'max_depth': 9.0, 'colsample_bylevel': 0.9097812496257851, 'bagging_temperature': 77.91984817769776, 'random_strength': 31.676869347796277, 'scale_pos_weight': 9.078186015741204, 'task_type': 'CPU', 'loss_function': 'Logloss', 'eval_metric': 'AUC', 'od_type': 'Iter', 'od_wait': 40, 'custom_metric': ['AUC'], 'iterations': 400, 'random_seed': 42}\n",
      "evaluated score=0.5                                                                                                    \n",
      "evaluated 32 times                                                                                                     \n",
      "evaluating params={'learning_rate': 0.5590318303514967, 'max_depth': 8.0, 'colsample_bylevel': 0.8508394625620042, 'bagging_temperature': 42.529710406239154, 'random_strength': 57.568250531790746, 'scale_pos_weight': 2.969163939303326, 'task_type': 'CPU', 'loss_function': 'Logloss', 'eval_metric': 'AUC', 'od_type': 'Iter', 'od_wait': 40, 'custom_metric': ['AUC'], 'iterations': 400, 'random_seed': 42}\n",
      "evaluated score=0.5                                                                                                    \n",
      "evaluated 33 times                                                                                                     \n",
      "evaluating params={'learning_rate': 0.6120026464899954, 'max_depth': 6.0, 'colsample_bylevel': 0.5947476340749828, 'bagging_temperature': 70.96811670294242, 'random_strength': 62.459046032330775, 'scale_pos_weight': 9.04750955110397, 'task_type': 'CPU', 'loss_function': 'Logloss', 'eval_metric': 'AUC', 'od_type': 'Iter', 'od_wait': 40, 'custom_metric': ['AUC'], 'iterations': 400, 'random_seed': 42}\n",
      "evaluated score=0.5                                                                                                    \n",
      "evaluated 34 times                                                                                                     \n",
      "evaluating params={'learning_rate': 0.08691595905882502, 'max_depth': 6.0, 'colsample_bylevel': 0.925738266770135, 'bagging_temperature': 30.082329093344395, 'random_strength': 60.338313715544004, 'scale_pos_weight': 5.894602452232973, 'task_type': 'CPU', 'loss_function': 'Logloss', 'eval_metric': 'AUC', 'od_type': 'Iter', 'od_wait': 40, 'custom_metric': ['AUC'], 'iterations': 400, 'random_seed': 42}\n",
      "evaluated score=0.6101494259224925                                                                                     \n",
      "evaluated 35 times                                                                                                     \n",
      "evaluating params={'learning_rate': 0.42511142589135503, 'max_depth': 7.0, 'colsample_bylevel': 0.7334249774494812, 'bagging_temperature': 48.20077804650612, 'random_strength': 18.40579185712945, 'scale_pos_weight': 9.048359364952153, 'task_type': 'CPU', 'loss_function': 'Logloss', 'eval_metric': 'AUC', 'od_type': 'Iter', 'od_wait': 40, 'custom_metric': ['AUC'], 'iterations': 400, 'random_seed': 42}\n",
      "evaluated score=0.5                                                                                                    \n",
      "evaluated 36 times                                                                                                     \n",
      "evaluating params={'learning_rate': 0.08578380823258902, 'max_depth': 6.0, 'colsample_bylevel': 0.8804363657182184, 'bagging_temperature': 67.95205089825916, 'random_strength': 49.65738663401596, 'scale_pos_weight': 7.496472632910514, 'task_type': 'CPU', 'loss_function': 'Logloss', 'eval_metric': 'AUC', 'od_type': 'Iter', 'od_wait': 40, 'custom_metric': ['AUC'], 'iterations': 400, 'random_seed': 42}\n",
      "evaluated score=0.5                                                                                                    \n",
      "evaluated 37 times                                                                                                     \n",
      "evaluating params={'learning_rate': 0.19989098684426826, 'max_depth': 6.0, 'colsample_bylevel': 0.5504896649264421, 'bagging_temperature': 35.25539025632924, 'random_strength': 75.14004257971514, 'scale_pos_weight': 13.77923061324646, 'task_type': 'CPU', 'loss_function': 'Logloss', 'eval_metric': 'AUC', 'od_type': 'Iter', 'od_wait': 40, 'custom_metric': ['AUC'], 'iterations': 400, 'random_seed': 42}\n"
     ]
    },
    {
     "name": "stdout",
     "output_type": "stream",
     "text": [
      "evaluated score=0.6348619929164084                                                                                     \n",
      "evaluated 38 times                                                                                                     \n",
      "evaluating params={'learning_rate': 0.3176903626733709, 'max_depth': 5.0, 'colsample_bylevel': 0.7576107737512063, 'bagging_temperature': 69.77740837456095, 'random_strength': 3.7277118258843833, 'scale_pos_weight': 11.63786487812268, 'task_type': 'CPU', 'loss_function': 'Logloss', 'eval_metric': 'AUC', 'od_type': 'Iter', 'od_wait': 40, 'custom_metric': ['AUC'], 'iterations': 400, 'random_seed': 42}\n",
      "evaluated score=0.5                                                                                                    \n",
      "evaluated 39 times                                                                                                     \n",
      "evaluating params={'learning_rate': 0.5116330929422992, 'max_depth': 6.0, 'colsample_bylevel': 0.6881294671910385, 'bagging_temperature': 49.663835413421864, 'random_strength': 79.52631814690415, 'scale_pos_weight': 15.079604804299631, 'task_type': 'CPU', 'loss_function': 'Logloss', 'eval_metric': 'AUC', 'od_type': 'Iter', 'od_wait': 40, 'custom_metric': ['AUC'], 'iterations': 400, 'random_seed': 42}\n",
      "evaluated score=0.5                                                                                                    \n",
      "evaluated 40 times                                                                                                     \n",
      "evaluating params={'learning_rate': 0.30611892615023495, 'max_depth': 5.0, 'colsample_bylevel': 0.6679211768749299, 'bagging_temperature': 6.7371898726728325, 'random_strength': 90.23295140820429, 'scale_pos_weight': 4.251934608050318, 'task_type': 'CPU', 'loss_function': 'Logloss', 'eval_metric': 'AUC', 'od_type': 'Iter', 'od_wait': 40, 'custom_metric': ['AUC'], 'iterations': 400, 'random_seed': 42}\n",
      "evaluated score=0.6000066293560503                                                                                     \n",
      "evaluated 41 times                                                                                                     \n",
      "evaluating params={'learning_rate': 0.30641269670985033, 'max_depth': 4.0, 'colsample_bylevel': 0.8499749370450363, 'bagging_temperature': 75.10349109199097, 'random_strength': 70.83825544375651, 'scale_pos_weight': 8.17207067063337, 'task_type': 'CPU', 'loss_function': 'Logloss', 'eval_metric': 'AUC', 'od_type': 'Iter', 'od_wait': 40, 'custom_metric': ['AUC'], 'iterations': 400, 'random_seed': 42}\n",
      "evaluated score=0.5                                                                                                    \n",
      "evaluated 42 times                                                                                                     \n",
      "evaluating params={'learning_rate': 0.4279413325594994, 'max_depth': 8.0, 'colsample_bylevel': 0.6846162493945316, 'bagging_temperature': 85.15570966410692, 'random_strength': 25.676623887620707, 'scale_pos_weight': 9.195512705198349, 'task_type': 'CPU', 'loss_function': 'Logloss', 'eval_metric': 'AUC', 'od_type': 'Iter', 'od_wait': 40, 'custom_metric': ['AUC'], 'iterations': 400, 'random_seed': 42}\n",
      "evaluated score=0.5                                                                                                    \n",
      "evaluated 43 times                                                                                                     \n",
      "evaluating params={'learning_rate': 0.7580299444808133, 'max_depth': 10.0, 'colsample_bylevel': 0.6560654544857116, 'bagging_temperature': 9.606602573184976, 'random_strength': 38.07157402345723, 'scale_pos_weight': 15.44322039696387, 'task_type': 'CPU', 'loss_function': 'Logloss', 'eval_metric': 'AUC', 'od_type': 'Iter', 'od_wait': 40, 'custom_metric': ['AUC'], 'iterations': 400, 'random_seed': 42}\n",
      "evaluated score=0.6438500608421688                                                                                     \n",
      "evaluated 44 times                                                                                                     \n",
      "evaluating params={'learning_rate': 0.20930792475812623, 'max_depth': 10.0, 'colsample_bylevel': 0.5886668909032519, 'bagging_temperature': 34.823504904022414, 'random_strength': 78.52734938376074, 'scale_pos_weight': 10.205598741673892, 'task_type': 'CPU', 'loss_function': 'Logloss', 'eval_metric': 'AUC', 'od_type': 'Iter', 'od_wait': 40, 'custom_metric': ['AUC'], 'iterations': 400, 'random_seed': 42}\n",
      "evaluated score=0.6479623083358327                                                                                     \n",
      "evaluated 45 times                                                                                                     \n",
      "evaluating params={'learning_rate': 0.03690584752959317, 'max_depth': 5.0, 'colsample_bylevel': 0.7383440484332322, 'bagging_temperature': 2.4179327359312053, 'random_strength': 96.96509583621922, 'scale_pos_weight': 5.643577706454599, 'task_type': 'CPU', 'loss_function': 'Logloss', 'eval_metric': 'AUC', 'od_type': 'Iter', 'od_wait': 40, 'custom_metric': ['AUC'], 'iterations': 400, 'random_seed': 42}\n",
      "evaluated score=0.5898370294560837                                                                                     \n",
      "evaluated 46 times                                                                                                     \n",
      "evaluating params={'learning_rate': 0.6611656132549413, 'max_depth': 7.0, 'colsample_bylevel': 0.5126036962879645, 'bagging_temperature': 38.976526645092015, 'random_strength': 25.530311192309473, 'scale_pos_weight': 5.4630110310181985, 'task_type': 'CPU', 'loss_function': 'Logloss', 'eval_metric': 'AUC', 'od_type': 'Iter', 'od_wait': 40, 'custom_metric': ['AUC'], 'iterations': 400, 'random_seed': 42}\n",
      "evaluated score=0.5                                                                                                    \n",
      "evaluated 47 times                                                                                                     \n",
      "evaluating params={'learning_rate': 0.7512715308588567, 'max_depth': 5.0, 'colsample_bylevel': 0.5949353001936417, 'bagging_temperature': 47.64867445075578, 'random_strength': 97.92804334722808, 'scale_pos_weight': 1.062446140424417, 'task_type': 'CPU', 'loss_function': 'Logloss', 'eval_metric': 'AUC', 'od_type': 'Iter', 'od_wait': 40, 'custom_metric': ['AUC'], 'iterations': 400, 'random_seed': 42}\n",
      "evaluated score=0.5                                                                                                    \n",
      "evaluated 48 times                                                                                                     \n",
      "evaluating params={'learning_rate': 0.016566017126364248, 'max_depth': 7.0, 'colsample_bylevel': 0.8216931897786428, 'bagging_temperature': 14.776484063446116, 'random_strength': 87.66639642845378, 'scale_pos_weight': 15.28714079131189, 'task_type': 'CPU', 'loss_function': 'Logloss', 'eval_metric': 'AUC', 'od_type': 'Iter', 'od_wait': 40, 'custom_metric': ['AUC'], 'iterations': 400, 'random_seed': 42}\n",
      "evaluated score=0.6111335121242515                                                                                     \n",
      "evaluated 49 times                                                                                                     \n",
      "evaluating params={'learning_rate': 0.698766863396429, 'max_depth': 8.0, 'colsample_bylevel': 0.6857782082163167, 'bagging_temperature': 17.998987540853896, 'random_strength': 35.37693915300544, 'scale_pos_weight': 15.817197733911794, 'task_type': 'CPU', 'loss_function': 'Logloss', 'eval_metric': 'AUC', 'od_type': 'Iter', 'od_wait': 40, 'custom_metric': ['AUC'], 'iterations': 400, 'random_seed': 42}\n",
      "evaluated score=0.6244302985079823                                                                                     \n",
      "evaluated 50 times                                                                                                     \n",
      "100%|████████████████████████████████████████████████| 50/50 [2:03:00<00:00, 229.53s/it, best loss: -0.654985882439237]\n"
     ]
    },
    {
     "name": "stderr",
     "output_type": "stream",
     "text": [
      "Warning: Custom metrics will not be evaluated because there are no test datasets\n"
     ]
    }
   ],
   "source": [
    "model, params = train_best_model(\n",
    "    train_pool, \n",
    "    const_params, \n",
    "    max_evals=hyperopt_iterations, \n",
    "    use_default=use_optimal_pretrained_params)"
   ]
  },
  {
   "cell_type": "code",
   "execution_count": 171,
   "metadata": {},
   "outputs": [
    {
     "data": {
      "text/plain": [
       "{'bagging_temperature': 12.738262171620264,\n",
       " 'colsample_bylevel': 0.6655150483186099,\n",
       " 'depth': 9.0,\n",
       " 'learning_rate': 0.7044181740437416,\n",
       " 'random_strength': 63.4490889188811,\n",
       " 'scale_pos_weight': 6.314410522320887,\n",
       " 'task_type': 'CPU',\n",
       " 'loss_function': 'Logloss',\n",
       " 'eval_metric': 'AUC',\n",
       " 'od_type': 'Iter',\n",
       " 'od_wait': 40,\n",
       " 'custom_metric': ['AUC'],\n",
       " 'iterations': 400,\n",
       " 'random_seed': 42}"
      ]
     },
     "execution_count": 171,
     "metadata": {},
     "output_type": "execute_result"
    }
   ],
   "source": [
    "params"
   ]
  },
  {
   "cell_type": "code",
   "execution_count": 172,
   "metadata": {},
   "outputs": [
    {
     "name": "stdout",
     "output_type": "stream",
     "text": [
      "ROC-AUC score:  0.6633088870137023\n"
     ]
    },
    {
     "data": {
      "image/png": "[encoded data removed]",
      "text/plain": [
       "<Figure size 432x288 with 1 Axes>"
      ]
     },
     "metadata": {
      "needs_background": "light"
     },
     "output_type": "display_data"
    }
   ],
   "source": [
    "plot_roc(model, x_test, y_test)"
   ]
  },
  {
   "cell_type": "code",
   "execution_count": 173,
   "metadata": {},
   "outputs": [
    {
     "name": "stdout",
     "output_type": "stream",
     "text": [
      "Recall: 0.98\n",
      "Precision score: 0.79\n",
      "Accuracy score: 0.78\n"
     ]
    }
   ],
   "source": [
    "show_scores(model, x_test, y_test)"
   ]
  },
  {
   "cell_type": "code",
   "execution_count": 174,
   "metadata": {},
   "outputs": [
    {
     "name": "stdout",
     "output_type": "stream",
     "text": [
      "0:\ttest: 0.6580940\tbest: 0.6580940 (0)\ttotal: 203ms\tremaining: 1m 21s\n",
      "1:\ttest: 0.6777828\tbest: 0.6777828 (1)\ttotal: 405ms\tremaining: 1m 20s\n",
      "2:\ttest: 0.6839271\tbest: 0.6839271 (2)\ttotal: 608ms\tremaining: 1m 20s\n",
      "3:\ttest: 0.6892552\tbest: 0.6892552 (3)\ttotal: 820ms\tremaining: 1m 21s\n",
      "4:\ttest: 0.6899382\tbest: 0.6899382 (4)\ttotal: 1.01s\tremaining: 1m 19s\n",
      "5:\ttest: 0.6915935\tbest: 0.6915935 (5)\ttotal: 1.23s\tremaining: 1m 20s\n",
      "6:\ttest: 0.6966695\tbest: 0.6966695 (6)\ttotal: 1.43s\tremaining: 1m 20s\n",
      "7:\ttest: 0.6977415\tbest: 0.6977415 (7)\ttotal: 1.63s\tremaining: 1m 19s\n",
      "8:\ttest: 0.6983433\tbest: 0.6983433 (8)\ttotal: 1.82s\tremaining: 1m 19s\n",
      "9:\ttest: 0.6979878\tbest: 0.6983433 (8)\ttotal: 2.04s\tremaining: 1m 19s\n",
      "10:\ttest: 0.6975638\tbest: 0.6983433 (8)\ttotal: 2.24s\tremaining: 1m 19s\n",
      "11:\ttest: 0.6975558\tbest: 0.6983433 (8)\ttotal: 2.45s\tremaining: 1m 19s\n",
      "12:\ttest: 0.6976357\tbest: 0.6983433 (8)\ttotal: 2.65s\tremaining: 1m 18s\n",
      "13:\ttest: 0.6971368\tbest: 0.6983433 (8)\ttotal: 2.84s\tremaining: 1m 18s\n",
      "14:\ttest: 0.6979647\tbest: 0.6983433 (8)\ttotal: 3.02s\tremaining: 1m 17s\n",
      "15:\ttest: 0.6987759\tbest: 0.6987759 (15)\ttotal: 3.23s\tremaining: 1m 17s\n",
      "16:\ttest: 0.6983791\tbest: 0.6987759 (15)\ttotal: 3.41s\tremaining: 1m 16s\n",
      "17:\ttest: 0.6982126\tbest: 0.6987759 (15)\ttotal: 3.62s\tremaining: 1m 16s\n",
      "18:\ttest: 0.6979878\tbest: 0.6987759 (15)\ttotal: 3.82s\tremaining: 1m 16s\n",
      "19:\ttest: 0.6982852\tbest: 0.6987759 (15)\ttotal: 4.02s\tremaining: 1m 16s\n",
      "20:\ttest: 0.6983726\tbest: 0.6987759 (15)\ttotal: 4.22s\tremaining: 1m 16s\n",
      "21:\ttest: 0.6982269\tbest: 0.6987759 (15)\ttotal: 4.44s\tremaining: 1m 16s\n",
      "22:\ttest: 0.6985457\tbest: 0.6987759 (15)\ttotal: 4.64s\tremaining: 1m 16s\n",
      "23:\ttest: 0.6978246\tbest: 0.6987759 (15)\ttotal: 4.84s\tremaining: 1m 15s\n",
      "24:\ttest: 0.6976161\tbest: 0.6987759 (15)\ttotal: 5.04s\tremaining: 1m 15s\n",
      "25:\ttest: 0.6972722\tbest: 0.6987759 (15)\ttotal: 5.26s\tremaining: 1m 15s\n",
      "26:\ttest: 0.6969865\tbest: 0.6987759 (15)\ttotal: 5.47s\tremaining: 1m 15s\n",
      "27:\ttest: 0.6959902\tbest: 0.6987759 (15)\ttotal: 5.68s\tremaining: 1m 15s\n",
      "28:\ttest: 0.6960203\tbest: 0.6987759 (15)\ttotal: 5.88s\tremaining: 1m 15s\n",
      "29:\ttest: 0.6958946\tbest: 0.6987759 (15)\ttotal: 6.07s\tremaining: 1m 14s\n",
      "30:\ttest: 0.6961305\tbest: 0.6987759 (15)\ttotal: 6.3s\tremaining: 1m 15s\n",
      "31:\ttest: 0.6960807\tbest: 0.6987759 (15)\ttotal: 6.51s\tremaining: 1m 14s\n",
      "32:\ttest: 0.6966268\tbest: 0.6987759 (15)\ttotal: 6.75s\tremaining: 1m 15s\n",
      "33:\ttest: 0.6958847\tbest: 0.6987759 (15)\ttotal: 6.97s\tremaining: 1m 15s\n",
      "34:\ttest: 0.6956787\tbest: 0.6987759 (15)\ttotal: 7.18s\tremaining: 1m 14s\n",
      "35:\ttest: 0.6961066\tbest: 0.6987759 (15)\ttotal: 7.38s\tremaining: 1m 14s\n",
      "36:\ttest: 0.6962880\tbest: 0.6987759 (15)\ttotal: 7.59s\tremaining: 1m 14s\n",
      "37:\ttest: 0.6957974\tbest: 0.6987759 (15)\ttotal: 7.8s\tremaining: 1m 14s\n",
      "38:\ttest: 0.6952947\tbest: 0.6987759 (15)\ttotal: 7.99s\tremaining: 1m 13s\n",
      "39:\ttest: 0.6948218\tbest: 0.6987759 (15)\ttotal: 8.19s\tremaining: 1m 13s\n",
      "40:\ttest: 0.6941660\tbest: 0.6987759 (15)\ttotal: 8.39s\tremaining: 1m 13s\n",
      "41:\ttest: 0.6938601\tbest: 0.6987759 (15)\ttotal: 8.6s\tremaining: 1m 13s\n",
      "42:\ttest: 0.6936344\tbest: 0.6987759 (15)\ttotal: 8.79s\tremaining: 1m 13s\n",
      "43:\ttest: 0.6927352\tbest: 0.6987759 (15)\ttotal: 9s\tremaining: 1m 12s\n",
      "44:\ttest: 0.6923148\tbest: 0.6987759 (15)\ttotal: 9.2s\tremaining: 1m 12s\n",
      "45:\ttest: 0.6916736\tbest: 0.6987759 (15)\ttotal: 9.42s\tremaining: 1m 12s\n",
      "46:\ttest: 0.6913141\tbest: 0.6987759 (15)\ttotal: 9.63s\tremaining: 1m 12s\n",
      "47:\ttest: 0.6913015\tbest: 0.6987759 (15)\ttotal: 9.83s\tremaining: 1m 12s\n",
      "48:\ttest: 0.6916947\tbest: 0.6987759 (15)\ttotal: 10s\tremaining: 1m 11s\n",
      "49:\ttest: 0.6915121\tbest: 0.6987759 (15)\ttotal: 10.3s\tremaining: 1m 11s\n",
      "50:\ttest: 0.6914900\tbest: 0.6987759 (15)\ttotal: 10.5s\tremaining: 1m 11s\n",
      "51:\ttest: 0.6914409\tbest: 0.6987759 (15)\ttotal: 10.7s\tremaining: 1m 11s\n",
      "52:\ttest: 0.6911064\tbest: 0.6987759 (15)\ttotal: 10.9s\tremaining: 1m 11s\n",
      "53:\ttest: 0.6907592\tbest: 0.6987759 (15)\ttotal: 11.1s\tremaining: 1m 10s\n",
      "54:\ttest: 0.6907474\tbest: 0.6987759 (15)\ttotal: 11.3s\tremaining: 1m 10s\n",
      "55:\ttest: 0.6906239\tbest: 0.6987759 (15)\ttotal: 11.5s\tremaining: 1m 10s\n",
      "Stopped by overfitting detector  (40 iterations wait)\n",
      "\n",
      "bestTest = 0.6987759166\n",
      "bestIteration = 15\n",
      "\n",
      "Shrink model to first 16 iterations.\n"
     ]
    }
   ],
   "source": [
    "best_model_params = params.copy()\n",
    "best_model = CatBoostClassifier(**best_model_params)\n",
    "best_model.fit(train_pool, eval_set=validate_pool);"
   ]
  },
  {
   "cell_type": "code",
   "execution_count": 175,
   "metadata": {},
   "outputs": [
    {
     "name": "stdout",
     "output_type": "stream",
     "text": [
      "int_rate: 15.860616178747385\n",
      "sub_grade: 11.780854949889742\n",
      "annual_inc: 10.863742768717033\n",
      "dti: 9.34078683317974\n",
      "total_acc: 7.093918317260992\n",
      "revol_util: 6.865832918066042\n",
      "total_rev_hi_lim: 6.487557443154288\n",
      "loan_amnt: 5.653919377029446\n",
      "tot_cur_bal: 5.478489916316179\n",
      "revol_bal: 5.033608175850027\n",
      "installment: 4.119185936090789\n",
      "term: 3.6262332467325256\n",
      "open_acc: 3.1607786593777285\n",
      "inq_last_6mths: 2.6268205387308163\n",
      "initial_list_status: 1.4808889504151654\n",
      "tot_coll_amt: 0.5267657904420879\n",
      "verification_status: 0.0\n",
      "purpose: 0.0\n",
      "home_ownership: 0.0\n"
     ]
    }
   ],
   "source": [
    "feature_importances = best_model.get_feature_importance(train_pool)\n",
    "feature_names = x_train.columns\n",
    "top = []\n",
    "for score, name in sorted(zip(feature_importances, feature_names), reverse=True):\n",
    "    top.append(name)\n",
    "    print('{}: {}'.format(name, score))"
   ]
  },
  {
   "cell_type": "code",
   "execution_count": 176,
   "metadata": {},
   "outputs": [
    {
     "name": "stdout",
     "output_type": "stream",
     "text": [
      "<class 'pandas.core.frame.DataFrame'>\n",
      "RangeIndex: 200189 entries, 0 to 200188\n",
      "Data columns (total 19 columns):\n",
      "annual_inc             200189 non-null float64\n",
      "verification_status    200189 non-null object\n",
      "int_rate               200189 non-null float64\n",
      "initial_list_status    200189 non-null object\n",
      "term                   200189 non-null object\n",
      "installment            200189 non-null float64\n",
      "open_acc               200189 non-null float64\n",
      "total_acc              200189 non-null float64\n",
      "dti                    200189 non-null float64\n",
      "purpose                200189 non-null object\n",
      "tot_cur_bal            152232 non-null float64\n",
      "sub_grade              200189 non-null object\n",
      "home_ownership         200189 non-null object\n",
      "inq_last_6mths         200189 non-null float64\n",
      "total_rev_hi_lim       152232 non-null float64\n",
      "revol_bal              200189 non-null float64\n",
      "revol_util             200035 non-null float64\n",
      "tot_coll_amt           152232 non-null float64\n",
      "loan_amnt              200189 non-null float64\n",
      "dtypes: float64(13), object(6)\n",
      "memory usage: 29.0+ MB\n"
     ]
    }
   ],
   "source": [
    "x = train.loc[:,['annual_inc','verification_status','int_rate','initial_list_status','term',\n",
    "                 'installment','open_acc','total_acc','dti','purpose','tot_cur_bal',\n",
    "                 'sub_grade','home_ownership','inq_last_6mths','total_rev_hi_lim',\n",
    "                 'revol_bal','revol_util',\n",
    "                 'tot_coll_amt','loan_amnt',] ] # параметры\n",
    "x.drop(top[-1], axis=1)\n",
    "x.info()"
   ]
  },
  {
   "cell_type": "code",
   "execution_count": 177,
   "metadata": {},
   "outputs": [
    {
     "name": "stdout",
     "output_type": "stream",
     "text": [
      "<class 'pandas.core.frame.DataFrame'>\n",
      "RangeIndex: 200189 entries, 0 to 200188\n",
      "Data columns (total 19 columns):\n",
      "annual_inc             200189 non-null float64\n",
      "verification_status    200189 non-null object\n",
      "int_rate               200189 non-null float64\n",
      "initial_list_status    200189 non-null object\n",
      "term                   200189 non-null object\n",
      "installment            200189 non-null float64\n",
      "open_acc               200189 non-null float64\n",
      "total_acc              200189 non-null float64\n",
      "dti                    200189 non-null float64\n",
      "purpose                200189 non-null object\n",
      "tot_cur_bal            152232 non-null float64\n",
      "sub_grade              200189 non-null object\n",
      "home_ownership         200189 non-null object\n",
      "inq_last_6mths         200189 non-null float64\n",
      "total_rev_hi_lim       152232 non-null float64\n",
      "revol_bal              200189 non-null float64\n",
      "revol_util             200035 non-null float64\n",
      "tot_coll_amt           152232 non-null float64\n",
      "loan_amnt              200189 non-null float64\n",
      "dtypes: float64(13), object(6)\n",
      "memory usage: 29.0+ MB\n"
     ]
    }
   ],
   "source": [
    "#NaN killer\n",
    "Nan_killer(x)\n",
    "x.info()"
   ]
  },
  {
   "cell_type": "code",
   "execution_count": 178,
   "metadata": {},
   "outputs": [
    {
     "data": {
      "text/plain": [
       "Index(['verification_status', 'initial_list_status', 'purpose',\n",
       "       'home_ownership'],\n",
       "      dtype='object')"
      ]
     },
     "execution_count": 178,
     "metadata": {},
     "output_type": "execute_result"
    }
   ],
   "source": [
    "categorical_features_names = x.columns[x_train.dtypes == 'object']\n",
    "categorical_features_names"
   ]
  },
  {
   "cell_type": "code",
   "execution_count": 179,
   "metadata": {},
   "outputs": [],
   "source": [
    "categorical_features_indices = [x.columns.get_loc(i) for i in categorical_features_names]"
   ]
  },
  {
   "cell_type": "code",
   "execution_count": 180,
   "metadata": {},
   "outputs": [],
   "source": [
    "if 'purpose' in categorical_features_names:\n",
    "    x['purpose'] = x['purpose'].astype(str).map(lambda x: 'other' if x in ['educational', 'renewable_energy','vacation','house','wedding','moving','medical','car','small_business','major_purchase'] else x)"
   ]
  },
  {
   "cell_type": "code",
   "execution_count": 181,
   "metadata": {},
   "outputs": [],
   "source": [
    "if 'term' in categorical_features_names:\n",
    "    x['term'] = x['term'].astype(str).map(lambda x: 36 if x == ' 36 months' else 60)"
   ]
  },
  {
   "cell_type": "code",
   "execution_count": 182,
   "metadata": {},
   "outputs": [],
   "source": [
    "if 'sub_grade' in categorical_features_names:\n",
    "    x['sub_grade'] = x['sub_grade'].astype('str').map(lambda x: ord(x[0])*10 + int(x[1]))"
   ]
  },
  {
   "cell_type": "code",
   "execution_count": 183,
   "metadata": {},
   "outputs": [],
   "source": [
    "x_train, x_test, y_train, y_test = train_test_split(x, y, test_size=0.3, random_state = 42)"
   ]
  },
  {
   "cell_type": "code",
   "execution_count": 184,
   "metadata": {},
   "outputs": [
    {
     "data": {
      "text/plain": [
       "Index(['verification_status', 'initial_list_status', 'term', 'purpose',\n",
       "       'sub_grade', 'home_ownership'],\n",
       "      dtype='object')"
      ]
     },
     "execution_count": 184,
     "metadata": {},
     "output_type": "execute_result"
    }
   ],
   "source": [
    "categorical_features_names = x_train.columns[x_train.dtypes == 'object']\n",
    "categorical_features_names"
   ]
  },
  {
   "cell_type": "code",
   "execution_count": 185,
   "metadata": {},
   "outputs": [
    {
     "data": {
      "text/plain": [
       "[1, 3, 4, 9, 11, 12]"
      ]
     },
     "execution_count": 185,
     "metadata": {},
     "output_type": "execute_result"
    }
   ],
   "source": [
    "categorical_features_indices = [x_train.columns.get_loc(i) for i in categorical_features_names]\n",
    "categorical_features_indices"
   ]
  },
  {
   "cell_type": "code",
   "execution_count": 186,
   "metadata": {},
   "outputs": [],
   "source": [
    "train_pool = Pool(x_train, y_train, cat_features=categorical_features_indices)\n",
    "validate_pool = Pool(x_test, y_test, cat_features=categorical_features_indices)"
   ]
  },
  {
   "cell_type": "code",
   "execution_count": 187,
   "metadata": {},
   "outputs": [
    {
     "name": "stdout",
     "output_type": "stream",
     "text": [
      "evaluating params={'learning_rate': 0.06455055929014733, 'max_depth': 6.0, 'colsample_bylevel': 0.7425935964879817, 'bagging_temperature': 29.826163136513074, 'random_strength': 83.26320323149598, 'scale_pos_weight': 7.820515783320582, 'task_type': 'CPU', 'loss_function': 'Logloss', 'eval_metric': 'AUC', 'od_type': 'Iter', 'od_wait': 40, 'custom_metric': ['AUC'], 'iterations': 400, 'random_seed': 42}\n",
      "evaluated score=0.6170791541759072                                                                                     \n",
      "evaluated 1 times                                                                                                      \n",
      "evaluating params={'learning_rate': 0.7469657190897886, 'max_depth': 6.0, 'colsample_bylevel': 0.8350739741344673, 'bagging_temperature': 41.411863248553836, 'random_strength': 72.77257431773249, 'scale_pos_weight': 7.151559382799706, 'task_type': 'CPU', 'loss_function': 'Logloss', 'eval_metric': 'AUC', 'od_type': 'Iter', 'od_wait': 40, 'custom_metric': ['AUC'], 'iterations': 400, 'random_seed': 42}\n",
      "evaluated score=0.5                                                                                                    \n",
      "evaluated 2 times                                                                                                      \n",
      "evaluating params={'learning_rate': 0.24969398680849822, 'max_depth': 10.0, 'colsample_bylevel': 0.9320639577324752, 'bagging_temperature': 6.231294084407146, 'random_strength': 88.33152773808621, 'scale_pos_weight': 13.560825333299263, 'task_type': 'CPU', 'loss_function': 'Logloss', 'eval_metric': 'AUC', 'od_type': 'Iter', 'od_wait': 40, 'custom_metric': ['AUC'], 'iterations': 400, 'random_seed': 42}\n",
      "evaluated score=0.6107672030556056                                                                                     \n",
      "evaluated 3 times                                                                                                      \n",
      "evaluating params={'learning_rate': 0.09283873525663582, 'max_depth': 7.0, 'colsample_bylevel': 0.5939775931836743, 'bagging_temperature': 45.366534380629886, 'random_strength': 91.87225216693768, 'scale_pos_weight': 7.672487684517276, 'task_type': 'CPU', 'loss_function': 'Logloss', 'eval_metric': 'AUC', 'od_type': 'Iter', 'od_wait': 40, 'custom_metric': ['AUC'], 'iterations': 400, 'random_seed': 42}\n",
      "evaluated score=0.5                                                                                                    \n",
      "evaluated 4 times                                                                                                      \n",
      "evaluating params={'learning_rate': 0.4824571912345811, 'max_depth': 9.0, 'colsample_bylevel': 0.7615261640271918, 'bagging_temperature': 9.545503921499343, 'random_strength': 17.187156139656068, 'scale_pos_weight': 13.185939825360448, 'task_type': 'CPU', 'loss_function': 'Logloss', 'eval_metric': 'AUC', 'od_type': 'Iter', 'od_wait': 40, 'custom_metric': ['AUC'], 'iterations': 400, 'random_seed': 42}\n",
      "evaluated score=0.63564447933794                                                                                       \n",
      "evaluated 5 times                                                                                                      \n",
      "evaluating params={'learning_rate': 0.426029987330877, 'max_depth': 8.0, 'colsample_bylevel': 0.9519260362533433, 'bagging_temperature': 71.70311511598368, 'random_strength': 43.80291864409232, 'scale_pos_weight': 12.993301624107593, 'task_type': 'CPU', 'loss_function': 'Logloss', 'eval_metric': 'AUC', 'od_type': 'Iter', 'od_wait': 40, 'custom_metric': ['AUC'], 'iterations': 400, 'random_seed': 42}\n",
      "evaluated score=0.5                                                                                                    \n",
      "evaluated 6 times                                                                                                      \n",
      "evaluating params={'learning_rate': 0.1392496711244547, 'max_depth': 5.0, 'colsample_bylevel': 0.9002516157283724, 'bagging_temperature': 37.25797779832578, 'random_strength': 93.93697376027716, 'scale_pos_weight': 12.010420269783523, 'task_type': 'CPU', 'loss_function': 'Logloss', 'eval_metric': 'AUC', 'od_type': 'Iter', 'od_wait': 40, 'custom_metric': ['AUC'], 'iterations': 400, 'random_seed': 42}\n",
      "evaluated score=0.5                                                                                                    \n",
      "evaluated 7 times                                                                                                      \n",
      "evaluating params={'learning_rate': 0.2936281162179091, 'max_depth': 9.0, 'colsample_bylevel': 0.7963098376527838, 'bagging_temperature': 59.462003508683836, 'random_strength': 77.53643788278823, 'scale_pos_weight': 10.256190377534743, 'task_type': 'CPU', 'loss_function': 'Logloss', 'eval_metric': 'AUC', 'od_type': 'Iter', 'od_wait': 40, 'custom_metric': ['AUC'], 'iterations': 400, 'random_seed': 42}\n",
      "evaluated score=0.5                                                                                                    \n",
      "evaluated 8 times                                                                                                      \n",
      "evaluating params={'learning_rate': 0.40220869584140617, 'max_depth': 9.0, 'colsample_bylevel': 0.6620299911421867, 'bagging_temperature': 5.1134553677051775, 'random_strength': 92.00092264373161, 'scale_pos_weight': 9.151046015354687, 'task_type': 'CPU', 'loss_function': 'Logloss', 'eval_metric': 'AUC', 'od_type': 'Iter', 'od_wait': 40, 'custom_metric': ['AUC'], 'iterations': 400, 'random_seed': 42}\n",
      "evaluated score=0.5895737324611964                                                                                     \n",
      "evaluated 9 times                                                                                                      \n",
      "evaluating params={'learning_rate': 0.6986050234859398, 'max_depth': 6.0, 'colsample_bylevel': 0.6905323823987464, 'bagging_temperature': 21.14142872741962, 'random_strength': 70.06214446213659, 'scale_pos_weight': 15.332169794648921, 'task_type': 'CPU', 'loss_function': 'Logloss', 'eval_metric': 'AUC', 'od_type': 'Iter', 'od_wait': 40, 'custom_metric': ['AUC'], 'iterations': 400, 'random_seed': 42}\n",
      "evaluated score=0.5845600535145336                                                                                     \n",
      "evaluated 10 times                                                                                                     \n",
      "evaluating params={'learning_rate': 0.5956133680507415, 'max_depth': 6.0, 'colsample_bylevel': 0.7893321681141924, 'bagging_temperature': 27.47148488354174, 'random_strength': 81.78300196637514, 'scale_pos_weight': 1.0544546088211484, 'task_type': 'CPU', 'loss_function': 'Logloss', 'eval_metric': 'AUC', 'od_type': 'Iter', 'od_wait': 40, 'custom_metric': ['AUC'], 'iterations': 400, 'random_seed': 42}\n",
      "evaluated score=0.6109041604024721                                                                                     \n",
      "evaluated 11 times                                                                                                     \n",
      "evaluating params={'learning_rate': 0.39434590071428977, 'max_depth': 7.0, 'colsample_bylevel': 0.6816015479755677, 'bagging_temperature': 71.93764256573532, 'random_strength': 35.84815225733641, 'scale_pos_weight': 14.18703830797068, 'task_type': 'CPU', 'loss_function': 'Logloss', 'eval_metric': 'AUC', 'od_type': 'Iter', 'od_wait': 40, 'custom_metric': ['AUC'], 'iterations': 400, 'random_seed': 42}\n",
      "evaluated score=0.5                                                                                                    \n",
      "evaluated 12 times                                                                                                     \n",
      "evaluating params={'learning_rate': 0.7685649503580674, 'max_depth': 6.0, 'colsample_bylevel': 0.7455551022408217, 'bagging_temperature': 38.60707574736531, 'random_strength': 30.725816388873938, 'scale_pos_weight': 14.222176264494117, 'task_type': 'CPU', 'loss_function': 'Logloss', 'eval_metric': 'AUC', 'od_type': 'Iter', 'od_wait': 40, 'custom_metric': ['AUC'], 'iterations': 400, 'random_seed': 42}\n"
     ]
    },
    {
     "name": "stdout",
     "output_type": "stream",
     "text": [
      "evaluated score=0.5                                                                                                    \n",
      "evaluated 13 times                                                                                                     \n",
      "evaluating params={'learning_rate': 0.6816071034106231, 'max_depth': 6.0, 'colsample_bylevel': 0.8987194012367643, 'bagging_temperature': 17.39917225073908, 'random_strength': 1.3183035637853835, 'scale_pos_weight': 8.906647116199107, 'task_type': 'CPU', 'loss_function': 'Logloss', 'eval_metric': 'AUC', 'od_type': 'Iter', 'od_wait': 40, 'custom_metric': ['AUC'], 'iterations': 400, 'random_seed': 42}\n",
      "evaluated score=0.6195643399797982                                                                                     \n",
      "evaluated 14 times                                                                                                     \n",
      "evaluating params={'learning_rate': 0.19800717762087047, 'max_depth': 7.0, 'colsample_bylevel': 0.6308684032130806, 'bagging_temperature': 9.749591346538377, 'random_strength': 92.09817283659105, 'scale_pos_weight': 10.555510471361897, 'task_type': 'CPU', 'loss_function': 'Logloss', 'eval_metric': 'AUC', 'od_type': 'Iter', 'od_wait': 40, 'custom_metric': ['AUC'], 'iterations': 400, 'random_seed': 42}\n",
      "evaluated score=0.6119234073340063                                                                                     \n",
      "evaluated 15 times                                                                                                     \n",
      "evaluating params={'learning_rate': 0.30176937784286434, 'max_depth': 8.0, 'colsample_bylevel': 0.5144422625256673, 'bagging_temperature': 0.4971188920065317, 'random_strength': 64.00100015740247, 'scale_pos_weight': 9.750539284627434, 'task_type': 'CPU', 'loss_function': 'Logloss', 'eval_metric': 'AUC', 'od_type': 'Iter', 'od_wait': 40, 'custom_metric': ['AUC'], 'iterations': 400, 'random_seed': 42}\n",
      "evaluated score=0.5586476227304873                                                                                     \n",
      "evaluated 16 times                                                                                                     \n",
      "evaluating params={'learning_rate': 0.23970194674028295, 'max_depth': 9.0, 'colsample_bylevel': 0.5625745905758681, 'bagging_temperature': 55.627423762114184, 'random_strength': 12.470065927231532, 'scale_pos_weight': 8.73748167895595, 'task_type': 'CPU', 'loss_function': 'Logloss', 'eval_metric': 'AUC', 'od_type': 'Iter', 'od_wait': 40, 'custom_metric': ['AUC'], 'iterations': 400, 'random_seed': 42}\n",
      "evaluated score=0.5                                                                                                    \n",
      "evaluated 17 times                                                                                                     \n",
      "evaluating params={'learning_rate': 0.4012958021261945, 'max_depth': 9.0, 'colsample_bylevel': 0.8455558039385862, 'bagging_temperature': 94.11368288673546, 'random_strength': 68.10391246607139, 'scale_pos_weight': 11.381656781069033, 'task_type': 'CPU', 'loss_function': 'Logloss', 'eval_metric': 'AUC', 'od_type': 'Iter', 'od_wait': 40, 'custom_metric': ['AUC'], 'iterations': 400, 'random_seed': 42}\n",
      "evaluated score=0.5                                                                                                    \n",
      "evaluated 18 times                                                                                                     \n",
      "evaluating params={'learning_rate': 0.6505258556695427, 'max_depth': 8.0, 'colsample_bylevel': 0.9708723155369876, 'bagging_temperature': 67.02496253184057, 'random_strength': 69.46896343853821, 'scale_pos_weight': 5.32207615422222, 'task_type': 'CPU', 'loss_function': 'Logloss', 'eval_metric': 'AUC', 'od_type': 'Iter', 'od_wait': 40, 'custom_metric': ['AUC'], 'iterations': 400, 'random_seed': 42}\n",
      "evaluated score=0.5                                                                                                    \n",
      "evaluated 19 times                                                                                                     \n",
      "evaluating params={'learning_rate': 0.6735075794410379, 'max_depth': 4.0, 'colsample_bylevel': 0.9812939388768891, 'bagging_temperature': 70.5194745389447, 'random_strength': 87.51118984907046, 'scale_pos_weight': 6.966788039978879, 'task_type': 'CPU', 'loss_function': 'Logloss', 'eval_metric': 'AUC', 'od_type': 'Iter', 'od_wait': 40, 'custom_metric': ['AUC'], 'iterations': 400, 'random_seed': 42}\n",
      "evaluated score=0.5                                                                                                    \n",
      "evaluated 20 times                                                                                                     \n",
      "evaluating params={'learning_rate': 0.5734662425089077, 'max_depth': 8.0, 'colsample_bylevel': 0.6304453528545368, 'bagging_temperature': 62.84810666157716, 'random_strength': 73.4104187301871, 'scale_pos_weight': 2.4675261036805853, 'task_type': 'CPU', 'loss_function': 'Logloss', 'eval_metric': 'AUC', 'od_type': 'Iter', 'od_wait': 40, 'custom_metric': ['AUC'], 'iterations': 400, 'random_seed': 42}\n",
      "evaluated score=0.5                                                                                                    \n",
      "evaluated 21 times                                                                                                     \n",
      "evaluating params={'learning_rate': 0.562943674257195, 'max_depth': 5.0, 'colsample_bylevel': 0.5483119512487002, 'bagging_temperature': 13.729876000611597, 'random_strength': 11.917934729048618, 'scale_pos_weight': 7.7437572739136336, 'task_type': 'CPU', 'loss_function': 'Logloss', 'eval_metric': 'AUC', 'od_type': 'Iter', 'od_wait': 40, 'custom_metric': ['AUC'], 'iterations': 400, 'random_seed': 42}\n",
      "evaluated score=0.6166807894040228                                                                                     \n",
      "evaluated 22 times                                                                                                     \n",
      "evaluating params={'learning_rate': 0.30171478622039305, 'max_depth': 8.0, 'colsample_bylevel': 0.5531324082829224, 'bagging_temperature': 19.27527018070495, 'random_strength': 59.32653223463626, 'scale_pos_weight': 5.959256741821097, 'task_type': 'CPU', 'loss_function': 'Logloss', 'eval_metric': 'AUC', 'od_type': 'Iter', 'od_wait': 40, 'custom_metric': ['AUC'], 'iterations': 400, 'random_seed': 42}\n",
      "evaluated score=0.6486816693719285                                                                                     \n",
      "evaluated 23 times                                                                                                     \n",
      "evaluating params={'learning_rate': 0.11097111782120497, 'max_depth': 9.0, 'colsample_bylevel': 0.7409387009901992, 'bagging_temperature': 86.1172196771636, 'random_strength': 15.546845674932808, 'scale_pos_weight': 12.839684626967696, 'task_type': 'CPU', 'loss_function': 'Logloss', 'eval_metric': 'AUC', 'od_type': 'Iter', 'od_wait': 40, 'custom_metric': ['AUC'], 'iterations': 400, 'random_seed': 42}\n",
      "evaluated score=0.5                                                                                                    \n",
      "evaluated 24 times                                                                                                     \n",
      "evaluating params={'learning_rate': 0.11874463606048295, 'max_depth': 8.0, 'colsample_bylevel': 0.9143513727263843, 'bagging_temperature': 52.83445689811619, 'random_strength': 64.16434702146898, 'scale_pos_weight': 14.91359148640431, 'task_type': 'CPU', 'loss_function': 'Logloss', 'eval_metric': 'AUC', 'od_type': 'Iter', 'od_wait': 40, 'custom_metric': ['AUC'], 'iterations': 400, 'random_seed': 42}\n",
      "evaluated score=0.5                                                                                                    \n",
      "evaluated 25 times                                                                                                     \n"
     ]
    },
    {
     "name": "stdout",
     "output_type": "stream",
     "text": [
      "evaluating params={'learning_rate': 0.6990952871256788, 'max_depth': 7.0, 'colsample_bylevel': 0.9886431821208913, 'bagging_temperature': 37.02268496294152, 'random_strength': 30.46124241138234, 'scale_pos_weight': 5.956456248816514, 'task_type': 'CPU', 'loss_function': 'Logloss', 'eval_metric': 'AUC', 'od_type': 'Iter', 'od_wait': 40, 'custom_metric': ['AUC'], 'iterations': 400, 'random_seed': 42}\n",
      "evaluated score=0.5                                                                                                    \n",
      "evaluated 26 times                                                                                                     \n",
      "evaluating params={'learning_rate': 0.24329907330073666, 'max_depth': 8.0, 'colsample_bylevel': 0.7808420826245261, 'bagging_temperature': 20.368720717700416, 'random_strength': 70.4583602067651, 'scale_pos_weight': 13.45498682238244, 'task_type': 'CPU', 'loss_function': 'Logloss', 'eval_metric': 'AUC', 'od_type': 'Iter', 'od_wait': 40, 'custom_metric': ['AUC'], 'iterations': 400, 'random_seed': 42}\n",
      "evaluated score=0.641830359022091                                                                                      \n",
      "evaluated 27 times                                                                                                     \n",
      "evaluating params={'learning_rate': 0.04086353893886585, 'max_depth': 6.0, 'colsample_bylevel': 0.9572428411764734, 'bagging_temperature': 86.14960210057677, 'random_strength': 0.6965422065443372, 'scale_pos_weight': 10.92660490498745, 'task_type': 'CPU', 'loss_function': 'Logloss', 'eval_metric': 'AUC', 'od_type': 'Iter', 'od_wait': 40, 'custom_metric': ['AUC'], 'iterations': 400, 'random_seed': 42}\n",
      "evaluated score=0.5                                                                                                    \n",
      "evaluated 28 times                                                                                                     \n",
      "evaluating params={'learning_rate': 0.7044181740437416, 'max_depth': 9.0, 'colsample_bylevel': 0.6655150483186099, 'bagging_temperature': 12.738262171620264, 'random_strength': 63.4490889188811, 'scale_pos_weight': 6.314410522320887, 'task_type': 'CPU', 'loss_function': 'Logloss', 'eval_metric': 'AUC', 'od_type': 'Iter', 'od_wait': 40, 'custom_metric': ['AUC'], 'iterations': 400, 'random_seed': 42}\n",
      "evaluated score=0.6403909184053121                                                                                     \n",
      "evaluated 29 times                                                                                                     \n",
      "evaluating params={'learning_rate': 0.6516189553537985, 'max_depth': 6.0, 'colsample_bylevel': 0.5019218012929152, 'bagging_temperature': 53.84241532241949, 'random_strength': 65.00439661591349, 'scale_pos_weight': 10.769804369641149, 'task_type': 'CPU', 'loss_function': 'Logloss', 'eval_metric': 'AUC', 'od_type': 'Iter', 'od_wait': 40, 'custom_metric': ['AUC'], 'iterations': 400, 'random_seed': 42}\n",
      "evaluated score=0.5                                                                                                    \n",
      "evaluated 30 times                                                                                                     \n",
      "evaluating params={'learning_rate': 0.3023023711356902, 'max_depth': 8.0, 'colsample_bylevel': 0.6556457567145959, 'bagging_temperature': 82.24195855857882, 'random_strength': 13.16595920133481, 'scale_pos_weight': 7.37721104605222, 'task_type': 'CPU', 'loss_function': 'Logloss', 'eval_metric': 'AUC', 'od_type': 'Iter', 'od_wait': 40, 'custom_metric': ['AUC'], 'iterations': 400, 'random_seed': 42}\n",
      "evaluated score=0.5                                                                                                    \n",
      "evaluated 31 times                                                                                                     \n",
      "evaluating params={'learning_rate': 0.5644131814496948, 'max_depth': 9.0, 'colsample_bylevel': 0.9097812496257851, 'bagging_temperature': 77.91984817769776, 'random_strength': 31.676869347796277, 'scale_pos_weight': 9.078186015741204, 'task_type': 'CPU', 'loss_function': 'Logloss', 'eval_metric': 'AUC', 'od_type': 'Iter', 'od_wait': 40, 'custom_metric': ['AUC'], 'iterations': 400, 'random_seed': 42}\n",
      "evaluated score=0.5                                                                                                    \n",
      "evaluated 32 times                                                                                                     \n",
      "evaluating params={'learning_rate': 0.5590318303514967, 'max_depth': 8.0, 'colsample_bylevel': 0.8508394625620042, 'bagging_temperature': 42.529710406239154, 'random_strength': 57.568250531790746, 'scale_pos_weight': 2.969163939303326, 'task_type': 'CPU', 'loss_function': 'Logloss', 'eval_metric': 'AUC', 'od_type': 'Iter', 'od_wait': 40, 'custom_metric': ['AUC'], 'iterations': 400, 'random_seed': 42}\n",
      "evaluated score=0.5                                                                                                    \n",
      "evaluated 33 times                                                                                                     \n",
      "evaluating params={'learning_rate': 0.6120026464899954, 'max_depth': 6.0, 'colsample_bylevel': 0.5947476340749828, 'bagging_temperature': 70.96811670294242, 'random_strength': 62.459046032330775, 'scale_pos_weight': 9.04750955110397, 'task_type': 'CPU', 'loss_function': 'Logloss', 'eval_metric': 'AUC', 'od_type': 'Iter', 'od_wait': 40, 'custom_metric': ['AUC'], 'iterations': 400, 'random_seed': 42}\n",
      "evaluated score=0.5                                                                                                    \n",
      "evaluated 34 times                                                                                                     \n",
      "evaluating params={'learning_rate': 0.08691595905882502, 'max_depth': 6.0, 'colsample_bylevel': 0.925738266770135, 'bagging_temperature': 30.082329093344395, 'random_strength': 60.338313715544004, 'scale_pos_weight': 5.894602452232973, 'task_type': 'CPU', 'loss_function': 'Logloss', 'eval_metric': 'AUC', 'od_type': 'Iter', 'od_wait': 40, 'custom_metric': ['AUC'], 'iterations': 400, 'random_seed': 42}\n",
      "evaluated score=0.5989548047601101                                                                                     \n",
      "evaluated 35 times                                                                                                     \n",
      "evaluating params={'learning_rate': 0.42511142589135503, 'max_depth': 7.0, 'colsample_bylevel': 0.7334249774494812, 'bagging_temperature': 48.20077804650612, 'random_strength': 18.40579185712945, 'scale_pos_weight': 9.048359364952153, 'task_type': 'CPU', 'loss_function': 'Logloss', 'eval_metric': 'AUC', 'od_type': 'Iter', 'od_wait': 40, 'custom_metric': ['AUC'], 'iterations': 400, 'random_seed': 42}\n",
      "evaluated score=0.5                                                                                                    \n",
      "evaluated 36 times                                                                                                     \n",
      "evaluating params={'learning_rate': 0.08578380823258902, 'max_depth': 6.0, 'colsample_bylevel': 0.8804363657182184, 'bagging_temperature': 67.95205089825916, 'random_strength': 49.65738663401596, 'scale_pos_weight': 7.496472632910514, 'task_type': 'CPU', 'loss_function': 'Logloss', 'eval_metric': 'AUC', 'od_type': 'Iter', 'od_wait': 40, 'custom_metric': ['AUC'], 'iterations': 400, 'random_seed': 42}\n",
      "evaluated score=0.5                                                                                                    \n",
      "evaluated 37 times                                                                                                     \n",
      "evaluating params={'learning_rate': 0.19989098684426826, 'max_depth': 6.0, 'colsample_bylevel': 0.5504896649264421, 'bagging_temperature': 35.25539025632924, 'random_strength': 75.14004257971514, 'scale_pos_weight': 13.77923061324646, 'task_type': 'CPU', 'loss_function': 'Logloss', 'eval_metric': 'AUC', 'od_type': 'Iter', 'od_wait': 40, 'custom_metric': ['AUC'], 'iterations': 400, 'random_seed': 42}\n"
     ]
    },
    {
     "name": "stdout",
     "output_type": "stream",
     "text": [
      "evaluated score=0.6242661950947407                                                                                     \n",
      "evaluated 38 times                                                                                                     \n",
      "evaluating params={'learning_rate': 0.3176903626733709, 'max_depth': 5.0, 'colsample_bylevel': 0.7576107737512063, 'bagging_temperature': 69.77740837456095, 'random_strength': 3.7277118258843833, 'scale_pos_weight': 11.63786487812268, 'task_type': 'CPU', 'loss_function': 'Logloss', 'eval_metric': 'AUC', 'od_type': 'Iter', 'od_wait': 40, 'custom_metric': ['AUC'], 'iterations': 400, 'random_seed': 42}\n",
      "evaluated score=0.5                                                                                                    \n",
      "evaluated 39 times                                                                                                     \n",
      "evaluating params={'learning_rate': 0.5116330929422992, 'max_depth': 6.0, 'colsample_bylevel': 0.6881294671910385, 'bagging_temperature': 49.663835413421864, 'random_strength': 79.52631814690415, 'scale_pos_weight': 15.079604804299631, 'task_type': 'CPU', 'loss_function': 'Logloss', 'eval_metric': 'AUC', 'od_type': 'Iter', 'od_wait': 40, 'custom_metric': ['AUC'], 'iterations': 400, 'random_seed': 42}\n",
      "evaluated score=0.5                                                                                                    \n",
      "evaluated 40 times                                                                                                     \n",
      "evaluating params={'learning_rate': 0.30611892615023495, 'max_depth': 5.0, 'colsample_bylevel': 0.6679211768749299, 'bagging_temperature': 6.7371898726728325, 'random_strength': 90.23295140820429, 'scale_pos_weight': 4.251934608050318, 'task_type': 'CPU', 'loss_function': 'Logloss', 'eval_metric': 'AUC', 'od_type': 'Iter', 'od_wait': 40, 'custom_metric': ['AUC'], 'iterations': 400, 'random_seed': 42}\n",
      "evaluated score=0.6027109424841571                                                                                     \n",
      "evaluated 41 times                                                                                                     \n",
      "evaluating params={'learning_rate': 0.30641269670985033, 'max_depth': 4.0, 'colsample_bylevel': 0.8499749370450363, 'bagging_temperature': 75.10349109199097, 'random_strength': 70.83825544375651, 'scale_pos_weight': 8.17207067063337, 'task_type': 'CPU', 'loss_function': 'Logloss', 'eval_metric': 'AUC', 'od_type': 'Iter', 'od_wait': 40, 'custom_metric': ['AUC'], 'iterations': 400, 'random_seed': 42}\n",
      "evaluated score=0.5                                                                                                    \n",
      "evaluated 42 times                                                                                                     \n",
      "evaluating params={'learning_rate': 0.4279413325594994, 'max_depth': 8.0, 'colsample_bylevel': 0.6846162493945316, 'bagging_temperature': 85.15570966410692, 'random_strength': 25.676623887620707, 'scale_pos_weight': 9.195512705198349, 'task_type': 'CPU', 'loss_function': 'Logloss', 'eval_metric': 'AUC', 'od_type': 'Iter', 'od_wait': 40, 'custom_metric': ['AUC'], 'iterations': 400, 'random_seed': 42}\n",
      "evaluated score=0.5                                                                                                    \n",
      "evaluated 43 times                                                                                                     \n",
      "evaluating params={'learning_rate': 0.7580299444808133, 'max_depth': 10.0, 'colsample_bylevel': 0.6560654544857116, 'bagging_temperature': 9.606602573184976, 'random_strength': 38.07157402345723, 'scale_pos_weight': 15.44322039696387, 'task_type': 'CPU', 'loss_function': 'Logloss', 'eval_metric': 'AUC', 'od_type': 'Iter', 'od_wait': 40, 'custom_metric': ['AUC'], 'iterations': 400, 'random_seed': 42}\n",
      "evaluated score=0.6245313621696946                                                                                     \n",
      "evaluated 44 times                                                                                                     \n",
      "evaluating params={'learning_rate': 0.20930792475812623, 'max_depth': 10.0, 'colsample_bylevel': 0.5886668909032519, 'bagging_temperature': 34.823504904022414, 'random_strength': 78.52734938376074, 'scale_pos_weight': 10.205598741673892, 'task_type': 'CPU', 'loss_function': 'Logloss', 'eval_metric': 'AUC', 'od_type': 'Iter', 'od_wait': 40, 'custom_metric': ['AUC'], 'iterations': 400, 'random_seed': 42}\n",
      "evaluated score=0.6500212969602687                                                                                     \n",
      "evaluated 45 times                                                                                                     \n",
      "evaluating params={'learning_rate': 0.03690584752959317, 'max_depth': 5.0, 'colsample_bylevel': 0.7383440484332322, 'bagging_temperature': 2.4179327359312053, 'random_strength': 96.96509583621922, 'scale_pos_weight': 5.643577706454599, 'task_type': 'CPU', 'loss_function': 'Logloss', 'eval_metric': 'AUC', 'od_type': 'Iter', 'od_wait': 40, 'custom_metric': ['AUC'], 'iterations': 400, 'random_seed': 42}\n",
      "evaluated score=0.5322641931438961                                                                                     \n",
      "evaluated 46 times                                                                                                     \n",
      "evaluating params={'learning_rate': 0.6611656132549413, 'max_depth': 7.0, 'colsample_bylevel': 0.5126036962879645, 'bagging_temperature': 38.976526645092015, 'random_strength': 25.530311192309473, 'scale_pos_weight': 5.4630110310181985, 'task_type': 'CPU', 'loss_function': 'Logloss', 'eval_metric': 'AUC', 'od_type': 'Iter', 'od_wait': 40, 'custom_metric': ['AUC'], 'iterations': 400, 'random_seed': 42}\n",
      "evaluated score=0.5                                                                                                    \n",
      "evaluated 47 times                                                                                                     \n",
      "evaluating params={'learning_rate': 0.7512715308588567, 'max_depth': 5.0, 'colsample_bylevel': 0.5949353001936417, 'bagging_temperature': 47.64867445075578, 'random_strength': 97.92804334722808, 'scale_pos_weight': 1.062446140424417, 'task_type': 'CPU', 'loss_function': 'Logloss', 'eval_metric': 'AUC', 'od_type': 'Iter', 'od_wait': 40, 'custom_metric': ['AUC'], 'iterations': 400, 'random_seed': 42}\n",
      "evaluated score=0.5                                                                                                    \n",
      "evaluated 48 times                                                                                                     \n",
      "evaluating params={'learning_rate': 0.016566017126364248, 'max_depth': 7.0, 'colsample_bylevel': 0.8216931897786428, 'bagging_temperature': 14.776484063446116, 'random_strength': 87.66639642845378, 'scale_pos_weight': 15.28714079131189, 'task_type': 'CPU', 'loss_function': 'Logloss', 'eval_metric': 'AUC', 'od_type': 'Iter', 'od_wait': 40, 'custom_metric': ['AUC'], 'iterations': 400, 'random_seed': 42}\n",
      "evaluated score=0.6398308037534268                                                                                     \n",
      "evaluated 49 times                                                                                                     \n",
      "evaluating params={'learning_rate': 0.698766863396429, 'max_depth': 8.0, 'colsample_bylevel': 0.6857782082163167, 'bagging_temperature': 17.998987540853896, 'random_strength': 35.37693915300544, 'scale_pos_weight': 15.817197733911794, 'task_type': 'CPU', 'loss_function': 'Logloss', 'eval_metric': 'AUC', 'od_type': 'Iter', 'od_wait': 40, 'custom_metric': ['AUC'], 'iterations': 400, 'random_seed': 42}\n",
      "evaluated score=0.6070384012437042                                                                                     \n",
      "evaluated 50 times                                                                                                     \n",
      "100%|███████████████████████████████████████████████| 50/50 [2:01:28<00:00, 289.33s/it, best loss: -0.6500212969602687]\n"
     ]
    },
    {
     "name": "stderr",
     "output_type": "stream",
     "text": [
      "Warning: Custom metrics will not be evaluated because there are no test datasets\n"
     ]
    }
   ],
   "source": [
    "model, params = train_best_model(\n",
    "    train_pool, \n",
    "    const_params, \n",
    "    max_evals=hyperopt_iterations, \n",
    "    use_default=use_optimal_pretrained_params)"
   ]
  },
  {
   "cell_type": "code",
   "execution_count": 188,
   "metadata": {},
   "outputs": [
    {
     "data": {
      "text/plain": [
       "{'bagging_temperature': 34.823504904022414,\n",
       " 'colsample_bylevel': 0.5886668909032519,\n",
       " 'depth': 10.0,\n",
       " 'learning_rate': 0.20930792475812623,\n",
       " 'random_strength': 78.52734938376074,\n",
       " 'scale_pos_weight': 10.205598741673892,\n",
       " 'task_type': 'CPU',\n",
       " 'loss_function': 'Logloss',\n",
       " 'eval_metric': 'AUC',\n",
       " 'od_type': 'Iter',\n",
       " 'od_wait': 40,\n",
       " 'custom_metric': ['AUC'],\n",
       " 'iterations': 400,\n",
       " 'random_seed': 42}"
      ]
     },
     "execution_count": 188,
     "metadata": {},
     "output_type": "execute_result"
    }
   ],
   "source": [
    "params"
   ]
  },
  {
   "cell_type": "code",
   "execution_count": 189,
   "metadata": {},
   "outputs": [
    {
     "name": "stdout",
     "output_type": "stream",
     "text": [
      "ROC-AUC score:  0.7011905304629541\n"
     ]
    },
    {
     "data": {
      "image/png": "[encoded data removed]",
      "text/plain": [
       "<Figure size 432x288 with 1 Axes>"
      ]
     },
     "metadata": {
      "needs_background": "light"
     },
     "output_type": "display_data"
    }
   ],
   "source": [
    "plot_roc(model, x_test, y_test)"
   ]
  },
  {
   "cell_type": "code",
   "execution_count": 190,
   "metadata": {},
   "outputs": [
    {
     "name": "stdout",
     "output_type": "stream",
     "text": [
      "Recall: 1.00\n",
      "Precision score: 0.78\n",
      "Accuracy score: 0.78\n"
     ]
    }
   ],
   "source": [
    "show_scores(model, x_test, y_test)"
   ]
  },
  {
   "cell_type": "code",
   "execution_count": 191,
   "metadata": {},
   "outputs": [
    {
     "name": "stdout",
     "output_type": "stream",
     "text": [
      "0:\ttest: 0.5000000\tbest: 0.5000000 (0)\ttotal: 66.9ms\tremaining: 26.7s\n",
      "1:\ttest: 0.6471153\tbest: 0.6471153 (1)\ttotal: 309ms\tremaining: 1m 1s\n",
      "2:\ttest: 0.6794989\tbest: 0.6794989 (2)\ttotal: 560ms\tremaining: 1m 14s\n",
      "3:\ttest: 0.6881944\tbest: 0.6881944 (3)\ttotal: 812ms\tremaining: 1m 20s\n",
      "4:\ttest: 0.6922573\tbest: 0.6922573 (4)\ttotal: 1.06s\tremaining: 1m 23s\n",
      "5:\ttest: 0.6922573\tbest: 0.6922573 (4)\ttotal: 1.13s\tremaining: 1m 13s\n",
      "6:\ttest: 0.6934423\tbest: 0.6934423 (6)\ttotal: 1.35s\tremaining: 1m 16s\n",
      "7:\ttest: 0.6934423\tbest: 0.6934423 (6)\ttotal: 1.42s\tremaining: 1m 9s\n",
      "8:\ttest: 0.6934423\tbest: 0.6934423 (6)\ttotal: 1.48s\tremaining: 1m 4s\n",
      "9:\ttest: 0.6952976\tbest: 0.6952976 (9)\ttotal: 1.73s\tremaining: 1m 7s\n",
      "10:\ttest: 0.6952976\tbest: 0.6952976 (9)\ttotal: 1.79s\tremaining: 1m 3s\n",
      "11:\ttest: 0.6952976\tbest: 0.6952976 (9)\ttotal: 1.86s\tremaining: 1m\n",
      "12:\ttest: 0.6952976\tbest: 0.6952976 (9)\ttotal: 1.92s\tremaining: 57.3s\n",
      "13:\ttest: 0.6952976\tbest: 0.6952976 (9)\ttotal: 1.99s\tremaining: 54.7s\n",
      "14:\ttest: 0.6952976\tbest: 0.6952976 (9)\ttotal: 2.05s\tremaining: 52.7s\n",
      "15:\ttest: 0.6952976\tbest: 0.6952976 (9)\ttotal: 2.12s\tremaining: 50.8s\n",
      "16:\ttest: 0.6967464\tbest: 0.6967464 (16)\ttotal: 2.37s\tremaining: 53.3s\n",
      "17:\ttest: 0.6973444\tbest: 0.6973444 (17)\ttotal: 2.61s\tremaining: 55.4s\n",
      "18:\ttest: 0.6973444\tbest: 0.6973444 (17)\ttotal: 2.68s\tremaining: 53.7s\n",
      "19:\ttest: 0.6988023\tbest: 0.6988023 (19)\ttotal: 2.9s\tremaining: 55.1s\n",
      "20:\ttest: 0.6991594\tbest: 0.6991594 (20)\ttotal: 3.13s\tremaining: 56.5s\n",
      "21:\ttest: 0.6991594\tbest: 0.6991594 (20)\ttotal: 3.19s\tremaining: 54.8s\n",
      "22:\ttest: 0.6991594\tbest: 0.6991594 (20)\ttotal: 3.25s\tremaining: 53.2s\n",
      "23:\ttest: 0.6991594\tbest: 0.6991594 (20)\ttotal: 3.31s\tremaining: 51.8s\n",
      "24:\ttest: 0.6991594\tbest: 0.6991594 (20)\ttotal: 3.37s\tremaining: 50.5s\n",
      "25:\ttest: 0.6991594\tbest: 0.6991594 (20)\ttotal: 3.42s\tremaining: 49.3s\n",
      "26:\ttest: 0.6991594\tbest: 0.6991594 (20)\ttotal: 3.48s\tremaining: 48.1s\n",
      "27:\ttest: 0.6994413\tbest: 0.6994413 (27)\ttotal: 3.72s\tremaining: 49.4s\n",
      "28:\ttest: 0.6998594\tbest: 0.6998594 (28)\ttotal: 3.97s\tremaining: 50.8s\n",
      "29:\ttest: 0.7001348\tbest: 0.7001348 (29)\ttotal: 4.21s\tremaining: 52s\n",
      "30:\ttest: 0.7001348\tbest: 0.7001348 (29)\ttotal: 4.27s\tremaining: 50.9s\n",
      "31:\ttest: 0.7006677\tbest: 0.7006677 (31)\ttotal: 4.5s\tremaining: 51.8s\n",
      "32:\ttest: 0.7007774\tbest: 0.7007774 (32)\ttotal: 4.74s\tremaining: 52.8s\n",
      "33:\ttest: 0.7007774\tbest: 0.7007774 (32)\ttotal: 4.8s\tremaining: 51.7s\n",
      "34:\ttest: 0.7007774\tbest: 0.7007774 (32)\ttotal: 4.87s\tremaining: 50.7s\n",
      "35:\ttest: 0.7009550\tbest: 0.7009550 (35)\ttotal: 5.11s\tremaining: 51.6s\n",
      "36:\ttest: 0.7009550\tbest: 0.7009550 (35)\ttotal: 5.16s\tremaining: 50.7s\n",
      "37:\ttest: 0.7012549\tbest: 0.7012549 (37)\ttotal: 5.41s\tremaining: 51.6s\n",
      "38:\ttest: 0.7012549\tbest: 0.7012549 (37)\ttotal: 5.47s\tremaining: 50.6s\n",
      "39:\ttest: 0.7016448\tbest: 0.7016448 (39)\ttotal: 5.71s\tremaining: 51.4s\n",
      "40:\ttest: 0.7016448\tbest: 0.7016448 (39)\ttotal: 5.77s\tremaining: 50.5s\n",
      "41:\ttest: 0.7016448\tbest: 0.7016448 (39)\ttotal: 5.83s\tremaining: 49.7s\n",
      "42:\ttest: 0.7016100\tbest: 0.7016448 (39)\ttotal: 6.07s\tremaining: 50.4s\n",
      "43:\ttest: 0.7016100\tbest: 0.7016448 (39)\ttotal: 6.13s\tremaining: 49.6s\n",
      "44:\ttest: 0.7017659\tbest: 0.7017659 (44)\ttotal: 6.37s\tremaining: 50.3s\n",
      "45:\ttest: 0.7017659\tbest: 0.7017659 (44)\ttotal: 6.43s\tremaining: 49.5s\n",
      "46:\ttest: 0.7017659\tbest: 0.7017659 (44)\ttotal: 6.49s\tremaining: 48.7s\n",
      "47:\ttest: 0.7017659\tbest: 0.7017659 (44)\ttotal: 6.54s\tremaining: 48s\n",
      "48:\ttest: 0.7017659\tbest: 0.7017659 (44)\ttotal: 6.61s\tremaining: 47.3s\n",
      "49:\ttest: 0.7017659\tbest: 0.7017659 (44)\ttotal: 6.66s\tremaining: 46.7s\n",
      "50:\ttest: 0.7017969\tbest: 0.7017969 (50)\ttotal: 6.92s\tremaining: 47.3s\n",
      "51:\ttest: 0.7017969\tbest: 0.7017969 (50)\ttotal: 6.98s\tremaining: 46.7s\n",
      "52:\ttest: 0.7020133\tbest: 0.7020133 (52)\ttotal: 7.21s\tremaining: 47.2s\n",
      "53:\ttest: 0.7024091\tbest: 0.7024091 (53)\ttotal: 7.45s\tremaining: 47.8s\n",
      "54:\ttest: 0.7024091\tbest: 0.7024091 (53)\ttotal: 7.51s\tremaining: 47.1s\n",
      "55:\ttest: 0.7024091\tbest: 0.7024091 (53)\ttotal: 7.57s\tremaining: 46.5s\n",
      "56:\ttest: 0.7024704\tbest: 0.7024704 (56)\ttotal: 7.81s\tremaining: 47s\n",
      "57:\ttest: 0.7026891\tbest: 0.7026891 (57)\ttotal: 8.07s\tremaining: 47.6s\n",
      "58:\ttest: 0.7026891\tbest: 0.7026891 (57)\ttotal: 8.13s\tremaining: 47s\n",
      "59:\ttest: 0.7026891\tbest: 0.7026891 (57)\ttotal: 8.18s\tremaining: 46.4s\n",
      "60:\ttest: 0.7026891\tbest: 0.7026891 (57)\ttotal: 8.24s\tremaining: 45.8s\n",
      "61:\ttest: 0.7028839\tbest: 0.7028839 (61)\ttotal: 8.48s\tremaining: 46.2s\n",
      "62:\ttest: 0.7028839\tbest: 0.7028839 (61)\ttotal: 8.54s\tremaining: 45.7s\n",
      "63:\ttest: 0.7029908\tbest: 0.7029908 (63)\ttotal: 8.79s\tremaining: 46.2s\n",
      "64:\ttest: 0.7030499\tbest: 0.7030499 (64)\ttotal: 9.05s\tremaining: 46.7s\n",
      "65:\ttest: 0.7029371\tbest: 0.7030499 (64)\ttotal: 9.33s\tremaining: 47.2s\n",
      "66:\ttest: 0.7029776\tbest: 0.7030499 (64)\ttotal: 9.6s\tremaining: 47.7s\n",
      "67:\ttest: 0.7030891\tbest: 0.7030891 (67)\ttotal: 9.87s\tremaining: 48.2s\n",
      "68:\ttest: 0.7030891\tbest: 0.7030891 (67)\ttotal: 9.94s\tremaining: 47.7s\n",
      "69:\ttest: 0.7030891\tbest: 0.7030891 (67)\ttotal: 10s\tremaining: 47.2s\n",
      "70:\ttest: 0.7030368\tbest: 0.7030891 (67)\ttotal: 10.3s\tremaining: 47.6s\n",
      "71:\ttest: 0.7030368\tbest: 0.7030891 (67)\ttotal: 10.3s\tremaining: 47.1s\n",
      "72:\ttest: 0.7031773\tbest: 0.7031773 (72)\ttotal: 10.6s\tremaining: 47.5s\n",
      "73:\ttest: 0.7031773\tbest: 0.7031773 (72)\ttotal: 10.7s\tremaining: 47s\n",
      "74:\ttest: 0.7032734\tbest: 0.7032734 (74)\ttotal: 10.9s\tremaining: 47.4s\n",
      "75:\ttest: 0.7032734\tbest: 0.7032734 (74)\ttotal: 11s\tremaining: 46.9s\n",
      "76:\ttest: 0.7034060\tbest: 0.7034060 (76)\ttotal: 11.3s\tremaining: 47.4s\n",
      "77:\ttest: 0.7035568\tbest: 0.7035568 (77)\ttotal: 11.6s\tremaining: 47.7s\n",
      "78:\ttest: 0.7035568\tbest: 0.7035568 (77)\ttotal: 11.6s\tremaining: 47.2s\n",
      "79:\ttest: 0.7035568\tbest: 0.7035568 (77)\ttotal: 11.7s\tremaining: 46.8s\n",
      "80:\ttest: 0.7037690\tbest: 0.7037690 (80)\ttotal: 12s\tremaining: 47.1s\n",
      "81:\ttest: 0.7037690\tbest: 0.7037690 (80)\ttotal: 12s\tremaining: 46.6s\n",
      "82:\ttest: 0.7039731\tbest: 0.7039731 (82)\ttotal: 12.3s\tremaining: 47s\n",
      "83:\ttest: 0.7041097\tbest: 0.7041097 (83)\ttotal: 12.6s\tremaining: 47.3s\n",
      "84:\ttest: 0.7041097\tbest: 0.7041097 (83)\ttotal: 12.7s\tremaining: 46.9s\n",
      "85:\ttest: 0.7041620\tbest: 0.7041620 (85)\ttotal: 12.9s\tremaining: 47.3s\n",
      "86:\ttest: 0.7041620\tbest: 0.7041620 (85)\ttotal: 13s\tremaining: 46.8s\n",
      "87:\ttest: 0.7042284\tbest: 0.7042284 (87)\ttotal: 13.3s\tremaining: 47.1s\n",
      "88:\ttest: 0.7042284\tbest: 0.7042284 (87)\ttotal: 13.3s\tremaining: 46.6s\n",
      "89:\ttest: 0.7042548\tbest: 0.7042548 (89)\ttotal: 13.6s\tremaining: 46.9s\n",
      "90:\ttest: 0.7042548\tbest: 0.7042548 (89)\ttotal: 13.7s\tremaining: 46.5s\n",
      "91:\ttest: 0.7042382\tbest: 0.7042548 (89)\ttotal: 13.9s\tremaining: 46.7s\n",
      "92:\ttest: 0.7042382\tbest: 0.7042548 (89)\ttotal: 14s\tremaining: 46.3s\n",
      "93:\ttest: 0.7042382\tbest: 0.7042548 (89)\ttotal: 14.1s\tremaining: 45.8s\n",
      "94:\ttest: 0.7043604\tbest: 0.7043604 (94)\ttotal: 14.3s\tremaining: 45.9s\n",
      "95:\ttest: 0.7042975\tbest: 0.7043604 (94)\ttotal: 14.6s\tremaining: 46.1s\n",
      "96:\ttest: 0.7042975\tbest: 0.7043604 (94)\ttotal: 14.6s\tremaining: 45.7s\n",
      "97:\ttest: 0.7042975\tbest: 0.7043604 (94)\ttotal: 14.7s\tremaining: 45.2s\n",
      "98:\ttest: 0.7043877\tbest: 0.7043877 (98)\ttotal: 14.9s\tremaining: 45.4s\n",
      "99:\ttest: 0.7043877\tbest: 0.7043877 (98)\ttotal: 15s\tremaining: 45s\n",
      "100:\ttest: 0.7044787\tbest: 0.7044787 (100)\ttotal: 15.2s\tremaining: 45.1s\n",
      "101:\ttest: 0.7044249\tbest: 0.7044787 (100)\ttotal: 15.5s\tremaining: 45.2s\n",
      "102:\ttest: 0.7044249\tbest: 0.7044787 (100)\ttotal: 15.5s\tremaining: 44.8s\n",
      "103:\ttest: 0.7043103\tbest: 0.7044787 (100)\ttotal: 15.8s\tremaining: 44.9s\n",
      "104:\ttest: 0.7043145\tbest: 0.7044787 (100)\ttotal: 16s\tremaining: 45s\n",
      "105:\ttest: 0.7043145\tbest: 0.7044787 (100)\ttotal: 16.1s\tremaining: 44.6s\n",
      "106:\ttest: 0.7043145\tbest: 0.7044787 (100)\ttotal: 16.1s\tremaining: 44.2s\n",
      "107:\ttest: 0.7043145\tbest: 0.7044787 (100)\ttotal: 16.2s\tremaining: 43.8s\n",
      "108:\ttest: 0.7043145\tbest: 0.7044787 (100)\ttotal: 16.3s\tremaining: 43.4s\n",
      "109:\ttest: 0.7043145\tbest: 0.7044787 (100)\ttotal: 16.3s\tremaining: 43s\n",
      "110:\ttest: 0.7043966\tbest: 0.7044787 (100)\ttotal: 16.6s\tremaining: 43.1s\n",
      "111:\ttest: 0.7042656\tbest: 0.7044787 (100)\ttotal: 16.8s\tremaining: 43.2s\n",
      "112:\ttest: 0.7043636\tbest: 0.7044787 (100)\ttotal: 17.1s\tremaining: 43.3s\n",
      "113:\ttest: 0.7044309\tbest: 0.7044787 (100)\ttotal: 17.3s\tremaining: 43.4s\n",
      "114:\ttest: 0.7044309\tbest: 0.7044787 (100)\ttotal: 17.4s\tremaining: 43s\n",
      "115:\ttest: 0.7044309\tbest: 0.7044787 (100)\ttotal: 17.4s\tremaining: 42.6s\n"
     ]
    },
    {
     "name": "stdout",
     "output_type": "stream",
     "text": [
      "116:\ttest: 0.7044309\tbest: 0.7044787 (100)\ttotal: 17.5s\tremaining: 42.3s\n",
      "117:\ttest: 0.7044309\tbest: 0.7044787 (100)\ttotal: 17.5s\tremaining: 41.9s\n",
      "118:\ttest: 0.7044309\tbest: 0.7044787 (100)\ttotal: 17.6s\tremaining: 41.5s\n",
      "119:\ttest: 0.7044309\tbest: 0.7044787 (100)\ttotal: 17.6s\tremaining: 41.2s\n",
      "120:\ttest: 0.7044309\tbest: 0.7044787 (100)\ttotal: 17.7s\tremaining: 40.8s\n",
      "121:\ttest: 0.7044309\tbest: 0.7044787 (100)\ttotal: 17.8s\tremaining: 40.5s\n",
      "122:\ttest: 0.7044309\tbest: 0.7044787 (100)\ttotal: 17.8s\tremaining: 40.1s\n",
      "123:\ttest: 0.7045848\tbest: 0.7045848 (123)\ttotal: 18s\tremaining: 40.2s\n",
      "124:\ttest: 0.7045728\tbest: 0.7045848 (123)\ttotal: 18.3s\tremaining: 40.3s\n",
      "125:\ttest: 0.7045728\tbest: 0.7045848 (123)\ttotal: 18.4s\tremaining: 39.9s\n",
      "126:\ttest: 0.7045728\tbest: 0.7045848 (123)\ttotal: 18.4s\tremaining: 39.6s\n",
      "127:\ttest: 0.7045592\tbest: 0.7045848 (123)\ttotal: 18.7s\tremaining: 39.7s\n",
      "128:\ttest: 0.7046933\tbest: 0.7046933 (128)\ttotal: 18.9s\tremaining: 39.7s\n",
      "129:\ttest: 0.7046933\tbest: 0.7046933 (128)\ttotal: 19s\tremaining: 39.4s\n",
      "130:\ttest: 0.7046933\tbest: 0.7046933 (128)\ttotal: 19s\tremaining: 39.1s\n",
      "131:\ttest: 0.7046933\tbest: 0.7046933 (128)\ttotal: 19.1s\tremaining: 38.8s\n",
      "132:\ttest: 0.7045892\tbest: 0.7046933 (128)\ttotal: 19.3s\tremaining: 38.8s\n",
      "133:\ttest: 0.7045132\tbest: 0.7046933 (128)\ttotal: 19.6s\tremaining: 38.9s\n",
      "134:\ttest: 0.7045215\tbest: 0.7046933 (128)\ttotal: 19.8s\tremaining: 38.9s\n",
      "135:\ttest: 0.7045488\tbest: 0.7046933 (128)\ttotal: 20.1s\tremaining: 39s\n",
      "136:\ttest: 0.7045488\tbest: 0.7046933 (128)\ttotal: 20.1s\tremaining: 38.6s\n",
      "137:\ttest: 0.7045488\tbest: 0.7046933 (128)\ttotal: 20.2s\tremaining: 38.3s\n",
      "138:\ttest: 0.7045488\tbest: 0.7046933 (128)\ttotal: 20.2s\tremaining: 38s\n",
      "139:\ttest: 0.7045868\tbest: 0.7046933 (128)\ttotal: 20.5s\tremaining: 38s\n",
      "140:\ttest: 0.7045868\tbest: 0.7046933 (128)\ttotal: 20.5s\tremaining: 37.7s\n",
      "141:\ttest: 0.7045902\tbest: 0.7046933 (128)\ttotal: 20.8s\tremaining: 37.7s\n",
      "142:\ttest: 0.7045324\tbest: 0.7046933 (128)\ttotal: 21s\tremaining: 37.7s\n",
      "143:\ttest: 0.7045324\tbest: 0.7046933 (128)\ttotal: 21.1s\tremaining: 37.4s\n",
      "144:\ttest: 0.7044368\tbest: 0.7046933 (128)\ttotal: 21.3s\tremaining: 37.4s\n",
      "145:\ttest: 0.7043847\tbest: 0.7046933 (128)\ttotal: 21.5s\tremaining: 37.4s\n",
      "146:\ttest: 0.7043847\tbest: 0.7046933 (128)\ttotal: 21.6s\tremaining: 37.1s\n",
      "147:\ttest: 0.7043847\tbest: 0.7046933 (128)\ttotal: 21.6s\tremaining: 36.8s\n",
      "148:\ttest: 0.7043259\tbest: 0.7046933 (128)\ttotal: 21.9s\tremaining: 36.9s\n",
      "149:\ttest: 0.7042363\tbest: 0.7046933 (128)\ttotal: 22.1s\tremaining: 36.9s\n",
      "150:\ttest: 0.7042693\tbest: 0.7046933 (128)\ttotal: 22.4s\tremaining: 36.9s\n",
      "151:\ttest: 0.7041977\tbest: 0.7046933 (128)\ttotal: 22.6s\tremaining: 36.9s\n",
      "152:\ttest: 0.7041977\tbest: 0.7046933 (128)\ttotal: 22.7s\tremaining: 36.6s\n",
      "153:\ttest: 0.7041691\tbest: 0.7046933 (128)\ttotal: 22.9s\tremaining: 36.6s\n",
      "154:\ttest: 0.7041691\tbest: 0.7046933 (128)\ttotal: 23s\tremaining: 36.3s\n",
      "155:\ttest: 0.7041691\tbest: 0.7046933 (128)\ttotal: 23.1s\tremaining: 36.1s\n",
      "156:\ttest: 0.7041559\tbest: 0.7046933 (128)\ttotal: 23.3s\tremaining: 36.1s\n",
      "157:\ttest: 0.7041559\tbest: 0.7046933 (128)\ttotal: 23.4s\tremaining: 35.8s\n",
      "158:\ttest: 0.7040989\tbest: 0.7046933 (128)\ttotal: 23.6s\tremaining: 35.8s\n",
      "159:\ttest: 0.7040989\tbest: 0.7046933 (128)\ttotal: 23.7s\tremaining: 35.5s\n",
      "160:\ttest: 0.7043088\tbest: 0.7046933 (128)\ttotal: 23.9s\tremaining: 35.5s\n",
      "161:\ttest: 0.7043088\tbest: 0.7046933 (128)\ttotal: 23.9s\tremaining: 35.2s\n",
      "162:\ttest: 0.7043088\tbest: 0.7046933 (128)\ttotal: 24s\tremaining: 34.9s\n",
      "163:\ttest: 0.7042102\tbest: 0.7046933 (128)\ttotal: 24.2s\tremaining: 34.9s\n",
      "164:\ttest: 0.7041250\tbest: 0.7046933 (128)\ttotal: 24.5s\tremaining: 34.9s\n",
      "165:\ttest: 0.7041250\tbest: 0.7046933 (128)\ttotal: 24.6s\tremaining: 34.6s\n",
      "166:\ttest: 0.7040324\tbest: 0.7046933 (128)\ttotal: 24.8s\tremaining: 34.6s\n",
      "167:\ttest: 0.7040324\tbest: 0.7046933 (128)\ttotal: 24.9s\tremaining: 34.3s\n",
      "168:\ttest: 0.7040324\tbest: 0.7046933 (128)\ttotal: 24.9s\tremaining: 34.1s\n",
      "Stopped by overfitting detector  (40 iterations wait)\n",
      "\n",
      "bestTest = 0.7046933481\n",
      "bestIteration = 128\n",
      "\n",
      "Shrink model to first 129 iterations.\n"
     ]
    }
   ],
   "source": [
    "best_model_params = params.copy()\n",
    "best_model = CatBoostClassifier(**best_model_params)\n",
    "best_model.fit(train_pool, eval_set=validate_pool);"
   ]
  },
  {
   "cell_type": "code",
   "execution_count": 192,
   "metadata": {},
   "outputs": [
    {
     "name": "stdout",
     "output_type": "stream",
     "text": [
      "int_rate: 21.504196038063213\n",
      "dti: 10.605154625081251\n",
      "annual_inc: 10.371280993921673\n",
      "term: 6.695732825877977\n",
      "revol_util: 6.676160400542775\n",
      "total_rev_hi_lim: 6.387607419290431\n",
      "installment: 6.0609233086618195\n",
      "revol_bal: 6.029617865607967\n",
      "total_acc: 5.675356437658795\n",
      "tot_cur_bal: 5.546080977803312\n",
      "open_acc: 4.277378818312348\n",
      "inq_last_6mths: 4.15021065474063\n",
      "loan_amnt: 2.923083640417321\n",
      "initial_list_status: 1.853440974575323\n",
      "tot_coll_amt: 1.243775019445164\n",
      "verification_status: 0.0\n",
      "sub_grade: 0.0\n",
      "purpose: 0.0\n",
      "home_ownership: 0.0\n"
     ]
    }
   ],
   "source": [
    "feature_importances = best_model.get_feature_importance(train_pool)\n",
    "feature_names = x_train.columns\n",
    "top = []\n",
    "for score, name in sorted(zip(feature_importances, feature_names), reverse=True):\n",
    "    top.append(name)\n",
    "    print('{}: {}'.format(name, score))"
   ]
  },
  {
   "cell_type": "markdown",
   "metadata": {},
   "source": [
    "## LightGBM"
   ]
  },
  {
   "cell_type": "code",
   "execution_count": 193,
   "metadata": {},
   "outputs": [],
   "source": [
    "import lightgbm as lgb"
   ]
  },
  {
   "cell_type": "code",
   "execution_count": 194,
   "metadata": {},
   "outputs": [
    {
     "data": {
      "text/plain": [
       "Index(['verification_status', 'initial_list_status', 'term', 'purpose',\n",
       "       'sub_grade', 'home_ownership'],\n",
       "      dtype='object')"
      ]
     },
     "execution_count": 194,
     "metadata": {},
     "output_type": "execute_result"
    }
   ],
   "source": [
    "x_train, x_test, y_train, y_test = train_test_split(x, y, test_size=0.3, random_state = 42)\n",
    "categorical_columns = x.columns[x.dtypes == 'object']\n",
    "categorical_columns"
   ]
  },
  {
   "cell_type": "code",
   "execution_count": 154,
   "metadata": {},
   "outputs": [
    {
     "data": {
      "text/plain": [
       "debt_consolidation    82494\n",
       "credit_card           27517\n",
       "home_improvement       8322\n",
       "other                  7876\n",
       "major_purchase         3443\n",
       "small_business         2665\n",
       "car                    1964\n",
       "medical                1589\n",
       "moving                 1163\n",
       "wedding                1028\n",
       "house                   895\n",
       "vacation                856\n",
       "educational             182\n",
       "renewable_energy        138\n",
       "Name: purpose, dtype: int64"
      ]
     },
     "execution_count": 154,
     "metadata": {},
     "output_type": "execute_result"
    }
   ],
   "source": [
    "x_train['purpose'].value_counts()"
   ]
  },
  {
   "cell_type": "code",
   "execution_count": 140,
   "metadata": {},
   "outputs": [
    {
     "name": "stdout",
     "output_type": "stream",
     "text": [
      "<class 'pandas.core.frame.DataFrame'>\n",
      "Int64Index: 140132 entries, 193136 to 121958\n",
      "Data columns (total 19 columns):\n",
      "annual_inc                    140132 non-null float64\n",
      "int_rate                      140132 non-null float64\n",
      "collections_12_mths_ex_med    140132 non-null float64\n",
      "initial_list_status           140132 non-null bool\n",
      "installment                   140132 non-null float64\n",
      "open_acc                      140132 non-null float64\n",
      "total_acc                     140132 non-null float64\n",
      "dti                           140132 non-null float64\n",
      "purpose                       140132 non-null object\n",
      "grade                         140132 non-null object\n",
      "home_ownership                140132 non-null object\n",
      "inq_last_6mths                140132 non-null float64\n",
      "pub_rec                       140132 non-null float64\n",
      "revol_bal                     140132 non-null float64\n",
      "revol_util                    140132 non-null float64\n",
      "tot_coll_amt                  140132 non-null float64\n",
      "loan_amnt                     140132 non-null float64\n",
      "application_type              140132 non-null bool\n",
      "acc_now_delinq                140132 non-null float64\n",
      "dtypes: bool(2), float64(14), object(3)\n",
      "memory usage: 19.5+ MB\n"
     ]
    }
   ],
   "source": [
    "x_train['initial_list_status'] = x_train['initial_list_status'].astype('str').map({'f': bool(1), 'w': bool(0)}) # Label encoder\n",
    "x_train['application_type'] = x_train['application_type'].astype('str').map(lambda x: bool(1) if x == 'INDIVIDUAL' else bool(0))\n",
    "x_test['initial_list_status'] = x_test['initial_list_status'].astype('str').map({'f': bool(1), 'w': bool(0)}) # Label encoder\n",
    "x_test['application_type'] = x_test['application_type'].astype('str').map(lambda x: bool(1) if x == 'INDIVIDUAL' else bool(0))\n",
    "categorical_columns = x.columns[x.dtypes == 'object']\n"
   ]
  },
  {
   "cell_type": "code",
   "execution_count": 127,
   "metadata": {},
   "outputs": [],
   "source": [
    "params = {\n",
    "    'boosting_type': 'dart',\n",
    "    'objective': 'binary',\n",
    "    'metric': {'auc'},\n",
    "    'num_leaves': 20,\n",
    "    'max_depth' : 6,\n",
    "    'max_bin':100,\n",
    "    'learning_rate':  0.35,\n",
    "    'feature_fraction': 0.7,\n",
    "    'bagging_fraction': 0.8,\n",
    "    'bagging_freq': 5,\n",
    "    'lambda_l1' : 32,\n",
    "    'verbose': 0}"
   ]
  },
  {
   "cell_type": "code",
   "execution_count": 128,
   "metadata": {},
   "outputs": [
    {
     "data": {
      "text/plain": [
       "{'boosting_type': 'dart',\n",
       " 'objective': 'binary',\n",
       " 'metric': {'auc'},\n",
       " 'num_leaves': 20,\n",
       " 'max_depth': 6,\n",
       " 'max_bin': 100,\n",
       " 'learning_rate': 0.35,\n",
       " 'feature_fraction': 0.7,\n",
       " 'bagging_fraction': 0.8,\n",
       " 'bagging_freq': 5,\n",
       " 'lambda_l1': 32,\n",
       " 'verbose': 0}"
      ]
     },
     "execution_count": 128,
     "metadata": {},
     "output_type": "execute_result"
    }
   ],
   "source": [
    "params"
   ]
  },
  {
   "cell_type": "code",
   "execution_count": 129,
   "metadata": {},
   "outputs": [
    {
     "data": {
      "text/html": [
       "<div>\n",
       "<style scoped>\n",
       "    .dataframe tbody tr th:only-of-type {\n",
       "        vertical-align: middle;\n",
       "    }\n",
       "\n",
       "    .dataframe tbody tr th {\n",
       "        vertical-align: top;\n",
       "    }\n",
       "\n",
       "    .dataframe thead th {\n",
       "        text-align: right;\n",
       "    }\n",
       "</style>\n",
       "<table border=\"1\" class=\"dataframe\">\n",
       "  <thead>\n",
       "    <tr style=\"text-align: right;\">\n",
       "      <th></th>\n",
       "      <th>acc_now_delinq</th>\n",
       "      <th>annual_inc</th>\n",
       "      <th>application_type</th>\n",
       "      <th>collections_12_mths_ex_med</th>\n",
       "      <th>dti</th>\n",
       "      <th>grade_A</th>\n",
       "      <th>grade_B</th>\n",
       "      <th>grade_C</th>\n",
       "      <th>grade_D</th>\n",
       "      <th>grade_E</th>\n",
       "      <th>...</th>\n",
       "      <th>purpose_moving</th>\n",
       "      <th>purpose_other</th>\n",
       "      <th>purpose_renewable_energy</th>\n",
       "      <th>purpose_small_business</th>\n",
       "      <th>purpose_vacation</th>\n",
       "      <th>purpose_wedding</th>\n",
       "      <th>revol_bal</th>\n",
       "      <th>revol_util</th>\n",
       "      <th>tot_coll_amt</th>\n",
       "      <th>total_acc</th>\n",
       "    </tr>\n",
       "  </thead>\n",
       "  <tbody>\n",
       "    <tr>\n",
       "      <th>193136</th>\n",
       "      <td>0.0</td>\n",
       "      <td>75000.0</td>\n",
       "      <td>True</td>\n",
       "      <td>0.0</td>\n",
       "      <td>26.85</td>\n",
       "      <td>0</td>\n",
       "      <td>1</td>\n",
       "      <td>0</td>\n",
       "      <td>0</td>\n",
       "      <td>0</td>\n",
       "      <td>...</td>\n",
       "      <td>0</td>\n",
       "      <td>0</td>\n",
       "      <td>0</td>\n",
       "      <td>0</td>\n",
       "      <td>0</td>\n",
       "      <td>0</td>\n",
       "      <td>38230.0</td>\n",
       "      <td>87.7</td>\n",
       "      <td>0.0</td>\n",
       "      <td>42.0</td>\n",
       "    </tr>\n",
       "    <tr>\n",
       "      <th>27784</th>\n",
       "      <td>0.0</td>\n",
       "      <td>73000.0</td>\n",
       "      <td>True</td>\n",
       "      <td>0.0</td>\n",
       "      <td>16.47</td>\n",
       "      <td>0</td>\n",
       "      <td>0</td>\n",
       "      <td>0</td>\n",
       "      <td>1</td>\n",
       "      <td>0</td>\n",
       "      <td>...</td>\n",
       "      <td>0</td>\n",
       "      <td>0</td>\n",
       "      <td>0</td>\n",
       "      <td>0</td>\n",
       "      <td>0</td>\n",
       "      <td>0</td>\n",
       "      <td>9874.0</td>\n",
       "      <td>41.0</td>\n",
       "      <td>0.0</td>\n",
       "      <td>38.0</td>\n",
       "    </tr>\n",
       "    <tr>\n",
       "      <th>157132</th>\n",
       "      <td>0.0</td>\n",
       "      <td>200000.0</td>\n",
       "      <td>True</td>\n",
       "      <td>0.0</td>\n",
       "      <td>13.50</td>\n",
       "      <td>1</td>\n",
       "      <td>0</td>\n",
       "      <td>0</td>\n",
       "      <td>0</td>\n",
       "      <td>0</td>\n",
       "      <td>...</td>\n",
       "      <td>0</td>\n",
       "      <td>0</td>\n",
       "      <td>0</td>\n",
       "      <td>0</td>\n",
       "      <td>0</td>\n",
       "      <td>0</td>\n",
       "      <td>34550.0</td>\n",
       "      <td>63.0</td>\n",
       "      <td>0.0</td>\n",
       "      <td>37.0</td>\n",
       "    </tr>\n",
       "    <tr>\n",
       "      <th>81962</th>\n",
       "      <td>0.0</td>\n",
       "      <td>100000.0</td>\n",
       "      <td>True</td>\n",
       "      <td>0.0</td>\n",
       "      <td>20.48</td>\n",
       "      <td>0</td>\n",
       "      <td>0</td>\n",
       "      <td>0</td>\n",
       "      <td>1</td>\n",
       "      <td>0</td>\n",
       "      <td>...</td>\n",
       "      <td>0</td>\n",
       "      <td>0</td>\n",
       "      <td>0</td>\n",
       "      <td>0</td>\n",
       "      <td>0</td>\n",
       "      <td>0</td>\n",
       "      <td>88599.0</td>\n",
       "      <td>60.9</td>\n",
       "      <td>0.0</td>\n",
       "      <td>36.0</td>\n",
       "    </tr>\n",
       "    <tr>\n",
       "      <th>161</th>\n",
       "      <td>0.0</td>\n",
       "      <td>65000.0</td>\n",
       "      <td>True</td>\n",
       "      <td>0.0</td>\n",
       "      <td>14.00</td>\n",
       "      <td>0</td>\n",
       "      <td>0</td>\n",
       "      <td>1</td>\n",
       "      <td>0</td>\n",
       "      <td>0</td>\n",
       "      <td>...</td>\n",
       "      <td>0</td>\n",
       "      <td>0</td>\n",
       "      <td>0</td>\n",
       "      <td>0</td>\n",
       "      <td>0</td>\n",
       "      <td>0</td>\n",
       "      <td>10948.0</td>\n",
       "      <td>43.6</td>\n",
       "      <td>0.0</td>\n",
       "      <td>19.0</td>\n",
       "    </tr>\n",
       "  </tbody>\n",
       "</table>\n",
       "<p>5 rows × 43 columns</p>\n",
       "</div>"
      ],
      "text/plain": [
       "        acc_now_delinq  annual_inc  application_type  \\\n",
       "193136             0.0     75000.0              True   \n",
       "27784              0.0     73000.0              True   \n",
       "157132             0.0    200000.0              True   \n",
       "81962              0.0    100000.0              True   \n",
       "161                0.0     65000.0              True   \n",
       "\n",
       "        collections_12_mths_ex_med    dti  grade_A  grade_B  grade_C  grade_D  \\\n",
       "193136                         0.0  26.85        0        1        0        0   \n",
       "27784                          0.0  16.47        0        0        0        1   \n",
       "157132                         0.0  13.50        1        0        0        0   \n",
       "81962                          0.0  20.48        0        0        0        1   \n",
       "161                            0.0  14.00        0        0        1        0   \n",
       "\n",
       "        grade_E  ...  purpose_moving  purpose_other  purpose_renewable_energy  \\\n",
       "193136        0  ...               0              0                         0   \n",
       "27784         0  ...               0              0                         0   \n",
       "157132        0  ...               0              0                         0   \n",
       "81962         0  ...               0              0                         0   \n",
       "161           0  ...               0              0                         0   \n",
       "\n",
       "        purpose_small_business  purpose_vacation  purpose_wedding  revol_bal  \\\n",
       "193136                       0                 0                0    38230.0   \n",
       "27784                        0                 0                0     9874.0   \n",
       "157132                       0                 0                0    34550.0   \n",
       "81962                        0                 0                0    88599.0   \n",
       "161                          0                 0                0    10948.0   \n",
       "\n",
       "        revol_util  tot_coll_amt  total_acc  \n",
       "193136        87.7           0.0       42.0  \n",
       "27784         41.0           0.0       38.0  \n",
       "157132        63.0           0.0       37.0  \n",
       "81962         60.9           0.0       36.0  \n",
       "161           43.6           0.0       19.0  \n",
       "\n",
       "[5 rows x 43 columns]"
      ]
     },
     "execution_count": 129,
     "metadata": {},
     "output_type": "execute_result"
    }
   ],
   "source": [
    "x_train.head()"
   ]
  },
  {
   "cell_type": "code",
   "execution_count": 130,
   "metadata": {},
   "outputs": [],
   "source": [
    "lgb_train = lgb.Dataset(x_train, y_train, free_raw_data=False)\n",
    "lgb_eval = lgb.Dataset(x_test, y_test, reference=lgb_train, free_raw_data=False)"
   ]
  },
  {
   "cell_type": "code",
   "execution_count": 131,
   "metadata": {},
   "outputs": [],
   "source": [
    "evals_result = {}"
   ]
  },
  {
   "cell_type": "code",
   "execution_count": 132,
   "metadata": {},
   "outputs": [],
   "source": [
    "num_train, num_feature = x_train.shape\n",
    "feature_name = ['feature_' + str(col) for col in range(num_feature)]"
   ]
  },
  {
   "cell_type": "code",
   "execution_count": null,
   "metadata": {},
   "outputs": [],
   "source": []
  },
  {
   "cell_type": "code",
   "execution_count": 133,
   "metadata": {
    "scrolled": false
   },
   "outputs": [
    {
     "name": "stdout",
     "output_type": "stream",
     "text": [
      "[100]\ttraining's auc: 0.720699\tvalid_1's auc: 0.708299\n",
      "[200]\ttraining's auc: 0.726036\tvalid_1's auc: 0.709584\n",
      "[300]\ttraining's auc: 0.730732\tvalid_1's auc: 0.710076\n",
      "[400]\ttraining's auc: 0.734714\tvalid_1's auc: 0.71066\n",
      "[500]\ttraining's auc: 0.738471\tvalid_1's auc: 0.710405\n",
      "[600]\ttraining's auc: 0.739775\tvalid_1's auc: 0.710752\n",
      "[700]\ttraining's auc: 0.742352\tvalid_1's auc: 0.711178\n",
      "[800]\ttraining's auc: 0.744439\tvalid_1's auc: 0.710858\n",
      "[900]\ttraining's auc: 0.746693\tvalid_1's auc: 0.710874\n",
      "[1000]\ttraining's auc: 0.748546\tvalid_1's auc: 0.710658\n",
      "[1100]\ttraining's auc: 0.750315\tvalid_1's auc: 0.709928\n",
      "[1200]\ttraining's auc: 0.751638\tvalid_1's auc: 0.709708\n",
      "[1300]\ttraining's auc: 0.75301\tvalid_1's auc: 0.709218\n",
      "[1400]\ttraining's auc: 0.755273\tvalid_1's auc: 0.708481\n",
      "[1500]\ttraining's auc: 0.756091\tvalid_1's auc: 0.708636\n",
      "[1600]\ttraining's auc: 0.757775\tvalid_1's auc: 0.708289\n",
      "[1700]\ttraining's auc: 0.759684\tvalid_1's auc: 0.708028\n",
      "[1800]\ttraining's auc: 0.761302\tvalid_1's auc: 0.707554\n",
      "[1900]\ttraining's auc: 0.7632\tvalid_1's auc: 0.707521\n",
      "[2000]\ttraining's auc: 0.764286\tvalid_1's auc: 0.707136\n",
      "[2100]\ttraining's auc: 0.766443\tvalid_1's auc: 0.706836\n",
      "[2200]\ttraining's auc: 0.768052\tvalid_1's auc: 0.706818\n",
      "[2300]\ttraining's auc: 0.769818\tvalid_1's auc: 0.70626\n",
      "[2400]\ttraining's auc: 0.771822\tvalid_1's auc: 0.705925\n",
      "[2500]\ttraining's auc: 0.773159\tvalid_1's auc: 0.705659\n",
      "[2600]\ttraining's auc: 0.774375\tvalid_1's auc: 0.705493\n",
      "[2700]\ttraining's auc: 0.775843\tvalid_1's auc: 0.705314\n",
      "[2800]\ttraining's auc: 0.776783\tvalid_1's auc: 0.704982\n",
      "[2900]\ttraining's auc: 0.777949\tvalid_1's auc: 0.704872\n",
      "[3000]\ttraining's auc: 0.779499\tvalid_1's auc: 0.704486\n",
      "[3100]\ttraining's auc: 0.780948\tvalid_1's auc: 0.704135\n",
      "[3200]\ttraining's auc: 0.78203\tvalid_1's auc: 0.703963\n",
      "[3300]\ttraining's auc: 0.783242\tvalid_1's auc: 0.703805\n",
      "[3400]\ttraining's auc: 0.785096\tvalid_1's auc: 0.703107\n",
      "[3500]\ttraining's auc: 0.786311\tvalid_1's auc: 0.702761\n",
      "[3600]\ttraining's auc: 0.787844\tvalid_1's auc: 0.702264\n",
      "[3700]\ttraining's auc: 0.789103\tvalid_1's auc: 0.702525\n",
      "[3800]\ttraining's auc: 0.790729\tvalid_1's auc: 0.70229\n",
      "[3900]\ttraining's auc: 0.792012\tvalid_1's auc: 0.701814\n",
      "[4000]\ttraining's auc: 0.79301\tvalid_1's auc: 0.701848\n"
     ]
    }
   ],
   "source": [
    "gbm = lgb.train(params,\n",
    "                lgb_train,\n",
    "                num_boost_round=4000,\n",
    "                valid_sets=[lgb_train, lgb_eval],\n",
    "               # feature_name=feature_name,              \n",
    "              #  categorical_feature= categorical_features_indices,\n",
    "             #   learning_rates=lambda iter: 0.05 * (0.99 ** iter),\n",
    "                evals_result=evals_result,\n",
    "                verbose_eval=100)"
   ]
  },
  {
   "cell_type": "code",
   "execution_count": 134,
   "metadata": {},
   "outputs": [
    {
     "data": {
      "image/png": "[encoded data removed]",
      "text/plain": [
       "<Figure size 432x288 with 1 Axes>"
      ]
     },
     "metadata": {
      "needs_background": "light"
     },
     "output_type": "display_data"
    }
   ],
   "source": [
    "lgb.plot_metric(evals_result, metric='auc')\n",
    "plt.show()"
   ]
  },
  {
   "cell_type": "code",
   "execution_count": null,
   "metadata": {},
   "outputs": [],
   "source": []
  },
  {
   "cell_type": "code",
   "execution_count": null,
   "metadata": {},
   "outputs": [],
   "source": []
  }
 ],
 "metadata": {
  "kernelspec": {
   "display_name": "Python 3",
   "language": "python",
   "name": "python3"
  },
  "language_info": {
   "codemirror_mode": {
    "name": "ipython",
    "version": 3
   },
   "file_extension": ".py",
   "mimetype": "text/x-python",
   "name": "python",
   "nbconvert_exporter": "python",
   "pygments_lexer": "ipython3",
   "version": "3.7.2"
  }
 },
 "nbformat": 4,
 "nbformat_minor": 2
}
