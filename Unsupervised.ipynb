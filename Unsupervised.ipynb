{
 "cells": [
  {
   "cell_type": "code",
   "execution_count": 99,
   "metadata": {},
   "outputs": [],
   "source": [
    "import pandas as pd\n",
    "import sys\n",
    "import numpy as np\n",
    "import matplotlib.pyplot as plt\n",
    "import plotly \n",
    "import pandas as pd"
   ]
  },
  {
   "cell_type": "code",
   "execution_count": 100,
   "metadata": {},
   "outputs": [],
   "source": [
    "plotly.tools.set_credentials_file(username='temp2019', api_key='dOVAo2AwluLUBNtmj6lA')"
   ]
  },
  {
   "cell_type": "code",
   "execution_count": 101,
   "metadata": {},
   "outputs": [
    {
     "data": {
      "text/html": [
       "<div>\n",
       "<style scoped>\n",
       "    .dataframe tbody tr th:only-of-type {\n",
       "        vertical-align: middle;\n",
       "    }\n",
       "\n",
       "    .dataframe tbody tr th {\n",
       "        vertical-align: top;\n",
       "    }\n",
       "\n",
       "    .dataframe thead th {\n",
       "        text-align: right;\n",
       "    }\n",
       "</style>\n",
       "<table border=\"1\" class=\"dataframe\">\n",
       "  <thead>\n",
       "    <tr style=\"text-align: right;\">\n",
       "      <th></th>\n",
       "      <th>loan_amnt</th>\n",
       "      <th>term</th>\n",
       "      <th>int_rate</th>\n",
       "      <th>installment</th>\n",
       "      <th>grade</th>\n",
       "      <th>sub_grade</th>\n",
       "      <th>emp_title</th>\n",
       "      <th>emp_length</th>\n",
       "      <th>home_ownership</th>\n",
       "      <th>annual_inc</th>\n",
       "      <th>...</th>\n",
       "      <th>total_acc</th>\n",
       "      <th>initial_list_status</th>\n",
       "      <th>collections_12_mths_ex_med</th>\n",
       "      <th>policy_code</th>\n",
       "      <th>application_type</th>\n",
       "      <th>acc_now_delinq</th>\n",
       "      <th>tot_coll_amt</th>\n",
       "      <th>tot_cur_bal</th>\n",
       "      <th>total_rev_hi_lim</th>\n",
       "      <th>record_id</th>\n",
       "    </tr>\n",
       "  </thead>\n",
       "  <tbody>\n",
       "    <tr>\n",
       "      <th>0</th>\n",
       "      <td>15000.0</td>\n",
       "      <td>36 months</td>\n",
       "      <td>11.99</td>\n",
       "      <td>498.15</td>\n",
       "      <td>B</td>\n",
       "      <td>B3</td>\n",
       "      <td>Quality Assurance Specialist</td>\n",
       "      <td>4 years</td>\n",
       "      <td>MORTGAGE</td>\n",
       "      <td>70000.0</td>\n",
       "      <td>...</td>\n",
       "      <td>32.0</td>\n",
       "      <td>f</td>\n",
       "      <td>0.0</td>\n",
       "      <td>1.0</td>\n",
       "      <td>INDIVIDUAL</td>\n",
       "      <td>0.0</td>\n",
       "      <td>0.0</td>\n",
       "      <td>295215.0</td>\n",
       "      <td>20500.0</td>\n",
       "      <td>453246940</td>\n",
       "    </tr>\n",
       "    <tr>\n",
       "      <th>1</th>\n",
       "      <td>3725.0</td>\n",
       "      <td>36 months</td>\n",
       "      <td>6.03</td>\n",
       "      <td>113.38</td>\n",
       "      <td>A</td>\n",
       "      <td>A1</td>\n",
       "      <td>NaN</td>\n",
       "      <td>NaN</td>\n",
       "      <td>MORTGAGE</td>\n",
       "      <td>52260.0</td>\n",
       "      <td>...</td>\n",
       "      <td>9.0</td>\n",
       "      <td>f</td>\n",
       "      <td>0.0</td>\n",
       "      <td>1.0</td>\n",
       "      <td>INDIVIDUAL</td>\n",
       "      <td>0.0</td>\n",
       "      <td>0.0</td>\n",
       "      <td>25130.0</td>\n",
       "      <td>14200.0</td>\n",
       "      <td>453313687</td>\n",
       "    </tr>\n",
       "    <tr>\n",
       "      <th>2</th>\n",
       "      <td>16000.0</td>\n",
       "      <td>36 months</td>\n",
       "      <td>11.14</td>\n",
       "      <td>524.89</td>\n",
       "      <td>B</td>\n",
       "      <td>B2</td>\n",
       "      <td>KIPP NYC</td>\n",
       "      <td>3 years</td>\n",
       "      <td>RENT</td>\n",
       "      <td>67500.0</td>\n",
       "      <td>...</td>\n",
       "      <td>22.0</td>\n",
       "      <td>f</td>\n",
       "      <td>0.0</td>\n",
       "      <td>1.0</td>\n",
       "      <td>INDIVIDUAL</td>\n",
       "      <td>0.0</td>\n",
       "      <td>193.0</td>\n",
       "      <td>41737.0</td>\n",
       "      <td>19448.0</td>\n",
       "      <td>453283543</td>\n",
       "    </tr>\n",
       "    <tr>\n",
       "      <th>3</th>\n",
       "      <td>4200.0</td>\n",
       "      <td>36 months</td>\n",
       "      <td>13.33</td>\n",
       "      <td>142.19</td>\n",
       "      <td>C</td>\n",
       "      <td>C3</td>\n",
       "      <td>Receptionist</td>\n",
       "      <td>&lt; 1 year</td>\n",
       "      <td>MORTGAGE</td>\n",
       "      <td>21600.0</td>\n",
       "      <td>...</td>\n",
       "      <td>19.0</td>\n",
       "      <td>w</td>\n",
       "      <td>0.0</td>\n",
       "      <td>1.0</td>\n",
       "      <td>INDIVIDUAL</td>\n",
       "      <td>0.0</td>\n",
       "      <td>165.0</td>\n",
       "      <td>28187.0</td>\n",
       "      <td>14500.0</td>\n",
       "      <td>453447199</td>\n",
       "    </tr>\n",
       "    <tr>\n",
       "      <th>4</th>\n",
       "      <td>6500.0</td>\n",
       "      <td>36 months</td>\n",
       "      <td>12.69</td>\n",
       "      <td>218.05</td>\n",
       "      <td>B</td>\n",
       "      <td>B5</td>\n",
       "      <td>Medtox Laboratories</td>\n",
       "      <td>10+ years</td>\n",
       "      <td>RENT</td>\n",
       "      <td>41000.0</td>\n",
       "      <td>...</td>\n",
       "      <td>12.0</td>\n",
       "      <td>f</td>\n",
       "      <td>0.0</td>\n",
       "      <td>1.0</td>\n",
       "      <td>INDIVIDUAL</td>\n",
       "      <td>0.0</td>\n",
       "      <td>NaN</td>\n",
       "      <td>NaN</td>\n",
       "      <td>NaN</td>\n",
       "      <td>453350283</td>\n",
       "    </tr>\n",
       "  </tbody>\n",
       "</table>\n",
       "<p>5 rows × 36 columns</p>\n",
       "</div>"
      ],
      "text/plain": [
       "   loan_amnt        term  int_rate  installment grade sub_grade  \\\n",
       "0    15000.0   36 months     11.99       498.15     B        B3   \n",
       "1     3725.0   36 months      6.03       113.38     A        A1   \n",
       "2    16000.0   36 months     11.14       524.89     B        B2   \n",
       "3     4200.0   36 months     13.33       142.19     C        C3   \n",
       "4     6500.0   36 months     12.69       218.05     B        B5   \n",
       "\n",
       "                      emp_title emp_length home_ownership  annual_inc  ...  \\\n",
       "0  Quality Assurance Specialist    4 years       MORTGAGE     70000.0  ...   \n",
       "1                           NaN        NaN       MORTGAGE     52260.0  ...   \n",
       "2                     KIPP NYC     3 years           RENT     67500.0  ...   \n",
       "3                  Receptionist   < 1 year       MORTGAGE     21600.0  ...   \n",
       "4           Medtox Laboratories  10+ years           RENT     41000.0  ...   \n",
       "\n",
       "  total_acc initial_list_status  collections_12_mths_ex_med policy_code  \\\n",
       "0      32.0                   f                         0.0         1.0   \n",
       "1       9.0                   f                         0.0         1.0   \n",
       "2      22.0                   f                         0.0         1.0   \n",
       "3      19.0                   w                         0.0         1.0   \n",
       "4      12.0                   f                         0.0         1.0   \n",
       "\n",
       "  application_type acc_now_delinq tot_coll_amt  tot_cur_bal  total_rev_hi_lim  \\\n",
       "0       INDIVIDUAL            0.0          0.0     295215.0           20500.0   \n",
       "1       INDIVIDUAL            0.0          0.0      25130.0           14200.0   \n",
       "2       INDIVIDUAL            0.0        193.0      41737.0           19448.0   \n",
       "3       INDIVIDUAL            0.0        165.0      28187.0           14500.0   \n",
       "4       INDIVIDUAL            0.0          NaN          NaN               NaN   \n",
       "\n",
       "   record_id  \n",
       "0  453246940  \n",
       "1  453313687  \n",
       "2  453283543  \n",
       "3  453447199  \n",
       "4  453350283  \n",
       "\n",
       "[5 rows x 36 columns]"
      ]
     },
     "execution_count": 101,
     "metadata": {},
     "output_type": "execute_result"
    }
   ],
   "source": [
    "train = pd.read_csv('data/train.csv')\n",
    "train.head()"
   ]
  },
  {
   "cell_type": "code",
   "execution_count": 102,
   "metadata": {},
   "outputs": [
    {
     "name": "stdout",
     "output_type": "stream",
     "text": [
      "<class 'pandas.core.frame.DataFrame'>\n",
      "RangeIndex: 200189 entries, 0 to 200188\n",
      "Data columns (total 36 columns):\n",
      "loan_amnt                     200189 non-null float64\n",
      "term                          200189 non-null object\n",
      "int_rate                      200189 non-null float64\n",
      "installment                   200189 non-null float64\n",
      "grade                         200189 non-null object\n",
      "sub_grade                     200189 non-null object\n",
      "emp_title                     189062 non-null object\n",
      "emp_length                    192135 non-null object\n",
      "home_ownership                200189 non-null object\n",
      "annual_inc                    200189 non-null float64\n",
      "verification_status           200189 non-null object\n",
      "issue_d                       200189 non-null object\n",
      "loan_status                   200189 non-null int64\n",
      "pymnt_plan                    200189 non-null object\n",
      "purpose                       200189 non-null object\n",
      "zip_code                      200189 non-null object\n",
      "addr_state                    200189 non-null object\n",
      "dti                           200189 non-null float64\n",
      "delinq_2yrs                   200189 non-null float64\n",
      "earliest_cr_line              200189 non-null object\n",
      "inq_last_6mths                200189 non-null float64\n",
      "mths_since_last_delinq        89621 non-null float64\n",
      "open_acc                      200189 non-null float64\n",
      "pub_rec                       200189 non-null float64\n",
      "revol_bal                     200189 non-null float64\n",
      "revol_util                    200035 non-null float64\n",
      "total_acc                     200189 non-null float64\n",
      "initial_list_status           200189 non-null object\n",
      "collections_12_mths_ex_med    200145 non-null float64\n",
      "policy_code                   200189 non-null float64\n",
      "application_type              200189 non-null object\n",
      "acc_now_delinq                200189 non-null float64\n",
      "tot_coll_amt                  152232 non-null float64\n",
      "tot_cur_bal                   152232 non-null float64\n",
      "total_rev_hi_lim              152232 non-null float64\n",
      "record_id                     200189 non-null int64\n",
      "dtypes: float64(19), int64(2), object(15)\n",
      "memory usage: 55.0+ MB\n"
     ]
    }
   ],
   "source": [
    "train.info()"
   ]
  },
  {
   "cell_type": "code",
   "execution_count": 103,
   "metadata": {},
   "outputs": [],
   "source": [
    "def Nan_killer(x, num = -999):\n",
    "    x['revol_util'] = x['revol_util'].fillna(num)\n",
    "  #  x['tot_coll_amt'] = x['tot_coll_amt'].fillna(num)\n",
    "    x['tot_cur_bal'] =  x['tot_cur_bal'].fillna(num)\n",
    "    x['total_rev_hi_lim'] =  x['total_rev_hi_lim'].fillna(num)\n",
    "    "
   ]
  },
  {
   "cell_type": "code",
   "execution_count": 104,
   "metadata": {},
   "outputs": [],
   "source": [
    "def proc(x,y):\n",
    "  #  x['home_ownership'] = x['home_ownership'].astype(str).map(lambda x: 'OTHER' if x in ['NONE', 'ANY'] else x)\n",
    "  #  x['purpose'] = x['purpose'].astype(str).map(lambda x: 'other' if x in ['educational', 'renewable_energy','vacation','house','wedding','moving','medical','car','small_business','major_purchase'] else x)\n",
    "    x_train, x_test, y_train, y_test = train_test_split(x, y, test_size=0.3, random_state = 42)\n",
    "    x_test['sub_grade'] = x_test['sub_grade'].astype('str').map(lambda x: ord(x[0])*10 + int(x[1]))\n",
    "    x_train['sub_grade'] = x_train['sub_grade'].astype('str').map(lambda x: ord(x[0])*10 + int(x[1]))\n",
    "    x_train = pd.get_dummies(x_train, columns = ['purpose','home_ownership','term','verification_status'])   # OHE (?????)\n",
    "    x_test = pd.get_dummies(x_test, columns = ['purpose','home_ownership','term','verification_status'])\n",
    "    for i in list(x_test): # удаление из тестовых данных столбцов, если их не было в тренировочных\n",
    "        if i not in list(x_train):\n",
    "            list(my_dataframe)\n",
    "            x_test.drop(i, axis=1, inplace=True)\n",
    "    for i in list(x_train): # добавление колонки с нулями, если такой нет в тестовой\n",
    "        if i not in list(x_test):\n",
    "            x_test[i] = 0\n",
    "    \n",
    "\n",
    "    x_test = x_test.reindex(sorted(x_test.columns), axis=1)\n",
    "    x_train = x_train.reindex(sorted(x_test.columns), axis=1)\n",
    "    return x_train, x_test, y_train, y_test"
   ]
  },
  {
   "cell_type": "code",
   "execution_count": null,
   "metadata": {},
   "outputs": [],
   "source": [
    "int_rate: 25.972716175084315\n",
    "dti: 11.031957842542475\n",
    "annual_inc: 8.472242449932239\n",
    "sub_grade: 6.462579401078634\n",
    "total_acc: 6.1212014051391215\n",
    "installment: 6.034723638012342\n",
    "revol_util: 6.0337568882955335\n",
    "tot_cur_bal: 5.1400669982907035\n",
    "term: 4.536905142706872\n",
    "revol_bal: 3.4909984431866565\n",
    "loan_amnt: 2.8725740327126212\n",
    "open_acc: 2.726149596281768\n",
    "total_rev_hi_lim: 2.702060545235106\n",
    "initial_list_status: 2.304980919731754\n",
    "tot_coll_amt: 1.9502617844433556\n",
    "purpose: 1.8085408452516178\n",
    "inq_last_6mths: 1.58969784576102\n",
    "home_ownership: 0.7485860463138752\n",
    "verification_status: 0.0"
   ]
  },
  {
   "cell_type": "code",
   "execution_count": 352,
   "metadata": {},
   "outputs": [
    {
     "data": {
      "text/html": [
       "<div>\n",
       "<style scoped>\n",
       "    .dataframe tbody tr th:only-of-type {\n",
       "        vertical-align: middle;\n",
       "    }\n",
       "\n",
       "    .dataframe tbody tr th {\n",
       "        vertical-align: top;\n",
       "    }\n",
       "\n",
       "    .dataframe thead th {\n",
       "        text-align: right;\n",
       "    }\n",
       "</style>\n",
       "<table border=\"1\" class=\"dataframe\">\n",
       "  <thead>\n",
       "    <tr style=\"text-align: right;\">\n",
       "      <th></th>\n",
       "      <th>total_rev_hi_lim</th>\n",
       "      <th>inq_last_6mths</th>\n",
       "      <th>int_rate</th>\n",
       "    </tr>\n",
       "  </thead>\n",
       "  <tbody>\n",
       "    <tr>\n",
       "      <th>0</th>\n",
       "      <td>2.0500</td>\n",
       "      <td>1.0</td>\n",
       "      <td>1.199</td>\n",
       "    </tr>\n",
       "    <tr>\n",
       "      <th>1</th>\n",
       "      <td>1.4200</td>\n",
       "      <td>0.0</td>\n",
       "      <td>0.603</td>\n",
       "    </tr>\n",
       "    <tr>\n",
       "      <th>2</th>\n",
       "      <td>1.9448</td>\n",
       "      <td>0.0</td>\n",
       "      <td>1.114</td>\n",
       "    </tr>\n",
       "    <tr>\n",
       "      <th>3</th>\n",
       "      <td>1.4500</td>\n",
       "      <td>0.0</td>\n",
       "      <td>1.333</td>\n",
       "    </tr>\n",
       "    <tr>\n",
       "      <th>4</th>\n",
       "      <td>0.0000</td>\n",
       "      <td>0.0</td>\n",
       "      <td>1.269</td>\n",
       "    </tr>\n",
       "  </tbody>\n",
       "</table>\n",
       "</div>"
      ],
      "text/plain": [
       "   total_rev_hi_lim  inq_last_6mths  int_rate\n",
       "0            2.0500             1.0     1.199\n",
       "1            1.4200             0.0     0.603\n",
       "2            1.9448             0.0     1.114\n",
       "3            1.4500             0.0     1.333\n",
       "4            0.0000             0.0     1.269"
      ]
     },
     "execution_count": 352,
     "metadata": {},
     "output_type": "execute_result"
    }
   ],
   "source": [
    "x =  train.loc[:,['total_rev_hi_lim','inq_last_6mths','int_rate']]\n",
    "x['total_rev_hi_lim'] = x['total_rev_hi_lim'].fillna(0)\n",
    "x['total_rev_hi_lim'] = x['total_rev_hi_lim']/10000\n",
    "x['int_rate'] = x['int_rate']/10\n",
    "# x['sub_grade'] = x['sub_grade'].astype('str').map(lambda x: (ord(x[0])*10 + int(x[1]))/100)\n",
    "x.head()"
   ]
  },
  {
   "cell_type": "code",
   "execution_count": 353,
   "metadata": {},
   "outputs": [
    {
     "name": "stdout",
     "output_type": "stream",
     "text": [
      "<class 'pandas.core.frame.DataFrame'>\n",
      "RangeIndex: 200189 entries, 0 to 200188\n",
      "Data columns (total 3 columns):\n",
      "total_rev_hi_lim    200189 non-null float64\n",
      "inq_last_6mths      200189 non-null float64\n",
      "int_rate            200189 non-null float64\n",
      "dtypes: float64(3)\n",
      "memory usage: 4.6 MB\n"
     ]
    }
   ],
   "source": [
    "x.info()"
   ]
  },
  {
   "cell_type": "code",
   "execution_count": 354,
   "metadata": {},
   "outputs": [
    {
     "name": "stdout",
     "output_type": "stream",
     "text": [
      "<class 'pandas.core.frame.DataFrame'>\n",
      "RangeIndex: 200189 entries, 0 to 200188\n",
      "Data columns (total 3 columns):\n",
      "total_rev_hi_lim    200189 non-null float64\n",
      "inq_last_6mths      200189 non-null float64\n",
      "int_rate            200189 non-null float64\n",
      "dtypes: float64(3)\n",
      "memory usage: 4.6 MB\n"
     ]
    }
   ],
   "source": [
    "x.info()"
   ]
  },
  {
   "cell_type": "markdown",
   "metadata": {},
   "source": [
    "## K-means"
   ]
  },
  {
   "cell_type": "code",
   "execution_count": 355,
   "metadata": {},
   "outputs": [],
   "source": [
    "from sklearn.cluster import KMeans"
   ]
  },
  {
   "cell_type": "code",
   "execution_count": 356,
   "metadata": {},
   "outputs": [],
   "source": [
    "kmeans = KMeans(n_clusters=5, random_state=42, n_jobs = -1, init = 'random').fit(x)"
   ]
  },
  {
   "cell_type": "code",
   "execution_count": 357,
   "metadata": {},
   "outputs": [
    {
     "data": {
      "text/plain": [
       "array([3, 3, 3, ..., 4, 3, 2])"
      ]
     },
     "execution_count": 357,
     "metadata": {},
     "output_type": "execute_result"
    }
   ],
   "source": [
    "kmeans.labels_"
   ]
  },
  {
   "cell_type": "code",
   "execution_count": null,
   "metadata": {},
   "outputs": [],
   "source": [
    "y_kmeans = kmeans.fit_predict(x)"
   ]
  },
  {
   "cell_type": "code",
   "execution_count": null,
   "metadata": {},
   "outputs": [],
   "source": [
    "kmeans.cluster_centers_"
   ]
  },
  {
   "cell_type": "code",
   "execution_count": null,
   "metadata": {},
   "outputs": [],
   "source": [
    "col = list(x.columns)"
   ]
  },
  {
   "cell_type": "code",
   "execution_count": null,
   "metadata": {},
   "outputs": [],
   "source": [
    "#Visualising the clusters\n",
    "plt.scatter(x[y_kmeans == 0][col[0]], x[y_kmeans == 0][col[1]], s = 100, c = 'red', label = 'Cluster 0')\n",
    "plt.scatter(x[y_kmeans == 1][col[0]], x[y_kmeans == 1][col[1]], s = 100, c = 'blue', label = 'Cluster 1')\n",
    "plt.scatter(x[y_kmeans == 2][col[0]], x[y_kmeans == 2][col[1]], s = 100, c = 'green',label = 'Cluster 2')\n",
    "plt.scatter(x[y_kmeans == 3][col[0]], x[y_kmeans == 3][col[1]], s = 100, c = 'orange',label = 'Cluster 3')\n",
    "plt.scatter(x[y_kmeans == 4][col[0]], x[y_kmeans == 4][col[1]], s = 100, c = 'cyan',label = 'Cluster 4')\n",
    "plt.xlabel(col[0])\n",
    "plt.ylabel(col[1])\n",
    "plt.legend()"
   ]
  },
  {
   "cell_type": "code",
   "execution_count": null,
   "metadata": {},
   "outputs": [],
   "source": [
    "#Visualising the clusters\n",
    "plt.scatter(x[y_kmeans == 0][col[0]], x[y_kmeans == 0][col[2]], s = 100, c = 'red', label = 'Cluster 0')\n",
    "plt.scatter(x[y_kmeans == 1][col[0]], x[y_kmeans == 1][col[2]], s = 100, c = 'blue', label = 'Cluster 1')\n",
    "plt.scatter(x[y_kmeans == 2][col[0]], x[y_kmeans == 2][col[2]], s = 100, c = 'green',label = 'Cluster 2')\n",
    "plt.scatter(x[y_kmeans == 3][col[0]], x[y_kmeans == 3][col[2]], s = 100, c = 'orange',label = 'Cluster 3')\n",
    "plt.scatter(x[y_kmeans == 4][col[0]], x[y_kmeans == 4][col[2]], s = 100, c = 'cyan',label = 'Cluster 4')\n",
    "plt.xlabel(col[0])\n",
    "plt.ylabel(col[2])\n",
    "plt.legend()"
   ]
  },
  {
   "cell_type": "code",
   "execution_count": null,
   "metadata": {},
   "outputs": [],
   "source": [
    "#Visualising the clusters\n",
    "plt.scatter(x[y_kmeans == 0][col[1]], x[y_kmeans == 0][col[2]], s = 100, c = 'red', label = 'Cluster 0')\n",
    "plt.scatter(x[y_kmeans == 1][col[1]], x[y_kmeans == 1][col[2]], s = 100, c = 'blue', label = 'Cluster 1')\n",
    "plt.scatter(x[y_kmeans == 2][col[1]], x[y_kmeans == 2][col[2]], s = 100, c = 'green',label = 'Cluster 2')\n",
    "plt.scatter(x[y_kmeans == 3][col[1]], x[y_kmeans == 3][col[2]], s = 100, c = 'orange',label = 'Cluster 3')\n",
    "plt.scatter(x[y_kmeans == 4][col[1]], x[y_kmeans == 4][col[2]], s = 100, c = 'cyan',label = 'Cluster 4')\n",
    "plt.xlabel(col[1])\n",
    "plt.ylabel(col[2])\n",
    "plt.legend()"
   ]
  },
  {
   "cell_type": "code",
   "execution_count": null,
   "metadata": {},
   "outputs": [],
   "source": [
    "from mpl_toolkits.mplot3d import Axes3D"
   ]
  },
  {
   "cell_type": "code",
   "execution_count": null,
   "metadata": {},
   "outputs": [],
   "source": [
    "fig = plt.figure()\n",
    "ax = Axes3D(fig)\n",
    "\n",
    "# For each set of style and range settings, plot n random points in the box\n",
    "# defined by x in [23, 32], y in [0, 100], z in [zlow, zhigh].\n",
    "for i,c, m  in [(0,'red', 'o'), (1,'blue', '^'),(2,'green', '*'),(3,'orange', 'o'),(4,'cyan', 'o')]:\n",
    "    xs = x[y_kmeans == i][col[0]]\n",
    "    ys = x[y_kmeans == i][col[1]]\n",
    "    zs = x[y_kmeans == i][col[2]]\n",
    "    ax.scatter(xs, ys, zs, c=c, marker=m)\n",
    "\n",
    "ax.set_xlabel(col[0])\n",
    "ax.set_ylabel(col[1])\n",
    "ax.set_zlabel(col[2])\n",
    "\n",
    "plt.show()"
   ]
  },
  {
   "cell_type": "markdown",
   "metadata": {},
   "source": [
    "## EM"
   ]
  },
  {
   "cell_type": "code",
   "execution_count": null,
   "metadata": {},
   "outputs": [],
   "source": [
    "from sklearn.mixture import GaussianMixture"
   ]
  },
  {
   "cell_type": "code",
   "execution_count": null,
   "metadata": {},
   "outputs": [],
   "source": [
    "db = GaussianMixture(n_components = 5).fit(x)"
   ]
  },
  {
   "cell_type": "code",
   "execution_count": null,
   "metadata": {},
   "outputs": [],
   "source": [
    "y_kmeans = db.fit_predict(x)"
   ]
  },
  {
   "cell_type": "code",
   "execution_count": null,
   "metadata": {},
   "outputs": [],
   "source": [
    "col = list(x.columns)"
   ]
  },
  {
   "cell_type": "code",
   "execution_count": null,
   "metadata": {},
   "outputs": [],
   "source": [
    "#Visualising the clusters\n",
    "plt.scatter(x[y_kmeans == 0][col[0]], x[y_kmeans == 0][col[1]], s = 100, c = 'red', label = 'Cluster 0')\n",
    "plt.scatter(x[y_kmeans == 1][col[0]], x[y_kmeans == 1][col[1]], s = 100, c = 'blue', label = 'Cluster 1')\n",
    "plt.scatter(x[y_kmeans == 2][col[0]], x[y_kmeans == 2][col[1]], s = 100, c = 'green',label = 'Cluster 2')\n",
    "plt.scatter(x[y_kmeans == 3][col[0]], x[y_kmeans == 3][col[1]], s = 100, c = 'orange',label = 'Cluster 3')\n",
    "plt.scatter(x[y_kmeans == 4][col[0]], x[y_kmeans == 4][col[1]], s = 100, c = 'cyan',label = 'Cluster 4')\n",
    "plt.xlabel(col[0])\n",
    "plt.ylabel(col[1])\n",
    "plt.legend()"
   ]
  },
  {
   "cell_type": "code",
   "execution_count": null,
   "metadata": {},
   "outputs": [],
   "source": [
    "#Visualising the clusters\n",
    "plt.scatter(x[y_kmeans == 0][col[0]], x[y_kmeans == 0][col[2]], s = 100, c = 'red', label = 'Cluster 0')\n",
    "plt.scatter(x[y_kmeans == 1][col[0]], x[y_kmeans == 1][col[2]], s = 100, c = 'blue', label = 'Cluster 1')\n",
    "plt.scatter(x[y_kmeans == 2][col[0]], x[y_kmeans == 2][col[2]], s = 100, c = 'green',label = 'Cluster 2')\n",
    "plt.scatter(x[y_kmeans == 3][col[0]], x[y_kmeans == 3][col[2]], s = 100, c = 'orange',label = 'Cluster 3')\n",
    "plt.scatter(x[y_kmeans == 4][col[0]], x[y_kmeans == 4][col[2]], s = 100, c = 'cyan',label = 'Cluster 4')\n",
    "plt.xlabel(col[0])\n",
    "plt.ylabel(col[2])\n",
    "plt.legend()"
   ]
  },
  {
   "cell_type": "code",
   "execution_count": null,
   "metadata": {},
   "outputs": [],
   "source": [
    "#Visualising the clusters\n",
    "plt.scatter(x[y_kmeans == 0][col[1]], x[y_kmeans == 0][col[2]], s = 100, c = 'red', label = 'Cluster 0')\n",
    "plt.scatter(x[y_kmeans == 1][col[1]], x[y_kmeans == 1][col[2]], s = 100, c = 'blue', label = 'Cluster 1')\n",
    "plt.scatter(x[y_kmeans == 2][col[1]], x[y_kmeans == 2][col[2]], s = 100, c = 'green',label = 'Cluster 2')\n",
    "plt.scatter(x[y_kmeans == 3][col[1]], x[y_kmeans == 3][col[2]], s = 100, c = 'orange',label = 'Cluster 3')\n",
    "plt.scatter(x[y_kmeans == 4][col[1]], x[y_kmeans == 4][col[2]], s = 100, c = 'cyan',label = 'Cluster 4')\n",
    "plt.xlabel(col[1])\n",
    "plt.ylabel(col[2])\n",
    "plt.legend()"
   ]
  },
  {
   "cell_type": "code",
   "execution_count": null,
   "metadata": {},
   "outputs": [],
   "source": [
    "from mpl_toolkits.mplot3d import Axes3D"
   ]
  },
  {
   "cell_type": "code",
   "execution_count": null,
   "metadata": {},
   "outputs": [],
   "source": [
    "fig = plt.figure()\n",
    "ax = Axes3D(fig)\n",
    "\n",
    "# For each set of style and range settings, plot n random points in the box\n",
    "# defined by x in [23, 32], y in [0, 100], z in [zlow, zhigh].\n",
    "for i,c, m  in [(0,'red', 'o'), (1,'blue', '^'),(2,'green', '*'),(3,'orange', 'o'),(4,'cyan', 'o')]:\n",
    "    xs = x[y_kmeans == i][col[0]]\n",
    "    ys = x[y_kmeans == i][col[1]]\n",
    "    zs = x[y_kmeans == i][col[2]]\n",
    "    ax.scatter(xs, ys, zs, c=c, marker=m)\n",
    "\n",
    "ax.set_xlabel(col[0])\n",
    "ax.set_ylabel(col[1])\n",
    "ax.set_zlabel(col[2])\n",
    "\n",
    "plt.show()"
   ]
  }
 ],
 "metadata": {
  "kernelspec": {
   "display_name": "Python 3",
   "language": "python",
   "name": "python3"
  },
  "language_info": {
   "codemirror_mode": {
    "name": "ipython",
    "version": 3
   },
   "file_extension": ".py",
   "mimetype": "text/x-python",
   "name": "python",
   "nbconvert_exporter": "python",
   "pygments_lexer": "ipython3",
   "version": "3.7.2"
  }
 },
 "nbformat": 4,
 "nbformat_minor": 2
}
